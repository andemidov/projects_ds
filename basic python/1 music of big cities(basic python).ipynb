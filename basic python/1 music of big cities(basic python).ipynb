{
 "cells": [
  {
   "cell_type": "markdown",
   "metadata": {
    "id": "E0vqbgi9ay0H"
   },
   "source": [
    "# Яндекс.Музыка"
   ]
  },
  {
   "cell_type": "markdown",
   "metadata": {
    "id": "VUC88oWjTJw2"
   },
   "source": [
    "Сравнение Москвы и Петербурга окружено мифами. Например:\n",
    " * Москва — мегаполис, подчинённый жёсткому ритму рабочей недели;\n",
    " * Петербург — культурная столица, со своими вкусами.\n",
    "\n",
    "На данных Яндекс.Музыки вы сравните поведение пользователей двух столиц.\n",
    "\n",
    "**Цель исследования** — проверьте три гипотезы:\n",
    "1. Активность пользователей зависит от дня недели. Причём в Москве и Петербурге это проявляется по-разному.\n",
    "2. В понедельник утром в Москве преобладают одни жанры, а в Петербурге — другие. Так же и вечером пятницы преобладают разные жанры — в зависимости от города. \n",
    "3. Москва и Петербург предпочитают разные жанры музыки. В Москве чаще слушают поп-музыку, в Петербурге — русский рэп.\n",
    "\n",
    "**Ход исследования**\n",
    "\n",
    "Данные о поведении пользователей вы получите из файла `yandex_music_project.csv`. О качестве данных ничего не известно. Поэтому перед проверкой гипотез понадобится обзор данных. \n",
    "\n",
    "Вы проверите данные на ошибки и оцените их влияние на исследование. Затем, на этапе предобработки вы поищете возможность исправить самые критичные ошибки данных.\n",
    " \n",
    "Таким образом, исследование пройдёт в три этапа:\n",
    " 1. Обзор данных.\n",
    " 2. Предобработка данных.\n",
    " 3. Проверка гипотез.\n",
    "\n"
   ]
  },
  {
   "cell_type": "markdown",
   "metadata": {
    "id": "Ml1hmfXC_Zcs"
   },
   "source": [
    "## Обзор данных\n",
    "\n",
    "Составьте первое представление о данных Яндекс.Музыки.\n",
    "\n",
    "\n"
   ]
  },
  {
   "cell_type": "markdown",
   "metadata": {
    "id": "57eAOGIz_Zcs"
   },
   "source": [
    "Основной инструмент аналитика — `pandas`. Импортируйте эту библиотеку."
   ]
  },
  {
   "cell_type": "code",
   "execution_count": 190,
   "metadata": {
    "id": "AXN7PHPN_Zcs"
   },
   "outputs": [],
   "source": [
    "import pandas as pd# импорт библиотеки pandas"
   ]
  },
  {
   "cell_type": "markdown",
   "metadata": {
    "id": "SG23P8tt_Zcs"
   },
   "source": [
    "Прочитайте файл `yandex_music_project.csv` из папки `/datasets` и сохраните его в переменной `df`:"
   ]
  },
  {
   "cell_type": "code",
   "execution_count": 191,
   "metadata": {
    "id": "fFVu7vqh_Zct"
   },
   "outputs": [],
   "source": [
    "df = pd.read_csv('/datasets/yandex_music_project.csv')# чтение файла с данными и сохранение в df"
   ]
  },
  {
   "cell_type": "markdown",
   "metadata": {
    "id": "rDoOMd3uTqnZ"
   },
   "source": [
    "Выведите на экран первые десять строк таблицы:"
   ]
  },
  {
   "cell_type": "code",
   "execution_count": 192,
   "metadata": {
    "id": "oWTVX3gW_Zct"
   },
   "outputs": [
    {
     "data": {
      "text/html": [
       "<div>\n",
       "<style scoped>\n",
       "    .dataframe tbody tr th:only-of-type {\n",
       "        vertical-align: middle;\n",
       "    }\n",
       "\n",
       "    .dataframe tbody tr th {\n",
       "        vertical-align: top;\n",
       "    }\n",
       "\n",
       "    .dataframe thead th {\n",
       "        text-align: right;\n",
       "    }\n",
       "</style>\n",
       "<table border=\"1\" class=\"dataframe\">\n",
       "  <thead>\n",
       "    <tr style=\"text-align: right;\">\n",
       "      <th></th>\n",
       "      <th>userID</th>\n",
       "      <th>Track</th>\n",
       "      <th>artist</th>\n",
       "      <th>genre</th>\n",
       "      <th>City</th>\n",
       "      <th>time</th>\n",
       "      <th>Day</th>\n",
       "    </tr>\n",
       "  </thead>\n",
       "  <tbody>\n",
       "    <tr>\n",
       "      <th>0</th>\n",
       "      <td>FFB692EC</td>\n",
       "      <td>Kamigata To Boots</td>\n",
       "      <td>The Mass Missile</td>\n",
       "      <td>rock</td>\n",
       "      <td>Saint-Petersburg</td>\n",
       "      <td>20:28:33</td>\n",
       "      <td>Wednesday</td>\n",
       "    </tr>\n",
       "    <tr>\n",
       "      <th>1</th>\n",
       "      <td>55204538</td>\n",
       "      <td>Delayed Because of Accident</td>\n",
       "      <td>Andreas Rönnberg</td>\n",
       "      <td>rock</td>\n",
       "      <td>Moscow</td>\n",
       "      <td>14:07:09</td>\n",
       "      <td>Friday</td>\n",
       "    </tr>\n",
       "    <tr>\n",
       "      <th>2</th>\n",
       "      <td>20EC38</td>\n",
       "      <td>Funiculì funiculà</td>\n",
       "      <td>Mario Lanza</td>\n",
       "      <td>pop</td>\n",
       "      <td>Saint-Petersburg</td>\n",
       "      <td>20:58:07</td>\n",
       "      <td>Wednesday</td>\n",
       "    </tr>\n",
       "    <tr>\n",
       "      <th>3</th>\n",
       "      <td>A3DD03C9</td>\n",
       "      <td>Dragons in the Sunset</td>\n",
       "      <td>Fire + Ice</td>\n",
       "      <td>folk</td>\n",
       "      <td>Saint-Petersburg</td>\n",
       "      <td>08:37:09</td>\n",
       "      <td>Monday</td>\n",
       "    </tr>\n",
       "    <tr>\n",
       "      <th>4</th>\n",
       "      <td>E2DC1FAE</td>\n",
       "      <td>Soul People</td>\n",
       "      <td>Space Echo</td>\n",
       "      <td>dance</td>\n",
       "      <td>Moscow</td>\n",
       "      <td>08:34:34</td>\n",
       "      <td>Monday</td>\n",
       "    </tr>\n",
       "    <tr>\n",
       "      <th>5</th>\n",
       "      <td>842029A1</td>\n",
       "      <td>Преданная</td>\n",
       "      <td>IMPERVTOR</td>\n",
       "      <td>rusrap</td>\n",
       "      <td>Saint-Petersburg</td>\n",
       "      <td>13:09:41</td>\n",
       "      <td>Friday</td>\n",
       "    </tr>\n",
       "    <tr>\n",
       "      <th>6</th>\n",
       "      <td>4CB90AA5</td>\n",
       "      <td>True</td>\n",
       "      <td>Roman Messer</td>\n",
       "      <td>dance</td>\n",
       "      <td>Moscow</td>\n",
       "      <td>13:00:07</td>\n",
       "      <td>Wednesday</td>\n",
       "    </tr>\n",
       "    <tr>\n",
       "      <th>7</th>\n",
       "      <td>F03E1C1F</td>\n",
       "      <td>Feeling This Way</td>\n",
       "      <td>Polina Griffith</td>\n",
       "      <td>dance</td>\n",
       "      <td>Moscow</td>\n",
       "      <td>20:47:49</td>\n",
       "      <td>Wednesday</td>\n",
       "    </tr>\n",
       "    <tr>\n",
       "      <th>8</th>\n",
       "      <td>8FA1D3BE</td>\n",
       "      <td>И вновь продолжается бой</td>\n",
       "      <td>NaN</td>\n",
       "      <td>ruspop</td>\n",
       "      <td>Moscow</td>\n",
       "      <td>09:17:40</td>\n",
       "      <td>Friday</td>\n",
       "    </tr>\n",
       "    <tr>\n",
       "      <th>9</th>\n",
       "      <td>E772D5C0</td>\n",
       "      <td>Pessimist</td>\n",
       "      <td>NaN</td>\n",
       "      <td>dance</td>\n",
       "      <td>Saint-Petersburg</td>\n",
       "      <td>21:20:49</td>\n",
       "      <td>Wednesday</td>\n",
       "    </tr>\n",
       "  </tbody>\n",
       "</table>\n",
       "</div>"
      ],
      "text/plain": [
       "     userID                        Track            artist   genre  \\\n",
       "0  FFB692EC            Kamigata To Boots  The Mass Missile    rock   \n",
       "1  55204538  Delayed Because of Accident  Andreas Rönnberg    rock   \n",
       "2    20EC38            Funiculì funiculà       Mario Lanza     pop   \n",
       "3  A3DD03C9        Dragons in the Sunset        Fire + Ice    folk   \n",
       "4  E2DC1FAE                  Soul People        Space Echo   dance   \n",
       "5  842029A1                    Преданная         IMPERVTOR  rusrap   \n",
       "6  4CB90AA5                         True      Roman Messer   dance   \n",
       "7  F03E1C1F             Feeling This Way   Polina Griffith   dance   \n",
       "8  8FA1D3BE     И вновь продолжается бой               NaN  ruspop   \n",
       "9  E772D5C0                    Pessimist               NaN   dance   \n",
       "\n",
       "             City        time        Day  \n",
       "0  Saint-Petersburg  20:28:33  Wednesday  \n",
       "1            Moscow  14:07:09     Friday  \n",
       "2  Saint-Petersburg  20:58:07  Wednesday  \n",
       "3  Saint-Petersburg  08:37:09     Monday  \n",
       "4            Moscow  08:34:34     Monday  \n",
       "5  Saint-Petersburg  13:09:41     Friday  \n",
       "6            Moscow  13:00:07  Wednesday  \n",
       "7            Moscow  20:47:49  Wednesday  \n",
       "8            Moscow  09:17:40     Friday  \n",
       "9  Saint-Petersburg  21:20:49  Wednesday  "
      ]
     },
     "execution_count": 192,
     "metadata": {},
     "output_type": "execute_result"
    }
   ],
   "source": [
    "df.head(10)# получение первых 10 строк таблицы df"
   ]
  },
  {
   "cell_type": "markdown",
   "metadata": {
    "id": "EO73Kwic_Zct"
   },
   "source": [
    "Одной командой получить общую информацию о таблице:"
   ]
  },
  {
   "cell_type": "code",
   "execution_count": 193,
   "metadata": {
    "id": "DSf2kIb-_Zct"
   },
   "outputs": [
    {
     "name": "stdout",
     "output_type": "stream",
     "text": [
      "<class 'pandas.core.frame.DataFrame'>\n",
      "RangeIndex: 65079 entries, 0 to 65078\n",
      "Data columns (total 7 columns):\n",
      " #   Column    Non-Null Count  Dtype \n",
      "---  ------    --------------  ----- \n",
      " 0     userID  65079 non-null  object\n",
      " 1   Track     63848 non-null  object\n",
      " 2   artist    57876 non-null  object\n",
      " 3   genre     63881 non-null  object\n",
      " 4     City    65079 non-null  object\n",
      " 5   time      65079 non-null  object\n",
      " 6   Day       65079 non-null  object\n",
      "dtypes: object(7)\n",
      "memory usage: 3.5+ MB\n"
     ]
    }
   ],
   "source": [
    "df.info()# получение общей информации о данных в таблице df"
   ]
  },
  {
   "cell_type": "markdown",
   "metadata": {
    "id": "TaQ2Iwbr_Zct"
   },
   "source": [
    "Итак, в таблице семь столбцов. Тип данных во всех столбцах — `object`.\n",
    "\n",
    "Согласно документации к данным:\n",
    "* `userID` — идентификатор пользователя;\n",
    "* `Track` — название трека;  \n",
    "* `artist` — имя исполнителя;\n",
    "* `genre` — название жанра;\n",
    "* `City` — город пользователя;\n",
    "* `time` — время начала прослушивания;\n",
    "* `Day` — день недели.\n",
    "\n",
    "В названиях колонок видны три нарушения стиля:\n",
    "1. Строчные буквы сочетаются с прописными.\n",
    "2. Встречаются пробелы.\n",
    "3. Не сипользуется змеиный регистр.\n",
    "\n",
    "\n",
    "Количество значений в столбцах различается. Значит, в данных есть пропущенные значения.\n"
   ]
  },
  {
   "cell_type": "markdown",
   "metadata": {
    "id": "MCB6-dXG_Zct"
   },
   "source": [
    "**Выводы**\n",
    "\n",
    "В каждой строке таблицы — данные о прослушанном треке. Часть колонок описывает саму композицию: название, исполнителя и жанр. Остальные данные рассказывают о пользователе: из какого он города, когда он слушал музыку. \n",
    "\n",
    "Предварительно можно утверждать, что, данных достаточно для проверки гипотез. Но встречаются пропуски в данных, а в названиях колонок — расхождения с хорошим стилем.\n",
    "\n",
    "Чтобы двигаться дальше, нужно устранить проблемы в данных."
   ]
  },
  {
   "cell_type": "markdown",
   "metadata": {
    "id": "SjYF6Ub9_Zct"
   },
   "source": [
    "## Предобработка данных\n",
    "Исправьте стиль в заголовках столбцов, исключите пропуски. Затем проверьте данные на дубликаты."
   ]
  },
  {
   "cell_type": "markdown",
   "metadata": {
    "id": "dIaKXr29_Zct"
   },
   "source": [
    "### Стиль заголовков\n",
    "Выведите на экран названия столбцов:"
   ]
  },
  {
   "cell_type": "code",
   "execution_count": 194,
   "metadata": {
    "id": "oKOTdF_Q_Zct"
   },
   "outputs": [
    {
     "data": {
      "text/plain": [
       "Index(['  userID', 'Track', 'artist', 'genre', '  City  ', 'time', 'Day'], dtype='object')"
      ]
     },
     "execution_count": 194,
     "metadata": {},
     "output_type": "execute_result"
    }
   ],
   "source": [
    "df.columns# перечень названий столбцов таблицы df"
   ]
  },
  {
   "cell_type": "markdown",
   "metadata": {
    "id": "zj5534cv_Zct"
   },
   "source": [
    "Приведите названия в соответствие с хорошим стилем:\n",
    "* несколько слов в названии запишите в «змеином_регистре»,\n",
    "* все символы сделайте строчными,\n",
    "* устраните пробелы.\n",
    "\n",
    "Для этого переименуйте колонки так:\n",
    "* `'  userID'` → `'user_id'`;\n",
    "* `'Track'` → `'track'`;\n",
    "* `'  City  '` → `'city'`;\n",
    "* `'Day'` → `'day'`."
   ]
  },
  {
   "cell_type": "code",
   "execution_count": 195,
   "metadata": {
    "id": "ISlFqs5y_Zct"
   },
   "outputs": [],
   "source": [
    "# переименование столбцов\n",
    "df = df.rename(columns = {\n",
    "           '  userID' : 'user_id',\n",
    "           'Track' : 'track',\n",
    "           '  City  ' : 'city',\n",
    "           'Day' : 'day',\n",
    "          }\n",
    ")"
   ]
  },
  {
   "cell_type": "markdown",
   "metadata": {
    "id": "1dqbh00J_Zct"
   },
   "source": [
    "Проверьте результат. Для этого ещё раз выведите на экран названия столбцов:"
   ]
  },
  {
   "cell_type": "code",
   "execution_count": 196,
   "metadata": {
    "id": "d4NOAmTW_Zct"
   },
   "outputs": [
    {
     "data": {
      "text/plain": [
       "Index(['user_id', 'track', 'artist', 'genre', 'city', 'time', 'day'], dtype='object')"
      ]
     },
     "execution_count": 196,
     "metadata": {},
     "output_type": "execute_result"
    }
   ],
   "source": [
    "df.columns# проверка результатов - перечень названий столбцов"
   ]
  },
  {
   "cell_type": "markdown",
   "metadata": {
    "id": "5ISfbcfY_Zct"
   },
   "source": [
    "### Пропуски значений\n",
    "Сначала посчитайте, сколько в таблице пропущенных значений. Для этого достаточно двух методов `pandas`:"
   ]
  },
  {
   "cell_type": "code",
   "execution_count": 197,
   "metadata": {
    "id": "RskX29qr_Zct"
   },
   "outputs": [
    {
     "data": {
      "text/plain": [
       "user_id       0\n",
       "track      1231\n",
       "artist     7203\n",
       "genre      1198\n",
       "city          0\n",
       "time          0\n",
       "day           0\n",
       "dtype: int64"
      ]
     },
     "execution_count": 197,
     "metadata": {},
     "output_type": "execute_result"
    }
   ],
   "source": [
    "df.isna().sum()# подсчёт пропусков"
   ]
  },
  {
   "cell_type": "markdown",
   "metadata": {
    "id": "qubhgnlO_Zct"
   },
   "source": [
    "\n",
    "\n",
    "Не все пропущенные значения влияют на исследование. Так в `track` и `artist` пропуски не важны для вашей работы. Достаточно заменить их явными обозначениями.\n",
    "\n",
    "Но пропуски в `genre` могут помешать сравнению музыкальных вкусов в Москве и Санкт-Петербурге. На практике было бы правильно установить причину пропусков и восстановить данные. Такой возможности нет в учебном проекте. Придётся:\n",
    "* заполнить и эти пропуски явными обозначениями,\n",
    "* оценить, насколько они повредят расчётам. "
   ]
  },
  {
   "cell_type": "markdown",
   "metadata": {
    "id": "fSv2laPA_Zct"
   },
   "source": [
    "Замените пропущенные значения в столбцах `track`, `artist` и `genre` на строку `'unknown'`. Для этого создайте список `columns_to_replace`, переберите его элементы циклом `for` и для каждого столбца выполните замену пропущенных значений:"
   ]
  },
  {
   "cell_type": "code",
   "execution_count": 198,
   "metadata": {
    "id": "KplB5qWs_Zct"
   },
   "outputs": [],
   "source": [
    "# перебор названий столбцов в цикле и замена пропущенных значений на 'unknown'\n",
    "columns_to_replace = ['track', 'artist', 'genre']\n",
    "for index in columns_to_replace:\n",
    "    df[index] = df[index].fillna('unknown')\n",
    "    "
   ]
  },
  {
   "cell_type": "markdown",
   "metadata": {
    "id": "Ilsm-MZo_Zct"
   },
   "source": [
    "Убедитесь, что в таблице не осталось пропусков. Для этого ещё раз посчитайте пропущенные значения."
   ]
  },
  {
   "cell_type": "code",
   "execution_count": 199,
   "metadata": {
    "id": "Tq4nYRX4_Zct"
   },
   "outputs": [
    {
     "data": {
      "text/plain": [
       "user_id    0\n",
       "track      0\n",
       "artist     0\n",
       "genre      0\n",
       "city       0\n",
       "time       0\n",
       "day        0\n",
       "dtype: int64"
      ]
     },
     "execution_count": 199,
     "metadata": {},
     "output_type": "execute_result"
    }
   ],
   "source": [
    "df.isna().sum()# подсчёт пропусков"
   ]
  },
  {
   "cell_type": "markdown",
   "metadata": {
    "id": "BWKRtBJ3_Zct"
   },
   "source": [
    "### Дубликаты\n",
    "Посчитайте явные дубликаты в таблице одной командой:"
   ]
  },
  {
   "cell_type": "code",
   "execution_count": 200,
   "metadata": {
    "id": "36eES_S0_Zct"
   },
   "outputs": [
    {
     "data": {
      "text/plain": [
       "3826"
      ]
     },
     "execution_count": 200,
     "metadata": {},
     "output_type": "execute_result"
    }
   ],
   "source": [
    "df.duplicated().sum()# подсчёт явных дубликатов"
   ]
  },
  {
   "cell_type": "markdown",
   "metadata": {
    "id": "Ot25h6XR_Zct"
   },
   "source": [
    "Вызовите специальный метод `pandas`, чтобы удалить явные дубликаты:"
   ]
  },
  {
   "cell_type": "code",
   "execution_count": 201,
   "metadata": {
    "id": "exFHq6tt_Zct"
   },
   "outputs": [],
   "source": [
    "df = df.drop_duplicates().reset_index(drop=True)# удаление явных дубликатов (с удалением старых индексов и формированием новых)\n"
   ]
  },
  {
   "cell_type": "markdown",
   "metadata": {
    "id": "Im2YwBEG_Zct"
   },
   "source": [
    "Ещё раз посчитайте явные дубликаты в таблице — убедитесь, что полностью от них избавились:"
   ]
  },
  {
   "cell_type": "code",
   "execution_count": 202,
   "metadata": {
    "id": "-8PuNWQ0_Zct"
   },
   "outputs": [
    {
     "data": {
      "text/plain": [
       "0"
      ]
     },
     "execution_count": 202,
     "metadata": {},
     "output_type": "execute_result"
    }
   ],
   "source": [
    "df.duplicated().sum()# проверка на отсутствие дубликатов"
   ]
  },
  {
   "cell_type": "markdown",
   "metadata": {
    "id": "QlFBsxAr_Zct"
   },
   "source": [
    "Теперь избавьтесь от неявных дубликатов в колонке `genre`. Например, название одного и того же жанра может быть записано немного по-разному. Такие ошибки тоже повлияют на результат исследования."
   ]
  },
  {
   "cell_type": "markdown",
   "metadata": {
    "id": "eSjWwsOh_Zct"
   },
   "source": [
    "Выведите на экран список уникальных названий жанров, отсортированный в алфавитном порядке. Для этого:\n",
    "* извлеките нужный столбец датафрейма, \n",
    "* примените к нему метод сортировки,\n",
    "* для отсортированного столбца вызовите метод, который вернёт уникальные значения из столбца."
   ]
  },
  {
   "cell_type": "code",
   "execution_count": 203,
   "metadata": {
    "id": "JIUcqzZN_Zct"
   },
   "outputs": [
    {
     "data": {
      "text/plain": [
       "array(['acid', 'acoustic', 'action', 'adult', 'africa', 'afrikaans',\n",
       "       'alternative', 'alternativepunk', 'ambient', 'americana',\n",
       "       'animated', 'anime', 'arabesk', 'arabic', 'arena',\n",
       "       'argentinetango', 'art', 'audiobook', 'author', 'avantgarde',\n",
       "       'axé', 'baile', 'balkan', 'beats', 'bigroom', 'black', 'bluegrass',\n",
       "       'blues', 'bollywood', 'bossa', 'brazilian', 'breakbeat', 'breaks',\n",
       "       'broadway', 'cantautori', 'cantopop', 'canzone', 'caribbean',\n",
       "       'caucasian', 'celtic', 'chamber', 'chanson', 'children', 'chill',\n",
       "       'chinese', 'choral', 'christian', 'christmas', 'classical',\n",
       "       'classicmetal', 'club', 'colombian', 'comedy', 'conjazz',\n",
       "       'contemporary', 'country', 'cuban', 'dance', 'dancehall',\n",
       "       'dancepop', 'dark', 'death', 'deep', 'deutschrock', 'deutschspr',\n",
       "       'dirty', 'disco', 'dnb', 'documentary', 'downbeat', 'downtempo',\n",
       "       'drum', 'dub', 'dubstep', 'eastern', 'easy', 'electronic',\n",
       "       'electropop', 'emo', 'entehno', 'epicmetal', 'estrada', 'ethnic',\n",
       "       'eurofolk', 'european', 'experimental', 'extrememetal', 'fado',\n",
       "       'fairytail', 'film', 'fitness', 'flamenco', 'folk', 'folklore',\n",
       "       'folkmetal', 'folkrock', 'folktronica', 'forró', 'frankreich',\n",
       "       'französisch', 'french', 'funk', 'future', 'gangsta', 'garage',\n",
       "       'german', 'ghazal', 'gitarre', 'glitch', 'gospel', 'gothic',\n",
       "       'grime', 'grunge', 'gypsy', 'handsup', \"hard'n'heavy\", 'hardcore',\n",
       "       'hardstyle', 'hardtechno', 'hip', 'hip-hop', 'hiphop',\n",
       "       'historisch', 'holiday', 'hop', 'horror', 'house', 'hymn', 'idm',\n",
       "       'independent', 'indian', 'indie', 'indipop', 'industrial',\n",
       "       'inspirational', 'instrumental', 'international', 'irish', 'jam',\n",
       "       'japanese', 'jazz', 'jewish', 'jpop', 'jungle', 'k-pop',\n",
       "       'karadeniz', 'karaoke', 'kayokyoku', 'korean', 'laiko', 'latin',\n",
       "       'latino', 'leftfield', 'local', 'lounge', 'loungeelectronic',\n",
       "       'lovers', 'malaysian', 'mandopop', 'marschmusik', 'meditative',\n",
       "       'mediterranean', 'melodic', 'metal', 'metalcore', 'mexican',\n",
       "       'middle', 'minimal', 'miscellaneous', 'modern', 'mood', 'mpb',\n",
       "       'muslim', 'native', 'neoklassik', 'neue', 'new', 'newage',\n",
       "       'newwave', 'nu', 'nujazz', 'numetal', 'oceania', 'old', 'opera',\n",
       "       'orchestral', 'other', 'piano', 'podcasts', 'pop', 'popdance',\n",
       "       'popelectronic', 'popeurodance', 'poprussian', 'post',\n",
       "       'posthardcore', 'postrock', 'power', 'progmetal', 'progressive',\n",
       "       'psychedelic', 'punjabi', 'punk', 'quebecois', 'ragga', 'ram',\n",
       "       'rancheras', 'rap', 'rave', 'reggae', 'reggaeton', 'regional',\n",
       "       'relax', 'religious', 'retro', 'rhythm', 'rnb', 'rnr', 'rock',\n",
       "       'rockabilly', 'rockalternative', 'rockindie', 'rockother',\n",
       "       'romance', 'roots', 'ruspop', 'rusrap', 'rusrock', 'russian',\n",
       "       'salsa', 'samba', 'scenic', 'schlager', 'self', 'sertanejo',\n",
       "       'shanson', 'shoegazing', 'showtunes', 'singer', 'ska', 'skarock',\n",
       "       'slow', 'smooth', 'soft', 'soul', 'soulful', 'sound', 'soundtrack',\n",
       "       'southern', 'specialty', 'speech', 'spiritual', 'sport',\n",
       "       'stonerrock', 'surf', 'swing', 'synthpop', 'synthrock',\n",
       "       'sängerportrait', 'tango', 'tanzorchester', 'taraftar', 'tatar',\n",
       "       'tech', 'techno', 'teen', 'thrash', 'top', 'traditional',\n",
       "       'tradjazz', 'trance', 'tribal', 'trip', 'triphop', 'tropical',\n",
       "       'türk', 'türkçe', 'ukrrock', 'unknown', 'urban', 'uzbek',\n",
       "       'variété', 'vi', 'videogame', 'vocal', 'western', 'world',\n",
       "       'worldbeat', 'ïîï', 'электроника'], dtype=object)"
      ]
     },
     "execution_count": 203,
     "metadata": {},
     "output_type": "execute_result"
    }
   ],
   "source": [
    "# Просмотр уникальных названий жанров\n",
    "\n",
    "#df['genre'].unique().sort_values(ascending=False)\n",
    "#'numpy.ndarray' object has no attribute 'sort_values'\n",
    "#решил с помощью numpy\n",
    "import numpy as np\n",
    "np.sort(df['genre'].unique())"
   ]
  },
  {
   "cell_type": "markdown",
   "metadata": {
    "id": "qej-Qmuo_Zct"
   },
   "source": [
    "Просмотрите список и найдите неявные дубликаты названия `hiphop`. Это могут быть названия с ошибками или альтернативные названия того же жанра.\n",
    "\n",
    "Вы увидите следующие неявные дубликаты:\n",
    "* *hip*,\n",
    "* *hop*,\n",
    "* *hip-hop*.\n",
    "\n",
    "Чтобы очистить от них таблицу, напишите функцию `replace_wrong_genres()` с двумя параметрами: \n",
    "* `wrong_genres` — список дубликатов,\n",
    "* `correct_genre` — строка с правильным значением.\n",
    "\n",
    "Функция должна исправить колонку `genre` в таблице `df`: заменить каждое значение из списка `wrong_genres` на значение из `correct_genre`."
   ]
  },
  {
   "cell_type": "code",
   "execution_count": 204,
   "metadata": {
    "id": "ErNDkmns_Zct"
   },
   "outputs": [],
   "source": [
    "# Функция для замены неявных дубликатов\n",
    "def replace_wrong_genres(wrong_genres,correct_genre):\n",
    "    for wrong_genre in wrong_genres:\n",
    "        df['genre'] = df['genre'].replace(wrong_genre,correct_genre)"
   ]
  },
  {
   "cell_type": "markdown",
   "metadata": {
    "id": "aDoBJxbA_Zct"
   },
   "source": [
    "Вызовите `replace_wrong_genres()` и передайте ей такие аргументы, чтобы она устранила неявные дубликаты: вместо `hip`, `hop` и `hip-hop` в таблице должно быть значение `hiphop`:"
   ]
  },
  {
   "cell_type": "code",
   "execution_count": 205,
   "metadata": {
    "id": "YN5i2hpmSo09"
   },
   "outputs": [],
   "source": [
    "# Устранение неявных дубликатов\n",
    "replace_wrong_genres(['hip', 'hop', 'hip-hop'], 'hiphop')"
   ]
  },
  {
   "cell_type": "markdown",
   "metadata": {
    "id": "zQKF16_RG15m"
   },
   "source": [
    "Проверьте, что заменили неправильные названия:\n",
    "\n",
    "*   hip\n",
    "*   hop\n",
    "*   hip-hop\n",
    "\n",
    "Выведите отсортированный список уникальных значений столбца `genre`:"
   ]
  },
  {
   "cell_type": "code",
   "execution_count": 206,
   "metadata": {
    "id": "wvixALnFG15m"
   },
   "outputs": [
    {
     "data": {
      "text/plain": [
       "array(['acid', 'acoustic', 'action', 'adult', 'africa', 'afrikaans',\n",
       "       'alternative', 'alternativepunk', 'ambient', 'americana',\n",
       "       'animated', 'anime', 'arabesk', 'arabic', 'arena',\n",
       "       'argentinetango', 'art', 'audiobook', 'author', 'avantgarde',\n",
       "       'axé', 'baile', 'balkan', 'beats', 'bigroom', 'black', 'bluegrass',\n",
       "       'blues', 'bollywood', 'bossa', 'brazilian', 'breakbeat', 'breaks',\n",
       "       'broadway', 'cantautori', 'cantopop', 'canzone', 'caribbean',\n",
       "       'caucasian', 'celtic', 'chamber', 'chanson', 'children', 'chill',\n",
       "       'chinese', 'choral', 'christian', 'christmas', 'classical',\n",
       "       'classicmetal', 'club', 'colombian', 'comedy', 'conjazz',\n",
       "       'contemporary', 'country', 'cuban', 'dance', 'dancehall',\n",
       "       'dancepop', 'dark', 'death', 'deep', 'deutschrock', 'deutschspr',\n",
       "       'dirty', 'disco', 'dnb', 'documentary', 'downbeat', 'downtempo',\n",
       "       'drum', 'dub', 'dubstep', 'eastern', 'easy', 'electronic',\n",
       "       'electropop', 'emo', 'entehno', 'epicmetal', 'estrada', 'ethnic',\n",
       "       'eurofolk', 'european', 'experimental', 'extrememetal', 'fado',\n",
       "       'fairytail', 'film', 'fitness', 'flamenco', 'folk', 'folklore',\n",
       "       'folkmetal', 'folkrock', 'folktronica', 'forró', 'frankreich',\n",
       "       'französisch', 'french', 'funk', 'future', 'gangsta', 'garage',\n",
       "       'german', 'ghazal', 'gitarre', 'glitch', 'gospel', 'gothic',\n",
       "       'grime', 'grunge', 'gypsy', 'handsup', \"hard'n'heavy\", 'hardcore',\n",
       "       'hardstyle', 'hardtechno', 'hiphop', 'historisch', 'holiday',\n",
       "       'horror', 'house', 'hymn', 'idm', 'independent', 'indian', 'indie',\n",
       "       'indipop', 'industrial', 'inspirational', 'instrumental',\n",
       "       'international', 'irish', 'jam', 'japanese', 'jazz', 'jewish',\n",
       "       'jpop', 'jungle', 'k-pop', 'karadeniz', 'karaoke', 'kayokyoku',\n",
       "       'korean', 'laiko', 'latin', 'latino', 'leftfield', 'local',\n",
       "       'lounge', 'loungeelectronic', 'lovers', 'malaysian', 'mandopop',\n",
       "       'marschmusik', 'meditative', 'mediterranean', 'melodic', 'metal',\n",
       "       'metalcore', 'mexican', 'middle', 'minimal', 'miscellaneous',\n",
       "       'modern', 'mood', 'mpb', 'muslim', 'native', 'neoklassik', 'neue',\n",
       "       'new', 'newage', 'newwave', 'nu', 'nujazz', 'numetal', 'oceania',\n",
       "       'old', 'opera', 'orchestral', 'other', 'piano', 'podcasts', 'pop',\n",
       "       'popdance', 'popelectronic', 'popeurodance', 'poprussian', 'post',\n",
       "       'posthardcore', 'postrock', 'power', 'progmetal', 'progressive',\n",
       "       'psychedelic', 'punjabi', 'punk', 'quebecois', 'ragga', 'ram',\n",
       "       'rancheras', 'rap', 'rave', 'reggae', 'reggaeton', 'regional',\n",
       "       'relax', 'religious', 'retro', 'rhythm', 'rnb', 'rnr', 'rock',\n",
       "       'rockabilly', 'rockalternative', 'rockindie', 'rockother',\n",
       "       'romance', 'roots', 'ruspop', 'rusrap', 'rusrock', 'russian',\n",
       "       'salsa', 'samba', 'scenic', 'schlager', 'self', 'sertanejo',\n",
       "       'shanson', 'shoegazing', 'showtunes', 'singer', 'ska', 'skarock',\n",
       "       'slow', 'smooth', 'soft', 'soul', 'soulful', 'sound', 'soundtrack',\n",
       "       'southern', 'specialty', 'speech', 'spiritual', 'sport',\n",
       "       'stonerrock', 'surf', 'swing', 'synthpop', 'synthrock',\n",
       "       'sängerportrait', 'tango', 'tanzorchester', 'taraftar', 'tatar',\n",
       "       'tech', 'techno', 'teen', 'thrash', 'top', 'traditional',\n",
       "       'tradjazz', 'trance', 'tribal', 'trip', 'triphop', 'tropical',\n",
       "       'türk', 'türkçe', 'ukrrock', 'unknown', 'urban', 'uzbek',\n",
       "       'variété', 'vi', 'videogame', 'vocal', 'western', 'world',\n",
       "       'worldbeat', 'ïîï', 'электроника'], dtype=object)"
      ]
     },
     "execution_count": 206,
     "metadata": {},
     "output_type": "execute_result"
    }
   ],
   "source": [
    "np.sort(df['genre'].unique())# Проверка на неявные дубликаты"
   ]
  },
  {
   "cell_type": "markdown",
   "metadata": {
    "id": "jz6a9-7HQUDd"
   },
   "source": [
    "**Выводы**\n",
    "\n",
    "Предобработка обнаружила три проблемы в данных:\n",
    "\n",
    "- нарушения в стиле заголовков,\n",
    "- пропущенные значения,\n",
    "- дубликаты — явные и неявные.\n",
    "\n",
    "Вы исправили заголовки, чтобы упростить работу с таблицей. Без дубликатов исследование станет более точным.\n",
    "\n",
    "Пропущенные значения вы заменили на `'unknown'`. Ещё предстоит увидеть, не повредят ли исследованию пропуски в колонке `genre`.\n",
    "\n",
    "Теперь можно перейти к проверке гипотез. "
   ]
  },
  {
   "cell_type": "markdown",
   "metadata": {
    "id": "WttZHXH0SqKk"
   },
   "source": [
    "## Проверка гипотез"
   ]
  },
  {
   "cell_type": "markdown",
   "metadata": {
    "id": "Im936VVi_Zcu"
   },
   "source": [
    "### Сравнение поведения пользователей двух столиц"
   ]
  },
  {
   "cell_type": "markdown",
   "metadata": {
    "id": "nwt_MuaL_Zcu"
   },
   "source": [
    "Первая гипотеза утверждает, что пользователи по-разному слушают музыку в Москве и Санкт-Петербурге. Проверьте это предположение по данным о трёх днях недели — понедельнике, среде и пятнице. Для этого:\n",
    "\n",
    "* Разделите пользователей Москвы и Санкт-Петербурга\n",
    "* Сравните, сколько треков послушала каждая группа пользователей в понедельник, среду и пятницу.\n"
   ]
  },
  {
   "cell_type": "markdown",
   "metadata": {
    "id": "8Dw_YMmT_Zcu"
   },
   "source": [
    "Для тренировки сначала выполните каждый из расчётов по отдельности. \n",
    "\n",
    "Оцените активность пользователей в каждом городе. Сгруппируйте данные по городу и посчитайте прослушивания в каждой группе.\n",
    "\n"
   ]
  },
  {
   "cell_type": "code",
   "execution_count": 207,
   "metadata": {
    "id": "0_Qs96oh_Zcu"
   },
   "outputs": [
    {
     "data": {
      "text/plain": [
       "city\n",
       "Moscow              42741\n",
       "Saint-Petersburg    18512\n",
       "Name: user_id, dtype: int64"
      ]
     },
     "execution_count": 207,
     "metadata": {},
     "output_type": "execute_result"
    }
   ],
   "source": [
    "# Подсчёт прослушиваний в каждом городе\n",
    "df.groupby('city')['user_id'].count()"
   ]
  },
  {
   "cell_type": "markdown",
   "metadata": {
    "id": "dzli3w8o_Zcu"
   },
   "source": [
    "В Москве прослушиваний больше, чем в Петербурге. Из этого не следует, что московские пользователи чаще слушают музыку. Просто самих пользователей в Москве больше.\n",
    "\n",
    "Теперь сгруппируйте данные по дню недели и подсчитайте прослушивания в понедельник, среду и пятницу. Учтите, что в данных есть информация о прослушиваниях только за эти дни.\n"
   ]
  },
  {
   "cell_type": "code",
   "execution_count": 208,
   "metadata": {
    "id": "uZMKjiJz_Zcu"
   },
   "outputs": [
    {
     "data": {
      "text/plain": [
       "day\n",
       "Friday       21840\n",
       "Monday       21354\n",
       "Wednesday    18059\n",
       "Name: city, dtype: int64"
      ]
     },
     "execution_count": 208,
     "metadata": {},
     "output_type": "execute_result"
    }
   ],
   "source": [
    "df.groupby('day')['city'].count()"
   ]
  },
  {
   "cell_type": "markdown",
   "metadata": {
    "id": "cC2tNrlL_Zcu"
   },
   "source": [
    "В среднем пользователи из двух городов менее активны по средам. Но картина может измениться, если рассмотреть каждый город в отдельности."
   ]
  },
  {
   "cell_type": "markdown",
   "metadata": {
    "id": "POzs8bGa_Zcu"
   },
   "source": [
    "Вы видели, как работает группировка по городу и по дням недели. Теперь напишите функцию, которая объединит два эти расчёта.\n",
    "\n",
    "Создайте функцию `number_tracks()`, которая посчитает прослушивания для заданного дня и города. Ей понадобятся два параметра:\n",
    "* день недели,\n",
    "* название города.\n",
    "\n",
    "В функции сохраните в переменную строки исходной таблицы, у которых значение:\n",
    "  * в колонке `day` равно параметру `day`,\n",
    "  * в колонке `city` равно параметру `city`.\n",
    "\n",
    "Для этого примените последовательную фильтрацию с логической индексацией.\n",
    "\n",
    "Затем посчитайте значения в столбце `user_id` получившейся таблицы. Результат сохраните в новую переменную. Верните эту переменную из функции."
   ]
  },
  {
   "cell_type": "code",
   "execution_count": 209,
   "metadata": {
    "id": "Nz3GdQB1_Zcu"
   },
   "outputs": [],
   "source": [
    "# <создание функции number_tracks()>\n",
    "# Объявляется функция с двумя параметрами: day, city.\n",
    "# В переменной track_list сохраняются те строки таблицы df, для которых \n",
    "# значение в столбце 'day' равно параметру day и одновременно значение\n",
    "# в столбце 'city' равно параметру city\n",
    "# В переменной track_list_count сохраняется число значений столбца 'user_id',\n",
    "# рассчитанное методом count() для таблицы track_list.\n",
    "# Функция возвращает число - значение track_list_count.\n",
    "# Функция для подсчёта прослушиваний для конкретного города и дня.\n",
    "# С помощью последовательной фильтрации с логической индексацией она \n",
    "# сначала получит из исходной таблицы строки с нужным днём,\n",
    "# затем из результата отфильтрует строки с нужным городом,\n",
    "# методом count() посчитает количество значений в колонке user_id. \n",
    "# Это количество функция вернёт в качестве результата    \n",
    "def number_tracks(day, city):\n",
    "    track_list = df[df['day'] == day]\n",
    "    track_list = track_list[track_list['city'] == city]\n",
    "    track_list_count = track_list['user_id'].count()\n",
    "    return track_list_count"
   ]
  },
  {
   "cell_type": "markdown",
   "metadata": {
    "id": "ytf7xFrFJQ2r"
   },
   "source": [
    "Вызовите `number_tracks()` шесть раз, меняя значение параметров — так, чтобы получить данные для каждого города в каждый из трёх дней."
   ]
  },
  {
   "cell_type": "code",
   "execution_count": 210,
   "metadata": {
    "id": "rJcRATNQ_Zcu",
    "scrolled": true
   },
   "outputs": [
    {
     "data": {
      "text/plain": [
       "15740"
      ]
     },
     "execution_count": 210,
     "metadata": {},
     "output_type": "execute_result"
    }
   ],
   "source": [
    "number_tracks('Monday', 'Moscow')# количество прослушиваний в Москве по понедельникам"
   ]
  },
  {
   "cell_type": "code",
   "execution_count": 211,
   "metadata": {
    "id": "hq_ncZ5T_Zcu"
   },
   "outputs": [
    {
     "data": {
      "text/plain": [
       "5614"
      ]
     },
     "execution_count": 211,
     "metadata": {},
     "output_type": "execute_result"
    }
   ],
   "source": [
    "number_tracks('Monday', 'Saint-Petersburg')# количество прослушиваний в Санкт-Петербурге по понедельникам"
   ]
  },
  {
   "cell_type": "code",
   "execution_count": 212,
   "metadata": {
    "id": "_NTy2VPU_Zcu"
   },
   "outputs": [
    {
     "data": {
      "text/plain": [
       "11056"
      ]
     },
     "execution_count": 212,
     "metadata": {},
     "output_type": "execute_result"
    }
   ],
   "source": [
    "number_tracks('Wednesday', 'Moscow')# количество прослушиваний в Москве по средам"
   ]
  },
  {
   "cell_type": "code",
   "execution_count": 213,
   "metadata": {
    "id": "j2y3TAwo_Zcu"
   },
   "outputs": [
    {
     "data": {
      "text/plain": [
       "7003"
      ]
     },
     "execution_count": 213,
     "metadata": {},
     "output_type": "execute_result"
    }
   ],
   "source": [
    "number_tracks('Wednesday', 'Saint-Petersburg')# количество прослушиваний в Санкт-Петербурге по средам"
   ]
  },
  {
   "cell_type": "code",
   "execution_count": 214,
   "metadata": {
    "id": "vYDw5u_K_Zcu"
   },
   "outputs": [
    {
     "data": {
      "text/plain": [
       "15945"
      ]
     },
     "execution_count": 214,
     "metadata": {},
     "output_type": "execute_result"
    }
   ],
   "source": [
    "number_tracks('Friday', 'Moscow')# количество прослушиваний в Москве по пятницам"
   ]
  },
  {
   "cell_type": "code",
   "execution_count": 215,
   "metadata": {
    "id": "8_yzFtW3_Zcu"
   },
   "outputs": [
    {
     "data": {
      "text/plain": [
       "5895"
      ]
     },
     "execution_count": 215,
     "metadata": {},
     "output_type": "execute_result"
    }
   ],
   "source": [
    "number_tracks('Friday', 'Saint-Petersburg')# количество прослушиваний в Санкт-Петербурге по пятницам"
   ]
  },
  {
   "cell_type": "markdown",
   "metadata": {
    "id": "7QXffbO-_Zcu"
   },
   "source": [
    "Создайте c помощью конструктора `pd.DataFrame` таблицу, где\n",
    "* названия колонок — `['city', 'monday', 'wednesday', 'friday']`;\n",
    "* данные — результаты, которые вы получили с помощью `number_tracks`."
   ]
  },
  {
   "cell_type": "code",
   "execution_count": 216,
   "metadata": {
    "id": "APAcLpOr_Zcu"
   },
   "outputs": [
    {
     "data": {
      "text/html": [
       "<div>\n",
       "<style scoped>\n",
       "    .dataframe tbody tr th:only-of-type {\n",
       "        vertical-align: middle;\n",
       "    }\n",
       "\n",
       "    .dataframe tbody tr th {\n",
       "        vertical-align: top;\n",
       "    }\n",
       "\n",
       "    .dataframe thead th {\n",
       "        text-align: right;\n",
       "    }\n",
       "</style>\n",
       "<table border=\"1\" class=\"dataframe\">\n",
       "  <thead>\n",
       "    <tr style=\"text-align: right;\">\n",
       "      <th></th>\n",
       "      <th>city</th>\n",
       "      <th>monday</th>\n",
       "      <th>wednesday</th>\n",
       "      <th>friday</th>\n",
       "    </tr>\n",
       "  </thead>\n",
       "  <tbody>\n",
       "    <tr>\n",
       "      <th>0</th>\n",
       "      <td>Moscow</td>\n",
       "      <td>15740</td>\n",
       "      <td>11056</td>\n",
       "      <td>15945</td>\n",
       "    </tr>\n",
       "    <tr>\n",
       "      <th>1</th>\n",
       "      <td>Saint-Petersburg</td>\n",
       "      <td>5614</td>\n",
       "      <td>7003</td>\n",
       "      <td>5895</td>\n",
       "    </tr>\n",
       "  </tbody>\n",
       "</table>\n",
       "</div>"
      ],
      "text/plain": [
       "               city  monday  wednesday  friday\n",
       "0            Moscow   15740      11056   15945\n",
       "1  Saint-Petersburg    5614       7003    5895"
      ]
     },
     "execution_count": 216,
     "metadata": {},
     "output_type": "execute_result"
    }
   ],
   "source": [
    "# Таблица с результатами \n",
    "columns = ['city', 'monday', 'wednesday', 'friday']\n",
    "data = [\n",
    "    ['Moscow', 15740, 11056, 15945],\n",
    "    ['Saint-Petersburg', 5614, 7003, 5895]\n",
    "]\n",
    "pd.DataFrame(data=data, columns=columns)"
   ]
  },
  {
   "cell_type": "markdown",
   "metadata": {
    "id": "-EgPIHYu_Zcu"
   },
   "source": [
    "**Выводы**\n",
    "\n",
    "Данные показывают разницу поведения пользователей:\n",
    "\n",
    "- В Москве пик прослушиваний приходится на понедельник и пятницу, а в среду заметен спад.\n",
    "- В Петербурге, наоборот, больше слушают музыку по средам. Активность в понедельник и пятницу здесь почти в равной мере уступает среде.\n",
    "\n",
    "Значит, данные говорят в пользу первой гипотезы."
   ]
  },
  {
   "cell_type": "markdown",
   "metadata": {
    "id": "atZAxtq4_Zcu"
   },
   "source": [
    "### Музыка в начале и в конце недели"
   ]
  },
  {
   "cell_type": "markdown",
   "metadata": {
    "id": "eXrQqXFH_Zcu"
   },
   "source": [
    "Согласно второй гипотезе, утром в понедельник в Москве преобладают одни жанры, а в Петербурге — другие. Так же и вечером пятницы преобладают разные жанры — в зависимости от города."
   ]
  },
  {
   "cell_type": "markdown",
   "metadata": {
    "id": "S8UcW6Hw_Zcu"
   },
   "source": [
    "Сохраните таблицы с данными в две переменные:\n",
    "* по Москве — в `moscow_general`;\n",
    "* по Санкт-Петербургу — в `spb_general`."
   ]
  },
  {
   "cell_type": "code",
   "execution_count": 217,
   "metadata": {
    "id": "qeaFfM_P_Zcu"
   },
   "outputs": [],
   "source": [
    "# получение таблицы moscow_general из тех строк таблицы df, \n",
    "# для которых значение в столбце 'city' равно 'Moscow'\n",
    "moscow_general = df[df['city'] == 'Moscow']"
   ]
  },
  {
   "cell_type": "code",
   "execution_count": 218,
   "metadata": {
    "id": "ORaVRKto_Zcu"
   },
   "outputs": [],
   "source": [
    "# получение таблицы spb_general из тех строк таблицы df,\n",
    "# для которых значение в столбце 'city' равно 'Saint-Petersburg'\n",
    "spb_general = df[df['city'] == 'Saint-Petersburg']"
   ]
  },
  {
   "cell_type": "markdown",
   "metadata": {
    "id": "MEJV-CX2_Zcu"
   },
   "source": [
    "Создайте функцию `genre_weekday()` с четырьмя параметрами:\n",
    "* таблица (датафрейм) с данными,\n",
    "* день недели,\n",
    "* начальная временная метка в формате 'hh:mm', \n",
    "* последняя временная метка в формате 'hh:mm'.\n",
    "\n",
    "Функция должна вернуть информацию о топ-10 жанров тех треков, которые прослушивали в указанный день, в промежутке между двумя отметками времени."
   ]
  },
  {
   "cell_type": "code",
   "execution_count": 219,
   "metadata": {
    "id": "laJT9BYl_Zcu"
   },
   "outputs": [],
   "source": [
    "# Объявление функции genre_weekday() с параметрами table, day, time1, time2,\n",
    "# которая возвращает информацию о самых популярных жанрах в указанный день в\n",
    "# заданное время:\n",
    "# 1) в переменную genre_df сохраняются те строки переданного датафрейма table, для\n",
    "#    которых одновременно:\n",
    "#    - значение в столбце day равно значению аргумента day\n",
    "#    - значение в столбце time больше значения аргумента time1\n",
    "#    - значение в столбце time меньше значения аргумента time2\n",
    "#    Используйте последовательную фильтрацию с помощью логической индексации.\n",
    "# 2) сгруппировать датафрейм genre_df по столбцу genre, взять один из его\n",
    "#    столбцов и посчитать методом count() количество записей для каждого из\n",
    "#    присутствующих жанров, получившийся Series записать в переменную\n",
    "#    genre_df_count\n",
    "# 3) отсортировать genre_df_count по убыванию встречаемости и сохранить\n",
    "#    в переменную genre_df_sorted\n",
    "# 4) вернуть Series из 10 первых значений genre_df_sorted, это будут топ-10\n",
    "#    популярных жанров (в указанный день, в заданное время)\n",
    "def genre_weekday(table, day, time1, time2):\n",
    "    genre_df = table[(table['day'] == day) &\n",
    "                     (table['time'] > time1) &\n",
    "                     (table['time'] < time2)]\n",
    "    genre_df_count = genre_df.groupby('genre')['genre'].count()\n",
    "    genre_df_sorted = genre_df_count.sort_values(ascending=False)\n",
    "    return genre_df_sorted.head(10)"
   ]
  },
  {
   "cell_type": "markdown",
   "metadata": {
    "id": "la2s2_PF_Zcu"
   },
   "source": [
    "Cравните результаты функции `genre_weekday()` для Москвы и Санкт-Петербурга в понедельник утром (с 7:00 до 11:00) и в пятницу вечером (с 17:00 до 23:00):"
   ]
  },
  {
   "cell_type": "code",
   "execution_count": 220,
   "metadata": {
    "id": "yz7itPUQ_Zcu"
   },
   "outputs": [
    {
     "data": {
      "text/plain": [
       "genre\n",
       "pop            781\n",
       "dance          549\n",
       "electronic     480\n",
       "rock           474\n",
       "hiphop         286\n",
       "ruspop         186\n",
       "world          181\n",
       "rusrap         175\n",
       "alternative    164\n",
       "unknown        161\n",
       "Name: genre, dtype: int64"
      ]
     },
     "execution_count": 220,
     "metadata": {},
     "output_type": "execute_result"
    }
   ],
   "source": [
    "# вызов функции для утра понедельника в Москве (вместо df — таблица moscow_general)\n",
    "# объекты, хранящие время, являются строками и сравниваются как строки\n",
    "# пример вызова: genre_weekday(moscow_general, 'Monday', '07:00', '11:00')\n",
    "genre_weekday(moscow_general,'Monday','07:00','11:00')"
   ]
  },
  {
   "cell_type": "code",
   "execution_count": 221,
   "metadata": {
    "id": "kwUcHPdy_Zcu"
   },
   "outputs": [
    {
     "data": {
      "text/plain": [
       "genre\n",
       "pop            218\n",
       "dance          182\n",
       "rock           162\n",
       "electronic     147\n",
       "hiphop          80\n",
       "ruspop          64\n",
       "alternative     58\n",
       "rusrap          55\n",
       "jazz            44\n",
       "classical       40\n",
       "Name: genre, dtype: int64"
      ]
     },
     "execution_count": 221,
     "metadata": {},
     "output_type": "execute_result"
    }
   ],
   "source": [
    "# вызов функции для утра понедельника в Петербурге (вместо df — таблица spb_general)\n",
    "genre_weekday(spb_general, 'Monday', '07:00', '11:00')"
   ]
  },
  {
   "cell_type": "code",
   "execution_count": 222,
   "metadata": {
    "id": "EzXVRE1o_Zcu"
   },
   "outputs": [
    {
     "data": {
      "text/plain": [
       "genre\n",
       "pop            713\n",
       "rock           517\n",
       "dance          495\n",
       "electronic     482\n",
       "hiphop         273\n",
       "world          208\n",
       "ruspop         170\n",
       "alternative    163\n",
       "classical      163\n",
       "rusrap         142\n",
       "Name: genre, dtype: int64"
      ]
     },
     "execution_count": 222,
     "metadata": {},
     "output_type": "execute_result"
    }
   ],
   "source": [
    "# вызов функции для вечера пятницы в Москве\n",
    "genre_weekday(moscow_general, 'Friday', '17:00', '23:00')"
   ]
  },
  {
   "cell_type": "code",
   "execution_count": 223,
   "metadata": {
    "id": "JZaEKu5v_Zcu"
   },
   "outputs": [
    {
     "data": {
      "text/plain": [
       "genre\n",
       "pop            256\n",
       "electronic     216\n",
       "rock           216\n",
       "dance          210\n",
       "hiphop          97\n",
       "alternative     63\n",
       "jazz            61\n",
       "classical       60\n",
       "rusrap          59\n",
       "world           54\n",
       "Name: genre, dtype: int64"
      ]
     },
     "execution_count": 223,
     "metadata": {},
     "output_type": "execute_result"
    }
   ],
   "source": [
    "# вызов функции для вечера пятницы в Петербурге\n",
    "genre_weekday(spb_general, 'Friday', '17:00', '23:00')"
   ]
  },
  {
   "cell_type": "markdown",
   "metadata": {
    "id": "wrCe4MNX_Zcu"
   },
   "source": [
    "**Выводы**\n",
    "\n",
    "Если сравнить топ-10 жанров в понедельник утром, можно сделать такие выводы:\n",
    "\n",
    "1. В Москве и Петербурге слушают похожую музыку. Единственное отличие — в московский рейтинг вошёл жанр “world”, а в петербургский — джаз и классика.\n",
    "\n",
    "2. В Москве пропущенных значений оказалось так много, что значение `'unknown'` заняло десятое место среди самых популярных жанров. Значит, пропущенные значения занимают существенную долю в данных и угрожают достоверности исследования.\n",
    "\n",
    "Вечер пятницы не меняет эту картину. Некоторые жанры поднимаются немного выше, другие спускаются, но в целом топ-10 остаётся тем же самым.\n",
    "\n",
    "Таким образом, вторая гипотеза подтвердилась лишь частично:\n",
    "* Пользователи слушают похожую музыку в начале недели и в конце.\n",
    "* Разница между Москвой и Петербургом не слишком выражена. В Москве чаще слушают русскую популярную музыку, в Петербурге — джаз.\n",
    "\n",
    "Однако пропуски в данных ставят под сомнение этот результат. В Москве их так много, что рейтинг топ-10 мог бы выглядеть иначе, если бы не утерянные  данные о жанрах."
   ]
  },
  {
   "cell_type": "markdown",
   "metadata": {
    "id": "JolODAqr_Zcu"
   },
   "source": [
    "### Жанровые предпочтения в Москве и Петербурге\n",
    "\n",
    "Гипотеза: Петербург — столица рэпа, музыку этого жанра там слушают чаще, чем в Москве.  А Москва — город контрастов, в котором, тем не менее, преобладает поп-музыка."
   ]
  },
  {
   "cell_type": "markdown",
   "metadata": {
    "id": "DlegSvaT_Zcu"
   },
   "source": [
    "Сгруппируйте таблицу `moscow_general` по жанру и посчитайте прослушивания треков каждого жанра методом `count()`. Затем отсортируйте результат в порядке убывания и сохраните его в таблице `moscow_genres`."
   ]
  },
  {
   "cell_type": "code",
   "execution_count": 224,
   "metadata": {
    "id": "r19lIPke_Zcu"
   },
   "outputs": [],
   "source": [
    "# одной строкой: группировка таблицы moscow_general по столбцу 'genre', \n",
    "# подсчёт числа значений 'genre' в этой группировке методом count(), \n",
    "# сортировка получившегося Series в порядке убывания и сохранение в moscow_genres\n",
    "moscow_genres = moscow_general.groupby('genre')['genre'].count()\n",
    "moscow_genres = moscow_genres.sort_values(ascending=False)"
   ]
  },
  {
   "cell_type": "markdown",
   "metadata": {
    "id": "6kMuomxTiIr8"
   },
   "source": [
    "Выведите на экран первые десять строк `moscow_genres`:"
   ]
  },
  {
   "cell_type": "code",
   "execution_count": 225,
   "metadata": {
    "id": "WhCSooF8_Zcv"
   },
   "outputs": [
    {
     "data": {
      "text/plain": [
       "genre\n",
       "pop            5892\n",
       "dance          4435\n",
       "rock           3965\n",
       "electronic     3786\n",
       "hiphop         2096\n",
       "classical      1616\n",
       "world          1432\n",
       "alternative    1379\n",
       "ruspop         1372\n",
       "rusrap         1161\n",
       "Name: genre, dtype: int64"
      ]
     },
     "execution_count": 225,
     "metadata": {},
     "output_type": "execute_result"
    }
   ],
   "source": [
    "moscow_genres.head(10)# просмотр первых 10 строк moscow_genres"
   ]
  },
  {
   "cell_type": "markdown",
   "metadata": {
    "id": "cnPG2vnN_Zcv"
   },
   "source": [
    "Теперь повторите то же и для Петербурга.\n",
    "\n",
    "Сгруппируйте таблицу `spb_general` по жанру. Посчитайте прослушивания треков каждого жанра. Результат отсортируйте в порядке убывания и сохраните в таблице `spb_genres`:\n"
   ]
  },
  {
   "cell_type": "code",
   "execution_count": 226,
   "metadata": {
    "id": "gluLIpE7_Zcv"
   },
   "outputs": [],
   "source": [
    "# одной строкой: группировка таблицы spb_general по столбцу 'genre', \n",
    "# подсчёт числа значений 'genre' в этой группировке методом count(), \n",
    "# сортировка получившегося Series в порядке убывания и сохранение в spb_genres\n",
    "spb_genres = spb_general.groupby('genre')['genre'].count()\n",
    "spb_genres = spb_genres.sort_values(ascending=False)"
   ]
  },
  {
   "cell_type": "markdown",
   "metadata": {
    "id": "5Doha_ODgyQ8"
   },
   "source": [
    "Выведите на экран первые десять строк `spb_genres`:"
   ]
  },
  {
   "cell_type": "code",
   "execution_count": 227,
   "metadata": {
    "id": "uaGJHjVU_Zcv"
   },
   "outputs": [
    {
     "data": {
      "text/plain": [
       "genre\n",
       "pop            2431\n",
       "dance          1932\n",
       "rock           1879\n",
       "electronic     1736\n",
       "hiphop          960\n",
       "alternative     649\n",
       "classical       646\n",
       "rusrap          564\n",
       "ruspop          538\n",
       "world           515\n",
       "Name: genre, dtype: int64"
      ]
     },
     "execution_count": 227,
     "metadata": {},
     "output_type": "execute_result"
    }
   ],
   "source": [
    "spb_genres.head(10)# просмотр первых 10 строк spb_genres"
   ]
  },
  {
   "cell_type": "markdown",
   "metadata": {
    "id": "RY51YJYu_Zcv"
   },
   "source": [
    "**Выводы**"
   ]
  },
  {
   "cell_type": "markdown",
   "metadata": {
    "id": "nVhnJEm__Zcv"
   },
   "source": [
    "Гипотеза частично подтвердилась:\n",
    "* Поп-музыка — самый популярный жанр в Москве, как и предполагала гипотеза. Более того, в топ-10 жанров встречается близкий жанр — русская популярная музыка.\n",
    "* Вопреки ожиданиям, рэп одинаково популярен в Москве и Петербурге. \n"
   ]
  },
  {
   "cell_type": "markdown",
   "metadata": {
    "id": "ykKQ0N65_Zcv"
   },
   "source": [
    "## Итоги исследования"
   ]
  },
  {
   "cell_type": "markdown",
   "metadata": {
    "id": "tjUwbHb3_Zcv"
   },
   "source": [
    "Вы проверили три гипотезы и установили:\n",
    "\n",
    "1. День недели по-разному влияет на активность пользователей в Москве и Петербурге. \n",
    "\n",
    "Первая гипотеза полностью подтвердилась.\n",
    "\n",
    "2. Музыкальные предпочтения не сильно меняются в течение недели — будь то Москва или Петербург. Небольшие различия заметны в начале недели, по понедельникам:\n",
    "* в Москве слушают музыку жанра “world”,\n",
    "* в Петербурге — джаз и классику.\n",
    "\n",
    "Таким образом, вторая гипотеза подтвердилась лишь отчасти. Этот результат мог оказаться иным, если бы не пропуски в данных.\n",
    "\n",
    "3. Во вкусах пользователей Москвы и Петербурга больше общего чем различий. Вопреки ожиданиям, предпочтения жанров в Петербурге напоминают московские.\n",
    "\n",
    "Третья гипотеза не подтвердилась. Если различия в предпочтениях и существуют, на основной массе пользователей они незаметны.\n",
    "\n",
    "**На практике исследования содержат проверки статистических гипотез.**\n",
    "Из данных одного сервиса не всегда можно сделать вывод о всех жителях города.\n",
    "Проверки статистических гипотез покажут, насколько они достоверны, исходя из имеющихся данных. \n",
    "С методами проверок гипотез вы ещё познакомитесь в следующих темах."
   ]
  }
 ],
 "metadata": {
  "ExecuteTimeLog": [
   {
    "duration": 54,
    "start_time": "2022-04-25T07:32:54.496Z"
   },
   {
    "duration": 456,
    "start_time": "2022-04-25T07:33:04.850Z"
   },
   {
    "duration": 162,
    "start_time": "2022-04-25T07:33:08.302Z"
   },
   {
    "duration": 17,
    "start_time": "2022-04-25T07:33:11.206Z"
   },
   {
    "duration": 30,
    "start_time": "2022-04-25T07:33:14.925Z"
   },
   {
    "duration": 4,
    "start_time": "2022-04-25T07:33:20.785Z"
   },
   {
    "duration": 21,
    "start_time": "2022-04-25T07:33:24.255Z"
   },
   {
    "duration": 5,
    "start_time": "2022-04-25T07:33:28.343Z"
   },
   {
    "duration": 27,
    "start_time": "2022-04-25T07:33:50.994Z"
   },
   {
    "duration": 31,
    "start_time": "2022-04-25T07:35:48.328Z"
   },
   {
    "duration": 141,
    "start_time": "2022-04-25T07:36:24.831Z"
   },
   {
    "duration": 4,
    "start_time": "2022-04-25T07:36:33.249Z"
   },
   {
    "duration": 4,
    "start_time": "2022-04-25T07:37:02.774Z"
   },
   {
    "duration": 14,
    "start_time": "2022-04-25T07:39:45.192Z"
   },
   {
    "duration": 23,
    "start_time": "2022-04-25T07:40:30.401Z"
   },
   {
    "duration": 27,
    "start_time": "2022-04-25T07:40:49.478Z"
   },
   {
    "duration": 19,
    "start_time": "2022-04-25T07:42:08.932Z"
   },
   {
    "duration": 26,
    "start_time": "2022-04-25T07:42:11.006Z"
   },
   {
    "duration": 30,
    "start_time": "2022-04-25T07:47:54.827Z"
   },
   {
    "duration": 8,
    "start_time": "2022-04-25T07:50:42.384Z"
   },
   {
    "duration": 8,
    "start_time": "2022-04-25T07:59:05.999Z"
   },
   {
    "duration": 8,
    "start_time": "2022-04-25T07:59:45.579Z"
   },
   {
    "duration": 4,
    "start_time": "2022-04-25T07:59:54.718Z"
   },
   {
    "duration": 27,
    "start_time": "2022-04-25T08:00:13.411Z"
   },
   {
    "duration": 34,
    "start_time": "2022-04-25T08:00:29.249Z"
   },
   {
    "duration": 3,
    "start_time": "2022-04-25T08:00:47.666Z"
   },
   {
    "duration": 26,
    "start_time": "2022-04-25T08:00:59.798Z"
   },
   {
    "duration": 26,
    "start_time": "2022-04-25T08:01:11.423Z"
   },
   {
    "duration": 27,
    "start_time": "2022-04-25T08:03:54.418Z"
   },
   {
    "duration": 2,
    "start_time": "2022-04-25T08:04:06.697Z"
   },
   {
    "duration": 147,
    "start_time": "2022-04-25T08:04:09.344Z"
   },
   {
    "duration": 13,
    "start_time": "2022-04-25T08:04:11.516Z"
   },
   {
    "duration": 33,
    "start_time": "2022-04-25T08:04:25.728Z"
   },
   {
    "duration": 3,
    "start_time": "2022-04-25T08:04:33.115Z"
   },
   {
    "duration": 4,
    "start_time": "2022-04-25T08:06:12.547Z"
   },
   {
    "duration": 26,
    "start_time": "2022-04-25T08:06:22.348Z"
   },
   {
    "duration": 27,
    "start_time": "2022-04-25T08:06:28.763Z"
   },
   {
    "duration": 6,
    "start_time": "2022-04-25T08:06:54.715Z"
   },
   {
    "duration": 26,
    "start_time": "2022-04-25T08:06:58.135Z"
   },
   {
    "duration": 31,
    "start_time": "2022-04-25T08:07:00.903Z"
   },
   {
    "duration": 39,
    "start_time": "2022-04-25T08:07:15.797Z"
   },
   {
    "duration": 2453,
    "start_time": "2022-04-25T08:09:00.511Z"
   },
   {
    "duration": 146,
    "start_time": "2022-04-25T08:09:33.781Z"
   },
   {
    "duration": 146,
    "start_time": "2022-04-25T08:09:53.605Z"
   },
   {
    "duration": 6,
    "start_time": "2022-04-25T08:10:05.481Z"
   },
   {
    "duration": 21,
    "start_time": "2022-04-25T08:11:16.412Z"
   },
   {
    "duration": 26,
    "start_time": "2022-04-25T08:11:19.596Z"
   },
   {
    "duration": 7,
    "start_time": "2022-04-25T08:20:25.217Z"
   },
   {
    "duration": 3,
    "start_time": "2022-04-25T08:20:48.964Z"
   },
   {
    "duration": 26,
    "start_time": "2022-04-25T08:20:55.367Z"
   },
   {
    "duration": 16,
    "start_time": "2022-04-25T08:33:28.305Z"
   },
   {
    "duration": 4,
    "start_time": "2022-04-25T08:33:32.281Z"
   },
   {
    "duration": 8,
    "start_time": "2022-04-25T08:34:26.863Z"
   },
   {
    "duration": 71,
    "start_time": "2022-04-25T08:35:35.958Z"
   },
   {
    "duration": 81,
    "start_time": "2022-04-25T08:36:16.993Z"
   },
   {
    "duration": 69,
    "start_time": "2022-04-25T08:36:32.400Z"
   },
   {
    "duration": 82,
    "start_time": "2022-04-25T08:36:51.696Z"
   },
   {
    "duration": 64,
    "start_time": "2022-04-25T08:36:58.029Z"
   },
   {
    "duration": 78,
    "start_time": "2022-04-25T08:37:33.946Z"
   },
   {
    "duration": 71,
    "start_time": "2022-04-25T08:37:43.753Z"
   },
   {
    "duration": 66,
    "start_time": "2022-04-25T08:37:47.987Z"
   },
   {
    "duration": 9,
    "start_time": "2022-04-25T08:38:52.540Z"
   },
   {
    "duration": 9,
    "start_time": "2022-04-25T08:39:21.183Z"
   },
   {
    "duration": 77,
    "start_time": "2022-04-25T08:48:02.871Z"
   },
   {
    "duration": 71,
    "start_time": "2022-04-25T08:48:06.186Z"
   },
   {
    "duration": 6,
    "start_time": "2022-04-25T08:53:37.016Z"
   },
   {
    "duration": 4,
    "start_time": "2022-04-25T08:53:40.314Z"
   },
   {
    "duration": 7,
    "start_time": "2022-04-25T08:55:40.489Z"
   },
   {
    "duration": 49,
    "start_time": "2022-04-25T08:55:42.788Z"
   },
   {
    "duration": 77,
    "start_time": "2022-04-25T08:56:33.988Z"
   },
   {
    "duration": 16,
    "start_time": "2022-04-25T08:57:00.794Z"
   },
   {
    "duration": 12,
    "start_time": "2022-04-25T08:58:16.919Z"
   },
   {
    "duration": 170,
    "start_time": "2022-04-25T09:05:02.886Z"
   },
   {
    "duration": 140,
    "start_time": "2022-04-25T09:09:18.539Z"
   },
   {
    "duration": 161,
    "start_time": "2022-04-25T09:10:33.656Z"
   },
   {
    "duration": 50,
    "start_time": "2022-04-25T09:11:40.029Z"
   },
   {
    "duration": 5,
    "start_time": "2022-04-25T09:11:55.260Z"
   },
   {
    "duration": 48,
    "start_time": "2022-04-25T09:12:04.943Z"
   },
   {
    "duration": 182,
    "start_time": "2022-04-25T09:14:03.462Z"
   },
   {
    "duration": 3,
    "start_time": "2022-04-25T09:14:18.963Z"
   },
   {
    "duration": 7,
    "start_time": "2022-04-25T09:16:08.686Z"
   },
   {
    "duration": 11,
    "start_time": "2022-04-25T09:16:22.718Z"
   },
   {
    "duration": 3,
    "start_time": "2022-04-25T09:17:35.277Z"
   },
   {
    "duration": 27,
    "start_time": "2022-04-25T09:17:38.240Z"
   },
   {
    "duration": 7,
    "start_time": "2022-04-25T09:17:43.410Z"
   },
   {
    "duration": 71,
    "start_time": "2022-04-25T09:17:55.366Z"
   },
   {
    "duration": 73,
    "start_time": "2022-04-25T09:18:12.140Z"
   },
   {
    "duration": 64,
    "start_time": "2022-04-25T09:18:18.303Z"
   },
   {
    "duration": 12,
    "start_time": "2022-04-25T09:18:27.525Z"
   },
   {
    "duration": 8,
    "start_time": "2022-04-25T09:18:56.146Z"
   },
   {
    "duration": 9,
    "start_time": "2022-04-25T09:19:18.243Z"
   },
   {
    "duration": 9,
    "start_time": "2022-04-25T09:21:03.482Z"
   },
   {
    "duration": 60,
    "start_time": "2022-04-25T09:21:20.339Z"
   },
   {
    "duration": 66,
    "start_time": "2022-04-25T09:21:22.653Z"
   },
   {
    "duration": 63,
    "start_time": "2022-04-25T09:21:24.813Z"
   },
   {
    "duration": 9,
    "start_time": "2022-04-25T09:21:30.110Z"
   },
   {
    "duration": 3,
    "start_time": "2022-04-25T09:22:43.898Z"
   },
   {
    "duration": 245,
    "start_time": "2022-04-25T09:22:46.249Z"
   },
   {
    "duration": 16,
    "start_time": "2022-04-25T09:22:48.714Z"
   },
   {
    "duration": 31,
    "start_time": "2022-04-25T09:22:52.663Z"
   },
   {
    "duration": 4,
    "start_time": "2022-04-25T09:22:57.203Z"
   },
   {
    "duration": 9,
    "start_time": "2022-04-25T09:23:01.200Z"
   },
   {
    "duration": 5,
    "start_time": "2022-04-25T09:23:04.009Z"
   },
   {
    "duration": 27,
    "start_time": "2022-04-25T09:23:07.797Z"
   },
   {
    "duration": 6,
    "start_time": "2022-04-25T09:23:13.849Z"
   },
   {
    "duration": 47,
    "start_time": "2022-04-25T09:23:16.481Z"
   },
   {
    "duration": 29,
    "start_time": "2022-04-25T09:23:23.070Z"
   },
   {
    "duration": 3,
    "start_time": "2022-04-25T09:23:30.632Z"
   },
   {
    "duration": 3,
    "start_time": "2022-04-25T09:24:18.935Z"
   },
   {
    "duration": 28,
    "start_time": "2022-04-25T09:24:22.187Z"
   },
   {
    "duration": 8,
    "start_time": "2022-04-25T09:25:04.229Z"
   },
   {
    "duration": 22,
    "start_time": "2022-04-25T09:29:38.770Z"
   },
   {
    "duration": 27,
    "start_time": "2022-04-25T09:29:42.152Z"
   },
   {
    "duration": 74,
    "start_time": "2022-04-25T09:29:52.511Z"
   },
   {
    "duration": 66,
    "start_time": "2022-04-25T09:29:59.692Z"
   },
   {
    "duration": 62,
    "start_time": "2022-04-25T09:30:02.983Z"
   },
   {
    "duration": 8,
    "start_time": "2022-04-25T09:30:07.938Z"
   },
   {
    "duration": 3,
    "start_time": "2022-04-25T09:32:06.405Z"
   },
   {
    "duration": 11,
    "start_time": "2022-04-25T09:32:27.841Z"
   },
   {
    "duration": 9,
    "start_time": "2022-04-25T09:32:35.625Z"
   },
   {
    "duration": 3,
    "start_time": "2022-04-25T09:34:33.928Z"
   },
   {
    "duration": 9,
    "start_time": "2022-04-25T09:35:18.911Z"
   },
   {
    "duration": 8,
    "start_time": "2022-04-25T09:35:22.794Z"
   },
   {
    "duration": 70,
    "start_time": "2022-04-25T11:40:45.983Z"
   },
   {
    "duration": 7,
    "start_time": "2022-04-25T11:41:14.309Z"
   },
   {
    "duration": 8,
    "start_time": "2022-04-25T11:41:21.719Z"
   },
   {
    "duration": 614,
    "start_time": "2022-04-25T11:41:30.023Z"
   },
   {
    "duration": 286,
    "start_time": "2022-04-25T11:41:32.590Z"
   },
   {
    "duration": 36,
    "start_time": "2022-04-25T11:41:33.699Z"
   },
   {
    "duration": 62,
    "start_time": "2022-04-25T11:41:35.314Z"
   },
   {
    "duration": 7,
    "start_time": "2022-04-25T11:41:38.255Z"
   },
   {
    "duration": 16,
    "start_time": "2022-04-25T11:41:39.601Z"
   },
   {
    "duration": 6,
    "start_time": "2022-04-25T11:41:40.446Z"
   },
   {
    "duration": 37,
    "start_time": "2022-04-25T11:41:41.322Z"
   },
   {
    "duration": 23,
    "start_time": "2022-04-25T11:41:44.478Z"
   },
   {
    "duration": 35,
    "start_time": "2022-04-25T11:41:45.696Z"
   },
   {
    "duration": 95,
    "start_time": "2022-04-25T11:41:47.145Z"
   },
   {
    "duration": 107,
    "start_time": "2022-04-25T11:41:48.243Z"
   },
   {
    "duration": 125,
    "start_time": "2022-04-25T11:41:49.329Z"
   },
   {
    "duration": 15,
    "start_time": "2022-04-25T11:41:50.918Z"
   },
   {
    "duration": 5,
    "start_time": "2022-04-25T11:41:52.281Z"
   },
   {
    "duration": 18,
    "start_time": "2022-04-25T11:41:53.360Z"
   },
   {
    "duration": 15,
    "start_time": "2022-04-25T11:41:54.915Z"
   },
   {
    "duration": 7,
    "start_time": "2022-04-25T11:41:58.803Z"
   },
   {
    "duration": 49,
    "start_time": "2022-04-25T11:42:56.364Z"
   },
   {
    "duration": 76,
    "start_time": "2022-04-25T11:45:21.298Z"
   },
   {
    "duration": 7,
    "start_time": "2022-04-25T11:46:22.260Z"
   },
   {
    "duration": 50,
    "start_time": "2022-04-25T11:46:35.208Z"
   },
   {
    "duration": 15,
    "start_time": "2022-04-25T11:47:26.585Z"
   },
   {
    "duration": 18,
    "start_time": "2022-04-25T11:49:30.864Z"
   },
   {
    "duration": 226,
    "start_time": "2022-04-25T12:11:01.468Z"
   },
   {
    "duration": 294,
    "start_time": "2022-04-25T12:11:18.099Z"
   },
   {
    "duration": 204,
    "start_time": "2022-04-25T12:13:39.187Z"
   },
   {
    "duration": 270,
    "start_time": "2022-04-25T12:14:22.840Z"
   },
   {
    "duration": 215,
    "start_time": "2022-04-25T12:14:58.659Z"
   },
   {
    "duration": 5,
    "start_time": "2022-04-25T12:15:26.524Z"
   },
   {
    "duration": 39,
    "start_time": "2022-04-25T12:23:05.250Z"
   },
   {
    "duration": 4,
    "start_time": "2022-04-25T12:23:53.772Z"
   },
   {
    "duration": 209,
    "start_time": "2022-04-25T12:23:55.800Z"
   },
   {
    "duration": 12,
    "start_time": "2022-04-25T12:24:21.314Z"
   },
   {
    "duration": 0,
    "start_time": "2022-04-25T12:25:17.178Z"
   },
   {
    "duration": 3881,
    "start_time": "2022-04-25T12:25:39.440Z"
   },
   {
    "duration": 11,
    "start_time": "2022-04-25T12:26:05.017Z"
   },
   {
    "duration": 8,
    "start_time": "2022-04-25T12:26:27.701Z"
   },
   {
    "duration": 3296,
    "start_time": "2022-04-25T12:26:54.946Z"
   },
   {
    "duration": 6,
    "start_time": "2022-04-25T12:28:28.818Z"
   },
   {
    "duration": 3867,
    "start_time": "2022-04-25T12:28:42.429Z"
   },
   {
    "duration": 5,
    "start_time": "2022-04-25T12:30:09.728Z"
   },
   {
    "duration": 11,
    "start_time": "2022-04-25T12:30:58.102Z"
   },
   {
    "duration": 11,
    "start_time": "2022-04-25T12:31:44.604Z"
   },
   {
    "duration": 9,
    "start_time": "2022-04-25T12:32:10.787Z"
   },
   {
    "duration": 9,
    "start_time": "2022-04-25T12:32:59.056Z"
   },
   {
    "duration": 3521,
    "start_time": "2022-04-25T12:33:10.921Z"
   },
   {
    "duration": 6,
    "start_time": "2022-04-25T12:37:29.665Z"
   },
   {
    "duration": 3593,
    "start_time": "2022-04-25T12:37:33.408Z"
   },
   {
    "duration": 10,
    "start_time": "2022-04-25T12:37:48.469Z"
   },
   {
    "duration": 5,
    "start_time": "2022-04-25T12:39:49.798Z"
   },
   {
    "duration": 4,
    "start_time": "2022-04-25T12:40:52.666Z"
   },
   {
    "duration": 226,
    "start_time": "2022-04-25T12:40:52.673Z"
   },
   {
    "duration": 18,
    "start_time": "2022-04-25T12:40:52.901Z"
   },
   {
    "duration": 46,
    "start_time": "2022-04-25T12:40:52.922Z"
   },
   {
    "duration": 7,
    "start_time": "2022-04-25T12:40:52.992Z"
   },
   {
    "duration": 19,
    "start_time": "2022-04-25T12:40:53.001Z"
   },
   {
    "duration": 7,
    "start_time": "2022-04-25T12:40:53.022Z"
   },
   {
    "duration": 67,
    "start_time": "2022-04-25T12:40:53.031Z"
   },
   {
    "duration": 26,
    "start_time": "2022-04-25T12:40:53.101Z"
   },
   {
    "duration": 35,
    "start_time": "2022-04-25T12:40:53.129Z"
   },
   {
    "duration": 143,
    "start_time": "2022-04-25T12:40:53.166Z"
   },
   {
    "duration": 135,
    "start_time": "2022-04-25T12:40:53.312Z"
   },
   {
    "duration": 125,
    "start_time": "2022-04-25T12:40:53.449Z"
   },
   {
    "duration": 22,
    "start_time": "2022-04-25T12:40:53.577Z"
   },
   {
    "duration": 4,
    "start_time": "2022-04-25T12:40:53.602Z"
   },
   {
    "duration": 20,
    "start_time": "2022-04-25T12:40:53.608Z"
   },
   {
    "duration": 13,
    "start_time": "2022-04-25T12:40:53.630Z"
   },
   {
    "duration": 60,
    "start_time": "2022-04-25T12:40:53.645Z"
   },
   {
    "duration": 19,
    "start_time": "2022-04-25T12:40:53.707Z"
   },
   {
    "duration": 6,
    "start_time": "2022-04-25T12:40:53.728Z"
   },
   {
    "duration": 12,
    "start_time": "2022-04-25T12:41:02.714Z"
   },
   {
    "duration": 10,
    "start_time": "2022-04-25T12:41:32.554Z"
   },
   {
    "duration": 9,
    "start_time": "2022-04-25T12:42:04.598Z"
   },
   {
    "duration": 10,
    "start_time": "2022-04-25T12:43:19.448Z"
   },
   {
    "duration": 11,
    "start_time": "2022-04-25T12:43:52.572Z"
   },
   {
    "duration": 4,
    "start_time": "2022-04-25T12:44:10.255Z"
   },
   {
    "duration": 3,
    "start_time": "2022-04-25T12:44:18.639Z"
   },
   {
    "duration": 39,
    "start_time": "2022-04-25T12:45:45.066Z"
   },
   {
    "duration": 27,
    "start_time": "2022-04-25T12:46:30.463Z"
   },
   {
    "duration": 27,
    "start_time": "2022-04-25T12:46:50.722Z"
   },
   {
    "duration": 3,
    "start_time": "2022-04-25T12:47:57.053Z"
   },
   {
    "duration": 39,
    "start_time": "2022-04-25T12:48:01.226Z"
   },
   {
    "duration": 39,
    "start_time": "2022-04-25T12:48:16.241Z"
   },
   {
    "duration": 3,
    "start_time": "2022-04-25T12:49:07.171Z"
   },
   {
    "duration": 27,
    "start_time": "2022-04-25T13:05:43.606Z"
   },
   {
    "duration": 9,
    "start_time": "2022-04-25T13:06:37.710Z"
   },
   {
    "duration": 34,
    "start_time": "2022-04-25T13:06:57.907Z"
   },
   {
    "duration": 29,
    "start_time": "2022-04-25T13:07:24.458Z"
   },
   {
    "duration": 5,
    "start_time": "2022-04-25T13:10:57.401Z"
   },
   {
    "duration": 2521,
    "start_time": "2022-04-25T13:11:01.082Z"
   },
   {
    "duration": 2577,
    "start_time": "2022-04-25T13:11:21.124Z"
   },
   {
    "duration": 5,
    "start_time": "2022-04-25T13:11:49.829Z"
   },
   {
    "duration": 34,
    "start_time": "2022-04-25T13:11:51.661Z"
   },
   {
    "duration": 30,
    "start_time": "2022-04-25T13:13:27.091Z"
   },
   {
    "duration": 20,
    "start_time": "2022-04-25T13:14:44.019Z"
   },
   {
    "duration": 22,
    "start_time": "2022-04-25T13:15:14.679Z"
   },
   {
    "duration": 22,
    "start_time": "2022-04-25T13:15:15.222Z"
   },
   {
    "duration": 21,
    "start_time": "2022-04-25T13:15:15.685Z"
   },
   {
    "duration": 21,
    "start_time": "2022-04-25T13:19:27.909Z"
   },
   {
    "duration": 24,
    "start_time": "2022-04-25T13:21:22.330Z"
   },
   {
    "duration": 17,
    "start_time": "2022-04-25T13:23:01.072Z"
   },
   {
    "duration": 15,
    "start_time": "2022-04-25T13:30:15.007Z"
   },
   {
    "duration": 19,
    "start_time": "2022-04-25T13:33:09.668Z"
   },
   {
    "duration": 13,
    "start_time": "2022-04-25T13:35:13.406Z"
   },
   {
    "duration": 9,
    "start_time": "2022-04-25T13:38:18.549Z"
   },
   {
    "duration": 13,
    "start_time": "2022-04-25T13:38:54.641Z"
   },
   {
    "duration": 6,
    "start_time": "2022-04-25T13:47:22.990Z"
   },
   {
    "duration": 15,
    "start_time": "2022-04-25T13:49:27.563Z"
   },
   {
    "duration": 14,
    "start_time": "2022-04-25T13:49:52.643Z"
   },
   {
    "duration": 19,
    "start_time": "2022-04-25T13:49:53.826Z"
   },
   {
    "duration": 6,
    "start_time": "2022-04-25T13:49:55.504Z"
   },
   {
    "duration": 17,
    "start_time": "2022-04-25T13:49:56.955Z"
   },
   {
    "duration": 5,
    "start_time": "2022-04-25T13:52:24.700Z"
   },
   {
    "duration": 17,
    "start_time": "2022-04-25T13:52:26.501Z"
   },
   {
    "duration": 6,
    "start_time": "2022-04-25T13:54:35.754Z"
   },
   {
    "duration": 15,
    "start_time": "2022-04-25T13:54:37.083Z"
   },
   {
    "duration": 6,
    "start_time": "2022-04-25T13:55:22.655Z"
   },
   {
    "duration": 3169,
    "start_time": "2022-04-25T13:55:23.893Z"
   },
   {
    "duration": 7,
    "start_time": "2022-04-25T13:56:31.385Z"
   },
   {
    "duration": 3147,
    "start_time": "2022-04-25T13:56:32.847Z"
   },
   {
    "duration": 6,
    "start_time": "2022-04-25T14:00:34.247Z"
   },
   {
    "duration": 3260,
    "start_time": "2022-04-25T14:00:36.100Z"
   },
   {
    "duration": 5,
    "start_time": "2022-04-25T14:02:15.878Z"
   },
   {
    "duration": 3397,
    "start_time": "2022-04-25T14:02:16.936Z"
   },
   {
    "duration": 6,
    "start_time": "2022-04-25T14:02:30.923Z"
   },
   {
    "duration": 3306,
    "start_time": "2022-04-25T14:02:31.969Z"
   },
   {
    "duration": 7,
    "start_time": "2022-04-25T14:04:03.219Z"
   },
   {
    "duration": 9,
    "start_time": "2022-04-25T14:04:04.333Z"
   },
   {
    "duration": 6,
    "start_time": "2022-04-25T14:06:30.042Z"
   },
   {
    "duration": 10,
    "start_time": "2022-04-25T14:06:31.091Z"
   },
   {
    "duration": 14,
    "start_time": "2022-04-25T14:06:59.346Z"
   },
   {
    "duration": 10,
    "start_time": "2022-04-25T14:07:01.124Z"
   },
   {
    "duration": 11,
    "start_time": "2022-04-25T14:07:51.205Z"
   },
   {
    "duration": 12,
    "start_time": "2022-04-25T14:08:02.220Z"
   },
   {
    "duration": 12,
    "start_time": "2022-04-25T14:10:25.280Z"
   },
   {
    "duration": 10,
    "start_time": "2022-04-25T14:10:28.478Z"
   },
   {
    "duration": 6,
    "start_time": "2022-04-25T14:10:52.809Z"
   },
   {
    "duration": 10,
    "start_time": "2022-04-25T14:10:54.038Z"
   },
   {
    "duration": 11,
    "start_time": "2022-04-25T14:10:54.805Z"
   },
   {
    "duration": 10,
    "start_time": "2022-04-25T14:10:55.376Z"
   },
   {
    "duration": 11,
    "start_time": "2022-04-25T14:10:55.795Z"
   },
   {
    "duration": 6,
    "start_time": "2022-04-25T14:19:45.353Z"
   },
   {
    "duration": 14,
    "start_time": "2022-04-25T14:20:28.566Z"
   },
   {
    "duration": 13,
    "start_time": "2022-04-25T14:20:29.212Z"
   },
   {
    "duration": 6,
    "start_time": "2022-04-25T14:20:30.729Z"
   },
   {
    "duration": 13,
    "start_time": "2022-04-25T14:20:32.020Z"
   },
   {
    "duration": 11,
    "start_time": "2022-04-25T14:20:33.994Z"
   },
   {
    "duration": 13,
    "start_time": "2022-04-25T14:20:35.292Z"
   },
   {
    "duration": 22,
    "start_time": "2022-04-25T14:20:35.307Z"
   },
   {
    "duration": 16,
    "start_time": "2022-04-25T14:21:36.211Z"
   },
   {
    "duration": 14,
    "start_time": "2022-04-25T14:21:36.740Z"
   },
   {
    "duration": 6,
    "start_time": "2022-04-25T14:23:37.375Z"
   },
   {
    "duration": 13,
    "start_time": "2022-04-25T14:23:41.336Z"
   },
   {
    "duration": 6,
    "start_time": "2022-04-25T14:25:46.308Z"
   },
   {
    "duration": 25,
    "start_time": "2022-04-25T14:26:11.719Z"
   },
   {
    "duration": 16,
    "start_time": "2022-04-25T14:26:28.699Z"
   },
   {
    "duration": 5,
    "start_time": "2022-04-25T14:28:23.723Z"
   },
   {
    "duration": 13,
    "start_time": "2022-04-25T14:28:25.409Z"
   },
   {
    "duration": 6,
    "start_time": "2022-04-25T14:28:46.058Z"
   },
   {
    "duration": 16,
    "start_time": "2022-04-25T14:28:46.960Z"
   },
   {
    "duration": 5,
    "start_time": "2022-04-25T14:29:53.695Z"
   },
   {
    "duration": 15,
    "start_time": "2022-04-25T14:29:55.268Z"
   },
   {
    "duration": 5,
    "start_time": "2022-04-25T14:30:54.378Z"
   },
   {
    "duration": 23,
    "start_time": "2022-04-25T14:30:55.336Z"
   },
   {
    "duration": 6,
    "start_time": "2022-04-25T14:31:50.899Z"
   },
   {
    "duration": 22,
    "start_time": "2022-04-25T14:31:52.331Z"
   },
   {
    "duration": 5,
    "start_time": "2022-04-25T14:32:06.771Z"
   },
   {
    "duration": 10,
    "start_time": "2022-04-25T14:32:25.466Z"
   },
   {
    "duration": 9,
    "start_time": "2022-04-25T14:32:30.194Z"
   },
   {
    "duration": 9,
    "start_time": "2022-04-25T14:32:31.981Z"
   },
   {
    "duration": 8,
    "start_time": "2022-04-25T14:32:32.698Z"
   },
   {
    "duration": 12,
    "start_time": "2022-04-25T14:34:20.188Z"
   },
   {
    "duration": 5,
    "start_time": "2022-04-25T14:34:25.400Z"
   },
   {
    "duration": 16,
    "start_time": "2022-04-25T14:34:26.575Z"
   },
   {
    "duration": 5,
    "start_time": "2022-04-25T14:34:44.773Z"
   },
   {
    "duration": 22,
    "start_time": "2022-04-25T14:34:45.940Z"
   },
   {
    "duration": 6,
    "start_time": "2022-04-25T14:35:17.546Z"
   },
   {
    "duration": 23,
    "start_time": "2022-04-25T14:35:19.443Z"
   },
   {
    "duration": 5,
    "start_time": "2022-04-25T14:36:02.583Z"
   },
   {
    "duration": 16,
    "start_time": "2022-04-25T14:36:04.880Z"
   },
   {
    "duration": 15,
    "start_time": "2022-04-25T14:36:45.440Z"
   },
   {
    "duration": 6,
    "start_time": "2022-04-25T14:37:06.844Z"
   },
   {
    "duration": 16,
    "start_time": "2022-04-25T14:37:07.607Z"
   },
   {
    "duration": 5,
    "start_time": "2022-04-25T14:37:14.104Z"
   },
   {
    "duration": 23,
    "start_time": "2022-04-25T14:37:14.846Z"
   },
   {
    "duration": 6,
    "start_time": "2022-04-25T14:39:40.273Z"
   },
   {
    "duration": 15,
    "start_time": "2022-04-25T14:39:41.874Z"
   },
   {
    "duration": 5,
    "start_time": "2022-04-25T14:39:56.227Z"
   },
   {
    "duration": 17,
    "start_time": "2022-04-25T14:39:57.754Z"
   },
   {
    "duration": 6,
    "start_time": "2022-04-25T14:40:34.730Z"
   },
   {
    "duration": 14,
    "start_time": "2022-04-25T14:40:35.690Z"
   },
   {
    "duration": 11,
    "start_time": "2022-04-25T14:40:36.830Z"
   },
   {
    "duration": 13,
    "start_time": "2022-04-25T14:40:37.272Z"
   },
   {
    "duration": 11,
    "start_time": "2022-04-25T14:40:37.674Z"
   },
   {
    "duration": 15,
    "start_time": "2022-04-25T14:40:51.718Z"
   },
   {
    "duration": 13,
    "start_time": "2022-04-25T14:40:52.209Z"
   },
   {
    "duration": 13,
    "start_time": "2022-04-25T14:41:02.404Z"
   },
   {
    "duration": 4,
    "start_time": "2022-04-25T14:41:07.122Z"
   },
   {
    "duration": 211,
    "start_time": "2022-04-25T14:41:07.129Z"
   },
   {
    "duration": 16,
    "start_time": "2022-04-25T14:41:07.342Z"
   },
   {
    "duration": 61,
    "start_time": "2022-04-25T14:41:07.360Z"
   },
   {
    "duration": 6,
    "start_time": "2022-04-25T14:41:07.424Z"
   },
   {
    "duration": 18,
    "start_time": "2022-04-25T14:41:07.433Z"
   },
   {
    "duration": 9,
    "start_time": "2022-04-25T14:41:07.454Z"
   },
   {
    "duration": 37,
    "start_time": "2022-04-25T14:41:07.494Z"
   },
   {
    "duration": 24,
    "start_time": "2022-04-25T14:41:07.533Z"
   },
   {
    "duration": 65,
    "start_time": "2022-04-25T14:41:07.559Z"
   },
   {
    "duration": 103,
    "start_time": "2022-04-25T14:41:07.626Z"
   },
   {
    "duration": 103,
    "start_time": "2022-04-25T14:41:07.731Z"
   },
   {
    "duration": 97,
    "start_time": "2022-04-25T14:41:07.836Z"
   },
   {
    "duration": 10,
    "start_time": "2022-04-25T14:41:07.938Z"
   },
   {
    "duration": 4,
    "start_time": "2022-04-25T14:41:07.951Z"
   },
   {
    "duration": 36,
    "start_time": "2022-04-25T14:41:07.957Z"
   },
   {
    "duration": 11,
    "start_time": "2022-04-25T14:41:07.995Z"
   },
   {
    "duration": 19,
    "start_time": "2022-04-25T14:41:08.008Z"
   },
   {
    "duration": 16,
    "start_time": "2022-04-25T14:41:08.029Z"
   },
   {
    "duration": 5,
    "start_time": "2022-04-25T14:41:08.047Z"
   },
   {
    "duration": 22,
    "start_time": "2022-04-25T14:41:08.093Z"
   },
   {
    "duration": 19,
    "start_time": "2022-04-25T14:41:08.117Z"
   },
   {
    "duration": 18,
    "start_time": "2022-04-25T14:41:08.138Z"
   },
   {
    "duration": 50,
    "start_time": "2022-04-25T14:41:08.158Z"
   },
   {
    "duration": 23,
    "start_time": "2022-04-25T14:41:08.210Z"
   },
   {
    "duration": 20,
    "start_time": "2022-04-25T14:41:08.235Z"
   },
   {
    "duration": 37,
    "start_time": "2022-04-25T14:41:08.257Z"
   },
   {
    "duration": 20,
    "start_time": "2022-04-25T14:41:08.297Z"
   },
   {
    "duration": 15,
    "start_time": "2022-04-25T14:41:08.319Z"
   },
   {
    "duration": 6,
    "start_time": "2022-04-25T14:41:08.336Z"
   },
   {
    "duration": 49,
    "start_time": "2022-04-25T14:41:08.344Z"
   },
   {
    "duration": 5,
    "start_time": "2022-04-25T14:42:13.180Z"
   },
   {
    "duration": 6,
    "start_time": "2022-04-25T14:42:18.714Z"
   },
   {
    "duration": 35,
    "start_time": "2022-04-25T14:42:20.932Z"
   },
   {
    "duration": 31,
    "start_time": "2022-04-25T14:43:03.341Z"
   },
   {
    "duration": 28,
    "start_time": "2022-04-25T14:43:22.970Z"
   },
   {
    "duration": 7,
    "start_time": "2022-04-25T14:44:27.969Z"
   },
   {
    "duration": 15,
    "start_time": "2022-04-25T14:44:29.059Z"
   },
   {
    "duration": 6,
    "start_time": "2022-04-25T14:44:57.198Z"
   },
   {
    "duration": 28,
    "start_time": "2022-04-25T14:44:59.907Z"
   },
   {
    "duration": 5,
    "start_time": "2022-04-25T14:46:17.047Z"
   },
   {
    "duration": 29,
    "start_time": "2022-04-25T14:46:18.579Z"
   },
   {
    "duration": 21,
    "start_time": "2022-04-25T14:46:20.566Z"
   },
   {
    "duration": 24,
    "start_time": "2022-04-25T14:46:21.368Z"
   },
   {
    "duration": 17,
    "start_time": "2022-04-25T14:46:22.094Z"
   },
   {
    "duration": 17,
    "start_time": "2022-04-25T14:46:59.485Z"
   },
   {
    "duration": 34,
    "start_time": "2022-04-25T14:47:38.410Z"
   },
   {
    "duration": 37,
    "start_time": "2022-04-25T14:47:43.568Z"
   },
   {
    "duration": 29,
    "start_time": "2022-04-25T14:48:36.687Z"
   },
   {
    "duration": 20,
    "start_time": "2022-04-25T14:48:48.836Z"
   },
   {
    "duration": 22,
    "start_time": "2022-04-25T14:48:49.637Z"
   },
   {
    "duration": 16,
    "start_time": "2022-04-25T14:48:50.194Z"
   },
   {
    "duration": 5,
    "start_time": "2022-04-25T14:52:02.115Z"
   },
   {
    "duration": 14,
    "start_time": "2022-04-25T14:52:03.198Z"
   },
   {
    "duration": 12,
    "start_time": "2022-04-25T14:52:04.651Z"
   },
   {
    "duration": 13,
    "start_time": "2022-04-25T14:52:05.237Z"
   },
   {
    "duration": 12,
    "start_time": "2022-04-25T14:52:05.750Z"
   },
   {
    "duration": 6,
    "start_time": "2022-04-25T14:52:10.938Z"
   },
   {
    "duration": 13,
    "start_time": "2022-04-25T14:52:12.164Z"
   },
   {
    "duration": 13,
    "start_time": "2022-04-25T14:52:12.741Z"
   },
   {
    "duration": 14,
    "start_time": "2022-04-25T14:52:13.209Z"
   },
   {
    "duration": 11,
    "start_time": "2022-04-25T14:52:13.632Z"
   },
   {
    "duration": 5,
    "start_time": "2022-04-25T14:52:34.502Z"
   },
   {
    "duration": 13,
    "start_time": "2022-04-25T14:52:35.832Z"
   },
   {
    "duration": 6,
    "start_time": "2022-04-25T14:52:51.996Z"
   },
   {
    "duration": 29,
    "start_time": "2022-04-25T14:52:52.960Z"
   },
   {
    "duration": 21,
    "start_time": "2022-04-25T14:53:00.022Z"
   },
   {
    "duration": 21,
    "start_time": "2022-04-25T14:53:00.266Z"
   },
   {
    "duration": 14,
    "start_time": "2022-04-25T14:53:02.159Z"
   },
   {
    "duration": 13,
    "start_time": "2022-04-25T14:54:33.471Z"
   },
   {
    "duration": 5,
    "start_time": "2022-04-25T14:55:22.033Z"
   },
   {
    "duration": 30,
    "start_time": "2022-04-25T14:55:23.133Z"
   },
   {
    "duration": 6,
    "start_time": "2022-04-25T14:55:35.104Z"
   },
   {
    "duration": 28,
    "start_time": "2022-04-25T14:55:36.041Z"
   },
   {
    "duration": 20,
    "start_time": "2022-04-25T14:55:58.008Z"
   },
   {
    "duration": 23,
    "start_time": "2022-04-25T14:55:58.666Z"
   },
   {
    "duration": 15,
    "start_time": "2022-04-25T14:55:59.174Z"
   },
   {
    "duration": 18,
    "start_time": "2022-04-25T14:56:49.103Z"
   },
   {
    "duration": 24,
    "start_time": "2022-04-25T14:57:08.100Z"
   },
   {
    "duration": 32,
    "start_time": "2022-04-25T14:57:37.181Z"
   },
   {
    "duration": 47,
    "start_time": "2022-04-25T14:57:48.495Z"
   },
   {
    "duration": 3162,
    "start_time": "2022-04-25T14:58:52.440Z"
   },
   {
    "duration": 3220,
    "start_time": "2022-04-25T14:59:15.305Z"
   },
   {
    "duration": 32,
    "start_time": "2022-04-25T14:59:35.336Z"
   },
   {
    "duration": 46,
    "start_time": "2022-04-25T14:59:50.476Z"
   },
   {
    "duration": 40,
    "start_time": "2022-04-25T15:00:07.167Z"
   },
   {
    "duration": 41,
    "start_time": "2022-04-25T15:00:37.119Z"
   },
   {
    "duration": 39,
    "start_time": "2022-04-25T15:00:54.089Z"
   },
   {
    "duration": 40,
    "start_time": "2022-04-25T15:02:32.178Z"
   },
   {
    "duration": 34,
    "start_time": "2022-04-25T15:02:50.937Z"
   },
   {
    "duration": 6,
    "start_time": "2022-04-25T15:03:00.549Z"
   },
   {
    "duration": 42,
    "start_time": "2022-04-25T15:03:01.354Z"
   },
   {
    "duration": 22,
    "start_time": "2022-04-25T15:03:07.928Z"
   },
   {
    "duration": 21,
    "start_time": "2022-04-25T15:03:12.326Z"
   },
   {
    "duration": 18,
    "start_time": "2022-04-25T15:03:14.468Z"
   },
   {
    "duration": 19,
    "start_time": "2022-04-25T15:03:32.305Z"
   },
   {
    "duration": 14,
    "start_time": "2022-04-25T15:03:32.899Z"
   },
   {
    "duration": 6,
    "start_time": "2022-04-25T15:03:33.801Z"
   },
   {
    "duration": 37,
    "start_time": "2022-04-25T15:03:34.950Z"
   },
   {
    "duration": 6,
    "start_time": "2022-04-25T15:04:19.621Z"
   },
   {
    "duration": 35,
    "start_time": "2022-04-25T15:04:20.540Z"
   },
   {
    "duration": 21,
    "start_time": "2022-04-25T15:04:22.422Z"
   },
   {
    "duration": 22,
    "start_time": "2022-04-25T15:04:23.974Z"
   },
   {
    "duration": 16,
    "start_time": "2022-04-25T15:04:24.476Z"
   },
   {
    "duration": 24,
    "start_time": "2022-04-25T15:04:59.418Z"
   },
   {
    "duration": 6,
    "start_time": "2022-04-25T15:05:13.886Z"
   },
   {
    "duration": 36,
    "start_time": "2022-04-25T15:05:14.875Z"
   },
   {
    "duration": 20,
    "start_time": "2022-04-25T15:05:15.462Z"
   },
   {
    "duration": 22,
    "start_time": "2022-04-25T15:05:15.946Z"
   },
   {
    "duration": 17,
    "start_time": "2022-04-25T15:05:16.383Z"
   },
   {
    "duration": 47,
    "start_time": "2022-04-25T15:05:46.482Z"
   },
   {
    "duration": 41,
    "start_time": "2022-04-25T15:06:26.844Z"
   },
   {
    "duration": 5,
    "start_time": "2022-04-25T15:06:38.250Z"
   },
   {
    "duration": 40,
    "start_time": "2022-04-25T15:06:39.131Z"
   },
   {
    "duration": 20,
    "start_time": "2022-04-25T15:06:39.650Z"
   },
   {
    "duration": 22,
    "start_time": "2022-04-25T15:06:40.824Z"
   },
   {
    "duration": 16,
    "start_time": "2022-04-25T15:06:41.348Z"
   },
   {
    "duration": 4,
    "start_time": "2022-04-25T15:06:52.073Z"
   },
   {
    "duration": 221,
    "start_time": "2022-04-25T15:06:52.080Z"
   },
   {
    "duration": 17,
    "start_time": "2022-04-25T15:06:52.303Z"
   },
   {
    "duration": 46,
    "start_time": "2022-04-25T15:06:52.323Z"
   },
   {
    "duration": 5,
    "start_time": "2022-04-25T15:06:52.394Z"
   },
   {
    "duration": 15,
    "start_time": "2022-04-25T15:06:52.402Z"
   },
   {
    "duration": 5,
    "start_time": "2022-04-25T15:06:52.420Z"
   },
   {
    "duration": 67,
    "start_time": "2022-04-25T15:06:52.427Z"
   },
   {
    "duration": 27,
    "start_time": "2022-04-25T15:06:52.497Z"
   },
   {
    "duration": 38,
    "start_time": "2022-04-25T15:06:52.527Z"
   },
   {
    "duration": 110,
    "start_time": "2022-04-25T15:06:52.593Z"
   },
   {
    "duration": 112,
    "start_time": "2022-04-25T15:06:52.705Z"
   },
   {
    "duration": 102,
    "start_time": "2022-04-25T15:06:52.819Z"
   },
   {
    "duration": 11,
    "start_time": "2022-04-25T15:06:52.926Z"
   },
   {
    "duration": 7,
    "start_time": "2022-04-25T15:06:52.939Z"
   },
   {
    "duration": 24,
    "start_time": "2022-04-25T15:06:52.948Z"
   },
   {
    "duration": 28,
    "start_time": "2022-04-25T15:06:52.974Z"
   },
   {
    "duration": 26,
    "start_time": "2022-04-25T15:06:53.005Z"
   },
   {
    "duration": 15,
    "start_time": "2022-04-25T15:06:53.034Z"
   },
   {
    "duration": 5,
    "start_time": "2022-04-25T15:06:53.052Z"
   },
   {
    "duration": 56,
    "start_time": "2022-04-25T15:06:53.059Z"
   },
   {
    "duration": 22,
    "start_time": "2022-04-25T15:06:53.117Z"
   },
   {
    "duration": 55,
    "start_time": "2022-04-25T15:06:53.141Z"
   },
   {
    "duration": 21,
    "start_time": "2022-04-25T15:06:53.198Z"
   },
   {
    "duration": 24,
    "start_time": "2022-04-25T15:06:53.222Z"
   },
   {
    "duration": 54,
    "start_time": "2022-04-25T15:06:53.249Z"
   },
   {
    "duration": 23,
    "start_time": "2022-04-25T15:06:53.305Z"
   },
   {
    "duration": 29,
    "start_time": "2022-04-25T15:06:53.330Z"
   },
   {
    "duration": 45,
    "start_time": "2022-04-25T15:06:53.362Z"
   },
   {
    "duration": 7,
    "start_time": "2022-04-25T15:06:53.409Z"
   },
   {
    "duration": 49,
    "start_time": "2022-04-25T15:06:53.418Z"
   },
   {
    "duration": 27,
    "start_time": "2022-04-25T15:07:40.268Z"
   },
   {
    "duration": 19,
    "start_time": "2022-04-25T15:07:49.835Z"
   },
   {
    "duration": 22,
    "start_time": "2022-04-25T15:07:53.734Z"
   },
   {
    "duration": 17,
    "start_time": "2022-04-25T15:07:54.780Z"
   },
   {
    "duration": 6,
    "start_time": "2022-04-25T15:09:17.181Z"
   },
   {
    "duration": 13,
    "start_time": "2022-04-25T15:09:18.300Z"
   },
   {
    "duration": 15,
    "start_time": "2022-04-25T15:09:48.412Z"
   },
   {
    "duration": 14,
    "start_time": "2022-04-25T15:09:55.705Z"
   },
   {
    "duration": 25,
    "start_time": "2022-04-25T15:14:59.635Z"
   },
   {
    "duration": 5,
    "start_time": "2022-04-25T15:20:31.414Z"
   },
   {
    "duration": 13,
    "start_time": "2022-04-25T15:20:32.585Z"
   },
   {
    "duration": 6,
    "start_time": "2022-04-25T15:20:47.368Z"
   },
   {
    "duration": 34,
    "start_time": "2022-04-25T15:20:48.375Z"
   },
   {
    "duration": 6,
    "start_time": "2022-04-25T15:21:08.137Z"
   },
   {
    "duration": 28,
    "start_time": "2022-04-25T15:21:09.442Z"
   },
   {
    "duration": 19,
    "start_time": "2022-04-25T15:21:51.309Z"
   },
   {
    "duration": 21,
    "start_time": "2022-04-25T15:21:52.036Z"
   },
   {
    "duration": 16,
    "start_time": "2022-04-25T15:21:52.621Z"
   },
   {
    "duration": 54,
    "start_time": "2022-04-25T15:22:53.798Z"
   },
   {
    "duration": 49,
    "start_time": "2022-04-25T15:23:08.628Z"
   },
   {
    "duration": 7,
    "start_time": "2022-04-25T15:23:51.883Z"
   },
   {
    "duration": 24,
    "start_time": "2022-04-25T15:23:52.947Z"
   },
   {
    "duration": 17,
    "start_time": "2022-04-25T15:23:54.935Z"
   },
   {
    "duration": 23,
    "start_time": "2022-04-25T15:23:55.416Z"
   },
   {
    "duration": 17,
    "start_time": "2022-04-25T15:23:55.854Z"
   },
   {
    "duration": 14,
    "start_time": "2022-04-25T15:27:37.312Z"
   },
   {
    "duration": 12,
    "start_time": "2022-04-25T15:28:50.292Z"
   },
   {
    "duration": 11,
    "start_time": "2022-04-25T15:30:15.715Z"
   },
   {
    "duration": 9,
    "start_time": "2022-04-25T15:30:36.713Z"
   },
   {
    "duration": 12,
    "start_time": "2022-04-25T15:33:12.934Z"
   },
   {
    "duration": 9,
    "start_time": "2022-04-25T15:33:17.045Z"
   },
   {
    "duration": 57,
    "start_time": "2022-04-25T15:34:12.353Z"
   },
   {
    "duration": 31,
    "start_time": "2022-04-25T15:34:37.728Z"
   },
   {
    "duration": 17,
    "start_time": "2022-04-25T15:34:53.554Z"
   },
   {
    "duration": 18,
    "start_time": "2022-04-25T15:35:48.558Z"
   },
   {
    "duration": 5,
    "start_time": "2022-04-25T15:35:56.535Z"
   },
   {
    "duration": 218,
    "start_time": "2022-04-25T15:35:56.543Z"
   },
   {
    "duration": 34,
    "start_time": "2022-04-25T15:35:56.764Z"
   },
   {
    "duration": 48,
    "start_time": "2022-04-25T15:35:56.801Z"
   },
   {
    "duration": 5,
    "start_time": "2022-04-25T15:35:56.851Z"
   },
   {
    "duration": 41,
    "start_time": "2022-04-25T15:35:56.858Z"
   },
   {
    "duration": 6,
    "start_time": "2022-04-25T15:35:56.901Z"
   },
   {
    "duration": 45,
    "start_time": "2022-04-25T15:35:56.909Z"
   },
   {
    "duration": 44,
    "start_time": "2022-04-25T15:35:56.958Z"
   },
   {
    "duration": 38,
    "start_time": "2022-04-25T15:35:57.004Z"
   },
   {
    "duration": 125,
    "start_time": "2022-04-25T15:35:57.044Z"
   },
   {
    "duration": 119,
    "start_time": "2022-04-25T15:35:57.171Z"
   },
   {
    "duration": 104,
    "start_time": "2022-04-25T15:35:57.293Z"
   },
   {
    "duration": 11,
    "start_time": "2022-04-25T15:35:57.399Z"
   },
   {
    "duration": 5,
    "start_time": "2022-04-25T15:35:57.412Z"
   },
   {
    "duration": 17,
    "start_time": "2022-04-25T15:35:57.419Z"
   },
   {
    "duration": 11,
    "start_time": "2022-04-25T15:35:57.439Z"
   },
   {
    "duration": 56,
    "start_time": "2022-04-25T15:35:57.452Z"
   },
   {
    "duration": 16,
    "start_time": "2022-04-25T15:35:57.510Z"
   },
   {
    "duration": 5,
    "start_time": "2022-04-25T15:35:57.529Z"
   },
   {
    "duration": 26,
    "start_time": "2022-04-25T15:35:57.536Z"
   },
   {
    "duration": 20,
    "start_time": "2022-04-25T15:35:57.593Z"
   },
   {
    "duration": 22,
    "start_time": "2022-04-25T15:35:57.615Z"
   },
   {
    "duration": 53,
    "start_time": "2022-04-25T15:35:57.641Z"
   },
   {
    "duration": 31,
    "start_time": "2022-04-25T15:35:57.697Z"
   },
   {
    "duration": 22,
    "start_time": "2022-04-25T15:35:57.731Z"
   },
   {
    "duration": 42,
    "start_time": "2022-04-25T15:35:57.755Z"
   },
   {
    "duration": 30,
    "start_time": "2022-04-25T15:35:57.800Z"
   },
   {
    "duration": 24,
    "start_time": "2022-04-25T15:35:57.833Z"
   },
   {
    "duration": 35,
    "start_time": "2022-04-25T15:35:57.859Z"
   },
   {
    "duration": 40,
    "start_time": "2022-04-25T15:35:57.897Z"
   },
   {
    "duration": 21,
    "start_time": "2022-04-25T15:35:57.939Z"
   },
   {
    "duration": 51,
    "start_time": "2022-04-25T15:35:57.963Z"
   },
   {
    "duration": 22,
    "start_time": "2022-04-25T15:35:58.017Z"
   },
   {
    "duration": 17,
    "start_time": "2022-04-25T15:37:05.990Z"
   },
   {
    "duration": 8,
    "start_time": "2022-04-25T15:37:08.162Z"
   },
   {
    "duration": 9,
    "start_time": "2022-04-25T15:37:23.161Z"
   },
   {
    "duration": 17,
    "start_time": "2022-04-25T15:39:32.348Z"
   },
   {
    "duration": 16,
    "start_time": "2022-04-25T15:39:48.928Z"
   },
   {
    "duration": 15,
    "start_time": "2022-04-25T15:40:15.694Z"
   },
   {
    "duration": 16,
    "start_time": "2022-04-25T15:40:17.557Z"
   },
   {
    "duration": 12,
    "start_time": "2022-04-25T15:40:55.150Z"
   },
   {
    "duration": 22,
    "start_time": "2022-04-25T15:40:57.251Z"
   },
   {
    "duration": 10,
    "start_time": "2022-04-25T15:42:17.583Z"
   },
   {
    "duration": 8,
    "start_time": "2022-04-25T15:42:18.844Z"
   },
   {
    "duration": 4,
    "start_time": "2022-04-25T15:42:55.927Z"
   },
   {
    "duration": 237,
    "start_time": "2022-04-25T15:42:55.934Z"
   },
   {
    "duration": 30,
    "start_time": "2022-04-25T15:42:56.173Z"
   },
   {
    "duration": 46,
    "start_time": "2022-04-25T15:42:56.206Z"
   },
   {
    "duration": 6,
    "start_time": "2022-04-25T15:42:56.256Z"
   },
   {
    "duration": 16,
    "start_time": "2022-04-25T15:42:56.294Z"
   },
   {
    "duration": 7,
    "start_time": "2022-04-25T15:42:56.312Z"
   },
   {
    "duration": 91,
    "start_time": "2022-04-25T15:42:56.321Z"
   },
   {
    "duration": 41,
    "start_time": "2022-04-25T15:42:56.415Z"
   },
   {
    "duration": 76,
    "start_time": "2022-04-25T15:42:56.458Z"
   },
   {
    "duration": 166,
    "start_time": "2022-04-25T15:42:56.536Z"
   },
   {
    "duration": 152,
    "start_time": "2022-04-25T15:42:56.705Z"
   },
   {
    "duration": 105,
    "start_time": "2022-04-25T15:42:56.859Z"
   },
   {
    "duration": 25,
    "start_time": "2022-04-25T15:42:56.969Z"
   },
   {
    "duration": 4,
    "start_time": "2022-04-25T15:42:56.996Z"
   },
   {
    "duration": 22,
    "start_time": "2022-04-25T15:42:57.003Z"
   },
   {
    "duration": 15,
    "start_time": "2022-04-25T15:42:57.027Z"
   },
   {
    "duration": 60,
    "start_time": "2022-04-25T15:42:57.045Z"
   },
   {
    "duration": 16,
    "start_time": "2022-04-25T15:42:57.108Z"
   },
   {
    "duration": 10,
    "start_time": "2022-04-25T15:42:57.126Z"
   },
   {
    "duration": 56,
    "start_time": "2022-04-25T15:42:57.138Z"
   },
   {
    "duration": 23,
    "start_time": "2022-04-25T15:42:57.196Z"
   },
   {
    "duration": 22,
    "start_time": "2022-04-25T15:42:57.222Z"
   },
   {
    "duration": 60,
    "start_time": "2022-04-25T15:42:57.246Z"
   },
   {
    "duration": 35,
    "start_time": "2022-04-25T15:42:57.309Z"
   },
   {
    "duration": 56,
    "start_time": "2022-04-25T15:42:57.347Z"
   },
   {
    "duration": 18,
    "start_time": "2022-04-25T15:42:57.406Z"
   },
   {
    "duration": 23,
    "start_time": "2022-04-25T15:42:57.426Z"
   },
   {
    "duration": 41,
    "start_time": "2022-04-25T15:42:57.452Z"
   },
   {
    "duration": 7,
    "start_time": "2022-04-25T15:42:57.496Z"
   },
   {
    "duration": 44,
    "start_time": "2022-04-25T15:42:57.506Z"
   },
   {
    "duration": 50,
    "start_time": "2022-04-25T15:42:57.552Z"
   },
   {
    "duration": 23,
    "start_time": "2022-04-25T15:42:57.605Z"
   },
   {
    "duration": 16,
    "start_time": "2022-04-25T15:42:57.630Z"
   },
   {
    "duration": 46,
    "start_time": "2022-04-25T15:42:57.648Z"
   },
   {
    "duration": 8,
    "start_time": "2022-04-25T15:42:57.697Z"
   },
   {
    "duration": 13,
    "start_time": "2022-04-25T15:42:57.707Z"
   },
   {
    "duration": 9,
    "start_time": "2022-04-25T15:42:57.723Z"
   },
   {
    "duration": 374,
    "start_time": "2022-05-01T09:14:37.822Z"
   },
   {
    "duration": 141,
    "start_time": "2022-05-01T09:14:38.198Z"
   },
   {
    "duration": 16,
    "start_time": "2022-05-01T09:14:38.341Z"
   },
   {
    "duration": 38,
    "start_time": "2022-05-01T09:14:38.359Z"
   },
   {
    "duration": 4,
    "start_time": "2022-05-01T09:14:38.399Z"
   },
   {
    "duration": 13,
    "start_time": "2022-05-01T09:14:38.405Z"
   },
   {
    "duration": 6,
    "start_time": "2022-05-01T09:14:38.419Z"
   },
   {
    "duration": 31,
    "start_time": "2022-05-01T09:14:38.427Z"
   },
   {
    "duration": 42,
    "start_time": "2022-05-01T09:14:38.460Z"
   },
   {
    "duration": 26,
    "start_time": "2022-05-01T09:14:38.504Z"
   },
   {
    "duration": 84,
    "start_time": "2022-05-01T09:14:38.532Z"
   },
   {
    "duration": 82,
    "start_time": "2022-05-01T09:14:38.618Z"
   },
   {
    "duration": 61,
    "start_time": "2022-05-01T09:14:38.702Z"
   },
   {
    "duration": 9,
    "start_time": "2022-05-01T09:14:38.768Z"
   },
   {
    "duration": 16,
    "start_time": "2022-05-01T09:14:38.778Z"
   },
   {
    "duration": 12,
    "start_time": "2022-05-01T09:14:38.796Z"
   },
   {
    "duration": 11,
    "start_time": "2022-05-01T09:14:38.810Z"
   },
   {
    "duration": 20,
    "start_time": "2022-05-01T09:14:38.823Z"
   },
   {
    "duration": 19,
    "start_time": "2022-05-01T09:14:38.844Z"
   },
   {
    "duration": 19,
    "start_time": "2022-05-01T09:14:38.865Z"
   },
   {
    "duration": 25,
    "start_time": "2022-05-01T09:14:38.886Z"
   },
   {
    "duration": 19,
    "start_time": "2022-05-01T09:14:38.914Z"
   },
   {
    "duration": 16,
    "start_time": "2022-05-01T09:14:38.935Z"
   },
   {
    "duration": 32,
    "start_time": "2022-05-01T09:14:38.953Z"
   },
   {
    "duration": 21,
    "start_time": "2022-05-01T09:14:38.987Z"
   },
   {
    "duration": 21,
    "start_time": "2022-05-01T09:14:39.010Z"
   },
   {
    "duration": 9,
    "start_time": "2022-05-01T09:14:39.033Z"
   },
   {
    "duration": 23,
    "start_time": "2022-05-01T09:14:39.044Z"
   },
   {
    "duration": 26,
    "start_time": "2022-05-01T09:14:39.068Z"
   },
   {
    "duration": 13,
    "start_time": "2022-05-01T09:14:39.095Z"
   },
   {
    "duration": 44,
    "start_time": "2022-05-01T09:14:39.109Z"
   },
   {
    "duration": 18,
    "start_time": "2022-05-01T09:14:39.155Z"
   },
   {
    "duration": 18,
    "start_time": "2022-05-01T09:14:39.175Z"
   },
   {
    "duration": 14,
    "start_time": "2022-05-01T09:14:39.195Z"
   },
   {
    "duration": 17,
    "start_time": "2022-05-01T09:14:39.210Z"
   },
   {
    "duration": 16,
    "start_time": "2022-05-01T09:14:39.229Z"
   },
   {
    "duration": 21,
    "start_time": "2022-05-01T09:14:39.247Z"
   },
   {
    "duration": 8,
    "start_time": "2022-05-01T09:14:39.270Z"
   },
   {
    "duration": 48,
    "start_time": "2022-05-01T13:14:14.463Z"
   },
   {
    "duration": 371,
    "start_time": "2022-05-01T13:14:19.313Z"
   },
   {
    "duration": 141,
    "start_time": "2022-05-01T13:14:19.686Z"
   },
   {
    "duration": 16,
    "start_time": "2022-05-01T13:14:19.828Z"
   },
   {
    "duration": 30,
    "start_time": "2022-05-01T13:14:19.846Z"
   },
   {
    "duration": 3,
    "start_time": "2022-05-01T13:14:19.892Z"
   },
   {
    "duration": 12,
    "start_time": "2022-05-01T13:14:19.897Z"
   },
   {
    "duration": 6,
    "start_time": "2022-05-01T13:14:19.910Z"
   },
   {
    "duration": 25,
    "start_time": "2022-05-01T13:14:19.917Z"
   },
   {
    "duration": 17,
    "start_time": "2022-05-01T13:14:19.943Z"
   },
   {
    "duration": 49,
    "start_time": "2022-05-01T13:14:19.961Z"
   },
   {
    "duration": 67,
    "start_time": "2022-05-01T13:14:20.012Z"
   },
   {
    "duration": 37,
    "start_time": "2022-05-01T13:14:20.080Z"
   },
   {
    "duration": 7,
    "start_time": "2022-05-01T13:14:38.557Z"
   },
   {
    "duration": 75,
    "start_time": "2022-05-01T13:14:47.860Z"
   },
   {
    "duration": 58,
    "start_time": "2022-05-01T13:14:55.029Z"
   },
   {
    "duration": 68,
    "start_time": "2022-05-01T13:15:10.682Z"
   },
   {
    "duration": 10,
    "start_time": "2022-05-01T13:15:47.755Z"
   },
   {
    "duration": 10,
    "start_time": "2022-05-01T13:15:59.346Z"
   },
   {
    "duration": 72,
    "start_time": "2022-05-02T05:14:48.864Z"
   },
   {
    "duration": 540,
    "start_time": "2022-05-02T05:14:53.248Z"
   },
   {
    "duration": 209,
    "start_time": "2022-05-02T05:14:53.791Z"
   },
   {
    "duration": 27,
    "start_time": "2022-05-02T05:14:54.003Z"
   },
   {
    "duration": 4,
    "start_time": "2022-05-02T05:18:13.540Z"
   },
   {
    "duration": 200,
    "start_time": "2022-05-02T05:18:13.546Z"
   },
   {
    "duration": 17,
    "start_time": "2022-05-02T05:18:13.748Z"
   },
   {
    "duration": 42,
    "start_time": "2022-05-02T05:18:13.767Z"
   },
   {
    "duration": 7,
    "start_time": "2022-05-02T05:18:13.813Z"
   },
   {
    "duration": 17,
    "start_time": "2022-05-02T05:18:13.852Z"
   },
   {
    "duration": 9,
    "start_time": "2022-05-02T05:18:13.872Z"
   },
   {
    "duration": 79,
    "start_time": "2022-05-02T05:18:13.884Z"
   },
   {
    "duration": 36,
    "start_time": "2022-05-02T05:18:13.966Z"
   },
   {
    "duration": 68,
    "start_time": "2022-05-02T05:18:14.005Z"
   },
   {
    "duration": 159,
    "start_time": "2022-05-02T05:18:14.076Z"
   },
   {
    "duration": 159,
    "start_time": "2022-05-02T05:18:18.229Z"
   },
   {
    "duration": 16,
    "start_time": "2022-05-02T05:18:38.105Z"
   },
   {
    "duration": 17,
    "start_time": "2022-05-02T05:18:51.789Z"
   },
   {
    "duration": 16,
    "start_time": "2022-05-02T05:18:55.027Z"
   },
   {
    "duration": 47,
    "start_time": "2022-05-02T05:19:19.629Z"
   },
   {
    "duration": 12,
    "start_time": "2022-05-02T05:19:34.324Z"
   },
   {
    "duration": 97,
    "start_time": "2022-05-02T05:19:45.605Z"
   },
   {
    "duration": 14,
    "start_time": "2022-05-02T05:22:15.071Z"
   },
   {
    "duration": 13,
    "start_time": "2022-05-02T05:22:19.952Z"
   },
   {
    "duration": 55,
    "start_time": "2022-05-02T05:22:37.477Z"
   },
   {
    "duration": 1325,
    "start_time": "2022-05-02T05:23:39.271Z"
   },
   {
    "duration": 1275,
    "start_time": "2022-05-02T05:23:50.124Z"
   },
   {
    "duration": 1062,
    "start_time": "2022-05-02T05:23:57.148Z"
   },
   {
    "duration": 4,
    "start_time": "2022-05-02T05:24:05.781Z"
   },
   {
    "duration": 215,
    "start_time": "2022-05-02T05:24:05.788Z"
   },
   {
    "duration": 17,
    "start_time": "2022-05-02T05:24:06.005Z"
   },
   {
    "duration": 59,
    "start_time": "2022-05-02T05:24:06.025Z"
   },
   {
    "duration": 5,
    "start_time": "2022-05-02T05:24:06.089Z"
   },
   {
    "duration": 17,
    "start_time": "2022-05-02T05:24:06.097Z"
   },
   {
    "duration": 9,
    "start_time": "2022-05-02T05:24:06.117Z"
   },
   {
    "duration": 59,
    "start_time": "2022-05-02T05:24:06.128Z"
   },
   {
    "duration": 25,
    "start_time": "2022-05-02T05:24:06.189Z"
   },
   {
    "duration": 56,
    "start_time": "2022-05-02T05:24:06.216Z"
   },
   {
    "duration": 119,
    "start_time": "2022-05-02T05:24:06.274Z"
   },
   {
    "duration": 120,
    "start_time": "2022-05-02T05:24:06.396Z"
   },
   {
    "duration": 104,
    "start_time": "2022-05-02T05:24:06.518Z"
   },
   {
    "duration": 26,
    "start_time": "2022-05-02T05:24:06.627Z"
   },
   {
    "duration": 1543,
    "start_time": "2022-05-02T05:24:12.848Z"
   },
   {
    "duration": 1042,
    "start_time": "2022-05-02T05:24:28.378Z"
   },
   {
    "duration": 4,
    "start_time": "2022-05-02T05:24:41.838Z"
   },
   {
    "duration": 209,
    "start_time": "2022-05-02T05:24:41.845Z"
   },
   {
    "duration": 20,
    "start_time": "2022-05-02T05:24:42.056Z"
   },
   {
    "duration": 41,
    "start_time": "2022-05-02T05:24:42.080Z"
   },
   {
    "duration": 32,
    "start_time": "2022-05-02T05:24:42.124Z"
   },
   {
    "duration": 16,
    "start_time": "2022-05-02T05:24:42.158Z"
   },
   {
    "duration": 8,
    "start_time": "2022-05-02T05:24:42.176Z"
   },
   {
    "duration": 70,
    "start_time": "2022-05-02T05:24:42.186Z"
   },
   {
    "duration": 24,
    "start_time": "2022-05-02T05:24:42.260Z"
   },
   {
    "duration": 34,
    "start_time": "2022-05-02T05:24:42.286Z"
   },
   {
    "duration": 119,
    "start_time": "2022-05-02T05:24:42.322Z"
   },
   {
    "duration": 117,
    "start_time": "2022-05-02T05:24:42.452Z"
   },
   {
    "duration": 97,
    "start_time": "2022-05-02T05:24:42.571Z"
   },
   {
    "duration": 49,
    "start_time": "2022-05-02T05:24:45.705Z"
   },
   {
    "duration": 1048,
    "start_time": "2022-05-02T05:25:03.442Z"
   },
   {
    "duration": 1044,
    "start_time": "2022-05-02T05:25:09.801Z"
   },
   {
    "duration": 1049,
    "start_time": "2022-05-02T05:25:19.316Z"
   },
   {
    "duration": 1419,
    "start_time": "2022-05-02T05:25:56.834Z"
   },
   {
    "duration": 3,
    "start_time": "2022-05-02T05:26:01.485Z"
   },
   {
    "duration": 244,
    "start_time": "2022-05-02T05:26:01.491Z"
   },
   {
    "duration": 22,
    "start_time": "2022-05-02T05:26:01.737Z"
   },
   {
    "duration": 56,
    "start_time": "2022-05-02T05:26:01.761Z"
   },
   {
    "duration": 12,
    "start_time": "2022-05-02T05:26:01.820Z"
   },
   {
    "duration": 29,
    "start_time": "2022-05-02T05:26:01.834Z"
   },
   {
    "duration": 39,
    "start_time": "2022-05-02T05:26:01.866Z"
   },
   {
    "duration": 74,
    "start_time": "2022-05-02T05:26:01.907Z"
   },
   {
    "duration": 39,
    "start_time": "2022-05-02T05:26:01.983Z"
   },
   {
    "duration": 42,
    "start_time": "2022-05-02T05:26:02.025Z"
   },
   {
    "duration": 114,
    "start_time": "2022-05-02T05:26:02.069Z"
   },
   {
    "duration": 119,
    "start_time": "2022-05-02T05:26:02.185Z"
   },
   {
    "duration": 97,
    "start_time": "2022-05-02T05:26:02.307Z"
   },
   {
    "duration": 13,
    "start_time": "2022-05-02T05:26:02.406Z"
   },
   {
    "duration": 2450,
    "start_time": "2022-05-02T05:26:10.054Z"
   },
   {
    "duration": 2377,
    "start_time": "2022-05-02T05:26:22.441Z"
   },
   {
    "duration": 1437,
    "start_time": "2022-05-02T05:27:15.975Z"
   },
   {
    "duration": 3,
    "start_time": "2022-05-02T05:27:22.607Z"
   },
   {
    "duration": 207,
    "start_time": "2022-05-02T05:27:22.613Z"
   },
   {
    "duration": 17,
    "start_time": "2022-05-02T05:27:22.822Z"
   },
   {
    "duration": 41,
    "start_time": "2022-05-02T05:27:22.852Z"
   },
   {
    "duration": 6,
    "start_time": "2022-05-02T05:27:22.898Z"
   },
   {
    "duration": 47,
    "start_time": "2022-05-02T05:27:22.906Z"
   },
   {
    "duration": 7,
    "start_time": "2022-05-02T05:27:22.956Z"
   },
   {
    "duration": 38,
    "start_time": "2022-05-02T05:27:22.966Z"
   },
   {
    "duration": 54,
    "start_time": "2022-05-02T05:27:23.006Z"
   },
   {
    "duration": 34,
    "start_time": "2022-05-02T05:27:23.063Z"
   },
   {
    "duration": 111,
    "start_time": "2022-05-02T05:27:23.100Z"
   },
   {
    "duration": 115,
    "start_time": "2022-05-02T05:27:23.213Z"
   },
   {
    "duration": 97,
    "start_time": "2022-05-02T05:27:23.330Z"
   },
   {
    "duration": 12,
    "start_time": "2022-05-02T05:27:27.074Z"
   },
   {
    "duration": 9,
    "start_time": "2022-05-02T05:33:43.479Z"
   },
   {
    "duration": 14,
    "start_time": "2022-05-02T05:33:49.020Z"
   },
   {
    "duration": 115,
    "start_time": "2022-05-02T05:34:00.989Z"
   },
   {
    "duration": 15,
    "start_time": "2022-05-02T05:34:06.501Z"
   },
   {
    "duration": 14,
    "start_time": "2022-05-02T05:35:43.555Z"
   },
   {
    "duration": 15,
    "start_time": "2022-05-02T05:35:49.944Z"
   },
   {
    "duration": 17,
    "start_time": "2022-05-02T05:36:04.118Z"
   },
   {
    "duration": 9,
    "start_time": "2022-05-02T05:36:56.236Z"
   },
   {
    "duration": 3,
    "start_time": "2022-05-02T05:37:01.752Z"
   },
   {
    "duration": 227,
    "start_time": "2022-05-02T05:37:01.759Z"
   },
   {
    "duration": 17,
    "start_time": "2022-05-02T05:37:01.990Z"
   },
   {
    "duration": 61,
    "start_time": "2022-05-02T05:37:02.010Z"
   },
   {
    "duration": 6,
    "start_time": "2022-05-02T05:37:02.075Z"
   },
   {
    "duration": 13,
    "start_time": "2022-05-02T05:37:02.083Z"
   },
   {
    "duration": 7,
    "start_time": "2022-05-02T05:37:02.099Z"
   },
   {
    "duration": 70,
    "start_time": "2022-05-02T05:37:02.108Z"
   },
   {
    "duration": 36,
    "start_time": "2022-05-02T05:37:02.181Z"
   },
   {
    "duration": 79,
    "start_time": "2022-05-02T05:37:02.220Z"
   },
   {
    "duration": 116,
    "start_time": "2022-05-02T05:37:02.303Z"
   },
   {
    "duration": 134,
    "start_time": "2022-05-02T05:37:02.421Z"
   },
   {
    "duration": 114,
    "start_time": "2022-05-02T05:37:02.558Z"
   },
   {
    "duration": 12,
    "start_time": "2022-05-02T05:37:02.674Z"
   },
   {
    "duration": 5,
    "start_time": "2022-05-02T05:37:02.688Z"
   },
   {
    "duration": 15,
    "start_time": "2022-05-02T05:37:04.443Z"
   },
   {
    "duration": 12,
    "start_time": "2022-05-02T05:37:52.311Z"
   },
   {
    "duration": 3,
    "start_time": "2022-05-02T05:40:09.442Z"
   },
   {
    "duration": 231,
    "start_time": "2022-05-02T05:40:09.449Z"
   },
   {
    "duration": 17,
    "start_time": "2022-05-02T05:40:09.683Z"
   },
   {
    "duration": 64,
    "start_time": "2022-05-02T05:40:09.703Z"
   },
   {
    "duration": 5,
    "start_time": "2022-05-02T05:40:09.772Z"
   },
   {
    "duration": 11,
    "start_time": "2022-05-02T05:40:09.781Z"
   },
   {
    "duration": 7,
    "start_time": "2022-05-02T05:40:09.795Z"
   },
   {
    "duration": 92,
    "start_time": "2022-05-02T05:40:09.804Z"
   },
   {
    "duration": 36,
    "start_time": "2022-05-02T05:40:09.899Z"
   },
   {
    "duration": 56,
    "start_time": "2022-05-02T05:40:09.953Z"
   },
   {
    "duration": 161,
    "start_time": "2022-05-02T05:40:10.012Z"
   },
   {
    "duration": 166,
    "start_time": "2022-05-02T05:40:10.176Z"
   },
   {
    "duration": 135,
    "start_time": "2022-05-02T05:40:10.352Z"
   },
   {
    "duration": 16,
    "start_time": "2022-05-02T05:40:10.490Z"
   },
   {
    "duration": 6,
    "start_time": "2022-05-02T05:40:10.509Z"
   },
   {
    "duration": 44,
    "start_time": "2022-05-02T05:40:10.518Z"
   },
   {
    "duration": 14,
    "start_time": "2022-05-02T05:40:10.564Z"
   },
   {
    "duration": 19,
    "start_time": "2022-05-02T05:40:10.581Z"
   },
   {
    "duration": 55,
    "start_time": "2022-05-02T05:40:10.603Z"
   },
   {
    "duration": 7,
    "start_time": "2022-05-02T05:40:10.661Z"
   },
   {
    "duration": 27,
    "start_time": "2022-05-02T05:40:10.670Z"
   },
   {
    "duration": 21,
    "start_time": "2022-05-02T05:40:10.700Z"
   },
   {
    "duration": 45,
    "start_time": "2022-05-02T05:40:10.723Z"
   },
   {
    "duration": 20,
    "start_time": "2022-05-02T05:40:10.771Z"
   },
   {
    "duration": 23,
    "start_time": "2022-05-02T05:40:10.793Z"
   },
   {
    "duration": 20,
    "start_time": "2022-05-02T05:40:10.853Z"
   },
   {
    "duration": 12,
    "start_time": "2022-05-02T05:40:10.875Z"
   },
   {
    "duration": 17,
    "start_time": "2022-05-02T05:40:10.889Z"
   },
   {
    "duration": 45,
    "start_time": "2022-05-02T05:40:10.908Z"
   },
   {
    "duration": 6,
    "start_time": "2022-05-02T05:40:27.741Z"
   },
   {
    "duration": 12,
    "start_time": "2022-05-02T05:43:07.496Z"
   },
   {
    "duration": 12,
    "start_time": "2022-05-02T05:43:13.165Z"
   },
   {
    "duration": 11,
    "start_time": "2022-05-02T05:44:01.888Z"
   },
   {
    "duration": 16,
    "start_time": "2022-05-02T05:44:25.848Z"
   },
   {
    "duration": 16,
    "start_time": "2022-05-02T05:44:40.642Z"
   },
   {
    "duration": 12,
    "start_time": "2022-05-02T05:45:27.885Z"
   },
   {
    "duration": 11,
    "start_time": "2022-05-02T05:49:05.772Z"
   },
   {
    "duration": 14,
    "start_time": "2022-05-02T05:49:32.229Z"
   },
   {
    "duration": 15,
    "start_time": "2022-05-02T05:50:04.555Z"
   },
   {
    "duration": 12,
    "start_time": "2022-05-02T05:50:43.753Z"
   },
   {
    "duration": 15,
    "start_time": "2022-05-02T05:53:32.453Z"
   },
   {
    "duration": 9,
    "start_time": "2022-05-02T05:53:39.969Z"
   },
   {
    "duration": 13,
    "start_time": "2022-05-02T05:53:49.448Z"
   },
   {
    "duration": 15,
    "start_time": "2022-05-02T05:57:08.568Z"
   },
   {
    "duration": 14,
    "start_time": "2022-05-02T05:57:49.553Z"
   },
   {
    "duration": 12,
    "start_time": "2022-05-02T05:57:55.327Z"
   },
   {
    "duration": 16,
    "start_time": "2022-05-02T06:02:46.399Z"
   },
   {
    "duration": 9,
    "start_time": "2022-05-02T06:09:32.137Z"
   },
   {
    "duration": 4,
    "start_time": "2022-05-02T06:09:41.912Z"
   },
   {
    "duration": 202,
    "start_time": "2022-05-02T06:09:41.922Z"
   },
   {
    "duration": 17,
    "start_time": "2022-05-02T06:09:42.127Z"
   },
   {
    "duration": 41,
    "start_time": "2022-05-02T06:09:42.152Z"
   },
   {
    "duration": 5,
    "start_time": "2022-05-02T06:09:42.196Z"
   },
   {
    "duration": 15,
    "start_time": "2022-05-02T06:09:42.203Z"
   },
   {
    "duration": 32,
    "start_time": "2022-05-02T06:09:42.221Z"
   },
   {
    "duration": 41,
    "start_time": "2022-05-02T06:09:42.255Z"
   },
   {
    "duration": 27,
    "start_time": "2022-05-02T06:09:42.298Z"
   },
   {
    "duration": 50,
    "start_time": "2022-05-02T06:09:42.327Z"
   },
   {
    "duration": 110,
    "start_time": "2022-05-02T06:09:42.380Z"
   },
   {
    "duration": 112,
    "start_time": "2022-05-02T06:09:42.492Z"
   },
   {
    "duration": 93,
    "start_time": "2022-05-02T06:09:42.606Z"
   },
   {
    "duration": 8,
    "start_time": "2022-05-02T06:09:42.701Z"
   },
   {
    "duration": 11,
    "start_time": "2022-05-02T06:09:46.294Z"
   },
   {
    "duration": 9,
    "start_time": "2022-05-02T06:10:06.325Z"
   },
   {
    "duration": 10,
    "start_time": "2022-05-02T06:10:19.033Z"
   },
   {
    "duration": 12,
    "start_time": "2022-05-02T06:11:22.927Z"
   },
   {
    "duration": 12,
    "start_time": "2022-05-02T06:12:33.895Z"
   },
   {
    "duration": 14,
    "start_time": "2022-05-02T06:13:17.651Z"
   },
   {
    "duration": 12,
    "start_time": "2022-05-02T06:13:42.837Z"
   },
   {
    "duration": 12,
    "start_time": "2022-05-02T06:14:16.357Z"
   },
   {
    "duration": 12,
    "start_time": "2022-05-02T06:15:24.109Z"
   },
   {
    "duration": 4,
    "start_time": "2022-05-02T06:15:50.753Z"
   },
   {
    "duration": 230,
    "start_time": "2022-05-02T06:15:50.760Z"
   },
   {
    "duration": 16,
    "start_time": "2022-05-02T06:15:50.994Z"
   },
   {
    "duration": 62,
    "start_time": "2022-05-02T06:15:51.012Z"
   },
   {
    "duration": 6,
    "start_time": "2022-05-02T06:15:51.078Z"
   },
   {
    "duration": 24,
    "start_time": "2022-05-02T06:15:51.086Z"
   },
   {
    "duration": 6,
    "start_time": "2022-05-02T06:15:51.113Z"
   },
   {
    "duration": 56,
    "start_time": "2022-05-02T06:15:51.121Z"
   },
   {
    "duration": 24,
    "start_time": "2022-05-02T06:15:51.180Z"
   },
   {
    "duration": 56,
    "start_time": "2022-05-02T06:15:51.207Z"
   },
   {
    "duration": 111,
    "start_time": "2022-05-02T06:15:51.266Z"
   },
   {
    "duration": 110,
    "start_time": "2022-05-02T06:15:51.380Z"
   },
   {
    "duration": 101,
    "start_time": "2022-05-02T06:15:51.493Z"
   },
   {
    "duration": 12,
    "start_time": "2022-05-02T06:15:51.601Z"
   },
   {
    "duration": 4,
    "start_time": "2022-05-02T06:15:51.616Z"
   },
   {
    "duration": 40,
    "start_time": "2022-05-02T06:15:51.623Z"
   },
   {
    "duration": 14,
    "start_time": "2022-05-02T06:15:51.666Z"
   },
   {
    "duration": 18,
    "start_time": "2022-05-02T06:15:51.683Z"
   },
   {
    "duration": 49,
    "start_time": "2022-05-02T06:15:51.704Z"
   },
   {
    "duration": 6,
    "start_time": "2022-05-02T06:15:51.756Z"
   },
   {
    "duration": 29,
    "start_time": "2022-05-02T06:15:51.765Z"
   },
   {
    "duration": 58,
    "start_time": "2022-05-02T06:15:51.797Z"
   },
   {
    "duration": 22,
    "start_time": "2022-05-02T06:15:51.858Z"
   },
   {
    "duration": 21,
    "start_time": "2022-05-02T06:15:51.883Z"
   },
   {
    "duration": 57,
    "start_time": "2022-05-02T06:15:51.907Z"
   },
   {
    "duration": 23,
    "start_time": "2022-05-02T06:15:51.967Z"
   },
   {
    "duration": 13,
    "start_time": "2022-05-02T06:15:51.992Z"
   },
   {
    "duration": 56,
    "start_time": "2022-05-02T06:15:52.008Z"
   },
   {
    "duration": 16,
    "start_time": "2022-05-02T06:15:52.067Z"
   },
   {
    "duration": 6,
    "start_time": "2022-05-02T06:15:52.086Z"
   },
   {
    "duration": 25,
    "start_time": "2022-05-02T06:15:52.095Z"
   },
   {
    "duration": 18,
    "start_time": "2022-05-02T06:15:52.152Z"
   },
   {
    "duration": 24,
    "start_time": "2022-05-02T06:15:52.172Z"
   },
   {
    "duration": 17,
    "start_time": "2022-05-02T06:15:52.198Z"
   },
   {
    "duration": 14,
    "start_time": "2022-05-02T06:15:52.253Z"
   },
   {
    "duration": 7,
    "start_time": "2022-05-02T06:15:52.269Z"
   },
   {
    "duration": 12,
    "start_time": "2022-05-02T06:15:52.278Z"
   },
   {
    "duration": 7,
    "start_time": "2022-05-02T06:15:52.292Z"
   }
  ],
  "colab": {
   "collapsed_sections": [
    "E0vqbgi9ay0H",
    "VUC88oWjTJw2"
   ],
   "name": "yandex_music_project.ipynb",
   "provenance": []
  },
  "kernelspec": {
   "display_name": "Python 3 (ipykernel)",
   "language": "python",
   "name": "python3"
  },
  "language_info": {
   "codemirror_mode": {
    "name": "ipython",
    "version": 3
   },
   "file_extension": ".py",
   "mimetype": "text/x-python",
   "name": "python",
   "nbconvert_exporter": "python",
   "pygments_lexer": "ipython3",
   "version": "3.9.7"
  },
  "toc": {
   "base_numbering": 1,
   "nav_menu": {},
   "number_sections": true,
   "sideBar": true,
   "skip_h1_title": true,
   "title_cell": "Table of Contents",
   "title_sidebar": "Contents",
   "toc_cell": false,
   "toc_position": {
    "height": "calc(100% - 180px)",
    "left": "10px",
    "top": "150px",
    "width": "270.398px"
   },
   "toc_section_display": true,
   "toc_window_display": true
  }
 },
 "nbformat": 4,
 "nbformat_minor": 1
}
