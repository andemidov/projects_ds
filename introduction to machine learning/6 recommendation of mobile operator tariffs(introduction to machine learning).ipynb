{
 "cells": [
  {
   "cell_type": "markdown",
   "metadata": {},
   "source": [
    "# Рекомендация тарифов"
   ]
  },
  {
   "cell_type": "markdown",
   "metadata": {},
   "source": [
    "В нашем распоряжении данные о поведении клиентов, которые уже пользуются тирифами Smart и Ultra.\n",
    "Задача: построить модель для задачи *классификации*, которая выберет подходящий тариф. Предобработка данных уже сделана ранее.\n",
    "\n",
    "Построить модель с максимально большим значением *accuracy*. Нелбходимо довести долю правильных ответов по крайней мере до 0.75. Проверить *accuracy* на тестовой выборке."
   ]
  },
  {
   "cell_type": "markdown",
   "metadata": {},
   "source": [
    "## Откройте и изучите файл"
   ]
  },
  {
   "cell_type": "code",
   "execution_count": 1,
   "id": "59698431",
   "metadata": {},
   "outputs": [],
   "source": [
    "# импортируем нужные библиотеки\n",
    "import pandas as pd\n",
    "from sklearn.model_selection import train_test_split\n",
    "from sklearn.tree import DecisionTreeClassifier\n",
    "from sklearn.ensemble import RandomForestClassifier\n",
    "from sklearn.linear_model import LogisticRegression\n",
    "from sklearn.model_selection import train_test_split\n",
    "import warnings\n",
    "from tqdm import tqdm\n",
    "from sklearn.dummy import DummyClassifier"
   ]
  },
  {
   "cell_type": "markdown",
   "id": "391e5f65",
   "metadata": {},
   "source": [
    "Читаем полученые данные:"
   ]
  },
  {
   "cell_type": "code",
   "execution_count": 2,
   "id": "c753ad0b",
   "metadata": {},
   "outputs": [
    {
     "name": "stdout",
     "output_type": "stream",
     "text": [
      "<class 'pandas.core.frame.DataFrame'>\n",
      "RangeIndex: 3214 entries, 0 to 3213\n",
      "Data columns (total 5 columns):\n",
      " #   Column    Non-Null Count  Dtype  \n",
      "---  ------    --------------  -----  \n",
      " 0   calls     3214 non-null   float64\n",
      " 1   minutes   3214 non-null   float64\n",
      " 2   messages  3214 non-null   float64\n",
      " 3   mb_used   3214 non-null   float64\n",
      " 4   is_ultra  3214 non-null   int64  \n",
      "dtypes: float64(4), int64(1)\n",
      "memory usage: 125.7 KB\n"
     ]
    },
    {
     "data": {
      "text/html": [
       "<div>\n",
       "<style scoped>\n",
       "    .dataframe tbody tr th:only-of-type {\n",
       "        vertical-align: middle;\n",
       "    }\n",
       "\n",
       "    .dataframe tbody tr th {\n",
       "        vertical-align: top;\n",
       "    }\n",
       "\n",
       "    .dataframe thead th {\n",
       "        text-align: right;\n",
       "    }\n",
       "</style>\n",
       "<table border=\"1\" class=\"dataframe\">\n",
       "  <thead>\n",
       "    <tr style=\"text-align: right;\">\n",
       "      <th></th>\n",
       "      <th>calls</th>\n",
       "      <th>minutes</th>\n",
       "      <th>messages</th>\n",
       "      <th>mb_used</th>\n",
       "      <th>is_ultra</th>\n",
       "    </tr>\n",
       "  </thead>\n",
       "  <tbody>\n",
       "    <tr>\n",
       "      <th>0</th>\n",
       "      <td>40.0</td>\n",
       "      <td>311.90</td>\n",
       "      <td>83.0</td>\n",
       "      <td>19915.42</td>\n",
       "      <td>0</td>\n",
       "    </tr>\n",
       "    <tr>\n",
       "      <th>1</th>\n",
       "      <td>85.0</td>\n",
       "      <td>516.75</td>\n",
       "      <td>56.0</td>\n",
       "      <td>22696.96</td>\n",
       "      <td>0</td>\n",
       "    </tr>\n",
       "    <tr>\n",
       "      <th>2</th>\n",
       "      <td>77.0</td>\n",
       "      <td>467.66</td>\n",
       "      <td>86.0</td>\n",
       "      <td>21060.45</td>\n",
       "      <td>0</td>\n",
       "    </tr>\n",
       "    <tr>\n",
       "      <th>3</th>\n",
       "      <td>106.0</td>\n",
       "      <td>745.53</td>\n",
       "      <td>81.0</td>\n",
       "      <td>8437.39</td>\n",
       "      <td>1</td>\n",
       "    </tr>\n",
       "    <tr>\n",
       "      <th>4</th>\n",
       "      <td>66.0</td>\n",
       "      <td>418.74</td>\n",
       "      <td>1.0</td>\n",
       "      <td>14502.75</td>\n",
       "      <td>0</td>\n",
       "    </tr>\n",
       "  </tbody>\n",
       "</table>\n",
       "</div>"
      ],
      "text/plain": [
       "   calls  minutes  messages   mb_used  is_ultra\n",
       "0   40.0   311.90      83.0  19915.42         0\n",
       "1   85.0   516.75      56.0  22696.96         0\n",
       "2   77.0   467.66      86.0  21060.45         0\n",
       "3  106.0   745.53      81.0   8437.39         1\n",
       "4   66.0   418.74       1.0  14502.75         0"
      ]
     },
     "execution_count": 2,
     "metadata": {},
     "output_type": "execute_result"
    }
   ],
   "source": [
    "# читаем данные спомощью try..except и read_csv\n",
    "try:\n",
    "    dt= pd.read_csv('/datasets/users_behavior.csv')\n",
    "except:\n",
    "    dt = pd.read_csv('/Users/refresh/Downloads/users_behavior.csv')\n",
    "dt.info()\n",
    "dt.head()"
   ]
  },
  {
   "cell_type": "markdown",
   "metadata": {},
   "source": [
    "Описание данных:\n",
    "Каждый объект в наборе данных — это информация о поведении одного пользователя за месяц.\n",
    "\n",
    "сalls — количество звонков,\n",
    "\n",
    "minutes — суммарная длительность звонков в минутах,\n",
    "\n",
    "messages — количество sms-сообщений,\n",
    "\n",
    "mb_used — израсходованный интернет-трафик в Мб,\n",
    "\n",
    "is_ultra — каким тарифом пользовался в течение месяца («Ультра» — 1, «Смарт» — 0).\n",
    "\n",
    "- в таблице нет пропущеных значений\n",
    "- используется нижний регистр\n",
    "- надо поменять тип данных на целочисленный в количестве звонков и сообщениях"
   ]
  },
  {
   "cell_type": "code",
   "execution_count": 3,
   "metadata": {
    "scrolled": false
   },
   "outputs": [
    {
     "name": "stdout",
     "output_type": "stream",
     "text": [
      "<class 'pandas.core.frame.DataFrame'>\n",
      "RangeIndex: 3214 entries, 0 to 3213\n",
      "Data columns (total 5 columns):\n",
      " #   Column    Non-Null Count  Dtype  \n",
      "---  ------    --------------  -----  \n",
      " 0   calls     3214 non-null   Int64  \n",
      " 1   minutes   3214 non-null   float64\n",
      " 2   messages  3214 non-null   Int64  \n",
      " 3   mb_used   3214 non-null   float64\n",
      " 4   is_ultra  3214 non-null   int64  \n",
      "dtypes: Int64(2), float64(2), int64(1)\n",
      "memory usage: 131.9 KB\n"
     ]
    }
   ],
   "source": [
    "# меняем типы данных и проверяем\n",
    "dt['calls'] = dt['calls'].astype('Int64', errors='ignore')\n",
    "dt['messages'] = dt['messages'].astype('Int64', errors='ignore')\n",
    "dt.info()"
   ]
  },
  {
   "cell_type": "code",
   "execution_count": 4,
   "metadata": {},
   "outputs": [
    {
     "data": {
      "text/plain": [
       "0    2229\n",
       "1     985\n",
       "Name: is_ultra, dtype: int64"
      ]
     },
     "execution_count": 4,
     "metadata": {},
     "output_type": "execute_result"
    }
   ],
   "source": [
    "dt['is_ultra'].value_counts()"
   ]
  },
  {
   "cell_type": "markdown",
   "metadata": {},
   "source": [
    "В тарифах преобладает Smart."
   ]
  },
  {
   "cell_type": "markdown",
   "metadata": {},
   "source": [
    "## Разбейте данные на выборки"
   ]
  },
  {
   "cell_type": "code",
   "execution_count": 5,
   "metadata": {
    "scrolled": true
   },
   "outputs": [
    {
     "name": "stdout",
     "output_type": "stream",
     "text": [
      "начальный размер\n",
      "(3214, 4)\n",
      "(3214,)\n",
      "размер тренировочной выборки (60%)\n",
      "(1928, 4)\n",
      "(1928,)\n",
      "размер валидационной выборки (20%)\n",
      "(643, 4)\n",
      "(643,)\n",
      "размер тестовой выборки (20%)\n",
      "(643, 4)\n",
      "(643,)\n"
     ]
    }
   ],
   "source": [
    "# формируем признаки и целевой признак\n",
    "features = dt.drop('is_ultra', axis=1)\n",
    "target = dt['is_ultra']\n",
    "# выделяем тренировочную выборку и временную выборку 40%\n",
    "features_train, features_40, target_train, target_40 = train_test_split(features, target,\\\n",
    "                                                            test_size=.40, random_state=23456, stratify=target)\n",
    "# выделяем валидационную и тестовую выборки\n",
    "features_valid, features_test, target_valid, target_test = train_test_split(features_40, target_40,\\\n",
    "                                                            test_size=.50, random_state=23456, stratify=target_40)\n",
    "# проверка\n",
    "print('начальный размер')\n",
    "print(features.shape)\n",
    "print(target.shape)\n",
    "print('размер тренировочной выборки (60%)')\n",
    "print(features_train.shape)\n",
    "print(target_train.shape)\n",
    "print('размер валидационной выборки (20%)')\n",
    "print(features_valid.shape)\n",
    "print(target_valid.shape)\n",
    "print('размер тестовой выборки (20%)')\n",
    "print(features_test.shape)\n",
    "print(target_test.shape)"
   ]
  },
  {
   "cell_type": "markdown",
   "metadata": {},
   "source": [
    "## Исследуйте модели"
   ]
  },
  {
   "cell_type": "markdown",
   "metadata": {},
   "source": [
    "### Решающее дерево"
   ]
  },
  {
   "cell_type": "code",
   "execution_count": 6,
   "metadata": {},
   "outputs": [
    {
     "name": "stdout",
     "output_type": "stream",
     "text": [
      "лучшее дерево решений: глубина - 8, accuracy - 0.8055987558320373\n",
      "минимальное количество примеров для разделения - 2\n",
      "минимальное количество объектов в листе - 1\n"
     ]
    }
   ],
   "source": [
    "min_samples_leaf = [1, 2, 4, 6, 8]\n",
    "min_samples_split = [2, 4, 6, 10]\n",
    "# создадим переменные для сохранения лучшей модели, лучшей глубины, и лучшей доли правильных ответов\n",
    "best_tree = None\n",
    "best_decision_depth = 0\n",
    "best_decision_split = 0\n",
    "best_decision_leaf = 0\n",
    "best_result_tree = 0\n",
    "# цикл по глубине дерева\n",
    "for depth in range(1,11):\n",
    "    for split in [2, 4, 6, 10]:\n",
    "        for leaf in [1, 2, 4, 6]:\n",
    "            # создаём модель\n",
    "            model_tree = DecisionTreeClassifier(random_state=23456, max_depth=depth,\\\n",
    "                                                min_samples_split=split, min_samples_leaf=leaf)\n",
    "            # обучаем модель\n",
    "            model_tree.fit(features_train, target_train)\n",
    "            # считаем accuracy\n",
    "            result_tree = model_tree.score(features_valid, target_valid)\n",
    "            # условие для выбора лучшего accuracy и сохранение лучших показателей\n",
    "            if result_tree > best_result_tree:\n",
    "                best_tree = model_tree\n",
    "                best_decision_depth = depth\n",
    "                best_result_tree = result_tree\n",
    "                best_decision_split = split\n",
    "                best_decision_leaf = leaf\n",
    "# вывод результата\n",
    "print(f'лучшее дерево решений: глубина - {best_decision_depth}, accuracy - {best_result_tree}')\n",
    "print(f'минимальное количество примеров для разделения - {best_decision_split}')\n",
    "print(f'минимальное количество объектов в листе - {best_decision_leaf}')"
   ]
  },
  {
   "cell_type": "markdown",
   "metadata": {},
   "source": [
    "Из 160 деревьев решений лучший результат показало дерево с глубиной 8. Доля правильных ответов на валидационной выборке 0,805. Минимальное количество примеров для разделения - 2. Минимальное количество объектов в листе - 1"
   ]
  },
  {
   "cell_type": "markdown",
   "metadata": {},
   "source": [
    "### Случайный лес"
   ]
  },
  {
   "cell_type": "code",
   "execution_count": 7,
   "metadata": {},
   "outputs": [
    {
     "name": "stderr",
     "output_type": "stream",
     "text": [
      "100%|██████████| 5/5 [00:56<00:00, 11.38s/it]"
     ]
    },
    {
     "name": "stdout",
     "output_type": "stream",
     "text": [
      "лучший лес: количество деревьев - 30, глубина дерева 8, accuracy - 0.8149300155520995\n",
      "минимальное количество примеров для разделения - 2\n",
      "минимальное количество объектов в листе - 2\n",
      "CPU times: user 56.4 s, sys: 481 ms, total: 56.9 s\n",
      "Wall time: 56.9 s\n"
     ]
    },
    {
     "name": "stderr",
     "output_type": "stream",
     "text": [
      "\n"
     ]
    }
   ],
   "source": [
    "%%time \n",
    "# создадим переменные для сохранения лучшей модели, лучшего количества деревьев, и лучшей доли правильных ответов\n",
    "best_forest = None\n",
    "best_estimators = 0\n",
    "best_forest_depth = 0\n",
    "best_forest_split = 0\n",
    "best_forest_leaf = 0\n",
    "best_result_forest = 0\n",
    "pp=0\n",
    "# цикл по количеству деревьев\n",
    "for est in tqdm(range(10, 51, 10)):\n",
    "    for depth in range(1,11):\n",
    "        for split in [2, 4, 6, 10]:\n",
    "            for leaf in [1, 2, 4, 6]:\n",
    "                pp+=1\n",
    "                # создаём модель\n",
    "                model_forest = RandomForestClassifier(random_state=23456, n_estimators=est, max_depth=depth\\\n",
    "                                                     , min_samples_split=split, min_samples_leaf=leaf)\n",
    "                # обучаем модель\n",
    "                model_forest.fit(features_train, target_train)\n",
    "                # считаем accuracy\n",
    "                result_forest = model_forest.score(features_valid, target_valid)\n",
    "                # условие для выбора лучшего accuracy и сохранение лучших показателей\n",
    "                if result_forest > best_result_forest:\n",
    "                    best_forest = model_forest\n",
    "                    best_estimators = est\n",
    "                    best_result_forest = result_forest\n",
    "                    best_forest_depth = depth\n",
    "                    best_forest_split = split\n",
    "                    best_forest_leaf = leaf\n",
    "# вывод результата\n",
    "print(f'лучший лес: количество деревьев - {best_estimators}, глубина дерева {best_forest_depth}, accuracy - {best_result_forest}')\n",
    "print(f'минимальное количество примеров для разделения - {best_forest_split}')\n",
    "print(f'минимальное количество объектов в листе - {best_forest_leaf}')"
   ]
  },
  {
   "cell_type": "markdown",
   "metadata": {},
   "source": [
    "В случайном лесе мы рассмотрели 800 раз модель с разными параметрами, лучшая стала модель с 30ю деревьями и глубиной 8, доля правильных ответов на валидационной выборке 0,814. Минимальное количество примеров для разделения - 2. Минимальное количество объектов в листе - 2. Способ получился очень долгий и затратный, но обеспечил хорошую долю правильных ответов."
   ]
  },
  {
   "cell_type": "markdown",
   "metadata": {},
   "source": [
    "### Логистическая регрессия"
   ]
  },
  {
   "cell_type": "code",
   "execution_count": 8,
   "metadata": {},
   "outputs": [
    {
     "name": "stdout",
     "output_type": "stream",
     "text": [
      "логистическая регрессия алгоритм newton-cg: accuracy - 0.7558320373250389\n"
     ]
    }
   ],
   "source": [
    "# отключаем предупреждения\n",
    "warnings.filterwarnings('ignore')\n",
    "best_algorithm = ''\n",
    "best_result_logistic = 0\n",
    "for i in ['newton-cg', 'lbfgs', 'liblinear', 'sag', 'saga']:\n",
    "    # создаём модель\n",
    "    model_logistic = LogisticRegression(random_state=23456, solver=i, max_iter=1000)\n",
    "    # обучаем модель\n",
    "    model_logistic.fit(features_train, target_train)\n",
    "    # считаем accuracy\n",
    "    result_logistic = model_logistic.score(features_valid, target_valid)\n",
    "    if result_logistic > best_result_logistic:\n",
    "        best_algorithm = i\n",
    "        best_result_logistic = result_logistic\n",
    "    # вывод результата\n",
    "print(f'логистическая регрессия алгоритм {best_algorithm}: accuracy - {best_result_logistic}')"
   ]
  },
  {
   "cell_type": "markdown",
   "metadata": {},
   "source": [
    "Логистическая регрессия с алгоритмом 'newton-cg' показала лучше остальных, доля правильных ответов на валидационной выборке 0,755."
   ]
  },
  {
   "cell_type": "markdown",
   "metadata": {},
   "source": [
    "## Проверьте модель на тестовой выборке"
   ]
  },
  {
   "cell_type": "markdown",
   "metadata": {},
   "source": [
    "Случайный лес показал лучшие результаты, его будем проверять:"
   ]
  },
  {
   "cell_type": "code",
   "execution_count": 9,
   "metadata": {},
   "outputs": [
    {
     "name": "stdout",
     "output_type": "stream",
     "text": [
      "accuracy на тестовой выборке 0.807153965785381\n"
     ]
    }
   ],
   "source": [
    "# соединяем обучающую и валидационную выборки\n",
    "features_last = pd.concat([features_train, features_valid], sort=False, axis=0)\n",
    "target_last = pd.concat([target_train, target_valid], sort=False, axis=0)\n",
    "# создаём модель\n",
    "forest = RandomForestClassifier(random_state=23456, n_estimators=30, max_depth=8\\\n",
    "                                                     , min_samples_split=2, min_samples_leaf=2)\n",
    "# обучаем модель\n",
    "forest.fit(features_last, target_last)\n",
    "\n",
    "result = forest.score(features_test, target_test)\n",
    "print(f'accuracy на тестовой выборке {result}')"
   ]
  },
  {
   "cell_type": "markdown",
   "metadata": {},
   "source": [
    "***Вывод***\n",
    "\n",
    "**Модель случайного леса** на тестовой выборке показала долю правильных ответов 0,807. Этот показатель нас устраивает."
   ]
  },
  {
   "cell_type": "markdown",
   "metadata": {},
   "source": [
    "## Проверка модели на адекватность"
   ]
  },
  {
   "cell_type": "markdown",
   "metadata": {},
   "source": [
    "Проверим адекватнрость на фиктивных классификаторах:"
   ]
  },
  {
   "cell_type": "code",
   "execution_count": 10,
   "metadata": {},
   "outputs": [
    {
     "name": "stdout",
     "output_type": "stream",
     "text": [
      "strategy = most_frequent, accuracy = 0.6936236391912908\n",
      "strategy = stratified, accuracy = 0.5863141524105754\n",
      "strategy = uniform, accuracy = 0.5147744945567652\n",
      "strategy = constant, accuracy = 0.30637636080870917\n"
     ]
    }
   ],
   "source": [
    "strategies = ['most_frequent', 'stratified', 'uniform', 'constant']\n",
    "# в цикле перебираем стратегии\n",
    "for s in strategies:\n",
    "    if s =='constant':\n",
    "        dymmy = DummyClassifier(strategy = s, random_state = 23456, constant = 1)\n",
    "    else:\n",
    "        dymmy = DummyClassifier(strategy = s, random_state = 23456)\n",
    "    dymmy.fit(features_last, target_last)\n",
    "    score = dymmy.score(features_test, target_test)\n",
    "    print(f'strategy = {s}, accuracy = {score}')"
   ]
  },
  {
   "cell_type": "markdown",
   "metadata": {},
   "source": [
    "# Выводы исследования\n",
    "\n",
    "В нашем исследование даны уже хорошо предобработанные данные. Мы разбили данные на три выборки: обучающую, валидационную и тестовую.Далее построили три модели на разных алгоритмах: **дерево решений, случайный лес и логистичискую регрессию**.\n",
    "\n",
    "Применив несколько гиперпараметров в каждой модели, мы получили, что модель ***случайного леса*** дала лучший результат по доле правельных ответов на тестовой выборке (80%). \n",
    "\n",
    "Процесс построения большого количества моделей в случайном лесе требует затарт на вычислительные ресурсы и времени.\n",
    "\n",
    "Проверка модели на адекватность показала, что на случайных данных всего 69% верных ответов."
   ]
  },
  {
   "cell_type": "markdown",
   "metadata": {},
   "source": [
    "## Чек-лист готовности проекта"
   ]
  },
  {
   "cell_type": "markdown",
   "metadata": {},
   "source": [
    "Поставьте 'x' в выполненных пунктах. Далее нажмите Shift+Enter."
   ]
  },
  {
   "cell_type": "markdown",
   "metadata": {},
   "source": [
    "- [x] Jupyter Notebook открыт\n",
    "- [x] Весь код исполняется без ошибок\n",
    "- [x] Ячейки с кодом расположены в порядке исполнения\n",
    "- [x] Выполнено задание 1: данные загружены и изучены\n",
    "- [x] Выполнено задание 2: данные разбиты на три выборки\n",
    "- [x] Выполнено задание 3: проведено исследование моделей\n",
    "    - [x] Рассмотрено больше одной модели\n",
    "    - [x] Рассмотрено хотя бы 3 значения гипепараметров для какой-нибудь модели\n",
    "    - [x] Написаны выводы по результатам исследования\n",
    "- [x] Выполнено задание 3: Проведено тестирование\n",
    "- [x] Удалось достичь accuracy не меньше 0.75\n"
   ]
  }
 ],
 "metadata": {
  "ExecuteTimeLog": [
   {
    "duration": 3846,
    "start_time": "2022-06-30T13:05:53.788Z"
   },
   {
    "duration": 40,
    "start_time": "2022-06-30T13:05:57.636Z"
   },
   {
    "duration": 12,
    "start_time": "2022-06-30T13:05:57.677Z"
   },
   {
    "duration": 10,
    "start_time": "2022-06-30T13:05:57.691Z"
   },
   {
    "duration": 1161,
    "start_time": "2022-06-30T13:05:57.703Z"
   },
   {
    "duration": 60874,
    "start_time": "2022-06-30T13:05:58.866Z"
   },
   {
    "duration": 544,
    "start_time": "2022-06-30T13:06:59.742Z"
   },
   {
    "duration": 7,
    "start_time": "2022-06-30T13:07:00.288Z"
   },
   {
    "duration": 41,
    "start_time": "2022-06-30T13:07:00.297Z"
   },
   {
    "duration": 26,
    "start_time": "2022-06-30T13:07:00.340Z"
   },
   {
    "duration": 33,
    "start_time": "2022-06-30T13:07:00.368Z"
   },
   {
    "duration": 30,
    "start_time": "2022-06-30T13:07:00.403Z"
   },
   {
    "duration": 46,
    "start_time": "2022-06-30T14:35:58.878Z"
   },
   {
    "duration": 1073,
    "start_time": "2022-06-30T14:36:04.694Z"
   },
   {
    "duration": 68,
    "start_time": "2022-06-30T14:36:05.770Z"
   },
   {
    "duration": 11,
    "start_time": "2022-06-30T14:36:05.840Z"
   },
   {
    "duration": 12,
    "start_time": "2022-06-30T14:36:08.133Z"
   },
   {
    "duration": 5,
    "start_time": "2022-06-30T14:36:09.088Z"
   },
   {
    "duration": 70,
    "start_time": "2022-06-30T14:47:11.428Z"
   },
   {
    "duration": 17,
    "start_time": "2022-06-30T14:48:33.376Z"
   },
   {
    "duration": 14,
    "start_time": "2022-06-30T14:49:05.624Z"
   },
   {
    "duration": 1071,
    "start_time": "2022-06-30T14:49:11.471Z"
   },
   {
    "duration": 60001,
    "start_time": "2022-06-30T14:49:25.086Z"
   },
   {
    "duration": 58796,
    "start_time": "2022-06-30T14:54:13.274Z"
   },
   {
    "duration": 8,
    "start_time": "2022-06-30T14:56:27.482Z"
   },
   {
    "duration": 59436,
    "start_time": "2022-06-30T14:57:21.033Z"
   },
   {
    "duration": 61160,
    "start_time": "2022-06-30T15:00:31.733Z"
   },
   {
    "duration": 60152,
    "start_time": "2022-06-30T15:01:49.951Z"
   },
   {
    "duration": 502,
    "start_time": "2022-06-30T15:12:32.129Z"
   },
   {
    "duration": 12,
    "start_time": "2022-06-30T15:36:36.203Z"
   },
   {
    "duration": 11,
    "start_time": "2022-06-30T15:38:12.866Z"
   },
   {
    "duration": 15,
    "start_time": "2022-06-30T15:38:32.024Z"
   },
   {
    "duration": 28,
    "start_time": "2022-06-30T15:38:52.768Z"
   },
   {
    "duration": 20,
    "start_time": "2022-06-30T15:39:13.656Z"
   },
   {
    "duration": 14,
    "start_time": "2022-06-30T15:39:41.683Z"
   },
   {
    "duration": 10,
    "start_time": "2022-06-30T15:39:49.335Z"
   },
   {
    "duration": 9,
    "start_time": "2022-06-30T15:41:10.151Z"
   },
   {
    "duration": 16,
    "start_time": "2022-06-30T15:41:29.024Z"
   },
   {
    "duration": 26,
    "start_time": "2022-06-30T15:42:53.576Z"
   },
   {
    "duration": 28,
    "start_time": "2022-06-30T15:43:54.630Z"
   },
   {
    "duration": 113,
    "start_time": "2022-06-30T15:51:28.233Z"
   },
   {
    "duration": 115,
    "start_time": "2022-06-30T15:51:44.333Z"
   },
   {
    "duration": 18,
    "start_time": "2022-06-30T15:55:35.511Z"
   },
   {
    "duration": 10,
    "start_time": "2022-06-30T16:03:43.710Z"
   },
   {
    "duration": 3,
    "start_time": "2022-06-30T16:03:50.276Z"
   },
   {
    "duration": 11,
    "start_time": "2022-06-30T16:03:58.201Z"
   },
   {
    "duration": 12,
    "start_time": "2022-06-30T16:07:15.617Z"
   },
   {
    "duration": 1353,
    "start_time": "2022-07-01T05:32:45.037Z"
   },
   {
    "duration": 185,
    "start_time": "2022-07-01T05:32:46.392Z"
   },
   {
    "duration": 10,
    "start_time": "2022-07-01T05:32:46.579Z"
   },
   {
    "duration": 6,
    "start_time": "2022-07-01T05:32:46.591Z"
   },
   {
    "duration": 14,
    "start_time": "2022-07-01T05:32:46.599Z"
   },
   {
    "duration": 1116,
    "start_time": "2022-07-01T05:32:46.615Z"
   },
   {
    "duration": 56887,
    "start_time": "2022-07-01T05:32:47.733Z"
   },
   {
    "duration": 522,
    "start_time": "2022-07-01T05:33:44.622Z"
   },
   {
    "duration": 131,
    "start_time": "2022-07-01T05:33:45.146Z"
   },
   {
    "duration": 10,
    "start_time": "2022-07-01T05:33:45.279Z"
   }
  ],
  "kernelspec": {
   "display_name": "Python 3 (ipykernel)",
   "language": "python",
   "name": "python3"
  },
  "language_info": {
   "codemirror_mode": {
    "name": "ipython",
    "version": 3
   },
   "file_extension": ".py",
   "mimetype": "text/x-python",
   "name": "python",
   "nbconvert_exporter": "python",
   "pygments_lexer": "ipython3",
   "version": "3.9.7"
  },
  "toc": {
   "base_numbering": 1,
   "nav_menu": {},
   "number_sections": true,
   "sideBar": true,
   "skip_h1_title": true,
   "title_cell": "Table of Contents",
   "title_sidebar": "Contents",
   "toc_cell": false,
   "toc_position": {},
   "toc_section_display": true,
   "toc_window_display": false
  }
 },
 "nbformat": 4,
 "nbformat_minor": 2
}
