{
 "cells": [
  {
   "cell_type": "markdown",
   "id": "3c1008c3",
   "metadata": {},
   "source": [
    "# Исследование популярности компютерных игр в интернет-магазине \"Стримчик\"\n",
    "\n",
    "Необходимо выявить определяющие успешность игры закономерности, чтобы выявить потенциально популярный продукт и спланировать рекламные кампании. Так же разработать принцип работы с даннымидля прогноза продаж на будущий год.\n",
    "\n",
    "В работе предполагается несколько этапов:\n",
    "- подгтовка данных, выявление ошибок и путей их появления\n",
    "- подсчёт суммарныч продаж во всех регионах\n",
    "- исследовательский анализ данных \n",
    "    - сколько игр выпускалось в разные годы. Важны ли данные за все периоды?\n",
    "    - как менялись продажи по платформам. За какой характерный срок появляются новые и исчезают старые платформы?\n",
    "    - выявить актуальный период данных для построения прогноза на 2017 год\n",
    "    - Какие платформы лидируют по продажам, растут или падают?\n",
    "    - выявить как влияют на продажи внутри одной популярной платформы отзывы пользователей и критиков\n",
    "    - рассмотреть общее распределение игр по жанрам\n",
    "- определение для пользователя каждого региона (NA, EU, JP):\n",
    "    - самых популярных платформ (топ-5). Различия в долях продаж\n",
    "    - самых популярных жанров (топ-5)\n",
    "    - влияние рейтинга ESRB на продажи в отдельном регионе?\n",
    "- проверка гипотез\n",
    "    - средние пользовательские рейтинги платформ Xbox One и PC одинаковые\n",
    "    - средние пользовательские рейтинги жанров Action и Sports разные\n"
   ]
  },
  {
   "cell_type": "markdown",
   "id": "19680987",
   "metadata": {},
   "source": [
    "## Изучаем данные"
   ]
  },
  {
   "cell_type": "code",
   "execution_count": 2,
   "id": "59698431",
   "metadata": {},
   "outputs": [],
   "source": [
    "# импортируем нужные библиотеки\n",
    "import pandas as pd\n",
    "import numpy as np\n",
    "import seaborn as sb\n",
    "import warnings\n",
    "import matplotlib.pyplot as plt\n",
    "import datetime as dt\n",
    "from scipy import stats as st"
   ]
  },
  {
   "cell_type": "markdown",
   "id": "391e5f65",
   "metadata": {},
   "source": [
    "Читаем полученые данные:"
   ]
  },
  {
   "cell_type": "code",
   "execution_count": 3,
   "id": "c753ad0b",
   "metadata": {},
   "outputs": [],
   "source": [
    "# читаем данные спомощью try..except и read_csv\n",
    "try:\n",
    "    data = pd.read_csv('/datasets/games.csv')\n",
    "except:\n",
    "    data = pd.read_csv('/Users/refresh/Downloads/games.csv')"
   ]
  },
  {
   "cell_type": "code",
   "execution_count": 4,
   "id": "23a46be5",
   "metadata": {},
   "outputs": [
    {
     "data": {
      "text/html": [
       "<div>\n",
       "<style scoped>\n",
       "    .dataframe tbody tr th:only-of-type {\n",
       "        vertical-align: middle;\n",
       "    }\n",
       "\n",
       "    .dataframe tbody tr th {\n",
       "        vertical-align: top;\n",
       "    }\n",
       "\n",
       "    .dataframe thead th {\n",
       "        text-align: right;\n",
       "    }\n",
       "</style>\n",
       "<table border=\"1\" class=\"dataframe\">\n",
       "  <thead>\n",
       "    <tr style=\"text-align: right;\">\n",
       "      <th></th>\n",
       "      <th>Name</th>\n",
       "      <th>Platform</th>\n",
       "      <th>Year_of_Release</th>\n",
       "      <th>Genre</th>\n",
       "      <th>NA_sales</th>\n",
       "      <th>EU_sales</th>\n",
       "      <th>JP_sales</th>\n",
       "      <th>Other_sales</th>\n",
       "      <th>Critic_Score</th>\n",
       "      <th>User_Score</th>\n",
       "      <th>Rating</th>\n",
       "    </tr>\n",
       "  </thead>\n",
       "  <tbody>\n",
       "    <tr>\n",
       "      <th>0</th>\n",
       "      <td>Wii Sports</td>\n",
       "      <td>Wii</td>\n",
       "      <td>2006.0</td>\n",
       "      <td>Sports</td>\n",
       "      <td>41.36</td>\n",
       "      <td>28.96</td>\n",
       "      <td>3.77</td>\n",
       "      <td>8.45</td>\n",
       "      <td>76.0</td>\n",
       "      <td>8</td>\n",
       "      <td>E</td>\n",
       "    </tr>\n",
       "    <tr>\n",
       "      <th>1</th>\n",
       "      <td>Super Mario Bros.</td>\n",
       "      <td>NES</td>\n",
       "      <td>1985.0</td>\n",
       "      <td>Platform</td>\n",
       "      <td>29.08</td>\n",
       "      <td>3.58</td>\n",
       "      <td>6.81</td>\n",
       "      <td>0.77</td>\n",
       "      <td>NaN</td>\n",
       "      <td>NaN</td>\n",
       "      <td>NaN</td>\n",
       "    </tr>\n",
       "    <tr>\n",
       "      <th>2</th>\n",
       "      <td>Mario Kart Wii</td>\n",
       "      <td>Wii</td>\n",
       "      <td>2008.0</td>\n",
       "      <td>Racing</td>\n",
       "      <td>15.68</td>\n",
       "      <td>12.76</td>\n",
       "      <td>3.79</td>\n",
       "      <td>3.29</td>\n",
       "      <td>82.0</td>\n",
       "      <td>8.3</td>\n",
       "      <td>E</td>\n",
       "    </tr>\n",
       "    <tr>\n",
       "      <th>3</th>\n",
       "      <td>Wii Sports Resort</td>\n",
       "      <td>Wii</td>\n",
       "      <td>2009.0</td>\n",
       "      <td>Sports</td>\n",
       "      <td>15.61</td>\n",
       "      <td>10.93</td>\n",
       "      <td>3.28</td>\n",
       "      <td>2.95</td>\n",
       "      <td>80.0</td>\n",
       "      <td>8</td>\n",
       "      <td>E</td>\n",
       "    </tr>\n",
       "    <tr>\n",
       "      <th>4</th>\n",
       "      <td>Pokemon Red/Pokemon Blue</td>\n",
       "      <td>GB</td>\n",
       "      <td>1996.0</td>\n",
       "      <td>Role-Playing</td>\n",
       "      <td>11.27</td>\n",
       "      <td>8.89</td>\n",
       "      <td>10.22</td>\n",
       "      <td>1.00</td>\n",
       "      <td>NaN</td>\n",
       "      <td>NaN</td>\n",
       "      <td>NaN</td>\n",
       "    </tr>\n",
       "  </tbody>\n",
       "</table>\n",
       "</div>"
      ],
      "text/plain": [
       "                       Name Platform  Year_of_Release         Genre  NA_sales  \\\n",
       "0                Wii Sports      Wii           2006.0        Sports     41.36   \n",
       "1         Super Mario Bros.      NES           1985.0      Platform     29.08   \n",
       "2            Mario Kart Wii      Wii           2008.0        Racing     15.68   \n",
       "3         Wii Sports Resort      Wii           2009.0        Sports     15.61   \n",
       "4  Pokemon Red/Pokemon Blue       GB           1996.0  Role-Playing     11.27   \n",
       "\n",
       "   EU_sales  JP_sales  Other_sales  Critic_Score User_Score Rating  \n",
       "0     28.96      3.77         8.45          76.0          8      E  \n",
       "1      3.58      6.81         0.77           NaN        NaN    NaN  \n",
       "2     12.76      3.79         3.29          82.0        8.3      E  \n",
       "3     10.93      3.28         2.95          80.0          8      E  \n",
       "4      8.89     10.22         1.00           NaN        NaN    NaN  "
      ]
     },
     "execution_count": 4,
     "metadata": {},
     "output_type": "execute_result"
    }
   ],
   "source": [
    "# выведем пять строк\n",
    "data.head()"
   ]
  },
  {
   "cell_type": "code",
   "execution_count": 5,
   "id": "400c05d0",
   "metadata": {},
   "outputs": [
    {
     "name": "stdout",
     "output_type": "stream",
     "text": [
      "<class 'pandas.core.frame.DataFrame'>\n",
      "RangeIndex: 16715 entries, 0 to 16714\n",
      "Data columns (total 11 columns):\n",
      " #   Column           Non-Null Count  Dtype  \n",
      "---  ------           --------------  -----  \n",
      " 0   Name             16713 non-null  object \n",
      " 1   Platform         16715 non-null  object \n",
      " 2   Year_of_Release  16446 non-null  float64\n",
      " 3   Genre            16713 non-null  object \n",
      " 4   NA_sales         16715 non-null  float64\n",
      " 5   EU_sales         16715 non-null  float64\n",
      " 6   JP_sales         16715 non-null  float64\n",
      " 7   Other_sales      16715 non-null  float64\n",
      " 8   Critic_Score     8137 non-null   float64\n",
      " 9   User_Score       10014 non-null  object \n",
      " 10  Rating           9949 non-null   object \n",
      "dtypes: float64(6), object(5)\n",
      "memory usage: 1.4+ MB\n"
     ]
    }
   ],
   "source": [
    "# смотрим информацию\n",
    "data.info()"
   ]
  },
  {
   "cell_type": "code",
   "execution_count": 6,
   "id": "1d4c8be3",
   "metadata": {},
   "outputs": [
    {
     "data": {
      "text/plain": [
       "Name                  2\n",
       "Platform              0\n",
       "Year_of_Release     269\n",
       "Genre                 2\n",
       "NA_sales              0\n",
       "EU_sales              0\n",
       "JP_sales              0\n",
       "Other_sales           0\n",
       "Critic_Score       8578\n",
       "User_Score         6701\n",
       "Rating             6766\n",
       "dtype: int64"
      ]
     },
     "execution_count": 6,
     "metadata": {},
     "output_type": "execute_result"
    }
   ],
   "source": [
    "# смотрим пропуски\n",
    "data.isna().sum()"
   ]
  },
  {
   "cell_type": "code",
   "execution_count": 7,
   "id": "abd9672d",
   "metadata": {},
   "outputs": [
    {
     "data": {
      "text/plain": [
       "0"
      ]
     },
     "execution_count": 7,
     "metadata": {},
     "output_type": "execute_result"
    }
   ],
   "source": [
    "# явные дубликаты\n",
    "data.duplicated().sum()"
   ]
  },
  {
   "cell_type": "markdown",
   "id": "99b33a96",
   "metadata": {},
   "source": [
    "**Столбцы:**\n",
    "\n",
    " 1   Name - название игры\n",
    "\n",
    " 2   Platform - платформа, на которой выпущена игра\n",
    " \n",
    " 3   Year_of_Release - год выпуска\n",
    " \n",
    " 4   Genre - жанр игры \n",
    " \n",
    " 5   NA_sales - продажи в Северной Америке (миллионы долларов)\n",
    " \n",
    " 6   EU_sales - продажи в Европе (миллионы долларов)\n",
    " \n",
    " 7   JP_sales - продажи в Японии (миллионы долларов)\n",
    " \n",
    " 8   Other_sales - продажи в других странах (миллионы долларов)\n",
    " \n",
    " 9   Critic_Score - оценка критиков (максимум 100)\n",
    " \n",
    " 10   User_Score - оценка пользователей (максимум 10) \n",
    " \n",
    " 11  Rating - рейтинг от организации ESRB (англ. Entertainment Software Rating Board).Эта ассоциация определяет рейтинг    компьютерных игр и присваивает им подходящую возрастную категорию.\n",
    " \n",
    "### Выводы ознакомления с информацией\n",
    "\n",
    "- таблица состоит из 16715 строк;\n",
    "- есть пропуски;\n",
    "- сделать тип данных даты релиза целым(или \"датой\", если понадобиться); рейтинг пользователей заменим на float;\n",
    "- явных дубликатов нет;\n",
    "- есть заглавные буквы как в данных, так и в названиях столюцов, могут быть  неявные дубликаты.\n"
   ]
  },
  {
   "cell_type": "markdown",
   "id": "66e3761d",
   "metadata": {},
   "source": [
    "## Предобработка данных"
   ]
  },
  {
   "cell_type": "markdown",
   "id": "01c44ba8",
   "metadata": {},
   "source": [
    "Исправляем названия столбцов:"
   ]
  },
  {
   "cell_type": "code",
   "execution_count": 8,
   "id": "d0dbfa23",
   "metadata": {},
   "outputs": [
    {
     "data": {
      "text/plain": [
       "Index(['name', 'platform', 'year_release', 'genre', 'na_sales', 'eu_sales',\n",
       "       'jp_sales', 'other_sales', 'critic_score', 'user_score', 'rating'],\n",
       "      dtype='object')"
      ]
     },
     "execution_count": 8,
     "metadata": {},
     "output_type": "execute_result"
    }
   ],
   "source": [
    "# функция rename со словарем старых и новых названий\n",
    "data = data.rename(columns={\n",
    "    'Name' : 'name',\n",
    "    'Platform' : 'platform',\n",
    "    'Year_of_Release' : 'year_release',\n",
    "    'Genre' : 'genre',\n",
    "    'NA_sales' : 'na_sales',\n",
    "    'EU_sales' : 'eu_sales',\n",
    "    'JP_sales' : 'jp_sales',\n",
    "    'Other_sales' : 'other_sales',\n",
    "    'Critic_Score' : 'critic_score',\n",
    "    'User_Score' : 'user_score',\n",
    "    'Rating' : 'rating'\n",
    "})\n",
    "# проверка\n",
    "data.columns"
   ]
  },
  {
   "cell_type": "markdown",
   "id": "27b4a9a9",
   "metadata": {},
   "source": [
    "Приводим тип столбца с годом к целочисленному:"
   ]
  },
  {
   "cell_type": "code",
   "execution_count": 9,
   "id": "5dd62431",
   "metadata": {},
   "outputs": [
    {
     "data": {
      "text/plain": [
       "0        2006.0\n",
       "1        1985.0\n",
       "2        2008.0\n",
       "3        2009.0\n",
       "4        1996.0\n",
       "          ...  \n",
       "16710    2016.0\n",
       "16711    2006.0\n",
       "16712    2016.0\n",
       "16713    2003.0\n",
       "16714    2016.0\n",
       "Name: year_release, Length: 16715, dtype: float64"
      ]
     },
     "execution_count": 9,
     "metadata": {},
     "output_type": "execute_result"
    }
   ],
   "source": [
    "# приводим к целочисленному типу\n",
    "# data['year_release'] = data['year_release'].astype('Int64')\n",
    "data['year_release'] "
   ]
  },
  {
   "cell_type": "markdown",
   "id": "0f998327",
   "metadata": {},
   "source": [
    "Приведём к нижнему регистру все данные:"
   ]
  },
  {
   "cell_type": "code",
   "execution_count": 10,
   "id": "92f5cf78",
   "metadata": {},
   "outputs": [
    {
     "data": {
      "text/html": [
       "<div>\n",
       "<style scoped>\n",
       "    .dataframe tbody tr th:only-of-type {\n",
       "        vertical-align: middle;\n",
       "    }\n",
       "\n",
       "    .dataframe tbody tr th {\n",
       "        vertical-align: top;\n",
       "    }\n",
       "\n",
       "    .dataframe thead th {\n",
       "        text-align: right;\n",
       "    }\n",
       "</style>\n",
       "<table border=\"1\" class=\"dataframe\">\n",
       "  <thead>\n",
       "    <tr style=\"text-align: right;\">\n",
       "      <th></th>\n",
       "      <th>name</th>\n",
       "      <th>platform</th>\n",
       "      <th>year_release</th>\n",
       "      <th>genre</th>\n",
       "      <th>na_sales</th>\n",
       "      <th>eu_sales</th>\n",
       "      <th>jp_sales</th>\n",
       "      <th>other_sales</th>\n",
       "      <th>critic_score</th>\n",
       "      <th>user_score</th>\n",
       "      <th>rating</th>\n",
       "    </tr>\n",
       "  </thead>\n",
       "  <tbody>\n",
       "    <tr>\n",
       "      <th>0</th>\n",
       "      <td>wii sports</td>\n",
       "      <td>wii</td>\n",
       "      <td>2006.0</td>\n",
       "      <td>sports</td>\n",
       "      <td>41.36</td>\n",
       "      <td>28.96</td>\n",
       "      <td>3.77</td>\n",
       "      <td>8.45</td>\n",
       "      <td>76.0</td>\n",
       "      <td>8</td>\n",
       "      <td>E</td>\n",
       "    </tr>\n",
       "    <tr>\n",
       "      <th>1</th>\n",
       "      <td>super mario bros.</td>\n",
       "      <td>nes</td>\n",
       "      <td>1985.0</td>\n",
       "      <td>platform</td>\n",
       "      <td>29.08</td>\n",
       "      <td>3.58</td>\n",
       "      <td>6.81</td>\n",
       "      <td>0.77</td>\n",
       "      <td>NaN</td>\n",
       "      <td>NaN</td>\n",
       "      <td>NaN</td>\n",
       "    </tr>\n",
       "    <tr>\n",
       "      <th>2</th>\n",
       "      <td>mario kart wii</td>\n",
       "      <td>wii</td>\n",
       "      <td>2008.0</td>\n",
       "      <td>racing</td>\n",
       "      <td>15.68</td>\n",
       "      <td>12.76</td>\n",
       "      <td>3.79</td>\n",
       "      <td>3.29</td>\n",
       "      <td>82.0</td>\n",
       "      <td>8.3</td>\n",
       "      <td>E</td>\n",
       "    </tr>\n",
       "  </tbody>\n",
       "</table>\n",
       "</div>"
      ],
      "text/plain": [
       "                name platform  year_release     genre  na_sales  eu_sales  \\\n",
       "0         wii sports      wii        2006.0    sports     41.36     28.96   \n",
       "1  super mario bros.      nes        1985.0  platform     29.08      3.58   \n",
       "2     mario kart wii      wii        2008.0    racing     15.68     12.76   \n",
       "\n",
       "   jp_sales  other_sales  critic_score user_score rating  \n",
       "0      3.77         8.45          76.0          8      E  \n",
       "1      6.81         0.77           NaN        NaN    NaN  \n",
       "2      3.79         3.29          82.0        8.3      E  "
      ]
     },
     "execution_count": 10,
     "metadata": {},
     "output_type": "execute_result"
    }
   ],
   "source": [
    "# цикл для понижения регистра по нужным столбцам\n",
    "for column in ['name', 'platform', 'genre']:\n",
    "    data[column] = data[column].str.lower()\n",
    "# проверка\n",
    "data.head(3)"
   ]
  },
  {
   "cell_type": "markdown",
   "id": "a5dfef1c",
   "metadata": {},
   "source": [
    "Ознакомимся со столбцами, где есть пропуски:\n",
    "\n",
    "### 'name'"
   ]
  },
  {
   "cell_type": "code",
   "execution_count": 11,
   "id": "d9d2b476",
   "metadata": {},
   "outputs": [
    {
     "data": {
      "text/html": [
       "<div>\n",
       "<style scoped>\n",
       "    .dataframe tbody tr th:only-of-type {\n",
       "        vertical-align: middle;\n",
       "    }\n",
       "\n",
       "    .dataframe tbody tr th {\n",
       "        vertical-align: top;\n",
       "    }\n",
       "\n",
       "    .dataframe thead th {\n",
       "        text-align: right;\n",
       "    }\n",
       "</style>\n",
       "<table border=\"1\" class=\"dataframe\">\n",
       "  <thead>\n",
       "    <tr style=\"text-align: right;\">\n",
       "      <th></th>\n",
       "      <th>name</th>\n",
       "      <th>platform</th>\n",
       "      <th>year_release</th>\n",
       "      <th>genre</th>\n",
       "      <th>na_sales</th>\n",
       "      <th>eu_sales</th>\n",
       "      <th>jp_sales</th>\n",
       "      <th>other_sales</th>\n",
       "      <th>critic_score</th>\n",
       "      <th>user_score</th>\n",
       "      <th>rating</th>\n",
       "    </tr>\n",
       "  </thead>\n",
       "  <tbody>\n",
       "    <tr>\n",
       "      <th>659</th>\n",
       "      <td>NaN</td>\n",
       "      <td>gen</td>\n",
       "      <td>1993.0</td>\n",
       "      <td>NaN</td>\n",
       "      <td>1.78</td>\n",
       "      <td>0.53</td>\n",
       "      <td>0.00</td>\n",
       "      <td>0.08</td>\n",
       "      <td>NaN</td>\n",
       "      <td>NaN</td>\n",
       "      <td>NaN</td>\n",
       "    </tr>\n",
       "    <tr>\n",
       "      <th>14244</th>\n",
       "      <td>NaN</td>\n",
       "      <td>gen</td>\n",
       "      <td>1993.0</td>\n",
       "      <td>NaN</td>\n",
       "      <td>0.00</td>\n",
       "      <td>0.00</td>\n",
       "      <td>0.03</td>\n",
       "      <td>0.00</td>\n",
       "      <td>NaN</td>\n",
       "      <td>NaN</td>\n",
       "      <td>NaN</td>\n",
       "    </tr>\n",
       "  </tbody>\n",
       "</table>\n",
       "</div>"
      ],
      "text/plain": [
       "      name platform  year_release genre  na_sales  eu_sales  jp_sales  \\\n",
       "659    NaN      gen        1993.0   NaN      1.78      0.53      0.00   \n",
       "14244  NaN      gen        1993.0   NaN      0.00      0.00      0.03   \n",
       "\n",
       "       other_sales  critic_score user_score rating  \n",
       "659           0.08           NaN        NaN    NaN  \n",
       "14244         0.00           NaN        NaN    NaN  "
      ]
     },
     "execution_count": 11,
     "metadata": {},
     "output_type": "execute_result"
    }
   ],
   "source": [
    "# смотрим пустые значения\n",
    "data[data['name'].isna()]"
   ]
  },
  {
   "cell_type": "markdown",
   "id": "c7f43e1f",
   "metadata": {},
   "source": [
    "Эти строки не информативные, удалим их(так же есть два пропуска в столбце 'genre' и они тоже в этих строках). Думаю эти данные появились в результате ошибки записи или выгрузки данных."
   ]
  },
  {
   "cell_type": "code",
   "execution_count": 12,
   "id": "4364c6db",
   "metadata": {},
   "outputs": [
    {
     "data": {
      "text/html": [
       "<div>\n",
       "<style scoped>\n",
       "    .dataframe tbody tr th:only-of-type {\n",
       "        vertical-align: middle;\n",
       "    }\n",
       "\n",
       "    .dataframe tbody tr th {\n",
       "        vertical-align: top;\n",
       "    }\n",
       "\n",
       "    .dataframe thead th {\n",
       "        text-align: right;\n",
       "    }\n",
       "</style>\n",
       "<table border=\"1\" class=\"dataframe\">\n",
       "  <thead>\n",
       "    <tr style=\"text-align: right;\">\n",
       "      <th></th>\n",
       "      <th>name</th>\n",
       "      <th>platform</th>\n",
       "      <th>year_release</th>\n",
       "      <th>genre</th>\n",
       "      <th>na_sales</th>\n",
       "      <th>eu_sales</th>\n",
       "      <th>jp_sales</th>\n",
       "      <th>other_sales</th>\n",
       "      <th>critic_score</th>\n",
       "      <th>user_score</th>\n",
       "      <th>rating</th>\n",
       "    </tr>\n",
       "  </thead>\n",
       "  <tbody>\n",
       "  </tbody>\n",
       "</table>\n",
       "</div>"
      ],
      "text/plain": [
       "Empty DataFrame\n",
       "Columns: [name, platform, year_release, genre, na_sales, eu_sales, jp_sales, other_sales, critic_score, user_score, rating]\n",
       "Index: []"
      ]
     },
     "execution_count": 12,
     "metadata": {},
     "output_type": "execute_result"
    }
   ],
   "source": [
    "# удаляем строки с пропусками\n",
    "data = data.dropna(subset=['name'])\n",
    "data[data['name'].isna()]"
   ]
  },
  {
   "cell_type": "markdown",
   "id": "5da45051",
   "metadata": {},
   "source": [
    "### 'year_release'"
   ]
  },
  {
   "cell_type": "code",
   "execution_count": 13,
   "id": "f73be60c",
   "metadata": {},
   "outputs": [
    {
     "data": {
      "text/html": [
       "<div>\n",
       "<style scoped>\n",
       "    .dataframe tbody tr th:only-of-type {\n",
       "        vertical-align: middle;\n",
       "    }\n",
       "\n",
       "    .dataframe tbody tr th {\n",
       "        vertical-align: top;\n",
       "    }\n",
       "\n",
       "    .dataframe thead th {\n",
       "        text-align: right;\n",
       "    }\n",
       "</style>\n",
       "<table border=\"1\" class=\"dataframe\">\n",
       "  <thead>\n",
       "    <tr style=\"text-align: right;\">\n",
       "      <th></th>\n",
       "      <th>name</th>\n",
       "      <th>platform</th>\n",
       "      <th>year_release</th>\n",
       "      <th>genre</th>\n",
       "      <th>na_sales</th>\n",
       "      <th>eu_sales</th>\n",
       "      <th>jp_sales</th>\n",
       "      <th>other_sales</th>\n",
       "      <th>critic_score</th>\n",
       "      <th>user_score</th>\n",
       "      <th>rating</th>\n",
       "    </tr>\n",
       "  </thead>\n",
       "  <tbody>\n",
       "    <tr>\n",
       "      <th>183</th>\n",
       "      <td>madden nfl 2004</td>\n",
       "      <td>ps2</td>\n",
       "      <td>NaN</td>\n",
       "      <td>sports</td>\n",
       "      <td>4.26</td>\n",
       "      <td>0.26</td>\n",
       "      <td>0.01</td>\n",
       "      <td>0.71</td>\n",
       "      <td>94.0</td>\n",
       "      <td>8.5</td>\n",
       "      <td>E</td>\n",
       "    </tr>\n",
       "    <tr>\n",
       "      <th>377</th>\n",
       "      <td>fifa soccer 2004</td>\n",
       "      <td>ps2</td>\n",
       "      <td>NaN</td>\n",
       "      <td>sports</td>\n",
       "      <td>0.59</td>\n",
       "      <td>2.36</td>\n",
       "      <td>0.04</td>\n",
       "      <td>0.51</td>\n",
       "      <td>84.0</td>\n",
       "      <td>6.4</td>\n",
       "      <td>E</td>\n",
       "    </tr>\n",
       "    <tr>\n",
       "      <th>456</th>\n",
       "      <td>lego batman: the videogame</td>\n",
       "      <td>wii</td>\n",
       "      <td>NaN</td>\n",
       "      <td>action</td>\n",
       "      <td>1.80</td>\n",
       "      <td>0.97</td>\n",
       "      <td>0.00</td>\n",
       "      <td>0.29</td>\n",
       "      <td>74.0</td>\n",
       "      <td>7.9</td>\n",
       "      <td>E10+</td>\n",
       "    </tr>\n",
       "    <tr>\n",
       "      <th>475</th>\n",
       "      <td>wwe smackdown vs. raw 2006</td>\n",
       "      <td>ps2</td>\n",
       "      <td>NaN</td>\n",
       "      <td>fighting</td>\n",
       "      <td>1.57</td>\n",
       "      <td>1.02</td>\n",
       "      <td>0.00</td>\n",
       "      <td>0.41</td>\n",
       "      <td>NaN</td>\n",
       "      <td>NaN</td>\n",
       "      <td>NaN</td>\n",
       "    </tr>\n",
       "    <tr>\n",
       "      <th>609</th>\n",
       "      <td>space invaders</td>\n",
       "      <td>2600</td>\n",
       "      <td>NaN</td>\n",
       "      <td>shooter</td>\n",
       "      <td>2.36</td>\n",
       "      <td>0.14</td>\n",
       "      <td>0.00</td>\n",
       "      <td>0.03</td>\n",
       "      <td>NaN</td>\n",
       "      <td>NaN</td>\n",
       "      <td>NaN</td>\n",
       "    </tr>\n",
       "  </tbody>\n",
       "</table>\n",
       "</div>"
      ],
      "text/plain": [
       "                           name platform  year_release     genre  na_sales  \\\n",
       "183             madden nfl 2004      ps2           NaN    sports      4.26   \n",
       "377            fifa soccer 2004      ps2           NaN    sports      0.59   \n",
       "456  lego batman: the videogame      wii           NaN    action      1.80   \n",
       "475  wwe smackdown vs. raw 2006      ps2           NaN  fighting      1.57   \n",
       "609              space invaders     2600           NaN   shooter      2.36   \n",
       "\n",
       "     eu_sales  jp_sales  other_sales  critic_score user_score rating  \n",
       "183      0.26      0.01         0.71          94.0        8.5      E  \n",
       "377      2.36      0.04         0.51          84.0        6.4      E  \n",
       "456      0.97      0.00         0.29          74.0        7.9   E10+  \n",
       "475      1.02      0.00         0.41           NaN        NaN    NaN  \n",
       "609      0.14      0.00         0.03           NaN        NaN    NaN  "
      ]
     },
     "execution_count": 13,
     "metadata": {},
     "output_type": "execute_result"
    }
   ],
   "source": [
    "# выведем несколько строк\n",
    "data[data['year_release'].isna()].head(5)"
   ]
  },
  {
   "cell_type": "markdown",
   "id": "2e2d39ff",
   "metadata": {},
   "source": [
    "Посмотрим, есть ли одинаковые игры, в которых пропущен год на одной платформе, и есть на другой платформе:"
   ]
  },
  {
   "cell_type": "code",
   "execution_count": 14,
   "id": "001350da",
   "metadata": {},
   "outputs": [
    {
     "data": {
      "text/html": [
       "<div>\n",
       "<style scoped>\n",
       "    .dataframe tbody tr th:only-of-type {\n",
       "        vertical-align: middle;\n",
       "    }\n",
       "\n",
       "    .dataframe tbody tr th {\n",
       "        vertical-align: top;\n",
       "    }\n",
       "\n",
       "    .dataframe thead th {\n",
       "        text-align: right;\n",
       "    }\n",
       "</style>\n",
       "<table border=\"1\" class=\"dataframe\">\n",
       "  <thead>\n",
       "    <tr style=\"text-align: right;\">\n",
       "      <th></th>\n",
       "      <th>name</th>\n",
       "      <th>platform</th>\n",
       "      <th>year_release</th>\n",
       "      <th>genre</th>\n",
       "      <th>na_sales</th>\n",
       "      <th>eu_sales</th>\n",
       "      <th>jp_sales</th>\n",
       "      <th>other_sales</th>\n",
       "      <th>critic_score</th>\n",
       "      <th>user_score</th>\n",
       "      <th>rating</th>\n",
       "    </tr>\n",
       "  </thead>\n",
       "  <tbody>\n",
       "    <tr>\n",
       "      <th>183</th>\n",
       "      <td>madden nfl 2004</td>\n",
       "      <td>ps2</td>\n",
       "      <td>NaN</td>\n",
       "      <td>sports</td>\n",
       "      <td>4.26</td>\n",
       "      <td>0.26</td>\n",
       "      <td>0.01</td>\n",
       "      <td>0.71</td>\n",
       "      <td>94.0</td>\n",
       "      <td>8.5</td>\n",
       "      <td>E</td>\n",
       "    </tr>\n",
       "    <tr>\n",
       "      <th>1881</th>\n",
       "      <td>madden nfl 2004</td>\n",
       "      <td>xb</td>\n",
       "      <td>2003.0</td>\n",
       "      <td>sports</td>\n",
       "      <td>1.02</td>\n",
       "      <td>0.02</td>\n",
       "      <td>0.00</td>\n",
       "      <td>0.05</td>\n",
       "      <td>92.0</td>\n",
       "      <td>8.3</td>\n",
       "      <td>E</td>\n",
       "    </tr>\n",
       "    <tr>\n",
       "      <th>3889</th>\n",
       "      <td>madden nfl 2004</td>\n",
       "      <td>gc</td>\n",
       "      <td>2003.0</td>\n",
       "      <td>sports</td>\n",
       "      <td>0.40</td>\n",
       "      <td>0.10</td>\n",
       "      <td>0.00</td>\n",
       "      <td>0.01</td>\n",
       "      <td>94.0</td>\n",
       "      <td>7.7</td>\n",
       "      <td>E</td>\n",
       "    </tr>\n",
       "    <tr>\n",
       "      <th>5708</th>\n",
       "      <td>madden nfl 2004</td>\n",
       "      <td>gba</td>\n",
       "      <td>2003.0</td>\n",
       "      <td>sports</td>\n",
       "      <td>0.22</td>\n",
       "      <td>0.08</td>\n",
       "      <td>0.00</td>\n",
       "      <td>0.01</td>\n",
       "      <td>70.0</td>\n",
       "      <td>6.6</td>\n",
       "      <td>E</td>\n",
       "    </tr>\n",
       "  </tbody>\n",
       "</table>\n",
       "</div>"
      ],
      "text/plain": [
       "                 name platform  year_release   genre  na_sales  eu_sales  \\\n",
       "183   madden nfl 2004      ps2           NaN  sports      4.26      0.26   \n",
       "1881  madden nfl 2004       xb        2003.0  sports      1.02      0.02   \n",
       "3889  madden nfl 2004       gc        2003.0  sports      0.40      0.10   \n",
       "5708  madden nfl 2004      gba        2003.0  sports      0.22      0.08   \n",
       "\n",
       "      jp_sales  other_sales  critic_score user_score rating  \n",
       "183       0.01         0.71          94.0        8.5      E  \n",
       "1881      0.00         0.05          92.0        8.3      E  \n",
       "3889      0.00         0.01          94.0        7.7      E  \n",
       "5708      0.00         0.01          70.0        6.6      E  "
      ]
     },
     "execution_count": 14,
     "metadata": {},
     "output_type": "execute_result"
    }
   ],
   "source": [
    "# выведем несколько строк\n",
    "data[data['name'] == 'madden nfl 2004'].head(5)"
   ]
  },
  {
   "cell_type": "markdown",
   "id": "0f7b0a2a",
   "metadata": {},
   "source": [
    "Заполним годами из других платформ и проверим, все ли пропуски в годе релиза ушли:"
   ]
  },
  {
   "cell_type": "code",
   "execution_count": 15,
   "id": "57f9aae4",
   "metadata": {},
   "outputs": [],
   "source": [
    "# отключаем предупреждения\n",
    "warnings.filterwarnings('ignore')\n",
    "# циклом проходимся по индексам пустых значений\n",
    "# присваиваем пустому году в строке значение(в данном случае минимальное, можно и максимальное) из среза таких же имён \n",
    "for i in data[data['year_release'].isna() == True].index:\n",
    "    data['year_release'][i] = data.loc[data['name'] == data.loc[i]['name'], 'year_release'].max()"
   ]
  },
  {
   "cell_type": "code",
   "execution_count": 16,
   "id": "229b87b2",
   "metadata": {},
   "outputs": [
    {
     "data": {
      "text/plain": [
       "146"
      ]
     },
     "execution_count": 16,
     "metadata": {},
     "output_type": "execute_result"
    }
   ],
   "source": [
    "# проверка, уменьшилось ли количество пропусков\n",
    "data['year_release'].isna().sum()"
   ]
  },
  {
   "cell_type": "markdown",
   "id": "8a164353",
   "metadata": {},
   "source": [
    "Заполнили 45% пустых значений в этом столбце. К остальным пропускам нет возможности получить год релиза, т к он не заполнен ковсем платформам."
   ]
  },
  {
   "cell_type": "markdown",
   "id": "be9ba499",
   "metadata": {},
   "source": [
    "### 'critic_score'"
   ]
  },
  {
   "cell_type": "code",
   "execution_count": 17,
   "id": "2dd78252",
   "metadata": {},
   "outputs": [
    {
     "data": {
      "text/plain": [
       "8576"
      ]
     },
     "execution_count": 17,
     "metadata": {},
     "output_type": "execute_result"
    }
   ],
   "source": [
    "# пропуски\n",
    "data['critic_score'].isna().sum()"
   ]
  },
  {
   "cell_type": "markdown",
   "id": "eb8887cd",
   "metadata": {},
   "source": [
    "Т к нам в исследовании понадобятся данные игр с отсутствующими рейтингами, то заполним сейчас их нулями:"
   ]
  },
  {
   "cell_type": "code",
   "execution_count": 18,
   "id": "4c6edf2b",
   "metadata": {},
   "outputs": [],
   "source": [
    "data['critic_score'] = data['critic_score'].fillna(0)"
   ]
  },
  {
   "cell_type": "markdown",
   "id": "074f377f",
   "metadata": {},
   "source": [
    "### 'user_score'"
   ]
  },
  {
   "cell_type": "code",
   "execution_count": 19,
   "id": "7d22685e",
   "metadata": {},
   "outputs": [
    {
     "data": {
      "text/plain": [
       "tbd    2424\n",
       "7.8     324\n",
       "8       290\n",
       "8.2     282\n",
       "8.3     254\n",
       "       ... \n",
       "0.7       2\n",
       "0.9       2\n",
       "1.9       2\n",
       "0         1\n",
       "9.7       1\n",
       "Name: user_score, Length: 96, dtype: int64"
      ]
     },
     "execution_count": 19,
     "metadata": {},
     "output_type": "execute_result"
    }
   ],
   "source": [
    "# смотрим значения и их частоту\n",
    "data['user_score'].value_counts()"
   ]
  },
  {
   "cell_type": "markdown",
   "id": "34aa1b0d",
   "metadata": {},
   "source": [
    "Значение \"tbd\" значит \"предстоит определить\"(to be determined). Такое значение заносится специально, чтобы показать, что тут не пропуск, а не определились какой ретинг поставить. Считаю эквивалентным заменить на Nan, т к задачи определить долю \"непределившихся\" у нас нет."
   ]
  },
  {
   "cell_type": "code",
   "execution_count": 20,
   "id": "0cee2717",
   "metadata": {},
   "outputs": [
    {
     "data": {
      "text/plain": [
       "7.8    324\n",
       "8      290\n",
       "8.2    282\n",
       "8.3    254\n",
       "8.5    253\n",
       "      ... \n",
       "0.7      2\n",
       "0.9      2\n",
       "1.9      2\n",
       "0        1\n",
       "9.7      1\n",
       "Name: user_score, Length: 95, dtype: int64"
      ]
     },
     "execution_count": 20,
     "metadata": {},
     "output_type": "execute_result"
    }
   ],
   "source": [
    "# заполняем значением nan\n",
    "data[data['user_score'] == 'tbd'] = np.nan\n",
    "data['user_score'].value_counts()"
   ]
  },
  {
   "cell_type": "markdown",
   "id": "73260bc9",
   "metadata": {},
   "source": [
    "В этом столбце очевидно должен быть тип данных float, т к оценка от 0 до 10 с шагом 0,1."
   ]
  },
  {
   "cell_type": "code",
   "execution_count": 21,
   "id": "47ecdfda",
   "metadata": {},
   "outputs": [],
   "source": [
    "# меняем тип на float, игнорируем nan\n",
    "data['user_score'] = data['user_score'].astype('float64', errors='ignore')"
   ]
  },
  {
   "cell_type": "markdown",
   "id": "db94d898",
   "metadata": {},
   "source": [
    "Т к нам в исследовании понадобятся данные игр с отсутствующими рейтингами, то заполним сейчас их нулями:"
   ]
  },
  {
   "cell_type": "code",
   "execution_count": 22,
   "id": "8acaf9ac",
   "metadata": {},
   "outputs": [],
   "source": [
    "data['user_score'] = data['user_score'].fillna(0)"
   ]
  },
  {
   "cell_type": "markdown",
   "id": "c8a805bc",
   "metadata": {},
   "source": [
    "### 'rating'"
   ]
  },
  {
   "cell_type": "code",
   "execution_count": 23,
   "id": "cc21fdd1",
   "metadata": {
    "scrolled": true
   },
   "outputs": [
    {
     "data": {
      "text/plain": [
       "T       2581\n",
       "E       2415\n",
       "M       1521\n",
       "E10+    1050\n",
       "K-A        3\n",
       "RP         3\n",
       "EC         1\n",
       "AO         1\n",
       "Name: rating, dtype: int64"
      ]
     },
     "execution_count": 23,
     "metadata": {},
     "output_type": "execute_result"
    }
   ],
   "source": [
    "# смотрим значения\n",
    "data['rating'].value_counts()"
   ]
  },
  {
   "cell_type": "code",
   "execution_count": 24,
   "id": "ec8da3c2",
   "metadata": {},
   "outputs": [
    {
     "data": {
      "text/plain": [
       "9138"
      ]
     },
     "execution_count": 24,
     "metadata": {},
     "output_type": "execute_result"
    }
   ],
   "source": [
    "data['rating'].isna().sum()"
   ]
  },
  {
   "cell_type": "markdown",
   "id": "dd705675",
   "metadata": {},
   "source": [
    "Т к в исследовании нам надо будет считать продажи в зависимости от рейтинга, то заполним пропуски значением, которое указывает, что рейтинг либо не внесён, либо отсутсвует. К примеру nr(no rating)."
   ]
  },
  {
   "cell_type": "code",
   "execution_count": 25,
   "id": "a977168a",
   "metadata": {},
   "outputs": [],
   "source": [
    "data['rating'] = data['rating'].fillna('nr')"
   ]
  },
  {
   "cell_type": "markdown",
   "id": "02b989a6",
   "metadata": {},
   "source": [
    "### 'platform'"
   ]
  },
  {
   "cell_type": "code",
   "execution_count": 26,
   "id": "86ea3dbb",
   "metadata": {},
   "outputs": [
    {
     "data": {
      "text/plain": [
       "ps2     1921\n",
       "ds      1395\n",
       "ps3     1244\n",
       "x360    1178\n",
       "ps      1152\n",
       "psp     1086\n",
       "pc       925\n",
       "wii      880\n",
       "xb       674\n",
       "gba      560\n",
       "3ds      464\n",
       "gc       453\n",
       "psv      423\n",
       "ps4      386\n",
       "n64      319\n",
       "snes     239\n",
       "xone     236\n",
       "sat      173\n",
       "wiiu     142\n",
       "2600     133\n",
       "nes       98\n",
       "gb        98\n",
       "dc        52\n",
       "gen       27\n",
       "ng        12\n",
       "scd        6\n",
       "ws         6\n",
       "3do        3\n",
       "tg16       2\n",
       "pcfx       1\n",
       "gg         1\n",
       "Name: platform, dtype: int64"
      ]
     },
     "execution_count": 26,
     "metadata": {},
     "output_type": "execute_result"
    }
   ],
   "source": [
    "# смотрим значения\n",
    "data['platform'].value_counts()"
   ]
  },
  {
   "cell_type": "markdown",
   "id": "1c5d68ef",
   "metadata": {},
   "source": [
    "Дубликатов нет."
   ]
  },
  {
   "cell_type": "markdown",
   "id": "4019f216",
   "metadata": {},
   "source": [
    "### 'genre'"
   ]
  },
  {
   "cell_type": "code",
   "execution_count": 27,
   "id": "2fe20324",
   "metadata": {},
   "outputs": [
    {
     "data": {
      "text/plain": [
       "action          2993\n",
       "sports          1935\n",
       "role-playing    1468\n",
       "misc            1301\n",
       "shooter         1224\n",
       "adventure       1144\n",
       "racing          1016\n",
       "fighting         810\n",
       "platform         749\n",
       "strategy         644\n",
       "simulation       636\n",
       "puzzle           369\n",
       "Name: genre, dtype: int64"
      ]
     },
     "execution_count": 27,
     "metadata": {},
     "output_type": "execute_result"
    }
   ],
   "source": [
    "# смотрим значения\n",
    "data['genre'].value_counts()"
   ]
  },
  {
   "cell_type": "markdown",
   "id": "56042b4f",
   "metadata": {},
   "source": [
    "Тоже в норме."
   ]
  },
  {
   "cell_type": "markdown",
   "id": "58c26eeb",
   "metadata": {},
   "source": [
    "## Вывод предобработка данных\n",
    "\n",
    "Преобразовали некоторые типы данных для удобства представления. Удалили немного неинформативных строк в таблице. Заполнили часть пропусков.\n",
    "В даных осталось много пропусков, которые мы не можем сейчас восстановить. Все данные привели  к нижнему регистру, неявных дубликатов нет. В целом данных удалено минимальное количество, можно начинать анализ."
   ]
  },
  {
   "cell_type": "markdown",
   "id": "2825b0b0",
   "metadata": {},
   "source": [
    "## Анализ данных\n",
    "\n",
    "Посчитаем суммарно все продажи по каждой игре по всему миру и внесём в таблицу."
   ]
  },
  {
   "cell_type": "code",
   "execution_count": 28,
   "id": "c026d61d",
   "metadata": {},
   "outputs": [
    {
     "data": {
      "text/html": [
       "<div>\n",
       "<style scoped>\n",
       "    .dataframe tbody tr th:only-of-type {\n",
       "        vertical-align: middle;\n",
       "    }\n",
       "\n",
       "    .dataframe tbody tr th {\n",
       "        vertical-align: top;\n",
       "    }\n",
       "\n",
       "    .dataframe thead th {\n",
       "        text-align: right;\n",
       "    }\n",
       "</style>\n",
       "<table border=\"1\" class=\"dataframe\">\n",
       "  <thead>\n",
       "    <tr style=\"text-align: right;\">\n",
       "      <th></th>\n",
       "      <th>name</th>\n",
       "      <th>platform</th>\n",
       "      <th>year_release</th>\n",
       "      <th>genre</th>\n",
       "      <th>na_sales</th>\n",
       "      <th>eu_sales</th>\n",
       "      <th>jp_sales</th>\n",
       "      <th>other_sales</th>\n",
       "      <th>critic_score</th>\n",
       "      <th>user_score</th>\n",
       "      <th>rating</th>\n",
       "      <th>world_sales</th>\n",
       "    </tr>\n",
       "  </thead>\n",
       "  <tbody>\n",
       "    <tr>\n",
       "      <th>0</th>\n",
       "      <td>wii sports</td>\n",
       "      <td>wii</td>\n",
       "      <td>2006.0</td>\n",
       "      <td>sports</td>\n",
       "      <td>41.36</td>\n",
       "      <td>28.96</td>\n",
       "      <td>3.77</td>\n",
       "      <td>8.45</td>\n",
       "      <td>76.0</td>\n",
       "      <td>8.0</td>\n",
       "      <td>E</td>\n",
       "      <td>82.54</td>\n",
       "    </tr>\n",
       "    <tr>\n",
       "      <th>1</th>\n",
       "      <td>super mario bros.</td>\n",
       "      <td>nes</td>\n",
       "      <td>1985.0</td>\n",
       "      <td>platform</td>\n",
       "      <td>29.08</td>\n",
       "      <td>3.58</td>\n",
       "      <td>6.81</td>\n",
       "      <td>0.77</td>\n",
       "      <td>0.0</td>\n",
       "      <td>0.0</td>\n",
       "      <td>nr</td>\n",
       "      <td>40.24</td>\n",
       "    </tr>\n",
       "    <tr>\n",
       "      <th>2</th>\n",
       "      <td>mario kart wii</td>\n",
       "      <td>wii</td>\n",
       "      <td>2008.0</td>\n",
       "      <td>racing</td>\n",
       "      <td>15.68</td>\n",
       "      <td>12.76</td>\n",
       "      <td>3.79</td>\n",
       "      <td>3.29</td>\n",
       "      <td>82.0</td>\n",
       "      <td>8.3</td>\n",
       "      <td>E</td>\n",
       "      <td>35.52</td>\n",
       "    </tr>\n",
       "  </tbody>\n",
       "</table>\n",
       "</div>"
      ],
      "text/plain": [
       "                name platform  year_release     genre  na_sales  eu_sales  \\\n",
       "0         wii sports      wii        2006.0    sports     41.36     28.96   \n",
       "1  super mario bros.      nes        1985.0  platform     29.08      3.58   \n",
       "2     mario kart wii      wii        2008.0    racing     15.68     12.76   \n",
       "\n",
       "   jp_sales  other_sales  critic_score  user_score rating  world_sales  \n",
       "0      3.77         8.45          76.0         8.0      E        82.54  \n",
       "1      6.81         0.77           0.0         0.0     nr        40.24  \n",
       "2      3.79         3.29          82.0         8.3      E        35.52  "
      ]
     },
     "execution_count": 28,
     "metadata": {},
     "output_type": "execute_result"
    }
   ],
   "source": [
    "# суммируем продажи и заносим в новый столбец\n",
    "data['world_sales'] = data[['na_sales','eu_sales','jp_sales', 'other_sales']].sum(axis = 1)\n",
    "data.head(3)"
   ]
  },
  {
   "cell_type": "code",
   "execution_count": 29,
   "id": "d9932d56",
   "metadata": {},
   "outputs": [
    {
     "data": {
      "image/png": "[encoded data removed]",
      "text/plain": [
       "<Figure size 1080x360 with 1 Axes>"
      ]
     },
     "metadata": {
      "needs_background": "light"
     },
     "output_type": "display_data"
    }
   ],
   "source": [
    "# группируем по году и названию игры, строим график с параметрами\n",
    "data.pivot_table(index='year_release', values='name', aggfunc='count').plot(figsize=(15,5))\n",
    "plt.title(\"Динамика новых игр\")\n",
    "plt.legend('')\n",
    "plt.xlabel(\"Год выхода\")\n",
    "plt.ylabel(\"Количество игр\");"
   ]
  },
  {
   "cell_type": "markdown",
   "id": "3049b357",
   "metadata": {},
   "source": [
    "Из графика видно, что с 1980 по 1993 года выпускалось примерно одинаково маленькое количество игр, т к показатель не привысил 60 шт. Рост начался с 1994 года, как видно на графике. Данные до 1994 можно считать не важными для исследования.\n",
    "\n",
    "Пик роста был 2008 с показателем 1110 шт. Потом мы видим спад до 468 в 2016 г, предположу, что появились хорошие игры на планшетах и смартфонах, что заняло часть рынка покупателей."
   ]
  },
  {
   "cell_type": "code",
   "execution_count": 30,
   "id": "a9b66de5",
   "metadata": {
    "scrolled": false
   },
   "outputs": [
    {
     "data": {
      "text/html": [
       "<div>\n",
       "<style scoped>\n",
       "    .dataframe tbody tr th:only-of-type {\n",
       "        vertical-align: middle;\n",
       "    }\n",
       "\n",
       "    .dataframe tbody tr th {\n",
       "        vertical-align: top;\n",
       "    }\n",
       "\n",
       "    .dataframe thead th {\n",
       "        text-align: right;\n",
       "    }\n",
       "</style>\n",
       "<table border=\"1\" class=\"dataframe\">\n",
       "  <thead>\n",
       "    <tr style=\"text-align: right;\">\n",
       "      <th></th>\n",
       "      <th>world_sales</th>\n",
       "    </tr>\n",
       "    <tr>\n",
       "      <th>platform</th>\n",
       "      <th></th>\n",
       "    </tr>\n",
       "  </thead>\n",
       "  <tbody>\n",
       "    <tr>\n",
       "      <th>ps2</th>\n",
       "      <td>1191.93</td>\n",
       "    </tr>\n",
       "    <tr>\n",
       "      <th>x360</th>\n",
       "      <td>958.84</td>\n",
       "    </tr>\n",
       "    <tr>\n",
       "      <th>ps3</th>\n",
       "      <td>929.40</td>\n",
       "    </tr>\n",
       "    <tr>\n",
       "      <th>wii</th>\n",
       "      <td>807.14</td>\n",
       "    </tr>\n",
       "    <tr>\n",
       "      <th>ps</th>\n",
       "      <td>717.24</td>\n",
       "    </tr>\n",
       "  </tbody>\n",
       "</table>\n",
       "</div>"
      ],
      "text/plain": [
       "          world_sales\n",
       "platform             \n",
       "ps2           1191.93\n",
       "x360           958.84\n",
       "ps3            929.40\n",
       "wii            807.14\n",
       "ps             717.24"
      ]
     },
     "execution_count": 30,
     "metadata": {},
     "output_type": "execute_result"
    },
    {
     "data": {
      "image/png": "[encoded data removed]",
      "text/plain": [
       "<Figure size 1080x720 with 1 Axes>"
      ]
     },
     "metadata": {
      "needs_background": "light"
     },
     "output_type": "display_data"
    }
   ],
   "source": [
    "# группируем по платформа и общим продажам, сортируем по убыванию\n",
    "platform_sale = data.pivot_table(index='platform', values='world_sales', aggfunc='sum').\\\n",
    "sort_values('world_sales', ascending=False)\n",
    "# строим дианграму с параметрами\n",
    "plt.figure(figsize=(15,10))\n",
    "sb.barplot(x=platform_sale['world_sales'], y=platform_sale.index);\n",
    "plt.xlabel(\"Количество (млн. копий)\")\n",
    "plt.ylabel(\"Платформы\")\n",
    "plt.title(\"Количество продаж\");\n",
    "# сохраняем топ 5 платформ по продажам\n",
    "platform_sale = platform_sale.head(5)\n",
    "platform_sale"
   ]
  },
  {
   "cell_type": "markdown",
   "id": "1a83dba7",
   "metadata": {},
   "source": [
    "Из графика видно, что есть очевидные лидеры по числу проданых копий за всё время, топ-5:\n",
    "- ps2 - 1\n",
    "- x360 - 2\n",
    "- ps3 - 3\n",
    "- wii - 4\n",
    "- ps - 5\n",
    "\n",
    "Посмотрим за какой срок появляются новые и исчезают старые платформы. Данные возьмём начиная с 1994 г. как мы вяснили в предыдущем вопросе."
   ]
  },
  {
   "cell_type": "code",
   "execution_count": 31,
   "id": "413dca87",
   "metadata": {},
   "outputs": [],
   "source": [
    "# группируем продажи по платформе и году, срез данных от 1994 и по 5ти платформам\n",
    "actual_platform_sale = data.query('year_release >= 1994 and platform in @platform_sale.index')\\\n",
    "    .pivot_table(index=['platform','year_release'],values='world_sales', aggfunc='sum')\\\n",
    "    .reset_index()"
   ]
  },
  {
   "cell_type": "code",
   "execution_count": 32,
   "id": "0ea41183",
   "metadata": {},
   "outputs": [
    {
     "data": {
      "image/png": "[encoded data removed]",
      "text/plain": [
       "<Figure size 1080x720 with 1 Axes>"
      ]
     },
     "metadata": {
      "needs_background": "light"
     },
     "output_type": "display_data"
    }
   ],
   "source": [
    "# параметры графика\n",
    "plt.figure(figsize=(15,10))\n",
    "plt.title('Продажи')\n",
    "plt.xlabel('Год релизова')\n",
    "plt.ylabel('Продажи (млн.копий)')\n",
    "# в цикле по топовым платформам строим график платформы и продаж по годам\n",
    "for i in platform_sale.index:\n",
    "    for_lineplot = actual_platform_sale.query('platform == @i')\n",
    "    sb.lineplot(for_lineplot['year_release'], for_lineplot['world_sales'], label=i, linewidth = 3)"
   ]
  },
  {
   "cell_type": "markdown",
   "id": "429590b7",
   "metadata": {},
   "source": [
    "###### ***Выводы***\n",
    "\n",
    "Из грфика видно, что платформы в среднем живут 10 лет. Пик продаж наступает после пяти лет продаж платформы. Самые продаваемые были ps2, wii, ps. Платформа wii имела быстрый старт, в отличии от других лидеров. Поскольку некоторые платформы стали не актуальны и индустрия актуальная и следовательно динамичная считаю логичным в исследовании брать данные с 2014 года."
   ]
  },
  {
   "cell_type": "code",
   "execution_count": 33,
   "id": "906b029b",
   "metadata": {},
   "outputs": [
    {
     "data": {
      "text/html": [
       "<div>\n",
       "<style scoped>\n",
       "    .dataframe tbody tr th:only-of-type {\n",
       "        vertical-align: middle;\n",
       "    }\n",
       "\n",
       "    .dataframe tbody tr th {\n",
       "        vertical-align: top;\n",
       "    }\n",
       "\n",
       "    .dataframe thead th {\n",
       "        text-align: right;\n",
       "    }\n",
       "</style>\n",
       "<table border=\"1\" class=\"dataframe\">\n",
       "  <thead>\n",
       "    <tr style=\"text-align: right;\">\n",
       "      <th></th>\n",
       "      <th>world_sales</th>\n",
       "    </tr>\n",
       "    <tr>\n",
       "      <th>platform</th>\n",
       "      <th></th>\n",
       "    </tr>\n",
       "  </thead>\n",
       "  <tbody>\n",
       "    <tr>\n",
       "      <th>ps4</th>\n",
       "      <td>188.01</td>\n",
       "    </tr>\n",
       "    <tr>\n",
       "      <th>xone</th>\n",
       "      <td>85.74</td>\n",
       "    </tr>\n",
       "    <tr>\n",
       "      <th>3ds</th>\n",
       "      <td>42.31</td>\n",
       "    </tr>\n",
       "    <tr>\n",
       "      <th>wiiu</th>\n",
       "      <td>20.57</td>\n",
       "    </tr>\n",
       "    <tr>\n",
       "      <th>ps3</th>\n",
       "      <td>19.46</td>\n",
       "    </tr>\n",
       "  </tbody>\n",
       "</table>\n",
       "</div>"
      ],
      "text/plain": [
       "          world_sales\n",
       "platform             \n",
       "ps4            188.01\n",
       "xone            85.74\n",
       "3ds             42.31\n",
       "wiiu            20.57\n",
       "ps3             19.46"
      ]
     },
     "metadata": {},
     "output_type": "display_data"
    },
    {
     "data": {
      "image/png": "[encoded data removed]",
      "text/plain": [
       "<Figure size 504x360 with 1 Axes>"
      ]
     },
     "metadata": {
      "needs_background": "light"
     },
     "output_type": "display_data"
    }
   ],
   "source": [
    "# убираем из оновной таблицы неактуальные данные для дальнейшего анализа\n",
    "data = data.query('year_release > 2014')\n",
    "platform_sale = data.pivot_table(index='platform', values='world_sales', aggfunc='sum').\\\n",
    "sort_values('world_sales', ascending=False)\n",
    "# сохраняем топ 5 платформ по продажам\n",
    "platform_sale = platform_sale.head(5)\n",
    "display(platform_sale)\n",
    "actual_platform_sale = data.query('year_release > 2014 and platform in @platform_sale.index')\\\n",
    "    .pivot_table(index=['platform','year_release'],values='world_sales', aggfunc='sum')\\\n",
    "    .reset_index()\n",
    "# строим дианграму с параметрами\n",
    "plt.figure(figsize=(7,5))\n",
    "sb.barplot(x=platform_sale['world_sales'], y=platform_sale.index);\n",
    "plt.xlabel(\"Количество (млн. копий)\")\n",
    "plt.ylabel(\"Платформы\")\n",
    "plt.title(\"Количество продаж\");"
   ]
  },
  {
   "cell_type": "markdown",
   "id": "471bc28f",
   "metadata": {},
   "source": [
    "Есть новый топ-5."
   ]
  },
  {
   "cell_type": "markdown",
   "id": "5f2b7f8d",
   "metadata": {},
   "source": [
    "Построим ящики с усами по по продажам на платформах и оценим распределение:"
   ]
  },
  {
   "cell_type": "code",
   "execution_count": 34,
   "id": "7a9d0fa9",
   "metadata": {
    "scrolled": false
   },
   "outputs": [
    {
     "data": {
      "image/png": "[encoded data removed]",
      "text/plain": [
       "<Figure size 864x720 with 1 Axes>"
      ]
     },
     "metadata": {
      "needs_background": "light"
     },
     "output_type": "display_data"
    }
   ],
   "source": [
    "plt.figure(figsize=(12,10))\n",
    "# строим ящики с усами для платформ\n",
    "sb.boxplot(data=actual_platform_sale, x='platform', y='world_sales')\n",
    "plt.title('Ящик с усами по глобальным продажам игр по платформам')\n",
    "plt.xlabel('Платформы')\n",
    "plt.ylabel('Продажи (млн.копий)');"
   ]
  },
  {
   "cell_type": "code",
   "execution_count": 35,
   "id": "1e6e7992",
   "metadata": {},
   "outputs": [
    {
     "data": {
      "image/png": "[encoded data removed]",
      "text/plain": [
       "<Figure size 864x720 with 1 Axes>"
      ]
     },
     "metadata": {
      "needs_background": "light"
     },
     "output_type": "display_data"
    }
   ],
   "source": [
    "actual_platform_sale2 = data.query('platform in @platform_sale.index')\n",
    "plt.figure(figsize=(12,10))\n",
    "# строим ящики с усами для платформ\n",
    "sb.boxplot(data=actual_platform_sale2, x='platform', y='world_sales')\n",
    "plt.title('Ящик с усами по глобальным продажам игр по платформам')\n",
    "plt.xlabel('Платформы')\n",
    "plt.ylabel('Продажи (млн.копий)');"
   ]
  },
  {
   "cell_type": "markdown",
   "id": "e4d5efc6",
   "metadata": {},
   "source": [
    "***Вывод***\n",
    "\n",
    "Самые высокие продажи от 2014(включительно) демонстрирует ps4, далее xone, 3ds, wiiu и ps3. \n",
    "Медианное значение у всех разное, лидирует с большим разрывом ps4, после идёт xone, соответственно средий доход в стране присутствия у них выше. У платформы ps4 верхняя граница ящика выше, к тому же по выбросам видно, что были большие значения. У xone и 3ds тоже есть выбросы в больших значениях. Это говорит о том, что в некоторые периоды у них тоже продажи были высокими."
   ]
  },
  {
   "cell_type": "markdown",
   "id": "592c3da4",
   "metadata": {},
   "source": [
    "Посмотрим, как влияют на продажи внутри одной популярной платформы(возьмём  ps4) отзывы пользователей и критиков. Построим диаграмму рассеяния и посчитаем корреляцию между отзывами и продажами."
   ]
  },
  {
   "cell_type": "code",
   "execution_count": 36,
   "id": "28bc3777",
   "metadata": {
    "scrolled": false
   },
   "outputs": [
    {
     "name": "stdout",
     "output_type": "stream",
     "text": [
      "Коэффициент корреляции Продажи / Отзывы пользователей  -0.06\n"
     ]
    },
    {
     "data": {
      "image/png": "[encoded data removed]",
      "text/plain": [
       "<Figure size 936x720 with 1 Axes>"
      ]
     },
     "metadata": {
      "needs_background": "light"
     },
     "output_type": "display_data"
    },
    {
     "name": "stdout",
     "output_type": "stream",
     "text": [
      "Коэффициент корреляции Продажи / Отзывы критиков  0.39\n"
     ]
    },
    {
     "data": {
      "image/png": "[encoded data removed]",
      "text/plain": [
       "<Figure size 936x720 with 1 Axes>"
      ]
     },
     "metadata": {
      "needs_background": "light"
     },
     "output_type": "display_data"
    }
   ],
   "source": [
    "# данные по ps2\n",
    "# убираем нули\n",
    "ps2_platform = data.query('platform == \"ps4\" and user_score > 0 and critic_score >0')\n",
    "# график\n",
    "ps2_platform.plot(x='user_score', y='world_sales', kind='scatter', figsize=(13,10))\n",
    "plt.title('Продажи / Отзывы пользователей')\n",
    "plt.xlabel('Отзывы пользователей')\n",
    "plt.ylabel('Продажи (млн.копий)');\n",
    "# вывод на экран коэффициента корреляции\n",
    "print('Коэффициент корреляции Продажи / Отзывы пользователей ', round(ps2_platform['user_score'].corr(ps2_platform['world_sales']), 2))\n",
    "plt.show()\n",
    "print('Коэффициент корреляции Продажи / Отзывы критиков ', round(ps2_platform['critic_score'].corr(ps2_platform['world_sales']), 2))\n",
    "\n",
    "ps2_platform.plot(x='critic_score', y='world_sales', kind='scatter', figsize=(13,10))\n",
    "plt.title('Продажи / Отзывы критиков')\n",
    "plt.xlabel('Отзывы критиков')\n",
    "plt.ylabel('Продажи (млн.копий)');"
   ]
  },
  {
   "cell_type": "markdown",
   "id": "c8e7c123",
   "metadata": {},
   "source": [
    "***Выводы***\n",
    "\n",
    "Зависимость между продажами и отзывами пользователей низкая. Зависимость продаж от оценок критиков уже средняя и больше влияет.\n",
    "\n",
    "Посмотрим зависимость на други top-5 платформах:"
   ]
  },
  {
   "cell_type": "code",
   "execution_count": 37,
   "id": "f05462a1",
   "metadata": {
    "scrolled": true
   },
   "outputs": [
    {
     "name": "stdout",
     "output_type": "stream",
     "text": [
      "Коэффициент корреляции Продажи / Отзывы пользователей  ps4 -0.06\n"
     ]
    },
    {
     "data": {
      "image/png": "[encoded data removed]",
      "text/plain": [
       "<Figure size 432x288 with 1 Axes>"
      ]
     },
     "metadata": {
      "needs_background": "light"
     },
     "output_type": "display_data"
    },
    {
     "name": "stdout",
     "output_type": "stream",
     "text": [
      "Коэффициент корреляции Продажи / Отзывы критиков  ps4 0.39\n"
     ]
    },
    {
     "data": {
      "image/png": "[encoded data removed]",
      "text/plain": [
       "<Figure size 432x288 with 1 Axes>"
      ]
     },
     "metadata": {
      "needs_background": "light"
     },
     "output_type": "display_data"
    },
    {
     "name": "stdout",
     "output_type": "stream",
     "text": [
      "Коэффициент корреляции Продажи / Отзывы пользователей  xone -0.07\n"
     ]
    },
    {
     "data": {
      "image/png": "[encoded data removed]",
      "text/plain": [
       "<Figure size 432x288 with 1 Axes>"
      ]
     },
     "metadata": {
      "needs_background": "light"
     },
     "output_type": "display_data"
    },
    {
     "name": "stdout",
     "output_type": "stream",
     "text": [
      "Коэффициент корреляции Продажи / Отзывы критиков  xone 0.42\n"
     ]
    },
    {
     "data": {
      "image/png": "[encoded data removed]",
      "text/plain": [
       "<Figure size 432x288 with 1 Axes>"
      ]
     },
     "metadata": {
      "needs_background": "light"
     },
     "output_type": "display_data"
    },
    {
     "name": "stdout",
     "output_type": "stream",
     "text": [
      "Коэффициент корреляции Продажи / Отзывы пользователей  3ds 0.24\n"
     ]
    },
    {
     "data": {
      "image/png": "[encoded data removed]",
      "text/plain": [
       "<Figure size 432x288 with 1 Axes>"
      ]
     },
     "metadata": {
      "needs_background": "light"
     },
     "output_type": "display_data"
    },
    {
     "name": "stdout",
     "output_type": "stream",
     "text": [
      "Коэффициент корреляции Продажи / Отзывы критиков  3ds 0.18\n"
     ]
    },
    {
     "data": {
      "image/png": "[encoded data removed]",
      "text/plain": [
       "<Figure size 432x288 with 1 Axes>"
      ]
     },
     "metadata": {
      "needs_background": "light"
     },
     "output_type": "display_data"
    },
    {
     "name": "stdout",
     "output_type": "stream",
     "text": [
      "Коэффициент корреляции Продажи / Отзывы пользователей  wiiu 0.35\n"
     ]
    },
    {
     "data": {
      "image/png": "[encoded data removed]",
      "text/plain": [
       "<Figure size 432x288 with 1 Axes>"
      ]
     },
     "metadata": {
      "needs_background": "light"
     },
     "output_type": "display_data"
    },
    {
     "name": "stdout",
     "output_type": "stream",
     "text": [
      "Коэффициент корреляции Продажи / Отзывы критиков  wiiu 0.33\n"
     ]
    },
    {
     "data": {
      "image/png": "[encoded data removed]",
      "text/plain": [
       "<Figure size 432x288 with 1 Axes>"
      ]
     },
     "metadata": {
      "needs_background": "light"
     },
     "output_type": "display_data"
    },
    {
     "name": "stdout",
     "output_type": "stream",
     "text": [
      "Коэффициент корреляции Продажи / Отзывы пользователей  ps3 nan\n"
     ]
    },
    {
     "data": {
      "image/png": "[encoded data removed]",
      "text/plain": [
       "<Figure size 432x288 with 1 Axes>"
      ]
     },
     "metadata": {
      "needs_background": "light"
     },
     "output_type": "display_data"
    },
    {
     "name": "stdout",
     "output_type": "stream",
     "text": [
      "Коэффициент корреляции Продажи / Отзывы критиков  ps3 nan\n"
     ]
    },
    {
     "data": {
      "image/png": "[encoded data removed]",
      "text/plain": [
       "<Figure size 432x288 with 1 Axes>"
      ]
     },
     "metadata": {
      "needs_background": "light"
     },
     "output_type": "display_data"
    }
   ],
   "source": [
    "# циклдля построения графика и корреляции по остальным платформам\n",
    "for i in platform_sale.index:\n",
    "    data_platform = data.query('platform == @i and user_score > 0 and critic_score >0')\n",
    "    cor1 = round(data_platform['user_score'].corr(data_platform['world_sales']), 2)\n",
    "    cor2 = round(data_platform['critic_score'].corr(data_platform['world_sales']), 2)\n",
    "    data_platform.plot(x='user_score', y='world_sales', kind='scatter')\n",
    "    plt.title(i)\n",
    "    plt.xlabel('Отзывы пользователей')\n",
    "    plt.ylabel('Продажи (млн.копий)');\n",
    "    print('Коэффициент корреляции Продажи / Отзывы пользователей ', i, cor1)\n",
    "    plt.show()\n",
    "    data_platform.plot(x='critic_score', y='world_sales', kind='scatter')\n",
    "    plt.title(i)\n",
    "    plt.xlabel('Отзывы критиков')\n",
    "    plt.ylabel('Продажи (млн.копий)');\n",
    "    print('Коэффициент корреляции Продажи / Отзывы критиков ', i, cor2) \n",
    "    plt.show()"
   ]
  },
  {
   "cell_type": "markdown",
   "id": "73e770da",
   "metadata": {},
   "source": [
    "***Вывод***\n",
    "\n",
    "Зависимости от оценок пользователей почти не наблюдается, есть средняя зависимость от оцеок критиков.\n",
    "\n",
    "\n",
    "Посмотрим общее распределение игр по жанрам."
   ]
  },
  {
   "cell_type": "code",
   "execution_count": 38,
   "id": "709844c9",
   "metadata": {},
   "outputs": [
    {
     "data": {
      "text/html": [
       "<div>\n",
       "<style scoped>\n",
       "    .dataframe tbody tr th:only-of-type {\n",
       "        vertical-align: middle;\n",
       "    }\n",
       "\n",
       "    .dataframe tbody tr th {\n",
       "        vertical-align: top;\n",
       "    }\n",
       "\n",
       "    .dataframe thead th {\n",
       "        text-align: right;\n",
       "    }\n",
       "</style>\n",
       "<table border=\"1\" class=\"dataframe\">\n",
       "  <thead>\n",
       "    <tr style=\"text-align: right;\">\n",
       "      <th></th>\n",
       "      <th>name</th>\n",
       "    </tr>\n",
       "    <tr>\n",
       "      <th>genre</th>\n",
       "      <th></th>\n",
       "    </tr>\n",
       "  </thead>\n",
       "  <tbody>\n",
       "    <tr>\n",
       "      <th>action</th>\n",
       "      <td>400</td>\n",
       "    </tr>\n",
       "    <tr>\n",
       "      <th>role-playing</th>\n",
       "      <td>132</td>\n",
       "    </tr>\n",
       "    <tr>\n",
       "      <th>adventure</th>\n",
       "      <td>106</td>\n",
       "    </tr>\n",
       "    <tr>\n",
       "      <th>sports</th>\n",
       "      <td>98</td>\n",
       "    </tr>\n",
       "    <tr>\n",
       "      <th>shooter</th>\n",
       "      <td>77</td>\n",
       "    </tr>\n",
       "    <tr>\n",
       "      <th>misc</th>\n",
       "      <td>59</td>\n",
       "    </tr>\n",
       "    <tr>\n",
       "      <th>racing</th>\n",
       "      <td>41</td>\n",
       "    </tr>\n",
       "    <tr>\n",
       "      <th>fighting</th>\n",
       "      <td>35</td>\n",
       "    </tr>\n",
       "    <tr>\n",
       "      <th>simulation</th>\n",
       "      <td>30</td>\n",
       "    </tr>\n",
       "    <tr>\n",
       "      <th>strategy</th>\n",
       "      <td>29</td>\n",
       "    </tr>\n",
       "    <tr>\n",
       "      <th>platform</th>\n",
       "      <td>24</td>\n",
       "    </tr>\n",
       "    <tr>\n",
       "      <th>puzzle</th>\n",
       "      <td>5</td>\n",
       "    </tr>\n",
       "  </tbody>\n",
       "</table>\n",
       "</div>"
      ],
      "text/plain": [
       "              name\n",
       "genre             \n",
       "action         400\n",
       "role-playing   132\n",
       "adventure      106\n",
       "sports          98\n",
       "shooter         77\n",
       "misc            59\n",
       "racing          41\n",
       "fighting        35\n",
       "simulation      30\n",
       "strategy        29\n",
       "platform        24\n",
       "puzzle           5"
      ]
     },
     "execution_count": 38,
     "metadata": {},
     "output_type": "execute_result"
    },
    {
     "data": {
      "image/png": "[encoded data removed]",
      "text/plain": [
       "<Figure size 936x504 with 1 Axes>"
      ]
     },
     "metadata": {
      "needs_background": "light"
     },
     "output_type": "display_data"
    }
   ],
   "source": [
    "# группировка и график\n",
    "genre_count = data.pivot_table(index='genre', values='name', aggfunc='count').sort_values('name',ascending=False)\n",
    "plt.figure(figsize=(13,7))\n",
    "sb.barplot(x=genre_count['name'], y=genre_count.index);\n",
    "plt.xlabel(\"Количество игр\")\n",
    "plt.ylabel(\"Жанры\")\n",
    "plt.title(\"Жанры / Игры\");\n",
    "genre_count"
   ]
  },
  {
   "cell_type": "code",
   "execution_count": 39,
   "id": "2b6bad6c",
   "metadata": {},
   "outputs": [
    {
     "data": {
      "text/html": [
       "<div>\n",
       "<style scoped>\n",
       "    .dataframe tbody tr th:only-of-type {\n",
       "        vertical-align: middle;\n",
       "    }\n",
       "\n",
       "    .dataframe tbody tr th {\n",
       "        vertical-align: top;\n",
       "    }\n",
       "\n",
       "    .dataframe thead th {\n",
       "        text-align: right;\n",
       "    }\n",
       "</style>\n",
       "<table border=\"1\" class=\"dataframe\">\n",
       "  <thead>\n",
       "    <tr style=\"text-align: right;\">\n",
       "      <th></th>\n",
       "      <th>world_sales</th>\n",
       "    </tr>\n",
       "    <tr>\n",
       "      <th>genre</th>\n",
       "      <th></th>\n",
       "    </tr>\n",
       "  </thead>\n",
       "  <tbody>\n",
       "    <tr>\n",
       "      <th>shooter</th>\n",
       "      <td>105.53</td>\n",
       "    </tr>\n",
       "    <tr>\n",
       "      <th>action</th>\n",
       "      <td>100.56</td>\n",
       "    </tr>\n",
       "    <tr>\n",
       "      <th>sports</th>\n",
       "      <td>63.95</td>\n",
       "    </tr>\n",
       "    <tr>\n",
       "      <th>role-playing</th>\n",
       "      <td>55.82</td>\n",
       "    </tr>\n",
       "    <tr>\n",
       "      <th>misc</th>\n",
       "      <td>12.60</td>\n",
       "    </tr>\n",
       "    <tr>\n",
       "      <th>fighting</th>\n",
       "      <td>12.29</td>\n",
       "    </tr>\n",
       "    <tr>\n",
       "      <th>adventure</th>\n",
       "      <td>11.88</td>\n",
       "    </tr>\n",
       "    <tr>\n",
       "      <th>racing</th>\n",
       "      <td>10.81</td>\n",
       "    </tr>\n",
       "    <tr>\n",
       "      <th>platform</th>\n",
       "      <td>8.85</td>\n",
       "    </tr>\n",
       "    <tr>\n",
       "      <th>simulation</th>\n",
       "      <td>7.40</td>\n",
       "    </tr>\n",
       "    <tr>\n",
       "      <th>strategy</th>\n",
       "      <td>2.98</td>\n",
       "    </tr>\n",
       "    <tr>\n",
       "      <th>puzzle</th>\n",
       "      <td>0.68</td>\n",
       "    </tr>\n",
       "  </tbody>\n",
       "</table>\n",
       "</div>"
      ],
      "text/plain": [
       "              world_sales\n",
       "genre                    \n",
       "shooter            105.53\n",
       "action             100.56\n",
       "sports              63.95\n",
       "role-playing        55.82\n",
       "misc                12.60\n",
       "fighting            12.29\n",
       "adventure           11.88\n",
       "racing              10.81\n",
       "platform             8.85\n",
       "simulation           7.40\n",
       "strategy             2.98\n",
       "puzzle               0.68"
      ]
     },
     "execution_count": 39,
     "metadata": {},
     "output_type": "execute_result"
    },
    {
     "data": {
      "image/png": "[encoded data removed]",
      "text/plain": [
       "<Figure size 936x504 with 1 Axes>"
      ]
     },
     "metadata": {
      "needs_background": "light"
     },
     "output_type": "display_data"
    }
   ],
   "source": [
    "# группировка и график\n",
    "genre_sale = data.pivot_table(index='genre', values='world_sales', aggfunc='sum').sort_values('world_sales',ascending=False)\n",
    "plt.figure(figsize=(13,7))\n",
    "sb.barplot(x=genre_sale['world_sales'], y=genre_sale.index);\n",
    "plt.xlabel(\"Продажи (млн.копий)\")\n",
    "plt.ylabel(\"Жанры\")\n",
    "plt.title(\"Жанры / Продажи (млн.копий)\");\n",
    "genre_sale"
   ]
  },
  {
   "cell_type": "markdown",
   "id": "04e3cb39",
   "metadata": {},
   "source": [
    "Посмотрим диаграмму размаха:"
   ]
  },
  {
   "cell_type": "code",
   "execution_count": 40,
   "id": "dd5e95be",
   "metadata": {},
   "outputs": [
    {
     "data": {
      "image/png": "[encoded data removed]",
      "text/plain": [
       "<Figure size 1080x720 with 1 Axes>"
      ]
     },
     "metadata": {
      "needs_background": "light"
     },
     "output_type": "display_data"
    }
   ],
   "source": [
    "actual_genre_sale = data.query('platform in @platform_sale.index')\\\n",
    "    .pivot_table(index=['genre','year_release'],values='world_sales', aggfunc='sum')\\\n",
    "    .reset_index()\n",
    "plt.figure(figsize=(15,10))\n",
    "# строим ящики с усами для платформ\n",
    "sb.boxplot(data=actual_genre_sale, x='genre', y='world_sales')\n",
    "plt.title('Ящик с усами по глобальным продажам игр по жанрам')\n",
    "plt.xlabel('Платформы')\n",
    "plt.ylabel('Продажи (млн.копий)');"
   ]
  },
  {
   "cell_type": "code",
   "execution_count": 41,
   "id": "62fdbf43",
   "metadata": {},
   "outputs": [
    {
     "data": {
      "image/png": "[encoded data removed]",
      "text/plain": [
       "<Figure size 1080x720 with 1 Axes>"
      ]
     },
     "metadata": {
      "needs_background": "light"
     },
     "output_type": "display_data"
    }
   ],
   "source": [
    "actual_genre_sale2 = data.query('platform in @platform_sale.index')\n",
    "plt.figure(figsize=(15,10))\n",
    "# строим ящики с усами для платформ\n",
    "sb.boxplot(data=actual_platform_sale2, x='genre', y='world_sales')\n",
    "plt.title('Ящик с усами по глобальным продажам игр по жанрам')\n",
    "plt.xlabel('Платформы')\n",
    "plt.ylabel('Продажи (млн.копий)');"
   ]
  },
  {
   "cell_type": "markdown",
   "id": "51437800",
   "metadata": {},
   "source": [
    "## Вывод по анализу данных\n",
    "\n",
    "Из данных видно, что развитие игровой индустрии на платформах масштабно началось с 1994 года. Данные за предыдущие периоды малы и мы отбросили. Пик роста был 2008 с показателем 1110 шт. Потом мы видим спад до 468 в 2016 г, предположу, что появились хорошие игры на компьютерах, планшетах и смартфонах, что заняло часть рынка покупателей. Самые продаваемые были ps2, wii, ps. Платформа wii имела быстрый старт, в отличии от других лидеров.\n",
    "\n",
    "Из грфика видно, что платформы в среднем живут 10 лет. Пик продаж наступает после пяти лет продаж платформы. Самые продаваемые были ps2, wii, ps. Платформа wii имела быстрый старт, в отличии от других лидеров. Поскольку некоторые платформы стали не актуальны и индустрия актуальная и следовательно динамичная считаю логичным в исследовании брать данные с 2014 года.\n",
    "\n",
    "Зависимость продаж от оценок пользователей мала, но достигает средних значений от оценок критиков - компании больше доверяют профессионалам. Но в целом зависимость скорее более сложная. \n",
    "\n",
    "Очень много игр выпускается в жанре action(400). В популярности жанров есть заметная градация: первое место action, далее role-plauing и adventure.\n",
    "Самые прибыльные жанры action, sports, shooter. \n",
    "В продажах жанрах есть явные лидеры по количеству продаж и те, кто в разы менее популярен: лидер shooter, action и sports. Медианные продажи высокие у shooter, action и sports, role-plauing, у них так же высокие интервал разброса значений и есть выбросы с большими значениями, что указывает на их большую прибыльность.\n",
    "\n",
    "## Портрет Пользователя каждого региона\n",
    "\n",
    "\n",
    "### Платформа"
   ]
  },
  {
   "cell_type": "code",
   "execution_count": 43,
   "id": "a2cf2d1e",
   "metadata": {},
   "outputs": [
    {
     "data": {
      "text/html": [
       "<div>\n",
       "<style scoped>\n",
       "    .dataframe tbody tr th:only-of-type {\n",
       "        vertical-align: middle;\n",
       "    }\n",
       "\n",
       "    .dataframe tbody tr th {\n",
       "        vertical-align: top;\n",
       "    }\n",
       "\n",
       "    .dataframe thead th {\n",
       "        text-align: right;\n",
       "    }\n",
       "</style>\n",
       "<table border=\"1\" class=\"dataframe\">\n",
       "  <thead>\n",
       "    <tr style=\"text-align: right;\">\n",
       "      <th></th>\n",
       "      <th>na_sales</th>\n",
       "    </tr>\n",
       "    <tr>\n",
       "      <th>platform</th>\n",
       "      <th></th>\n",
       "    </tr>\n",
       "  </thead>\n",
       "  <tbody>\n",
       "    <tr>\n",
       "      <th>ps4</th>\n",
       "      <td>63.74</td>\n",
       "    </tr>\n",
       "    <tr>\n",
       "      <th>xone</th>\n",
       "      <td>49.95</td>\n",
       "    </tr>\n",
       "    <tr>\n",
       "      <th>3ds</th>\n",
       "      <td>10.12</td>\n",
       "    </tr>\n",
       "    <tr>\n",
       "      <th>wiiu</th>\n",
       "      <td>8.68</td>\n",
       "    </tr>\n",
       "    <tr>\n",
       "      <th>x360</th>\n",
       "      <td>7.87</td>\n",
       "    </tr>\n",
       "  </tbody>\n",
       "</table>\n",
       "</div>"
      ],
      "text/plain": [
       "          na_sales\n",
       "platform          \n",
       "ps4          63.74\n",
       "xone         49.95\n",
       "3ds          10.12\n",
       "wiiu          8.68\n",
       "x360          7.87"
      ]
     },
     "metadata": {},
     "output_type": "display_data"
    },
    {
     "data": {
      "text/html": [
       "<div>\n",
       "<style scoped>\n",
       "    .dataframe tbody tr th:only-of-type {\n",
       "        vertical-align: middle;\n",
       "    }\n",
       "\n",
       "    .dataframe tbody tr th {\n",
       "        vertical-align: top;\n",
       "    }\n",
       "\n",
       "    .dataframe thead th {\n",
       "        text-align: right;\n",
       "    }\n",
       "</style>\n",
       "<table border=\"1\" class=\"dataframe\">\n",
       "  <thead>\n",
       "    <tr style=\"text-align: right;\">\n",
       "      <th></th>\n",
       "      <th>eu_sales</th>\n",
       "    </tr>\n",
       "    <tr>\n",
       "      <th>platform</th>\n",
       "      <th></th>\n",
       "    </tr>\n",
       "  </thead>\n",
       "  <tbody>\n",
       "    <tr>\n",
       "      <th>ps4</th>\n",
       "      <td>83.54</td>\n",
       "    </tr>\n",
       "    <tr>\n",
       "      <th>xone</th>\n",
       "      <td>27.94</td>\n",
       "    </tr>\n",
       "    <tr>\n",
       "      <th>pc</th>\n",
       "      <td>9.04</td>\n",
       "    </tr>\n",
       "    <tr>\n",
       "      <th>3ds</th>\n",
       "      <td>7.05</td>\n",
       "    </tr>\n",
       "    <tr>\n",
       "      <th>ps3</th>\n",
       "      <td>6.85</td>\n",
       "    </tr>\n",
       "  </tbody>\n",
       "</table>\n",
       "</div>"
      ],
      "text/plain": [
       "          eu_sales\n",
       "platform          \n",
       "ps4          83.54\n",
       "xone         27.94\n",
       "pc            9.04\n",
       "3ds           7.05\n",
       "ps3           6.85"
      ]
     },
     "metadata": {},
     "output_type": "display_data"
    },
    {
     "data": {
      "text/html": [
       "<div>\n",
       "<style scoped>\n",
       "    .dataframe tbody tr th:only-of-type {\n",
       "        vertical-align: middle;\n",
       "    }\n",
       "\n",
       "    .dataframe tbody tr th {\n",
       "        vertical-align: top;\n",
       "    }\n",
       "\n",
       "    .dataframe thead th {\n",
       "        text-align: right;\n",
       "    }\n",
       "</style>\n",
       "<table border=\"1\" class=\"dataframe\">\n",
       "  <thead>\n",
       "    <tr style=\"text-align: right;\">\n",
       "      <th></th>\n",
       "      <th>jp_sales</th>\n",
       "    </tr>\n",
       "    <tr>\n",
       "      <th>platform</th>\n",
       "      <th></th>\n",
       "    </tr>\n",
       "  </thead>\n",
       "  <tbody>\n",
       "    <tr>\n",
       "      <th>3ds</th>\n",
       "      <td>23.50</td>\n",
       "    </tr>\n",
       "    <tr>\n",
       "      <th>ps4</th>\n",
       "      <td>12.05</td>\n",
       "    </tr>\n",
       "    <tr>\n",
       "      <th>psv</th>\n",
       "      <td>8.30</td>\n",
       "    </tr>\n",
       "    <tr>\n",
       "      <th>ps3</th>\n",
       "      <td>4.69</td>\n",
       "    </tr>\n",
       "    <tr>\n",
       "      <th>wiiu</th>\n",
       "      <td>4.12</td>\n",
       "    </tr>\n",
       "  </tbody>\n",
       "</table>\n",
       "</div>"
      ],
      "text/plain": [
       "          jp_sales\n",
       "platform          \n",
       "3ds          23.50\n",
       "ps4          12.05\n",
       "psv           8.30\n",
       "ps3           4.69\n",
       "wiiu          4.12"
      ]
     },
     "metadata": {},
     "output_type": "display_data"
    },
    {
     "data": {
      "text/html": [
       "<div>\n",
       "<style scoped>\n",
       "    .dataframe tbody tr th:only-of-type {\n",
       "        vertical-align: middle;\n",
       "    }\n",
       "\n",
       "    .dataframe tbody tr th {\n",
       "        vertical-align: top;\n",
       "    }\n",
       "\n",
       "    .dataframe thead th {\n",
       "        text-align: right;\n",
       "    }\n",
       "</style>\n",
       "<table border=\"1\" class=\"dataframe\">\n",
       "  <thead>\n",
       "    <tr style=\"text-align: right;\">\n",
       "      <th></th>\n",
       "      <th>other_sales</th>\n",
       "    </tr>\n",
       "    <tr>\n",
       "      <th>platform</th>\n",
       "      <th></th>\n",
       "    </tr>\n",
       "  </thead>\n",
       "  <tbody>\n",
       "    <tr>\n",
       "      <th>ps4</th>\n",
       "      <td>28.68</td>\n",
       "    </tr>\n",
       "    <tr>\n",
       "      <th>xone</th>\n",
       "      <td>7.67</td>\n",
       "    </tr>\n",
       "    <tr>\n",
       "      <th>ps3</th>\n",
       "      <td>2.39</td>\n",
       "    </tr>\n",
       "    <tr>\n",
       "      <th>3ds</th>\n",
       "      <td>1.64</td>\n",
       "    </tr>\n",
       "    <tr>\n",
       "      <th>wiiu</th>\n",
       "      <td>1.44</td>\n",
       "    </tr>\n",
       "  </tbody>\n",
       "</table>\n",
       "</div>"
      ],
      "text/plain": [
       "          other_sales\n",
       "platform             \n",
       "ps4             28.68\n",
       "xone             7.67\n",
       "ps3              2.39\n",
       "3ds              1.64\n",
       "wiiu             1.44"
      ]
     },
     "metadata": {},
     "output_type": "display_data"
    },
    {
     "data": {
      "image/png": "[encoded data removed]",
      "text/plain": [
       "<Figure size 1152x360 with 4 Axes>"
      ]
     },
     "metadata": {
      "needs_background": "light"
     },
     "output_type": "display_data"
    }
   ],
   "source": [
    "# функция для вычисления региональных значений и построения графиков\n",
    "def func(krit):\n",
    "    fig, axes = plt.subplots(1, 4, figsize=(16, 5))\n",
    "    for i, ax in zip(['na_sales', 'eu_sales', 'jp_sales', 'other_sales'], axes):\n",
    "        pivot = data.pivot_table(index=krit, values=i, aggfunc='sum').sort_values(i, ascending=False).head(5)\n",
    "        display(pivot)\n",
    "        ax.set_xlabel('Платформа')\n",
    "        ax.set_ylabel('Продажи(млн.копий)')\n",
    "        ax.set_title(i);\n",
    "        sb.barplot(data=pivot, x=pivot.index, y=pivot[i], ax=ax)\n",
    "        fig.suptitle(krit)\n",
    "func('platform')"
   ]
  },
  {
   "cell_type": "markdown",
   "id": "5ea7d771",
   "metadata": {},
   "source": [
    "### Жанр"
   ]
  },
  {
   "cell_type": "code",
   "execution_count": 42,
   "id": "9f861e37",
   "metadata": {},
   "outputs": [
    {
     "data": {
      "text/html": [
       "<div>\n",
       "<style scoped>\n",
       "    .dataframe tbody tr th:only-of-type {\n",
       "        vertical-align: middle;\n",
       "    }\n",
       "\n",
       "    .dataframe tbody tr th {\n",
       "        vertical-align: top;\n",
       "    }\n",
       "\n",
       "    .dataframe thead th {\n",
       "        text-align: right;\n",
       "    }\n",
       "</style>\n",
       "<table border=\"1\" class=\"dataframe\">\n",
       "  <thead>\n",
       "    <tr style=\"text-align: right;\">\n",
       "      <th></th>\n",
       "      <th>na_sales</th>\n",
       "    </tr>\n",
       "    <tr>\n",
       "      <th>genre</th>\n",
       "      <th></th>\n",
       "    </tr>\n",
       "  </thead>\n",
       "  <tbody>\n",
       "    <tr>\n",
       "      <th>shooter</th>\n",
       "      <td>48.07</td>\n",
       "    </tr>\n",
       "    <tr>\n",
       "      <th>action</th>\n",
       "      <td>33.30</td>\n",
       "    </tr>\n",
       "    <tr>\n",
       "      <th>sports</th>\n",
       "      <td>26.21</td>\n",
       "    </tr>\n",
       "    <tr>\n",
       "      <th>role-playing</th>\n",
       "      <td>19.82</td>\n",
       "    </tr>\n",
       "    <tr>\n",
       "      <th>fighting</th>\n",
       "      <td>5.52</td>\n",
       "    </tr>\n",
       "  </tbody>\n",
       "</table>\n",
       "</div>"
      ],
      "text/plain": [
       "              na_sales\n",
       "genre                 \n",
       "shooter          48.07\n",
       "action           33.30\n",
       "sports           26.21\n",
       "role-playing     19.82\n",
       "fighting          5.52"
      ]
     },
     "metadata": {},
     "output_type": "display_data"
    },
    {
     "data": {
      "text/html": [
       "<div>\n",
       "<style scoped>\n",
       "    .dataframe tbody tr th:only-of-type {\n",
       "        vertical-align: middle;\n",
       "    }\n",
       "\n",
       "    .dataframe tbody tr th {\n",
       "        vertical-align: top;\n",
       "    }\n",
       "\n",
       "    .dataframe thead th {\n",
       "        text-align: right;\n",
       "    }\n",
       "</style>\n",
       "<table border=\"1\" class=\"dataframe\">\n",
       "  <thead>\n",
       "    <tr style=\"text-align: right;\">\n",
       "      <th></th>\n",
       "      <th>eu_sales</th>\n",
       "    </tr>\n",
       "    <tr>\n",
       "      <th>genre</th>\n",
       "      <th></th>\n",
       "    </tr>\n",
       "  </thead>\n",
       "  <tbody>\n",
       "    <tr>\n",
       "      <th>shooter</th>\n",
       "      <td>40.20</td>\n",
       "    </tr>\n",
       "    <tr>\n",
       "      <th>action</th>\n",
       "      <td>34.14</td>\n",
       "    </tr>\n",
       "    <tr>\n",
       "      <th>sports</th>\n",
       "      <td>27.58</td>\n",
       "    </tr>\n",
       "    <tr>\n",
       "      <th>role-playing</th>\n",
       "      <td>17.21</td>\n",
       "    </tr>\n",
       "    <tr>\n",
       "      <th>racing</th>\n",
       "      <td>6.50</td>\n",
       "    </tr>\n",
       "  </tbody>\n",
       "</table>\n",
       "</div>"
      ],
      "text/plain": [
       "              eu_sales\n",
       "genre                 \n",
       "shooter          40.20\n",
       "action           34.14\n",
       "sports           27.58\n",
       "role-playing     17.21\n",
       "racing            6.50"
      ]
     },
     "metadata": {},
     "output_type": "display_data"
    },
    {
     "data": {
      "text/html": [
       "<div>\n",
       "<style scoped>\n",
       "    .dataframe tbody tr th:only-of-type {\n",
       "        vertical-align: middle;\n",
       "    }\n",
       "\n",
       "    .dataframe tbody tr th {\n",
       "        vertical-align: top;\n",
       "    }\n",
       "\n",
       "    .dataframe thead th {\n",
       "        text-align: right;\n",
       "    }\n",
       "</style>\n",
       "<table border=\"1\" class=\"dataframe\">\n",
       "  <thead>\n",
       "    <tr style=\"text-align: right;\">\n",
       "      <th></th>\n",
       "      <th>jp_sales</th>\n",
       "    </tr>\n",
       "    <tr>\n",
       "      <th>genre</th>\n",
       "      <th></th>\n",
       "    </tr>\n",
       "  </thead>\n",
       "  <tbody>\n",
       "    <tr>\n",
       "      <th>action</th>\n",
       "      <td>22.67</td>\n",
       "    </tr>\n",
       "    <tr>\n",
       "      <th>role-playing</th>\n",
       "      <td>13.41</td>\n",
       "    </tr>\n",
       "    <tr>\n",
       "      <th>shooter</th>\n",
       "      <td>3.79</td>\n",
       "    </tr>\n",
       "    <tr>\n",
       "      <th>misc</th>\n",
       "      <td>3.19</td>\n",
       "    </tr>\n",
       "    <tr>\n",
       "      <th>adventure</th>\n",
       "      <td>2.22</td>\n",
       "    </tr>\n",
       "  </tbody>\n",
       "</table>\n",
       "</div>"
      ],
      "text/plain": [
       "              jp_sales\n",
       "genre                 \n",
       "action           22.67\n",
       "role-playing     13.41\n",
       "shooter           3.79\n",
       "misc              3.19\n",
       "adventure         2.22"
      ]
     },
     "metadata": {},
     "output_type": "display_data"
    },
    {
     "data": {
      "text/html": [
       "<div>\n",
       "<style scoped>\n",
       "    .dataframe tbody tr th:only-of-type {\n",
       "        vertical-align: middle;\n",
       "    }\n",
       "\n",
       "    .dataframe tbody tr th {\n",
       "        vertical-align: top;\n",
       "    }\n",
       "\n",
       "    .dataframe thead th {\n",
       "        text-align: right;\n",
       "    }\n",
       "</style>\n",
       "<table border=\"1\" class=\"dataframe\">\n",
       "  <thead>\n",
       "    <tr style=\"text-align: right;\">\n",
       "      <th></th>\n",
       "      <th>other_sales</th>\n",
       "    </tr>\n",
       "    <tr>\n",
       "      <th>genre</th>\n",
       "      <th></th>\n",
       "    </tr>\n",
       "  </thead>\n",
       "  <tbody>\n",
       "    <tr>\n",
       "      <th>shooter</th>\n",
       "      <td>13.47</td>\n",
       "    </tr>\n",
       "    <tr>\n",
       "      <th>action</th>\n",
       "      <td>10.45</td>\n",
       "    </tr>\n",
       "    <tr>\n",
       "      <th>sports</th>\n",
       "      <td>8.51</td>\n",
       "    </tr>\n",
       "    <tr>\n",
       "      <th>role-playing</th>\n",
       "      <td>5.38</td>\n",
       "    </tr>\n",
       "    <tr>\n",
       "      <th>fighting</th>\n",
       "      <td>1.56</td>\n",
       "    </tr>\n",
       "  </tbody>\n",
       "</table>\n",
       "</div>"
      ],
      "text/plain": [
       "              other_sales\n",
       "genre                    \n",
       "shooter             13.47\n",
       "action              10.45\n",
       "sports               8.51\n",
       "role-playing         5.38\n",
       "fighting             1.56"
      ]
     },
     "metadata": {},
     "output_type": "display_data"
    },
    {
     "data": {
      "image/png": "[encoded data removed]",
      "text/plain": [
       "<Figure size 1152x360 with 4 Axes>"
      ]
     },
     "metadata": {
      "needs_background": "light"
     },
     "output_type": "display_data"
    }
   ],
   "source": [
    "# применение функции к жанру\n",
    "func('genre')"
   ]
  },
  {
   "cell_type": "markdown",
   "id": "c2c6529b",
   "metadata": {},
   "source": [
    "### Рейтинг"
   ]
  },
  {
   "cell_type": "code",
   "execution_count": 43,
   "id": "0ae9a153",
   "metadata": {},
   "outputs": [
    {
     "data": {
      "text/html": [
       "<div>\n",
       "<style scoped>\n",
       "    .dataframe tbody tr th:only-of-type {\n",
       "        vertical-align: middle;\n",
       "    }\n",
       "\n",
       "    .dataframe tbody tr th {\n",
       "        vertical-align: top;\n",
       "    }\n",
       "\n",
       "    .dataframe thead th {\n",
       "        text-align: right;\n",
       "    }\n",
       "</style>\n",
       "<table border=\"1\" class=\"dataframe\">\n",
       "  <thead>\n",
       "    <tr style=\"text-align: right;\">\n",
       "      <th></th>\n",
       "      <th>na_sales</th>\n",
       "    </tr>\n",
       "    <tr>\n",
       "      <th>rating</th>\n",
       "      <th></th>\n",
       "    </tr>\n",
       "  </thead>\n",
       "  <tbody>\n",
       "    <tr>\n",
       "      <th>M</th>\n",
       "      <td>46.97</td>\n",
       "    </tr>\n",
       "    <tr>\n",
       "      <th>nr</th>\n",
       "      <td>37.42</td>\n",
       "    </tr>\n",
       "    <tr>\n",
       "      <th>E</th>\n",
       "      <td>26.25</td>\n",
       "    </tr>\n",
       "    <tr>\n",
       "      <th>T</th>\n",
       "      <td>22.69</td>\n",
       "    </tr>\n",
       "    <tr>\n",
       "      <th>E10+</th>\n",
       "      <td>16.83</td>\n",
       "    </tr>\n",
       "  </tbody>\n",
       "</table>\n",
       "</div>"
      ],
      "text/plain": [
       "        na_sales\n",
       "rating          \n",
       "M          46.97\n",
       "nr         37.42\n",
       "E          26.25\n",
       "T          22.69\n",
       "E10+       16.83"
      ]
     },
     "metadata": {},
     "output_type": "display_data"
    },
    {
     "data": {
      "text/html": [
       "<div>\n",
       "<style scoped>\n",
       "    .dataframe tbody tr th:only-of-type {\n",
       "        vertical-align: middle;\n",
       "    }\n",
       "\n",
       "    .dataframe tbody tr th {\n",
       "        vertical-align: top;\n",
       "    }\n",
       "\n",
       "    .dataframe thead th {\n",
       "        text-align: right;\n",
       "    }\n",
       "</style>\n",
       "<table border=\"1\" class=\"dataframe\">\n",
       "  <thead>\n",
       "    <tr style=\"text-align: right;\">\n",
       "      <th></th>\n",
       "      <th>eu_sales</th>\n",
       "    </tr>\n",
       "    <tr>\n",
       "      <th>rating</th>\n",
       "      <th></th>\n",
       "    </tr>\n",
       "  </thead>\n",
       "  <tbody>\n",
       "    <tr>\n",
       "      <th>M</th>\n",
       "      <td>45.52</td>\n",
       "    </tr>\n",
       "    <tr>\n",
       "      <th>nr</th>\n",
       "      <td>35.53</td>\n",
       "    </tr>\n",
       "    <tr>\n",
       "      <th>E</th>\n",
       "      <td>34.39</td>\n",
       "    </tr>\n",
       "    <tr>\n",
       "      <th>T</th>\n",
       "      <td>20.18</td>\n",
       "    </tr>\n",
       "    <tr>\n",
       "      <th>E10+</th>\n",
       "      <td>10.21</td>\n",
       "    </tr>\n",
       "  </tbody>\n",
       "</table>\n",
       "</div>"
      ],
      "text/plain": [
       "        eu_sales\n",
       "rating          \n",
       "M          45.52\n",
       "nr         35.53\n",
       "E          34.39\n",
       "T          20.18\n",
       "E10+       10.21"
      ]
     },
     "metadata": {},
     "output_type": "display_data"
    },
    {
     "data": {
      "text/html": [
       "<div>\n",
       "<style scoped>\n",
       "    .dataframe tbody tr th:only-of-type {\n",
       "        vertical-align: middle;\n",
       "    }\n",
       "\n",
       "    .dataframe tbody tr th {\n",
       "        vertical-align: top;\n",
       "    }\n",
       "\n",
       "    .dataframe thead th {\n",
       "        text-align: right;\n",
       "    }\n",
       "</style>\n",
       "<table border=\"1\" class=\"dataframe\">\n",
       "  <thead>\n",
       "    <tr style=\"text-align: right;\">\n",
       "      <th></th>\n",
       "      <th>jp_sales</th>\n",
       "    </tr>\n",
       "    <tr>\n",
       "      <th>rating</th>\n",
       "      <th></th>\n",
       "    </tr>\n",
       "  </thead>\n",
       "  <tbody>\n",
       "    <tr>\n",
       "      <th>nr</th>\n",
       "      <td>32.89</td>\n",
       "    </tr>\n",
       "    <tr>\n",
       "      <th>T</th>\n",
       "      <td>7.33</td>\n",
       "    </tr>\n",
       "    <tr>\n",
       "      <th>E</th>\n",
       "      <td>5.25</td>\n",
       "    </tr>\n",
       "    <tr>\n",
       "      <th>M</th>\n",
       "      <td>4.29</td>\n",
       "    </tr>\n",
       "    <tr>\n",
       "      <th>E10+</th>\n",
       "      <td>3.20</td>\n",
       "    </tr>\n",
       "  </tbody>\n",
       "</table>\n",
       "</div>"
      ],
      "text/plain": [
       "        jp_sales\n",
       "rating          \n",
       "nr         32.89\n",
       "T           7.33\n",
       "E           5.25\n",
       "M           4.29\n",
       "E10+        3.20"
      ]
     },
     "metadata": {},
     "output_type": "display_data"
    },
    {
     "data": {
      "text/html": [
       "<div>\n",
       "<style scoped>\n",
       "    .dataframe tbody tr th:only-of-type {\n",
       "        vertical-align: middle;\n",
       "    }\n",
       "\n",
       "    .dataframe tbody tr th {\n",
       "        vertical-align: top;\n",
       "    }\n",
       "\n",
       "    .dataframe thead th {\n",
       "        text-align: right;\n",
       "    }\n",
       "</style>\n",
       "<table border=\"1\" class=\"dataframe\">\n",
       "  <thead>\n",
       "    <tr style=\"text-align: right;\">\n",
       "      <th></th>\n",
       "      <th>other_sales</th>\n",
       "    </tr>\n",
       "    <tr>\n",
       "      <th>rating</th>\n",
       "      <th></th>\n",
       "    </tr>\n",
       "  </thead>\n",
       "  <tbody>\n",
       "    <tr>\n",
       "      <th>M</th>\n",
       "      <td>14.24</td>\n",
       "    </tr>\n",
       "    <tr>\n",
       "      <th>nr</th>\n",
       "      <td>11.12</td>\n",
       "    </tr>\n",
       "    <tr>\n",
       "      <th>E</th>\n",
       "      <td>8.49</td>\n",
       "    </tr>\n",
       "    <tr>\n",
       "      <th>T</th>\n",
       "      <td>6.81</td>\n",
       "    </tr>\n",
       "    <tr>\n",
       "      <th>E10+</th>\n",
       "      <td>3.74</td>\n",
       "    </tr>\n",
       "  </tbody>\n",
       "</table>\n",
       "</div>"
      ],
      "text/plain": [
       "        other_sales\n",
       "rating             \n",
       "M             14.24\n",
       "nr            11.12\n",
       "E              8.49\n",
       "T              6.81\n",
       "E10+           3.74"
      ]
     },
     "metadata": {},
     "output_type": "display_data"
    },
    {
     "data": {
      "image/png": "[encoded data removed]",
      "text/plain": [
       "<Figure size 1152x360 with 4 Axes>"
      ]
     },
     "metadata": {
      "needs_background": "light"
     },
     "output_type": "display_data"
    }
   ],
   "source": [
    "# применение функции к рейтингу\n",
    "func('rating')"
   ]
  },
  {
   "cell_type": "markdown",
   "id": "9c781b54",
   "metadata": {},
   "source": [
    "## Выводы\n",
    "\n",
    "Свеверная Америка:\n",
    "- лидирующие платформы ps4 и xone\n",
    "- лидирующие жанры shooter и action\n",
    "- популярны игры с рейтингом \"старше 17 лет\" и  \"для всех\"(второе место занимают игры с рейтингом \"нет рейтинга\")\n",
    "\n",
    "Европа:\n",
    "- лидирующие платформы ps4 и xone\n",
    "- лидирующие жанры shooter и action\n",
    "- популярны игры с рейтингом \"старше 17 лет\" и  \"для всех\"(второе место занимают игры с рейтингом \"нет рейтинга\")\n",
    "\n",
    "Япония:\n",
    "- лидирующие платформы 3ds и ps4\n",
    "- лидирующие жанры action и role-playing\n",
    "- самые популярные игры не имеют рейтига(надо заполнять данные по Японии), далее идут игры с рейтингом \"13 лет и старше\" и \"для всех\"\n",
    "\n",
    "Продажи в остальном мире:\n",
    "- лидирующие платформы ps4 и xone\n",
    "- лидирующие жанры shooter и action\n",
    "- популярны игры с рейтингом \"старше 17 лет\" и  \"для всех\"(второе место занимают игры с рейтингом \"нет рейтинга\")\n",
    " \n",
    "\n",
    "Портреты пользователей Северной Америки и Европы очень схожи. Япония отличается как по платформам, так и по жанрам, игры предпочитаются с более \"мягким\" контентом для детей. В большом количестве рейтинг организации ESRB отсутсвует, для корретного прогноза его надо заполнять. Продажи в остальном мире похожи на продажи в Северной Америке и Европе.\n",
    "\n",
    "\n",
    "## Проверка гипотез\n",
    "\n",
    "### Средние пользовательские рейтинги платформ Xbox One и PC одинаковые\n",
    "\n",
    "Нулевая гипотеза обычно идёт со знаком равенства.\n",
    "\n",
    "Нулевая гипотеза Н0 - Средние пользовательские рейтинги платформ Xbox, One и PC одинаковые\n",
    "\n",
    "Альтернативная гипотеза Н1 - Средние пользовательские рейтинги платформ Xbox, One и PC отличаются\n",
    "\n",
    "Уровень критической значимости заданим 1% для большей уверенности в результатх исследования."
   ]
  },
  {
   "cell_type": "code",
   "execution_count": 44,
   "id": "5dc0c63b",
   "metadata": {},
   "outputs": [
    {
     "name": "stdout",
     "output_type": "stream",
     "text": [
      "t-критерий составил -0.577\n",
      "Рассчитанный t-критерий дает достигаемый уровень значимости (p-value) равный 0.565\n",
      "Не можем отвергнуть нулевую гипотезу\n"
     ]
    }
   ],
   "source": [
    "# формируем выборки удаляем пропуски\n",
    "sample1 = data.loc[data['platform'] == 'xone', 'user_score'].dropna()\n",
    "sample2 = data.loc[data['platform'] == 'pc', 'user_score'].dropna()\n",
    "# удаляем пропуски\n",
    "# уровень критической значимости\n",
    "alpha = .01\n",
    "# делаем t-test для двух выборок, дисперсии предполагаем разные\n",
    "t_st, p_val = st.ttest_ind(sample1, sample2, equal_var=False)\n",
    "# выводы и проверка гипотезы\n",
    "print(f't-критерий составил {round(t_st, 3)}')\n",
    "print(f'Рассчитанный t-критерий дает достигаемый уровень значимости (p-value) равный {round(p_val,3)}')\n",
    "if p_val < alpha:\n",
    "    print('Отвергаем нулевую гипотезу')\n",
    "else:\n",
    "    print('Не можем отвергнуть нулевую гипотезу')"
   ]
  },
  {
   "cell_type": "markdown",
   "id": "9d0e395c",
   "metadata": {},
   "source": [
    "Полученное значение p-value говорит о том, что хотя средние рейтинги этих двух платформ и неодинаквы, но с вероятностью в 56% такое или большее различие можно получить случайно. Это явно слишком большая вероятность, чтобы делать вывод о значимом различии между средними рейтингами."
   ]
  },
  {
   "cell_type": "markdown",
   "id": "ace70bfb",
   "metadata": {},
   "source": [
    "### Средние пользовательские рейтинги жанров Action (англ. «действие», экшен-игры) и Sports (англ. «спортивные соревнования») разные.\n",
    "\n",
    "Нулевая гипотеза Н0 - Средние пользовательские рейтинги жанров Action и Sports  равны.\n",
    "\n",
    "Альтернативная гипотеза Н1 - Средние пользовательские рейтинги жанров Action и Sports отличаются.\n",
    "\n",
    "Уровень критической значимости заданим 1% для большей уверенности в результатх исследования."
   ]
  },
  {
   "cell_type": "code",
   "execution_count": 45,
   "id": "dbcf65f3",
   "metadata": {},
   "outputs": [
    {
     "name": "stdout",
     "output_type": "stream",
     "text": [
      "t-критерий составил -3.331\n",
      "Рассчитанный t-критерий дает достигаемый уровень значимости (p-value) равный 0.001\n",
      "Отвергаем нулевую гипотезу\n"
     ]
    }
   ],
   "source": [
    "# формируем выборки\n",
    "sample3 = data.loc[data['genre'] == 'action', 'user_score'].dropna()\n",
    "sample4 = data.loc[data['genre'] == 'sports', 'user_score'].dropna()\n",
    "# уровень критической значимости\n",
    "alpha = .01\n",
    "# делаем t-test для двух выборок, дисперсии предполагаем разные\n",
    "t_st, p_val = st.ttest_ind(sample3, sample4, equal_var=False)\n",
    "# выводы и проверка гипотезы\n",
    "print(f't-критерий составил {round(t_st, 3)}')\n",
    "print(f'Рассчитанный t-критерий дает достигаемый уровень значимости (p-value) равный {round(p_val,3)}')\n",
    "if p_val < alpha:\n",
    "    print('Отвергаем нулевую гипотезу')\n",
    "else:\n",
    "    print('Не можем отвергнуть нулевую гипотезу')"
   ]
  },
  {
   "cell_type": "markdown",
   "id": "402f4ee6",
   "metadata": {},
   "source": [
    "Полученное значение p-value = 0,001 говорит о том, с вероятностью почти 0,1% такое различие пользовательских рейтингов жанров Action и Sports можно получить случайно — то есть почти никогда. Это явно слишком малая вероятность, чтобы делать вывод о равенстве между ними."
   ]
  },
  {
   "cell_type": "code",
   "execution_count": 46,
   "id": "9259fb1b",
   "metadata": {},
   "outputs": [
    {
     "name": "stdout",
     "output_type": "stream",
     "text": [
      "p-значение: 0.1912450522572209\n",
      "Не получилось отвергнуть нулевую гипотезу\n"
     ]
    }
   ],
   "source": [
    "# Приведены два датасета: сумма покупок, совершённых за месяц посетителями ...\n",
    "\n",
    "sample_1 = [3071, 3636, 3454, 3151, 2185, 3259, 1727, 2263, 2015,\n",
    "2582, 4815, 633, 3186, 887, 2028, 3589, 2564, 1422, 1785,\n",
    "3180, 1770, 2716, 2546, 1848, 4644, 3134, 475, 2686,\n",
    "1838, 3352]\n",
    "sample_2 = [1211, 1228, 2157, 3699, 600, 1898, 1688, 1420, 5048, 3007,\n",
    "509, 3777, 5583, 3949, 121, 1674, 4300, 1338, 3066,\n",
    "3562, 1010, 2311, 462, 863, 2021, 528, 1849, 255,\n",
    "1740, 2596]\n",
    "alpha = .05 # критический уровень статистической значимости\n",
    "# если p-value окажется меньше него - отвергнем гипотезу\n",
    "results = st.ttest_ind(\n",
    "sample_1,\n",
    "sample_2)\n",
    "print('p-значение:', results.pvalue)\n",
    "if (results.pvalue < alpha):\n",
    "    print(\"Отвергаем нулевую гипотезу\")\n",
    "else:\n",
    "\n",
    "    print(\"Не получилось отвергнуть нулевую гипотезу\")"
   ]
  },
  {
   "cell_type": "markdown",
   "id": "9fcc4573",
   "metadata": {},
   "source": [
    "## Вывод\n",
    "\n",
    "Для начала в нашем исследовании мы преобразовали некоторые типы данных для удобства представления. Удалили немного неинформативных строк в таблице. Заполнили часть пропусков и в часть поставили временное значение, чтобы не терять данные для анализа. Все данные привели к нижнему регистру, неявных дубликатов нет. В целом данных удалено минимальное количество, что хорошо для анализа.\n",
    "\n",
    "\n",
    "Из данных видно, что развитие игровой индустрии на платформах масштабно началось с 1994 года. Данные за предыдущие периоды малы и мы отбросили. Пик роста был 2008 с показателем 1110 шт. Потом мы видим спад до 468 в 2016 г, предположу, что появились хорошие игры на компьютерах, планшетах и смартфонах, что заняло часть рынка покупателей. Есть топ-5 платфом по мировым продажам: 1 - ps2,2 - x360,3 - ps3, 4 - wii, 5 - ps. Платформы в среднем живут 10 лет. Пик продаж наступает после пяти лет продаж платформы. Самые продаваемые были ps2, wii, ps. Платформа wii имела быстрый старт, в отличии от других лидеров. Поскольку некоторые платформы стали не актуальны и индустрия актуальная и следовательно динамичная считаю логичным в исследовании брать данные с 2014 года.\n",
    "\n",
    "\n",
    "Самые высокие продажи от 2014(включительно) демонстрирует ps4, далее xone, 3ds, wiiu и ps3. Медианное значение у всех разное, лидирует с большим разрывом ps4, после идёт xone, соответственно средий доход в стране присутствия у них выше. У платформы ps4 верхняя граница ящика выше, к тому же по выбросам видно, что были большие значения. У xone и 3ds тоже есть выбросы в больших значениях. Это говорит о том, что в некоторые периоды у них тоже продажи были высокими.\n",
    "Зависимость продаж от оценок пользователей мала, но достигает средних значений от оценок критиков - компании больше доверяют профессионалам. Но в целом зависимость скорее более сложная.\n",
    "Очень много игр выпускается в жанре action(400). В популярности жанров есть заметная градация: первое место action, далее role-plauing и adventure. Самые прибыльные жанры action, sports, shooter. В продажах жанрах есть явные лидеры по количеству продаж и те, кто в разы менее популярен: лидер shooter, action и sports. Медианные продажи высокие у shooter, action и sports, role-plauing, у них так же высокие интервал разброса значений и есть выбросы с большими значениями, что указывает на их большую прибыльность.\n",
    "\n",
    "\n",
    "Свеверная Америка:\n",
    "* лидирующие платформы ps4 и xone\n",
    "* лидирующие жанры shooter и action\n",
    "* популярны игры с рейтингом \"старше 17 лет\" и \"для всех\"(второе место занимают игры с рейтингом \"нет рейтинга\")\n",
    "\n",
    "Европа:\n",
    "* лидирующие платформы ps4 и xone\n",
    "* лидирующие жанры shooter и action\n",
    "* популярны игры с рейтингом \"старше 17 лет\" и \"для всех\"(второе место занимают игры с рейтингом \"нет рейтинга\")\n",
    "\n",
    "Япония:\n",
    "* лидирующие платформы 3ds и ps4\n",
    "* лидирующие жанры action и role-playing\n",
    "* самые популярные игры не имеют рейтига(надо заполнять данные по Японии), далее идут игры с рейтингом \"13 лет и старше\" и \"для всех\"\n",
    "\n",
    "Продажи в остальном мире:\n",
    "* лидирующие платформы ps4 и xone\n",
    "* лидирующие жанры shooter и action\n",
    "* популярны игры с рейтингом \"старше 17 лет\" и \"для всех\"(второе место занимают игры с рейтингом \"нет рейтинга\")\n",
    "\n",
    "\n",
    "Портреты пользователей Северной Америки и Европы очень схожи. Япония отличается как по платформам, так и по жанрам, игры предпочитаются с более \"мягким\" контентом для детей. В большом количестве рейтинг организации ESRB отсутсвует, для корретного прогноза его надо заполнять. Продажи в остальном мире похожи на продажи в Северной Америке и Европе."
   ]
  }
 ],
 "metadata": {
  "ExecuteTimeLog": [
   {
    "duration": 1214,
    "start_time": "2022-06-22T21:30:29.777Z"
   },
   {
    "duration": 882,
    "start_time": "2022-06-22T21:30:30.995Z"
   },
   {
    "duration": 10,
    "start_time": "2022-06-22T21:30:31.879Z"
   },
   {
    "duration": 20,
    "start_time": "2022-06-22T21:30:31.892Z"
   },
   {
    "duration": 16,
    "start_time": "2022-06-22T21:30:31.914Z"
   },
   {
    "duration": 171,
    "start_time": "2022-06-22T21:30:31.932Z"
   },
   {
    "duration": 9,
    "start_time": "2022-06-22T21:30:32.105Z"
   },
   {
    "duration": 1865,
    "start_time": "2022-06-22T21:30:32.116Z"
   },
   {
    "duration": 0,
    "start_time": "2022-06-22T21:30:33.983Z"
   },
   {
    "duration": 0,
    "start_time": "2022-06-22T21:30:33.985Z"
   },
   {
    "duration": 0,
    "start_time": "2022-06-22T21:30:33.986Z"
   },
   {
    "duration": 0,
    "start_time": "2022-06-22T21:30:33.986Z"
   },
   {
    "duration": 0,
    "start_time": "2022-06-22T21:30:33.987Z"
   },
   {
    "duration": 0,
    "start_time": "2022-06-22T21:30:33.989Z"
   },
   {
    "duration": 0,
    "start_time": "2022-06-22T21:30:33.990Z"
   },
   {
    "duration": 0,
    "start_time": "2022-06-22T21:30:33.990Z"
   },
   {
    "duration": 0,
    "start_time": "2022-06-22T21:30:33.992Z"
   },
   {
    "duration": 0,
    "start_time": "2022-06-22T21:30:33.992Z"
   },
   {
    "duration": 0,
    "start_time": "2022-06-22T21:30:33.994Z"
   },
   {
    "duration": 0,
    "start_time": "2022-06-22T21:30:33.995Z"
   },
   {
    "duration": 0,
    "start_time": "2022-06-22T21:30:33.996Z"
   },
   {
    "duration": 0,
    "start_time": "2022-06-22T21:30:33.997Z"
   },
   {
    "duration": 0,
    "start_time": "2022-06-22T21:30:33.998Z"
   },
   {
    "duration": 0,
    "start_time": "2022-06-22T21:30:33.999Z"
   },
   {
    "duration": 0,
    "start_time": "2022-06-22T21:30:34.000Z"
   },
   {
    "duration": 0,
    "start_time": "2022-06-22T21:30:34.001Z"
   },
   {
    "duration": 0,
    "start_time": "2022-06-22T21:30:34.002Z"
   },
   {
    "duration": 0,
    "start_time": "2022-06-22T21:30:34.003Z"
   },
   {
    "duration": 0,
    "start_time": "2022-06-22T21:30:34.004Z"
   },
   {
    "duration": 0,
    "start_time": "2022-06-22T21:30:34.005Z"
   },
   {
    "duration": 0,
    "start_time": "2022-06-22T21:30:34.006Z"
   },
   {
    "duration": 0,
    "start_time": "2022-06-22T21:30:34.007Z"
   },
   {
    "duration": 0,
    "start_time": "2022-06-22T21:30:34.008Z"
   },
   {
    "duration": 0,
    "start_time": "2022-06-22T21:30:34.009Z"
   },
   {
    "duration": 0,
    "start_time": "2022-06-22T21:30:34.010Z"
   },
   {
    "duration": 0,
    "start_time": "2022-06-22T21:30:34.011Z"
   },
   {
    "duration": 0,
    "start_time": "2022-06-22T21:30:34.012Z"
   },
   {
    "duration": 0,
    "start_time": "2022-06-22T21:30:34.014Z"
   },
   {
    "duration": 0,
    "start_time": "2022-06-22T21:30:34.015Z"
   },
   {
    "duration": 1185,
    "start_time": "2022-06-22T21:31:49.440Z"
   },
   {
    "duration": 295,
    "start_time": "2022-06-22T21:31:50.627Z"
   },
   {
    "duration": 14,
    "start_time": "2022-06-22T21:31:50.925Z"
   },
   {
    "duration": 40,
    "start_time": "2022-06-22T21:31:50.941Z"
   },
   {
    "duration": 30,
    "start_time": "2022-06-22T21:31:50.985Z"
   },
   {
    "duration": 247,
    "start_time": "2022-06-22T21:31:51.017Z"
   },
   {
    "duration": 11,
    "start_time": "2022-06-22T21:31:51.267Z"
   },
   {
    "duration": 2012,
    "start_time": "2022-06-22T21:31:51.279Z"
   },
   {
    "duration": 0,
    "start_time": "2022-06-22T21:31:53.293Z"
   },
   {
    "duration": 0,
    "start_time": "2022-06-22T21:31:53.295Z"
   },
   {
    "duration": 0,
    "start_time": "2022-06-22T21:31:53.296Z"
   },
   {
    "duration": 0,
    "start_time": "2022-06-22T21:31:53.298Z"
   },
   {
    "duration": 0,
    "start_time": "2022-06-22T21:31:53.299Z"
   },
   {
    "duration": 0,
    "start_time": "2022-06-22T21:31:53.301Z"
   },
   {
    "duration": 0,
    "start_time": "2022-06-22T21:31:53.302Z"
   },
   {
    "duration": 0,
    "start_time": "2022-06-22T21:31:53.304Z"
   },
   {
    "duration": 0,
    "start_time": "2022-06-22T21:31:53.305Z"
   },
   {
    "duration": 0,
    "start_time": "2022-06-22T21:31:53.307Z"
   },
   {
    "duration": 0,
    "start_time": "2022-06-22T21:31:53.308Z"
   },
   {
    "duration": 0,
    "start_time": "2022-06-22T21:31:53.309Z"
   },
   {
    "duration": 0,
    "start_time": "2022-06-22T21:31:53.311Z"
   },
   {
    "duration": 0,
    "start_time": "2022-06-22T21:31:53.313Z"
   },
   {
    "duration": 0,
    "start_time": "2022-06-22T21:31:53.314Z"
   },
   {
    "duration": 0,
    "start_time": "2022-06-22T21:31:53.315Z"
   },
   {
    "duration": 0,
    "start_time": "2022-06-22T21:31:53.318Z"
   },
   {
    "duration": 0,
    "start_time": "2022-06-22T21:31:53.319Z"
   },
   {
    "duration": 0,
    "start_time": "2022-06-22T21:31:53.321Z"
   },
   {
    "duration": 0,
    "start_time": "2022-06-22T21:31:53.323Z"
   },
   {
    "duration": 0,
    "start_time": "2022-06-22T21:31:53.325Z"
   },
   {
    "duration": 0,
    "start_time": "2022-06-22T21:31:53.326Z"
   },
   {
    "duration": 0,
    "start_time": "2022-06-22T21:31:53.327Z"
   },
   {
    "duration": 0,
    "start_time": "2022-06-22T21:31:53.329Z"
   },
   {
    "duration": 0,
    "start_time": "2022-06-22T21:31:53.330Z"
   },
   {
    "duration": 0,
    "start_time": "2022-06-22T21:31:53.356Z"
   },
   {
    "duration": 0,
    "start_time": "2022-06-22T21:31:53.357Z"
   },
   {
    "duration": 0,
    "start_time": "2022-06-22T21:31:53.358Z"
   },
   {
    "duration": 0,
    "start_time": "2022-06-22T21:31:53.358Z"
   },
   {
    "duration": 0,
    "start_time": "2022-06-22T21:31:53.359Z"
   },
   {
    "duration": 0,
    "start_time": "2022-06-22T21:31:53.360Z"
   },
   {
    "duration": 1797,
    "start_time": "2022-06-22T21:32:34.242Z"
   },
   {
    "duration": 322,
    "start_time": "2022-06-22T21:33:53.709Z"
   },
   {
    "duration": 7,
    "start_time": "2022-06-22T21:33:54.693Z"
   },
   {
    "duration": 191,
    "start_time": "2022-06-22T21:34:43.448Z"
   },
   {
    "duration": 13,
    "start_time": "2022-06-22T21:34:44.278Z"
   },
   {
    "duration": 14,
    "start_time": "2022-06-22T21:34:56.791Z"
   },
   {
    "duration": 12,
    "start_time": "2022-06-22T21:34:58.102Z"
   },
   {
    "duration": 16,
    "start_time": "2022-06-22T21:34:58.770Z"
   },
   {
    "duration": 1378,
    "start_time": "2022-06-22T21:35:26.332Z"
   },
   {
    "duration": 2,
    "start_time": "2022-06-22T21:35:27.712Z"
   },
   {
    "duration": 68,
    "start_time": "2022-06-22T21:35:27.716Z"
   },
   {
    "duration": 18,
    "start_time": "2022-06-22T21:35:27.786Z"
   },
   {
    "duration": 15,
    "start_time": "2022-06-22T21:35:27.806Z"
   },
   {
    "duration": 11,
    "start_time": "2022-06-22T21:35:27.823Z"
   },
   {
    "duration": 37,
    "start_time": "2022-06-22T21:35:27.836Z"
   },
   {
    "duration": 6,
    "start_time": "2022-06-22T21:35:27.875Z"
   },
   {
    "duration": 8,
    "start_time": "2022-06-22T21:35:27.882Z"
   },
   {
    "duration": 30,
    "start_time": "2022-06-22T21:35:27.893Z"
   },
   {
    "duration": 51,
    "start_time": "2022-06-22T21:35:27.924Z"
   },
   {
    "duration": 15,
    "start_time": "2022-06-22T21:35:27.977Z"
   },
   {
    "duration": 15,
    "start_time": "2022-06-22T21:35:27.993Z"
   },
   {
    "duration": 15,
    "start_time": "2022-06-22T21:35:28.010Z"
   },
   {
    "duration": 613,
    "start_time": "2022-06-22T21:35:28.026Z"
   },
   {
    "duration": 24,
    "start_time": "2022-06-22T21:35:28.641Z"
   },
   {
    "duration": 7,
    "start_time": "2022-06-22T21:35:28.667Z"
   },
   {
    "duration": 10,
    "start_time": "2022-06-22T21:35:28.676Z"
   },
   {
    "duration": 16,
    "start_time": "2022-06-22T21:35:28.688Z"
   },
   {
    "duration": 17,
    "start_time": "2022-06-22T21:35:28.705Z"
   },
   {
    "duration": 6,
    "start_time": "2022-06-22T21:35:28.724Z"
   },
   {
    "duration": 38,
    "start_time": "2022-06-22T21:35:28.732Z"
   },
   {
    "duration": 12,
    "start_time": "2022-06-22T21:35:28.772Z"
   },
   {
    "duration": 19,
    "start_time": "2022-06-22T21:35:28.786Z"
   },
   {
    "duration": 194,
    "start_time": "2022-06-22T21:35:28.806Z"
   },
   {
    "duration": 381,
    "start_time": "2022-06-22T21:35:29.002Z"
   },
   {
    "duration": 18,
    "start_time": "2022-06-22T21:35:29.385Z"
   },
   {
    "duration": 324,
    "start_time": "2022-06-22T21:35:29.407Z"
   },
   {
    "duration": 236,
    "start_time": "2022-06-22T21:35:29.733Z"
   },
   {
    "duration": 415,
    "start_time": "2022-06-22T21:35:29.973Z"
   },
   {
    "duration": 1482,
    "start_time": "2022-06-22T21:35:30.389Z"
   },
   {
    "duration": 236,
    "start_time": "2022-06-22T21:35:31.873Z"
   },
   {
    "duration": 229,
    "start_time": "2022-06-22T21:35:32.110Z"
   },
   {
    "duration": 513,
    "start_time": "2022-06-22T21:35:32.340Z"
   },
   {
    "duration": 428,
    "start_time": "2022-06-22T21:35:32.861Z"
   },
   {
    "duration": 454,
    "start_time": "2022-06-22T21:35:33.290Z"
   },
   {
    "duration": 23,
    "start_time": "2022-06-22T21:35:33.746Z"
   },
   {
    "duration": 15,
    "start_time": "2022-06-22T21:35:33.771Z"
   },
   {
    "duration": 10,
    "start_time": "2022-06-22T21:35:33.788Z"
   },
   {
    "duration": 8,
    "start_time": "2022-06-22T21:35:33.799Z"
   },
   {
    "duration": 53,
    "start_time": "2022-06-23T04:19:37.409Z"
   },
   {
    "duration": 1356,
    "start_time": "2022-06-23T04:19:41.793Z"
   },
   {
    "duration": 1829,
    "start_time": "2022-06-23T04:19:43.151Z"
   },
   {
    "duration": 3,
    "start_time": "2022-06-23T04:20:58.838Z"
   },
   {
    "duration": 1664,
    "start_time": "2022-06-23T04:20:59.950Z"
   },
   {
    "duration": 1152,
    "start_time": "2022-06-23T04:21:40.732Z"
   },
   {
    "duration": 1633,
    "start_time": "2022-06-23T04:21:42.166Z"
   },
   {
    "duration": 108,
    "start_time": "2022-06-23T04:22:39.926Z"
   },
   {
    "duration": 20,
    "start_time": "2022-06-23T04:22:49.426Z"
   },
   {
    "duration": 49,
    "start_time": "2022-06-23T04:23:01.246Z"
   },
   {
    "duration": 15,
    "start_time": "2022-06-23T04:23:15.298Z"
   },
   {
    "duration": 18,
    "start_time": "2022-06-23T04:23:16.044Z"
   },
   {
    "duration": 9,
    "start_time": "2022-06-23T04:23:16.508Z"
   },
   {
    "duration": 16,
    "start_time": "2022-06-23T04:23:17.066Z"
   },
   {
    "duration": 4,
    "start_time": "2022-06-23T04:23:21.200Z"
   },
   {
    "duration": 55,
    "start_time": "2022-06-23T04:23:21.205Z"
   },
   {
    "duration": 16,
    "start_time": "2022-06-23T04:23:21.262Z"
   },
   {
    "duration": 17,
    "start_time": "2022-06-23T04:23:21.280Z"
   },
   {
    "duration": 48,
    "start_time": "2022-06-23T04:23:21.299Z"
   },
   {
    "duration": 15,
    "start_time": "2022-06-23T04:23:21.349Z"
   },
   {
    "duration": 6,
    "start_time": "2022-06-23T04:23:21.366Z"
   },
   {
    "duration": 10,
    "start_time": "2022-06-23T04:23:21.374Z"
   },
   {
    "duration": 73,
    "start_time": "2022-06-23T04:23:21.386Z"
   },
   {
    "duration": 16,
    "start_time": "2022-06-23T04:23:21.461Z"
   },
   {
    "duration": 15,
    "start_time": "2022-06-23T04:23:21.481Z"
   },
   {
    "duration": 16,
    "start_time": "2022-06-23T04:23:21.498Z"
   },
   {
    "duration": 43,
    "start_time": "2022-06-23T04:23:21.516Z"
   },
   {
    "duration": 563,
    "start_time": "2022-06-23T04:23:21.561Z"
   },
   {
    "duration": 5,
    "start_time": "2022-06-23T04:23:22.126Z"
   },
   {
    "duration": 12,
    "start_time": "2022-06-23T04:23:22.142Z"
   },
   {
    "duration": 14,
    "start_time": "2022-06-23T04:23:22.156Z"
   },
   {
    "duration": 21,
    "start_time": "2022-06-23T04:23:22.172Z"
   },
   {
    "duration": 22,
    "start_time": "2022-06-23T04:23:22.194Z"
   },
   {
    "duration": 6,
    "start_time": "2022-06-23T04:23:22.218Z"
   },
   {
    "duration": 19,
    "start_time": "2022-06-23T04:23:22.226Z"
   },
   {
    "duration": 24,
    "start_time": "2022-06-23T04:23:22.248Z"
   },
   {
    "duration": 21,
    "start_time": "2022-06-23T04:23:22.275Z"
   },
   {
    "duration": 224,
    "start_time": "2022-06-23T04:23:22.298Z"
   },
   {
    "duration": 447,
    "start_time": "2022-06-23T04:23:22.523Z"
   },
   {
    "duration": 21,
    "start_time": "2022-06-23T04:23:22.971Z"
   },
   {
    "duration": 384,
    "start_time": "2022-06-23T04:23:22.994Z"
   },
   {
    "duration": 223,
    "start_time": "2022-06-23T04:23:23.379Z"
   },
   {
    "duration": 413,
    "start_time": "2022-06-23T04:23:23.606Z"
   },
   {
    "duration": 1621,
    "start_time": "2022-06-23T04:23:24.021Z"
   },
   {
    "duration": 279,
    "start_time": "2022-06-23T04:23:25.644Z"
   },
   {
    "duration": 269,
    "start_time": "2022-06-23T04:23:25.925Z"
   },
   {
    "duration": 640,
    "start_time": "2022-06-23T04:23:26.196Z"
   },
   {
    "duration": 491,
    "start_time": "2022-06-23T04:23:26.838Z"
   },
   {
    "duration": 550,
    "start_time": "2022-06-23T04:23:27.331Z"
   },
   {
    "duration": 11,
    "start_time": "2022-06-23T04:23:27.883Z"
   },
   {
    "duration": 10,
    "start_time": "2022-06-23T04:23:27.896Z"
   },
   {
    "duration": 7,
    "start_time": "2022-06-23T04:23:27.908Z"
   },
   {
    "duration": 29,
    "start_time": "2022-06-23T04:23:27.916Z"
   },
   {
    "duration": 8,
    "start_time": "2022-06-23T04:34:28.678Z"
   },
   {
    "duration": 20,
    "start_time": "2022-06-23T04:34:37.903Z"
   },
   {
    "duration": 23,
    "start_time": "2022-06-23T04:34:47.008Z"
   },
   {
    "duration": 14,
    "start_time": "2022-06-23T04:35:23.111Z"
   },
   {
    "duration": 14,
    "start_time": "2022-06-23T04:35:54.935Z"
   },
   {
    "duration": 20,
    "start_time": "2022-06-23T04:36:52.422Z"
   },
   {
    "duration": 26,
    "start_time": "2022-06-23T04:37:04.518Z"
   },
   {
    "duration": 14,
    "start_time": "2022-06-23T04:38:05.537Z"
   },
   {
    "duration": 15,
    "start_time": "2022-06-23T04:38:06.393Z"
   },
   {
    "duration": 14,
    "start_time": "2022-06-23T04:38:06.926Z"
   },
   {
    "duration": 28,
    "start_time": "2022-06-23T04:38:39.606Z"
   },
   {
    "duration": 27,
    "start_time": "2022-06-23T04:39:19.855Z"
   },
   {
    "duration": 50,
    "start_time": "2022-06-23T04:40:19.511Z"
   },
   {
    "duration": 45,
    "start_time": "2022-06-23T04:41:22.881Z"
   },
   {
    "duration": 1307,
    "start_time": "2022-06-23T06:36:55.408Z"
   },
   {
    "duration": 88,
    "start_time": "2022-06-23T06:36:56.717Z"
   },
   {
    "duration": 55,
    "start_time": "2022-06-24T12:05:17.193Z"
   },
   {
    "duration": 1264,
    "start_time": "2022-06-24T12:05:23.625Z"
   },
   {
    "duration": 53,
    "start_time": "2022-06-24T12:05:24.891Z"
   },
   {
    "duration": 20,
    "start_time": "2022-06-24T12:05:24.946Z"
   },
   {
    "duration": 15,
    "start_time": "2022-06-24T12:05:24.968Z"
   },
   {
    "duration": 10,
    "start_time": "2022-06-24T12:05:24.986Z"
   },
   {
    "duration": 43,
    "start_time": "2022-06-24T12:05:24.998Z"
   },
   {
    "duration": 6,
    "start_time": "2022-06-24T12:05:25.043Z"
   },
   {
    "duration": 10,
    "start_time": "2022-06-24T12:05:25.052Z"
   },
   {
    "duration": 34,
    "start_time": "2022-06-24T12:05:25.063Z"
   },
   {
    "duration": 32,
    "start_time": "2022-06-24T12:05:25.099Z"
   },
   {
    "duration": 24,
    "start_time": "2022-06-24T12:05:25.133Z"
   },
   {
    "duration": 15,
    "start_time": "2022-06-24T12:05:25.159Z"
   },
   {
    "duration": 19,
    "start_time": "2022-06-24T12:05:25.176Z"
   },
   {
    "duration": 506,
    "start_time": "2022-06-24T12:05:25.198Z"
   },
   {
    "duration": 5,
    "start_time": "2022-06-24T12:05:25.706Z"
   },
   {
    "duration": 16,
    "start_time": "2022-06-24T12:05:25.713Z"
   },
   {
    "duration": 10,
    "start_time": "2022-06-24T12:05:25.731Z"
   },
   {
    "duration": 13,
    "start_time": "2022-06-24T12:05:25.743Z"
   },
   {
    "duration": 21,
    "start_time": "2022-06-24T12:05:25.758Z"
   },
   {
    "duration": 6,
    "start_time": "2022-06-24T12:05:25.780Z"
   },
   {
    "duration": 6,
    "start_time": "2022-06-24T12:05:25.788Z"
   },
   {
    "duration": 11,
    "start_time": "2022-06-24T12:05:25.795Z"
   },
   {
    "duration": 22,
    "start_time": "2022-06-24T12:05:25.807Z"
   },
   {
    "duration": 7,
    "start_time": "2022-06-24T12:05:25.831Z"
   },
   {
    "duration": 11,
    "start_time": "2022-06-24T12:05:25.839Z"
   },
   {
    "duration": 14,
    "start_time": "2022-06-24T12:05:25.851Z"
   },
   {
    "duration": 24,
    "start_time": "2022-06-24T12:05:25.866Z"
   },
   {
    "duration": 205,
    "start_time": "2022-06-24T12:05:25.892Z"
   },
   {
    "duration": 385,
    "start_time": "2022-06-24T12:05:26.099Z"
   },
   {
    "duration": 18,
    "start_time": "2022-06-24T12:05:26.486Z"
   },
   {
    "duration": 331,
    "start_time": "2022-06-24T12:05:26.506Z"
   },
   {
    "duration": 147,
    "start_time": "2022-06-24T12:05:26.840Z"
   },
   {
    "duration": 210,
    "start_time": "2022-06-24T12:05:26.989Z"
   },
   {
    "duration": 222,
    "start_time": "2022-06-24T12:05:27.201Z"
   },
   {
    "duration": 370,
    "start_time": "2022-06-24T12:05:27.425Z"
   },
   {
    "duration": 1646,
    "start_time": "2022-06-24T12:05:27.797Z"
   },
   {
    "duration": 266,
    "start_time": "2022-06-24T12:05:29.445Z"
   },
   {
    "duration": 232,
    "start_time": "2022-06-24T12:05:29.713Z"
   },
   {
    "duration": 431,
    "start_time": "2022-06-24T12:05:29.946Z"
   },
   {
    "duration": 479,
    "start_time": "2022-06-24T12:05:30.378Z"
   },
   {
    "duration": 0,
    "start_time": "2022-06-24T12:05:30.859Z"
   },
   {
    "duration": 0,
    "start_time": "2022-06-24T12:05:30.860Z"
   },
   {
    "duration": 0,
    "start_time": "2022-06-24T12:05:30.861Z"
   },
   {
    "duration": 0,
    "start_time": "2022-06-24T12:05:30.863Z"
   },
   {
    "duration": 507,
    "start_time": "2022-06-24T12:06:13.082Z"
   },
   {
    "duration": 373,
    "start_time": "2022-06-24T12:06:25.338Z"
   },
   {
    "duration": 504,
    "start_time": "2022-06-24T12:06:33.233Z"
   },
   {
    "duration": 580,
    "start_time": "2022-06-24T12:06:46.478Z"
   },
   {
    "duration": 459,
    "start_time": "2022-06-24T12:07:06.441Z"
   },
   {
    "duration": 445,
    "start_time": "2022-06-24T12:07:17.586Z"
   },
   {
    "duration": 432,
    "start_time": "2022-06-24T12:07:19.392Z"
   },
   {
    "duration": 24,
    "start_time": "2022-06-24T12:08:03.379Z"
   },
   {
    "duration": 11,
    "start_time": "2022-06-24T12:09:29.639Z"
   },
   {
    "duration": 11,
    "start_time": "2022-06-24T12:09:42.029Z"
   },
   {
    "duration": 7,
    "start_time": "2022-06-24T12:11:28.162Z"
   },
   {
    "duration": 1259,
    "start_time": "2022-06-24T12:15:34.513Z"
   },
   {
    "duration": 52,
    "start_time": "2022-06-24T12:15:35.774Z"
   },
   {
    "duration": 18,
    "start_time": "2022-06-24T12:15:35.828Z"
   },
   {
    "duration": 15,
    "start_time": "2022-06-24T12:15:35.849Z"
   },
   {
    "duration": 8,
    "start_time": "2022-06-24T12:15:35.866Z"
   },
   {
    "duration": 21,
    "start_time": "2022-06-24T12:15:35.876Z"
   },
   {
    "duration": 32,
    "start_time": "2022-06-24T12:15:35.899Z"
   },
   {
    "duration": 10,
    "start_time": "2022-06-24T12:15:35.933Z"
   },
   {
    "duration": 39,
    "start_time": "2022-06-24T12:15:35.944Z"
   },
   {
    "duration": 14,
    "start_time": "2022-06-24T12:15:35.985Z"
   },
   {
    "duration": 30,
    "start_time": "2022-06-24T12:15:36.001Z"
   },
   {
    "duration": 18,
    "start_time": "2022-06-24T12:15:36.033Z"
   },
   {
    "duration": 17,
    "start_time": "2022-06-24T12:15:36.053Z"
   },
   {
    "duration": 485,
    "start_time": "2022-06-24T12:15:36.072Z"
   },
   {
    "duration": 5,
    "start_time": "2022-06-24T12:15:36.558Z"
   },
   {
    "duration": 7,
    "start_time": "2022-06-24T12:15:36.564Z"
   },
   {
    "duration": 7,
    "start_time": "2022-06-24T12:15:36.573Z"
   },
   {
    "duration": 13,
    "start_time": "2022-06-24T12:15:36.581Z"
   },
   {
    "duration": 16,
    "start_time": "2022-06-24T12:15:36.595Z"
   },
   {
    "duration": 16,
    "start_time": "2022-06-24T12:15:36.613Z"
   },
   {
    "duration": 7,
    "start_time": "2022-06-24T12:15:36.630Z"
   },
   {
    "duration": 11,
    "start_time": "2022-06-24T12:15:36.639Z"
   },
   {
    "duration": 7,
    "start_time": "2022-06-24T12:15:36.651Z"
   },
   {
    "duration": 8,
    "start_time": "2022-06-24T12:15:36.660Z"
   },
   {
    "duration": 12,
    "start_time": "2022-06-24T12:15:36.670Z"
   },
   {
    "duration": 10,
    "start_time": "2022-06-24T12:15:36.683Z"
   },
   {
    "duration": 40,
    "start_time": "2022-06-24T12:15:36.695Z"
   },
   {
    "duration": 197,
    "start_time": "2022-06-24T12:15:36.738Z"
   },
   {
    "duration": 369,
    "start_time": "2022-06-24T12:15:36.937Z"
   },
   {
    "duration": 26,
    "start_time": "2022-06-24T12:15:37.308Z"
   },
   {
    "duration": 389,
    "start_time": "2022-06-24T12:15:37.336Z"
   },
   {
    "duration": 164,
    "start_time": "2022-06-24T12:15:37.727Z"
   },
   {
    "duration": 229,
    "start_time": "2022-06-24T12:15:37.893Z"
   },
   {
    "duration": 215,
    "start_time": "2022-06-24T12:15:38.125Z"
   },
   {
    "duration": 365,
    "start_time": "2022-06-24T12:15:38.341Z"
   },
   {
    "duration": 1471,
    "start_time": "2022-06-24T12:15:38.708Z"
   },
   {
    "duration": 260,
    "start_time": "2022-06-24T12:15:40.181Z"
   },
   {
    "duration": 251,
    "start_time": "2022-06-24T12:15:40.443Z"
   },
   {
    "duration": 424,
    "start_time": "2022-06-24T12:15:40.696Z"
   },
   {
    "duration": 532,
    "start_time": "2022-06-24T12:15:41.126Z"
   },
   {
    "duration": 461,
    "start_time": "2022-06-24T12:15:41.660Z"
   },
   {
    "duration": 457,
    "start_time": "2022-06-24T12:15:42.123Z"
   },
   {
    "duration": 9,
    "start_time": "2022-06-24T12:15:42.582Z"
   },
   {
    "duration": 14,
    "start_time": "2022-06-24T12:15:42.592Z"
   },
   {
    "duration": 19,
    "start_time": "2022-06-24T12:15:42.608Z"
   },
   {
    "duration": 51,
    "start_time": "2022-06-24T13:13:58.461Z"
   },
   {
    "duration": 1211,
    "start_time": "2022-06-24T13:14:02.808Z"
   },
   {
    "duration": 96,
    "start_time": "2022-06-24T13:14:04.022Z"
   },
   {
    "duration": 17,
    "start_time": "2022-06-24T13:14:04.120Z"
   },
   {
    "duration": 15,
    "start_time": "2022-06-24T13:14:04.138Z"
   },
   {
    "duration": 9,
    "start_time": "2022-06-24T13:14:04.155Z"
   },
   {
    "duration": 16,
    "start_time": "2022-06-24T13:14:04.166Z"
   },
   {
    "duration": 5,
    "start_time": "2022-06-24T13:14:04.184Z"
   },
   {
    "duration": 9,
    "start_time": "2022-06-24T13:14:04.191Z"
   },
   {
    "duration": 36,
    "start_time": "2022-06-24T13:14:04.201Z"
   },
   {
    "duration": 23,
    "start_time": "2022-06-24T13:14:04.239Z"
   },
   {
    "duration": 19,
    "start_time": "2022-06-24T13:14:04.264Z"
   },
   {
    "duration": 13,
    "start_time": "2022-06-24T13:14:04.285Z"
   },
   {
    "duration": 17,
    "start_time": "2022-06-24T13:14:04.300Z"
   },
   {
    "duration": 452,
    "start_time": "2022-06-24T13:14:04.320Z"
   },
   {
    "duration": 5,
    "start_time": "2022-06-24T13:14:04.773Z"
   },
   {
    "duration": 9,
    "start_time": "2022-06-24T13:14:04.780Z"
   },
   {
    "duration": 8,
    "start_time": "2022-06-24T13:14:04.790Z"
   },
   {
    "duration": 8,
    "start_time": "2022-06-24T13:14:04.799Z"
   },
   {
    "duration": 15,
    "start_time": "2022-06-24T13:14:04.808Z"
   },
   {
    "duration": 4,
    "start_time": "2022-06-24T13:14:04.825Z"
   },
   {
    "duration": 27,
    "start_time": "2022-06-24T13:14:04.831Z"
   },
   {
    "duration": 6,
    "start_time": "2022-06-24T13:14:04.860Z"
   },
   {
    "duration": 10,
    "start_time": "2022-06-24T13:14:04.867Z"
   },
   {
    "duration": 7,
    "start_time": "2022-06-24T13:14:04.879Z"
   },
   {
    "duration": 13,
    "start_time": "2022-06-24T13:14:04.887Z"
   },
   {
    "duration": 13,
    "start_time": "2022-06-24T13:14:04.901Z"
   },
   {
    "duration": 25,
    "start_time": "2022-06-24T13:14:04.915Z"
   },
   {
    "duration": 173,
    "start_time": "2022-06-24T13:14:04.941Z"
   },
   {
    "duration": 327,
    "start_time": "2022-06-24T13:14:05.116Z"
   },
   {
    "duration": 25,
    "start_time": "2022-06-24T13:14:05.445Z"
   },
   {
    "duration": 300,
    "start_time": "2022-06-24T13:14:05.472Z"
   },
   {
    "duration": 134,
    "start_time": "2022-06-24T13:14:05.774Z"
   },
   {
    "duration": 219,
    "start_time": "2022-06-24T13:14:05.910Z"
   },
   {
    "duration": 203,
    "start_time": "2022-06-24T13:14:06.131Z"
   },
   {
    "duration": 348,
    "start_time": "2022-06-24T13:14:06.335Z"
   },
   {
    "duration": 1352,
    "start_time": "2022-06-24T13:14:06.684Z"
   },
   {
    "duration": 209,
    "start_time": "2022-06-24T13:14:08.038Z"
   },
   {
    "duration": 195,
    "start_time": "2022-06-24T13:14:08.249Z"
   },
   {
    "duration": 359,
    "start_time": "2022-06-24T13:14:08.446Z"
   },
   {
    "duration": 441,
    "start_time": "2022-06-24T13:14:08.807Z"
   },
   {
    "duration": 510,
    "start_time": "2022-06-24T13:21:57.164Z"
   },
   {
    "duration": 439,
    "start_time": "2022-06-24T13:22:07.880Z"
   },
   {
    "duration": 401,
    "start_time": "2022-06-24T13:23:04.780Z"
   },
   {
    "duration": 518,
    "start_time": "2022-06-24T13:23:29.165Z"
   },
   {
    "duration": 3,
    "start_time": "2022-06-24T13:24:23.324Z"
   },
   {
    "duration": 71,
    "start_time": "2022-06-24T13:24:23.329Z"
   },
   {
    "duration": 13,
    "start_time": "2022-06-24T13:24:23.402Z"
   },
   {
    "duration": 20,
    "start_time": "2022-06-24T13:24:23.416Z"
   },
   {
    "duration": 8,
    "start_time": "2022-06-24T13:24:23.438Z"
   },
   {
    "duration": 26,
    "start_time": "2022-06-24T13:24:23.448Z"
   },
   {
    "duration": 5,
    "start_time": "2022-06-24T13:24:23.476Z"
   },
   {
    "duration": 8,
    "start_time": "2022-06-24T13:24:23.482Z"
   },
   {
    "duration": 30,
    "start_time": "2022-06-24T13:24:23.491Z"
   },
   {
    "duration": 13,
    "start_time": "2022-06-24T13:24:23.522Z"
   },
   {
    "duration": 13,
    "start_time": "2022-06-24T13:24:23.559Z"
   },
   {
    "duration": 13,
    "start_time": "2022-06-24T13:24:23.574Z"
   },
   {
    "duration": 14,
    "start_time": "2022-06-24T13:24:23.589Z"
   },
   {
    "duration": 461,
    "start_time": "2022-06-24T13:24:23.605Z"
   },
   {
    "duration": 3,
    "start_time": "2022-06-24T13:24:24.068Z"
   },
   {
    "duration": 7,
    "start_time": "2022-06-24T13:24:24.073Z"
   },
   {
    "duration": 5,
    "start_time": "2022-06-24T13:24:24.081Z"
   },
   {
    "duration": 10,
    "start_time": "2022-06-24T13:24:24.087Z"
   },
   {
    "duration": 15,
    "start_time": "2022-06-24T13:24:24.099Z"
   },
   {
    "duration": 6,
    "start_time": "2022-06-24T13:24:24.115Z"
   },
   {
    "duration": 8,
    "start_time": "2022-06-24T13:24:24.122Z"
   },
   {
    "duration": 28,
    "start_time": "2022-06-24T13:24:24.132Z"
   },
   {
    "duration": 7,
    "start_time": "2022-06-24T13:24:24.161Z"
   },
   {
    "duration": 5,
    "start_time": "2022-06-24T13:24:24.170Z"
   },
   {
    "duration": 10,
    "start_time": "2022-06-24T13:24:24.177Z"
   },
   {
    "duration": 8,
    "start_time": "2022-06-24T13:24:24.189Z"
   },
   {
    "duration": 18,
    "start_time": "2022-06-24T13:24:24.198Z"
   },
   {
    "duration": 181,
    "start_time": "2022-06-24T13:24:24.218Z"
   },
   {
    "duration": 332,
    "start_time": "2022-06-24T13:24:24.401Z"
   },
   {
    "duration": 24,
    "start_time": "2022-06-24T13:24:24.735Z"
   },
   {
    "duration": 267,
    "start_time": "2022-06-24T13:24:24.761Z"
   },
   {
    "duration": 151,
    "start_time": "2022-06-24T13:24:25.030Z"
   },
   {
    "duration": 214,
    "start_time": "2022-06-24T13:24:25.182Z"
   },
   {
    "duration": 200,
    "start_time": "2022-06-24T13:24:25.398Z"
   },
   {
    "duration": 344,
    "start_time": "2022-06-24T13:24:25.600Z"
   },
   {
    "duration": 1282,
    "start_time": "2022-06-24T13:24:25.946Z"
   },
   {
    "duration": 267,
    "start_time": "2022-06-24T13:24:27.232Z"
   },
   {
    "duration": 198,
    "start_time": "2022-06-24T13:24:27.501Z"
   },
   {
    "duration": 355,
    "start_time": "2022-06-24T13:24:27.700Z"
   },
   {
    "duration": 434,
    "start_time": "2022-06-24T13:24:28.059Z"
   },
   {
    "duration": 456,
    "start_time": "2022-06-24T13:24:28.495Z"
   },
   {
    "duration": 433,
    "start_time": "2022-06-24T13:24:28.952Z"
   },
   {
    "duration": 8,
    "start_time": "2022-06-24T13:24:29.386Z"
   },
   {
    "duration": 15,
    "start_time": "2022-06-24T13:24:29.396Z"
   },
   {
    "duration": 7,
    "start_time": "2022-06-24T13:24:29.413Z"
   },
   {
    "duration": 1339,
    "start_time": "2022-06-25T08:09:36.087Z"
   },
   {
    "duration": 95,
    "start_time": "2022-06-25T08:09:37.428Z"
   },
   {
    "duration": 18,
    "start_time": "2022-06-25T08:09:37.525Z"
   },
   {
    "duration": 17,
    "start_time": "2022-06-25T08:09:37.545Z"
   },
   {
    "duration": 9,
    "start_time": "2022-06-25T08:09:37.564Z"
   },
   {
    "duration": 17,
    "start_time": "2022-06-25T08:09:37.575Z"
   },
   {
    "duration": 6,
    "start_time": "2022-06-25T08:09:37.594Z"
   },
   {
    "duration": 21,
    "start_time": "2022-06-25T08:09:37.627Z"
   },
   {
    "duration": 47,
    "start_time": "2022-06-25T08:09:37.650Z"
   },
   {
    "duration": 13,
    "start_time": "2022-06-25T08:09:37.700Z"
   },
   {
    "duration": 16,
    "start_time": "2022-06-25T08:09:37.715Z"
   },
   {
    "duration": 14,
    "start_time": "2022-06-25T08:09:37.732Z"
   },
   {
    "duration": 15,
    "start_time": "2022-06-25T08:09:37.748Z"
   },
   {
    "duration": 486,
    "start_time": "2022-06-25T08:09:37.764Z"
   },
   {
    "duration": 5,
    "start_time": "2022-06-25T08:09:38.251Z"
   },
   {
    "duration": 7,
    "start_time": "2022-06-25T08:09:38.257Z"
   },
   {
    "duration": 5,
    "start_time": "2022-06-25T08:09:38.265Z"
   },
   {
    "duration": 8,
    "start_time": "2022-06-25T08:09:38.271Z"
   },
   {
    "duration": 16,
    "start_time": "2022-06-25T08:09:38.280Z"
   },
   {
    "duration": 6,
    "start_time": "2022-06-25T08:09:38.298Z"
   },
   {
    "duration": 9,
    "start_time": "2022-06-25T08:09:38.327Z"
   },
   {
    "duration": 11,
    "start_time": "2022-06-25T08:09:38.338Z"
   },
   {
    "duration": 8,
    "start_time": "2022-06-25T08:09:38.350Z"
   },
   {
    "duration": 6,
    "start_time": "2022-06-25T08:09:38.359Z"
   },
   {
    "duration": 8,
    "start_time": "2022-06-25T08:09:38.366Z"
   },
   {
    "duration": 9,
    "start_time": "2022-06-25T08:09:38.376Z"
   },
   {
    "duration": 19,
    "start_time": "2022-06-25T08:09:38.386Z"
   },
   {
    "duration": 184,
    "start_time": "2022-06-25T08:09:38.426Z"
   },
   {
    "duration": 376,
    "start_time": "2022-06-25T08:09:38.611Z"
   },
   {
    "duration": 19,
    "start_time": "2022-06-25T08:09:38.989Z"
   },
   {
    "duration": 353,
    "start_time": "2022-06-25T08:09:39.010Z"
   },
   {
    "duration": 154,
    "start_time": "2022-06-25T08:09:39.365Z"
   },
   {
    "duration": 190,
    "start_time": "2022-06-25T08:09:39.521Z"
   },
   {
    "duration": 201,
    "start_time": "2022-06-25T08:09:39.712Z"
   },
   {
    "duration": 359,
    "start_time": "2022-06-25T08:09:39.914Z"
   },
   {
    "duration": 1454,
    "start_time": "2022-06-25T08:09:40.275Z"
   },
   {
    "duration": 226,
    "start_time": "2022-06-25T08:09:41.730Z"
   },
   {
    "duration": 206,
    "start_time": "2022-06-25T08:09:41.957Z"
   },
   {
    "duration": 373,
    "start_time": "2022-06-25T08:09:42.165Z"
   },
   {
    "duration": 296,
    "start_time": "2022-06-25T08:09:42.539Z"
   },
   {
    "duration": 468,
    "start_time": "2022-06-25T08:09:42.837Z"
   },
   {
    "duration": 460,
    "start_time": "2022-06-25T08:09:43.306Z"
   },
   {
    "duration": 465,
    "start_time": "2022-06-25T08:09:43.768Z"
   },
   {
    "duration": 7,
    "start_time": "2022-06-25T08:09:44.234Z"
   },
   {
    "duration": 11,
    "start_time": "2022-06-25T08:09:44.243Z"
   },
   {
    "duration": 7,
    "start_time": "2022-06-25T08:09:44.256Z"
   },
   {
    "duration": 49,
    "start_time": "2022-07-31T10:37:49.405Z"
   },
   {
    "duration": 1203,
    "start_time": "2022-07-31T10:37:56.166Z"
   },
   {
    "duration": 176,
    "start_time": "2022-07-31T10:37:57.370Z"
   },
   {
    "duration": 16,
    "start_time": "2022-07-31T10:37:57.547Z"
   },
   {
    "duration": 11,
    "start_time": "2022-07-31T10:37:57.564Z"
   },
   {
    "duration": 7,
    "start_time": "2022-07-31T10:37:57.577Z"
   },
   {
    "duration": 14,
    "start_time": "2022-07-31T10:37:57.585Z"
   },
   {
    "duration": 5,
    "start_time": "2022-07-31T10:37:57.600Z"
   },
   {
    "duration": 7,
    "start_time": "2022-07-31T10:37:57.606Z"
   },
   {
    "duration": 43,
    "start_time": "2022-07-31T10:37:57.614Z"
   },
   {
    "duration": 24,
    "start_time": "2022-07-31T10:37:57.659Z"
   },
   {
    "duration": 25,
    "start_time": "2022-07-31T10:37:57.684Z"
   },
   {
    "duration": 17,
    "start_time": "2022-07-31T10:37:57.711Z"
   },
   {
    "duration": 22,
    "start_time": "2022-07-31T10:37:57.731Z"
   },
   {
    "duration": 432,
    "start_time": "2022-07-31T10:37:57.756Z"
   },
   {
    "duration": 5,
    "start_time": "2022-07-31T10:37:58.189Z"
   },
   {
    "duration": 5,
    "start_time": "2022-07-31T10:37:58.195Z"
   },
   {
    "duration": 3,
    "start_time": "2022-07-31T10:37:58.202Z"
   },
   {
    "duration": 25,
    "start_time": "2022-07-31T10:37:58.207Z"
   },
   {
    "duration": 11,
    "start_time": "2022-07-31T10:37:58.233Z"
   },
   {
    "duration": 5,
    "start_time": "2022-07-31T10:37:58.245Z"
   },
   {
    "duration": 4,
    "start_time": "2022-07-31T10:37:58.251Z"
   },
   {
    "duration": 7,
    "start_time": "2022-07-31T10:37:58.257Z"
   },
   {
    "duration": 7,
    "start_time": "2022-07-31T10:37:58.265Z"
   },
   {
    "duration": 5,
    "start_time": "2022-07-31T10:37:58.273Z"
   },
   {
    "duration": 11,
    "start_time": "2022-07-31T10:37:58.279Z"
   },
   {
    "duration": 13,
    "start_time": "2022-07-31T10:37:58.291Z"
   },
   {
    "duration": 38,
    "start_time": "2022-07-31T10:37:58.305Z"
   },
   {
    "duration": 157,
    "start_time": "2022-07-31T10:37:58.344Z"
   },
   {
    "duration": 303,
    "start_time": "2022-07-31T10:37:58.503Z"
   },
   {
    "duration": 24,
    "start_time": "2022-07-31T10:37:58.808Z"
   },
   {
    "duration": 296,
    "start_time": "2022-07-31T10:37:58.833Z"
   },
   {
    "duration": 143,
    "start_time": "2022-07-31T10:37:59.131Z"
   },
   {
    "duration": 174,
    "start_time": "2022-07-31T10:37:59.276Z"
   },
   {
    "duration": 181,
    "start_time": "2022-07-31T10:37:59.452Z"
   },
   {
    "duration": 331,
    "start_time": "2022-07-31T10:37:59.634Z"
   },
   {
    "duration": 1314,
    "start_time": "2022-07-31T10:37:59.966Z"
   },
   {
    "duration": 204,
    "start_time": "2022-07-31T10:38:01.281Z"
   },
   {
    "duration": 183,
    "start_time": "2022-07-31T10:38:01.486Z"
   },
   {
    "duration": 333,
    "start_time": "2022-07-31T10:38:01.671Z"
   },
   {
    "duration": 268,
    "start_time": "2022-07-31T10:38:02.006Z"
   },
   {
    "duration": 332,
    "start_time": "2022-07-31T10:38:02.277Z"
   },
   {
    "duration": 398,
    "start_time": "2022-07-31T10:38:14.642Z"
   }
  ],
  "celltoolbar": "Необработанный формат ячейки",
  "kernelspec": {
   "display_name": "Python 3 (ipykernel)",
   "language": "python",
   "name": "python3"
  },
  "language_info": {
   "codemirror_mode": {
    "name": "ipython",
    "version": 3
   },
   "file_extension": ".py",
   "mimetype": "text/x-python",
   "name": "python",
   "nbconvert_exporter": "python",
   "pygments_lexer": "ipython3",
   "version": "3.9.7"
  },
  "toc": {
   "base_numbering": 1,
   "nav_menu": {},
   "number_sections": true,
   "sideBar": true,
   "skip_h1_title": true,
   "title_cell": "Table of Contents",
   "title_sidebar": "Contents",
   "toc_cell": false,
   "toc_position": {},
   "toc_section_display": true,
   "toc_window_display": false
  }
 },
 "nbformat": 4,
 "nbformat_minor": 5
}
