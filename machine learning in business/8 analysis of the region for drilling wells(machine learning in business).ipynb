{
 "cells": [
  {
   "cell_type": "markdown",
   "metadata": {},
   "source": [
    "# Выбор локации для скважины"
   ]
  },
  {
   "cell_type": "markdown",
   "metadata": {},
   "source": [
    "**Описание целей и задачи проекта**\n",
    "\n",
    "Нефтедобывающей комании «ГлавРосГосНефть» требуется построить модель для определения региона, где добыча принесёт наибольшую прибыль при наименьших рисках.\n",
    "\n",
    "При разведке региона исследуют 500 точек, из которых с помощью машинного обучения необходимо выбирать 200 лучших для разработки.\n",
    "\n",
    "Бюджет на разработку скважин в регионе — 10 млрд рублей.\n",
    "\n",
    "При нынешних ценах один баррель сырья приносит 450 рублей дохода. Доход с каждой единицы продукта составляет 450 тыс. рублей, поскольку объём указан в тысячах баррелей.\n",
    "\n",
    "После оценки рисков нужно оставить те регионы, в которых вероятность убытков меньше 2.5%. Среди них выбрать регион с наибольшей средней прибылью.\n",
    "\n",
    "**Описание данных**\n",
    "\n",
    "В распоряжении пробы нефти в трёх регионах: качество нефти и объём её запасов.\n",
    "\n",
    "\n",
    "**План работы**\n",
    "- загрузка и подготовка данных\n",
    "- построение модели линейной регрессии для предсказания объёма запасов в новых скважинах\n",
    "    - разбить данные на обучающую и валидационную выборки в соотношении 75:25\n",
    "    - обучить модель и сделать предсказания на валидационной выборке\n",
    "    - сохранить предсказания и правильные ответы на валидационной выборке\n",
    "    - визуализировать средний запас предсказанного сырья и RMSE модели\n",
    "    - проанализировать результаты\n",
    "- рассчитать достаточный объём сырья для безубыточной разработки новой скважины, сравнить полученный объём сырья со средним запасом в каждом регионе и написать выводы\n",
    "- рассчитать прибыль для полученного объёма сырья\n",
    "- посчитать риски и прибыль для каждого региона\n",
    "    - применить технику Bootstrap с 1000 выборок, чтобы найти распределение прибыли\n",
    "    - найти среднюю прибыль, 95%-й доверительный интервал и риск убытков\n",
    "    - написать выводы и предложить регион для разработки скважин\n",
    "\n"
   ]
  },
  {
   "cell_type": "markdown",
   "metadata": {},
   "source": [
    "## Загрузка и подготовка данных"
   ]
  },
  {
   "cell_type": "code",
   "execution_count": 1,
   "metadata": {},
   "outputs": [
    {
     "name": "stderr",
     "output_type": "stream",
     "text": [
      "/Users/refresh/opt/anaconda3/lib/python3.9/site-packages/scipy/__init__.py:146: UserWarning: A NumPy version >=1.16.5 and <1.23.0 is required for this version of SciPy (detected version 1.23.3\n",
      "  warnings.warn(f\"A NumPy version >={np_minversion} and <{np_maxversion}\"\n"
     ]
    }
   ],
   "source": [
    "import os\n",
    "from tqdm import tqdm\n",
    "import pandas as pd\n",
    "import numpy as np\n",
    "import seaborn as sb\n",
    "import matplotlib.pyplot as plt\n",
    "\n",
    "from sklearn.linear_model import LinearRegression\n",
    "\n",
    "from sklearn.model_selection import train_test_split\n",
    "\n",
    "from sklearn.preprocessing import StandardScaler\n",
    "\n",
    "from sklearn.metrics import mean_squared_error"
   ]
  },
  {
   "cell_type": "code",
   "execution_count": 2,
   "metadata": {},
   "outputs": [],
   "source": [
    "# константы\n",
    "QUANTITY_RESEARCH = 500 # при разведке региона исследуют 500 точек\n",
    "MODEL_RESEARCH = 200 # количество точек для разработки\n",
    "REGION_BUDGET = 10000000000 # бюджет на разработку скважин в регионе\n",
    "INCOME_ONE_UNIT = 450000 # доход с одной единица продукции\n",
    "PROBABILITY_MIN_LOSS = 2.5 # минимальный порог убытков (%)"
   ]
  },
  {
   "cell_type": "code",
   "execution_count": 3,
   "metadata": {},
   "outputs": [],
   "source": [
    "# читаем данные спомощью try..except и read_csv\n",
    "try:\n",
    "    geo_1= pd.read_csv('/datasets/geo_data_0.csv')\n",
    "    geo_2= pd.read_csv('/datasets/geo_data_1.csv')\n",
    "    geo_3= pd.read_csv('/datasets/geo_data_2.csv')\n",
    "except:\n",
    "    geo_1 = pd.read_csv('/Users/refresh/Downloads/geo_data_0.csv')\n",
    "    geo_2 = pd.read_csv('/Users/refresh/Downloads/geo_data_1.csv')\n",
    "    geo_3 = pd.read_csv('/Users/refresh/Downloads/geo_data_2.csv')"
   ]
  },
  {
   "cell_type": "code",
   "execution_count": 4,
   "metadata": {},
   "outputs": [],
   "source": [
    "pth1 = '/datasets/geo_data_0.csv'\n",
    "pth2 = '/Users/refresh/Downloads/geo_data_0.csv'\n",
    "\n",
    "pth3 = '/datasets/geo_data_1.csv'\n",
    "pth4 = '/Users/refresh/Downloads/geo_data_1.csv'\n",
    "\n",
    "pth5 = '/datasets/geo_data_2.csv'\n",
    "pth6 = '/Users/refresh/Downloads/geo_data_2.csv'\n",
    "\n",
    "if os.path.exists(pth1):\n",
    "    geo_1 = pd.read_csv(pth1)\n",
    "elif os.path.exists(pth2):\n",
    "    geo_1 = pd.read_csv(pth2)\n",
    "else:\n",
    "    print('Something is wrong')\n",
    "    \n",
    "if os.path.exists(pth3):\n",
    "    geo_2 = pd.read_csv(pth3)\n",
    "elif os.path.exists(pth4):\n",
    "    geo_2 = pd.read_csv(pth4)\n",
    "else:\n",
    "    print('Something is wrong')\n",
    "    \n",
    "if os.path.exists(pth5):\n",
    "    geo_3 = pd.read_csv(pth5)\n",
    "elif os.path.exists(pth6):\n",
    "    geo_3 = pd.read_csv(pth6)\n",
    "else:\n",
    "    print('Something is wrong')"
   ]
  },
  {
   "cell_type": "markdown",
   "metadata": {},
   "source": [
    "Посмотрим данные во всех трёх таблицах.\n",
    "\n",
    "#### Первая база\n",
    "\n",
    "**Что необходимо сделать на этом этапе:**\n",
    "\n",
    "- [x] ознакомиться со всеми данными подробнее\n",
    "- [x] проверить дубликаты\n",
    "- [x] соединить таблицы в одну, для обучения модели и удобства работы\n",
    "- [x] написать выводы"
   ]
  },
  {
   "cell_type": "code",
   "execution_count": 5,
   "metadata": {},
   "outputs": [
    {
     "name": "stdout",
     "output_type": "stream",
     "text": [
      "--------------------------------------------\n",
      "Инфориация\n",
      "<class 'pandas.core.frame.DataFrame'>\n",
      "RangeIndex: 100000 entries, 0 to 99999\n",
      "Data columns (total 5 columns):\n",
      " #   Column   Non-Null Count   Dtype  \n",
      "---  ------   --------------   -----  \n",
      " 0   id       100000 non-null  object \n",
      " 1   f0       100000 non-null  float64\n",
      " 2   f1       100000 non-null  float64\n",
      " 3   f2       100000 non-null  float64\n",
      " 4   product  100000 non-null  float64\n",
      "dtypes: float64(4), object(1)\n",
      "memory usage: 3.8+ MB\n",
      "--------------------------------------------\n",
      "5 случайных строк\n"
     ]
    },
    {
     "data": {
      "text/html": [
       "<div>\n",
       "<style scoped>\n",
       "    .dataframe tbody tr th:only-of-type {\n",
       "        vertical-align: middle;\n",
       "    }\n",
       "\n",
       "    .dataframe tbody tr th {\n",
       "        vertical-align: top;\n",
       "    }\n",
       "\n",
       "    .dataframe thead th {\n",
       "        text-align: right;\n",
       "    }\n",
       "</style>\n",
       "<table border=\"1\" class=\"dataframe\">\n",
       "  <thead>\n",
       "    <tr style=\"text-align: right;\">\n",
       "      <th></th>\n",
       "      <th>id</th>\n",
       "      <th>f0</th>\n",
       "      <th>f1</th>\n",
       "      <th>f2</th>\n",
       "      <th>product</th>\n",
       "    </tr>\n",
       "  </thead>\n",
       "  <tbody>\n",
       "    <tr>\n",
       "      <th>14595</th>\n",
       "      <td>00vhM</td>\n",
       "      <td>0.226262</td>\n",
       "      <td>-0.339984</td>\n",
       "      <td>0.940113</td>\n",
       "      <td>86.988250</td>\n",
       "    </tr>\n",
       "    <tr>\n",
       "      <th>6177</th>\n",
       "      <td>qeKqH</td>\n",
       "      <td>1.027142</td>\n",
       "      <td>-0.419617</td>\n",
       "      <td>4.741997</td>\n",
       "      <td>163.721780</td>\n",
       "    </tr>\n",
       "    <tr>\n",
       "      <th>74509</th>\n",
       "      <td>2WZoK</td>\n",
       "      <td>0.540765</td>\n",
       "      <td>-0.437584</td>\n",
       "      <td>1.744742</td>\n",
       "      <td>78.986954</td>\n",
       "    </tr>\n",
       "    <tr>\n",
       "      <th>96101</th>\n",
       "      <td>Wdunf</td>\n",
       "      <td>0.780955</td>\n",
       "      <td>0.613177</td>\n",
       "      <td>3.609559</td>\n",
       "      <td>103.459844</td>\n",
       "    </tr>\n",
       "    <tr>\n",
       "      <th>79944</th>\n",
       "      <td>j9mzv</td>\n",
       "      <td>0.014423</td>\n",
       "      <td>0.441211</td>\n",
       "      <td>5.058077</td>\n",
       "      <td>143.244399</td>\n",
       "    </tr>\n",
       "  </tbody>\n",
       "</table>\n",
       "</div>"
      ],
      "text/plain": [
       "          id        f0        f1        f2     product\n",
       "14595  00vhM  0.226262 -0.339984  0.940113   86.988250\n",
       "6177   qeKqH  1.027142 -0.419617  4.741997  163.721780\n",
       "74509  2WZoK  0.540765 -0.437584  1.744742   78.986954\n",
       "96101  Wdunf  0.780955  0.613177  3.609559  103.459844\n",
       "79944  j9mzv  0.014423  0.441211  5.058077  143.244399"
      ]
     },
     "metadata": {},
     "output_type": "display_data"
    },
    {
     "name": "stdout",
     "output_type": "stream",
     "text": [
      "--------------------------------------------\n",
      "Описание данных\n"
     ]
    },
    {
     "data": {
      "text/html": [
       "<div>\n",
       "<style scoped>\n",
       "    .dataframe tbody tr th:only-of-type {\n",
       "        vertical-align: middle;\n",
       "    }\n",
       "\n",
       "    .dataframe tbody tr th {\n",
       "        vertical-align: top;\n",
       "    }\n",
       "\n",
       "    .dataframe thead th {\n",
       "        text-align: right;\n",
       "    }\n",
       "</style>\n",
       "<table border=\"1\" class=\"dataframe\">\n",
       "  <thead>\n",
       "    <tr style=\"text-align: right;\">\n",
       "      <th></th>\n",
       "      <th>f0</th>\n",
       "      <th>f1</th>\n",
       "      <th>f2</th>\n",
       "      <th>product</th>\n",
       "    </tr>\n",
       "  </thead>\n",
       "  <tbody>\n",
       "    <tr>\n",
       "      <th>count</th>\n",
       "      <td>100000.000000</td>\n",
       "      <td>100000.000000</td>\n",
       "      <td>100000.000000</td>\n",
       "      <td>100000.000000</td>\n",
       "    </tr>\n",
       "    <tr>\n",
       "      <th>mean</th>\n",
       "      <td>0.500419</td>\n",
       "      <td>0.250143</td>\n",
       "      <td>2.502647</td>\n",
       "      <td>92.500000</td>\n",
       "    </tr>\n",
       "    <tr>\n",
       "      <th>std</th>\n",
       "      <td>0.871832</td>\n",
       "      <td>0.504433</td>\n",
       "      <td>3.248248</td>\n",
       "      <td>44.288691</td>\n",
       "    </tr>\n",
       "    <tr>\n",
       "      <th>min</th>\n",
       "      <td>-1.408605</td>\n",
       "      <td>-0.848218</td>\n",
       "      <td>-12.088328</td>\n",
       "      <td>0.000000</td>\n",
       "    </tr>\n",
       "    <tr>\n",
       "      <th>25%</th>\n",
       "      <td>-0.072580</td>\n",
       "      <td>-0.200881</td>\n",
       "      <td>0.287748</td>\n",
       "      <td>56.497507</td>\n",
       "    </tr>\n",
       "    <tr>\n",
       "      <th>50%</th>\n",
       "      <td>0.502360</td>\n",
       "      <td>0.250252</td>\n",
       "      <td>2.515969</td>\n",
       "      <td>91.849972</td>\n",
       "    </tr>\n",
       "    <tr>\n",
       "      <th>75%</th>\n",
       "      <td>1.073581</td>\n",
       "      <td>0.700646</td>\n",
       "      <td>4.715088</td>\n",
       "      <td>128.564089</td>\n",
       "    </tr>\n",
       "    <tr>\n",
       "      <th>max</th>\n",
       "      <td>2.362331</td>\n",
       "      <td>1.343769</td>\n",
       "      <td>16.003790</td>\n",
       "      <td>185.364347</td>\n",
       "    </tr>\n",
       "  </tbody>\n",
       "</table>\n",
       "</div>"
      ],
      "text/plain": [
       "                  f0             f1             f2        product\n",
       "count  100000.000000  100000.000000  100000.000000  100000.000000\n",
       "mean        0.500419       0.250143       2.502647      92.500000\n",
       "std         0.871832       0.504433       3.248248      44.288691\n",
       "min        -1.408605      -0.848218     -12.088328       0.000000\n",
       "25%        -0.072580      -0.200881       0.287748      56.497507\n",
       "50%         0.502360       0.250252       2.515969      91.849972\n",
       "75%         1.073581       0.700646       4.715088     128.564089\n",
       "max         2.362331       1.343769      16.003790     185.364347"
      ]
     },
     "metadata": {},
     "output_type": "display_data"
    },
    {
     "name": "stdout",
     "output_type": "stream",
     "text": [
      "--------------------------------------------\n",
      "Коэффициент корреляции\n"
     ]
    },
    {
     "data": {
      "text/html": [
       "<div>\n",
       "<style scoped>\n",
       "    .dataframe tbody tr th:only-of-type {\n",
       "        vertical-align: middle;\n",
       "    }\n",
       "\n",
       "    .dataframe tbody tr th {\n",
       "        vertical-align: top;\n",
       "    }\n",
       "\n",
       "    .dataframe thead th {\n",
       "        text-align: right;\n",
       "    }\n",
       "</style>\n",
       "<table border=\"1\" class=\"dataframe\">\n",
       "  <thead>\n",
       "    <tr style=\"text-align: right;\">\n",
       "      <th></th>\n",
       "      <th>f0</th>\n",
       "      <th>f1</th>\n",
       "      <th>f2</th>\n",
       "      <th>product</th>\n",
       "    </tr>\n",
       "  </thead>\n",
       "  <tbody>\n",
       "    <tr>\n",
       "      <th>f0</th>\n",
       "      <td>1.000000</td>\n",
       "      <td>-0.440723</td>\n",
       "      <td>-0.003153</td>\n",
       "      <td>0.143536</td>\n",
       "    </tr>\n",
       "    <tr>\n",
       "      <th>f1</th>\n",
       "      <td>-0.440723</td>\n",
       "      <td>1.000000</td>\n",
       "      <td>0.001724</td>\n",
       "      <td>-0.192356</td>\n",
       "    </tr>\n",
       "    <tr>\n",
       "      <th>f2</th>\n",
       "      <td>-0.003153</td>\n",
       "      <td>0.001724</td>\n",
       "      <td>1.000000</td>\n",
       "      <td>0.483663</td>\n",
       "    </tr>\n",
       "    <tr>\n",
       "      <th>product</th>\n",
       "      <td>0.143536</td>\n",
       "      <td>-0.192356</td>\n",
       "      <td>0.483663</td>\n",
       "      <td>1.000000</td>\n",
       "    </tr>\n",
       "  </tbody>\n",
       "</table>\n",
       "</div>"
      ],
      "text/plain": [
       "               f0        f1        f2   product\n",
       "f0       1.000000 -0.440723 -0.003153  0.143536\n",
       "f1      -0.440723  1.000000  0.001724 -0.192356\n",
       "f2      -0.003153  0.001724  1.000000  0.483663\n",
       "product  0.143536 -0.192356  0.483663  1.000000"
      ]
     },
     "metadata": {},
     "output_type": "display_data"
    },
    {
     "name": "stdout",
     "output_type": "stream",
     "text": [
      "--------------------------------------------\n"
     ]
    },
    {
     "data": {
      "image/png": "[encoded data removed]",
      "text/plain": [
       "<Figure size 720x720 with 1 Axes>"
      ]
     },
     "metadata": {
      "needs_background": "light"
     },
     "output_type": "display_data"
    },
    {
     "data": {
      "image/png": "[encoded data removed]",
      "text/plain": [
       "<Figure size 720x720 with 4 Axes>"
      ]
     },
     "metadata": {
      "needs_background": "light"
     },
     "output_type": "display_data"
    }
   ],
   "source": [
    "# функция для ознакомления с данными\n",
    "def description(data):\n",
    "    print('--------------------------------------------')\n",
    "    print('Инфориация')\n",
    "    data.info()\n",
    "    print('--------------------------------------------')\n",
    "    print('5 случайных строк')\n",
    "    display(data.sample(5))\n",
    "    print('--------------------------------------------')\n",
    "    print('Описание данных')\n",
    "    display(data.describe())\n",
    "    print('--------------------------------------------')\n",
    "    print('Коэффициент корреляции')\n",
    "    display(data.corr())\n",
    "    print('--------------------------------------------')\n",
    "    plt.figure(figsize=(10,10))\n",
    "    sb.boxplot(data=data)\n",
    "    data.hist(bins=50, figsize=(10, 10));\n",
    "# смотрим данные\n",
    "description(geo_1)"
   ]
  },
  {
   "cell_type": "markdown",
   "metadata": {},
   "source": [
    "В признаке f2 есть выбросы, отбросим экстримальные значения"
   ]
  },
  {
   "cell_type": "code",
   "execution_count": 6,
   "metadata": {},
   "outputs": [
    {
     "name": "stdout",
     "output_type": "stream",
     "text": [
      "1% квантиль -4.9731962401024425\n",
      "99% квантиль 9.969349073218709\n",
      "удалено 2000 строк\n"
     ]
    }
   ],
   "source": [
    "print('1% квантиль', geo_1['f2'].quantile(0.01))\n",
    "print('99% квантиль', geo_1['f2'].quantile(0.99))\n",
    "len_1 = len(geo_1)\n",
    "geo_1 = geo_1[(geo_1['f2'] > geo_1['f2'].quantile(0.01)) & (geo_1['f2'] < geo_1['f2'].quantile(0.99))]\n",
    "print('удалено', len_1 - len(geo_1), 'строк')\n"
   ]
  },
  {
   "cell_type": "markdown",
   "metadata": {},
   "source": [
    "#### Вторая база"
   ]
  },
  {
   "cell_type": "code",
   "execution_count": 7,
   "metadata": {},
   "outputs": [
    {
     "name": "stdout",
     "output_type": "stream",
     "text": [
      "--------------------------------------------\n",
      "Инфориация\n",
      "<class 'pandas.core.frame.DataFrame'>\n",
      "RangeIndex: 100000 entries, 0 to 99999\n",
      "Data columns (total 5 columns):\n",
      " #   Column   Non-Null Count   Dtype  \n",
      "---  ------   --------------   -----  \n",
      " 0   id       100000 non-null  object \n",
      " 1   f0       100000 non-null  float64\n",
      " 2   f1       100000 non-null  float64\n",
      " 3   f2       100000 non-null  float64\n",
      " 4   product  100000 non-null  float64\n",
      "dtypes: float64(4), object(1)\n",
      "memory usage: 3.8+ MB\n",
      "--------------------------------------------\n",
      "5 случайных строк\n"
     ]
    },
    {
     "data": {
      "text/html": [
       "<div>\n",
       "<style scoped>\n",
       "    .dataframe tbody tr th:only-of-type {\n",
       "        vertical-align: middle;\n",
       "    }\n",
       "\n",
       "    .dataframe tbody tr th {\n",
       "        vertical-align: top;\n",
       "    }\n",
       "\n",
       "    .dataframe thead th {\n",
       "        text-align: right;\n",
       "    }\n",
       "</style>\n",
       "<table border=\"1\" class=\"dataframe\">\n",
       "  <thead>\n",
       "    <tr style=\"text-align: right;\">\n",
       "      <th></th>\n",
       "      <th>id</th>\n",
       "      <th>f0</th>\n",
       "      <th>f1</th>\n",
       "      <th>f2</th>\n",
       "      <th>product</th>\n",
       "    </tr>\n",
       "  </thead>\n",
       "  <tbody>\n",
       "    <tr>\n",
       "      <th>22757</th>\n",
       "      <td>ueHr9</td>\n",
       "      <td>-7.206278</td>\n",
       "      <td>-8.465586</td>\n",
       "      <td>4.998128</td>\n",
       "      <td>137.945408</td>\n",
       "    </tr>\n",
       "    <tr>\n",
       "      <th>49626</th>\n",
       "      <td>J3Liu</td>\n",
       "      <td>-9.664692</td>\n",
       "      <td>-9.173469</td>\n",
       "      <td>0.996508</td>\n",
       "      <td>30.132364</td>\n",
       "    </tr>\n",
       "    <tr>\n",
       "      <th>85492</th>\n",
       "      <td>cb0ML</td>\n",
       "      <td>15.993197</td>\n",
       "      <td>-3.531228</td>\n",
       "      <td>0.996494</td>\n",
       "      <td>26.953261</td>\n",
       "    </tr>\n",
       "    <tr>\n",
       "      <th>30933</th>\n",
       "      <td>z7Lu9</td>\n",
       "      <td>-8.653489</td>\n",
       "      <td>-8.134084</td>\n",
       "      <td>2.004064</td>\n",
       "      <td>57.085625</td>\n",
       "    </tr>\n",
       "    <tr>\n",
       "      <th>27894</th>\n",
       "      <td>erWR9</td>\n",
       "      <td>-10.190721</td>\n",
       "      <td>-4.557251</td>\n",
       "      <td>-0.000185</td>\n",
       "      <td>3.179103</td>\n",
       "    </tr>\n",
       "  </tbody>\n",
       "</table>\n",
       "</div>"
      ],
      "text/plain": [
       "          id         f0        f1        f2     product\n",
       "22757  ueHr9  -7.206278 -8.465586  4.998128  137.945408\n",
       "49626  J3Liu  -9.664692 -9.173469  0.996508   30.132364\n",
       "85492  cb0ML  15.993197 -3.531228  0.996494   26.953261\n",
       "30933  z7Lu9  -8.653489 -8.134084  2.004064   57.085625\n",
       "27894  erWR9 -10.190721 -4.557251 -0.000185    3.179103"
      ]
     },
     "metadata": {},
     "output_type": "display_data"
    },
    {
     "name": "stdout",
     "output_type": "stream",
     "text": [
      "--------------------------------------------\n",
      "Описание данных\n"
     ]
    },
    {
     "data": {
      "text/html": [
       "<div>\n",
       "<style scoped>\n",
       "    .dataframe tbody tr th:only-of-type {\n",
       "        vertical-align: middle;\n",
       "    }\n",
       "\n",
       "    .dataframe tbody tr th {\n",
       "        vertical-align: top;\n",
       "    }\n",
       "\n",
       "    .dataframe thead th {\n",
       "        text-align: right;\n",
       "    }\n",
       "</style>\n",
       "<table border=\"1\" class=\"dataframe\">\n",
       "  <thead>\n",
       "    <tr style=\"text-align: right;\">\n",
       "      <th></th>\n",
       "      <th>f0</th>\n",
       "      <th>f1</th>\n",
       "      <th>f2</th>\n",
       "      <th>product</th>\n",
       "    </tr>\n",
       "  </thead>\n",
       "  <tbody>\n",
       "    <tr>\n",
       "      <th>count</th>\n",
       "      <td>100000.000000</td>\n",
       "      <td>100000.000000</td>\n",
       "      <td>100000.000000</td>\n",
       "      <td>100000.000000</td>\n",
       "    </tr>\n",
       "    <tr>\n",
       "      <th>mean</th>\n",
       "      <td>1.141296</td>\n",
       "      <td>-4.796579</td>\n",
       "      <td>2.494541</td>\n",
       "      <td>68.825000</td>\n",
       "    </tr>\n",
       "    <tr>\n",
       "      <th>std</th>\n",
       "      <td>8.965932</td>\n",
       "      <td>5.119872</td>\n",
       "      <td>1.703572</td>\n",
       "      <td>45.944423</td>\n",
       "    </tr>\n",
       "    <tr>\n",
       "      <th>min</th>\n",
       "      <td>-31.609576</td>\n",
       "      <td>-26.358598</td>\n",
       "      <td>-0.018144</td>\n",
       "      <td>0.000000</td>\n",
       "    </tr>\n",
       "    <tr>\n",
       "      <th>25%</th>\n",
       "      <td>-6.298551</td>\n",
       "      <td>-8.267985</td>\n",
       "      <td>1.000021</td>\n",
       "      <td>26.953261</td>\n",
       "    </tr>\n",
       "    <tr>\n",
       "      <th>50%</th>\n",
       "      <td>1.153055</td>\n",
       "      <td>-4.813172</td>\n",
       "      <td>2.011479</td>\n",
       "      <td>57.085625</td>\n",
       "    </tr>\n",
       "    <tr>\n",
       "      <th>75%</th>\n",
       "      <td>8.621015</td>\n",
       "      <td>-1.332816</td>\n",
       "      <td>3.999904</td>\n",
       "      <td>107.813044</td>\n",
       "    </tr>\n",
       "    <tr>\n",
       "      <th>max</th>\n",
       "      <td>29.421755</td>\n",
       "      <td>18.734063</td>\n",
       "      <td>5.019721</td>\n",
       "      <td>137.945408</td>\n",
       "    </tr>\n",
       "  </tbody>\n",
       "</table>\n",
       "</div>"
      ],
      "text/plain": [
       "                  f0             f1             f2        product\n",
       "count  100000.000000  100000.000000  100000.000000  100000.000000\n",
       "mean        1.141296      -4.796579       2.494541      68.825000\n",
       "std         8.965932       5.119872       1.703572      45.944423\n",
       "min       -31.609576     -26.358598      -0.018144       0.000000\n",
       "25%        -6.298551      -8.267985       1.000021      26.953261\n",
       "50%         1.153055      -4.813172       2.011479      57.085625\n",
       "75%         8.621015      -1.332816       3.999904     107.813044\n",
       "max        29.421755      18.734063       5.019721     137.945408"
      ]
     },
     "metadata": {},
     "output_type": "display_data"
    },
    {
     "name": "stdout",
     "output_type": "stream",
     "text": [
      "--------------------------------------------\n",
      "Коэффициент корреляции\n"
     ]
    },
    {
     "data": {
      "text/html": [
       "<div>\n",
       "<style scoped>\n",
       "    .dataframe tbody tr th:only-of-type {\n",
       "        vertical-align: middle;\n",
       "    }\n",
       "\n",
       "    .dataframe tbody tr th {\n",
       "        vertical-align: top;\n",
       "    }\n",
       "\n",
       "    .dataframe thead th {\n",
       "        text-align: right;\n",
       "    }\n",
       "</style>\n",
       "<table border=\"1\" class=\"dataframe\">\n",
       "  <thead>\n",
       "    <tr style=\"text-align: right;\">\n",
       "      <th></th>\n",
       "      <th>f0</th>\n",
       "      <th>f1</th>\n",
       "      <th>f2</th>\n",
       "      <th>product</th>\n",
       "    </tr>\n",
       "  </thead>\n",
       "  <tbody>\n",
       "    <tr>\n",
       "      <th>f0</th>\n",
       "      <td>1.000000</td>\n",
       "      <td>0.182287</td>\n",
       "      <td>-0.001777</td>\n",
       "      <td>-0.030491</td>\n",
       "    </tr>\n",
       "    <tr>\n",
       "      <th>f1</th>\n",
       "      <td>0.182287</td>\n",
       "      <td>1.000000</td>\n",
       "      <td>-0.002595</td>\n",
       "      <td>-0.010155</td>\n",
       "    </tr>\n",
       "    <tr>\n",
       "      <th>f2</th>\n",
       "      <td>-0.001777</td>\n",
       "      <td>-0.002595</td>\n",
       "      <td>1.000000</td>\n",
       "      <td>0.999397</td>\n",
       "    </tr>\n",
       "    <tr>\n",
       "      <th>product</th>\n",
       "      <td>-0.030491</td>\n",
       "      <td>-0.010155</td>\n",
       "      <td>0.999397</td>\n",
       "      <td>1.000000</td>\n",
       "    </tr>\n",
       "  </tbody>\n",
       "</table>\n",
       "</div>"
      ],
      "text/plain": [
       "               f0        f1        f2   product\n",
       "f0       1.000000  0.182287 -0.001777 -0.030491\n",
       "f1       0.182287  1.000000 -0.002595 -0.010155\n",
       "f2      -0.001777 -0.002595  1.000000  0.999397\n",
       "product -0.030491 -0.010155  0.999397  1.000000"
      ]
     },
     "metadata": {},
     "output_type": "display_data"
    },
    {
     "name": "stdout",
     "output_type": "stream",
     "text": [
      "--------------------------------------------\n"
     ]
    },
    {
     "data": {
      "image/png": "[encoded data removed]",
      "text/plain": [
       "<Figure size 720x720 with 1 Axes>"
      ]
     },
     "metadata": {
      "needs_background": "light"
     },
     "output_type": "display_data"
    },
    {
     "data": {
      "image/png": "[encoded data removed]",
      "text/plain": [
       "<Figure size 720x720 with 4 Axes>"
      ]
     },
     "metadata": {
      "needs_background": "light"
     },
     "output_type": "display_data"
    }
   ],
   "source": [
    "# смотрим данные\n",
    "description(geo_2)"
   ]
  },
  {
   "cell_type": "markdown",
   "metadata": {},
   "source": [
    "В признаке f1 есть выбросы, отбросим экстримальные значения"
   ]
  },
  {
   "cell_type": "code",
   "execution_count": 8,
   "metadata": {},
   "outputs": [
    {
     "name": "stdout",
     "output_type": "stream",
     "text": [
      "1% квантиль -16.584109073677695\n",
      "99% квантиль 7.139352079223989\n",
      "удалено 2000 строк\n"
     ]
    }
   ],
   "source": [
    "print('1% квантиль', geo_2['f1'].quantile(0.01))\n",
    "print('99% квантиль', geo_2['f1'].quantile(0.99))\n",
    "len_1 = len(geo_2)\n",
    "geo_2 = geo_2[(geo_2['f1'] > geo_2['f1'].quantile(0.01)) & (geo_2['f1'] < geo_2['f1'].quantile(0.99))]\n",
    "print('удалено', len_1 - len(geo_2), 'строк')\n"
   ]
  },
  {
   "cell_type": "markdown",
   "metadata": {},
   "source": [
    "#### Третья база"
   ]
  },
  {
   "cell_type": "code",
   "execution_count": 9,
   "metadata": {},
   "outputs": [
    {
     "name": "stdout",
     "output_type": "stream",
     "text": [
      "--------------------------------------------\n",
      "Инфориация\n",
      "<class 'pandas.core.frame.DataFrame'>\n",
      "RangeIndex: 100000 entries, 0 to 99999\n",
      "Data columns (total 5 columns):\n",
      " #   Column   Non-Null Count   Dtype  \n",
      "---  ------   --------------   -----  \n",
      " 0   id       100000 non-null  object \n",
      " 1   f0       100000 non-null  float64\n",
      " 2   f1       100000 non-null  float64\n",
      " 3   f2       100000 non-null  float64\n",
      " 4   product  100000 non-null  float64\n",
      "dtypes: float64(4), object(1)\n",
      "memory usage: 3.8+ MB\n",
      "--------------------------------------------\n",
      "5 случайных строк\n"
     ]
    },
    {
     "data": {
      "text/html": [
       "<div>\n",
       "<style scoped>\n",
       "    .dataframe tbody tr th:only-of-type {\n",
       "        vertical-align: middle;\n",
       "    }\n",
       "\n",
       "    .dataframe tbody tr th {\n",
       "        vertical-align: top;\n",
       "    }\n",
       "\n",
       "    .dataframe thead th {\n",
       "        text-align: right;\n",
       "    }\n",
       "</style>\n",
       "<table border=\"1\" class=\"dataframe\">\n",
       "  <thead>\n",
       "    <tr style=\"text-align: right;\">\n",
       "      <th></th>\n",
       "      <th>id</th>\n",
       "      <th>f0</th>\n",
       "      <th>f1</th>\n",
       "      <th>f2</th>\n",
       "      <th>product</th>\n",
       "    </tr>\n",
       "  </thead>\n",
       "  <tbody>\n",
       "    <tr>\n",
       "      <th>6857</th>\n",
       "      <td>afKJN</td>\n",
       "      <td>-0.427470</td>\n",
       "      <td>-0.964467</td>\n",
       "      <td>-2.053632</td>\n",
       "      <td>30.542172</td>\n",
       "    </tr>\n",
       "    <tr>\n",
       "      <th>25018</th>\n",
       "      <td>2Srrl</td>\n",
       "      <td>-1.158057</td>\n",
       "      <td>-1.784672</td>\n",
       "      <td>4.842136</td>\n",
       "      <td>158.960514</td>\n",
       "    </tr>\n",
       "    <tr>\n",
       "      <th>74258</th>\n",
       "      <td>P2Q2i</td>\n",
       "      <td>0.386498</td>\n",
       "      <td>0.831373</td>\n",
       "      <td>4.946633</td>\n",
       "      <td>95.202113</td>\n",
       "    </tr>\n",
       "    <tr>\n",
       "      <th>45734</th>\n",
       "      <td>hYzgv</td>\n",
       "      <td>0.198543</td>\n",
       "      <td>-0.080674</td>\n",
       "      <td>6.118996</td>\n",
       "      <td>115.757067</td>\n",
       "    </tr>\n",
       "    <tr>\n",
       "      <th>62223</th>\n",
       "      <td>ENUYU</td>\n",
       "      <td>1.357333</td>\n",
       "      <td>0.965561</td>\n",
       "      <td>-0.388560</td>\n",
       "      <td>80.986873</td>\n",
       "    </tr>\n",
       "  </tbody>\n",
       "</table>\n",
       "</div>"
      ],
      "text/plain": [
       "          id        f0        f1        f2     product\n",
       "6857   afKJN -0.427470 -0.964467 -2.053632   30.542172\n",
       "25018  2Srrl -1.158057 -1.784672  4.842136  158.960514\n",
       "74258  P2Q2i  0.386498  0.831373  4.946633   95.202113\n",
       "45734  hYzgv  0.198543 -0.080674  6.118996  115.757067\n",
       "62223  ENUYU  1.357333  0.965561 -0.388560   80.986873"
      ]
     },
     "metadata": {},
     "output_type": "display_data"
    },
    {
     "name": "stdout",
     "output_type": "stream",
     "text": [
      "--------------------------------------------\n",
      "Описание данных\n"
     ]
    },
    {
     "data": {
      "text/html": [
       "<div>\n",
       "<style scoped>\n",
       "    .dataframe tbody tr th:only-of-type {\n",
       "        vertical-align: middle;\n",
       "    }\n",
       "\n",
       "    .dataframe tbody tr th {\n",
       "        vertical-align: top;\n",
       "    }\n",
       "\n",
       "    .dataframe thead th {\n",
       "        text-align: right;\n",
       "    }\n",
       "</style>\n",
       "<table border=\"1\" class=\"dataframe\">\n",
       "  <thead>\n",
       "    <tr style=\"text-align: right;\">\n",
       "      <th></th>\n",
       "      <th>f0</th>\n",
       "      <th>f1</th>\n",
       "      <th>f2</th>\n",
       "      <th>product</th>\n",
       "    </tr>\n",
       "  </thead>\n",
       "  <tbody>\n",
       "    <tr>\n",
       "      <th>count</th>\n",
       "      <td>100000.000000</td>\n",
       "      <td>100000.000000</td>\n",
       "      <td>100000.000000</td>\n",
       "      <td>100000.000000</td>\n",
       "    </tr>\n",
       "    <tr>\n",
       "      <th>mean</th>\n",
       "      <td>0.002023</td>\n",
       "      <td>-0.002081</td>\n",
       "      <td>2.495128</td>\n",
       "      <td>95.000000</td>\n",
       "    </tr>\n",
       "    <tr>\n",
       "      <th>std</th>\n",
       "      <td>1.732045</td>\n",
       "      <td>1.730417</td>\n",
       "      <td>3.473445</td>\n",
       "      <td>44.749921</td>\n",
       "    </tr>\n",
       "    <tr>\n",
       "      <th>min</th>\n",
       "      <td>-8.760004</td>\n",
       "      <td>-7.084020</td>\n",
       "      <td>-11.970335</td>\n",
       "      <td>0.000000</td>\n",
       "    </tr>\n",
       "    <tr>\n",
       "      <th>25%</th>\n",
       "      <td>-1.162288</td>\n",
       "      <td>-1.174820</td>\n",
       "      <td>0.130359</td>\n",
       "      <td>59.450441</td>\n",
       "    </tr>\n",
       "    <tr>\n",
       "      <th>50%</th>\n",
       "      <td>0.009424</td>\n",
       "      <td>-0.009482</td>\n",
       "      <td>2.484236</td>\n",
       "      <td>94.925613</td>\n",
       "    </tr>\n",
       "    <tr>\n",
       "      <th>75%</th>\n",
       "      <td>1.158535</td>\n",
       "      <td>1.163678</td>\n",
       "      <td>4.858794</td>\n",
       "      <td>130.595027</td>\n",
       "    </tr>\n",
       "    <tr>\n",
       "      <th>max</th>\n",
       "      <td>7.238262</td>\n",
       "      <td>7.844801</td>\n",
       "      <td>16.739402</td>\n",
       "      <td>190.029838</td>\n",
       "    </tr>\n",
       "  </tbody>\n",
       "</table>\n",
       "</div>"
      ],
      "text/plain": [
       "                  f0             f1             f2        product\n",
       "count  100000.000000  100000.000000  100000.000000  100000.000000\n",
       "mean        0.002023      -0.002081       2.495128      95.000000\n",
       "std         1.732045       1.730417       3.473445      44.749921\n",
       "min        -8.760004      -7.084020     -11.970335       0.000000\n",
       "25%        -1.162288      -1.174820       0.130359      59.450441\n",
       "50%         0.009424      -0.009482       2.484236      94.925613\n",
       "75%         1.158535       1.163678       4.858794     130.595027\n",
       "max         7.238262       7.844801      16.739402     190.029838"
      ]
     },
     "metadata": {},
     "output_type": "display_data"
    },
    {
     "name": "stdout",
     "output_type": "stream",
     "text": [
      "--------------------------------------------\n",
      "Коэффициент корреляции\n"
     ]
    },
    {
     "data": {
      "text/html": [
       "<div>\n",
       "<style scoped>\n",
       "    .dataframe tbody tr th:only-of-type {\n",
       "        vertical-align: middle;\n",
       "    }\n",
       "\n",
       "    .dataframe tbody tr th {\n",
       "        vertical-align: top;\n",
       "    }\n",
       "\n",
       "    .dataframe thead th {\n",
       "        text-align: right;\n",
       "    }\n",
       "</style>\n",
       "<table border=\"1\" class=\"dataframe\">\n",
       "  <thead>\n",
       "    <tr style=\"text-align: right;\">\n",
       "      <th></th>\n",
       "      <th>f0</th>\n",
       "      <th>f1</th>\n",
       "      <th>f2</th>\n",
       "      <th>product</th>\n",
       "    </tr>\n",
       "  </thead>\n",
       "  <tbody>\n",
       "    <tr>\n",
       "      <th>f0</th>\n",
       "      <td>1.000000</td>\n",
       "      <td>0.000528</td>\n",
       "      <td>-0.000448</td>\n",
       "      <td>-0.001987</td>\n",
       "    </tr>\n",
       "    <tr>\n",
       "      <th>f1</th>\n",
       "      <td>0.000528</td>\n",
       "      <td>1.000000</td>\n",
       "      <td>0.000779</td>\n",
       "      <td>-0.001012</td>\n",
       "    </tr>\n",
       "    <tr>\n",
       "      <th>f2</th>\n",
       "      <td>-0.000448</td>\n",
       "      <td>0.000779</td>\n",
       "      <td>1.000000</td>\n",
       "      <td>0.445871</td>\n",
       "    </tr>\n",
       "    <tr>\n",
       "      <th>product</th>\n",
       "      <td>-0.001987</td>\n",
       "      <td>-0.001012</td>\n",
       "      <td>0.445871</td>\n",
       "      <td>1.000000</td>\n",
       "    </tr>\n",
       "  </tbody>\n",
       "</table>\n",
       "</div>"
      ],
      "text/plain": [
       "               f0        f1        f2   product\n",
       "f0       1.000000  0.000528 -0.000448 -0.001987\n",
       "f1       0.000528  1.000000  0.000779 -0.001012\n",
       "f2      -0.000448  0.000779  1.000000  0.445871\n",
       "product -0.001987 -0.001012  0.445871  1.000000"
      ]
     },
     "metadata": {},
     "output_type": "display_data"
    },
    {
     "name": "stdout",
     "output_type": "stream",
     "text": [
      "--------------------------------------------\n"
     ]
    },
    {
     "data": {
      "image/png": "[encoded data removed]",
      "text/plain": [
       "<Figure size 720x720 with 1 Axes>"
      ]
     },
     "metadata": {
      "needs_background": "light"
     },
     "output_type": "display_data"
    },
    {
     "data": {
      "image/png": "[encoded data removed]",
      "text/plain": [
       "<Figure size 720x720 with 4 Axes>"
      ]
     },
     "metadata": {
      "needs_background": "light"
     },
     "output_type": "display_data"
    }
   ],
   "source": [
    "# смотрим данные\n",
    "description(geo_3)"
   ]
  },
  {
   "cell_type": "markdown",
   "metadata": {},
   "source": [
    "Три таблицы по 100000 строк, пропусков нет. Таблицы содержат информацию:\n",
    " - id — уникальный идентификатор скважины;\n",
    " - f0, f1, f2 — три признака точек;\n",
    " - product — объём запасов в скважине (тыс. баррелей)."
   ]
  },
  {
   "cell_type": "markdown",
   "metadata": {},
   "source": [
    "В признаках есть выбросы, отбросим экстримальные значения"
   ]
  },
  {
   "cell_type": "code",
   "execution_count": 10,
   "metadata": {},
   "outputs": [
    {
     "name": "stdout",
     "output_type": "stream",
     "text": [
      "1% квантиль f0 -4.021439783588339\n",
      "99% квантиль f0 4.057782812192161\n",
      "---------------------------------------\n",
      "1% квантиль f1 -4.006062829832023\n",
      "99% квантиль f1 4.014018720543447\n",
      "---------------------------------------\n",
      "1% квантиль f2 -5.50866809623379\n",
      "99% квантиль f2 10.495965776351479\n",
      "---------------------------------------\n",
      "удалено 5882 строк\n"
     ]
    }
   ],
   "source": [
    "len_1 = len(geo_3)\n",
    "for i in ['f0', 'f1', 'f2']:\n",
    "    q1 = geo_3[i].quantile(0.01)\n",
    "    q2 = geo_3[i].quantile(0.99)\n",
    "    print('1% квантиль', i, q1)\n",
    "    print('99% квантиль', i, q2)\n",
    "    print('---------------------------------------')\n",
    "    geo_3 = geo_3[(geo_3[i] > geo_3[i].quantile(0.01)) & (geo_3[i] < geo_3[i].quantile(0.99))]\n",
    "\n",
    "print('удалено', len_1 - len(geo_3), 'строк')"
   ]
  },
  {
   "cell_type": "markdown",
   "metadata": {},
   "source": [
    "Т к в столбце 'id' используются заглавные буквы, посмотри нет ли дубликатов."
   ]
  },
  {
   "cell_type": "code",
   "execution_count": 11,
   "metadata": {},
   "outputs": [
    {
     "name": "stdout",
     "output_type": "stream",
     "text": [
      "дубликатов 0\n",
      "rsutw    2\n",
      "stkqq    2\n",
      "hnjbu    2\n",
      "zogg5    2\n",
      "qw6lh    2\n",
      "        ..\n",
      "ocoua    1\n",
      "sjkc8    1\n",
      "n8mr5    1\n",
      "hpkod    1\n",
      "1cwhh    1\n",
      "Name: id, Length: 97893, dtype: int64\n",
      "-------------------------------\n",
      "дубликатов 0\n",
      "ixqfp    2\n",
      "0vyhp    2\n",
      "xmyqp    2\n",
      "ionyl    2\n",
      "uptna    2\n",
      "        ..\n",
      "wztrl    1\n",
      "hjq3a    1\n",
      "7usup    1\n",
      "tqk0w    1\n",
      "relb0    1\n",
      "Name: id, Length: 97890, dtype: int64\n",
      "-------------------------------\n",
      "дубликатов 0\n",
      "iyyyk    2\n",
      "20w2a    2\n",
      "h84jl    2\n",
      "x12al    2\n",
      "ifogf    2\n",
      "        ..\n",
      "j4qbk    1\n",
      "kmlmi    1\n",
      "lxcff    1\n",
      "8wckz    1\n",
      "v9kwn    1\n",
      "Name: id, Length: 94032, dtype: int64\n",
      "-------------------------------\n"
     ]
    }
   ],
   "source": [
    "# соединим таблицы, понизим регистр и проверим количество дубликатов\n",
    "for i in [geo_1, geo_2, geo_3]:\n",
    "    i['id'] = i['id'].str.lower()\n",
    "    print('дубликатов', i.duplicated().sum())\n",
    "    print(i['id'].value_counts())\n",
    "    print('-------------------------------')"
   ]
  },
  {
   "cell_type": "markdown",
   "metadata": {},
   "source": [
    "Неявные дубликаты есть, удалим их."
   ]
  },
  {
   "cell_type": "code",
   "execution_count": 12,
   "metadata": {},
   "outputs": [
    {
     "name": "stdout",
     "output_type": "stream",
     "text": [
      "В таблице удалено 107 дубликатов\n",
      "В таблице удалено 110 дубликатов\n",
      "В таблице удалено 86 дубликатов\n"
     ]
    }
   ],
   "source": [
    "for i in [geo_1, geo_2, geo_3]:\n",
    "    len_befor = len(i)\n",
    "    i['id'] = i['id'].drop_duplicates()\n",
    "    i = i.dropna().reset_index(drop=True)\n",
    "    len_after = len(i)\n",
    "    print('В таблице', 'удалено', len_befor - len_after, 'дубликатов')"
   ]
  },
  {
   "cell_type": "markdown",
   "metadata": {},
   "source": [
    "Неявные дубликаты удалены, их количесво составляет около 1%."
   ]
  },
  {
   "cell_type": "markdown",
   "metadata": {},
   "source": [
    "**Выводы**\n",
    "\n",
    "- в данных нет пропусков\n",
    "- дубликатов удалены\n",
    "- признаки распределены в большенстве случаев нормально, за исключением f2 во второй таблице - там признак ведет себя похоже на целевой признак и корреляция между ними почти линейная\n",
    "- в данных наблюдались выбросы, мы их исключили\n",
    "- данные подготовлены для анализа"
   ]
  },
  {
   "cell_type": "markdown",
   "metadata": {},
   "source": [
    "## Обучение и проверка модели"
   ]
  },
  {
   "cell_type": "markdown",
   "metadata": {},
   "source": [
    "**Что необходимо сделать на этом этапе:**\n",
    "\n",
    "- [x] выделить признаки и целевой признак для каждого региона\n",
    "- [x] подготовить признаки для модели\n",
    "- [x] разбить данные на две тренировочную и валидационную выборки\n",
    "- [x] обучить модели\n",
    "- [x] проверить модели на адекватность\n",
    "- [x] вывести на экран средний запас предсказанного сырья и RMSE модели\n",
    "- [x] написать выводы\n"
   ]
  },
  {
   "cell_type": "markdown",
   "metadata": {},
   "source": [
    "Используем StandardScaler для преобразования признаков, т к по гистаграммам их распределение похоже на нормальное в большенстве случаев."
   ]
  },
  {
   "cell_type": "markdown",
   "metadata": {},
   "source": [
    "<div class=\"alert alert-block alert-info\">\n",
    "<b>Комментарий студента:</b> пробовал SGDRegressor и GridSearchCV, результат совпадает\n",
    "</div>\n",
    "\n",
    "```python\n",
    "from sklearn.linear_model import SGDRegressor\n",
    "\n",
    "linear_regression_model = SGDRegressor(tol=.0001, eta0=.01) \n",
    "linear_regression_model.fit(features_geo_1_train, target_geo_1_train)\n",
    "predictions_1 = linear_regression_model.predict(features_geo_1_valid)\n",
    "mse_1 = mean_squared_error(target_geo_1_valid, prediction_1)\n",
    "print('MRSE =', round(mse_1 ** 0.5, 2))\n",
    "\n",
    "Средний запас предсказанного сырья = 92.64\n",
    "MRSE модели = 37.79\n",
    "\n",
    "from sklearn.model_selection import GridSearchCV\n",
    "\n",
    "model_gs = LinearRegression()\n",
    "parameters = {'fit_intercept':[True,False], 'normalize':[True,False], 'copy_X':[True, False]}\n",
    "grid = GridSearchCV(model_gs, parameters, cv=None)\n",
    "grid.fit(features_geo_1_train, target_geo_1_train)\n",
    "prediction_gs = grid.predict(features_geo_1_valid)\n",
    "mse_gs = mean_squared_error(target_geo_1_valid, prediction_gs)\n",
    "print('Средний запас предсказанного сырья =', round(prediction_gs.mean(), 2))\n",
    "print('MRSE модели =', round(mse_gs ** 0.5, 2))\n",
    "\n",
    "Средний запас предсказанного сырья = 92.64\n",
    "MRSE модели = 37.79\n",
    "```\n"
   ]
  },
  {
   "cell_type": "markdown",
   "metadata": {},
   "source": [
    "## Функция для моделей по всем регонам"
   ]
  },
  {
   "cell_type": "code",
   "execution_count": 13,
   "metadata": {},
   "outputs": [
    {
     "name": "stdout",
     "output_type": "stream",
     "text": [
      "----------------------------------------------------\n",
      "начальный размер (98000, 5)\n",
      "размер тренировочной выборки (75%) (73500, 3)\n",
      "размер валидационной выборки (25%) (24500, 3)\n",
      "Средний запас предсказанного сырья = 92.51\n",
      "RMSE модели = 37.94\n",
      "проверка на адекватность на константной модели\n",
      "RMSE: 102.44071553761657\n",
      "Средний запас предсказанного сырья во вём регионе = 92.42\n",
      "RMSE модели = 37.85\n",
      "----------------------------------------------------\n",
      "начальный размер (98000, 5)\n",
      "размер тренировочной выборки (75%) (73500, 3)\n",
      "размер валидационной выборки (25%) (24500, 3)\n",
      "Средний запас предсказанного сырья = 69.12\n",
      "RMSE модели = 0.89\n",
      "проверка на адекватность на константной модели\n",
      "RMSE: 82.73866455569912\n",
      "Средний запас предсказанного сырья во вём регионе = 68.7\n",
      "RMSE модели = 0.9\n",
      "----------------------------------------------------\n",
      "начальный размер (94118, 5)\n",
      "размер тренировочной выборки (75%) (70588, 3)\n",
      "размер валидационной выборки (25%) (23530, 3)\n",
      "Средний запас предсказанного сырья = 94.42\n",
      "RMSE модели = 40.24\n",
      "проверка на адекватность на константной модели\n",
      "RMSE: 104.37858807656764\n",
      "Средний запас предсказанного сырья во вём регионе = 94.54\n",
      "RMSE модели = 40.21\n"
     ]
    }
   ],
   "source": [
    "def model(df):\n",
    "    features = df.drop(['id','product'], axis=1) \n",
    "    target = df['product']\n",
    "\n",
    "    features_train, features_valid, target_train, target_valid = train_test_split(features, target, test_size=.25, random_state=125)\n",
    "    # проверка\n",
    "    print('----------------------------------------------------')\n",
    "    print('начальный размер', df.shape)\n",
    "    print('размер тренировочной выборки (75%)', features_train.shape)\n",
    "    print('размер валидационной выборки (25%)', features_valid.shape)\n",
    "\n",
    "    # создадим объект структуры StandardScaler\n",
    "    scaler = StandardScaler()\n",
    "    # обучаем\n",
    "    scaler.fit(features_train)\n",
    "    # преобразуем выборки\n",
    "    features_train = scaler.transform(features_train)\n",
    "    features_valid = scaler.transform(features_valid)\n",
    "\n",
    "    model = LinearRegression()\n",
    "    model.fit(features_train, target_train)\n",
    "    prediction = model.predict(features_valid)\n",
    "    mse = mean_squared_error(target_valid, prediction)\n",
    "    print('Средний запас предсказанного сырья =', round(prediction.mean(), 2))\n",
    "    print('RMSE модели =', round(mse ** 0.5, 2))\n",
    "    print('проверка на адекватность на константной модели')\n",
    "\n",
    "    predictions = pd.Series(features_train.mean(), index=target.index)\n",
    "    mse = mean_squared_error(target, predictions)\n",
    "    rmse = mse ** 0.5\n",
    "    print(\"RMSE:\", rmse)\n",
    "\n",
    "    # обучаем и трансформируем признаки\n",
    "    features = scaler.fit_transform(features)\n",
    "    prediction = model.predict(features)\n",
    "    mse = mean_squared_error(target, prediction)\n",
    "    print('Средний запас предсказанного сырья во вём регионе =', round(prediction.mean(), 2))\n",
    "    print('RMSE модели =', round(mse ** 0.5, 2))\n",
    "    df['prediction'] = prediction\n",
    "    \n",
    "model(geo_1)\n",
    "model(geo_2)\n",
    "model(geo_3)"
   ]
  },
  {
   "cell_type": "code",
   "execution_count": 14,
   "metadata": {},
   "outputs": [
    {
     "data": {
      "text/html": [
       "<div>\n",
       "<style scoped>\n",
       "    .dataframe tbody tr th:only-of-type {\n",
       "        vertical-align: middle;\n",
       "    }\n",
       "\n",
       "    .dataframe tbody tr th {\n",
       "        vertical-align: top;\n",
       "    }\n",
       "\n",
       "    .dataframe thead th {\n",
       "        text-align: right;\n",
       "    }\n",
       "</style>\n",
       "<table border=\"1\" class=\"dataframe\">\n",
       "  <thead>\n",
       "    <tr style=\"text-align: right;\">\n",
       "      <th></th>\n",
       "      <th>average_predicted</th>\n",
       "      <th>RMSE</th>\n",
       "    </tr>\n",
       "    <tr>\n",
       "      <th>region</th>\n",
       "      <th></th>\n",
       "      <th></th>\n",
       "    </tr>\n",
       "  </thead>\n",
       "  <tbody>\n",
       "    <tr>\n",
       "      <th>Регион 1</th>\n",
       "      <td>92.42</td>\n",
       "      <td>37.85</td>\n",
       "    </tr>\n",
       "    <tr>\n",
       "      <th>Регион 2</th>\n",
       "      <td>68.70</td>\n",
       "      <td>0.90</td>\n",
       "    </tr>\n",
       "    <tr>\n",
       "      <th>Регион 3</th>\n",
       "      <td>94.54</td>\n",
       "      <td>40.21</td>\n",
       "    </tr>\n",
       "  </tbody>\n",
       "</table>\n",
       "</div>"
      ],
      "text/plain": [
       "          average_predicted   RMSE\n",
       "region                            \n",
       "Регион 1              92.42  37.85\n",
       "Регион 2              68.70   0.90\n",
       "Регион 3              94.54  40.21"
      ]
     },
     "metadata": {},
     "output_type": "display_data"
    },
    {
     "data": {
      "image/png": "[encoded data removed]",
      "text/plain": [
       "<Figure size 1008x432 with 2 Axes>"
      ]
     },
     "metadata": {},
     "output_type": "display_data"
    }
   ],
   "source": [
    "# делаем таблицу для графиков\n",
    "reserve = {'region' : ['Регион 1', 'Регион 2','Регион 3'],\n",
    "           'average_predicted' : [geo_1['prediction'].mean(), geo_2['prediction'].mean(), geo_3['prediction'].mean()],\n",
    "           'RMSE' : [37.85, 0.9, 40.21]\n",
    "           }\n",
    "reserve = pd.DataFrame(reserve).set_index('region')\n",
    "display(round(reserve, 2))\n",
    "# строим графики\n",
    "sb.set_theme(style='darkgrid')\n",
    "fig, ax = plt.subplots(1, 2, figsize=(14, 6))\n",
    "for i, ax in zip(reserve.columns, ax):\n",
    "    sb.barplot(data=reserve, x=reserve.index, y=reserve[i], ax=ax);\n",
    "    ax.set(xlabel=' ')\n",
    "fig.suptitle('Средний запас предсказанного сырья и RMSE');"
   ]
  },
  {
   "cell_type": "markdown",
   "metadata": {},
   "source": [
    "**Вывод**\n",
    "\n",
    "Средний запас предсказанного сырья и RMSE по регионам (тыс. баррелей):\n",
    "\n",
    "   - первый регион 92.42, RMSE 37.85 \n",
    "   - второй регион 68.70,  RMSE 0.9 \n",
    "   - третий регион 94.54,  RMSE 40.21\n",
    "    \n",
    "Предсказанные запасы в первом и третьем регоне примерно на четверть выше, чем во втором. Вторая модели предсказывает значения заметно точнее.\n",
    "  \n",
    "Все модели прошли проверку на адекватность"
   ]
  },
  {
   "cell_type": "markdown",
   "metadata": {},
   "source": [
    "## Подготовка к расчёту прибыли"
   ]
  },
  {
   "cell_type": "code",
   "execution_count": 15,
   "metadata": {},
   "outputs": [
    {
     "name": "stdout",
     "output_type": "stream",
     "text": [
      "Достаточный объём сырья для безубыточной разработки новой скважины = 111.11 (тыс.баррелей)\n",
      "Средний объем запасов одной скважины в Регион 1 меньше на 18.69 (тыс.баррелей)\n",
      "Средний объем запасов одной скважины в Регион 2 меньше на 42.41 (тыс.баррелей)\n",
      "Средний объем запасов одной скважины в Регион 3 меньше на 16.57 (тыс.баррелей)\n"
     ]
    }
   ],
   "source": [
    "# посчитаем средний обём нефти в скавжине, исходя из бюджета и 200 точек\n",
    "break_even = (REGION_BUDGET / INCOME_ONE_UNIT) / MODEL_RESEARCH\n",
    "print('Достаточный объём сырья для безубыточной разработки новой скважины =', round(break_even, 2), '(тыс.баррелей)')\n",
    "# считаем разницу объёмов для безубыточности по региону\n",
    "for i, j in zip(reserve['average_predicted'], reserve.index):\n",
    "    if break_even < i:\n",
    "        print('Средний объем запасов одной скважины в', j, 'больше на',\\\n",
    "              round(i - break_even, 2), '(тыс.баррелей)')\n",
    "    else:\n",
    "        print('Средний объем запасов одной скважины в', j, 'меньше на',\\\n",
    "              round(break_even - i, 2), '(тыс.баррелей)')"
   ]
  },
  {
   "cell_type": "markdown",
   "metadata": {},
   "source": [
    "Средние запасы в регоне ниже, чем достаточный объём сырья для безубыточной разработки новой скважины. Этот происходит в следствии того, что у всех регионов есть скважены с низким объемом запасов. Далее рассмотрим 200 свкажин с наибольшими предсказаниями запасов и проверим долтаточный объём в них."
   ]
  },
  {
   "cell_type": "code",
   "execution_count": 16,
   "metadata": {},
   "outputs": [
    {
     "name": "stdout",
     "output_type": "stream",
     "text": [
      "Средний объем запасов одной скважины в Регион 1 больше на 41.65 (тыс.баррелей)\n",
      "Средний объем запасов одной скважины в Регион 2 больше на 27.99 (тыс.баррелей)\n",
      "Средний объем запасов одной скважины в Регион 3 больше на 29.91 (тыс.баррелей)\n"
     ]
    }
   ],
   "source": [
    "# считаем разницу объёмов для лучших 200 скважин в каждом регионе\n",
    "for i, j in zip([geo_1, geo_2, geo_3], reserve.index):\n",
    "    i = i.sort_values(by='prediction', ascending=False).head(MODEL_RESEARCH)\n",
    "    if break_even < i['prediction'].mean():\n",
    "        print('Средний объем запасов одной скважины в', j, 'больше на',\\\n",
    "              round(i['prediction'].mean() - break_even, 2), '(тыс.баррелей)')\n",
    "    else:\n",
    "        print('Средний объем запасов одной скважины в', j, 'меньше на',\\\n",
    "              round(break_even - i['prediction'].mean(), 2), '(тыс.баррелей)')"
   ]
  },
  {
   "cell_type": "markdown",
   "metadata": {},
   "source": [
    "**Вывод**\n",
    "\n",
    "Во всех регионах есть по 200 точек, для безубыточной добычи. Лидирует **первый** регион:\n",
    "\n",
    "- **Средний объем запасов одной скважины в Регион 1 больше на 52.38 (тыс.баррелей)**\n",
    "- Средний объем запасов одной скважины в Регион 2 больше на 28.11 (тыс.баррелей)\n",
    "- Средний объем запасов одной скважины в Регион 3 больше на 45.61 (тыс.баррелей)"
   ]
  },
  {
   "cell_type": "markdown",
   "metadata": {},
   "source": [
    "## Расчёт прибыли и рисков "
   ]
  },
  {
   "cell_type": "code",
   "execution_count": 17,
   "metadata": {},
   "outputs": [],
   "source": [
    "# функция подсчёта прибыли для региона\n",
    "def calculation_profit(df):\n",
    "    summ = df.head(MODEL_RESEARCH)\n",
    "    profit = sum(summ) * INCOME_ONE_UNIT - REGION_BUDGET\n",
    "    return profit"
   ]
  },
  {
   "cell_type": "code",
   "execution_count": 29,
   "metadata": {
    "scrolled": true
   },
   "outputs": [
    {
     "name": "stderr",
     "output_type": "stream",
     "text": [
      " 33%|███████████████                              | 1/3 [00:00<00:01,  1.11it/s]"
     ]
    },
    {
     "name": "stdout",
     "output_type": "stream",
     "text": [
      "Средняя выручка: 388200343\n",
      "95% доверительный интервал от -119340632 до 914257614\n",
      "уровень риска 6.9 %\n"
     ]
    },
    {
     "name": "stderr",
     "output_type": "stream",
     "text": [
      " 67%|██████████████████████████████               | 2/3 [00:01<00:00,  1.08it/s]"
     ]
    },
    {
     "name": "stdout",
     "output_type": "stream",
     "text": [
      "Средняя выручка: 457288604\n",
      "95% доверительный интервал от 68073957 до 859442434\n",
      "уровень риска 1.0 %\n"
     ]
    },
    {
     "name": "stderr",
     "output_type": "stream",
     "text": [
      "100%|█████████████████████████████████████████████| 3/3 [00:02<00:00,  1.06it/s]"
     ]
    },
    {
     "name": "stdout",
     "output_type": "stream",
     "text": [
      "Средняя выручка: 261761340\n",
      "95% доверительный интервал от -305698194 до 769908024\n",
      "уровень риска 16.3 %\n"
     ]
    },
    {
     "name": "stderr",
     "output_type": "stream",
     "text": [
      "\n"
     ]
    }
   ],
   "source": [
    "# создаём объект RandomState для формирования выборок\n",
    "STATE = np.random.RandomState(125)\n",
    "# считаем среднюю выручку, интервал и процент риска для каждого региона\n",
    "for j in tqdm([geo_1, geo_2, geo_3]):\n",
    "    values = []\n",
    "    loss =  0\n",
    "    # Bootstrap\n",
    "    for i in range(1000):\n",
    "        # выбираем 500 строчек из таблицы\n",
    "        target_sample = j['product'].sample(n=QUANTITY_RESEARCH, replace=True, random_state=STATE)\n",
    "        # выбираем соответствующие 500 запасов сырья\n",
    "        prediction_sample = j['prediction'].loc[target_sample.index].sort_values(ascending=False)\n",
    "        # считаем доход\n",
    "        profit = calculation_profit(target_sample[prediction_sample.index])\n",
    "        values.append(profit)\n",
    "        # ситаем случаи убытков\n",
    "        if profit < 0:\n",
    "            loss += 1\n",
    "    # вывод значений\n",
    "    values = pd.Series(values)\n",
    "    mean = int(values.mean())\n",
    "    print(\"Средняя выручка:\", mean)\n",
    "    lower = int(values.quantile(0.025))\n",
    "    upper = int(values.quantile(0.975))\n",
    "    print('95% доверительный интервал от', lower, 'до', upper)\n",
    "    print('уровень риска', round(loss / 1000 * 100, 3), '%')"
   ]
  },
  {
   "cell_type": "markdown",
   "metadata": {},
   "source": [
    "# Вывод"
   ]
  },
  {
   "cell_type": "markdown",
   "metadata": {},
   "source": [
    "В ходе исследования были созданы 3 модели, по одной для каждого региона. Модели прошли проверку на адекватность и предсказали данные объёмов по все трё регионам. В точности лидирует модель по второму региону, её погрешность предсказания составила 0, 89 тыс. барелей.\n",
    "\n",
    "Средний запас предсказанного сырья и RMSE по регионам (тыс. баррелей):\n",
    "\n",
    "- Первый регион 92.42\n",
    "- Второй регион 68.70\n",
    "- Третий регион 94.54\n",
    "\n",
    "Во всех регионах есть по 200 точек, для безубыточной добычи. По средему объёму запасов одной скважины лидирует **первый** регион:\n",
    "\n",
    "\n",
    "Я рекомендую **второй** регион, т к в нем cредняя выручка 457 288 604 руб., 95% доверительный интервал от 68 073 957 до 859 442 434, уровень риска 1.0 %, что ниже минимального прога риска. Остальные регионы менее прибыльны и более рискованные."
   ]
  },
  {
   "cell_type": "markdown",
   "metadata": {},
   "source": [
    "## Чек-лист готовности проекта"
   ]
  },
  {
   "cell_type": "markdown",
   "metadata": {},
   "source": [
    "Поставьте 'x' в выполненных пунктах. Далее нажмите Shift+Enter."
   ]
  },
  {
   "cell_type": "markdown",
   "metadata": {},
   "source": [
    "- [x]  Jupyter Notebook открыт\n",
    "- [x]  Весь код выполняется без ошибок\n",
    "- [x]  Ячейки с кодом расположены в порядке исполнения\n",
    "- [x]  Выполнен шаг 1: данные подготовлены\n",
    "- [x]  Выполнен шаг 2: модели обучены и проверены\n",
    "    - [x]  Данные корректно разбиты на обучающую и валидационную выборки\n",
    "    - [x]  Модели обучены, предсказания сделаны\n",
    "    - [x]  Предсказания и правильные ответы на валидационной выборке сохранены\n",
    "    - [x]  На экране напечатаны результаты\n",
    "    - [x]  Сделаны выводы\n",
    "- [x]  Выполнен шаг 3: проведена подготовка к расчёту прибыли\n",
    "    - [x]  Для всех ключевых значений созданы константы Python\n",
    "    - [x]  Посчитано минимальное среднее количество продукта в месторождениях региона, достаточное для разработки\n",
    "    - [x]  По предыдущему пункту сделаны выводы\n",
    "    - [x]  Написана функция расчёта прибыли\n",
    "- [x]  Выполнен шаг 4: посчитаны риски и прибыль\n",
    "    - [x]  Проведена процедура *Bootstrap*\n",
    "    - [x]  Все параметры бутстрепа соответствуют условию\n",
    "    - [x]  Найдены все нужные величины\n",
    "    - [x]  Предложен регион для разработки месторождения\n",
    "    - [x]  Выбор региона обоснован"
   ]
  }
 ],
 "metadata": {
  "ExecuteTimeLog": [
   {
    "duration": 310479,
    "start_time": "2022-08-02T14:48:58.596Z"
   },
   {
    "duration": 1470,
    "start_time": "2022-08-02T14:54:09.077Z"
   },
   {
    "duration": 1355,
    "start_time": "2022-08-02T14:54:41.377Z"
   },
   {
    "duration": 1789,
    "start_time": "2022-08-02T14:54:42.734Z"
   },
   {
    "duration": 4,
    "start_time": "2022-08-02T14:54:44.525Z"
   },
   {
    "duration": 784,
    "start_time": "2022-08-02T14:54:44.531Z"
   },
   {
    "duration": 1369,
    "start_time": "2022-08-02T14:54:45.316Z"
   },
   {
    "duration": 1023,
    "start_time": "2022-08-02T14:54:46.687Z"
   },
   {
    "duration": 235,
    "start_time": "2022-08-02T14:54:47.711Z"
   },
   {
    "duration": 15,
    "start_time": "2022-08-02T14:54:47.951Z"
   },
   {
    "duration": 14,
    "start_time": "2022-08-02T14:54:47.968Z"
   },
   {
    "duration": 69,
    "start_time": "2022-08-02T14:54:47.984Z"
   },
   {
    "duration": 114,
    "start_time": "2022-08-02T14:54:48.054Z"
   },
   {
    "duration": 19,
    "start_time": "2022-08-02T14:54:48.170Z"
   },
   {
    "duration": 175,
    "start_time": "2022-08-02T14:54:48.191Z"
   },
   {
    "duration": 11,
    "start_time": "2022-08-02T14:54:48.368Z"
   },
   {
    "duration": 11,
    "start_time": "2022-08-02T14:54:48.381Z"
   },
   {
    "duration": 82,
    "start_time": "2022-08-02T14:54:48.393Z"
   },
   {
    "duration": 30,
    "start_time": "2022-08-02T14:54:48.557Z"
   },
   {
    "duration": 180,
    "start_time": "2022-08-02T14:54:48.589Z"
   },
   {
    "duration": 10,
    "start_time": "2022-08-02T14:54:48.771Z"
   },
   {
    "duration": 14,
    "start_time": "2022-08-02T14:54:48.783Z"
   },
   {
    "duration": 157,
    "start_time": "2022-08-02T14:54:48.799Z"
   },
   {
    "duration": 20,
    "start_time": "2022-08-02T14:54:48.958Z"
   },
   {
    "duration": 412,
    "start_time": "2022-08-02T14:54:48.980Z"
   },
   {
    "duration": 5,
    "start_time": "2022-08-02T14:54:49.394Z"
   },
   {
    "duration": 7,
    "start_time": "2022-08-02T14:54:49.400Z"
   },
   {
    "duration": 94,
    "start_time": "2022-08-02T14:54:49.409Z"
   },
   {
    "duration": 4,
    "start_time": "2022-08-02T14:54:49.505Z"
   },
   {
    "duration": 158,
    "start_time": "2022-08-02T14:54:49.511Z"
   },
   {
    "duration": 2258,
    "start_time": "2022-08-02T14:54:49.671Z"
   },
   {
    "duration": 4,
    "start_time": "2022-08-02T14:57:52.540Z"
   },
   {
    "duration": 4,
    "start_time": "2022-08-02T14:58:18.563Z"
   },
   {
    "duration": 3,
    "start_time": "2022-08-02T14:58:24.092Z"
   },
   {
    "duration": 342,
    "start_time": "2022-08-02T14:58:26.499Z"
   },
   {
    "duration": 4,
    "start_time": "2022-08-02T14:58:28.003Z"
   },
   {
    "duration": 4,
    "start_time": "2022-08-02T14:58:50.640Z"
   },
   {
    "duration": 4,
    "start_time": "2022-08-02T14:59:54.283Z"
   },
   {
    "duration": 127,
    "start_time": "2022-08-02T15:00:29.137Z"
   },
   {
    "duration": 130,
    "start_time": "2022-08-02T15:02:03.633Z"
   },
   {
    "duration": 894,
    "start_time": "2022-08-02T15:02:08.265Z"
   },
   {
    "duration": 751,
    "start_time": "2022-08-02T15:02:11.394Z"
   },
   {
    "duration": 125,
    "start_time": "2022-08-02T15:04:06.351Z"
   },
   {
    "duration": 77,
    "start_time": "2022-08-02T15:07:23.263Z"
   },
   {
    "duration": 79,
    "start_time": "2022-08-02T15:08:06.788Z"
   },
   {
    "duration": 1381,
    "start_time": "2022-08-02T15:14:02.430Z"
   },
   {
    "duration": 120,
    "start_time": "2022-08-02T15:14:10.029Z"
   },
   {
    "duration": 661,
    "start_time": "2022-08-02T15:14:13.968Z"
   },
   {
    "duration": 102,
    "start_time": "2022-08-02T15:14:59.929Z"
   },
   {
    "duration": 122,
    "start_time": "2022-08-02T15:15:14.467Z"
   },
   {
    "duration": 707,
    "start_time": "2022-08-02T15:15:17.735Z"
   },
   {
    "duration": 8,
    "start_time": "2022-08-02T15:15:18.707Z"
   },
   {
    "duration": 8,
    "start_time": "2022-08-02T15:15:19.930Z"
   },
   {
    "duration": 74,
    "start_time": "2022-08-02T15:18:12.328Z"
   },
   {
    "duration": 1326,
    "start_time": "2022-08-02T15:18:45.676Z"
   },
   {
    "duration": 75,
    "start_time": "2022-08-02T15:18:51.026Z"
   },
   {
    "duration": 338,
    "start_time": "2022-08-02T15:19:11.649Z"
   },
   {
    "duration": 672,
    "start_time": "2022-08-02T15:19:15.010Z"
   },
   {
    "duration": 714,
    "start_time": "2022-08-02T15:19:16.528Z"
   },
   {
    "duration": 634,
    "start_time": "2022-08-02T15:19:17.918Z"
   },
   {
    "duration": 463,
    "start_time": "2022-08-02T15:31:29.254Z"
   },
   {
    "duration": 538,
    "start_time": "2022-08-02T15:31:38.273Z"
   },
   {
    "duration": 496,
    "start_time": "2022-08-02T15:32:01.119Z"
   },
   {
    "duration": 96,
    "start_time": "2022-08-02T15:36:36.594Z"
   },
   {
    "duration": 3,
    "start_time": "2022-08-02T15:36:41.787Z"
   },
   {
    "duration": 369,
    "start_time": "2022-08-02T15:36:41.792Z"
   },
   {
    "duration": 316,
    "start_time": "2022-08-02T15:36:42.163Z"
   },
   {
    "duration": 680,
    "start_time": "2022-08-02T15:36:42.481Z"
   },
   {
    "duration": 811,
    "start_time": "2022-08-02T15:36:43.164Z"
   },
   {
    "duration": 694,
    "start_time": "2022-08-02T15:36:43.976Z"
   },
   {
    "duration": 593,
    "start_time": "2022-08-02T15:36:44.672Z"
   },
   {
    "duration": 15,
    "start_time": "2022-08-02T15:36:45.266Z"
   },
   {
    "duration": 11,
    "start_time": "2022-08-02T15:36:45.282Z"
   },
   {
    "duration": 57,
    "start_time": "2022-08-02T15:36:45.295Z"
   },
   {
    "duration": 24,
    "start_time": "2022-08-02T15:37:41.188Z"
   },
   {
    "duration": 6,
    "start_time": "2022-08-02T15:38:20.537Z"
   },
   {
    "duration": 3,
    "start_time": "2022-08-02T15:40:03.470Z"
   },
   {
    "duration": 354,
    "start_time": "2022-08-02T15:40:03.475Z"
   },
   {
    "duration": 290,
    "start_time": "2022-08-02T15:40:03.831Z"
   },
   {
    "duration": 795,
    "start_time": "2022-08-02T15:40:04.123Z"
   },
   {
    "duration": 656,
    "start_time": "2022-08-02T15:40:04.921Z"
   },
   {
    "duration": 684,
    "start_time": "2022-08-02T15:40:05.578Z"
   },
   {
    "duration": 507,
    "start_time": "2022-08-02T15:40:06.263Z"
   },
   {
    "duration": 13,
    "start_time": "2022-08-02T15:40:06.771Z"
   },
   {
    "duration": 10,
    "start_time": "2022-08-02T15:40:06.785Z"
   },
   {
    "duration": 58,
    "start_time": "2022-08-02T15:40:06.796Z"
   },
   {
    "duration": 99,
    "start_time": "2022-08-02T15:40:06.857Z"
   },
   {
    "duration": 14,
    "start_time": "2022-08-02T15:40:06.957Z"
   },
   {
    "duration": 185,
    "start_time": "2022-08-02T15:40:06.973Z"
   },
   {
    "duration": 10,
    "start_time": "2022-08-02T15:40:07.159Z"
   },
   {
    "duration": 9,
    "start_time": "2022-08-02T15:40:07.170Z"
   },
   {
    "duration": 82,
    "start_time": "2022-08-02T15:40:07.181Z"
   },
   {
    "duration": 104,
    "start_time": "2022-08-02T15:40:07.265Z"
   },
   {
    "duration": 183,
    "start_time": "2022-08-02T15:40:07.370Z"
   },
   {
    "duration": 9,
    "start_time": "2022-08-02T15:40:07.555Z"
   },
   {
    "duration": 20,
    "start_time": "2022-08-02T15:40:07.566Z"
   },
   {
    "duration": 175,
    "start_time": "2022-08-02T15:40:07.588Z"
   },
   {
    "duration": 19,
    "start_time": "2022-08-02T15:40:07.764Z"
   },
   {
    "duration": 386,
    "start_time": "2022-08-02T15:40:07.785Z"
   },
   {
    "duration": 217,
    "start_time": "2022-08-02T15:40:15.077Z"
   },
   {
    "duration": 5,
    "start_time": "2022-08-02T15:40:17.000Z"
   },
   {
    "duration": 3,
    "start_time": "2022-08-02T15:42:53.739Z"
   },
   {
    "duration": 368,
    "start_time": "2022-08-02T15:42:53.744Z"
   },
   {
    "duration": 324,
    "start_time": "2022-08-02T15:42:54.114Z"
   },
   {
    "duration": 931,
    "start_time": "2022-08-02T15:42:54.440Z"
   },
   {
    "duration": 893,
    "start_time": "2022-08-02T15:42:55.372Z"
   },
   {
    "duration": 807,
    "start_time": "2022-08-02T15:42:56.266Z"
   },
   {
    "duration": 502,
    "start_time": "2022-08-02T15:42:57.075Z"
   },
   {
    "duration": 13,
    "start_time": "2022-08-02T15:42:57.578Z"
   },
   {
    "duration": 11,
    "start_time": "2022-08-02T15:42:57.593Z"
   },
   {
    "duration": 50,
    "start_time": "2022-08-02T15:42:57.605Z"
   },
   {
    "duration": 96,
    "start_time": "2022-08-02T15:42:57.656Z"
   },
   {
    "duration": 19,
    "start_time": "2022-08-02T15:42:57.754Z"
   },
   {
    "duration": 99,
    "start_time": "2022-08-02T15:42:57.854Z"
   },
   {
    "duration": 11,
    "start_time": "2022-08-02T15:42:57.955Z"
   },
   {
    "duration": 11,
    "start_time": "2022-08-02T15:42:57.968Z"
   },
   {
    "duration": 6,
    "start_time": "2022-08-02T15:42:58.054Z"
   },
   {
    "duration": 108,
    "start_time": "2022-08-02T15:42:58.062Z"
   },
   {
    "duration": 89,
    "start_time": "2022-08-02T15:42:58.171Z"
   },
   {
    "duration": 105,
    "start_time": "2022-08-02T15:42:58.261Z"
   },
   {
    "duration": 10,
    "start_time": "2022-08-02T15:42:58.367Z"
   },
   {
    "duration": 84,
    "start_time": "2022-08-02T15:42:58.379Z"
   },
   {
    "duration": 103,
    "start_time": "2022-08-02T15:42:58.553Z"
   },
   {
    "duration": 311,
    "start_time": "2022-08-02T15:42:58.661Z"
   },
   {
    "duration": 5,
    "start_time": "2022-08-02T15:42:58.974Z"
   },
   {
    "duration": 10,
    "start_time": "2022-08-02T15:42:58.980Z"
   },
   {
    "duration": 81,
    "start_time": "2022-08-02T15:42:58.992Z"
   },
   {
    "duration": 4,
    "start_time": "2022-08-02T15:42:59.074Z"
   },
   {
    "duration": 122,
    "start_time": "2022-08-02T15:42:59.079Z"
   },
   {
    "duration": 319,
    "start_time": "2022-08-02T15:51:34.892Z"
   },
   {
    "duration": 263,
    "start_time": "2022-08-02T15:51:59.825Z"
   },
   {
    "duration": 211,
    "start_time": "2022-08-02T15:52:07.255Z"
   },
   {
    "duration": 324,
    "start_time": "2022-08-02T15:52:39.557Z"
   },
   {
    "duration": 300,
    "start_time": "2022-08-02T15:53:07.287Z"
   },
   {
    "duration": 61,
    "start_time": "2022-08-02T16:00:27.768Z"
   },
   {
    "duration": 63,
    "start_time": "2022-08-02T16:01:51.631Z"
   },
   {
    "duration": 48,
    "start_time": "2022-08-02T16:02:09.793Z"
   },
   {
    "duration": 91,
    "start_time": "2022-08-02T16:04:25.553Z"
   },
   {
    "duration": 5,
    "start_time": "2022-08-02T16:04:31.448Z"
   },
   {
    "duration": 68,
    "start_time": "2022-08-02T16:04:47.145Z"
   },
   {
    "duration": 53,
    "start_time": "2022-08-02T16:04:51.460Z"
   },
   {
    "duration": 351,
    "start_time": "2022-08-02T16:04:58.424Z"
   },
   {
    "duration": 74,
    "start_time": "2022-08-02T16:05:01.826Z"
   },
   {
    "duration": 62,
    "start_time": "2022-08-02T16:06:02.125Z"
   },
   {
    "duration": 365,
    "start_time": "2022-08-02T16:06:08.846Z"
   },
   {
    "duration": 56,
    "start_time": "2022-08-02T16:06:13.800Z"
   },
   {
    "duration": 3,
    "start_time": "2022-08-02T16:06:18.697Z"
   },
   {
    "duration": 338,
    "start_time": "2022-08-02T16:06:18.701Z"
   },
   {
    "duration": 321,
    "start_time": "2022-08-02T16:06:19.040Z"
   },
   {
    "duration": 729,
    "start_time": "2022-08-02T16:06:19.364Z"
   },
   {
    "duration": 866,
    "start_time": "2022-08-02T16:06:20.094Z"
   },
   {
    "duration": 714,
    "start_time": "2022-08-02T16:06:20.962Z"
   },
   {
    "duration": 314,
    "start_time": "2022-08-02T16:06:21.678Z"
   },
   {
    "duration": 65,
    "start_time": "2022-08-02T16:06:21.993Z"
   },
   {
    "duration": 346,
    "start_time": "2022-08-02T16:06:31.920Z"
   },
   {
    "duration": 4,
    "start_time": "2022-08-02T16:08:09.784Z"
   },
   {
    "duration": 332,
    "start_time": "2022-08-02T16:08:09.790Z"
   },
   {
    "duration": 304,
    "start_time": "2022-08-02T16:08:10.124Z"
   },
   {
    "duration": 705,
    "start_time": "2022-08-02T16:08:10.430Z"
   },
   {
    "duration": 845,
    "start_time": "2022-08-02T16:08:11.138Z"
   },
   {
    "duration": 741,
    "start_time": "2022-08-02T16:08:11.985Z"
   },
   {
    "duration": 325,
    "start_time": "2022-08-02T16:08:12.728Z"
   },
   {
    "duration": 61,
    "start_time": "2022-08-02T16:08:13.055Z"
   },
   {
    "duration": 331,
    "start_time": "2022-08-02T16:08:33.799Z"
   },
   {
    "duration": 328,
    "start_time": "2022-08-02T16:09:22.849Z"
   },
   {
    "duration": 4,
    "start_time": "2022-08-02T16:09:30.457Z"
   },
   {
    "duration": 340,
    "start_time": "2022-08-02T16:09:30.462Z"
   },
   {
    "duration": 296,
    "start_time": "2022-08-02T16:09:30.804Z"
   },
   {
    "duration": 713,
    "start_time": "2022-08-02T16:09:31.102Z"
   },
   {
    "duration": 871,
    "start_time": "2022-08-02T16:09:31.817Z"
   },
   {
    "duration": 723,
    "start_time": "2022-08-02T16:09:32.690Z"
   },
   {
    "duration": 292,
    "start_time": "2022-08-02T16:09:33.414Z"
   },
   {
    "duration": 3,
    "start_time": "2022-08-02T16:10:18.925Z"
   },
   {
    "duration": 310,
    "start_time": "2022-08-02T16:10:18.930Z"
   },
   {
    "duration": 284,
    "start_time": "2022-08-02T16:10:19.242Z"
   },
   {
    "duration": 715,
    "start_time": "2022-08-02T16:10:19.528Z"
   },
   {
    "duration": 908,
    "start_time": "2022-08-02T16:10:20.245Z"
   },
   {
    "duration": 758,
    "start_time": "2022-08-02T16:10:21.155Z"
   },
   {
    "duration": 340,
    "start_time": "2022-08-02T16:10:21.915Z"
   },
   {
    "duration": 59,
    "start_time": "2022-08-02T16:10:53.031Z"
   },
   {
    "duration": 363,
    "start_time": "2022-08-02T16:10:59.465Z"
   },
   {
    "duration": 65,
    "start_time": "2022-08-02T16:11:25.123Z"
   },
   {
    "duration": 77,
    "start_time": "2022-08-02T16:11:57.520Z"
   },
   {
    "duration": 325,
    "start_time": "2022-08-02T16:12:17.828Z"
   },
   {
    "duration": 143,
    "start_time": "2022-08-02T16:12:25.225Z"
   },
   {
    "duration": 4,
    "start_time": "2022-08-02T16:13:30.327Z"
   },
   {
    "duration": 351,
    "start_time": "2022-08-02T16:13:30.333Z"
   },
   {
    "duration": 320,
    "start_time": "2022-08-02T16:13:30.686Z"
   },
   {
    "duration": 882,
    "start_time": "2022-08-02T16:13:31.008Z"
   },
   {
    "duration": 816,
    "start_time": "2022-08-02T16:13:31.893Z"
   },
   {
    "duration": 768,
    "start_time": "2022-08-02T16:13:32.710Z"
   },
   {
    "duration": 314,
    "start_time": "2022-08-02T16:13:33.479Z"
   },
   {
    "duration": 70,
    "start_time": "2022-08-02T16:13:33.795Z"
   },
   {
    "duration": 73,
    "start_time": "2022-08-02T16:13:53.322Z"
   },
   {
    "duration": 62,
    "start_time": "2022-08-02T16:14:09.527Z"
   },
   {
    "duration": 76,
    "start_time": "2022-08-02T16:14:41.498Z"
   },
   {
    "duration": 90,
    "start_time": "2022-08-02T16:15:40.079Z"
   },
   {
    "duration": 8,
    "start_time": "2022-08-03T12:06:25.764Z"
   },
   {
    "duration": 3,
    "start_time": "2022-08-03T12:06:30.852Z"
   },
   {
    "duration": 36,
    "start_time": "2022-08-03T12:06:36.763Z"
   },
   {
    "duration": 63,
    "start_time": "2022-08-03T12:07:04.751Z"
   },
   {
    "duration": 388,
    "start_time": "2022-08-03T12:07:11.744Z"
   },
   {
    "duration": 493,
    "start_time": "2022-08-03T12:07:12.724Z"
   },
   {
    "duration": 525,
    "start_time": "2022-08-03T12:07:16.368Z"
   },
   {
    "duration": 1550,
    "start_time": "2022-08-03T12:07:26.285Z"
   },
   {
    "duration": 3,
    "start_time": "2022-08-03T12:07:27.837Z"
   },
   {
    "duration": 366,
    "start_time": "2022-08-03T12:07:27.842Z"
   },
   {
    "duration": 321,
    "start_time": "2022-08-03T12:07:28.210Z"
   },
   {
    "duration": 1064,
    "start_time": "2022-08-03T12:07:28.533Z"
   },
   {
    "duration": 19,
    "start_time": "2022-08-03T12:07:29.599Z"
   },
   {
    "duration": 1000,
    "start_time": "2022-08-03T12:07:29.619Z"
   },
   {
    "duration": 27,
    "start_time": "2022-08-03T12:07:30.621Z"
   },
   {
    "duration": 882,
    "start_time": "2022-08-03T12:07:30.650Z"
   },
   {
    "duration": 45,
    "start_time": "2022-08-03T12:07:31.534Z"
   },
   {
    "duration": 322,
    "start_time": "2022-08-03T12:07:31.581Z"
   },
   {
    "duration": 87,
    "start_time": "2022-08-03T12:07:31.905Z"
   },
   {
    "duration": 749,
    "start_time": "2022-08-03T12:07:31.994Z"
   },
   {
    "duration": 423,
    "start_time": "2022-08-03T12:07:32.745Z"
   },
   {
    "duration": 6,
    "start_time": "2022-08-03T12:07:33.170Z"
   },
   {
    "duration": 83,
    "start_time": "2022-08-03T12:07:33.178Z"
   },
   {
    "duration": 3,
    "start_time": "2022-08-03T12:07:33.262Z"
   },
   {
    "duration": 1994,
    "start_time": "2022-08-03T12:07:33.267Z"
   },
   {
    "duration": 1428,
    "start_time": "2022-08-03T12:39:12.359Z"
   },
   {
    "duration": 5,
    "start_time": "2022-08-03T12:39:13.790Z"
   },
   {
    "duration": 401,
    "start_time": "2022-08-03T12:39:13.796Z"
   },
   {
    "duration": 367,
    "start_time": "2022-08-03T12:39:14.199Z"
   },
   {
    "duration": 1012,
    "start_time": "2022-08-03T12:39:14.568Z"
   },
   {
    "duration": 21,
    "start_time": "2022-08-03T12:39:15.581Z"
   },
   {
    "duration": 1063,
    "start_time": "2022-08-03T12:39:15.604Z"
   },
   {
    "duration": 20,
    "start_time": "2022-08-03T12:39:16.669Z"
   },
   {
    "duration": 987,
    "start_time": "2022-08-03T12:39:16.691Z"
   },
   {
    "duration": 83,
    "start_time": "2022-08-03T12:39:17.680Z"
   },
   {
    "duration": 394,
    "start_time": "2022-08-03T12:39:17.766Z"
   },
   {
    "duration": 130,
    "start_time": "2022-08-03T12:39:18.162Z"
   },
   {
    "duration": 855,
    "start_time": "2022-08-03T12:39:18.294Z"
   },
   {
    "duration": 420,
    "start_time": "2022-08-03T12:39:19.153Z"
   },
   {
    "duration": 8,
    "start_time": "2022-08-03T12:39:19.575Z"
   },
   {
    "duration": 112,
    "start_time": "2022-08-03T12:39:19.585Z"
   },
   {
    "duration": 4,
    "start_time": "2022-08-03T12:39:19.700Z"
   },
   {
    "duration": 2205,
    "start_time": "2022-08-03T12:39:19.706Z"
   },
   {
    "duration": 2112,
    "start_time": "2022-08-03T12:39:38.186Z"
   },
   {
    "duration": 4,
    "start_time": "2022-08-03T12:39:57.213Z"
   },
   {
    "duration": 2078,
    "start_time": "2022-08-03T12:40:02.634Z"
   },
   {
    "duration": 1933,
    "start_time": "2022-08-03T12:40:06.414Z"
   },
   {
    "duration": 1946,
    "start_time": "2022-08-03T12:40:10.551Z"
   },
   {
    "duration": 1986,
    "start_time": "2022-08-03T12:40:16.172Z"
   },
   {
    "duration": 1960,
    "start_time": "2022-08-03T12:40:19.113Z"
   },
   {
    "duration": 1925,
    "start_time": "2022-08-03T12:40:21.813Z"
   },
   {
    "duration": 2038,
    "start_time": "2022-08-03T12:40:27.377Z"
   },
   {
    "duration": 1496,
    "start_time": "2022-08-03T12:52:53.973Z"
   },
   {
    "duration": 4,
    "start_time": "2022-08-03T12:52:55.471Z"
   },
   {
    "duration": 393,
    "start_time": "2022-08-03T12:52:55.477Z"
   },
   {
    "duration": 348,
    "start_time": "2022-08-03T12:52:55.872Z"
   },
   {
    "duration": 948,
    "start_time": "2022-08-03T12:52:56.222Z"
   },
   {
    "duration": 23,
    "start_time": "2022-08-03T12:52:57.172Z"
   },
   {
    "duration": 1056,
    "start_time": "2022-08-03T12:52:57.197Z"
   },
   {
    "duration": 19,
    "start_time": "2022-08-03T12:52:58.255Z"
   },
   {
    "duration": 1030,
    "start_time": "2022-08-03T12:52:58.276Z"
   },
   {
    "duration": 52,
    "start_time": "2022-08-03T12:52:59.308Z"
   },
   {
    "duration": 332,
    "start_time": "2022-08-03T12:52:59.361Z"
   },
   {
    "duration": 103,
    "start_time": "2022-08-03T12:52:59.695Z"
   },
   {
    "duration": 743,
    "start_time": "2022-08-03T12:52:59.800Z"
   },
   {
    "duration": 429,
    "start_time": "2022-08-03T12:53:00.545Z"
   },
   {
    "duration": 7,
    "start_time": "2022-08-03T12:53:00.976Z"
   },
   {
    "duration": 104,
    "start_time": "2022-08-03T12:53:00.986Z"
   },
   {
    "duration": 4,
    "start_time": "2022-08-03T12:53:01.091Z"
   },
   {
    "duration": 3709,
    "start_time": "2022-08-03T12:53:01.096Z"
   },
   {
    "duration": 1451,
    "start_time": "2022-08-03T13:11:04.447Z"
   },
   {
    "duration": 3,
    "start_time": "2022-08-03T13:11:05.900Z"
   },
   {
    "duration": 376,
    "start_time": "2022-08-03T13:11:05.904Z"
   },
   {
    "duration": 332,
    "start_time": "2022-08-03T13:11:06.283Z"
   },
   {
    "duration": 932,
    "start_time": "2022-08-03T13:11:06.617Z"
   },
   {
    "duration": 20,
    "start_time": "2022-08-03T13:11:07.551Z"
   },
   {
    "duration": 1007,
    "start_time": "2022-08-03T13:11:07.573Z"
   },
   {
    "duration": 21,
    "start_time": "2022-08-03T13:11:08.582Z"
   },
   {
    "duration": 982,
    "start_time": "2022-08-03T13:11:08.604Z"
   },
   {
    "duration": 53,
    "start_time": "2022-08-03T13:11:09.589Z"
   },
   {
    "duration": 354,
    "start_time": "2022-08-03T13:11:09.644Z"
   },
   {
    "duration": 95,
    "start_time": "2022-08-03T13:11:10.000Z"
   },
   {
    "duration": 648,
    "start_time": "2022-08-03T13:11:10.097Z"
   },
   {
    "duration": 425,
    "start_time": "2022-08-03T13:11:10.747Z"
   },
   {
    "duration": 7,
    "start_time": "2022-08-03T13:11:11.174Z"
   },
   {
    "duration": 85,
    "start_time": "2022-08-03T13:11:11.183Z"
   },
   {
    "duration": 3,
    "start_time": "2022-08-03T13:11:11.271Z"
   },
   {
    "duration": 3666,
    "start_time": "2022-08-03T13:11:11.276Z"
   },
   {
    "duration": 1420,
    "start_time": "2022-08-03T13:11:34.057Z"
   },
   {
    "duration": 4,
    "start_time": "2022-08-03T13:11:35.479Z"
   },
   {
    "duration": 368,
    "start_time": "2022-08-03T13:11:35.485Z"
   },
   {
    "duration": 351,
    "start_time": "2022-08-03T13:11:35.855Z"
   },
   {
    "duration": 942,
    "start_time": "2022-08-03T13:11:36.207Z"
   },
   {
    "duration": 19,
    "start_time": "2022-08-03T13:11:37.152Z"
   },
   {
    "duration": 1001,
    "start_time": "2022-08-03T13:11:37.174Z"
   },
   {
    "duration": 18,
    "start_time": "2022-08-03T13:11:38.177Z"
   },
   {
    "duration": 967,
    "start_time": "2022-08-03T13:11:38.197Z"
   },
   {
    "duration": 45,
    "start_time": "2022-08-03T13:11:39.166Z"
   },
   {
    "duration": 327,
    "start_time": "2022-08-03T13:11:39.213Z"
   },
   {
    "duration": 101,
    "start_time": "2022-08-03T13:11:39.541Z"
   },
   {
    "duration": 700,
    "start_time": "2022-08-03T13:11:39.644Z"
   },
   {
    "duration": 433,
    "start_time": "2022-08-03T13:11:40.347Z"
   },
   {
    "duration": 6,
    "start_time": "2022-08-03T13:11:40.782Z"
   },
   {
    "duration": 83,
    "start_time": "2022-08-03T13:11:40.790Z"
   },
   {
    "duration": 3,
    "start_time": "2022-08-03T13:11:40.874Z"
   },
   {
    "duration": 3693,
    "start_time": "2022-08-03T13:11:40.878Z"
   }
  ],
  "kernelspec": {
   "display_name": "Python 3 (ipykernel)",
   "language": "python",
   "name": "python3"
  },
  "language_info": {
   "codemirror_mode": {
    "name": "ipython",
    "version": 3
   },
   "file_extension": ".py",
   "mimetype": "text/x-python",
   "name": "python",
   "nbconvert_exporter": "python",
   "pygments_lexer": "ipython3",
   "version": "3.9.7"
  },
  "toc": {
   "base_numbering": 1,
   "nav_menu": {},
   "number_sections": true,
   "sideBar": true,
   "skip_h1_title": true,
   "title_cell": "Table of Contents",
   "title_sidebar": "Contents",
   "toc_cell": false,
   "toc_position": {
    "height": "652.222px",
    "left": "726.993px",
    "top": "148.125px",
    "width": "302.439px"
   },
   "toc_section_display": true,
   "toc_window_display": true
  }
 },
 "nbformat": 4,
 "nbformat_minor": 2
}
