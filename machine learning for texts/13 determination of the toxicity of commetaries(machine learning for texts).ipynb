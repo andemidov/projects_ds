{
 "cells": [
  {
   "cell_type": "markdown",
   "metadata": {
    "toc": true
   },
   "source": [
    "<h1>Содержание<span class=\"tocSkip\"></span></h1>\n",
    "<div class=\"toc\"><ul class=\"toc-item\"><li><span><a href=\"#Подготовка\" data-toc-modified-id=\"Подготовка-1\"><span class=\"toc-item-num\">1&nbsp;&nbsp;</span>Подготовка</a></span><ul class=\"toc-item\"><li><span><a href=\"#Подготовка-признаков\" data-toc-modified-id=\"Подготовка-признаков-1.1\"><span class=\"toc-item-num\">1.1&nbsp;&nbsp;</span>Подготовка признаков</a></span></li><li><span><a href=\"#Векторизация-текста\" data-toc-modified-id=\"Векторизация-текста-1.2\"><span class=\"toc-item-num\">1.2&nbsp;&nbsp;</span>Векторизация текста</a></span></li></ul></li><li><span><a href=\"#Обучение\" data-toc-modified-id=\"Обучение-2\"><span class=\"toc-item-num\">2&nbsp;&nbsp;</span>Обучение</a></span><ul class=\"toc-item\"><li><span><a href=\"#LogisticRegression\" data-toc-modified-id=\"LogisticRegression-2.1\"><span class=\"toc-item-num\">2.1&nbsp;&nbsp;</span>LogisticRegression</a></span></li><li><span><a href=\"#LGBMRegressor\" data-toc-modified-id=\"LGBMRegressor-2.2\"><span class=\"toc-item-num\">2.2&nbsp;&nbsp;</span>LGBMRegressor</a></span></li><li><span><a href=\"#KNeighborsClassifier\" data-toc-modified-id=\"KNeighborsClassifier-2.3\"><span class=\"toc-item-num\">2.3&nbsp;&nbsp;</span>KNeighborsClassifier</a></span></li><li><span><a href=\"#CatBoostClassifier\" data-toc-modified-id=\"CatBoostClassifier-2.4\"><span class=\"toc-item-num\">2.4&nbsp;&nbsp;</span>CatBoostClassifier</a></span></li></ul></li><li><span><a href=\"#Тестирование\" data-toc-modified-id=\"Тестирование-3\"><span class=\"toc-item-num\">3&nbsp;&nbsp;</span>Тестирование</a></span></li><li><span><a href=\"#Выводы\" data-toc-modified-id=\"Выводы-4\"><span class=\"toc-item-num\">4&nbsp;&nbsp;</span>Выводы</a></span></li><li><span><a href=\"#Чек-лист-проверки\" data-toc-modified-id=\"Чек-лист-проверки-5\"><span class=\"toc-item-num\">5&nbsp;&nbsp;</span>Чек-лист проверки</a></span></li></ul></div>"
   ]
  },
  {
   "cell_type": "markdown",
   "metadata": {},
   "source": [
    "# Проект для «Викишоп»"
   ]
  },
  {
   "cell_type": "markdown",
   "metadata": {},
   "source": [
    "**Описание целей и задачи проекта**\n",
    "\n",
    "Заказчик, интернет-магазин «Викишоп», запускает новый сервис. Теперь пользователи могут редактировать и дополнять описания товаров, как в вики-сообществах. То есть клиенты предлагают свои правки и комментируют изменения других. Магазину нужен инструмент, который будет искать токсичные комментарии и отправлять их на модерацию. \n",
    "\n",
    "Необходимо обучить модель классифицировать комментарии на позитивные и негативные.\n",
    "\n",
    "**Описание данных**\n",
    "\n",
    "Данные находятся в файле `toxic_comments.csv`. Столбец *text* в нём содержит текст комментария, а *toxic* — целевой признак. Набор данных содержит разметку о токсичности правок.\n",
    "\n",
    "\n",
    "**План работы**\n",
    "\n",
    "1. Загрузить и подготовьте данные.\n",
    "2. Обучить разные модели. \n",
    " - Метрика качества *F1* должна быть не меньше 0.75. \n",
    "3. Сделайть выводы."
   ]
  },
  {
   "cell_type": "markdown",
   "metadata": {},
   "source": [
    "## Подготовка"
   ]
  },
  {
   "cell_type": "code",
   "execution_count": 1,
   "metadata": {},
   "outputs": [],
   "source": [
    "#!{sys.executable} -m pip install spacy\n",
    "#!{sys.executable} -m spacy download en"
   ]
  },
  {
   "cell_type": "code",
   "execution_count": 24,
   "metadata": {},
   "outputs": [],
   "source": [
    "# импорт библиотек\n",
    "import os\n",
    "import time\n",
    "import pandas as pd\n",
    "import numpy as np\n",
    "import warnings\n",
    "import matplotlib.pyplot as plt\n",
    "\n",
    "\n",
    "# для моделей\n",
    "from sklearn.model_selection import train_test_split\n",
    "from sklearn.metrics import f1_score\n",
    "from sklearn.linear_model import LogisticRegression\n",
    "from sklearn.model_selection import GridSearchCV\n",
    "from catboost import CatBoostClassifier\n",
    "from lightgbm import LGBMClassifier\n",
    "from sklearn.metrics import f1_score\n",
    "from sklearn.neighbors import KNeighborsClassifier\n",
    "from sklearn.naive_bayes import GaussianNB\n",
    "from sklearn.pipeline import Pipeline\n",
    "from sklearn.feature_extraction.text import CountVectorizer\n",
    "\n",
    "\n",
    "\n",
    "# для работы с текстом\n",
    "import sys\n",
    "import spacy\n",
    "import re\n",
    "import nltk\n",
    "from nltk.corpus import stopwords as nltk_stopwords\n",
    "from sklearn.feature_extraction.text import TfidfVectorizer "
   ]
  },
  {
   "cell_type": "code",
   "execution_count": 3,
   "metadata": {},
   "outputs": [],
   "source": [
    "# пути к файлам\n",
    "pth1 = '/datasets/toxic_comments.csv'\n",
    "pth2 = '/Users/refresh/Downloads/toxic_comments.csv'\n",
    "\n",
    "# открытие файлов\n",
    "if os.path.exists(pth1):\n",
    "    data = pd.read_csv(pth1)\n",
    "elif os.path.exists(pth2):\n",
    "    data = pd.read_csv(pth2)\n",
    "else:\n",
    "    print('Something wrong!')"
   ]
  },
  {
   "cell_type": "code",
   "execution_count": 4,
   "metadata": {},
   "outputs": [
    {
     "data": {
      "text/html": [
       "<div>\n",
       "<style scoped>\n",
       "    .dataframe tbody tr th:only-of-type {\n",
       "        vertical-align: middle;\n",
       "    }\n",
       "\n",
       "    .dataframe tbody tr th {\n",
       "        vertical-align: top;\n",
       "    }\n",
       "\n",
       "    .dataframe thead th {\n",
       "        text-align: right;\n",
       "    }\n",
       "</style>\n",
       "<table border=\"1\" class=\"dataframe\">\n",
       "  <thead>\n",
       "    <tr style=\"text-align: right;\">\n",
       "      <th></th>\n",
       "      <th>Unnamed: 0</th>\n",
       "      <th>text</th>\n",
       "      <th>toxic</th>\n",
       "    </tr>\n",
       "  </thead>\n",
       "  <tbody>\n",
       "    <tr>\n",
       "      <th>0</th>\n",
       "      <td>0</td>\n",
       "      <td>Explanation\\nWhy the edits made under my usern...</td>\n",
       "      <td>0</td>\n",
       "    </tr>\n",
       "    <tr>\n",
       "      <th>1</th>\n",
       "      <td>1</td>\n",
       "      <td>D'aww! He matches this background colour I'm s...</td>\n",
       "      <td>0</td>\n",
       "    </tr>\n",
       "    <tr>\n",
       "      <th>2</th>\n",
       "      <td>2</td>\n",
       "      <td>Hey man, I'm really not trying to edit war. It...</td>\n",
       "      <td>0</td>\n",
       "    </tr>\n",
       "    <tr>\n",
       "      <th>3</th>\n",
       "      <td>3</td>\n",
       "      <td>\"\\nMore\\nI can't make any real suggestions on ...</td>\n",
       "      <td>0</td>\n",
       "    </tr>\n",
       "    <tr>\n",
       "      <th>4</th>\n",
       "      <td>4</td>\n",
       "      <td>You, sir, are my hero. Any chance you remember...</td>\n",
       "      <td>0</td>\n",
       "    </tr>\n",
       "  </tbody>\n",
       "</table>\n",
       "</div>"
      ],
      "text/plain": [
       "   Unnamed: 0                                               text  toxic\n",
       "0           0  Explanation\\nWhy the edits made under my usern...      0\n",
       "1           1  D'aww! He matches this background colour I'm s...      0\n",
       "2           2  Hey man, I'm really not trying to edit war. It...      0\n",
       "3           3  \"\\nMore\\nI can't make any real suggestions on ...      0\n",
       "4           4  You, sir, are my hero. Any chance you remember...      0"
      ]
     },
     "metadata": {},
     "output_type": "display_data"
    },
    {
     "name": "stdout",
     "output_type": "stream",
     "text": [
      "<class 'pandas.core.frame.DataFrame'>\n",
      "RangeIndex: 159292 entries, 0 to 159291\n",
      "Data columns (total 3 columns):\n",
      " #   Column      Non-Null Count   Dtype \n",
      "---  ------      --------------   ----- \n",
      " 0   Unnamed: 0  159292 non-null  int64 \n",
      " 1   text        159292 non-null  object\n",
      " 2   toxic       159292 non-null  int64 \n",
      "dtypes: int64(2), object(1)\n",
      "memory usage: 3.6+ MB\n"
     ]
    }
   ],
   "source": [
    "# знакомимся с информацией\n",
    "display(data.head(5))\n",
    "data.info()"
   ]
  },
  {
   "cell_type": "markdown",
   "metadata": {},
   "source": [
    "Посмотрим столбец 'Unnamed: 0':"
   ]
  },
  {
   "cell_type": "code",
   "execution_count": 5,
   "metadata": {},
   "outputs": [
    {
     "data": {
      "text/plain": [
       "count    159292.000000\n",
       "mean      79725.697242\n",
       "std       46028.837471\n",
       "min           0.000000\n",
       "25%       39872.750000\n",
       "50%       79721.500000\n",
       "75%      119573.250000\n",
       "max      159450.000000\n",
       "Name: Unnamed: 0, dtype: float64"
      ]
     },
     "metadata": {},
     "output_type": "display_data"
    },
    {
     "data": {
      "image/png": "[encoded data removed]",
      "text/plain": [
       "<Figure size 432x288 with 1 Axes>"
      ]
     },
     "metadata": {
      "needs_background": "light"
     },
     "output_type": "display_data"
    }
   ],
   "source": [
    "# знакомимся с данными\n",
    "display(data['Unnamed: 0'].describe())\n",
    "data['Unnamed: 0'].plot();"
   ]
  },
  {
   "cell_type": "markdown",
   "metadata": {},
   "source": [
    "Видно, что 'Unnamed: 0' это индекс, удалим этот столбец."
   ]
  },
  {
   "cell_type": "code",
   "execution_count": 6,
   "metadata": {},
   "outputs": [],
   "source": [
    "# удаляем столбец\n",
    "data.drop('Unnamed: 0', axis=1, inplace=True)"
   ]
  },
  {
   "cell_type": "code",
   "execution_count": 7,
   "metadata": {
    "scrolled": false
   },
   "outputs": [
    {
     "data": {
      "text/plain": [
       "0    0.898388\n",
       "1    0.101612\n",
       "Name: toxic, dtype: float64"
      ]
     },
     "metadata": {},
     "output_type": "display_data"
    },
    {
     "data": {
      "image/png": "[encoded data removed]",
      "text/plain": [
       "<Figure size 576x576 with 1 Axes>"
      ]
     },
     "metadata": {},
     "output_type": "display_data"
    }
   ],
   "source": [
    "# смотрим баланс классов\n",
    "display(data['toxic'].value_counts(normalize=True))\n",
    "# строим пирог\n",
    "plt.figure(figsize=(8, 8))\n",
    "plt.title('Сlass balance',fontsize=20)\n",
    "plt.pie(data['toxic'].value_counts(normalize=True), labels=['0', '1'], explode=(0.1, 0))\n",
    "plt.show();"
   ]
  },
  {
   "cell_type": "markdown",
   "metadata": {},
   "source": [
    "В данных нет пропусков.\n",
    "\n",
    "Удалили лишнее. Язык комментариев - Английский.\n",
    "\n",
    "В данных всего 10% положительных комментариев."
   ]
  },
  {
   "cell_type": "markdown",
   "metadata": {},
   "source": [
    "### Подготовка признаков\n",
    "\n",
    "Лемматизируем текст"
   ]
  },
  {
   "cell_type": "code",
   "execution_count": 8,
   "metadata": {},
   "outputs": [],
   "source": [
    "# понижаем регистр\n",
    "data['text'] = data['text'].str.lower()"
   ]
  },
  {
   "cell_type": "code",
   "execution_count": 9,
   "metadata": {},
   "outputs": [
    {
     "data": {
      "text/html": [
       "<div>\n",
       "<style scoped>\n",
       "    .dataframe tbody tr th:only-of-type {\n",
       "        vertical-align: middle;\n",
       "    }\n",
       "\n",
       "    .dataframe tbody tr th {\n",
       "        vertical-align: top;\n",
       "    }\n",
       "\n",
       "    .dataframe thead th {\n",
       "        text-align: right;\n",
       "    }\n",
       "</style>\n",
       "<table border=\"1\" class=\"dataframe\">\n",
       "  <thead>\n",
       "    <tr style=\"text-align: right;\">\n",
       "      <th></th>\n",
       "      <th>text</th>\n",
       "      <th>toxic</th>\n",
       "    </tr>\n",
       "  </thead>\n",
       "  <tbody>\n",
       "    <tr>\n",
       "      <th>0</th>\n",
       "      <td>explanation why the edits made under my userna...</td>\n",
       "      <td>0</td>\n",
       "    </tr>\n",
       "    <tr>\n",
       "      <th>1</th>\n",
       "      <td>d aww  he matches this background colour i m s...</td>\n",
       "      <td>0</td>\n",
       "    </tr>\n",
       "  </tbody>\n",
       "</table>\n",
       "</div>"
      ],
      "text/plain": [
       "                                                text  toxic\n",
       "0  explanation why the edits made under my userna...      0\n",
       "1  d aww  he matches this background colour i m s...      0"
      ]
     },
     "execution_count": 9,
     "metadata": {},
     "output_type": "execute_result"
    }
   ],
   "source": [
    "# убираем не нужные символы\n",
    "data['text'] = data['text'].apply(lambda x: re.sub(r'[^a-zA-Z]', ' ',  x))\n",
    "data['text'][0]"
   ]
  },
  {
   "cell_type": "code",
   "execution_count": 10,
   "metadata": {},
   "outputs": [
    {
     "data": {
      "text/plain": [
       "'explanation why the edits made under my username hardcore metallica fan were reverted  they weren t vandalisms  just closure on some gas after i voted at new york dolls fac  and please don t remove the template from the talk page since i m retired now             '"
      ]
     },
     "metadata": {},
     "output_type": "display_data"
    }
   ],
   "source": [
    "# отключаем предепреждения\n",
    "warnings.filterwarnings('ignore')\n",
    "\n",
    "display(data['text'][0])\n",
    "nlp = spacy.load(\"en_core_web_sm\")\n",
    "\n",
    "def gg2(text):\n",
    "    for i in range(len(text)):\n",
    "        text[i] = nlp(text[i])\n",
    "        text[i] = \" \".join([token.lemma_ for token in text[i]])\n",
    "gg2(data['text'])"
   ]
  },
  {
   "cell_type": "code",
   "execution_count": 11,
   "metadata": {},
   "outputs": [
    {
     "data": {
      "text/plain": [
       "'explanation why the edit make under my username hardcore metallica fan be revert   they weren t vandalisms   just closure on some gas after I vote at new york doll fac   and please don t remove the template from the talk page since I m retire now             '"
      ]
     },
     "execution_count": 11,
     "metadata": {},
     "output_type": "execute_result"
    }
   ],
   "source": [
    "data['text'][0]"
   ]
  },
  {
   "cell_type": "code",
   "execution_count": 12,
   "metadata": {},
   "outputs": [
    {
     "data": {
      "text/plain": [
       "'explanation why the edit make under my username hardcore metallica fan be revert they weren t vandalisms just closure on some gas after I vote at new york doll fac and please don t remove the template from the talk page since I m retire now'"
      ]
     },
     "execution_count": 12,
     "metadata": {},
     "output_type": "execute_result"
    }
   ],
   "source": [
    "data['text'] = data['text'].apply(lambda x: \" \".join(x.split()))\n",
    "data['text'][0]"
   ]
  },
  {
   "cell_type": "code",
   "execution_count": 13,
   "metadata": {},
   "outputs": [
    {
     "name": "stdout",
     "output_type": "stream",
     "text": [
      "начальный размер (159292,) (159292,)\n"
     ]
    }
   ],
   "source": [
    "X = data['text']\n",
    "y = data['toxic']\n",
    "print('начальный размер', X.shape, y.shape)"
   ]
  },
  {
   "cell_type": "code",
   "execution_count": 14,
   "metadata": {
    "scrolled": true
   },
   "outputs": [
    {
     "name": "stdout",
     "output_type": "stream",
     "text": [
      "валидационная выборка (119469,) (119469,)\n",
      "тестовая выборка (39823,) (39823,)\n"
     ]
    }
   ],
   "source": [
    "X_train, X_test, y_train, y_test = train_test_split(X, y, random_state=42, test_size=0.25, stratify=y)\n",
    "print('валидационная выборка', X_train.shape, y_train.shape)\n",
    "print('тестовая выборка', X_test.shape, y_test.shape)"
   ]
  },
  {
   "cell_type": "markdown",
   "metadata": {},
   "source": [
    "### Векторизация текста"
   ]
  },
  {
   "cell_type": "code",
   "execution_count": 15,
   "metadata": {},
   "outputs": [
    {
     "name": "stderr",
     "output_type": "stream",
     "text": [
      "[nltk_data] Downloading package stopwords to /home/jovyan/nltk_data...\n",
      "[nltk_data]   Package stopwords is already up-to-date!\n"
     ]
    }
   ],
   "source": [
    "# скачиваем стоп-словав\n",
    "nltk.download('stopwords')\n",
    "stopwords = set(nltk_stopwords.words('english'))\n",
    "# создаём счётчик величин TF-IDF\n",
    "tf_idf = TfidfVectorizer(stop_words=stopwords)"
   ]
  },
  {
   "cell_type": "code",
   "execution_count": 16,
   "metadata": {},
   "outputs": [
    {
     "name": "stdout",
     "output_type": "stream",
     "text": [
      "(119469, 127897) (119469,)\n",
      "(39823, 127897)\n"
     ]
    }
   ],
   "source": [
    "# преобразовываем признаки\n",
    "tf_idf_train = tf_idf.fit_transform(X_train)\n",
    "print(tf_idf_train.shape, y_train.shape)\n",
    "tf_idf_test = tf_idf.transform(X_test)\n",
    "print(tf_idf_test.shape)"
   ]
  },
  {
   "cell_type": "markdown",
   "metadata": {},
   "source": [
    "## Обучение"
   ]
  },
  {
   "cell_type": "markdown",
   "metadata": {},
   "source": [
    "### LogisticRegression"
   ]
  },
  {
   "cell_type": "markdown",
   "metadata": {},
   "source": [
    "<div class=\"alert alert-block alert-info\">\n",
    "<b>LogisticRegression</b> Считает 9 мин. Запускал код ниже. Оставил лучшие параметры.\n",
    "    \n",
    "\n",
    "    model_lr = LogisticRegression()\n",
    "    grid = {'penalty': ['l1','l2'],\n",
    "            'C': [0.001,0.01,0.1,1,10,100,1000]}\n",
    "\n",
    "    grid_lr = GridSearchCV(model_lr, grid, cv=3, n_jobs=-1, scoring='f1')\n",
    "    grid_lr.fit(tf_idf_train, y_train)\n",
    "\n",
    "\n",
    "   \n",
    "    Лучшие параметры модели {'C': 10, 'penalty': 'l2'}\n",
    "    F1 0.7616593544940224\n",
    "</div>"
   ]
  },
  {
   "cell_type": "code",
   "execution_count": 26,
   "metadata": {},
   "outputs": [],
   "source": [
    "# запускаем отсчёт времени\n",
    "start = time.time()\n",
    "# сохдаём модель и запускаем grid_search\n",
    "model_lr = LogisticRegression()\n",
    "grid = {'penalty': ['l1','l2'],\n",
    "        'C': [0.001,0.01,0.1,1,10,100,1000]}\n",
    "\n",
    "grid_lr = GridSearchCV(model_lr, grid, cv=3, n_jobs=-1, scoring='f1')\n",
    "grid_lr.fit(tf_idf_train, y_train)\n",
    "# фиксируем время\n",
    "stop = time.time()"
   ]
  },
  {
   "cell_type": "code",
   "execution_count": 27,
   "metadata": {},
   "outputs": [
    {
     "name": "stdout",
     "output_type": "stream",
     "text": [
      "LogisticRegression для подбора параметров требует 8.72 минут\n",
      "Лучшие параметры модели {'C': 10, 'penalty': 'l2'}\n",
      "F1 0.7680179167583226\n"
     ]
    }
   ],
   "source": [
    "print('LogisticRegression для подбора параметров требует', round((stop - start)/60, 2), 'минут')\n",
    "print(f'Лучшие параметры модели {grid_lr.best_params_}')\n",
    "print('F1', abs(grid_lr.best_score_))"
   ]
  },
  {
   "cell_type": "markdown",
   "metadata": {},
   "source": [
    "### LGBMRegressor"
   ]
  },
  {
   "cell_type": "markdown",
   "metadata": {},
   "source": [
    "<div class=\"alert alert-block alert-info\">\n",
    "<b>LGBMRegressor</b> Считает догло. Запускал код ниже. Оставил лучшие параметры.\n",
    "    \n",
    "\n",
    "    model_LGBM = LGBMClassifier()\n",
    "    grid = {'num_leaves': [3, 7, 10],\n",
    "            'learning_rate': [0.1, 0.03],\n",
    "            'max_depth': [4, 6, 10]\n",
    "    }\n",
    "\n",
    "    grid_LGBM = GridSearchCV(model_LGBM, grid, cv=3, n_jobs=-1, scoring='f1')\n",
    "    grid_LGBM.fit(tf_idf_train, y_train)\n",
    "\n",
    "\n",
    "   \n",
    "    Лучшие параметры модели {'learning_rate': 0.1, 'max_depth': 10, 'num_leaves': 10}\n",
    "    F1 0.6644001463587362\n",
    "</div>"
   ]
  },
  {
   "cell_type": "code",
   "execution_count": 28,
   "metadata": {},
   "outputs": [],
   "source": [
    "# запускаем отсчёт времени\n",
    "start = time.time()\n",
    "# сохдаём модель и запускаем grid_search\n",
    "\n",
    "model_LGBM = LGBMClassifier()\n",
    "grid = {'num_leaves': [10],\n",
    "        'learning_rate': [0.1],\n",
    "        'max_depth': [10]\n",
    "}\n",
    "\n",
    "grid_LGBM = GridSearchCV(model_LGBM, grid, cv=3, n_jobs=-1, scoring='f1')\n",
    "grid_LGBM.fit(tf_idf_train, y_train)\n",
    "# фиксируем время\n",
    "stop = time.time()"
   ]
  },
  {
   "cell_type": "code",
   "execution_count": 29,
   "metadata": {},
   "outputs": [
    {
     "name": "stdout",
     "output_type": "stream",
     "text": [
      "LGBMRegressor для подбора параметров требует 5.22 минут\n",
      "Лучшие параметры модели {'learning_rate': 0.1, 'max_depth': 10, 'num_leaves': 10}\n",
      "F1 0.6830699763449192\n"
     ]
    }
   ],
   "source": [
    "print('LGBMRegressor для подбора параметров требует', round((stop - start)/60, 2), 'минут')\n",
    "print(f'Лучшие параметры модели {grid_LGBM.best_params_}')\n",
    "print('F1', abs(grid_LGBM.best_score_))"
   ]
  },
  {
   "cell_type": "markdown",
   "metadata": {},
   "source": [
    "### KNeighborsClassifier"
   ]
  },
  {
   "cell_type": "markdown",
   "metadata": {},
   "source": [
    "<div class=\"alert alert-block alert-info\">\n",
    "<b>CatBoostClassifier</b> Считает догло. Запускал код ниже, считал 25, результат низкий\n",
    "    \n",
    "\n",
    "    model_KNN = KNeighborsClassifier()\n",
    "    grid = {'n_neighbors': [3],\n",
    "            'p': [1]\n",
    "           }\n",
    "\n",
    "    grid_KNN = GridSearchCV(model_KNN, grid, cv=3, n_jobs=-1, scoring='f1')\n",
    "    grid_KNN.fit(tf_idf_train, y_train)\n",
    "\n",
    "    KNeighborsClassifier для подбора параметров требует 25.61 минут\n",
    "    F1 0.1901840693729362\n",
    "</div>"
   ]
  },
  {
   "cell_type": "markdown",
   "metadata": {},
   "source": [
    "### CatBoostClassifier"
   ]
  },
  {
   "cell_type": "markdown",
   "metadata": {},
   "source": [
    "<div class=\"alert alert-block alert-info\">\n",
    "<b>CatBoostClassifier</b> Считает очень догло. Запускал код ниже, считал около 7 часов. F1 = 0.74\n",
    "    \n",
    "    model_cat = CatBoostClassifier(verbose=100)\n",
    "    grid = {'learning_rate': [0.03, 0.1],\n",
    "            'max_depth': [4, 6, 10],\n",
    "            'l2_leaf_reg': [1, 3, 5, 7]}\n",
    "\n",
    "    grid_cat = GridSearchCV(model_cat, grid, cv=3, n_jobs=-1, scoring='f1')\n",
    "    grid_cat.fit(tf_idf_train, y_train)\n",
    "    \n",
    "    \n",
    "    CatBoostClassifier для подбора параметров требует 429.25 минут\n",
    "    Лучшие параметры модели {'l2_leaf_reg': 1, 'learning_rate': 0.1, 'max_depth': 6}\n",
    "    F1 0.748983782032207\n",
    "</div>"
   ]
  },
  {
   "cell_type": "markdown",
   "metadata": {},
   "source": [
    "## Тестирование"
   ]
  },
  {
   "cell_type": "code",
   "execution_count": 30,
   "metadata": {},
   "outputs": [
    {
     "name": "stdout",
     "output_type": "stream",
     "text": [
      "для обучения требуется 0.6 минут\n",
      "F1 на тестовой выборке = 0.7814004677397166\n"
     ]
    }
   ],
   "source": [
    "mod = LogisticRegression(C=10, penalty='l2')\n",
    "start = time.time()\n",
    "mod.fit(tf_idf_train, y_train)\n",
    "stop = time.time()\n",
    "print('для обучения требуется', round((stop - start)/60, 2), 'минут')\n",
    "\n",
    "f1_test = f1_score(y_test, mod.predict(tf_idf_test))\n",
    "print('F1 на тестовой выборке =', f1_test)"
   ]
  },
  {
   "cell_type": "markdown",
   "metadata": {},
   "source": [
    "Проверим модель на адекватность."
   ]
  },
  {
   "cell_type": "code",
   "execution_count": 31,
   "metadata": {},
   "outputs": [
    {
     "name": "stdout",
     "output_type": "stream",
     "text": [
      "F1 на константных пердсказаниях = 0.18445827349609065\n"
     ]
    }
   ],
   "source": [
    "const = pd.Series(data=1, index=y_test.index)\n",
    "f1_const = f1_score(y_test, const)\n",
    "print('F1 на константных пердсказаниях =', f1_const)"
   ]
  },
  {
   "cell_type": "markdown",
   "metadata": {},
   "source": [
    "## Выводы\n",
    "\n",
    "Было произведено ознакомление и предобработка данных. Баланс классов 90% - \"0\", 10% - \"1\".\n",
    "\n",
    "Текст был лемматизирован и векторизирован при помощи TF-IDF.\n",
    "\n",
    "Обучены следующие модели\n",
    "\n",
    "**LogisticRegression**\n",
    "\n",
    "    Лучшие параметры модели {'C': 10, 'penalty': 'l2'}\n",
    "    F1 = 0.76\n",
    "\n",
    "**LGBMRegressor**\n",
    "\n",
    "    Лучшие параметры модели {'learning_rate': 0.1, 'max_depth': 10, 'num_leaves': 10}\n",
    "    F1 = 0.68\n",
    "\n",
    "**KNeighborsClassifier**\n",
    "\n",
    "    Для подбора параметров требует 25.61 минут\n",
    "    Лучшие параметры модели {'n_neighbors': 3, 'p': 1}\n",
    "    F1 = 0.19\n",
    "\n",
    "    \n",
    "**CatBoostClassifier**\n",
    "\n",
    "    Для подбора параметров требует более 5 часов\n",
    "    F1 = 0.75\n",
    "\n",
    "\n",
    "Лучше всех показала себя модель **LogisticRegression**\n",
    "\n",
    "    для обучения требуется 0.6 минут\n",
    "    F1 на тестовой выборке = 0.78\n",
    "\n",
    "Модель прошла проверку на адекватность."
   ]
  },
  {
   "cell_type": "markdown",
   "metadata": {},
   "source": [
    "## Чек-лист проверки"
   ]
  },
  {
   "cell_type": "markdown",
   "metadata": {},
   "source": [
    "- [x]  Jupyter Notebook открыт\n",
    "- [x]  Весь код выполняется без ошибок\n",
    "- [x]  Ячейки с кодом расположены в порядке исполнения\n",
    "- [x]  Данные загружены и подготовлены\n",
    "- [x]  Модели обучены\n",
    "- [x]  Значение метрики *F1* не меньше 0.75\n",
    "- [x]  Выводы написаны"
   ]
  }
 ],
 "metadata": {
  "ExecuteTimeLog": [
   {
    "duration": 1751,
    "start_time": "2022-10-03T10:43:37.125Z"
   },
   {
    "duration": 2314,
    "start_time": "2022-10-03T10:43:38.878Z"
   },
   {
    "duration": 45,
    "start_time": "2022-10-03T10:43:41.193Z"
   },
   {
    "duration": 177,
    "start_time": "2022-10-03T10:43:41.240Z"
   },
   {
    "duration": 10,
    "start_time": "2022-10-03T10:43:41.419Z"
   },
   {
    "duration": 108,
    "start_time": "2022-10-03T10:43:41.431Z"
   },
   {
    "duration": 94195,
    "start_time": "2022-10-03T10:43:41.541Z"
   },
   {
    "duration": 5510,
    "start_time": "2022-10-03T10:45:15.738Z"
   },
   {
    "duration": 800,
    "start_time": "2022-10-03T10:45:21.249Z"
   },
   {
    "duration": 3,
    "start_time": "2022-10-03T10:45:22.051Z"
   },
   {
    "duration": 64,
    "start_time": "2022-10-03T10:45:22.056Z"
   },
   {
    "duration": 146,
    "start_time": "2022-10-03T10:45:22.122Z"
   },
   {
    "duration": 6322,
    "start_time": "2022-10-03T10:45:22.269Z"
   },
   {
    "duration": 3,
    "start_time": "2022-10-03T10:45:28.592Z"
   },
   {
    "duration": 546221,
    "start_time": "2022-10-03T10:45:28.596Z"
   },
   {
    "duration": 93,
    "start_time": "2022-10-03T10:54:34.819Z"
   },
   {
    "duration": 1283,
    "start_time": "2022-10-04T08:17:11.535Z"
   },
   {
    "duration": 682,
    "start_time": "2022-10-04T08:18:07.013Z"
   },
   {
    "duration": 130,
    "start_time": "2022-10-04T09:23:43.097Z"
   },
   {
    "duration": 5,
    "start_time": "2022-10-04T09:23:54.510Z"
   },
   {
    "duration": 2236,
    "start_time": "2022-10-04T09:23:56.096Z"
   },
   {
    "duration": 4,
    "start_time": "2022-10-04T09:24:06.759Z"
   },
   {
    "duration": 840,
    "start_time": "2022-10-04T09:24:06.765Z"
   },
   {
    "duration": 32,
    "start_time": "2022-10-04T09:24:07.606Z"
   },
   {
    "duration": 183,
    "start_time": "2022-10-04T09:24:07.639Z"
   },
   {
    "duration": 9,
    "start_time": "2022-10-04T09:24:07.824Z"
   },
   {
    "duration": 98,
    "start_time": "2022-10-04T09:24:07.834Z"
   },
   {
    "duration": 1241,
    "start_time": "2022-10-04T09:24:07.934Z"
   },
   {
    "duration": 4,
    "start_time": "2022-10-04T09:24:09.177Z"
   },
   {
    "duration": 6,
    "start_time": "2022-10-04T09:24:25.640Z"
   },
   {
    "duration": 4,
    "start_time": "2022-10-04T10:19:47.237Z"
   },
   {
    "duration": 50,
    "start_time": "2022-10-04T10:20:18.498Z"
   },
   {
    "duration": 89702,
    "start_time": "2022-10-04T10:21:01.486Z"
   },
   {
    "duration": 86166,
    "start_time": "2022-10-04T10:23:19.865Z"
   },
   {
    "duration": 64,
    "start_time": "2022-10-04T10:27:09.714Z"
   },
   {
    "duration": 1602,
    "start_time": "2022-10-04T10:27:26.965Z"
   },
   {
    "duration": 2267,
    "start_time": "2022-10-04T10:27:28.569Z"
   },
   {
    "duration": 32,
    "start_time": "2022-10-04T10:27:30.837Z"
   },
   {
    "duration": 160,
    "start_time": "2022-10-04T10:27:30.870Z"
   },
   {
    "duration": 11,
    "start_time": "2022-10-04T10:27:31.033Z"
   },
   {
    "duration": 103,
    "start_time": "2022-10-04T10:27:31.045Z"
   },
   {
    "duration": 1511,
    "start_time": "2022-10-04T10:27:46.740Z"
   },
   {
    "duration": 772,
    "start_time": "2022-10-04T10:27:48.253Z"
   },
   {
    "duration": 28,
    "start_time": "2022-10-04T10:27:49.026Z"
   },
   {
    "duration": 171,
    "start_time": "2022-10-04T10:27:49.056Z"
   },
   {
    "duration": 10,
    "start_time": "2022-10-04T10:27:49.228Z"
   },
   {
    "duration": 112,
    "start_time": "2022-10-04T10:27:49.240Z"
   },
   {
    "duration": 86724,
    "start_time": "2022-10-04T10:27:49.353Z"
   },
   {
    "duration": 1678,
    "start_time": "2022-10-04T10:30:43.168Z"
   },
   {
    "duration": 2331,
    "start_time": "2022-10-04T10:30:44.848Z"
   },
   {
    "duration": 32,
    "start_time": "2022-10-04T10:30:47.180Z"
   },
   {
    "duration": 170,
    "start_time": "2022-10-04T10:30:47.214Z"
   },
   {
    "duration": 10,
    "start_time": "2022-10-04T10:30:47.385Z"
   },
   {
    "duration": 97,
    "start_time": "2022-10-04T10:30:47.397Z"
   },
   {
    "duration": 87364,
    "start_time": "2022-10-04T10:30:47.496Z"
   },
   {
    "duration": 70,
    "start_time": "2022-10-04T10:33:59.489Z"
   },
   {
    "duration": 961,
    "start_time": "2022-10-04T10:35:00.108Z"
   },
   {
    "duration": 4,
    "start_time": "2022-10-04T10:35:24.650Z"
   },
   {
    "duration": 782,
    "start_time": "2022-10-04T10:35:24.656Z"
   },
   {
    "duration": 24,
    "start_time": "2022-10-04T10:35:25.439Z"
   },
   {
    "duration": 166,
    "start_time": "2022-10-04T10:35:25.465Z"
   },
   {
    "duration": 11,
    "start_time": "2022-10-04T10:35:25.633Z"
   },
   {
    "duration": 93,
    "start_time": "2022-10-04T10:35:25.645Z"
   },
   {
    "duration": 88121,
    "start_time": "2022-10-04T10:35:25.739Z"
   },
   {
    "duration": 200,
    "start_time": "2022-10-04T10:38:21.422Z"
   },
   {
    "duration": 4,
    "start_time": "2022-10-04T10:38:30.123Z"
   },
   {
    "duration": 764,
    "start_time": "2022-10-04T10:38:30.130Z"
   },
   {
    "duration": 24,
    "start_time": "2022-10-04T10:38:30.895Z"
   },
   {
    "duration": 181,
    "start_time": "2022-10-04T10:38:30.920Z"
   },
   {
    "duration": 10,
    "start_time": "2022-10-04T10:38:31.103Z"
   },
   {
    "duration": 130,
    "start_time": "2022-10-04T10:38:31.114Z"
   },
   {
    "duration": 87087,
    "start_time": "2022-10-04T10:38:31.246Z"
   },
   {
    "duration": 9,
    "start_time": "2022-10-04T10:39:59.814Z"
   },
   {
    "duration": 34,
    "start_time": "2022-10-04T10:40:21.628Z"
   },
   {
    "duration": 214,
    "start_time": "2022-10-04T10:40:28.786Z"
   },
   {
    "duration": 248,
    "start_time": "2022-10-04T10:42:20.485Z"
   },
   {
    "duration": 1529,
    "start_time": "2022-10-04T10:42:38.953Z"
   },
   {
    "duration": 794,
    "start_time": "2022-10-04T10:42:40.484Z"
   },
   {
    "duration": 36,
    "start_time": "2022-10-04T10:42:41.280Z"
   },
   {
    "duration": 174,
    "start_time": "2022-10-04T10:42:41.318Z"
   },
   {
    "duration": 16,
    "start_time": "2022-10-04T10:42:41.494Z"
   },
   {
    "duration": 106,
    "start_time": "2022-10-04T10:42:41.512Z"
   },
   {
    "duration": 1701,
    "start_time": "2022-10-04T10:42:41.620Z"
   },
   {
    "duration": 86873,
    "start_time": "2022-10-04T10:43:01.969Z"
   },
   {
    "duration": 1221,
    "start_time": "2022-10-04T10:44:28.844Z"
   },
   {
    "duration": 161624,
    "start_time": "2022-10-04T10:45:50.950Z"
   },
   {
    "duration": 6,
    "start_time": "2022-10-04T10:48:32.576Z"
   },
   {
    "duration": 3105,
    "start_time": "2022-10-04T10:48:54.434Z"
   },
   {
    "duration": 5508,
    "start_time": "2022-10-04T10:49:31.504Z"
   },
   {
    "duration": 4,
    "start_time": "2022-10-04T10:50:50.561Z"
   },
   {
    "duration": 731,
    "start_time": "2022-10-04T10:50:50.568Z"
   },
   {
    "duration": 32,
    "start_time": "2022-10-04T10:50:51.300Z"
   },
   {
    "duration": 146,
    "start_time": "2022-10-04T10:50:51.334Z"
   },
   {
    "duration": 10,
    "start_time": "2022-10-04T10:50:51.483Z"
   },
   {
    "duration": 98,
    "start_time": "2022-10-04T10:50:51.495Z"
   },
   {
    "duration": 87207,
    "start_time": "2022-10-04T10:50:51.596Z"
   },
   {
    "duration": 1739,
    "start_time": "2022-10-04T10:52:18.805Z"
   },
   {
    "duration": 1561,
    "start_time": "2022-10-04T10:53:21.761Z"
   },
   {
    "duration": 849,
    "start_time": "2022-10-04T10:53:23.324Z"
   },
   {
    "duration": 43,
    "start_time": "2022-10-04T10:53:24.175Z"
   },
   {
    "duration": 247,
    "start_time": "2022-10-04T10:53:24.220Z"
   },
   {
    "duration": 14,
    "start_time": "2022-10-04T10:53:24.470Z"
   },
   {
    "duration": 127,
    "start_time": "2022-10-04T10:53:24.487Z"
   },
   {
    "duration": 88808,
    "start_time": "2022-10-04T10:53:24.617Z"
   },
   {
    "duration": 0,
    "start_time": "2022-10-04T10:54:55.815Z"
   },
   {
    "duration": 258,
    "start_time": "2022-10-04T10:56:32.617Z"
   },
   {
    "duration": 4,
    "start_time": "2022-10-04T10:59:15.050Z"
   },
   {
    "duration": 320,
    "start_time": "2022-10-04T10:59:29.438Z"
   },
   {
    "duration": 366,
    "start_time": "2022-10-04T11:00:09.055Z"
   },
   {
    "duration": 14,
    "start_time": "2022-10-04T11:00:27.122Z"
   },
   {
    "duration": 795,
    "start_time": "2022-10-04T11:00:27.137Z"
   },
   {
    "duration": 26,
    "start_time": "2022-10-04T11:00:27.933Z"
   },
   {
    "duration": 164,
    "start_time": "2022-10-04T11:00:27.961Z"
   },
   {
    "duration": 11,
    "start_time": "2022-10-04T11:00:28.126Z"
   },
   {
    "duration": 104,
    "start_time": "2022-10-04T11:00:28.138Z"
   },
   {
    "duration": 89479,
    "start_time": "2022-10-04T11:00:28.244Z"
   },
   {
    "duration": 4,
    "start_time": "2022-10-04T11:02:24.121Z"
   },
   {
    "duration": 4,
    "start_time": "2022-10-04T11:02:49.748Z"
   },
   {
    "duration": 5,
    "start_time": "2022-10-04T11:03:07.156Z"
   },
   {
    "duration": 4,
    "start_time": "2022-10-04T11:03:41.700Z"
   },
   {
    "duration": 835,
    "start_time": "2022-10-04T11:03:41.706Z"
   },
   {
    "duration": 29,
    "start_time": "2022-10-04T11:03:42.543Z"
   },
   {
    "duration": 154,
    "start_time": "2022-10-04T11:03:42.574Z"
   },
   {
    "duration": 12,
    "start_time": "2022-10-04T11:03:42.730Z"
   },
   {
    "duration": 101,
    "start_time": "2022-10-04T11:03:42.744Z"
   },
   {
    "duration": 1561,
    "start_time": "2022-10-04T11:04:31.501Z"
   },
   {
    "duration": 805,
    "start_time": "2022-10-04T11:04:33.064Z"
   },
   {
    "duration": 39,
    "start_time": "2022-10-04T11:04:33.870Z"
   },
   {
    "duration": 163,
    "start_time": "2022-10-04T11:04:33.910Z"
   },
   {
    "duration": 11,
    "start_time": "2022-10-04T11:04:34.075Z"
   },
   {
    "duration": 97,
    "start_time": "2022-10-04T11:04:34.087Z"
   },
   {
    "duration": 91490,
    "start_time": "2022-10-04T11:04:34.185Z"
   },
   {
    "duration": 1844,
    "start_time": "2022-10-04T11:06:05.677Z"
   },
   {
    "duration": 14,
    "start_time": "2022-10-04T11:07:38.112Z"
   },
   {
    "duration": 319,
    "start_time": "2022-10-04T11:09:07.102Z"
   },
   {
    "duration": 249,
    "start_time": "2022-10-04T11:11:10.070Z"
   },
   {
    "duration": 314,
    "start_time": "2022-10-04T11:12:24.855Z"
   },
   {
    "duration": 17,
    "start_time": "2022-10-04T11:12:36.561Z"
   },
   {
    "duration": 819,
    "start_time": "2022-10-04T11:12:36.580Z"
   },
   {
    "duration": 41,
    "start_time": "2022-10-04T11:12:37.401Z"
   },
   {
    "duration": 155,
    "start_time": "2022-10-04T11:12:37.444Z"
   },
   {
    "duration": 20,
    "start_time": "2022-10-04T11:12:37.601Z"
   },
   {
    "duration": 97,
    "start_time": "2022-10-04T11:12:37.623Z"
   },
   {
    "duration": 91610,
    "start_time": "2022-10-04T11:12:37.722Z"
   },
   {
    "duration": 527,
    "start_time": "2022-10-04T11:14:09.334Z"
   },
   {
    "duration": 665,
    "start_time": "2022-10-04T11:15:46.717Z"
   },
   {
    "duration": 1652,
    "start_time": "2022-10-04T11:20:43.119Z"
   },
   {
    "duration": 812,
    "start_time": "2022-10-04T11:20:44.773Z"
   },
   {
    "duration": 52,
    "start_time": "2022-10-04T11:20:45.586Z"
   },
   {
    "duration": 162,
    "start_time": "2022-10-04T11:20:45.640Z"
   },
   {
    "duration": 15,
    "start_time": "2022-10-04T11:20:45.803Z"
   },
   {
    "duration": 101,
    "start_time": "2022-10-04T11:20:45.819Z"
   },
   {
    "duration": 126842,
    "start_time": "2022-10-04T11:20:48.143Z"
   },
   {
    "duration": 474,
    "start_time": "2022-10-04T11:23:53.220Z"
   },
   {
    "duration": 9,
    "start_time": "2022-10-04T11:24:00.319Z"
   },
   {
    "duration": 4,
    "start_time": "2022-10-04T11:24:31.778Z"
   },
   {
    "duration": 812,
    "start_time": "2022-10-04T11:24:31.784Z"
   },
   {
    "duration": 31,
    "start_time": "2022-10-04T11:24:32.597Z"
   },
   {
    "duration": 161,
    "start_time": "2022-10-04T11:24:32.629Z"
   },
   {
    "duration": 21,
    "start_time": "2022-10-04T11:24:32.792Z"
   },
   {
    "duration": 110,
    "start_time": "2022-10-04T11:24:32.814Z"
   },
   {
    "duration": 216,
    "start_time": "2022-10-04T11:25:30.920Z"
   },
   {
    "duration": 10,
    "start_time": "2022-10-04T11:26:12.237Z"
   },
   {
    "duration": 847,
    "start_time": "2022-10-04T11:26:12.251Z"
   },
   {
    "duration": 28,
    "start_time": "2022-10-04T11:26:13.099Z"
   },
   {
    "duration": 148,
    "start_time": "2022-10-04T11:26:13.129Z"
   },
   {
    "duration": 12,
    "start_time": "2022-10-04T11:26:13.280Z"
   },
   {
    "duration": 96,
    "start_time": "2022-10-04T11:26:13.293Z"
   },
   {
    "duration": 505,
    "start_time": "2022-10-04T11:26:33.264Z"
   },
   {
    "duration": 463,
    "start_time": "2022-10-04T11:27:14.777Z"
   },
   {
    "duration": 11525,
    "start_time": "2022-10-04T11:29:47.760Z"
   },
   {
    "duration": 5,
    "start_time": "2022-10-04T11:30:26.147Z"
   },
   {
    "duration": 2,
    "start_time": "2022-10-04T11:30:46.026Z"
   },
   {
    "duration": 3190,
    "start_time": "2022-10-04T11:31:25.102Z"
   },
   {
    "duration": 8,
    "start_time": "2022-10-04T11:32:04.921Z"
   },
   {
    "duration": 262,
    "start_time": "2022-10-04T11:32:42.684Z"
   },
   {
    "duration": 6,
    "start_time": "2022-10-04T11:33:14.390Z"
   },
   {
    "duration": 885,
    "start_time": "2022-10-04T11:33:14.398Z"
   },
   {
    "duration": 37,
    "start_time": "2022-10-04T11:33:15.286Z"
   },
   {
    "duration": 150,
    "start_time": "2022-10-04T11:33:15.325Z"
   },
   {
    "duration": 10,
    "start_time": "2022-10-04T11:33:15.477Z"
   },
   {
    "duration": 101,
    "start_time": "2022-10-04T11:33:15.489Z"
   },
   {
    "duration": 9321,
    "start_time": "2022-10-04T11:33:15.591Z"
   },
   {
    "duration": 70,
    "start_time": "2022-10-04T11:33:24.914Z"
   },
   {
    "duration": 60,
    "start_time": "2022-10-04T11:34:17.032Z"
   },
   {
    "duration": 17,
    "start_time": "2022-10-04T11:36:11.830Z"
   },
   {
    "duration": 685,
    "start_time": "2022-10-04T11:37:19.805Z"
   },
   {
    "duration": 431,
    "start_time": "2022-10-04T11:38:28.019Z"
   },
   {
    "duration": 418,
    "start_time": "2022-10-04T11:38:52.340Z"
   },
   {
    "duration": 481,
    "start_time": "2022-10-04T11:39:03.727Z"
   },
   {
    "duration": 2,
    "start_time": "2022-10-04T11:39:25.190Z"
   },
   {
    "duration": 4,
    "start_time": "2022-10-04T11:42:29.012Z"
   },
   {
    "duration": 814,
    "start_time": "2022-10-04T11:42:29.018Z"
   },
   {
    "duration": 30,
    "start_time": "2022-10-04T11:42:29.834Z"
   },
   {
    "duration": 155,
    "start_time": "2022-10-04T11:42:29.866Z"
   },
   {
    "duration": 11,
    "start_time": "2022-10-04T11:42:30.023Z"
   },
   {
    "duration": 104,
    "start_time": "2022-10-04T11:42:30.036Z"
   },
   {
    "duration": 2,
    "start_time": "2022-10-04T11:42:30.142Z"
   },
   {
    "duration": 3956,
    "start_time": "2022-10-04T11:52:29.210Z"
   },
   {
    "duration": 813,
    "start_time": "2022-10-04T11:52:33.168Z"
   },
   {
    "duration": 38,
    "start_time": "2022-10-04T11:52:33.982Z"
   },
   {
    "duration": 173,
    "start_time": "2022-10-04T11:52:34.021Z"
   },
   {
    "duration": 15,
    "start_time": "2022-10-04T11:52:34.196Z"
   },
   {
    "duration": 86,
    "start_time": "2022-10-04T11:52:34.212Z"
   },
   {
    "duration": 296,
    "start_time": "2022-10-04T11:52:34.300Z"
   },
   {
    "duration": 3084,
    "start_time": "2022-10-04T11:52:34.598Z"
   },
   {
    "duration": 1863450,
    "start_time": "2022-10-04T11:53:01.393Z"
   },
   {
    "duration": 0,
    "start_time": "2022-10-04T12:24:04.845Z"
   },
   {
    "duration": 2,
    "start_time": "2022-10-04T12:24:42.187Z"
   },
   {
    "duration": 6,
    "start_time": "2022-10-04T12:24:42.196Z"
   },
   {
    "duration": 882,
    "start_time": "2022-10-04T12:24:42.203Z"
   },
   {
    "duration": 31,
    "start_time": "2022-10-04T12:24:43.086Z"
   },
   {
    "duration": 194,
    "start_time": "2022-10-04T12:24:43.118Z"
   },
   {
    "duration": 16,
    "start_time": "2022-10-04T12:24:43.315Z"
   },
   {
    "duration": 118,
    "start_time": "2022-10-04T12:24:43.333Z"
   },
   {
    "duration": 322,
    "start_time": "2022-10-04T12:24:43.453Z"
   },
   {
    "duration": 3416,
    "start_time": "2022-10-04T12:24:43.777Z"
   },
   {
    "duration": 212114,
    "start_time": "2022-10-04T12:24:47.195Z"
   },
   {
    "duration": 11,
    "start_time": "2022-10-04T12:28:19.311Z"
   },
   {
    "duration": 817,
    "start_time": "2022-10-04T14:20:02.139Z"
   },
   {
    "duration": 3,
    "start_time": "2022-10-04T14:23:15.259Z"
   },
   {
    "duration": 4625,
    "start_time": "2022-10-04T14:23:15.264Z"
   },
   {
    "duration": 834,
    "start_time": "2022-10-04T14:23:19.891Z"
   },
   {
    "duration": 35,
    "start_time": "2022-10-04T14:23:20.726Z"
   },
   {
    "duration": 176,
    "start_time": "2022-10-04T14:23:20.764Z"
   },
   {
    "duration": 11,
    "start_time": "2022-10-04T14:23:20.942Z"
   },
   {
    "duration": 105,
    "start_time": "2022-10-04T14:23:20.955Z"
   },
   {
    "duration": 249,
    "start_time": "2022-10-04T14:23:21.061Z"
   },
   {
    "duration": 2968,
    "start_time": "2022-10-04T14:23:21.312Z"
   },
   {
    "duration": 2988188,
    "start_time": "2022-10-04T14:23:24.282Z"
   },
   {
    "duration": 3,
    "start_time": "2022-10-04T15:13:12.472Z"
   },
   {
    "duration": 783,
    "start_time": "2022-10-04T15:13:12.477Z"
   },
   {
    "duration": 4,
    "start_time": "2022-10-04T15:13:13.263Z"
   },
   {
    "duration": 65,
    "start_time": "2022-10-04T15:13:13.268Z"
   },
   {
    "duration": 131,
    "start_time": "2022-10-04T15:13:13.335Z"
   },
   {
    "duration": 6286,
    "start_time": "2022-10-04T15:13:13.467Z"
   },
   {
    "duration": 357,
    "start_time": "2022-10-04T15:13:19.755Z"
   },
   {
    "duration": 0,
    "start_time": "2022-10-04T15:13:20.113Z"
   },
   {
    "duration": 18,
    "start_time": "2022-10-04T15:41:47.598Z"
   },
   {
    "duration": 19,
    "start_time": "2022-10-04T15:42:19.530Z"
   },
   {
    "duration": 18,
    "start_time": "2022-10-04T15:43:04.160Z"
   },
   {
    "duration": 21,
    "start_time": "2022-10-04T15:43:27.973Z"
   },
   {
    "duration": 45,
    "start_time": "2022-10-04T15:45:02.547Z"
   },
   {
    "duration": 16,
    "start_time": "2022-10-04T15:45:52.692Z"
   },
   {
    "duration": 4,
    "start_time": "2022-10-04T15:46:15.745Z"
   },
   {
    "duration": 43,
    "start_time": "2022-10-04T15:46:39.655Z"
   },
   {
    "duration": 523479,
    "start_time": "2022-10-04T15:47:29.832Z"
   },
   {
    "duration": 6,
    "start_time": "2022-10-04T15:56:13.313Z"
   },
   {
    "duration": 312916,
    "start_time": "2022-10-04T15:57:04.100Z"
   },
   {
    "duration": 4,
    "start_time": "2022-10-04T16:02:17.018Z"
   },
   {
    "duration": 36193,
    "start_time": "2022-10-04T16:02:17.024Z"
   },
   {
    "duration": 13,
    "start_time": "2022-10-04T16:02:53.220Z"
   }
  ],
  "kernelspec": {
   "display_name": "Python 3 (ipykernel)",
   "language": "python",
   "name": "python3"
  },
  "language_info": {
   "codemirror_mode": {
    "name": "ipython",
    "version": 3
   },
   "file_extension": ".py",
   "mimetype": "text/x-python",
   "name": "python",
   "nbconvert_exporter": "python",
   "pygments_lexer": "ipython3",
   "version": "3.9.7"
  },
  "toc": {
   "base_numbering": 1,
   "nav_menu": {},
   "number_sections": true,
   "sideBar": true,
   "skip_h1_title": true,
   "title_cell": "Содержание",
   "title_sidebar": "Contents",
   "toc_cell": true,
   "toc_position": {
    "height": "calc(100% - 180px)",
    "left": "10px",
    "top": "150px",
    "width": "302.391px"
   },
   "toc_section_display": true,
   "toc_window_display": true
  }
 },
 "nbformat": 4,
 "nbformat_minor": 2
}
