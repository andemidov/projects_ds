{
 "cells": [
  {
   "cell_type": "markdown",
   "metadata": {
    "toc": true
   },
   "source": [
    "<h1>Содержание<span class=\"tocSkip\"></span></h1>\n",
    "<div class=\"toc\"><ul class=\"toc-item\"><li><span><a href=\"#Загрузка-данных\" data-toc-modified-id=\"Загрузка-данных-1\"><span class=\"toc-item-num\">1&nbsp;&nbsp;</span>Загрузка данных</a></span><ul class=\"toc-item\"><li><span><a href=\"#Пол\" data-toc-modified-id=\"Пол-1.1\"><span class=\"toc-item-num\">1.1&nbsp;&nbsp;</span>Пол</a></span></li><li><span><a href=\"#Возраст\" data-toc-modified-id=\"Возраст-1.2\"><span class=\"toc-item-num\">1.2&nbsp;&nbsp;</span>Возраст</a></span></li><li><span><a href=\"#Зарплата\" data-toc-modified-id=\"Зарплата-1.3\"><span class=\"toc-item-num\">1.3&nbsp;&nbsp;</span>Зарплата</a></span></li><li><span><a href=\"#Количество-членов-семьи\" data-toc-modified-id=\"Количество-членов-семьи-1.4\"><span class=\"toc-item-num\">1.4&nbsp;&nbsp;</span>Количество членов семьи</a></span></li><li><span><a href=\"#Страховая-выплата\" data-toc-modified-id=\"Страховая-выплата-1.5\"><span class=\"toc-item-num\">1.5&nbsp;&nbsp;</span>Страховая выплата</a></span></li></ul></li><li><span><a href=\"#Умножение-матриц\" data-toc-modified-id=\"Умножение-матриц-2\"><span class=\"toc-item-num\">2&nbsp;&nbsp;</span>Умножение матриц</a></span></li><li><span><a href=\"#Алгоритм-преобразования\" data-toc-modified-id=\"Алгоритм-преобразования-3\"><span class=\"toc-item-num\">3&nbsp;&nbsp;</span>Алгоритм преобразования</a></span></li><li><span><a href=\"#Проверка-алгоритма\" data-toc-modified-id=\"Проверка-алгоритма-4\"><span class=\"toc-item-num\">4&nbsp;&nbsp;</span>Проверка алгоритма</a></span></li><li><span><a href=\"#Чек-лист-проверки\" data-toc-modified-id=\"Чек-лист-проверки-5\"><span class=\"toc-item-num\">5&nbsp;&nbsp;</span>Чек-лист проверки</a></span></li><li><span><a href=\"#Финальные-комментарии-ревьюера\" data-toc-modified-id=\"Финальные-комментарии-ревьюера-6\"><span class=\"toc-item-num\">6&nbsp;&nbsp;</span>Финальные комментарии ревьюера</a></span></li></ul></div>"
   ]
  },
  {
   "cell_type": "markdown",
   "id": "5e302184",
   "metadata": {},
   "source": [
    "# Защита персональных данных клиентов"
   ]
  },
  {
   "cell_type": "markdown",
   "id": "cd20520f",
   "metadata": {},
   "source": [
    "**Описание целей и задачи проекта**\n",
    "\n",
    "Страховая компании «Хоть потоп» хочет защитить данные своих клиентов. Необходимо разработать метод преобразования данных, чтобы по ним было сложно восстановить персональную информацию. Нужно защитить данные, чтобы при преобразовании качество моделей машинного обучения не ухудшилось. Обосновать корректность выбора.\n",
    "\n",
    "**Описание данных**\n",
    "\n",
    "Файл с данными содержит таблицуб каждая строка содержит информацию о клиенте:\n",
    "\n",
    "- Пол\n",
    "- Возраст\n",
    "- Зарплата\n",
    "- Члены семьи (количество членов семьи)\n",
    "- Страховые выплаты\n",
    "\n",
    "Пол, возраст и зарплата застрахованного, количество членов его семьи - **Признаки**\n",
    "\n",
    "Количество страховых выплат клиенту за последние 5 лет - **Целевой признак**\n",
    "\n",
    "**План работы**\n",
    "\n",
    "- Загрузить данные и познакомиться с данными \n",
    "- Сделать предобработку данных\n",
    "- Ответьте на вопрос и обоснуйте решение: \"Признаки умножают на обратимую матрицу. Изменится ли качество линейной регрессии?\"\n",
    "- Предложить алгоритм преобразования данных для решения задачи. Обосновать, почему качество линейной регрессии не поменяется.\n",
    "- Запрограммировать этот алгоритм, применив матричные операции. Проверить, отличается ли качество линейной регрессии из sklearn до и после преобразования. Измерить метрику R2 в обоих случаях."
   ]
  },
  {
   "cell_type": "markdown",
   "id": "f552d807",
   "metadata": {},
   "source": [
    "## Загрузка данных"
   ]
  },
  {
   "cell_type": "code",
   "execution_count": 1,
   "id": "e275213d",
   "metadata": {},
   "outputs": [],
   "source": [
    "# библиотеки\n",
    "import os\n",
    "import numpy as np\n",
    "import pandas as pd\n",
    "import seaborn as sb\n",
    "import matplotlib.pyplot as plt\n",
    "from sklearn.metrics import r2_score\n",
    "from sklearn.linear_model import LinearRegression\n",
    "from sklearn.model_selection import train_test_split"
   ]
  },
  {
   "cell_type": "code",
   "execution_count": 2,
   "id": "3840f994",
   "metadata": {},
   "outputs": [],
   "source": [
    "# путь к файлу\n",
    "pth1 = '/datasets/insurance.csv'\n",
    "pth2 = '/Users/refresh/Downloads/insurance.csv'\n",
    "\n",
    "# открытие файла\n",
    "if os.path.exists(pth1):\n",
    "    dt = pd.read_csv(pth1)\n",
    "elif os.path.exists(pth2):\n",
    "    dt = pd.read_csv(pth2)\n",
    "else:\n",
    "    print('Что-то пошло не так')"
   ]
  },
  {
   "cell_type": "code",
   "execution_count": 3,
   "id": "86e44ca9",
   "metadata": {},
   "outputs": [
    {
     "data": {
      "text/html": [
       "<div>\n",
       "<style scoped>\n",
       "    .dataframe tbody tr th:only-of-type {\n",
       "        vertical-align: middle;\n",
       "    }\n",
       "\n",
       "    .dataframe tbody tr th {\n",
       "        vertical-align: top;\n",
       "    }\n",
       "\n",
       "    .dataframe thead th {\n",
       "        text-align: right;\n",
       "    }\n",
       "</style>\n",
       "<table border=\"1\" class=\"dataframe\">\n",
       "  <thead>\n",
       "    <tr style=\"text-align: right;\">\n",
       "      <th></th>\n",
       "      <th>Пол</th>\n",
       "      <th>Возраст</th>\n",
       "      <th>Зарплата</th>\n",
       "      <th>Члены семьи</th>\n",
       "      <th>Страховые выплаты</th>\n",
       "    </tr>\n",
       "  </thead>\n",
       "  <tbody>\n",
       "    <tr>\n",
       "      <th>1774</th>\n",
       "      <td>1</td>\n",
       "      <td>26.0</td>\n",
       "      <td>26200.0</td>\n",
       "      <td>0</td>\n",
       "      <td>0</td>\n",
       "    </tr>\n",
       "    <tr>\n",
       "      <th>4683</th>\n",
       "      <td>0</td>\n",
       "      <td>18.0</td>\n",
       "      <td>47000.0</td>\n",
       "      <td>0</td>\n",
       "      <td>0</td>\n",
       "    </tr>\n",
       "    <tr>\n",
       "      <th>3278</th>\n",
       "      <td>0</td>\n",
       "      <td>41.0</td>\n",
       "      <td>48500.0</td>\n",
       "      <td>1</td>\n",
       "      <td>0</td>\n",
       "    </tr>\n",
       "    <tr>\n",
       "      <th>1091</th>\n",
       "      <td>1</td>\n",
       "      <td>41.0</td>\n",
       "      <td>34000.0</td>\n",
       "      <td>1</td>\n",
       "      <td>0</td>\n",
       "    </tr>\n",
       "    <tr>\n",
       "      <th>609</th>\n",
       "      <td>0</td>\n",
       "      <td>19.0</td>\n",
       "      <td>45900.0</td>\n",
       "      <td>1</td>\n",
       "      <td>0</td>\n",
       "    </tr>\n",
       "  </tbody>\n",
       "</table>\n",
       "</div>"
      ],
      "text/plain": [
       "      Пол  Возраст  Зарплата  Члены семьи  Страховые выплаты\n",
       "1774    1     26.0   26200.0            0                  0\n",
       "4683    0     18.0   47000.0            0                  0\n",
       "3278    0     41.0   48500.0            1                  0\n",
       "1091    1     41.0   34000.0            1                  0\n",
       "609     0     19.0   45900.0            1                  0"
      ]
     },
     "metadata": {},
     "output_type": "display_data"
    },
    {
     "name": "stdout",
     "output_type": "stream",
     "text": [
      "<class 'pandas.core.frame.DataFrame'>\n",
      "RangeIndex: 5000 entries, 0 to 4999\n",
      "Data columns (total 5 columns):\n",
      " #   Column             Non-Null Count  Dtype  \n",
      "---  ------             --------------  -----  \n",
      " 0   Пол                5000 non-null   int64  \n",
      " 1   Возраст            5000 non-null   float64\n",
      " 2   Зарплата           5000 non-null   float64\n",
      " 3   Члены семьи        5000 non-null   int64  \n",
      " 4   Страховые выплаты  5000 non-null   int64  \n",
      "dtypes: float64(2), int64(3)\n",
      "memory usage: 195.4 KB\n"
     ]
    }
   ],
   "source": [
    "# смотри информацию\n",
    "display(dt.sample(5))\n",
    "dt.info()"
   ]
  },
  {
   "cell_type": "markdown",
   "id": "8f6768d7",
   "metadata": {},
   "source": [
    "Заголовки переведём на английский и понизим регистр, уберём пробелы. Так же можно все данные привести к целочисленному типу."
   ]
  },
  {
   "cell_type": "code",
   "execution_count": 4,
   "id": "88de72ab",
   "metadata": {
    "scrolled": false
   },
   "outputs": [
    {
     "name": "stdout",
     "output_type": "stream",
     "text": [
      "<class 'pandas.core.frame.DataFrame'>\n",
      "RangeIndex: 5000 entries, 0 to 4999\n",
      "Data columns (total 5 columns):\n",
      " #   Column          Non-Null Count  Dtype\n",
      "---  ------          --------------  -----\n",
      " 0   gender          5000 non-null   int64\n",
      " 1   age             5000 non-null   int64\n",
      " 2   salary          5000 non-null   int64\n",
      " 3   family_members  5000 non-null   int64\n",
      " 4   payments        5000 non-null   int64\n",
      "dtypes: int64(5)\n",
      "memory usage: 195.4 KB\n"
     ]
    },
    {
     "data": {
      "text/html": [
       "<div>\n",
       "<style scoped>\n",
       "    .dataframe tbody tr th:only-of-type {\n",
       "        vertical-align: middle;\n",
       "    }\n",
       "\n",
       "    .dataframe tbody tr th {\n",
       "        vertical-align: top;\n",
       "    }\n",
       "\n",
       "    .dataframe thead th {\n",
       "        text-align: right;\n",
       "    }\n",
       "</style>\n",
       "<table border=\"1\" class=\"dataframe\">\n",
       "  <thead>\n",
       "    <tr style=\"text-align: right;\">\n",
       "      <th></th>\n",
       "      <th>gender</th>\n",
       "      <th>age</th>\n",
       "      <th>salary</th>\n",
       "      <th>family_members</th>\n",
       "      <th>payments</th>\n",
       "    </tr>\n",
       "  </thead>\n",
       "  <tbody>\n",
       "    <tr>\n",
       "      <th>count</th>\n",
       "      <td>5000.000000</td>\n",
       "      <td>5000.000000</td>\n",
       "      <td>5000.000000</td>\n",
       "      <td>5000.000000</td>\n",
       "      <td>5000.000000</td>\n",
       "    </tr>\n",
       "    <tr>\n",
       "      <th>mean</th>\n",
       "      <td>0.499000</td>\n",
       "      <td>30.952800</td>\n",
       "      <td>39916.359400</td>\n",
       "      <td>1.194200</td>\n",
       "      <td>0.148000</td>\n",
       "    </tr>\n",
       "    <tr>\n",
       "      <th>std</th>\n",
       "      <td>0.500049</td>\n",
       "      <td>8.440807</td>\n",
       "      <td>9900.082063</td>\n",
       "      <td>1.091387</td>\n",
       "      <td>0.463183</td>\n",
       "    </tr>\n",
       "    <tr>\n",
       "      <th>min</th>\n",
       "      <td>0.000000</td>\n",
       "      <td>18.000000</td>\n",
       "      <td>5300.000000</td>\n",
       "      <td>0.000000</td>\n",
       "      <td>0.000000</td>\n",
       "    </tr>\n",
       "    <tr>\n",
       "      <th>25%</th>\n",
       "      <td>0.000000</td>\n",
       "      <td>24.000000</td>\n",
       "      <td>33300.000000</td>\n",
       "      <td>0.000000</td>\n",
       "      <td>0.000000</td>\n",
       "    </tr>\n",
       "    <tr>\n",
       "      <th>50%</th>\n",
       "      <td>0.000000</td>\n",
       "      <td>30.000000</td>\n",
       "      <td>40200.000000</td>\n",
       "      <td>1.000000</td>\n",
       "      <td>0.000000</td>\n",
       "    </tr>\n",
       "    <tr>\n",
       "      <th>75%</th>\n",
       "      <td>1.000000</td>\n",
       "      <td>37.000000</td>\n",
       "      <td>46600.000000</td>\n",
       "      <td>2.000000</td>\n",
       "      <td>0.000000</td>\n",
       "    </tr>\n",
       "    <tr>\n",
       "      <th>max</th>\n",
       "      <td>1.000000</td>\n",
       "      <td>65.000000</td>\n",
       "      <td>79000.000000</td>\n",
       "      <td>6.000000</td>\n",
       "      <td>5.000000</td>\n",
       "    </tr>\n",
       "  </tbody>\n",
       "</table>\n",
       "</div>"
      ],
      "text/plain": [
       "            gender          age        salary  family_members     payments\n",
       "count  5000.000000  5000.000000   5000.000000     5000.000000  5000.000000\n",
       "mean      0.499000    30.952800  39916.359400        1.194200     0.148000\n",
       "std       0.500049     8.440807   9900.082063        1.091387     0.463183\n",
       "min       0.000000    18.000000   5300.000000        0.000000     0.000000\n",
       "25%       0.000000    24.000000  33300.000000        0.000000     0.000000\n",
       "50%       0.000000    30.000000  40200.000000        1.000000     0.000000\n",
       "75%       1.000000    37.000000  46600.000000        2.000000     0.000000\n",
       "max       1.000000    65.000000  79000.000000        6.000000     5.000000"
      ]
     },
     "execution_count": 4,
     "metadata": {},
     "output_type": "execute_result"
    }
   ],
   "source": [
    "# переименование столбцов\n",
    "dt = dt.rename(columns={'Пол': 'gender',\n",
    "                        'Возраст': 'age',\n",
    "                        'Зарплата': 'salary',\n",
    "                        'Члены семьи': 'family_members',\n",
    "                        'Страховые выплаты': 'payments'})\n",
    "# изменение типа данных на целочисленный\n",
    "dt[['age', 'salary']] = dt[['age', 'salary']].astype('int64')\n",
    "# проверка\n",
    "dt.info()\n",
    "dt.describe()"
   ]
  },
  {
   "cell_type": "markdown",
   "id": "6bf1b7ed",
   "metadata": {},
   "source": [
    "Посмотрим данные отдельно:\n",
    "\n",
    "### Пол"
   ]
  },
  {
   "cell_type": "code",
   "execution_count": 5,
   "id": "599bd3c7",
   "metadata": {},
   "outputs": [
    {
     "data": {
      "text/plain": [
       "0    2505\n",
       "1    2495\n",
       "Name: gender, dtype: int64"
      ]
     },
     "execution_count": 5,
     "metadata": {},
     "output_type": "execute_result"
    }
   ],
   "source": [
    "# значения в столбце пола\n",
    "dt['gender'].value_counts()"
   ]
  },
  {
   "cell_type": "markdown",
   "id": "92640fa9",
   "metadata": {},
   "source": [
    "С данными по полу всё в норме.\n",
    "\n",
    "###  Возраст"
   ]
  },
  {
   "cell_type": "code",
   "execution_count": 6,
   "id": "39c4bc2b",
   "metadata": {},
   "outputs": [
    {
     "data": {
      "image/png": "[encoded data removed]",
      "text/plain": [
       "<Figure size 720x720 with 1 Axes>"
      ]
     },
     "metadata": {
      "needs_background": "light"
     },
     "output_type": "display_data"
    }
   ],
   "source": [
    "# занчения в столбце возрастов\n",
    "#dt['age'].value_counts()\n",
    "plt.figure(figsize=(10, 10))\n",
    "dt['age'].hist(bins=100);"
   ]
  },
  {
   "cell_type": "markdown",
   "id": "dac0efd9",
   "metadata": {},
   "source": [
    "Данные возраста выглядят правдоподобно.\n",
    "\n",
    "### Зарплата"
   ]
  },
  {
   "cell_type": "code",
   "execution_count": 7,
   "id": "3ce00951",
   "metadata": {},
   "outputs": [
    {
     "data": {
      "text/plain": [
       "count     5000.000000\n",
       "mean     39916.359400\n",
       "std       9900.082063\n",
       "min       5300.000000\n",
       "25%      33300.000000\n",
       "50%      40200.000000\n",
       "75%      46600.000000\n",
       "max      79000.000000\n",
       "Name: salary, dtype: float64"
      ]
     },
     "metadata": {},
     "output_type": "display_data"
    },
    {
     "data": {
      "text/plain": [
       "<AxesSubplot:>"
      ]
     },
     "metadata": {},
     "output_type": "display_data"
    },
    {
     "data": {
      "image/png": "[encoded data removed]",
      "text/plain": [
       "<Figure size 720x720 with 1 Axes>"
      ]
     },
     "metadata": {
      "needs_background": "light"
     },
     "output_type": "display_data"
    }
   ],
   "source": [
    "# описание и гистограмма данных по зарплате\n",
    "display(dt['salary'].describe())\n",
    "plt.figure(figsize=(10, 10))\n",
    "display(dt['salary'].hist(bins=100));"
   ]
  },
  {
   "cell_type": "code",
   "execution_count": 8,
   "id": "a44f024f",
   "metadata": {},
   "outputs": [
    {
     "data": {
      "text/plain": [
       "26"
      ]
     },
     "execution_count": 8,
     "metadata": {},
     "output_type": "execute_result"
    }
   ],
   "source": [
    "# сколько клиентов получают ниже прожиточного минимума\n",
    "dt.loc[dt['salary'] < 13890, 'salary'].count()"
   ]
  },
  {
   "cell_type": "markdown",
   "id": "bfbbb024",
   "metadata": {},
   "source": [
    "Людей, которые получают ниже прожиточного минимума (= 13890 руб. на август 2022 г.) всего 26. Можно их удалить, но задачи такой нет.\n",
    "\n",
    "### Количество членов семьи"
   ]
  },
  {
   "cell_type": "code",
   "execution_count": 9,
   "id": "f2758ce1",
   "metadata": {},
   "outputs": [
    {
     "data": {
      "text/plain": [
       "1    1814\n",
       "0    1513\n",
       "2    1071\n",
       "3     439\n",
       "4     124\n",
       "5      32\n",
       "6       7\n",
       "Name: family_members, dtype: int64"
      ]
     },
     "execution_count": 9,
     "metadata": {},
     "output_type": "execute_result"
    }
   ],
   "source": [
    "# количество значений в данных о членах семьи\n",
    "dt['family_members'].value_counts()"
   ]
  },
  {
   "cell_type": "markdown",
   "id": "fb9af9cd",
   "metadata": {},
   "source": [
    "По количеству членов семьи данные в порядке.\n",
    "\n",
    "### Страховая выплата"
   ]
  },
  {
   "cell_type": "code",
   "execution_count": 10,
   "id": "c235d6bd",
   "metadata": {},
   "outputs": [
    {
     "data": {
      "text/plain": [
       "0    4436\n",
       "1     423\n",
       "2     115\n",
       "3      18\n",
       "4       7\n",
       "5       1\n",
       "Name: payments, dtype: int64"
      ]
     },
     "execution_count": 10,
     "metadata": {},
     "output_type": "execute_result"
    }
   ],
   "source": [
    "# количество значений по выплатам страховки\n",
    "dt['payments'].value_counts()"
   ]
  },
  {
   "cell_type": "markdown",
   "id": "74471957",
   "metadata": {},
   "source": [
    "Тоже в норме.\n",
    "\n",
    "Проверим дубликаты."
   ]
  },
  {
   "cell_type": "code",
   "execution_count": 11,
   "id": "0e7558d5",
   "metadata": {},
   "outputs": [],
   "source": [
    "# удаляем дубликаты\n",
    "#size_before = dt.shape[0]\n",
    "#dt = dt.drop_duplicates().reset_index(drop=True)\n",
    "#print('Удалено', size_before - dt.shape[0], 'дубликата')"
   ]
  },
  {
   "cell_type": "markdown",
   "id": "7d7fff5b",
   "metadata": {},
   "source": [
    "Посмотрим корреляцию"
   ]
  },
  {
   "cell_type": "code",
   "execution_count": 12,
   "id": "9d80b73a",
   "metadata": {},
   "outputs": [
    {
     "data": {
      "image/png": "[encoded data removed]",
      "text/plain": [
       "<Figure size 720x720 with 2 Axes>"
      ]
     },
     "metadata": {
      "needs_background": "light"
     },
     "output_type": "display_data"
    }
   ],
   "source": [
    "# строим теругольный хитмэп\n",
    "mask = np.tril(dt.corr())\n",
    "plt.figure(figsize=(10, 10))\n",
    "sb.heatmap(dt.corr(), mask=mask, annot = True);"
   ]
  },
  {
   "cell_type": "markdown",
   "id": "f09c8945",
   "metadata": {},
   "source": [
    "**Выводы**\n",
    "\n",
    "- в таблице нет пропусков\n",
    "- заменены названия столбцов\n",
    "- типы данных сделаны целочисленными\n",
    "- данные выглядят правдоподобно\n",
    "- дубликаты удалены\n",
    "- линейных зависимомтей в данных не видно\n",
    "\n",
    "Данные подготовлены к дальнейшей работе."
   ]
  },
  {
   "cell_type": "markdown",
   "id": "09ab3d63",
   "metadata": {},
   "source": [
    "## Умножение матриц"
   ]
  },
  {
   "cell_type": "markdown",
   "id": "16485018",
   "metadata": {},
   "source": [
    "**Обозначения:**\n",
    "\n",
    "- $X$ — матрица признаков (нулевой столбец состоит из единиц)\n",
    "\n",
    "- $y$ — вектор целевого признака\n",
    "\n",
    "- $P$ — матрица, на которую умножаются признаки ($P^1$ - обратная матрица)\n",
    "\n",
    "- $w$ — вектор весов линейной регрессии (нулевой элемент равен сдвигу)\n",
    "\n",
    "- $E$ - единичная матрица \n",
    "\n",
    "Предсказания:\n",
    "\n",
    "$$\n",
    "a = Xw\n",
    "$$\n",
    "\n",
    "Задача обучения:\n",
    "\n",
    "$$\n",
    "w = \\arg\\min_w MSE(Xw, y)\n",
    "$$\n",
    "\n",
    "Формула обучения:\n",
    "\n",
    "$$\n",
    "w = (X^T X)^{-1} X^T y\n",
    "$$\n",
    "\n",
    "**Вопрос:** \n",
    "\n",
    "\n",
    "Признаки умножают на обратимую матрицу. Изменится ли качество линейной регрессии?\n",
    "\n",
    "\n",
    "**Ответ:**\n",
    "\n",
    "\n",
    "Не изменится.\n",
    "\n",
    "\n",
    "**Обоснование:**\n",
    "\n",
    "\n",
    "Домножим признаки на обратимую матрицу.\n",
    "\n",
    "$$\n",
    "a = XPw\n",
    "$$\n",
    "\n",
    "Соответственно\n",
    "\n",
    "$$\n",
    "w = ((XP)^T XP)^{-1} (XP)^T y\n",
    "$$\n",
    "\n",
    "Для упрощения выражения воспользуемся тремя свойствами мартиц:\n",
    "\n",
    "$$\n",
    "(AB)^T = B^T A^T\n",
    "$$\n",
    "\n",
    "$$\n",
    "(AB)^{-1} = B^{-1} A^{-1}\n",
    "$$\n",
    "\n",
    "$$\n",
    "P^{-1} P = P P^{-1} = E\n",
    "$$\n",
    "\n",
    "$^*$ P должна быть квадратной матрицей, опрределитель $|P|$ которой не равен нулю\n",
    "\n",
    "Применяя правила получим\n",
    "\n",
    "$$\n",
    "a = XP((XP)^TXP)^{-1}(XP)^Ty\n",
    "$$\n",
    "  \n",
    "    \n",
    "$$\n",
    "a = XP(P^TX^TXP)^{-1}P^TX^Ty\n",
    "$$\n",
    "\n",
    "Т к матрицы $P^T$, $(X^TX)$ и $P$  (а так же произведение $(X^TX)*P$) являются квадратными, к нми применимо правило 2:\n",
    "\n",
    "$$\n",
    "a = XP((P^T)(X^TXP))^{-1}P^TX^Ty\n",
    "$$\n",
    "\n",
    "\n",
    "$$\n",
    "a = XP(X^TXP)^{-1}(P^T)^{-1}P^TX^Ty\n",
    "$$\n",
    "\n",
    "$$\n",
    "a = XP((X^TX)P)^{-1}EX^Ty\n",
    "$$\n",
    "\n",
    "\n",
    "$$\n",
    "a = XP((X^TX)(P))^{-1}EX^Ty\n",
    "$$\n",
    "\n",
    "\n",
    "$$\n",
    "a = XPP^{-1}(X^TX)^{-1}EX^Ty\n",
    "$$\n",
    "\n",
    "\n",
    "$$\n",
    "a = XE(X^TX)^{-1}EX^Ty\n",
    "$$\n",
    "\n",
    "\n",
    "\n",
    "\n",
    "Единичные матицы являются нейтральным элементом - их можно убрать:\n",
    "\n",
    "\n",
    "$$\n",
    "a = X(X^TX)^{-1}X^Ty\n",
    "$$\n",
    "\n",
    "т к $w = (X^T X)^{-1} X^T y$, получается \n",
    "\n",
    "$$\n",
    "a = Xw\n",
    "$$"
   ]
  },
  {
   "cell_type": "markdown",
   "id": "59e965ed",
   "metadata": {},
   "source": [
    "Разделим данные на признаки и целевой признак. Далее на обучающую и тестовую выборки и посчитаем R2 на модели линейной регрессии из sklearn"
   ]
  },
  {
   "cell_type": "code",
   "execution_count": 13,
   "metadata": {},
   "outputs": [
    {
     "name": "stdout",
     "output_type": "stream",
     "text": [
      "R2 = 0.38882423984338166\n"
     ]
    }
   ],
   "source": [
    "X = dt.drop('payments', axis=1)\n",
    "y = dt['payments']\n",
    "\n",
    "X_train, X_test, y_train, y_test = train_test_split(X, y, test_size=0.25, random_state=25)\n",
    "\n",
    "model = LinearRegression()\n",
    "model.fit(X_train, y_train)\n",
    "pred = model.predict(X_test)\n",
    "R2_sklearn = r2_score(y_test, pred)\n",
    "print('R2 =', R2_sklearn)"
   ]
  },
  {
   "cell_type": "markdown",
   "id": "380bea39",
   "metadata": {},
   "source": [
    "Обратимыми бывают лишь квадратные матрицы, определитель которых не равен нулю. В нашем случае это матрица размером (4x4), к т количество признаков равно 4. Приведу 3 примера, со случайными числами. И посчитаем метрику R2 после умножения признаков на эти матрицы."
   ]
  },
  {
   "cell_type": "code",
   "execution_count": 14,
   "id": "5b42794a",
   "metadata": {},
   "outputs": [
    {
     "data": {
      "text/html": [
       "<div>\n",
       "<style scoped>\n",
       "    .dataframe tbody tr th:only-of-type {\n",
       "        vertical-align: middle;\n",
       "    }\n",
       "\n",
       "    .dataframe tbody tr th {\n",
       "        vertical-align: top;\n",
       "    }\n",
       "\n",
       "    .dataframe thead th {\n",
       "        text-align: right;\n",
       "    }\n",
       "</style>\n",
       "<table border=\"1\" class=\"dataframe\">\n",
       "  <thead>\n",
       "    <tr style=\"text-align: right;\">\n",
       "      <th></th>\n",
       "      <th>0</th>\n",
       "      <th>1</th>\n",
       "      <th>2</th>\n",
       "      <th>3</th>\n",
       "    </tr>\n",
       "  </thead>\n",
       "  <tbody>\n",
       "    <tr>\n",
       "      <th>0</th>\n",
       "      <td>0</td>\n",
       "      <td>2</td>\n",
       "      <td>5</td>\n",
       "      <td>9</td>\n",
       "    </tr>\n",
       "    <tr>\n",
       "      <th>1</th>\n",
       "      <td>9</td>\n",
       "      <td>2</td>\n",
       "      <td>4</td>\n",
       "      <td>2</td>\n",
       "    </tr>\n",
       "    <tr>\n",
       "      <th>2</th>\n",
       "      <td>0</td>\n",
       "      <td>7</td>\n",
       "      <td>8</td>\n",
       "      <td>0</td>\n",
       "    </tr>\n",
       "    <tr>\n",
       "      <th>3</th>\n",
       "      <td>0</td>\n",
       "      <td>2</td>\n",
       "      <td>1</td>\n",
       "      <td>7</td>\n",
       "    </tr>\n",
       "  </tbody>\n",
       "</table>\n",
       "</div>"
      ],
      "text/plain": [
       "   0  1  2  3\n",
       "0  0  2  5  9\n",
       "1  9  2  4  2\n",
       "2  0  7  8  0\n",
       "3  0  2  1  7"
      ]
     },
     "metadata": {},
     "output_type": "display_data"
    },
    {
     "name": "stdout",
     "output_type": "stream",
     "text": [
      "R2 = 0.42494550308171974\n"
     ]
    },
    {
     "data": {
      "text/html": [
       "<div>\n",
       "<style scoped>\n",
       "    .dataframe tbody tr th:only-of-type {\n",
       "        vertical-align: middle;\n",
       "    }\n",
       "\n",
       "    .dataframe tbody tr th {\n",
       "        vertical-align: top;\n",
       "    }\n",
       "\n",
       "    .dataframe thead th {\n",
       "        text-align: right;\n",
       "    }\n",
       "</style>\n",
       "<table border=\"1\" class=\"dataframe\">\n",
       "  <thead>\n",
       "    <tr style=\"text-align: right;\">\n",
       "      <th></th>\n",
       "      <th>0</th>\n",
       "      <th>1</th>\n",
       "      <th>2</th>\n",
       "      <th>3</th>\n",
       "    </tr>\n",
       "  </thead>\n",
       "  <tbody>\n",
       "    <tr>\n",
       "      <th>0</th>\n",
       "      <td>4</td>\n",
       "      <td>7</td>\n",
       "      <td>4</td>\n",
       "      <td>1</td>\n",
       "    </tr>\n",
       "    <tr>\n",
       "      <th>1</th>\n",
       "      <td>5</td>\n",
       "      <td>9</td>\n",
       "      <td>2</td>\n",
       "      <td>7</td>\n",
       "    </tr>\n",
       "    <tr>\n",
       "      <th>2</th>\n",
       "      <td>4</td>\n",
       "      <td>2</td>\n",
       "      <td>0</td>\n",
       "      <td>6</td>\n",
       "    </tr>\n",
       "    <tr>\n",
       "      <th>3</th>\n",
       "      <td>3</td>\n",
       "      <td>2</td>\n",
       "      <td>6</td>\n",
       "      <td>9</td>\n",
       "    </tr>\n",
       "  </tbody>\n",
       "</table>\n",
       "</div>"
      ],
      "text/plain": [
       "   0  1  2  3\n",
       "0  4  7  4  1\n",
       "1  5  9  2  7\n",
       "2  4  2  0  6\n",
       "3  3  2  6  9"
      ]
     },
     "metadata": {},
     "output_type": "display_data"
    },
    {
     "name": "stdout",
     "output_type": "stream",
     "text": [
      "R2 = 0.4249455030817\n"
     ]
    },
    {
     "data": {
      "text/html": [
       "<div>\n",
       "<style scoped>\n",
       "    .dataframe tbody tr th:only-of-type {\n",
       "        vertical-align: middle;\n",
       "    }\n",
       "\n",
       "    .dataframe tbody tr th {\n",
       "        vertical-align: top;\n",
       "    }\n",
       "\n",
       "    .dataframe thead th {\n",
       "        text-align: right;\n",
       "    }\n",
       "</style>\n",
       "<table border=\"1\" class=\"dataframe\">\n",
       "  <thead>\n",
       "    <tr style=\"text-align: right;\">\n",
       "      <th></th>\n",
       "      <th>0</th>\n",
       "      <th>1</th>\n",
       "      <th>2</th>\n",
       "      <th>3</th>\n",
       "    </tr>\n",
       "  </thead>\n",
       "  <tbody>\n",
       "    <tr>\n",
       "      <th>0</th>\n",
       "      <td>2</td>\n",
       "      <td>1</td>\n",
       "      <td>5</td>\n",
       "      <td>3</td>\n",
       "    </tr>\n",
       "    <tr>\n",
       "      <th>1</th>\n",
       "      <td>7</td>\n",
       "      <td>2</td>\n",
       "      <td>9</td>\n",
       "      <td>9</td>\n",
       "    </tr>\n",
       "    <tr>\n",
       "      <th>2</th>\n",
       "      <td>8</td>\n",
       "      <td>4</td>\n",
       "      <td>6</td>\n",
       "      <td>4</td>\n",
       "    </tr>\n",
       "    <tr>\n",
       "      <th>3</th>\n",
       "      <td>9</td>\n",
       "      <td>0</td>\n",
       "      <td>0</td>\n",
       "      <td>6</td>\n",
       "    </tr>\n",
       "  </tbody>\n",
       "</table>\n",
       "</div>"
      ],
      "text/plain": [
       "   0  1  2  3\n",
       "0  2  1  5  3\n",
       "1  7  2  9  9\n",
       "2  8  4  6  4\n",
       "3  9  0  0  6"
      ]
     },
     "metadata": {},
     "output_type": "display_data"
    },
    {
     "name": "stdout",
     "output_type": "stream",
     "text": [
      "R2 = 0.42494550308167034\n"
     ]
    }
   ],
   "source": [
    "# задаём размер матрицы\n",
    "size = X.shape[1]\n",
    "# делаем три случайные матрицы заданного размера\n",
    "for i in range(3):\n",
    "    matrix = pd.DataFrame(np.random.randint(0,10,size=(size, size)))\n",
    "     # если определитель не равен нулю, перемножаем матрицу с признаками, обучаем модель и считаем R2\n",
    "    if np.linalg.det(matrix) != 0:\n",
    "        display(matrix)\n",
    "        X2 = np.dot(X, matrix)\n",
    "        model.fit(X2, y)\n",
    "        pred2 = model.predict(X2)\n",
    "        print('R2 =', r2_score(y, pred2))\n",
    "    i += 1"
   ]
  },
  {
   "cell_type": "markdown",
   "id": "a336c50c",
   "metadata": {},
   "source": [
    "Метрика не меняется.\n",
    "\n",
    "Приведём примеры с необратными матрицами.\n",
    "\n",
    "- нулевая матрица\n",
    "- это все неквадратные матрицы\n",
    "- марицы с линейно зависимыми строками или столбцами (в моём примере столбец 2 получается умножением стобца один на пять)"
   ]
  },
  {
   "cell_type": "code",
   "execution_count": 15,
   "id": "53eb2e25",
   "metadata": {
    "scrolled": true
   },
   "outputs": [
    {
     "name": "stdout",
     "output_type": "stream",
     "text": [
      "нулевая матрица\n"
     ]
    },
    {
     "data": {
      "text/html": [
       "<div>\n",
       "<style scoped>\n",
       "    .dataframe tbody tr th:only-of-type {\n",
       "        vertical-align: middle;\n",
       "    }\n",
       "\n",
       "    .dataframe tbody tr th {\n",
       "        vertical-align: top;\n",
       "    }\n",
       "\n",
       "    .dataframe thead th {\n",
       "        text-align: right;\n",
       "    }\n",
       "</style>\n",
       "<table border=\"1\" class=\"dataframe\">\n",
       "  <thead>\n",
       "    <tr style=\"text-align: right;\">\n",
       "      <th></th>\n",
       "      <th>0</th>\n",
       "      <th>1</th>\n",
       "      <th>2</th>\n",
       "      <th>3</th>\n",
       "    </tr>\n",
       "  </thead>\n",
       "  <tbody>\n",
       "    <tr>\n",
       "      <th>0</th>\n",
       "      <td>0.0</td>\n",
       "      <td>0.0</td>\n",
       "      <td>0.0</td>\n",
       "      <td>0.0</td>\n",
       "    </tr>\n",
       "    <tr>\n",
       "      <th>1</th>\n",
       "      <td>0.0</td>\n",
       "      <td>0.0</td>\n",
       "      <td>0.0</td>\n",
       "      <td>0.0</td>\n",
       "    </tr>\n",
       "    <tr>\n",
       "      <th>2</th>\n",
       "      <td>0.0</td>\n",
       "      <td>0.0</td>\n",
       "      <td>0.0</td>\n",
       "      <td>0.0</td>\n",
       "    </tr>\n",
       "    <tr>\n",
       "      <th>3</th>\n",
       "      <td>0.0</td>\n",
       "      <td>0.0</td>\n",
       "      <td>0.0</td>\n",
       "      <td>0.0</td>\n",
       "    </tr>\n",
       "  </tbody>\n",
       "</table>\n",
       "</div>"
      ],
      "text/plain": [
       "     0    1    2    3\n",
       "0  0.0  0.0  0.0  0.0\n",
       "1  0.0  0.0  0.0  0.0\n",
       "2  0.0  0.0  0.0  0.0\n",
       "3  0.0  0.0  0.0  0.0"
      ]
     },
     "metadata": {},
     "output_type": "display_data"
    },
    {
     "name": "stdout",
     "output_type": "stream",
     "text": [
      "определитель = 0.0\n",
      "\n",
      "Неквадратная матрица\n"
     ]
    },
    {
     "data": {
      "text/html": [
       "<div>\n",
       "<style scoped>\n",
       "    .dataframe tbody tr th:only-of-type {\n",
       "        vertical-align: middle;\n",
       "    }\n",
       "\n",
       "    .dataframe tbody tr th {\n",
       "        vertical-align: top;\n",
       "    }\n",
       "\n",
       "    .dataframe thead th {\n",
       "        text-align: right;\n",
       "    }\n",
       "</style>\n",
       "<table border=\"1\" class=\"dataframe\">\n",
       "  <thead>\n",
       "    <tr style=\"text-align: right;\">\n",
       "      <th></th>\n",
       "      <th>0</th>\n",
       "      <th>1</th>\n",
       "      <th>2</th>\n",
       "    </tr>\n",
       "  </thead>\n",
       "  <tbody>\n",
       "    <tr>\n",
       "      <th>0</th>\n",
       "      <td>1</td>\n",
       "      <td>46</td>\n",
       "      <td>52</td>\n",
       "    </tr>\n",
       "    <tr>\n",
       "      <th>1</th>\n",
       "      <td>0</td>\n",
       "      <td>83</td>\n",
       "      <td>10</td>\n",
       "    </tr>\n",
       "    <tr>\n",
       "      <th>2</th>\n",
       "      <td>90</td>\n",
       "      <td>97</td>\n",
       "      <td>91</td>\n",
       "    </tr>\n",
       "    <tr>\n",
       "      <th>3</th>\n",
       "      <td>92</td>\n",
       "      <td>98</td>\n",
       "      <td>3</td>\n",
       "    </tr>\n",
       "  </tbody>\n",
       "</table>\n",
       "</div>"
      ],
      "text/plain": [
       "    0   1   2\n",
       "0   1  46  52\n",
       "1   0  83  10\n",
       "2  90  97  91\n",
       "3  92  98   3"
      ]
     },
     "metadata": {},
     "output_type": "display_data"
    },
    {
     "name": "stdout",
     "output_type": "stream",
     "text": [
      "\n",
      "Линейно зависимая матрица\n"
     ]
    },
    {
     "data": {
      "text/html": [
       "<div>\n",
       "<style scoped>\n",
       "    .dataframe tbody tr th:only-of-type {\n",
       "        vertical-align: middle;\n",
       "    }\n",
       "\n",
       "    .dataframe tbody tr th {\n",
       "        vertical-align: top;\n",
       "    }\n",
       "\n",
       "    .dataframe thead th {\n",
       "        text-align: right;\n",
       "    }\n",
       "</style>\n",
       "<table border=\"1\" class=\"dataframe\">\n",
       "  <thead>\n",
       "    <tr style=\"text-align: right;\">\n",
       "      <th></th>\n",
       "      <th>0</th>\n",
       "      <th>1</th>\n",
       "      <th>2</th>\n",
       "      <th>3</th>\n",
       "    </tr>\n",
       "  </thead>\n",
       "  <tbody>\n",
       "    <tr>\n",
       "      <th>0</th>\n",
       "      <td>1</td>\n",
       "      <td>5</td>\n",
       "      <td>16</td>\n",
       "      <td>68</td>\n",
       "    </tr>\n",
       "    <tr>\n",
       "      <th>1</th>\n",
       "      <td>1</td>\n",
       "      <td>5</td>\n",
       "      <td>68</td>\n",
       "      <td>74</td>\n",
       "    </tr>\n",
       "    <tr>\n",
       "      <th>2</th>\n",
       "      <td>1</td>\n",
       "      <td>5</td>\n",
       "      <td>29</td>\n",
       "      <td>13</td>\n",
       "    </tr>\n",
       "    <tr>\n",
       "      <th>3</th>\n",
       "      <td>1</td>\n",
       "      <td>5</td>\n",
       "      <td>8</td>\n",
       "      <td>9</td>\n",
       "    </tr>\n",
       "  </tbody>\n",
       "</table>\n",
       "</div>"
      ],
      "text/plain": [
       "   0  1   2   3\n",
       "0  1  5  16  68\n",
       "1  1  5  68  74\n",
       "2  1  5  29  13\n",
       "3  1  5   8   9"
      ]
     },
     "metadata": {},
     "output_type": "display_data"
    },
    {
     "name": "stdout",
     "output_type": "stream",
     "text": [
      "определитель = 0.0\n"
     ]
    }
   ],
   "source": [
    "print('нулевая матрица')\n",
    "matrix_zeros = np.zeros((4, 4))\n",
    "display(pd.DataFrame(matrix_zeros))\n",
    "print('определитель =', np.linalg.det(matrix_zeros))\n",
    "#print(np.linalg.inv(matrix_zeros)) - LinAlgError: Singular matrix (чтобы ошибка не вылезла)\n",
    "print('')\n",
    "print('Неквадратная матрица')\n",
    "matrix_4_3 = pd.DataFrame(np.random.randint(0,100,size=(4, 3)))\n",
    "display(matrix_4_3)\n",
    "#print(np.linalg.inv(matrix_zeros)) - LinAlgError: Singular matrix (чтобы ошибка не вылезла)\n",
    "print('')\n",
    "print('Линейно зависимая матрица')\n",
    "matrix_lin = pd.DataFrame(np.random.randint(0,100,size=(4, 4)))\n",
    "matrix_lin[0] = matrix_lin[0] *0 + 1\n",
    "matrix_lin[1] = matrix_lin[1] *0 + 5\n",
    "display(matrix_lin)\n",
    "print('определитель =', np.linalg.det(matrix_lin))\n",
    "#print(np.linalg.inv(matrix_lin)) - LinAlgError: Singular matrix (чтобы ошибка не вылезла)"
   ]
  },
  {
   "cell_type": "markdown",
   "metadata": {},
   "source": [
    "## Алгоритм преобразования\n",
    "\n",
    "\n",
    "**Алгоритм**\n",
    "\n",
    "    1 Создаём обратимую матрицу\n",
    "    2 Проверяем её на обратимость\n",
    "    3 Умножаем признаки X на мартицу A\n",
    "    4 Находим обратную матрицу A и умножаем на неё закодированные признаки\n",
    "    5 Сравниваем изначальные данные и декодированные, если различий нет, алгоритм шифрования работает.\n",
    "    \n",
    "**Алгоритм линейной регрессии:**\n",
    "    \n",
    "    1 В матрицу закодированных (!) признаков X добавим столбец, состоящий только из единиц (он идёт нулевым); а параметр w0 — к вектору w (он тоже идёт нулевым)\n",
    "    2 Умножаем тарнспонированную матрицу признаков на себя\n",
    "    3 От результата вычисляем обратную матрицу\n",
    "    4 Умножаем предыдущий результат на транспонированную матрицу признаков\n",
    "    5 Умножаем предыдущий результат на вектор целевого признака\n",
    "    6 Сохраняем величину сдвига w0\n",
    "    7 Сохраняем вектор предсказаний\n",
    "    8 Получаем предсказания: уножаем матрицу признаков на вектор предсказний и прибовляем величину сдвига\n",
    "    9 Считаем метрику R2 и сравниваем с аналогичной метрикой, полученной из модели sklearn.\n",
    "    \n",
    "    \n",
    "**Обоснование алгоритма шифрования**\n",
    "\n",
    "Воспользуемся свойством обратных матриц:"
   ]
  },
  {
   "cell_type": "markdown",
   "id": "8a40dabc",
   "metadata": {},
   "source": [
    "$$\n",
    "P^{-1} P = P P^{-1} = E\n",
    "$$\n",
    "\n",
    "Чтобы данные зашифровать умножим на обратимую матрицу признаки\n",
    "\n",
    "$$\n",
    "A X = B\n",
    "$$\n",
    "\n",
    "Домножим обе части уровнения на обратную матрицу\n",
    "\n",
    "$$\n",
    "A^{-1} A X = A^{-1} B\n",
    "$$\n",
    "\n",
    "$$\n",
    "X = A^{-1} B\n",
    "$$\n",
    "\n",
    "Следовательно расшифровать данные обратно можно с помощью обратной матрицы $A^{-1}$\n",
    "\n",
    "        \n",
    "\n",
    "**Программирование линейной регрессии**\n",
    "\n",
    "Предсказания линейной регрессии (a) вычисляется так: скалярно умножается вектор признаков на вектор весов (w), затем к этому произведению прибавляется величина сдвига предсказания (w0):\n",
    "\n",
    "$$\n",
    "a = (X,w) +w0\n",
    "$$\n",
    "\n",
    "Для сокращения записи изменим обозначения. В матрицу X добавим столбец, состоящий только из единиц (он идёт нулевым); а параметр w0 — к вектору w (он тоже идёт нулевым):\n",
    "\n",
    "\n",
    "$$\n",
    "a = Xw\n",
    "$$\n",
    "\n",
    "Т к (y) - вектор целевого признака, то задача обучения линейной регрессии для функции потерь:\n",
    "\n",
    "$$\n",
    "w = \\arg\\min_w MSE(Xw, y)\n",
    "$$\n",
    "\n",
    "Функция argmin() находит минимум и возвращает, при каком аргументе он был достигнут.\n",
    "\n",
    "Минимальное значение функции получается, когда веса равны этой величине:\n",
    "\n",
    "$$\n",
    "w = (X^T X)^{-1} X^T y\n",
    "$$"
   ]
  },
  {
   "cell_type": "markdown",
   "metadata": {},
   "source": [
    "## Проверка алгоритма\n",
    "\n",
    "Создадим обратимую матрицу $A$"
   ]
  },
  {
   "cell_type": "code",
   "execution_count": 16,
   "id": "da52177c",
   "metadata": {},
   "outputs": [
    {
     "name": "stdout",
     "output_type": "stream",
     "text": [
      "[[4 6 7 2]\n",
      " [8 4 9 4]\n",
      " [5 1 7 3]\n",
      " [8 7 3 4]]\n"
     ]
    }
   ],
   "source": [
    "# создаём обратимую матрицу\n",
    "rng = np.random.RandomState(25)\n",
    "A = rng.randint(0,10,size=(4, 4))\n",
    "print(A)"
   ]
  },
  {
   "cell_type": "markdown",
   "metadata": {},
   "source": [
    "Проверяем её на обратимость"
   ]
  },
  {
   "cell_type": "code",
   "execution_count": 17,
   "metadata": {},
   "outputs": [
    {
     "name": "stdout",
     "output_type": "stream",
     "text": [
      "матрица обратима\n"
     ]
    }
   ],
   "source": [
    "if np.linalg.det(A) == 0:\n",
    "    print('матрица необратима, необходимо создать необратимую матрицу')\n",
    "else:\n",
    "    print('матрица обратима')"
   ]
  },
  {
   "cell_type": "markdown",
   "metadata": {},
   "source": [
    "Умножаем признаки $X$ на мартицу $A$"
   ]
  },
  {
   "cell_type": "code",
   "execution_count": 18,
   "metadata": {},
   "outputs": [
    {
     "data": {
      "text/html": [
       "<div>\n",
       "<style scoped>\n",
       "    .dataframe tbody tr th:only-of-type {\n",
       "        vertical-align: middle;\n",
       "    }\n",
       "\n",
       "    .dataframe tbody tr th {\n",
       "        vertical-align: top;\n",
       "    }\n",
       "\n",
       "    .dataframe thead th {\n",
       "        text-align: right;\n",
       "    }\n",
       "</style>\n",
       "<table border=\"1\" class=\"dataframe\">\n",
       "  <thead>\n",
       "    <tr style=\"text-align: right;\">\n",
       "      <th></th>\n",
       "      <th>0</th>\n",
       "      <th>1</th>\n",
       "      <th>2</th>\n",
       "      <th>3</th>\n",
       "    </tr>\n",
       "  </thead>\n",
       "  <tbody>\n",
       "    <tr>\n",
       "      <th>0</th>\n",
       "      <td>248340</td>\n",
       "      <td>49777</td>\n",
       "      <td>347579</td>\n",
       "      <td>148970</td>\n",
       "    </tr>\n",
       "    <tr>\n",
       "      <th>1</th>\n",
       "      <td>190376</td>\n",
       "      <td>38191</td>\n",
       "      <td>266417</td>\n",
       "      <td>114188</td>\n",
       "    </tr>\n",
       "    <tr>\n",
       "      <th>2</th>\n",
       "      <td>105232</td>\n",
       "      <td>21116</td>\n",
       "      <td>147261</td>\n",
       "      <td>63116</td>\n",
       "    </tr>\n",
       "    <tr>\n",
       "      <th>3</th>\n",
       "      <td>208684</td>\n",
       "      <td>41798</td>\n",
       "      <td>292095</td>\n",
       "      <td>125192</td>\n",
       "    </tr>\n",
       "    <tr>\n",
       "      <th>4</th>\n",
       "      <td>130728</td>\n",
       "      <td>26218</td>\n",
       "      <td>182959</td>\n",
       "      <td>78414</td>\n",
       "    </tr>\n",
       "    <tr>\n",
       "      <th>...</th>\n",
       "      <td>...</td>\n",
       "      <td>...</td>\n",
       "      <td>...</td>\n",
       "      <td>...</td>\n",
       "    </tr>\n",
       "    <tr>\n",
       "      <th>4995</th>\n",
       "      <td>178740</td>\n",
       "      <td>35826</td>\n",
       "      <td>250158</td>\n",
       "      <td>107220</td>\n",
       "    </tr>\n",
       "    <tr>\n",
       "      <th>4996</th>\n",
       "      <td>262280</td>\n",
       "      <td>52543</td>\n",
       "      <td>367109</td>\n",
       "      <td>157340</td>\n",
       "    </tr>\n",
       "    <tr>\n",
       "      <th>4997</th>\n",
       "      <td>169676</td>\n",
       "      <td>33994</td>\n",
       "      <td>237486</td>\n",
       "      <td>101788</td>\n",
       "    </tr>\n",
       "    <tr>\n",
       "      <th>4998</th>\n",
       "      <td>163704</td>\n",
       "      <td>32815</td>\n",
       "      <td>229114</td>\n",
       "      <td>98202</td>\n",
       "    </tr>\n",
       "    <tr>\n",
       "      <th>4999</th>\n",
       "      <td>203236</td>\n",
       "      <td>40725</td>\n",
       "      <td>284462</td>\n",
       "      <td>121918</td>\n",
       "    </tr>\n",
       "  </tbody>\n",
       "</table>\n",
       "<p>5000 rows × 4 columns</p>\n",
       "</div>"
      ],
      "text/plain": [
       "           0      1       2       3\n",
       "0     248340  49777  347579  148970\n",
       "1     190376  38191  266417  114188\n",
       "2     105232  21116  147261   63116\n",
       "3     208684  41798  292095  125192\n",
       "4     130728  26218  182959   78414\n",
       "...      ...    ...     ...     ...\n",
       "4995  178740  35826  250158  107220\n",
       "4996  262280  52543  367109  157340\n",
       "4997  169676  33994  237486  101788\n",
       "4998  163704  32815  229114   98202\n",
       "4999  203236  40725  284462  121918\n",
       "\n",
       "[5000 rows x 4 columns]"
      ]
     },
     "execution_count": 18,
     "metadata": {},
     "output_type": "execute_result"
    }
   ],
   "source": [
    "# кодируем\n",
    "X_code = X.dot(A)\n",
    "X_code"
   ]
  },
  {
   "cell_type": "markdown",
   "metadata": {},
   "source": [
    "Данные выглядят нечитаемо.\n",
    "\n",
    "Находим обратную матрицу $A^{-1}$  и умножаем на неё закодированные признаки"
   ]
  },
  {
   "cell_type": "code",
   "execution_count": 19,
   "id": "3db9bf76",
   "metadata": {},
   "outputs": [
    {
     "data": {
      "text/html": [
       "<div>\n",
       "<style scoped>\n",
       "    .dataframe tbody tr th:only-of-type {\n",
       "        vertical-align: middle;\n",
       "    }\n",
       "\n",
       "    .dataframe tbody tr th {\n",
       "        vertical-align: top;\n",
       "    }\n",
       "\n",
       "    .dataframe thead th {\n",
       "        text-align: right;\n",
       "    }\n",
       "</style>\n",
       "<table border=\"1\" class=\"dataframe\">\n",
       "  <thead>\n",
       "    <tr style=\"text-align: right;\">\n",
       "      <th></th>\n",
       "      <th>0</th>\n",
       "      <th>1</th>\n",
       "      <th>2</th>\n",
       "      <th>3</th>\n",
       "    </tr>\n",
       "  </thead>\n",
       "  <tbody>\n",
       "    <tr>\n",
       "      <th>0</th>\n",
       "      <td>1.0</td>\n",
       "      <td>41.0</td>\n",
       "      <td>49600.0</td>\n",
       "      <td>1.0</td>\n",
       "    </tr>\n",
       "    <tr>\n",
       "      <th>1</th>\n",
       "      <td>0.0</td>\n",
       "      <td>46.0</td>\n",
       "      <td>38000.0</td>\n",
       "      <td>1.0</td>\n",
       "    </tr>\n",
       "    <tr>\n",
       "      <th>2</th>\n",
       "      <td>0.0</td>\n",
       "      <td>29.0</td>\n",
       "      <td>21000.0</td>\n",
       "      <td>0.0</td>\n",
       "    </tr>\n",
       "    <tr>\n",
       "      <th>3</th>\n",
       "      <td>0.0</td>\n",
       "      <td>21.0</td>\n",
       "      <td>41700.0</td>\n",
       "      <td>2.0</td>\n",
       "    </tr>\n",
       "    <tr>\n",
       "      <th>4</th>\n",
       "      <td>1.0</td>\n",
       "      <td>28.0</td>\n",
       "      <td>26100.0</td>\n",
       "      <td>0.0</td>\n",
       "    </tr>\n",
       "    <tr>\n",
       "      <th>...</th>\n",
       "      <td>...</td>\n",
       "      <td>...</td>\n",
       "      <td>...</td>\n",
       "      <td>...</td>\n",
       "    </tr>\n",
       "    <tr>\n",
       "      <th>4995</th>\n",
       "      <td>0.0</td>\n",
       "      <td>28.0</td>\n",
       "      <td>35700.0</td>\n",
       "      <td>2.0</td>\n",
       "    </tr>\n",
       "    <tr>\n",
       "      <th>4996</th>\n",
       "      <td>0.0</td>\n",
       "      <td>34.0</td>\n",
       "      <td>52400.0</td>\n",
       "      <td>1.0</td>\n",
       "    </tr>\n",
       "    <tr>\n",
       "      <th>4997</th>\n",
       "      <td>0.0</td>\n",
       "      <td>20.0</td>\n",
       "      <td>33900.0</td>\n",
       "      <td>2.0</td>\n",
       "    </tr>\n",
       "    <tr>\n",
       "      <th>4998</th>\n",
       "      <td>1.0</td>\n",
       "      <td>22.0</td>\n",
       "      <td>32700.0</td>\n",
       "      <td>3.0</td>\n",
       "    </tr>\n",
       "    <tr>\n",
       "      <th>4999</th>\n",
       "      <td>1.0</td>\n",
       "      <td>28.0</td>\n",
       "      <td>40600.0</td>\n",
       "      <td>1.0</td>\n",
       "    </tr>\n",
       "  </tbody>\n",
       "</table>\n",
       "<p>5000 rows × 4 columns</p>\n",
       "</div>"
      ],
      "text/plain": [
       "        0     1        2    3\n",
       "0     1.0  41.0  49600.0  1.0\n",
       "1     0.0  46.0  38000.0  1.0\n",
       "2     0.0  29.0  21000.0  0.0\n",
       "3     0.0  21.0  41700.0  2.0\n",
       "4     1.0  28.0  26100.0  0.0\n",
       "...   ...   ...      ...  ...\n",
       "4995  0.0  28.0  35700.0  2.0\n",
       "4996  0.0  34.0  52400.0  1.0\n",
       "4997  0.0  20.0  33900.0  2.0\n",
       "4998  1.0  22.0  32700.0  3.0\n",
       "4999  1.0  28.0  40600.0  1.0\n",
       "\n",
       "[5000 rows x 4 columns]"
      ]
     },
     "execution_count": 19,
     "metadata": {},
     "output_type": "execute_result"
    }
   ],
   "source": [
    "#обратная\n",
    "A_inv = np.linalg.inv(A)\n",
    "X_decode = X_code.dot(A_inv)\n",
    "X_decode = abs(round(X_decode))\n",
    "X_decode"
   ]
  },
  {
   "cell_type": "markdown",
   "metadata": {},
   "source": [
    "Сравним изначальные данные и декодированные:"
   ]
  },
  {
   "cell_type": "code",
   "execution_count": 20,
   "metadata": {},
   "outputs": [
    {
     "data": {
      "text/plain": [
       "both          5318\n",
       "left_only        0\n",
       "right_only       0\n",
       "Name: _merge, dtype: int64"
      ]
     },
     "execution_count": 20,
     "metadata": {},
     "output_type": "execute_result"
    }
   ],
   "source": [
    "X_decode.columns = X.columns\n",
    "rez = X.merge(X_decode, how = 'inner' ,indicator=True)\n",
    "rez['_merge'].value_counts()"
   ]
  },
  {
   "cell_type": "markdown",
   "metadata": {},
   "source": [
    "Различий в данных нет, алгоритм работает.\n",
    "\n",
    "Запрограммируем алгоритм линейной регрессии."
   ]
  },
  {
   "cell_type": "code",
   "execution_count": 21,
   "metadata": {},
   "outputs": [],
   "source": [
    "# сделаем новый класс для алгоритма регрессии\n",
    "class MyLinearRegression:\n",
    "    # обучение\n",
    "    def fit(self, X, y):\n",
    "        X = np.concatenate((np.ones((X.shape[0], 1)), X), axis=1) # добавляем нулевой столбец из единиц\n",
    "        A = np.dot(X.T, X)   # умножаем тарнспонированную матрицу признаков на себя\n",
    "        B = np.linalg.inv(A) # вычисляем обратную матрицу\n",
    "        C = np.dot(B, X.T)   # умножаем предыдущий результат на транспонированную матрицу признаков\n",
    "        w = np.dot(C,y)      # умножаем предыдущий результат на вектор целевого признака\n",
    "        self.w0 = w[0]       # сохраняем величину сдвига w0\n",
    "        self.w = w[1:]       # сохраняем вектор предсказаний\n",
    "    # предсказание\n",
    "    def predict(self, X):\n",
    "        return np.dot(X, self.w) + self.w0"
   ]
  },
  {
   "cell_type": "code",
   "execution_count": 22,
   "id": "d65c0a7d",
   "metadata": {},
   "outputs": [
    {
     "name": "stdout",
     "output_type": "stream",
     "text": [
      "R2 на созданной модели с зашифрованными даннми 0.38882419519269895\n",
      "R2 модели из sklearn с исходными данными 0.38882423984338166\n"
     ]
    }
   ],
   "source": [
    "# кодируем признаки\n",
    "X_train_code = X_train.dot(A)\n",
    "X_test_code = X_test.dot(A)\n",
    "\n",
    "# используем класс MyLinearRegression\n",
    "my_model = MyLinearRegression()\n",
    "my_model.fit(X_train_code, y_train)\n",
    "predictions = my_model.predict(X_test_code)\n",
    "print('R2 на созданной модели с зашифрованными даннми', r2_score(y_test, predictions))\n",
    "print('R2 модели из sklearn с исходными данными', R2_sklearn)"
   ]
  },
  {
   "cell_type": "markdown",
   "metadata": {},
   "source": [
    "Результаты метрики совпадают до седьмого знака после запятой включительно."
   ]
  },
  {
   "cell_type": "markdown",
   "id": "7660f0ef",
   "metadata": {},
   "source": [
    "# Вывод по исследованию\n",
    "\n",
    "Данные были предобраьотаныи подготовлены к исследованию.\n",
    "\n",
    "Вопрос: Признаки умножают на обратимую матрицу. Изменится ли качество линейной регрессии?\n",
    "\n",
    "Ответ: Не изменяться. Обоснование приведено в разделе \"Умножение матриц\".\n",
    "\n",
    "Так же приведены исключения:\n",
    "- линейно зависимые матрицы\n",
    "- неквадратные матрицы\n",
    "- нулевые матрицы\n",
    "\n",
    "При них обратныая матрица не существует.\n",
    "\n",
    "Реализован и обоснован алгоритм шифрования с помощью свойств обратной матрицы. Проверено, что качество регрессии на нём не падает по ставнению с библотекой sklearn.\n",
    "\n"
   ]
  },
  {
   "cell_type": "markdown",
   "id": "dad79c5a",
   "metadata": {},
   "source": [
    "## Чек-лист проверки"
   ]
  },
  {
   "cell_type": "markdown",
   "id": "5585fb84",
   "metadata": {},
   "source": [
    "- [x]  Jupyter Notebook открыт\n",
    "- [x]  Весь код выполняется без ошибок\n",
    "- [x]  Ячейки с кодом расположены в порядке исполнения\n",
    "- [x]  Выполнен шаг 1: данные загружены\n",
    "- [x]  Выполнен шаг 2: получен ответ на вопрос об умножении матриц\n",
    "    - [x]  Указан правильный вариант ответа\n",
    "    - [x]  Вариант обоснован\n",
    "- [x]  Выполнен шаг 3: предложен алгоритм преобразования\n",
    "    - [x]  Алгоритм описан\n",
    "    - [x]  Алгоритм обоснован\n",
    "- [x]  Выполнен шаг 4: алгоритм проверен\n",
    "    - [x]  Алгоритм реализован\n",
    "    - [x]  Проведено сравнение качества моделей до и после преобразования"
   ]
  }
 ],
 "metadata": {
  "ExecuteTimeLog": [
   {
    "duration": 1447,
    "start_time": "2022-08-30T06:38:03.594Z"
   },
   {
    "duration": 92,
    "start_time": "2022-08-30T06:38:05.043Z"
   },
   {
    "duration": 18,
    "start_time": "2022-08-30T06:38:05.137Z"
   },
   {
    "duration": 13,
    "start_time": "2022-08-30T06:38:05.750Z"
   },
   {
    "duration": 5,
    "start_time": "2022-08-30T06:38:06.242Z"
   },
   {
    "duration": 1241,
    "start_time": "2022-08-30T06:38:12.711Z"
   },
   {
    "duration": 33,
    "start_time": "2022-08-30T06:38:13.953Z"
   },
   {
    "duration": 21,
    "start_time": "2022-08-30T06:38:13.988Z"
   },
   {
    "duration": 11,
    "start_time": "2022-08-30T06:38:14.011Z"
   },
   {
    "duration": 4,
    "start_time": "2022-08-30T06:38:14.024Z"
   },
   {
    "duration": 6,
    "start_time": "2022-08-30T06:38:14.029Z"
   },
   {
    "duration": 258,
    "start_time": "2022-08-30T06:38:14.036Z"
   },
   {
    "duration": 6,
    "start_time": "2022-08-30T06:38:14.295Z"
   },
   {
    "duration": 7,
    "start_time": "2022-08-30T06:38:14.302Z"
   },
   {
    "duration": 6,
    "start_time": "2022-08-30T06:38:14.310Z"
   },
   {
    "duration": 6,
    "start_time": "2022-08-30T06:38:14.330Z"
   },
   {
    "duration": 302,
    "start_time": "2022-08-30T06:38:14.337Z"
   },
   {
    "duration": 11,
    "start_time": "2022-08-30T06:38:14.640Z"
   },
   {
    "duration": 88,
    "start_time": "2022-08-30T06:38:14.653Z"
   },
   {
    "duration": 111,
    "start_time": "2022-08-30T06:38:14.832Z"
   },
   {
    "duration": 4,
    "start_time": "2022-08-30T06:38:14.944Z"
   },
   {
    "duration": 9,
    "start_time": "2022-08-30T06:38:14.949Z"
   },
   {
    "duration": 73,
    "start_time": "2022-08-30T06:38:14.959Z"
   },
   {
    "duration": 18,
    "start_time": "2022-08-30T06:38:15.034Z"
   },
   {
    "duration": 8,
    "start_time": "2022-08-30T06:38:15.132Z"
   },
   {
    "duration": 1791,
    "start_time": "2022-08-30T16:25:45.801Z"
   },
   {
    "duration": 81,
    "start_time": "2022-08-30T16:25:47.595Z"
   },
   {
    "duration": 26,
    "start_time": "2022-08-30T16:25:47.678Z"
   },
   {
    "duration": 16,
    "start_time": "2022-08-30T16:25:47.707Z"
   },
   {
    "duration": 6,
    "start_time": "2022-08-30T16:25:47.725Z"
   },
   {
    "duration": 11,
    "start_time": "2022-08-30T16:25:47.734Z"
   },
   {
    "duration": 350,
    "start_time": "2022-08-30T16:25:47.747Z"
   },
   {
    "duration": 8,
    "start_time": "2022-08-30T16:25:48.099Z"
   },
   {
    "duration": 7,
    "start_time": "2022-08-30T16:25:48.109Z"
   },
   {
    "duration": 7,
    "start_time": "2022-08-30T16:25:48.120Z"
   },
   {
    "duration": 11,
    "start_time": "2022-08-30T16:25:48.130Z"
   },
   {
    "duration": 425,
    "start_time": "2022-08-30T16:25:48.143Z"
   },
   {
    "duration": 22,
    "start_time": "2022-08-30T16:25:48.570Z"
   },
   {
    "duration": 296,
    "start_time": "2022-08-30T16:25:48.593Z"
   },
   {
    "duration": 193,
    "start_time": "2022-08-30T16:25:48.892Z"
   },
   {
    "duration": 5,
    "start_time": "2022-08-30T16:25:49.087Z"
   },
   {
    "duration": 12,
    "start_time": "2022-08-30T16:25:49.094Z"
   },
   {
    "duration": 77,
    "start_time": "2022-08-30T16:25:49.109Z"
   },
   {
    "duration": 98,
    "start_time": "2022-08-30T16:25:49.188Z"
   },
   {
    "duration": 16,
    "start_time": "2022-08-30T16:25:49.288Z"
   },
   {
    "duration": 19,
    "start_time": "2022-08-30T17:12:33.993Z"
   },
   {
    "duration": 46,
    "start_time": "2022-08-31T03:53:29.726Z"
   },
   {
    "duration": 1514,
    "start_time": "2022-08-31T03:53:36.878Z"
   },
   {
    "duration": 80,
    "start_time": "2022-08-31T03:53:38.394Z"
   },
   {
    "duration": 20,
    "start_time": "2022-08-31T03:53:38.476Z"
   },
   {
    "duration": 30,
    "start_time": "2022-08-31T03:53:38.498Z"
   },
   {
    "duration": 199,
    "start_time": "2022-08-31T03:54:24.135Z"
   },
   {
    "duration": 3,
    "start_time": "2022-08-31T03:54:32.458Z"
   },
   {
    "duration": 38,
    "start_time": "2022-08-31T03:54:32.463Z"
   },
   {
    "duration": 15,
    "start_time": "2022-08-31T03:54:32.503Z"
   },
   {
    "duration": 30,
    "start_time": "2022-08-31T03:54:32.520Z"
   },
   {
    "duration": 5,
    "start_time": "2022-08-31T03:54:32.552Z"
   },
   {
    "duration": 133,
    "start_time": "2022-08-31T03:54:32.558Z"
   },
   {
    "duration": 219,
    "start_time": "2022-08-31T03:55:03.146Z"
   },
   {
    "duration": 282,
    "start_time": "2022-08-31T03:55:08.116Z"
   },
   {
    "duration": 263,
    "start_time": "2022-08-31T03:55:18.566Z"
   },
   {
    "duration": 237,
    "start_time": "2022-08-31T03:55:24.987Z"
   },
   {
    "duration": 1424,
    "start_time": "2022-08-31T03:56:29.728Z"
   },
   {
    "duration": 31,
    "start_time": "2022-08-31T03:56:31.154Z"
   },
   {
    "duration": 19,
    "start_time": "2022-08-31T03:56:31.187Z"
   },
   {
    "duration": 30,
    "start_time": "2022-08-31T03:56:31.208Z"
   },
   {
    "duration": 5,
    "start_time": "2022-08-31T03:56:31.240Z"
   },
   {
    "duration": 267,
    "start_time": "2022-08-31T03:56:31.247Z"
   },
   {
    "duration": 278,
    "start_time": "2022-08-31T03:56:31.516Z"
   },
   {
    "duration": 6,
    "start_time": "2022-08-31T03:56:31.795Z"
   },
   {
    "duration": 6,
    "start_time": "2022-08-31T03:56:31.803Z"
   },
   {
    "duration": 6,
    "start_time": "2022-08-31T03:56:31.811Z"
   },
   {
    "duration": 7,
    "start_time": "2022-08-31T03:56:31.819Z"
   },
   {
    "duration": 369,
    "start_time": "2022-08-31T03:56:31.828Z"
   },
   {
    "duration": 12,
    "start_time": "2022-08-31T03:56:32.199Z"
   },
   {
    "duration": 182,
    "start_time": "2022-08-31T03:56:32.213Z"
   },
   {
    "duration": 268,
    "start_time": "2022-08-31T03:56:32.397Z"
   },
   {
    "duration": 5,
    "start_time": "2022-08-31T03:56:32.687Z"
   },
   {
    "duration": 13,
    "start_time": "2022-08-31T03:56:32.693Z"
   },
   {
    "duration": 18,
    "start_time": "2022-08-31T03:56:32.708Z"
   },
   {
    "duration": 19,
    "start_time": "2022-08-31T03:56:32.786Z"
   },
   {
    "duration": 10,
    "start_time": "2022-08-31T03:56:32.887Z"
   },
   {
    "duration": 3,
    "start_time": "2022-08-31T03:57:49.602Z"
   },
   {
    "duration": 33,
    "start_time": "2022-08-31T03:57:49.607Z"
   },
   {
    "duration": 16,
    "start_time": "2022-08-31T03:57:49.642Z"
   },
   {
    "duration": 30,
    "start_time": "2022-08-31T03:57:49.659Z"
   },
   {
    "duration": 4,
    "start_time": "2022-08-31T03:57:49.691Z"
   },
   {
    "duration": 228,
    "start_time": "2022-08-31T03:57:49.696Z"
   },
   {
    "duration": 301,
    "start_time": "2022-08-31T03:57:49.926Z"
   },
   {
    "duration": 5,
    "start_time": "2022-08-31T03:57:50.228Z"
   },
   {
    "duration": 12,
    "start_time": "2022-08-31T03:57:50.235Z"
   },
   {
    "duration": 7,
    "start_time": "2022-08-31T03:57:50.249Z"
   },
   {
    "duration": 3,
    "start_time": "2022-08-31T03:57:50.258Z"
   },
   {
    "duration": 7,
    "start_time": "2022-08-31T04:00:38.442Z"
   },
   {
    "duration": 5,
    "start_time": "2022-08-31T04:00:45.228Z"
   },
   {
    "duration": 3,
    "start_time": "2022-08-31T05:09:29.993Z"
   },
   {
    "duration": 3,
    "start_time": "2022-08-31T05:10:20.980Z"
   },
   {
    "duration": 9,
    "start_time": "2022-08-31T06:20:57.590Z"
   },
   {
    "duration": 1339,
    "start_time": "2022-08-31T06:21:57.065Z"
   },
   {
    "duration": 31,
    "start_time": "2022-08-31T06:21:58.406Z"
   },
   {
    "duration": 19,
    "start_time": "2022-08-31T06:21:58.439Z"
   },
   {
    "duration": 30,
    "start_time": "2022-08-31T06:21:58.460Z"
   },
   {
    "duration": 5,
    "start_time": "2022-08-31T06:21:58.491Z"
   },
   {
    "duration": 253,
    "start_time": "2022-08-31T06:21:58.497Z"
   },
   {
    "duration": 291,
    "start_time": "2022-08-31T06:21:58.752Z"
   },
   {
    "duration": 5,
    "start_time": "2022-08-31T06:21:59.045Z"
   },
   {
    "duration": 6,
    "start_time": "2022-08-31T06:21:59.052Z"
   },
   {
    "duration": 7,
    "start_time": "2022-08-31T06:21:59.059Z"
   },
   {
    "duration": 20,
    "start_time": "2022-08-31T06:21:59.067Z"
   },
   {
    "duration": 317,
    "start_time": "2022-08-31T06:21:59.088Z"
   },
   {
    "duration": 10,
    "start_time": "2022-08-31T06:21:59.407Z"
   },
   {
    "duration": 175,
    "start_time": "2022-08-31T06:21:59.420Z"
   },
   {
    "duration": 203,
    "start_time": "2022-08-31T06:21:59.687Z"
   },
   {
    "duration": 4,
    "start_time": "2022-08-31T06:21:59.892Z"
   },
   {
    "duration": 25,
    "start_time": "2022-08-31T06:21:59.898Z"
   },
   {
    "duration": 12,
    "start_time": "2022-08-31T06:21:59.924Z"
   },
   {
    "duration": 54,
    "start_time": "2022-08-31T06:21:59.938Z"
   },
   {
    "duration": 102,
    "start_time": "2022-08-31T06:21:59.994Z"
   },
   {
    "duration": 6,
    "start_time": "2022-08-31T06:22:00.098Z"
   },
   {
    "duration": 29,
    "start_time": "2022-08-31T06:22:00.106Z"
   },
   {
    "duration": 11,
    "start_time": "2022-08-31T06:42:30.951Z"
   },
   {
    "duration": 5,
    "start_time": "2022-08-31T06:49:15.212Z"
   },
   {
    "duration": 4,
    "start_time": "2022-08-31T06:49:24.711Z"
   },
   {
    "duration": 1327,
    "start_time": "2022-08-31T07:36:43.691Z"
   },
   {
    "duration": 32,
    "start_time": "2022-08-31T07:36:45.020Z"
   },
   {
    "duration": 21,
    "start_time": "2022-08-31T07:36:45.053Z"
   },
   {
    "duration": 31,
    "start_time": "2022-08-31T07:36:45.076Z"
   },
   {
    "duration": 5,
    "start_time": "2022-08-31T07:36:45.108Z"
   },
   {
    "duration": 257,
    "start_time": "2022-08-31T07:36:45.114Z"
   },
   {
    "duration": 283,
    "start_time": "2022-08-31T07:36:45.373Z"
   },
   {
    "duration": 6,
    "start_time": "2022-08-31T07:36:45.658Z"
   },
   {
    "duration": 21,
    "start_time": "2022-08-31T07:36:45.666Z"
   },
   {
    "duration": 5,
    "start_time": "2022-08-31T07:36:45.690Z"
   },
   {
    "duration": 9,
    "start_time": "2022-08-31T07:36:45.696Z"
   },
   {
    "duration": 312,
    "start_time": "2022-08-31T07:36:45.706Z"
   },
   {
    "duration": 1357,
    "start_time": "2022-08-31T07:37:09.779Z"
   },
   {
    "duration": 32,
    "start_time": "2022-08-31T07:37:11.138Z"
   },
   {
    "duration": 21,
    "start_time": "2022-08-31T07:37:11.172Z"
   },
   {
    "duration": 30,
    "start_time": "2022-08-31T07:37:11.195Z"
   },
   {
    "duration": 5,
    "start_time": "2022-08-31T07:37:11.226Z"
   },
   {
    "duration": 279,
    "start_time": "2022-08-31T07:37:11.233Z"
   },
   {
    "duration": 288,
    "start_time": "2022-08-31T07:37:11.513Z"
   },
   {
    "duration": 5,
    "start_time": "2022-08-31T07:37:11.803Z"
   },
   {
    "duration": 6,
    "start_time": "2022-08-31T07:37:11.810Z"
   },
   {
    "duration": 7,
    "start_time": "2022-08-31T07:37:11.818Z"
   },
   {
    "duration": 12,
    "start_time": "2022-08-31T07:37:11.826Z"
   },
   {
    "duration": 377,
    "start_time": "2022-08-31T07:37:11.839Z"
   },
   {
    "duration": 2,
    "start_time": "2022-08-31T07:37:12.218Z"
   },
   {
    "duration": 16,
    "start_time": "2022-08-31T07:37:12.222Z"
   },
   {
    "duration": 348,
    "start_time": "2022-08-31T07:37:12.240Z"
   },
   {
    "duration": 112,
    "start_time": "2022-08-31T07:37:12.591Z"
   },
   {
    "duration": 7,
    "start_time": "2022-08-31T07:37:12.705Z"
   },
   {
    "duration": 12,
    "start_time": "2022-08-31T07:37:12.714Z"
   },
   {
    "duration": 26,
    "start_time": "2022-08-31T07:37:12.728Z"
   },
   {
    "duration": 50,
    "start_time": "2022-08-31T07:37:12.756Z"
   },
   {
    "duration": 29,
    "start_time": "2022-08-31T07:37:12.888Z"
   },
   {
    "duration": 5,
    "start_time": "2022-08-31T07:37:12.919Z"
   },
   {
    "duration": 63,
    "start_time": "2022-08-31T07:37:12.925Z"
   },
   {
    "duration": 6,
    "start_time": "2022-08-31T07:41:15.139Z"
   },
   {
    "duration": 231,
    "start_time": "2022-08-31T07:41:27.024Z"
   },
   {
    "duration": 6,
    "start_time": "2022-08-31T07:52:35.399Z"
   },
   {
    "duration": 12,
    "start_time": "2022-08-31T07:52:59.149Z"
   },
   {
    "duration": 16,
    "start_time": "2022-08-31T07:53:08.157Z"
   },
   {
    "duration": 17,
    "start_time": "2022-08-31T07:53:20.725Z"
   },
   {
    "duration": 1534,
    "start_time": "2022-08-31T08:23:16.661Z"
   },
   {
    "duration": 33,
    "start_time": "2022-08-31T08:23:18.197Z"
   },
   {
    "duration": 23,
    "start_time": "2022-08-31T08:23:18.232Z"
   },
   {
    "duration": 35,
    "start_time": "2022-08-31T08:23:18.257Z"
   },
   {
    "duration": 6,
    "start_time": "2022-08-31T08:23:18.295Z"
   },
   {
    "duration": 267,
    "start_time": "2022-08-31T08:23:18.304Z"
   },
   {
    "duration": 314,
    "start_time": "2022-08-31T08:23:18.573Z"
   },
   {
    "duration": 7,
    "start_time": "2022-08-31T08:23:18.889Z"
   },
   {
    "duration": 8,
    "start_time": "2022-08-31T08:23:18.898Z"
   },
   {
    "duration": 9,
    "start_time": "2022-08-31T08:23:18.907Z"
   },
   {
    "duration": 8,
    "start_time": "2022-08-31T08:23:18.918Z"
   },
   {
    "duration": 380,
    "start_time": "2022-08-31T08:23:18.929Z"
   },
   {
    "duration": 12,
    "start_time": "2022-08-31T08:23:19.312Z"
   },
   {
    "duration": 168,
    "start_time": "2022-08-31T08:23:19.327Z"
   },
   {
    "duration": 289,
    "start_time": "2022-08-31T08:23:19.497Z"
   },
   {
    "duration": 5,
    "start_time": "2022-08-31T08:23:19.788Z"
   },
   {
    "duration": 9,
    "start_time": "2022-08-31T08:23:19.795Z"
   },
   {
    "duration": 16,
    "start_time": "2022-08-31T08:23:19.806Z"
   },
   {
    "duration": 74,
    "start_time": "2022-08-31T08:23:19.824Z"
   },
   {
    "duration": 101,
    "start_time": "2022-08-31T08:23:19.901Z"
   },
   {
    "duration": 5,
    "start_time": "2022-08-31T08:23:20.004Z"
   },
   {
    "duration": 76,
    "start_time": "2022-08-31T08:23:20.011Z"
   }
  ],
  "kernelspec": {
   "display_name": "Python 3 (ipykernel)",
   "language": "python",
   "name": "python3"
  },
  "language_info": {
   "codemirror_mode": {
    "name": "ipython",
    "version": 3
   },
   "file_extension": ".py",
   "mimetype": "text/x-python",
   "name": "python",
   "nbconvert_exporter": "python",
   "pygments_lexer": "ipython3",
   "version": "3.9.7"
  },
  "toc": {
   "base_numbering": 1,
   "nav_menu": {},
   "number_sections": true,
   "sideBar": true,
   "skip_h1_title": true,
   "title_cell": "Содержание",
   "title_sidebar": "Contents",
   "toc_cell": true,
   "toc_position": {
    "height": "calc(100% - 180px)",
    "left": "10px",
    "top": "150px",
    "width": "255.594px"
   },
   "toc_section_display": true,
   "toc_window_display": true
  }
 },
 "nbformat": 4,
 "nbformat_minor": 2
}
