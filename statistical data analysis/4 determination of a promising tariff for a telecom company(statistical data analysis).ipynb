{
 "cells": [
  {
   "cell_type": "markdown",
   "id": "85203a59",
   "metadata": {},
   "source": [
    "# Исследование доходности тарифов компании \"Мегалайн\"\n",
    "\n",
    "***Заказчик:*** \n",
    "\n",
    "«Мегалайн» — федеральный оператор сотовой связи. \n",
    "\n",
    "***Задание:***\n",
    "\n",
    "Есть два тарифных плана: «Смарт» и «Ультра». Для корректировки рекламного бюджета, необходимо выбрать один их двух тарифов, который приносит больше прибыли. \n",
    "\n",
    "***Ход исследования:***\n",
    "\n",
    "Сделать предварительный анализ анализ тарифов, но присланной выборке клиентов (их 500 человек):  кто они, откуда, каким тарифом пользуются, сколько звонков и сообщений каждый отправил за 2018 год.\n",
    "\n",
    "***Описание тарифов:***\n",
    "- Тариф «Смарт»\n",
    "\n",
    "  Ежемесячная плата: 550 рублей\n",
    "\n",
    "  Включено 500 минут разговора, 50 сообщений и 15 Гб интернет-трафика\n",
    "  \n",
    "  Стоимость услуг сверх тарифного пакета:\n",
    "  \n",
    "  минута разговора: 3 рубля\n",
    "  \n",
    "  сообщение: 3 рубля\n",
    "  \n",
    "  1 Гб интернет-трафика: 200 рублей\n",
    "  \n",
    "\n",
    "- Тариф «Ультра»\n",
    "  \n",
    "  Ежемесячная плата: 1950 рублей\n",
    "  \n",
    "  Включено 3000 минут разговора, 1000 сообщений и 30 Гб интернет-трафика\n",
    "  \n",
    "  Стоимость услуг сверх тарифного пакета:\n",
    "  \n",
    "  минута разговора: 1 рубль\n",
    "  \n",
    "  сообщение: 1 рубль\n",
    "  \n",
    "  1 Гб интернет-трафика: 150 рублей"
   ]
  },
  {
   "cell_type": "markdown",
   "id": "8792fc4d",
   "metadata": {},
   "source": [
    "## Анализ и подготовка данных"
   ]
  },
  {
   "cell_type": "code",
   "execution_count": 1,
   "id": "3f0a9712",
   "metadata": {},
   "outputs": [],
   "source": [
    "# импортируем нужные библиотеки\n",
    "import pandas as pd\n",
    "import numpy as np\n",
    "import seaborn as sb\n",
    "import matplotlib.pyplot as plt\n",
    "import datetime as dt\n",
    "from scipy import stats as st\n",
    "import warnings"
   ]
  },
  {
   "cell_type": "markdown",
   "id": "0fa34bab",
   "metadata": {},
   "source": [
    "Откроем и прочитаем данные:"
   ]
  },
  {
   "cell_type": "code",
   "execution_count": 2,
   "id": "7dcf7114",
   "metadata": {},
   "outputs": [],
   "source": [
    "# читаем данные в отдельные переменные\n",
    "try:\n",
    "    calls = pd.read_csv('/datasets/calls.csv')\n",
    "    internet = pd.read_csv('/datasets/internet.csv')\n",
    "    messages = pd.read_csv('/datasets/messages.csv')\n",
    "    tariffs = pd.read_csv('/datasets/tariffs.csv')\n",
    "    users = pd.read_csv('/datasets/users.csv')\n",
    "except:\n",
    "    calls = pd.read_csv('/Users/refresh/Downloads/calls.csv')\n",
    "    internet = pd.read_csv('/Users/refresh/Downloads/internet.csv')\n",
    "    messages = pd.read_csv('/Users/refresh/Downloads/messages.csv')\n",
    "    tariffs = pd.read_csv('/Users/refresh/Downloads/tariffs.csv')\n",
    "    users = pd.read_csv('/Users/refresh/Downloads/users.csv')"
   ]
  },
  {
   "cell_type": "markdown",
   "id": "4a7f069b",
   "metadata": {},
   "source": [
    "Рассмотрим отдельньно каждую таблицу:\n",
    "\n",
    "\n",
    "### Таблица tariffs (информация о тарифах):"
   ]
  },
  {
   "cell_type": "code",
   "execution_count": 3,
   "id": "5ff9c97c",
   "metadata": {},
   "outputs": [
    {
     "name": "stdout",
     "output_type": "stream",
     "text": [
      "<class 'pandas.core.frame.DataFrame'>\n",
      "RangeIndex: 2 entries, 0 to 1\n",
      "Data columns (total 8 columns):\n",
      " #   Column                 Non-Null Count  Dtype \n",
      "---  ------                 --------------  ----- \n",
      " 0   messages_included      2 non-null      int64 \n",
      " 1   mb_per_month_included  2 non-null      int64 \n",
      " 2   minutes_included       2 non-null      int64 \n",
      " 3   rub_monthly_fee        2 non-null      int64 \n",
      " 4   rub_per_gb             2 non-null      int64 \n",
      " 5   rub_per_message        2 non-null      int64 \n",
      " 6   rub_per_minute         2 non-null      int64 \n",
      " 7   tariff_name            2 non-null      object\n",
      "dtypes: int64(7), object(1)\n",
      "memory usage: 256.0+ bytes\n"
     ]
    },
    {
     "data": {
      "text/html": [
       "<div>\n",
       "<style scoped>\n",
       "    .dataframe tbody tr th:only-of-type {\n",
       "        vertical-align: middle;\n",
       "    }\n",
       "\n",
       "    .dataframe tbody tr th {\n",
       "        vertical-align: top;\n",
       "    }\n",
       "\n",
       "    .dataframe thead th {\n",
       "        text-align: right;\n",
       "    }\n",
       "</style>\n",
       "<table border=\"1\" class=\"dataframe\">\n",
       "  <thead>\n",
       "    <tr style=\"text-align: right;\">\n",
       "      <th></th>\n",
       "      <th>messages_included</th>\n",
       "      <th>mb_per_month_included</th>\n",
       "      <th>minutes_included</th>\n",
       "      <th>rub_monthly_fee</th>\n",
       "      <th>rub_per_gb</th>\n",
       "      <th>rub_per_message</th>\n",
       "      <th>rub_per_minute</th>\n",
       "      <th>tariff_name</th>\n",
       "    </tr>\n",
       "  </thead>\n",
       "  <tbody>\n",
       "    <tr>\n",
       "      <th>0</th>\n",
       "      <td>50</td>\n",
       "      <td>15360</td>\n",
       "      <td>500</td>\n",
       "      <td>550</td>\n",
       "      <td>200</td>\n",
       "      <td>3</td>\n",
       "      <td>3</td>\n",
       "      <td>smart</td>\n",
       "    </tr>\n",
       "    <tr>\n",
       "      <th>1</th>\n",
       "      <td>1000</td>\n",
       "      <td>30720</td>\n",
       "      <td>3000</td>\n",
       "      <td>1950</td>\n",
       "      <td>150</td>\n",
       "      <td>1</td>\n",
       "      <td>1</td>\n",
       "      <td>ultra</td>\n",
       "    </tr>\n",
       "  </tbody>\n",
       "</table>\n",
       "</div>"
      ],
      "text/plain": [
       "   messages_included  mb_per_month_included  minutes_included  \\\n",
       "0                 50                  15360               500   \n",
       "1               1000                  30720              3000   \n",
       "\n",
       "   rub_monthly_fee  rub_per_gb  rub_per_message  rub_per_minute tariff_name  \n",
       "0              550         200                3               3       smart  \n",
       "1             1950         150                1               1       ultra  "
      ]
     },
     "execution_count": 3,
     "metadata": {},
     "output_type": "execute_result"
    }
   ],
   "source": [
    "# информация\n",
    "tariffs.info()\n",
    "tariffs.head(3)"
   ]
  },
  {
   "cell_type": "markdown",
   "id": "4417d917",
   "metadata": {},
   "source": [
    "Столбцы:\n",
    "- tariff_name — название тарифа\n",
    "- rub_monthly_fee — ежемесячная абонентская плата в рублях\n",
    "- minutes_included — количество минут разговора в месяц, включённых в абонентскую плату\n",
    "- messages_included — количество сообщений в месяц, включённых в абонентскую плату\n",
    "- mb_per_month_included — объём интернет-трафика, включённого в абонентскую плату (в мегабайтах)\n",
    "- rub_per_minute — стоимость минуты разговора сверх тарифного пакета (например, если в тарифе 100 минут разговора в месяц, то со 101 минуты будет взиматься плата)\n",
    "- rub_per_message — стоимость отправки сообщения сверх тарифного пакета\n",
    "- rub_per_gb — стоимость дополнительного гигабайта интернет-трафика сверх тарифного пакета (1 гигабайт = 1024 мегабайта)\n",
    "\n",
    "Таблица с тарифами содержит информацию о двух тарифах. Данные выглядят нормально. В этой таблице содержатся константы для нашего исследования, запомним их в переменные:"
   ]
  },
  {
   "cell_type": "code",
   "execution_count": 4,
   "id": "a3ae352f",
   "metadata": {},
   "outputs": [],
   "source": [
    "# константы\n",
    "# smart\n",
    "s_payment = int(tariffs.loc[tariffs['tariff_name'] =='smart']['rub_monthly_fee'])\n",
    "s_minutes = int(tariffs.loc[tariffs['tariff_name']=='smart']['minutes_included'])\n",
    "s_messages = int(tariffs.loc[tariffs['tariff_name']=='smart']['messages_included'])\n",
    "s_internet = int(tariffs.loc[tariffs['tariff_name']=='smart']['mb_per_month_included'])\n",
    "s_minutes_plus = int(tariffs.loc[tariffs['tariff_name']=='smart']['rub_per_minute'])\n",
    "s_messages_plus = int(tariffs.loc[tariffs['tariff_name']=='smart']['rub_per_message'])\n",
    "s_internet_plus = int(tariffs.loc[tariffs['tariff_name']=='smart']['rub_per_gb'])\n",
    "\n",
    "# ultra\n",
    "u_payment = int(tariffs.loc[tariffs['tariff_name']=='ultra']['rub_monthly_fee'])\n",
    "u_minutes = int(tariffs.loc[tariffs['tariff_name']=='ultra']['minutes_included'])\n",
    "u_messages = int(tariffs.loc[tariffs['tariff_name']=='ultra']['messages_included'])\n",
    "u_internet = int(tariffs.loc[tariffs['tariff_name']=='ultra']['mb_per_month_included'])\n",
    "u_minutes_plus = int(tariffs.loc[tariffs['tariff_name']=='ultra']['rub_per_minute'])\n",
    "u_messages_plus = int(tariffs.loc[tariffs['tariff_name']=='ultra']['rub_per_message'])\n",
    "u_internet_plus = int(tariffs.loc[tariffs['tariff_name']=='ultra']['rub_per_gb'])"
   ]
  },
  {
   "cell_type": "markdown",
   "id": "f06df48b",
   "metadata": {},
   "source": [
    "### Таблица calls (информация о звонках):"
   ]
  },
  {
   "cell_type": "code",
   "execution_count": 5,
   "id": "582d1409",
   "metadata": {},
   "outputs": [
    {
     "name": "stdout",
     "output_type": "stream",
     "text": [
      "<class 'pandas.core.frame.DataFrame'>\n",
      "RangeIndex: 202607 entries, 0 to 202606\n",
      "Data columns (total 4 columns):\n",
      " #   Column     Non-Null Count   Dtype  \n",
      "---  ------     --------------   -----  \n",
      " 0   id         202607 non-null  object \n",
      " 1   call_date  202607 non-null  object \n",
      " 2   duration   202607 non-null  float64\n",
      " 3   user_id    202607 non-null  int64  \n",
      "dtypes: float64(1), int64(1), object(2)\n",
      "memory usage: 6.2+ MB\n"
     ]
    },
    {
     "data": {
      "text/html": [
       "<div>\n",
       "<style scoped>\n",
       "    .dataframe tbody tr th:only-of-type {\n",
       "        vertical-align: middle;\n",
       "    }\n",
       "\n",
       "    .dataframe tbody tr th {\n",
       "        vertical-align: top;\n",
       "    }\n",
       "\n",
       "    .dataframe thead th {\n",
       "        text-align: right;\n",
       "    }\n",
       "</style>\n",
       "<table border=\"1\" class=\"dataframe\">\n",
       "  <thead>\n",
       "    <tr style=\"text-align: right;\">\n",
       "      <th></th>\n",
       "      <th>id</th>\n",
       "      <th>call_date</th>\n",
       "      <th>duration</th>\n",
       "      <th>user_id</th>\n",
       "    </tr>\n",
       "  </thead>\n",
       "  <tbody>\n",
       "    <tr>\n",
       "      <th>0</th>\n",
       "      <td>1000_0</td>\n",
       "      <td>2018-07-25</td>\n",
       "      <td>0.00</td>\n",
       "      <td>1000</td>\n",
       "    </tr>\n",
       "    <tr>\n",
       "      <th>1</th>\n",
       "      <td>1000_1</td>\n",
       "      <td>2018-08-17</td>\n",
       "      <td>0.00</td>\n",
       "      <td>1000</td>\n",
       "    </tr>\n",
       "    <tr>\n",
       "      <th>2</th>\n",
       "      <td>1000_2</td>\n",
       "      <td>2018-06-11</td>\n",
       "      <td>2.85</td>\n",
       "      <td>1000</td>\n",
       "    </tr>\n",
       "  </tbody>\n",
       "</table>\n",
       "</div>"
      ],
      "text/plain": [
       "       id   call_date  duration  user_id\n",
       "0  1000_0  2018-07-25      0.00     1000\n",
       "1  1000_1  2018-08-17      0.00     1000\n",
       "2  1000_2  2018-06-11      2.85     1000"
      ]
     },
     "execution_count": 5,
     "metadata": {},
     "output_type": "execute_result"
    }
   ],
   "source": [
    "# смотрим информацию\n",
    "calls.info()\n",
    "calls.head(3)"
   ]
  },
  {
   "cell_type": "markdown",
   "id": "f2a2c4ab",
   "metadata": {},
   "source": [
    "Столбцы:\n",
    "- id — уникальный номер звонка\n",
    "- call_date — дата звонка\n",
    "- duration — длительность звонка в минутах\n",
    "- user_id — идентификатор пользователя, сделавшего звонок\n",
    "\n",
    "В таблице нет пропущенных значний.\n",
    "\n",
    "Тип данных в длительности звонка не удобный, поменяем на дату:"
   ]
  },
  {
   "cell_type": "code",
   "execution_count": 6,
   "id": "3b21cbb0",
   "metadata": {},
   "outputs": [
    {
     "data": {
      "text/plain": [
       "0   2018-07-25\n",
       "1   2018-08-17\n",
       "2   2018-06-11\n",
       "Name: call_date, dtype: datetime64[ns]"
      ]
     },
     "execution_count": 6,
     "metadata": {},
     "output_type": "execute_result"
    }
   ],
   "source": [
    "# используем функцию to_datetime для преобразования в формат даты\n",
    "calls['call_date'] = pd.to_datetime(calls['call_date'], format='%Y-%m-%d')\n",
    "calls['call_date'].head(3)"
   ]
  },
  {
   "cell_type": "markdown",
   "id": "d95760cf",
   "metadata": {},
   "source": [
    "«Мегалайн» всегда округляет секунды до минут в большую сторону. Округлим и поменяем тип на целочисленный:"
   ]
  },
  {
   "cell_type": "code",
   "execution_count": 7,
   "id": "c75ca756",
   "metadata": {},
   "outputs": [
    {
     "data": {
      "text/html": [
       "<div>\n",
       "<style scoped>\n",
       "    .dataframe tbody tr th:only-of-type {\n",
       "        vertical-align: middle;\n",
       "    }\n",
       "\n",
       "    .dataframe tbody tr th {\n",
       "        vertical-align: top;\n",
       "    }\n",
       "\n",
       "    .dataframe thead th {\n",
       "        text-align: right;\n",
       "    }\n",
       "</style>\n",
       "<table border=\"1\" class=\"dataframe\">\n",
       "  <thead>\n",
       "    <tr style=\"text-align: right;\">\n",
       "      <th></th>\n",
       "      <th>id</th>\n",
       "      <th>call_date</th>\n",
       "      <th>duration</th>\n",
       "      <th>user_id</th>\n",
       "    </tr>\n",
       "  </thead>\n",
       "  <tbody>\n",
       "    <tr>\n",
       "      <th>0</th>\n",
       "      <td>1000_0</td>\n",
       "      <td>2018-07-25</td>\n",
       "      <td>0</td>\n",
       "      <td>1000</td>\n",
       "    </tr>\n",
       "    <tr>\n",
       "      <th>1</th>\n",
       "      <td>1000_1</td>\n",
       "      <td>2018-08-17</td>\n",
       "      <td>0</td>\n",
       "      <td>1000</td>\n",
       "    </tr>\n",
       "    <tr>\n",
       "      <th>2</th>\n",
       "      <td>1000_2</td>\n",
       "      <td>2018-06-11</td>\n",
       "      <td>3</td>\n",
       "      <td>1000</td>\n",
       "    </tr>\n",
       "  </tbody>\n",
       "</table>\n",
       "</div>"
      ],
      "text/plain": [
       "       id  call_date  duration  user_id\n",
       "0  1000_0 2018-07-25         0     1000\n",
       "1  1000_1 2018-08-17         0     1000\n",
       "2  1000_2 2018-06-11         3     1000"
      ]
     },
     "execution_count": 7,
     "metadata": {},
     "output_type": "execute_result"
    }
   ],
   "source": [
    "# округляем в большую сторону np.ceil, делаем целочисленный тип и проверяем\n",
    "calls['duration'] = np.ceil(calls['duration'])\n",
    "calls['duration'] = calls['duration'].astype(int)\n",
    "calls.head(3)"
   ]
  },
  {
   "cell_type": "markdown",
   "id": "db1d736f",
   "metadata": {},
   "source": [
    "### Таблица internet (информация об интернет-сессиях):"
   ]
  },
  {
   "cell_type": "code",
   "execution_count": 8,
   "id": "dd7a8a34",
   "metadata": {},
   "outputs": [
    {
     "name": "stdout",
     "output_type": "stream",
     "text": [
      "<class 'pandas.core.frame.DataFrame'>\n",
      "RangeIndex: 149396 entries, 0 to 149395\n",
      "Data columns (total 5 columns):\n",
      " #   Column        Non-Null Count   Dtype  \n",
      "---  ------        --------------   -----  \n",
      " 0   Unnamed: 0    149396 non-null  int64  \n",
      " 1   id            149396 non-null  object \n",
      " 2   mb_used       149396 non-null  float64\n",
      " 3   session_date  149396 non-null  object \n",
      " 4   user_id       149396 non-null  int64  \n",
      "dtypes: float64(1), int64(2), object(2)\n",
      "memory usage: 5.7+ MB\n"
     ]
    },
    {
     "data": {
      "text/html": [
       "<div>\n",
       "<style scoped>\n",
       "    .dataframe tbody tr th:only-of-type {\n",
       "        vertical-align: middle;\n",
       "    }\n",
       "\n",
       "    .dataframe tbody tr th {\n",
       "        vertical-align: top;\n",
       "    }\n",
       "\n",
       "    .dataframe thead th {\n",
       "        text-align: right;\n",
       "    }\n",
       "</style>\n",
       "<table border=\"1\" class=\"dataframe\">\n",
       "  <thead>\n",
       "    <tr style=\"text-align: right;\">\n",
       "      <th></th>\n",
       "      <th>Unnamed: 0</th>\n",
       "      <th>id</th>\n",
       "      <th>mb_used</th>\n",
       "      <th>session_date</th>\n",
       "      <th>user_id</th>\n",
       "    </tr>\n",
       "  </thead>\n",
       "  <tbody>\n",
       "    <tr>\n",
       "      <th>0</th>\n",
       "      <td>0</td>\n",
       "      <td>1000_0</td>\n",
       "      <td>112.95</td>\n",
       "      <td>2018-11-25</td>\n",
       "      <td>1000</td>\n",
       "    </tr>\n",
       "    <tr>\n",
       "      <th>1</th>\n",
       "      <td>1</td>\n",
       "      <td>1000_1</td>\n",
       "      <td>1052.81</td>\n",
       "      <td>2018-09-07</td>\n",
       "      <td>1000</td>\n",
       "    </tr>\n",
       "    <tr>\n",
       "      <th>2</th>\n",
       "      <td>2</td>\n",
       "      <td>1000_2</td>\n",
       "      <td>1197.26</td>\n",
       "      <td>2018-06-25</td>\n",
       "      <td>1000</td>\n",
       "    </tr>\n",
       "  </tbody>\n",
       "</table>\n",
       "</div>"
      ],
      "text/plain": [
       "   Unnamed: 0      id  mb_used session_date  user_id\n",
       "0           0  1000_0   112.95   2018-11-25     1000\n",
       "1           1  1000_1  1052.81   2018-09-07     1000\n",
       "2           2  1000_2  1197.26   2018-06-25     1000"
      ]
     },
     "execution_count": 8,
     "metadata": {},
     "output_type": "execute_result"
    }
   ],
   "source": [
    "# смотрим информацию\n",
    "internet.info()\n",
    "internet.head(3)"
   ]
  },
  {
   "cell_type": "markdown",
   "id": "8c4c10a6",
   "metadata": {},
   "source": [
    "Столбцы:\n",
    "- id — уникальный номер сессии\n",
    "- mb_used — объём потраченного за сессию интернет-трафика (в мегабайтах)\n",
    "- session_date — дата интернет-сессии\n",
    "- user_id — идентификатор пользователя\n",
    "\n",
    "В таблице нет пропусков\n",
    "\n",
    "Не понятно назначние столбца Unnamed: 0."
   ]
  },
  {
   "cell_type": "code",
   "execution_count": 9,
   "id": "15b5a451",
   "metadata": {},
   "outputs": [
    {
     "data": {
      "text/plain": [
       "array([     0,      1,      2, ..., 149393, 149394, 149395])"
      ]
     },
     "execution_count": 9,
     "metadata": {},
     "output_type": "execute_result"
    }
   ],
   "source": [
    "# смотрим уникальные значения\n",
    "internet['Unnamed: 0'].unique()"
   ]
  },
  {
   "cell_type": "markdown",
   "id": "ff9c5c4d",
   "metadata": {},
   "source": [
    "Скорее всего это столбец с индексами, он нам не нужен."
   ]
  },
  {
   "cell_type": "code",
   "execution_count": 10,
   "id": "4086efa7",
   "metadata": {},
   "outputs": [
    {
     "data": {
      "text/html": [
       "<div>\n",
       "<style scoped>\n",
       "    .dataframe tbody tr th:only-of-type {\n",
       "        vertical-align: middle;\n",
       "    }\n",
       "\n",
       "    .dataframe tbody tr th {\n",
       "        vertical-align: top;\n",
       "    }\n",
       "\n",
       "    .dataframe thead th {\n",
       "        text-align: right;\n",
       "    }\n",
       "</style>\n",
       "<table border=\"1\" class=\"dataframe\">\n",
       "  <thead>\n",
       "    <tr style=\"text-align: right;\">\n",
       "      <th></th>\n",
       "      <th>id</th>\n",
       "      <th>mb_used</th>\n",
       "      <th>session_date</th>\n",
       "      <th>user_id</th>\n",
       "    </tr>\n",
       "  </thead>\n",
       "  <tbody>\n",
       "    <tr>\n",
       "      <th>0</th>\n",
       "      <td>1000_0</td>\n",
       "      <td>112.95</td>\n",
       "      <td>2018-11-25</td>\n",
       "      <td>1000</td>\n",
       "    </tr>\n",
       "    <tr>\n",
       "      <th>1</th>\n",
       "      <td>1000_1</td>\n",
       "      <td>1052.81</td>\n",
       "      <td>2018-09-07</td>\n",
       "      <td>1000</td>\n",
       "    </tr>\n",
       "    <tr>\n",
       "      <th>2</th>\n",
       "      <td>1000_2</td>\n",
       "      <td>1197.26</td>\n",
       "      <td>2018-06-25</td>\n",
       "      <td>1000</td>\n",
       "    </tr>\n",
       "  </tbody>\n",
       "</table>\n",
       "</div>"
      ],
      "text/plain": [
       "       id  mb_used session_date  user_id\n",
       "0  1000_0   112.95   2018-11-25     1000\n",
       "1  1000_1  1052.81   2018-09-07     1000\n",
       "2  1000_2  1197.26   2018-06-25     1000"
      ]
     },
     "execution_count": 10,
     "metadata": {},
     "output_type": "execute_result"
    }
   ],
   "source": [
    "# удаляем функцией drop\n",
    "internet = internet.drop(['Unnamed: 0'], axis=1)\n",
    "internet.head(3)"
   ]
  },
  {
   "cell_type": "markdown",
   "id": "81345f46",
   "metadata": {},
   "source": [
    "Поменяем тип данных в дате интернет-сессии:"
   ]
  },
  {
   "cell_type": "code",
   "execution_count": 11,
   "id": "89cc524a",
   "metadata": {},
   "outputs": [
    {
     "data": {
      "text/plain": [
       "0   2018-11-25\n",
       "1   2018-09-07\n",
       "2   2018-06-25\n",
       "Name: session_date, dtype: datetime64[ns]"
      ]
     },
     "execution_count": 11,
     "metadata": {},
     "output_type": "execute_result"
    }
   ],
   "source": [
    "# преобразуем тип в дату\n",
    "internet['session_date'] = pd.to_datetime(internet['session_date'], format='%Y-%m-%d')\n",
    "internet['session_date'].head(3)"
   ]
  },
  {
   "cell_type": "markdown",
   "id": "f3cc1b6d",
   "metadata": {},
   "source": [
    "Считаем количество трафика за месяц и округляем в большую сторону."
   ]
  },
  {
   "cell_type": "code",
   "execution_count": 12,
   "id": "6d49355b",
   "metadata": {},
   "outputs": [
    {
     "data": {
      "text/html": [
       "<div>\n",
       "<style scoped>\n",
       "    .dataframe tbody tr th:only-of-type {\n",
       "        vertical-align: middle;\n",
       "    }\n",
       "\n",
       "    .dataframe tbody tr th {\n",
       "        vertical-align: top;\n",
       "    }\n",
       "\n",
       "    .dataframe thead th {\n",
       "        text-align: right;\n",
       "    }\n",
       "</style>\n",
       "<table border=\"1\" class=\"dataframe\">\n",
       "  <thead>\n",
       "    <tr style=\"text-align: right;\">\n",
       "      <th></th>\n",
       "      <th></th>\n",
       "      <th>mb_used</th>\n",
       "      <th>gb_used</th>\n",
       "    </tr>\n",
       "    <tr>\n",
       "      <th>user_id</th>\n",
       "      <th>month</th>\n",
       "      <th></th>\n",
       "      <th></th>\n",
       "    </tr>\n",
       "  </thead>\n",
       "  <tbody>\n",
       "    <tr>\n",
       "      <th rowspan=\"5\" valign=\"top\">1000</th>\n",
       "      <th>August</th>\n",
       "      <td>14055.93</td>\n",
       "      <td>14.0</td>\n",
       "    </tr>\n",
       "    <tr>\n",
       "      <th>December</th>\n",
       "      <td>9817.61</td>\n",
       "      <td>10.0</td>\n",
       "    </tr>\n",
       "    <tr>\n",
       "      <th>July</th>\n",
       "      <td>14003.64</td>\n",
       "      <td>14.0</td>\n",
       "    </tr>\n",
       "    <tr>\n",
       "      <th>June</th>\n",
       "      <td>23233.77</td>\n",
       "      <td>23.0</td>\n",
       "    </tr>\n",
       "    <tr>\n",
       "      <th>May</th>\n",
       "      <td>2253.49</td>\n",
       "      <td>3.0</td>\n",
       "    </tr>\n",
       "  </tbody>\n",
       "</table>\n",
       "</div>"
      ],
      "text/plain": [
       "                   mb_used  gb_used\n",
       "user_id month                      \n",
       "1000    August    14055.93     14.0\n",
       "        December   9817.61     10.0\n",
       "        July      14003.64     14.0\n",
       "        June      23233.77     23.0\n",
       "        May        2253.49      3.0"
      ]
     },
     "execution_count": 12,
     "metadata": {},
     "output_type": "execute_result"
    }
   ],
   "source": [
    "# добавляем столбец с месяцами\n",
    "internet['month'] = internet['session_date'].dt.month_name()\n",
    "# группируем по клиенту, месяцу и сумме трафика\n",
    "internet_gb = internet.pivot_table(index=['user_id', 'month'] , values='mb_used', aggfunc='sum')\n",
    "# добавляем столбец с округлёнными гигабайтами\n",
    "internet_gb['gb_used'] = np.ceil(internet_gb['mb_used'] / 1024)\n",
    "internet_gb.head()"
   ]
  },
  {
   "cell_type": "markdown",
   "id": "c8b5e3ca",
   "metadata": {},
   "source": [
    "### Таблица messages (информация о сообщениях):"
   ]
  },
  {
   "cell_type": "code",
   "execution_count": 13,
   "id": "111e3f3b",
   "metadata": {},
   "outputs": [
    {
     "name": "stdout",
     "output_type": "stream",
     "text": [
      "<class 'pandas.core.frame.DataFrame'>\n",
      "RangeIndex: 123036 entries, 0 to 123035\n",
      "Data columns (total 3 columns):\n",
      " #   Column        Non-Null Count   Dtype \n",
      "---  ------        --------------   ----- \n",
      " 0   id            123036 non-null  object\n",
      " 1   message_date  123036 non-null  object\n",
      " 2   user_id       123036 non-null  int64 \n",
      "dtypes: int64(1), object(2)\n",
      "memory usage: 2.8+ MB\n"
     ]
    },
    {
     "data": {
      "text/html": [
       "<div>\n",
       "<style scoped>\n",
       "    .dataframe tbody tr th:only-of-type {\n",
       "        vertical-align: middle;\n",
       "    }\n",
       "\n",
       "    .dataframe tbody tr th {\n",
       "        vertical-align: top;\n",
       "    }\n",
       "\n",
       "    .dataframe thead th {\n",
       "        text-align: right;\n",
       "    }\n",
       "</style>\n",
       "<table border=\"1\" class=\"dataframe\">\n",
       "  <thead>\n",
       "    <tr style=\"text-align: right;\">\n",
       "      <th></th>\n",
       "      <th>id</th>\n",
       "      <th>message_date</th>\n",
       "      <th>user_id</th>\n",
       "    </tr>\n",
       "  </thead>\n",
       "  <tbody>\n",
       "    <tr>\n",
       "      <th>0</th>\n",
       "      <td>1000_0</td>\n",
       "      <td>2018-06-27</td>\n",
       "      <td>1000</td>\n",
       "    </tr>\n",
       "    <tr>\n",
       "      <th>1</th>\n",
       "      <td>1000_1</td>\n",
       "      <td>2018-10-08</td>\n",
       "      <td>1000</td>\n",
       "    </tr>\n",
       "    <tr>\n",
       "      <th>2</th>\n",
       "      <td>1000_2</td>\n",
       "      <td>2018-08-04</td>\n",
       "      <td>1000</td>\n",
       "    </tr>\n",
       "  </tbody>\n",
       "</table>\n",
       "</div>"
      ],
      "text/plain": [
       "       id message_date  user_id\n",
       "0  1000_0   2018-06-27     1000\n",
       "1  1000_1   2018-10-08     1000\n",
       "2  1000_2   2018-08-04     1000"
      ]
     },
     "execution_count": 13,
     "metadata": {},
     "output_type": "execute_result"
    }
   ],
   "source": [
    "# информация\n",
    "messages.info()\n",
    "messages.head(3)"
   ]
  },
  {
   "cell_type": "markdown",
   "id": "9f2ef033",
   "metadata": {},
   "source": [
    "Столбцы:\n",
    "- id — уникальный номер сообщения\n",
    "- message_date — дата сообщения\n",
    "- user_id — идентификатор пользователя, отправившего сообщение\n",
    "\n",
    "В таблице пропусков нет. Данные выглядят корректно. В столбце с датой поменяем тип данных."
   ]
  },
  {
   "cell_type": "code",
   "execution_count": 14,
   "id": "484fb802",
   "metadata": {},
   "outputs": [],
   "source": [
    "# приводим информацию к типу дата\n",
    "messages['message_date'] = pd.to_datetime(messages['message_date'], format='%Y-%m-%d')"
   ]
  },
  {
   "cell_type": "markdown",
   "id": "b3ec2eec",
   "metadata": {},
   "source": [
    "Добавим месяц в таблицу."
   ]
  },
  {
   "cell_type": "code",
   "execution_count": 15,
   "id": "41b3502d",
   "metadata": {},
   "outputs": [
    {
     "data": {
      "text/html": [
       "<div>\n",
       "<style scoped>\n",
       "    .dataframe tbody tr th:only-of-type {\n",
       "        vertical-align: middle;\n",
       "    }\n",
       "\n",
       "    .dataframe tbody tr th {\n",
       "        vertical-align: top;\n",
       "    }\n",
       "\n",
       "    .dataframe thead th {\n",
       "        text-align: right;\n",
       "    }\n",
       "</style>\n",
       "<table border=\"1\" class=\"dataframe\">\n",
       "  <thead>\n",
       "    <tr style=\"text-align: right;\">\n",
       "      <th></th>\n",
       "      <th>id</th>\n",
       "      <th>message_date</th>\n",
       "      <th>user_id</th>\n",
       "      <th>month</th>\n",
       "    </tr>\n",
       "  </thead>\n",
       "  <tbody>\n",
       "    <tr>\n",
       "      <th>0</th>\n",
       "      <td>1000_0</td>\n",
       "      <td>2018-06-27</td>\n",
       "      <td>1000</td>\n",
       "      <td>June</td>\n",
       "    </tr>\n",
       "    <tr>\n",
       "      <th>1</th>\n",
       "      <td>1000_1</td>\n",
       "      <td>2018-10-08</td>\n",
       "      <td>1000</td>\n",
       "      <td>October</td>\n",
       "    </tr>\n",
       "    <tr>\n",
       "      <th>2</th>\n",
       "      <td>1000_2</td>\n",
       "      <td>2018-08-04</td>\n",
       "      <td>1000</td>\n",
       "      <td>August</td>\n",
       "    </tr>\n",
       "  </tbody>\n",
       "</table>\n",
       "</div>"
      ],
      "text/plain": [
       "       id message_date  user_id    month\n",
       "0  1000_0   2018-06-27     1000     June\n",
       "1  1000_1   2018-10-08     1000  October\n",
       "2  1000_2   2018-08-04     1000   August"
      ]
     },
     "execution_count": 15,
     "metadata": {},
     "output_type": "execute_result"
    }
   ],
   "source": [
    "# добавляем месяц в сообщения\n",
    "messages['month'] = messages['message_date'].dt.month_name()\n",
    "messages.head(3)"
   ]
  },
  {
   "cell_type": "markdown",
   "id": "63b20ade",
   "metadata": {},
   "source": [
    "### Таблица users"
   ]
  },
  {
   "cell_type": "code",
   "execution_count": 16,
   "id": "18967fe6",
   "metadata": {},
   "outputs": [
    {
     "name": "stdout",
     "output_type": "stream",
     "text": [
      "<class 'pandas.core.frame.DataFrame'>\n",
      "RangeIndex: 500 entries, 0 to 499\n",
      "Data columns (total 8 columns):\n",
      " #   Column      Non-Null Count  Dtype \n",
      "---  ------      --------------  ----- \n",
      " 0   user_id     500 non-null    int64 \n",
      " 1   age         500 non-null    int64 \n",
      " 2   churn_date  38 non-null     object\n",
      " 3   city        500 non-null    object\n",
      " 4   first_name  500 non-null    object\n",
      " 5   last_name   500 non-null    object\n",
      " 6   reg_date    500 non-null    object\n",
      " 7   tariff      500 non-null    object\n",
      "dtypes: int64(2), object(6)\n",
      "memory usage: 31.4+ KB\n"
     ]
    },
    {
     "data": {
      "text/html": [
       "<div>\n",
       "<style scoped>\n",
       "    .dataframe tbody tr th:only-of-type {\n",
       "        vertical-align: middle;\n",
       "    }\n",
       "\n",
       "    .dataframe tbody tr th {\n",
       "        vertical-align: top;\n",
       "    }\n",
       "\n",
       "    .dataframe thead th {\n",
       "        text-align: right;\n",
       "    }\n",
       "</style>\n",
       "<table border=\"1\" class=\"dataframe\">\n",
       "  <thead>\n",
       "    <tr style=\"text-align: right;\">\n",
       "      <th></th>\n",
       "      <th>user_id</th>\n",
       "      <th>age</th>\n",
       "      <th>churn_date</th>\n",
       "      <th>city</th>\n",
       "      <th>first_name</th>\n",
       "      <th>last_name</th>\n",
       "      <th>reg_date</th>\n",
       "      <th>tariff</th>\n",
       "    </tr>\n",
       "  </thead>\n",
       "  <tbody>\n",
       "    <tr>\n",
       "      <th>0</th>\n",
       "      <td>1000</td>\n",
       "      <td>52</td>\n",
       "      <td>NaN</td>\n",
       "      <td>Краснодар</td>\n",
       "      <td>Рафаил</td>\n",
       "      <td>Верещагин</td>\n",
       "      <td>2018-05-25</td>\n",
       "      <td>ultra</td>\n",
       "    </tr>\n",
       "    <tr>\n",
       "      <th>1</th>\n",
       "      <td>1001</td>\n",
       "      <td>41</td>\n",
       "      <td>NaN</td>\n",
       "      <td>Москва</td>\n",
       "      <td>Иван</td>\n",
       "      <td>Ежов</td>\n",
       "      <td>2018-11-01</td>\n",
       "      <td>smart</td>\n",
       "    </tr>\n",
       "    <tr>\n",
       "      <th>2</th>\n",
       "      <td>1002</td>\n",
       "      <td>59</td>\n",
       "      <td>NaN</td>\n",
       "      <td>Стерлитамак</td>\n",
       "      <td>Евгений</td>\n",
       "      <td>Абрамович</td>\n",
       "      <td>2018-06-17</td>\n",
       "      <td>smart</td>\n",
       "    </tr>\n",
       "  </tbody>\n",
       "</table>\n",
       "</div>"
      ],
      "text/plain": [
       "   user_id  age churn_date         city first_name  last_name    reg_date  \\\n",
       "0     1000   52        NaN    Краснодар     Рафаил  Верещагин  2018-05-25   \n",
       "1     1001   41        NaN       Москва       Иван       Ежов  2018-11-01   \n",
       "2     1002   59        NaN  Стерлитамак    Евгений  Абрамович  2018-06-17   \n",
       "\n",
       "  tariff  \n",
       "0  ultra  \n",
       "1  smart  \n",
       "2  smart  "
      ]
     },
     "execution_count": 16,
     "metadata": {},
     "output_type": "execute_result"
    }
   ],
   "source": [
    "# инфориация\n",
    "users.info()\n",
    "users.head(3)"
   ]
  },
  {
   "cell_type": "markdown",
   "id": "d5ad7b90",
   "metadata": {},
   "source": [
    "Столбцы:\n",
    "- user_id — уникальный идентификатор пользователя\n",
    "- first_name — имя пользователя\n",
    "- last_name — фамилия пользователя\n",
    "- age — возраст пользователя (годы)\n",
    "- reg_date — дата подключения тарифа (день, месяц, год)\n",
    "- churn_date — дата прекращения пользования тарифом (если значение пропущено, то тариф ещё действовал на момент выгрузки данных)\n",
    "- city — город проживания пользователя\n",
    "- tariff — название тарифного плана\n",
    "\n",
    "В таблице есть пропуски, но они там не случайно. Дату надо привести к соответсвующщему типу."
   ]
  },
  {
   "cell_type": "code",
   "execution_count": 17,
   "id": "d8694b1b",
   "metadata": {},
   "outputs": [],
   "source": [
    "# приводим к формату дата\n",
    "users['reg_date'] = pd.to_datetime(users['reg_date'], format='%Y-%m-%d')\n",
    "users['churn_date'] = pd.to_datetime(users['churn_date'], format='%Y-%m-%d')"
   ]
  },
  {
   "cell_type": "code",
   "execution_count": 18,
   "id": "c8d02783",
   "metadata": {},
   "outputs": [
    {
     "name": "stdout",
     "output_type": "stream",
     "text": [
      "разновидности тарифов ['ultra' 'smart']\n"
     ]
    }
   ],
   "source": [
    "# проверка на то, что в данных присутсвуют только два данных в исследовании тарифа \n",
    "print(f\"разновидности тарифов {users['tariff'].unique()}\")"
   ]
  },
  {
   "cell_type": "markdown",
   "id": "df618fe8",
   "metadata": {},
   "source": [
    "Проверим данные о возрастах:"
   ]
  },
  {
   "cell_type": "code",
   "execution_count": 19,
   "id": "bc097a3b",
   "metadata": {},
   "outputs": [
    {
     "data": {
      "text/plain": [
       "count    500.00000\n",
       "mean      46.58800\n",
       "std       16.66763\n",
       "min       18.00000\n",
       "25%       32.00000\n",
       "50%       46.00000\n",
       "75%       62.00000\n",
       "max       75.00000\n",
       "Name: age, dtype: float64"
      ]
     },
     "execution_count": 19,
     "metadata": {},
     "output_type": "execute_result"
    }
   ],
   "source": [
    "# описание\n",
    "users['age'].describe()"
   ]
  },
  {
   "cell_type": "markdown",
   "id": "4b9d9c80",
   "metadata": {},
   "source": [
    "В норме."
   ]
  },
  {
   "cell_type": "markdown",
   "id": "8bfc0a9a",
   "metadata": {},
   "source": [
    "### Вывод:\n",
    "В данных нет пропусков, некоторые типы данных мы скорректировали и привели данные о трафике и времени звонков в соответсвие с учетом в компании. Аномальных значений и выбросов не наблюдается."
   ]
  },
  {
   "cell_type": "markdown",
   "id": "9a1a6766",
   "metadata": {},
   "source": [
    " ## Дубликаты"
   ]
  },
  {
   "cell_type": "code",
   "execution_count": 20,
   "id": "757bbe47",
   "metadata": {},
   "outputs": [
    {
     "name": "stdout",
     "output_type": "stream",
     "text": [
      "дубликатов calls: 0\n",
      "дубликатов internet: 0\n",
      "дубликатов messages: 0\n",
      "дубликатов users: 0\n"
     ]
    }
   ],
   "source": [
    "# функцией duplicated() проверим сумму дубликатов в таблиах\n",
    "# таблицу tariffs проверять нет смысла, там 2 строки\n",
    "print(f\"дубликатов calls: {calls.duplicated().sum()}\")\n",
    "print(f\"дубликатов internet: {internet.duplicated().sum()}\")\n",
    "print(f\"дубликатов messages: {messages.duplicated().sum()}\")\n",
    "print(f\"дубликатов users: {users.duplicated().sum()}\")"
   ]
  },
  {
   "cell_type": "markdown",
   "id": "2697af99",
   "metadata": {},
   "source": [
    "Дубликатов нет."
   ]
  },
  {
   "cell_type": "markdown",
   "id": "0177aa03",
   "metadata": {},
   "source": [
    "## Расчёты по каждому пользователю\n",
    "\n",
    "### Количество сделанных звонков и израсходованных минут разговора по месяцам"
   ]
  },
  {
   "cell_type": "markdown",
   "id": "93c3ec97",
   "metadata": {},
   "source": [
    "Добавим месяца в таблицу calls:"
   ]
  },
  {
   "cell_type": "code",
   "execution_count": 21,
   "id": "74733b1b",
   "metadata": {},
   "outputs": [
    {
     "data": {
      "text/html": [
       "<div>\n",
       "<style scoped>\n",
       "    .dataframe tbody tr th:only-of-type {\n",
       "        vertical-align: middle;\n",
       "    }\n",
       "\n",
       "    .dataframe tbody tr th {\n",
       "        vertical-align: top;\n",
       "    }\n",
       "\n",
       "    .dataframe thead th {\n",
       "        text-align: right;\n",
       "    }\n",
       "</style>\n",
       "<table border=\"1\" class=\"dataframe\">\n",
       "  <thead>\n",
       "    <tr style=\"text-align: right;\">\n",
       "      <th></th>\n",
       "      <th>id</th>\n",
       "      <th>call_date</th>\n",
       "      <th>duration</th>\n",
       "      <th>user_id</th>\n",
       "      <th>month</th>\n",
       "    </tr>\n",
       "  </thead>\n",
       "  <tbody>\n",
       "    <tr>\n",
       "      <th>0</th>\n",
       "      <td>1000_0</td>\n",
       "      <td>2018-07-25</td>\n",
       "      <td>0</td>\n",
       "      <td>1000</td>\n",
       "      <td>July</td>\n",
       "    </tr>\n",
       "    <tr>\n",
       "      <th>1</th>\n",
       "      <td>1000_1</td>\n",
       "      <td>2018-08-17</td>\n",
       "      <td>0</td>\n",
       "      <td>1000</td>\n",
       "      <td>August</td>\n",
       "    </tr>\n",
       "    <tr>\n",
       "      <th>2</th>\n",
       "      <td>1000_2</td>\n",
       "      <td>2018-06-11</td>\n",
       "      <td>3</td>\n",
       "      <td>1000</td>\n",
       "      <td>June</td>\n",
       "    </tr>\n",
       "  </tbody>\n",
       "</table>\n",
       "</div>"
      ],
      "text/plain": [
       "       id  call_date  duration  user_id   month\n",
       "0  1000_0 2018-07-25         0     1000    July\n",
       "1  1000_1 2018-08-17         0     1000  August\n",
       "2  1000_2 2018-06-11         3     1000    June"
      ]
     },
     "execution_count": 21,
     "metadata": {},
     "output_type": "execute_result"
    }
   ],
   "source": [
    "# в новый столбец запишем месяца фунцией dt.month\n",
    "calls['month'] = calls['call_date'].dt.month_name()\n",
    "# напишем функцию, которая возвращает русскиязычный месяц\n",
    "def rus_month(month):\n",
    "    if month == 1:\n",
    "        return 'Январь'\n",
    "    elif month == 2:\n",
    "        return 'Февраль'\n",
    "    elif month == 3:\n",
    "        return 'Март'\n",
    "    elif month == 4:\n",
    "        return 'Апрель'\n",
    "    elif month == 5:\n",
    "        return 'Май'\n",
    "    elif month == 6:\n",
    "        return 'Июнь'\n",
    "    elif month == 7:\n",
    "        return 'Июль'\n",
    "    elif month == 8:\n",
    "        return 'Август'\n",
    "    elif month == 9:\n",
    "        return 'Сентябрь'\n",
    "    elif month == 10:\n",
    "        return 'Октябрь'\n",
    "    elif month == 11:\n",
    "        return 'Ноябрь'\n",
    "    else:\n",
    "        return 'Декабрь'\n",
    "# применим к столбцу с месяцами\n",
    "#calls['month'] = calls['month'].apply(rus_month)\n",
    "calls.head(3)"
   ]
  },
  {
   "cell_type": "markdown",
   "id": "a3a25097",
   "metadata": {},
   "source": [
    "Посчитаем количество месяцев, которые клиенты подключены к \"Мегалайн\"."
   ]
  },
  {
   "cell_type": "code",
   "execution_count": 22,
   "id": "dcf87c25",
   "metadata": {},
   "outputs": [
    {
     "name": "stdout",
     "output_type": "stream",
     "text": [
      "все клинты подключились в  [2018]\n"
     ]
    }
   ],
   "source": [
    "# проверяем все ли подключились в 2018 году\n",
    "users['year'] = users['reg_date'].dt.year\n",
    "print('все клинты подключились в ', users['year'].unique())"
   ]
  },
  {
   "cell_type": "code",
   "execution_count": 23,
   "id": "ac3a0cc5",
   "metadata": {},
   "outputs": [
    {
     "data": {
      "text/html": [
       "<div>\n",
       "<style scoped>\n",
       "    .dataframe tbody tr th:only-of-type {\n",
       "        vertical-align: middle;\n",
       "    }\n",
       "\n",
       "    .dataframe tbody tr th {\n",
       "        vertical-align: top;\n",
       "    }\n",
       "\n",
       "    .dataframe thead th {\n",
       "        text-align: right;\n",
       "    }\n",
       "</style>\n",
       "<table border=\"1\" class=\"dataframe\">\n",
       "  <thead>\n",
       "    <tr style=\"text-align: right;\">\n",
       "      <th></th>\n",
       "      <th>user_id</th>\n",
       "      <th>age</th>\n",
       "      <th>churn_date</th>\n",
       "      <th>city</th>\n",
       "      <th>first_name</th>\n",
       "      <th>last_name</th>\n",
       "      <th>reg_date</th>\n",
       "      <th>tariff</th>\n",
       "      <th>year</th>\n",
       "      <th>months_in</th>\n",
       "    </tr>\n",
       "  </thead>\n",
       "  <tbody>\n",
       "    <tr>\n",
       "      <th>0</th>\n",
       "      <td>1000</td>\n",
       "      <td>52</td>\n",
       "      <td>NaT</td>\n",
       "      <td>Краснодар</td>\n",
       "      <td>Рафаил</td>\n",
       "      <td>Верещагин</td>\n",
       "      <td>2018-05-25</td>\n",
       "      <td>ultra</td>\n",
       "      <td>2018</td>\n",
       "      <td>13650</td>\n",
       "    </tr>\n",
       "    <tr>\n",
       "      <th>1</th>\n",
       "      <td>1001</td>\n",
       "      <td>41</td>\n",
       "      <td>NaT</td>\n",
       "      <td>Москва</td>\n",
       "      <td>Иван</td>\n",
       "      <td>Ежов</td>\n",
       "      <td>2018-11-01</td>\n",
       "      <td>smart</td>\n",
       "      <td>2018</td>\n",
       "      <td>550</td>\n",
       "    </tr>\n",
       "    <tr>\n",
       "      <th>2</th>\n",
       "      <td>1002</td>\n",
       "      <td>59</td>\n",
       "      <td>NaT</td>\n",
       "      <td>Стерлитамак</td>\n",
       "      <td>Евгений</td>\n",
       "      <td>Абрамович</td>\n",
       "      <td>2018-06-17</td>\n",
       "      <td>smart</td>\n",
       "      <td>2018</td>\n",
       "      <td>3300</td>\n",
       "    </tr>\n",
       "    <tr>\n",
       "      <th>3</th>\n",
       "      <td>1003</td>\n",
       "      <td>23</td>\n",
       "      <td>NaT</td>\n",
       "      <td>Москва</td>\n",
       "      <td>Белла</td>\n",
       "      <td>Белякова</td>\n",
       "      <td>2018-08-17</td>\n",
       "      <td>ultra</td>\n",
       "      <td>2018</td>\n",
       "      <td>7800</td>\n",
       "    </tr>\n",
       "    <tr>\n",
       "      <th>4</th>\n",
       "      <td>1004</td>\n",
       "      <td>68</td>\n",
       "      <td>NaT</td>\n",
       "      <td>Новокузнецк</td>\n",
       "      <td>Татьяна</td>\n",
       "      <td>Авдеенко</td>\n",
       "      <td>2018-05-14</td>\n",
       "      <td>ultra</td>\n",
       "      <td>2018</td>\n",
       "      <td>13650</td>\n",
       "    </tr>\n",
       "  </tbody>\n",
       "</table>\n",
       "</div>"
      ],
      "text/plain": [
       "   user_id  age churn_date         city first_name  last_name   reg_date  \\\n",
       "0     1000   52        NaT    Краснодар     Рафаил  Верещагин 2018-05-25   \n",
       "1     1001   41        NaT       Москва       Иван       Ежов 2018-11-01   \n",
       "2     1002   59        NaT  Стерлитамак    Евгений  Абрамович 2018-06-17   \n",
       "3     1003   23        NaT       Москва      Белла   Белякова 2018-08-17   \n",
       "4     1004   68        NaT  Новокузнецк    Татьяна   Авдеенко 2018-05-14   \n",
       "\n",
       "  tariff  year  months_in  \n",
       "0  ultra  2018      13650  \n",
       "1  smart  2018        550  \n",
       "2  smart  2018       3300  \n",
       "3  ultra  2018       7800  \n",
       "4  ultra  2018      13650  "
      ]
     },
     "execution_count": 23,
     "metadata": {},
     "output_type": "execute_result"
    }
   ],
   "source": [
    "# считаем количество месяцев тех, кто прекратил пользоваться\n",
    "users['months_in'] = users['churn_date'].dt.month - users['reg_date'].dt.month\n",
    "# считаем количество месяцев тех, кто подключён \n",
    "users['months_in'] = users['months_in'].fillna(12 - users['reg_date'].dt.month)\n",
    "#  делаем тип данных целочисленный\n",
    "users['months_in'] = users['months_in'].astype('Int64', errors='ignore')\n",
    "# рассчёт обоненской платы за весь период пользования\n",
    "users.loc[users['tariff'] == 'smart', 'months_in'] = users['months_in'] * int(s_payment)\n",
    "users.loc[users['tariff'] == 'ultra', 'months_in'] = users['months_in'] * int(u_payment)\n",
    "users.head()"
   ]
  },
  {
   "cell_type": "markdown",
   "id": "93f052ae",
   "metadata": {},
   "source": [
    "Посчитаем сколько минут, сообщений и трафика использовали клиенты:"
   ]
  },
  {
   "cell_type": "code",
   "execution_count": 24,
   "id": "b431703a",
   "metadata": {},
   "outputs": [
    {
     "data": {
      "text/html": [
       "<div>\n",
       "<style scoped>\n",
       "    .dataframe tbody tr th:only-of-type {\n",
       "        vertical-align: middle;\n",
       "    }\n",
       "\n",
       "    .dataframe tbody tr th {\n",
       "        vertical-align: top;\n",
       "    }\n",
       "\n",
       "    .dataframe thead th {\n",
       "        text-align: right;\n",
       "    }\n",
       "</style>\n",
       "<table border=\"1\" class=\"dataframe\">\n",
       "  <thead>\n",
       "    <tr style=\"text-align: right;\">\n",
       "      <th></th>\n",
       "      <th></th>\n",
       "      <th>duration</th>\n",
       "    </tr>\n",
       "    <tr>\n",
       "      <th>user_id</th>\n",
       "      <th>month</th>\n",
       "      <th></th>\n",
       "    </tr>\n",
       "  </thead>\n",
       "  <tbody>\n",
       "    <tr>\n",
       "      <th rowspan=\"3\" valign=\"top\">1000</th>\n",
       "      <th>August</th>\n",
       "      <td>408</td>\n",
       "    </tr>\n",
       "    <tr>\n",
       "      <th>December</th>\n",
       "      <td>333</td>\n",
       "    </tr>\n",
       "    <tr>\n",
       "      <th>July</th>\n",
       "      <td>340</td>\n",
       "    </tr>\n",
       "  </tbody>\n",
       "</table>\n",
       "</div>"
      ],
      "text/plain": [
       "                  duration\n",
       "user_id month             \n",
       "1000    August         408\n",
       "        December       333\n",
       "        July           340"
      ]
     },
     "metadata": {},
     "output_type": "display_data"
    },
    {
     "data": {
      "text/html": [
       "<div>\n",
       "<style scoped>\n",
       "    .dataframe tbody tr th:only-of-type {\n",
       "        vertical-align: middle;\n",
       "    }\n",
       "\n",
       "    .dataframe tbody tr th {\n",
       "        vertical-align: top;\n",
       "    }\n",
       "\n",
       "    .dataframe thead th {\n",
       "        text-align: right;\n",
       "    }\n",
       "</style>\n",
       "<table border=\"1\" class=\"dataframe\">\n",
       "  <thead>\n",
       "    <tr style=\"text-align: right;\">\n",
       "      <th></th>\n",
       "      <th></th>\n",
       "      <th>message_date</th>\n",
       "    </tr>\n",
       "    <tr>\n",
       "      <th>user_id</th>\n",
       "      <th>month</th>\n",
       "      <th></th>\n",
       "    </tr>\n",
       "  </thead>\n",
       "  <tbody>\n",
       "    <tr>\n",
       "      <th rowspan=\"3\" valign=\"top\">1000</th>\n",
       "      <th>August</th>\n",
       "      <td>81</td>\n",
       "    </tr>\n",
       "    <tr>\n",
       "      <th>December</th>\n",
       "      <td>70</td>\n",
       "    </tr>\n",
       "    <tr>\n",
       "      <th>July</th>\n",
       "      <td>75</td>\n",
       "    </tr>\n",
       "  </tbody>\n",
       "</table>\n",
       "</div>"
      ],
      "text/plain": [
       "                  message_date\n",
       "user_id month                 \n",
       "1000    August              81\n",
       "        December            70\n",
       "        July                75"
      ]
     },
     "metadata": {},
     "output_type": "display_data"
    },
    {
     "data": {
      "text/html": [
       "<div>\n",
       "<style scoped>\n",
       "    .dataframe tbody tr th:only-of-type {\n",
       "        vertical-align: middle;\n",
       "    }\n",
       "\n",
       "    .dataframe tbody tr th {\n",
       "        vertical-align: top;\n",
       "    }\n",
       "\n",
       "    .dataframe thead th {\n",
       "        text-align: right;\n",
       "    }\n",
       "</style>\n",
       "<table border=\"1\" class=\"dataframe\">\n",
       "  <thead>\n",
       "    <tr style=\"text-align: right;\">\n",
       "      <th></th>\n",
       "      <th></th>\n",
       "      <th>gb_used</th>\n",
       "    </tr>\n",
       "    <tr>\n",
       "      <th>user_id</th>\n",
       "      <th>month</th>\n",
       "      <th></th>\n",
       "    </tr>\n",
       "  </thead>\n",
       "  <tbody>\n",
       "    <tr>\n",
       "      <th rowspan=\"3\" valign=\"top\">1000</th>\n",
       "      <th>August</th>\n",
       "      <td>14.0</td>\n",
       "    </tr>\n",
       "    <tr>\n",
       "      <th>December</th>\n",
       "      <td>10.0</td>\n",
       "    </tr>\n",
       "    <tr>\n",
       "      <th>July</th>\n",
       "      <td>14.0</td>\n",
       "    </tr>\n",
       "  </tbody>\n",
       "</table>\n",
       "</div>"
      ],
      "text/plain": [
       "                  gb_used\n",
       "user_id month            \n",
       "1000    August       14.0\n",
       "        December     10.0\n",
       "        July         14.0"
      ]
     },
     "execution_count": 24,
     "metadata": {},
     "output_type": "execute_result"
    }
   ],
   "source": [
    "# группируем по клиенту и месяцу\n",
    "calls_used = calls.pivot_table(index=['user_id', 'month'], values='duration', aggfunc='sum')\n",
    "messages_used = messages.pivot_table(index=['user_id', 'month'], values='message_date', aggfunc='count')\n",
    "internet_used = internet_gb.pivot_table(index=['user_id', 'month'], values='gb_used')\n",
    "display(calls_used.head(3))\n",
    "display(messages_used.head(3))\n",
    "internet_used.head(3)"
   ]
  },
  {
   "cell_type": "markdown",
   "id": "6c0f869a",
   "metadata": {},
   "source": [
    "Объединяем:"
   ]
  },
  {
   "cell_type": "code",
   "execution_count": 25,
   "id": "be5dd260",
   "metadata": {},
   "outputs": [
    {
     "data": {
      "text/html": [
       "<div>\n",
       "<style scoped>\n",
       "    .dataframe tbody tr th:only-of-type {\n",
       "        vertical-align: middle;\n",
       "    }\n",
       "\n",
       "    .dataframe tbody tr th {\n",
       "        vertical-align: top;\n",
       "    }\n",
       "\n",
       "    .dataframe thead th {\n",
       "        text-align: right;\n",
       "    }\n",
       "</style>\n",
       "<table border=\"1\" class=\"dataframe\">\n",
       "  <thead>\n",
       "    <tr style=\"text-align: right;\">\n",
       "      <th></th>\n",
       "      <th></th>\n",
       "      <th>duration</th>\n",
       "      <th>message_date</th>\n",
       "      <th>gb_used</th>\n",
       "    </tr>\n",
       "    <tr>\n",
       "      <th>user_id</th>\n",
       "      <th>month</th>\n",
       "      <th></th>\n",
       "      <th></th>\n",
       "      <th></th>\n",
       "    </tr>\n",
       "  </thead>\n",
       "  <tbody>\n",
       "    <tr>\n",
       "      <th rowspan=\"3\" valign=\"top\">1000</th>\n",
       "      <th>August</th>\n",
       "      <td>408.0</td>\n",
       "      <td>81.0</td>\n",
       "      <td>14.0</td>\n",
       "    </tr>\n",
       "    <tr>\n",
       "      <th>December</th>\n",
       "      <td>333.0</td>\n",
       "      <td>70.0</td>\n",
       "      <td>10.0</td>\n",
       "    </tr>\n",
       "    <tr>\n",
       "      <th>July</th>\n",
       "      <td>340.0</td>\n",
       "      <td>75.0</td>\n",
       "      <td>14.0</td>\n",
       "    </tr>\n",
       "  </tbody>\n",
       "</table>\n",
       "</div>"
      ],
      "text/plain": [
       "                  duration  message_date  gb_used\n",
       "user_id month                                    \n",
       "1000    August       408.0          81.0     14.0\n",
       "        December     333.0          70.0     10.0\n",
       "        July         340.0          75.0     14.0"
      ]
     },
     "execution_count": 25,
     "metadata": {},
     "output_type": "execute_result"
    }
   ],
   "source": [
    "# соединяем тадлицы\n",
    "min_mes_int = calls_used.merge(messages_used, on=['user_id', 'month'], how='outer').merge(internet_used, on=['user_id', 'month'], how='outer')\n",
    "min_mes_int.head(3)"
   ]
  },
  {
   "cell_type": "markdown",
   "id": "bde436a9",
   "metadata": {},
   "source": [
    "Получилась сводная таблица по клиентам за каждый месяц. Теперь занесём в нее тариф и расчитаем переплату по каждому клиенту."
   ]
  },
  {
   "cell_type": "code",
   "execution_count": 26,
   "id": "ff129cff",
   "metadata": {},
   "outputs": [
    {
     "data": {
      "text/html": [
       "<div>\n",
       "<style scoped>\n",
       "    .dataframe tbody tr th:only-of-type {\n",
       "        vertical-align: middle;\n",
       "    }\n",
       "\n",
       "    .dataframe tbody tr th {\n",
       "        vertical-align: top;\n",
       "    }\n",
       "\n",
       "    .dataframe thead th {\n",
       "        text-align: right;\n",
       "    }\n",
       "</style>\n",
       "<table border=\"1\" class=\"dataframe\">\n",
       "  <thead>\n",
       "    <tr style=\"text-align: right;\">\n",
       "      <th></th>\n",
       "      <th>user_id</th>\n",
       "      <th>tariff</th>\n",
       "      <th>duration</th>\n",
       "      <th>message_date</th>\n",
       "      <th>gb_used</th>\n",
       "    </tr>\n",
       "  </thead>\n",
       "  <tbody>\n",
       "    <tr>\n",
       "      <th>0</th>\n",
       "      <td>1000</td>\n",
       "      <td>ultra</td>\n",
       "      <td>408.0</td>\n",
       "      <td>81.0</td>\n",
       "      <td>14.0</td>\n",
       "    </tr>\n",
       "    <tr>\n",
       "      <th>1</th>\n",
       "      <td>1000</td>\n",
       "      <td>ultra</td>\n",
       "      <td>333.0</td>\n",
       "      <td>70.0</td>\n",
       "      <td>10.0</td>\n",
       "    </tr>\n",
       "    <tr>\n",
       "      <th>2</th>\n",
       "      <td>1000</td>\n",
       "      <td>ultra</td>\n",
       "      <td>340.0</td>\n",
       "      <td>75.0</td>\n",
       "      <td>14.0</td>\n",
       "    </tr>\n",
       "    <tr>\n",
       "      <th>3</th>\n",
       "      <td>1000</td>\n",
       "      <td>ultra</td>\n",
       "      <td>172.0</td>\n",
       "      <td>60.0</td>\n",
       "      <td>23.0</td>\n",
       "    </tr>\n",
       "    <tr>\n",
       "      <th>4</th>\n",
       "      <td>1000</td>\n",
       "      <td>ultra</td>\n",
       "      <td>159.0</td>\n",
       "      <td>22.0</td>\n",
       "      <td>3.0</td>\n",
       "    </tr>\n",
       "  </tbody>\n",
       "</table>\n",
       "</div>"
      ],
      "text/plain": [
       "   user_id tariff  duration  message_date  gb_used\n",
       "0     1000  ultra     408.0          81.0     14.0\n",
       "1     1000  ultra     333.0          70.0     10.0\n",
       "2     1000  ultra     340.0          75.0     14.0\n",
       "3     1000  ultra     172.0          60.0     23.0\n",
       "4     1000  ultra     159.0          22.0      3.0"
      ]
     },
     "execution_count": 26,
     "metadata": {},
     "output_type": "execute_result"
    }
   ],
   "source": [
    "# создаем временную таблицу из номера клиента и тарифа\n",
    "temp = users[['user_id', 'tariff']]\n",
    "# соединяем с общими расчётами\n",
    "user_tarif = temp.merge(min_mes_int, on='user_id', how='left')\n",
    "# после соединения могут образоваться пустые значения, т к не все используют услуги каждый месяц\n",
    "# раз в месяце услуг нет, то заполним нулями\n",
    "user_tarif['message_date'] = user_tarif['message_date'].fillna(0)\n",
    "user_tarif['gb_used'] = user_tarif['gb_used'].fillna(0)\n",
    "user_tarif.head()"
   ]
  },
  {
   "cell_type": "markdown",
   "id": "da2de317",
   "metadata": {},
   "source": [
    "Построим графики для оценки количества используемых опций.\n",
    "\n",
    "Синий цвет - Smart\n",
    "\n",
    "Оранжевый цвет - Ultra"
   ]
  },
  {
   "cell_type": "code",
   "execution_count": 27,
   "id": "0e315841",
   "metadata": {},
   "outputs": [
    {
     "data": {
      "image/png": "[encoded data removed]",
      "text/plain": [
       "<Figure size 720x360 with 1 Axes>"
      ]
     },
     "metadata": {
      "needs_background": "light"
     },
     "output_type": "display_data"
    }
   ],
   "source": [
    "plt.subplots(figsize=(10, 5))\n",
    "plt.hist(user_tarif.loc[user_tarif['tariff'] == \"smart\",'duration'], bins=10, alpha=0.5)\n",
    "plt.hist(user_tarif.loc[user_tarif['tariff'] == \"ultra\",'duration'], bins=10, alpha=0.5)\n",
    "plt.grid(True)\n",
    "plt.xlabel(\"Минуты\")\n",
    "plt.ylabel(\"Частота\")\n",
    "plt.title(\"Продолжительность звока\");\n",
    "plt.show();"
   ]
  },
  {
   "cell_type": "code",
   "execution_count": 28,
   "id": "4b60ba3c",
   "metadata": {},
   "outputs": [
    {
     "data": {
      "image/png": "[encoded data removed]",
      "text/plain": [
       "<Figure size 720x360 with 1 Axes>"
      ]
     },
     "metadata": {
      "needs_background": "light"
     },
     "output_type": "display_data"
    }
   ],
   "source": [
    "plt.subplots(figsize=(10, 5))\n",
    "plt.hist(user_tarif.loc[user_tarif['tariff'] == \"smart\",'message_date'], bins=10, alpha=0.5)\n",
    "plt.hist(user_tarif.loc[user_tarif['tariff'] == \"ultra\",'message_date'], bins=10, alpha=0.5)\n",
    "plt.grid(True)\n",
    "plt.xlabel(\"Сообщения\")\n",
    "plt.ylabel(\"Частота\")\n",
    "plt.show();"
   ]
  },
  {
   "cell_type": "code",
   "execution_count": 29,
   "id": "e5d7384c",
   "metadata": {},
   "outputs": [
    {
     "data": {
      "image/png": "[encoded data removed]",
      "text/plain": [
       "<Figure size 720x360 with 1 Axes>"
      ]
     },
     "metadata": {
      "needs_background": "light"
     },
     "output_type": "display_data"
    }
   ],
   "source": [
    "plt.subplots(figsize=(10, 5))\n",
    "plt.hist(user_tarif.loc[user_tarif['tariff'] == \"smart\",'gb_used'], bins=10, alpha=0.5)\n",
    "plt.hist(user_tarif.loc[user_tarif['tariff'] == \"ultra\",'gb_used'], bins=10, alpha=0.5)\n",
    "plt.grid(True)\n",
    "plt.xlabel(\"Гигабайты\")\n",
    "plt.ylabel(\"Частота\")\n",
    "plt.show();"
   ]
  },
  {
   "cell_type": "markdown",
   "id": "b91d379d",
   "metadata": {},
   "source": [
    "**Вывод**\n",
    "\n",
    "На тарифе Smart определённо больше пользователей, но на тарифе Ultra пользователи больше используют минут, сообщений и интернета. В целом это логично, более дороргой тариф покупают для более интенсивного использования возможномтей."
   ]
  },
  {
   "cell_type": "markdown",
   "id": "ac30d80f",
   "metadata": {},
   "source": [
    "Напишем функцию, которая посчитает услуги, соответсвенно тарифу:"
   ]
  },
  {
   "cell_type": "raw",
   "id": "45e6f382",
   "metadata": {},
   "source": [
    "# константы\n",
    "# smart\n",
    "s_payment = int(tariffs.loc[tariffs['tariff_name'] =='smart']['rub_monthly_fee'])\n",
    "s_minutes = int(tariffs.loc[tariffs['tariff_name']=='smart']['minutes_included'])\n",
    "s_messages = int(tariffs.loc[tariffs['tariff_name']=='smart']['messages_included'])\n",
    "s_internet = int(tariffs.loc[tariffs['tariff_name']=='smart']['mb_per_month_included'])\n",
    "s_minutes_plus = int(tariffs.loc[tariffs['tariff_name']=='smart']['rub_per_minute'])\n",
    "s_messages_plus = int(tariffs.loc[tariffs['tariff_name']=='smart']['rub_per_message'])\n",
    "s_internet_plus = int(tariffs.loc[tariffs['tariff_name']=='smart']['rub_per_gb'])\n",
    "\n",
    "# ultra\n",
    "u_payment = int(tariffs.loc[tariffs['tariff_name']=='ultra']['rub_monthly_fee'])\n",
    "u_minutes = int(tariffs.loc[tariffs['tariff_name']=='ultra']['minutes_included'])\n",
    "u_messages = int(tariffs.loc[tariffs['tariff_name']=='ultra']['messages_included'])\n",
    "u_internet = int(tariffs.loc[tariffs['tariff_name']=='ultra']['mb_per_month_included'])\n",
    "u_minutes_plus = int(tariffs.loc[tariffs['tariff_name']=='ultra']['rub_per_minute'])\n",
    "u_messages_plus = int(tariffs.loc[tariffs['tariff_name']=='ultra']['rub_per_message'])\n",
    "u_internet_plus = int(tariffs.loc[tariffs['tariff_name']=='ultra']['rub_per_gb'])"
   ]
  },
  {
   "cell_type": "code",
   "execution_count": 30,
   "id": "da54c0f8",
   "metadata": {},
   "outputs": [
    {
     "data": {
      "text/html": [
       "<div>\n",
       "<style scoped>\n",
       "    .dataframe tbody tr th:only-of-type {\n",
       "        vertical-align: middle;\n",
       "    }\n",
       "\n",
       "    .dataframe tbody tr th {\n",
       "        vertical-align: top;\n",
       "    }\n",
       "\n",
       "    .dataframe thead th {\n",
       "        text-align: right;\n",
       "    }\n",
       "</style>\n",
       "<table border=\"1\" class=\"dataframe\">\n",
       "  <thead>\n",
       "    <tr style=\"text-align: right;\">\n",
       "      <th></th>\n",
       "      <th>user_id</th>\n",
       "      <th>tariff</th>\n",
       "      <th>duration</th>\n",
       "      <th>message_date</th>\n",
       "      <th>gb_used</th>\n",
       "      <th>total</th>\n",
       "    </tr>\n",
       "  </thead>\n",
       "  <tbody>\n",
       "    <tr>\n",
       "      <th>0</th>\n",
       "      <td>1000</td>\n",
       "      <td>ultra</td>\n",
       "      <td>408.0</td>\n",
       "      <td>81.0</td>\n",
       "      <td>14.0</td>\n",
       "      <td>0.0</td>\n",
       "    </tr>\n",
       "    <tr>\n",
       "      <th>1</th>\n",
       "      <td>1000</td>\n",
       "      <td>ultra</td>\n",
       "      <td>333.0</td>\n",
       "      <td>70.0</td>\n",
       "      <td>10.0</td>\n",
       "      <td>0.0</td>\n",
       "    </tr>\n",
       "    <tr>\n",
       "      <th>2</th>\n",
       "      <td>1000</td>\n",
       "      <td>ultra</td>\n",
       "      <td>340.0</td>\n",
       "      <td>75.0</td>\n",
       "      <td>14.0</td>\n",
       "      <td>0.0</td>\n",
       "    </tr>\n",
       "    <tr>\n",
       "      <th>3</th>\n",
       "      <td>1000</td>\n",
       "      <td>ultra</td>\n",
       "      <td>172.0</td>\n",
       "      <td>60.0</td>\n",
       "      <td>23.0</td>\n",
       "      <td>0.0</td>\n",
       "    </tr>\n",
       "    <tr>\n",
       "      <th>4</th>\n",
       "      <td>1000</td>\n",
       "      <td>ultra</td>\n",
       "      <td>159.0</td>\n",
       "      <td>22.0</td>\n",
       "      <td>3.0</td>\n",
       "      <td>0.0</td>\n",
       "    </tr>\n",
       "    <tr>\n",
       "      <th>...</th>\n",
       "      <td>...</td>\n",
       "      <td>...</td>\n",
       "      <td>...</td>\n",
       "      <td>...</td>\n",
       "      <td>...</td>\n",
       "      <td>...</td>\n",
       "    </tr>\n",
       "    <tr>\n",
       "      <th>3211</th>\n",
       "      <td>1498</td>\n",
       "      <td>smart</td>\n",
       "      <td>471.0</td>\n",
       "      <td>44.0</td>\n",
       "      <td>22.0</td>\n",
       "      <td>1400.0</td>\n",
       "    </tr>\n",
       "    <tr>\n",
       "      <th>3212</th>\n",
       "      <td>1499</td>\n",
       "      <td>smart</td>\n",
       "      <td>492.0</td>\n",
       "      <td>66.0</td>\n",
       "      <td>13.0</td>\n",
       "      <td>48.0</td>\n",
       "    </tr>\n",
       "    <tr>\n",
       "      <th>3213</th>\n",
       "      <td>1499</td>\n",
       "      <td>smart</td>\n",
       "      <td>612.0</td>\n",
       "      <td>59.0</td>\n",
       "      <td>18.0</td>\n",
       "      <td>963.0</td>\n",
       "    </tr>\n",
       "    <tr>\n",
       "      <th>3214</th>\n",
       "      <td>1499</td>\n",
       "      <td>smart</td>\n",
       "      <td>449.0</td>\n",
       "      <td>48.0</td>\n",
       "      <td>18.0</td>\n",
       "      <td>600.0</td>\n",
       "    </tr>\n",
       "    <tr>\n",
       "      <th>3215</th>\n",
       "      <td>1499</td>\n",
       "      <td>smart</td>\n",
       "      <td>70.0</td>\n",
       "      <td>11.0</td>\n",
       "      <td>2.0</td>\n",
       "      <td>0.0</td>\n",
       "    </tr>\n",
       "  </tbody>\n",
       "</table>\n",
       "<p>3216 rows × 6 columns</p>\n",
       "</div>"
      ],
      "text/plain": [
       "      user_id tariff  duration  message_date  gb_used   total\n",
       "0        1000  ultra     408.0          81.0     14.0     0.0\n",
       "1        1000  ultra     333.0          70.0     10.0     0.0\n",
       "2        1000  ultra     340.0          75.0     14.0     0.0\n",
       "3        1000  ultra     172.0          60.0     23.0     0.0\n",
       "4        1000  ultra     159.0          22.0      3.0     0.0\n",
       "...       ...    ...       ...           ...      ...     ...\n",
       "3211     1498  smart     471.0          44.0     22.0  1400.0\n",
       "3212     1499  smart     492.0          66.0     13.0    48.0\n",
       "3213     1499  smart     612.0          59.0     18.0   963.0\n",
       "3214     1499  smart     449.0          48.0     18.0   600.0\n",
       "3215     1499  smart      70.0          11.0      2.0     0.0\n",
       "\n",
       "[3216 rows x 6 columns]"
      ]
     },
     "execution_count": 30,
     "metadata": {},
     "output_type": "execute_result"
    }
   ],
   "source": [
    "# функция принимает строку, считае переплату по каждой категории и, если она есть есть, возвращает ее, иначе возвращает ноль\n",
    "def amount(row):\n",
    "    call = row['duration']\n",
    "    mes = row['message_date']\n",
    "    inte = row['gb_used']\n",
    "    tariff = row['tariff']\n",
    "    if tariff == 'smart':\n",
    "        call = call - s_minutes\n",
    "        if call < 0:\n",
    "            call = 0\n",
    "        else:\n",
    "            call *= s_minutes_plus\n",
    "        mes = mes - s_messages\n",
    "        if mes < 0:\n",
    "            mes = 0\n",
    "        else:\n",
    "            mes *= s_messages_plus\n",
    "        inte = inte - s_internet/1024\n",
    "        if inte < 0:\n",
    "            inte = 0\n",
    "        else:\n",
    "            inte *= s_internet_plus\n",
    "    if tariff == 'ultra':\n",
    "        call = call - u_minutes\n",
    "        if call < 0:\n",
    "            call = 0\n",
    "        else:\n",
    "            call *= u_minutes_plus\n",
    "        mes = mes - u_messages\n",
    "        if mes < 0:\n",
    "            mes = 0\n",
    "        else:\n",
    "            mes *= u_messages_plus\n",
    "        inte = inte - u_internet/1024\n",
    "        if inte < 0:\n",
    "            inte = 0\n",
    "        else:\n",
    "            inte *= u_internet_plus\n",
    "    return call+mes+inte \n",
    "# применяем построчно        \n",
    "user_tarif['total'] = user_tarif.apply(amount, axis = 1)\n",
    "user_tarif"
   ]
  },
  {
   "cell_type": "markdown",
   "id": "bf756b1b",
   "metadata": {},
   "source": [
    "Посмотрим на графики по допуслугам:"
   ]
  },
  {
   "cell_type": "code",
   "execution_count": 34,
   "id": "9c049cda",
   "metadata": {},
   "outputs": [
    {
     "data": {
      "image/png": "[encoded data removed]",
      "text/plain": [
       "<Figure size 720x360 with 1 Axes>"
      ]
     },
     "metadata": {
      "needs_background": "light"
     },
     "output_type": "display_data"
    }
   ],
   "source": [
    "plt.subplots(figsize=(10, 5))\n",
    "plt.hist(user_tarif.loc[user_tarif['tariff'] == \"smart\",'total'], bins=30, alpha=0.5)\n",
    "plt.hist(user_tarif.loc[user_tarif['tariff'] == \"ultra\",'total'], bins=30, alpha=0.5)\n",
    "plt.grid(True)\n",
    "plt.xlabel(\"Минуты\")\n",
    "plt.ylabel(\"Частота\")\n",
    "plt.title(\"Продолжительность звока\");\n",
    "plt.show();"
   ]
  },
  {
   "cell_type": "markdown",
   "id": "166b2b0c",
   "metadata": {},
   "source": [
    "На графике есть только клиенты Smart, проверим значения по другому тарифу:"
   ]
  },
  {
   "cell_type": "code",
   "execution_count": 35,
   "id": "bbb7efdd",
   "metadata": {},
   "outputs": [
    {
     "data": {
      "text/plain": [
       "0.0       823\n",
       "300.0      19\n",
       "450.0      17\n",
       "600.0      13\n",
       "150.0      11\n",
       "1050.0     10\n",
       "1200.0      9\n",
       "750.0       9\n",
       "1800.0      9\n",
       "1350.0      8\n",
       "900.0       7\n",
       "1950.0      6\n",
       "1500.0      4\n",
       "1650.0      2\n",
       "2850.0      1\n",
       "2250.0      1\n",
       "2100.0      1\n",
       "2700.0      1\n",
       "Name: total, dtype: int64"
      ]
     },
     "execution_count": 35,
     "metadata": {},
     "output_type": "execute_result"
    }
   ],
   "source": [
    "user_tarif.loc[user_tarif['tariff'] == \"ultra\",'total'].value_counts()"
   ]
  },
  {
   "cell_type": "markdown",
   "id": "333301f8",
   "metadata": {},
   "source": [
    "***Вывод по допуслугам***\n",
    "\n",
    "Клиенты тарифа Ultra укладываются в свои тарифные опции, допуслугами ползуются только пользоваьтели Smart!\n",
    "\n",
    "Группируем переплату по клиентам:"
   ]
  },
  {
   "cell_type": "code",
   "execution_count": 36,
   "id": "c1071cad",
   "metadata": {},
   "outputs": [
    {
     "name": "stdout",
     "output_type": "stream",
     "text": [
      "количество клиентов =  500\n",
      "количество пропусков =  0\n"
     ]
    },
    {
     "data": {
      "text/plain": [
       "user_id\n",
       "1000       0.0\n",
       "1001     600.0\n",
       "1002    3400.0\n",
       "1003       0.0\n",
       "1004       0.0\n",
       "Name: total, dtype: float64"
      ]
     },
     "execution_count": 36,
     "metadata": {},
     "output_type": "execute_result"
    }
   ],
   "source": [
    "user_tarif_end = user_tarif.groupby('user_id')['total'].sum()\n",
    "print('количество клиентов = ', user_tarif_end.shape[0])\n",
    "print('количество пропусков = ',user_tarif_end.isna().sum())\n",
    "user_tarif_end.head()"
   ]
  },
  {
   "cell_type": "markdown",
   "id": "58845e54",
   "metadata": {},
   "source": [
    "Соединяем с переплату с клиентами и считаем кончную доходность по клиентам:"
   ]
  },
  {
   "cell_type": "code",
   "execution_count": 37,
   "id": "7ad5829f",
   "metadata": {},
   "outputs": [
    {
     "data": {
      "text/html": [
       "<div>\n",
       "<style scoped>\n",
       "    .dataframe tbody tr th:only-of-type {\n",
       "        vertical-align: middle;\n",
       "    }\n",
       "\n",
       "    .dataframe tbody tr th {\n",
       "        vertical-align: top;\n",
       "    }\n",
       "\n",
       "    .dataframe thead th {\n",
       "        text-align: right;\n",
       "    }\n",
       "</style>\n",
       "<table border=\"1\" class=\"dataframe\">\n",
       "  <thead>\n",
       "    <tr style=\"text-align: right;\">\n",
       "      <th></th>\n",
       "      <th>user_id</th>\n",
       "      <th>age</th>\n",
       "      <th>churn_date</th>\n",
       "      <th>city</th>\n",
       "      <th>first_name</th>\n",
       "      <th>last_name</th>\n",
       "      <th>reg_date</th>\n",
       "      <th>tariff</th>\n",
       "      <th>year</th>\n",
       "      <th>months_in</th>\n",
       "      <th>total</th>\n",
       "      <th>profitability</th>\n",
       "    </tr>\n",
       "  </thead>\n",
       "  <tbody>\n",
       "    <tr>\n",
       "      <th>0</th>\n",
       "      <td>1000</td>\n",
       "      <td>52</td>\n",
       "      <td>NaT</td>\n",
       "      <td>Краснодар</td>\n",
       "      <td>Рафаил</td>\n",
       "      <td>Верещагин</td>\n",
       "      <td>2018-05-25</td>\n",
       "      <td>ultra</td>\n",
       "      <td>2018</td>\n",
       "      <td>13650</td>\n",
       "      <td>0.0</td>\n",
       "      <td>13650</td>\n",
       "    </tr>\n",
       "    <tr>\n",
       "      <th>1</th>\n",
       "      <td>1001</td>\n",
       "      <td>41</td>\n",
       "      <td>NaT</td>\n",
       "      <td>Москва</td>\n",
       "      <td>Иван</td>\n",
       "      <td>Ежов</td>\n",
       "      <td>2018-11-01</td>\n",
       "      <td>smart</td>\n",
       "      <td>2018</td>\n",
       "      <td>550</td>\n",
       "      <td>600.0</td>\n",
       "      <td>1150</td>\n",
       "    </tr>\n",
       "    <tr>\n",
       "      <th>2</th>\n",
       "      <td>1002</td>\n",
       "      <td>59</td>\n",
       "      <td>NaT</td>\n",
       "      <td>Стерлитамак</td>\n",
       "      <td>Евгений</td>\n",
       "      <td>Абрамович</td>\n",
       "      <td>2018-06-17</td>\n",
       "      <td>smart</td>\n",
       "      <td>2018</td>\n",
       "      <td>3300</td>\n",
       "      <td>3400.0</td>\n",
       "      <td>6700</td>\n",
       "    </tr>\n",
       "  </tbody>\n",
       "</table>\n",
       "</div>"
      ],
      "text/plain": [
       "   user_id  age churn_date         city first_name  last_name   reg_date  \\\n",
       "0     1000   52        NaT    Краснодар     Рафаил  Верещагин 2018-05-25   \n",
       "1     1001   41        NaT       Москва       Иван       Ежов 2018-11-01   \n",
       "2     1002   59        NaT  Стерлитамак    Евгений  Абрамович 2018-06-17   \n",
       "\n",
       "  tariff  year  months_in   total  profitability  \n",
       "0  ultra  2018      13650     0.0          13650  \n",
       "1  smart  2018        550   600.0           1150  \n",
       "2  smart  2018       3300  3400.0           6700  "
      ]
     },
     "execution_count": 37,
     "metadata": {},
     "output_type": "execute_result"
    }
   ],
   "source": [
    "users_end = users.merge(user_tarif_end, on='user_id', how='inner')\n",
    "# считаем доходность по клиентам\n",
    "users_end['profitability'] = users_end['months_in'] + users_end['total']\n",
    "users_end['profitability'] = users_end['profitability'].astype('Int64', errors='ignore')\n",
    "users_end.head(3)"
   ]
  },
  {
   "cell_type": "markdown",
   "id": "6ba302a5",
   "metadata": {},
   "source": [
    "График и описание доходности:"
   ]
  },
  {
   "cell_type": "code",
   "execution_count": 38,
   "id": "c8d35f09",
   "metadata": {},
   "outputs": [
    {
     "name": "stdout",
     "output_type": "stream",
     "text": [
      "count      351.000000\n",
      "mean      7636.612536\n",
      "std       5417.390636\n",
      "min          0.000000\n",
      "25%       3629.500000\n",
      "50%       6700.000000\n",
      "75%      10649.000000\n",
      "max      27801.000000\n",
      "Name: profitability, dtype: float64\n"
     ]
    },
    {
     "data": {
      "text/plain": [
       "count      149.000000\n",
       "mean     11726.174497\n",
       "std       6923.287631\n",
       "min          0.000000\n",
       "25%       5850.000000\n",
       "50%      11700.000000\n",
       "75%      17550.000000\n",
       "max      30450.000000\n",
       "Name: profitability, dtype: float64"
      ]
     },
     "execution_count": 38,
     "metadata": {},
     "output_type": "execute_result"
    },
    {
     "data": {
      "image/png": "[encoded data removed]",
      "text/plain": [
       "<Figure size 720x360 with 1 Axes>"
      ]
     },
     "metadata": {
      "needs_background": "light"
     },
     "output_type": "display_data"
    }
   ],
   "source": [
    "plt.subplots(figsize=(10, 5))\n",
    "sb.barplot(x=['Smart', 'Ultra'], y=[users_end.loc[users_end['tariff'] == 'smart', 'profitability'].sum(), users_end.loc[users_end['tariff'] == 'ultra', 'profitability'].sum()])\n",
    "plt.title(\"Доходность тарифов\");\n",
    "print(users_end.loc[users_end['tariff'] == 'smart', 'profitability'].describe())\n",
    "users_end.loc[users_end['tariff'] == 'ultra', 'profitability'].describe()"
   ]
  },
  {
   "cell_type": "markdown",
   "id": "4d50788d",
   "metadata": {},
   "source": [
    "## Вывод по тарифам\n",
    "\n",
    "Определённо количество клиентов на тарифе смарт больше, они используют дополнительные опции - и приносят больше прибыли."
   ]
  },
  {
   "cell_type": "markdown",
   "id": "70e07586",
   "metadata": {},
   "source": [
    "## Сколько минут разговора, сколько сообщений и какой объём интернет-трафика требуется пользователям каждого тарифа в месяц?\n",
    "\n",
    "Посмотрим средние данные по минутам, которые трятят клиенты, по каждому тарифу."
   ]
  },
  {
   "cell_type": "code",
   "execution_count": 40,
   "id": "f1f12b68",
   "metadata": {},
   "outputs": [
    {
     "name": "stdout",
     "output_type": "stream",
     "text": [
      "Smart\n",
      "среднее  419.06\n",
      "диспресия  35828.07\n",
      "сигма  189.28\n",
      "Ultra\n",
      "среднее  545.45\n",
      "диспресия  94104.36\n",
      "сигма  306.76\n"
     ]
    },
    {
     "data": {
      "image/png": "[encoded data removed]",
      "text/plain": [
       "<Figure size 720x360 with 1 Axes>"
      ]
     },
     "metadata": {
      "needs_background": "light"
     },
     "output_type": "display_data"
    },
    {
     "data": {
      "image/png": "[encoded data removed]",
      "text/plain": [
       "<Figure size 432x288 with 1 Axes>"
      ]
     },
     "metadata": {
      "needs_background": "light"
     },
     "output_type": "display_data"
    },
    {
     "data": {
      "image/png": "[encoded data removed]",
      "text/plain": [
       "<Figure size 432x288 with 1 Axes>"
      ]
     },
     "metadata": {
      "needs_background": "light"
     },
     "output_type": "display_data"
    }
   ],
   "source": [
    "# среднее количество минут каждого пользователя по тарифу\n",
    "s_calls = calls.merge(temp, on='user_id', how='left')\\\n",
    ".query('tariff == \"smart\"')\\\n",
    ".pivot_table(index=['user_id', 'month'], values='duration', aggfunc='sum')\\\n",
    ".reset_index()\n",
    "u_calls = calls.merge(temp, on='user_id', how='left')\\\n",
    ".query('tariff == \"ultra\"')\\\n",
    ".pivot_table(index=['user_id', 'month'], values='duration', aggfunc='sum')\\\n",
    ".reset_index()\n",
    "s_var_calls = np.var(s_calls['duration'])\n",
    "u_var_calls = np.var(u_calls['duration'])\n",
    "print('Smart')\n",
    "print('среднее ', round(s_calls['duration'].mean(), 2))\n",
    "print('диспресия ', round(s_var_calls, 2))\n",
    "print('сигма ', round(np.sqrt(s_var_calls), 2))\n",
    "print('Ultra')\n",
    "print('среднее ', round(u_calls['duration'].mean(),2))\n",
    "print('диспресия ', round(u_var_calls, 2))\n",
    "print('сигма ', round(np.sqrt(u_var_calls), 2))\n",
    "\n",
    "# строим гисторграммы\n",
    "plt.subplots(figsize=(10, 5))\n",
    "plt.hist(s_calls['duration'], bins=30, alpha=0.5)\n",
    "plt.hist(u_calls['duration'], bins=30, alpha=0.5)\n",
    "plt.grid(True)\n",
    "plt.show();\n",
    "s_calls.boxplot(column='duration')\n",
    "plt.ylabel('Smart')\n",
    "plt.show();\n",
    "u_calls.boxplot(column='duration')\n",
    "plt.ylabel('Ultra');"
   ]
  },
  {
   "cell_type": "markdown",
   "id": "54cea85f",
   "metadata": {},
   "source": [
    "### Вывод минуты\n",
    "\n",
    "Распределение среднего времени звонков в месяц у тарифа Smart находиться около 419 мин, с возможным увеличением до 900 минут. У тарифа Ultra среднее около 545 мин, с увеличением до 1300. Поэтому пользователи Smart используют дополнительные минуты.\n",
    "\n",
    "По аналогии посчитаем сообщения и интернет трафик."
   ]
  },
  {
   "cell_type": "code",
   "execution_count": 41,
   "id": "87991d50",
   "metadata": {},
   "outputs": [
    {
     "data": {
      "text/html": [
       "<div>\n",
       "<style scoped>\n",
       "    .dataframe tbody tr th:only-of-type {\n",
       "        vertical-align: middle;\n",
       "    }\n",
       "\n",
       "    .dataframe tbody tr th {\n",
       "        vertical-align: top;\n",
       "    }\n",
       "\n",
       "    .dataframe thead th {\n",
       "        text-align: right;\n",
       "    }\n",
       "</style>\n",
       "<table border=\"1\" class=\"dataframe\">\n",
       "  <thead>\n",
       "    <tr style=\"text-align: right;\">\n",
       "      <th></th>\n",
       "      <th>id</th>\n",
       "      <th>message_date</th>\n",
       "      <th>user_id</th>\n",
       "      <th>month</th>\n",
       "    </tr>\n",
       "  </thead>\n",
       "  <tbody>\n",
       "    <tr>\n",
       "      <th>0</th>\n",
       "      <td>1000_0</td>\n",
       "      <td>2018-06-27</td>\n",
       "      <td>1000</td>\n",
       "      <td>June</td>\n",
       "    </tr>\n",
       "    <tr>\n",
       "      <th>1</th>\n",
       "      <td>1000_1</td>\n",
       "      <td>2018-10-08</td>\n",
       "      <td>1000</td>\n",
       "      <td>October</td>\n",
       "    </tr>\n",
       "    <tr>\n",
       "      <th>2</th>\n",
       "      <td>1000_2</td>\n",
       "      <td>2018-08-04</td>\n",
       "      <td>1000</td>\n",
       "      <td>August</td>\n",
       "    </tr>\n",
       "    <tr>\n",
       "      <th>3</th>\n",
       "      <td>1000_3</td>\n",
       "      <td>2018-06-16</td>\n",
       "      <td>1000</td>\n",
       "      <td>June</td>\n",
       "    </tr>\n",
       "    <tr>\n",
       "      <th>4</th>\n",
       "      <td>1000_4</td>\n",
       "      <td>2018-12-05</td>\n",
       "      <td>1000</td>\n",
       "      <td>December</td>\n",
       "    </tr>\n",
       "    <tr>\n",
       "      <th>...</th>\n",
       "      <td>...</td>\n",
       "      <td>...</td>\n",
       "      <td>...</td>\n",
       "      <td>...</td>\n",
       "    </tr>\n",
       "    <tr>\n",
       "      <th>123031</th>\n",
       "      <td>1499_179</td>\n",
       "      <td>2018-12-12</td>\n",
       "      <td>1499</td>\n",
       "      <td>December</td>\n",
       "    </tr>\n",
       "    <tr>\n",
       "      <th>123032</th>\n",
       "      <td>1499_180</td>\n",
       "      <td>2018-09-28</td>\n",
       "      <td>1499</td>\n",
       "      <td>September</td>\n",
       "    </tr>\n",
       "    <tr>\n",
       "      <th>123033</th>\n",
       "      <td>1499_181</td>\n",
       "      <td>2018-09-27</td>\n",
       "      <td>1499</td>\n",
       "      <td>September</td>\n",
       "    </tr>\n",
       "    <tr>\n",
       "      <th>123034</th>\n",
       "      <td>1499_182</td>\n",
       "      <td>2018-11-15</td>\n",
       "      <td>1499</td>\n",
       "      <td>November</td>\n",
       "    </tr>\n",
       "    <tr>\n",
       "      <th>123035</th>\n",
       "      <td>1499_183</td>\n",
       "      <td>2018-11-16</td>\n",
       "      <td>1499</td>\n",
       "      <td>November</td>\n",
       "    </tr>\n",
       "  </tbody>\n",
       "</table>\n",
       "<p>123036 rows × 4 columns</p>\n",
       "</div>"
      ],
      "text/plain": [
       "              id message_date  user_id      month\n",
       "0         1000_0   2018-06-27     1000       June\n",
       "1         1000_1   2018-10-08     1000    October\n",
       "2         1000_2   2018-08-04     1000     August\n",
       "3         1000_3   2018-06-16     1000       June\n",
       "4         1000_4   2018-12-05     1000   December\n",
       "...          ...          ...      ...        ...\n",
       "123031  1499_179   2018-12-12     1499   December\n",
       "123032  1499_180   2018-09-28     1499  September\n",
       "123033  1499_181   2018-09-27     1499  September\n",
       "123034  1499_182   2018-11-15     1499   November\n",
       "123035  1499_183   2018-11-16     1499   November\n",
       "\n",
       "[123036 rows x 4 columns]"
      ]
     },
     "execution_count": 41,
     "metadata": {},
     "output_type": "execute_result"
    }
   ],
   "source": [
    "messages"
   ]
  },
  {
   "cell_type": "code",
   "execution_count": 42,
   "id": "ddeac745",
   "metadata": {},
   "outputs": [
    {
     "name": "stdout",
     "output_type": "stream",
     "text": [
      "Smart\n",
      "среднее  38.72\n",
      "диспресия  717.22\n",
      "сигма  26.78\n",
      "Ultra\n",
      "среднее  61.16\n",
      "диспресия  2107.01\n",
      "сигма  45.9\n"
     ]
    },
    {
     "data": {
      "image/png": "[encoded data removed]",
      "text/plain": [
       "<Figure size 720x360 with 1 Axes>"
      ]
     },
     "metadata": {
      "needs_background": "light"
     },
     "output_type": "display_data"
    },
    {
     "data": {
      "image/png": "[encoded data removed]",
      "text/plain": [
       "<Figure size 432x288 with 1 Axes>"
      ]
     },
     "metadata": {
      "needs_background": "light"
     },
     "output_type": "display_data"
    },
    {
     "data": {
      "image/png": "[encoded data removed]",
      "text/plain": [
       "<Figure size 432x288 with 1 Axes>"
      ]
     },
     "metadata": {
      "needs_background": "light"
     },
     "output_type": "display_data"
    }
   ],
   "source": [
    "s_messages = messages.merge(temp, on='user_id', how='left')\\\n",
    ".query('tariff == \"smart\"')\\\n",
    ".pivot_table(index=['user_id', 'month'], values='message_date', aggfunc='count')\\\n",
    ".reset_index()\n",
    "u_messages = messages.merge(temp, on='user_id', how='left')\\\n",
    ".query('tariff == \"ultra\"')\\\n",
    ".pivot_table(index=['user_id', 'month'], values='message_date', aggfunc='count')\\\n",
    ".reset_index()\n",
    "s_var_messages = np.var(s_messages['message_date'])\n",
    "u_var_messages = np.var(u_messages['message_date'])\n",
    "print('Smart')\n",
    "print('среднее ', round(s_messages['message_date'].mean(), 2))\n",
    "print('диспресия ', round(s_var_messages, 2))\n",
    "print('сигма ', round(np.sqrt(s_var_messages), 2))\n",
    "print('Ultra')\n",
    "print('среднее ', round(u_messages['message_date'].mean(),2))\n",
    "print('диспресия ', round(u_var_messages, 2))\n",
    "print('сигма ', round(np.sqrt(u_var_messages), 2))\n",
    "\n",
    "# строим гисторграммы\n",
    "plt.subplots(figsize=(10, 5))\n",
    "plt.hist(s_messages['message_date'], bins=30, alpha=0.5)\n",
    "plt.hist(u_messages['message_date'], bins=30, alpha=0.5)\n",
    "plt.grid(True)\n",
    "plt.show();\n",
    "s_messages.boxplot(column='message_date')\n",
    "plt.ylabel('Smart')\n",
    "plt.show();\n",
    "u_messages.boxplot(column='message_date')\n",
    "plt.ylabel('Ultra');"
   ]
  },
  {
   "cell_type": "markdown",
   "id": "92dca003",
   "metadata": {},
   "source": [
    "### Вывод сообщения\n",
    "\n",
    "Распределение среднего количества сообщений в месяц у тарифа Smart находиться около 38 мин, с возможным увеличением до 110 шт. У тарифа Ultra среднее около 60, с увеличением до 200. Поэтому пользователи Smart используют дополнительные сообщения.\n",
    "\n",
    "Tрафик."
   ]
  },
  {
   "cell_type": "code",
   "execution_count": 43,
   "id": "577a03b5",
   "metadata": {},
   "outputs": [
    {
     "name": "stdout",
     "output_type": "stream",
     "text": [
      "Smart\n",
      "среднее  16.34\n",
      "диспресия  32.91\n",
      "сигма  5.74\n",
      "Ultra\n",
      "среднее  19.69\n",
      "диспресия  94.05\n",
      "сигма  9.7\n"
     ]
    },
    {
     "data": {
      "image/png": "[encoded data removed]",
      "text/plain": [
       "<Figure size 720x360 with 1 Axes>"
      ]
     },
     "metadata": {
      "needs_background": "light"
     },
     "output_type": "display_data"
    },
    {
     "data": {
      "image/png": "[encoded data removed]",
      "text/plain": [
       "<Figure size 432x288 with 1 Axes>"
      ]
     },
     "metadata": {
      "needs_background": "light"
     },
     "output_type": "display_data"
    },
    {
     "data": {
      "image/png": "[encoded data removed]",
      "text/plain": [
       "<Figure size 432x288 with 1 Axes>"
      ]
     },
     "metadata": {
      "needs_background": "light"
     },
     "output_type": "display_data"
    }
   ],
   "source": [
    "s_internet = internet_gb.merge(temp, on='user_id', how='left')\\\n",
    ".query('tariff == \"smart\"')\\\n",
    ".reset_index()\n",
    "u_internet = internet_gb.merge(temp, on='user_id', how='left')\\\n",
    ".query('tariff == \"ultra\"')\\\n",
    ".reset_index()\n",
    "s_var_internet = np.var(s_internet['gb_used'])\n",
    "u_var_internet = np.var(u_internet['gb_used'])\n",
    "print('Smart')\n",
    "print('среднее ', round(s_internet['gb_used'].mean(), 2))\n",
    "print('диспресия ', round(s_var_internet, 2))\n",
    "print('сигма ', round(np.sqrt(s_var_internet), 2))\n",
    "print('Ultra')\n",
    "print('среднее ', round(u_internet['gb_used'].mean(),2))\n",
    "print('диспресия ', round(u_var_internet, 2))\n",
    "print('сигма ', round(np.sqrt(u_var_internet), 2))\n",
    "\n",
    "# строим гисторграммы\n",
    "plt.subplots(figsize=(10, 5))\n",
    "plt.hist(s_internet['gb_used'], bins=30, alpha=0.5)\n",
    "plt.hist(u_internet['gb_used'], bins=30, alpha=0.5)\n",
    "plt.grid(True)\n",
    "plt.show();\n",
    "s_internet.boxplot(column='gb_used')\n",
    "plt.ylabel('Smart')\n",
    "plt.show();\n",
    "u_internet.boxplot(column='gb_used')\n",
    "plt.ylabel('Ultra');"
   ]
  },
  {
   "cell_type": "markdown",
   "id": "8c37671d",
   "metadata": {},
   "source": [
    "### Вывод сообщения\n",
    "\n",
    "Распределение среднего количества трафика в месяц у тарифа Smart находиться около 16 мин, с возможным увеличением до 30 шт. У тарифа Ultra среднее около 19, с увеличением до 48. Поэтому пользователи Smart используют дополнительные гигабайты."
   ]
  },
  {
   "cell_type": "markdown",
   "id": "3a373973",
   "metadata": {},
   "source": [
    "# Проверка гипотез\n",
    "\n",
    "### Cредняя выручка пользователей тарифов Smart и Ultra различаются\n",
    "\n",
    "Т к нулевую гипотезу лучше выбирать со знаком равенства:\n",
    "\n",
    "Нулевая гипотеза: Cредняя выручка пользователей тарифов Smart и Ultra не различаются\n",
    "Альтернативная гипотеза: Cредняя выручка пользователей тарифов Smart и Ultra различаются\n",
    "\n",
    "Будем использовать критерий оценки 1%, т к пользователей у нас всего 500, а компания федерального уровня и в реальности клиентов может быть намного больше.\n"
   ]
  },
  {
   "cell_type": "markdown",
   "id": "d5948a91",
   "metadata": {},
   "source": [
    "Сделаем две выборки по трифам:"
   ]
  },
  {
   "cell_type": "code",
   "execution_count": 44,
   "id": "fc564a96",
   "metadata": {},
   "outputs": [
    {
     "data": {
      "image/png": "[encoded data removed]",
      "text/plain": [
       "<Figure size 720x360 with 1 Axes>"
      ]
     },
     "metadata": {
      "needs_background": "light"
     },
     "output_type": "display_data"
    }
   ],
   "source": [
    "# формируем выборки\n",
    "sample_1 = users_end.loc[users_end['tariff'] == 'smart', 'profitability']\n",
    "sample_2 = users_end.loc[users_end['tariff'] == 'ultra', 'profitability']\n",
    "# строим гисторграммы\n",
    "plt.subplots(figsize=(10, 5))\n",
    "plt.hist(sample_1, bins=30, alpha=0.5)\n",
    "plt.hist(sample_2, bins=30, alpha=0.5)\n",
    "plt.grid(True)\n",
    "plt.show();"
   ]
  },
  {
   "cell_type": "code",
   "execution_count": 45,
   "id": "bb7e5cfd",
   "metadata": {},
   "outputs": [
    {
     "name": "stdout",
     "output_type": "stream",
     "text": [
      "t-критерий составил -6.42\n",
      "Рассчитанный t-критерий дает достигаемый уровень значимости (p-value) равный 0.0\n",
      "Отвергаем нулевую гипотезу\n"
     ]
    }
   ],
   "source": [
    "# уровень критической значимости\n",
    "alpha = .01\n",
    "# делаем t-test для двух выборок, исперсии предполагаем разные\n",
    "t_st, p_val = st.ttest_ind(sample_1, sample_2, equal_var=False)\n",
    "# выводы и проверка гипотезы\n",
    "print(f't-критерий составил {round(t_st, 2)}')\n",
    "print(f'Рассчитанный t-критерий дает достигаемый уровень значимости (p-value) равный {round(p_val,7)}')\n",
    "if p_val < alpha:\n",
    "    print('Отвергаем нулевую гипотезу')\n",
    "else:\n",
    "    print('Не можем отвергнуть нулевую гипотезу')"
   ]
  },
  {
   "cell_type": "markdown",
   "id": "7f47bdbb",
   "metadata": {},
   "source": [
    "### Cредняя выручка пользователей из Москвы и выручки пользователей из других регионов.\n",
    "\n",
    "Нулевая гипотеза: Cредняя выручка пользователей тарифов из Москвы и выручки пользователей из других регионов не различаются. \n",
    "\n",
    "Альтернативная гипотеза: редняя выручка пользователей тарифов Smart и Ultra из Москвы и выручки пользователей из других регионов  различаются.\n",
    "\n",
    "Будем использовать критерий оценки 1%"
   ]
  },
  {
   "cell_type": "code",
   "execution_count": 46,
   "id": "e9a05468",
   "metadata": {},
   "outputs": [
    {
     "name": "stdout",
     "output_type": "stream",
     "text": [
      "t-критерий составил -0.55\n",
      "Рассчитанный t-критерий дает достигаемый уровень значимости (p-value) равный 0.5819206\n",
      "Не можем отвергнуть нулевую гипотезу\n"
     ]
    }
   ],
   "source": [
    "# формируем выборки\n",
    "sample_3 = users_end.loc[users_end['city'] == 'Москва', 'profitability']\n",
    "sample_4 = users_end.loc[users_end['city'] != 'Москва', 'profitability']\n",
    "# делаем t-test для двух выборок, исперсии предполагаем разные\n",
    "t_st, p_val = st.ttest_ind(sample_3, sample_4, equal_var=False)\n",
    "# выводы и проверка гипотезы\n",
    "print(f't-критерий составил {round(t_st, 2)}')\n",
    "print(f'Рассчитанный t-критерий дает достигаемый уровень значимости (p-value) равный {round(p_val,7)}')\n",
    "if p_val < alpha:\n",
    "    print('Отвергаем нулевую гипотезу')\n",
    "else:\n",
    "    print('Не можем отвергнуть нулевую гипотезу')"
   ]
  },
  {
   "cell_type": "markdown",
   "id": "4268fdc6",
   "metadata": {},
   "source": [
    "# Выводы\n",
    "\n",
    "Мы провели исследование пользователей компании \"Мегалайн\". В полученных данных не было значимых пропусков. И не пришлось тратить время на заполнение недостающих данных. Некоторые типы данных мы скорректировали и привели данные о трафике и времени звонков в соответсвие с учетом в компании. Аномальных значений и выбросов не наблюдается.\n",
    "\n",
    "Исследование показало, что пользователи тарифа Смарт и Ультра ведут себя по разному.\n",
    "Тариф Ульта используют в оновном в рамках тех опций, которые в него входят, а тариф Смарт превышают лимиты. И на выборке, которую мы получили явно видно, что писпользование тарифа Ультра приносят большую выгоду компании и его стоит продвигать в рекламе лучше.\n",
    "Исследование так же показало, что по всей территории присутсвия компании стоит уделить внимание именно тарифу ***Ульта***."
   ]
  }
 ],
 "metadata": {
  "ExecuteTimeLog": [
   {
    "duration": 63,
    "start_time": "2022-06-15T19:26:24.749Z"
   },
   {
    "duration": 1022,
    "start_time": "2022-06-15T19:26:33.164Z"
   },
   {
    "duration": 97,
    "start_time": "2022-06-15T19:26:36.566Z"
   },
   {
    "duration": 1134,
    "start_time": "2022-06-15T19:28:10.758Z"
   },
   {
    "duration": 39,
    "start_time": "2022-06-15T19:37:07.601Z"
   },
   {
    "duration": 24,
    "start_time": "2022-06-15T19:42:55.690Z"
   },
   {
    "duration": 31,
    "start_time": "2022-06-15T19:42:57.118Z"
   },
   {
    "duration": 11,
    "start_time": "2022-06-15T19:43:05.185Z"
   },
   {
    "duration": 21,
    "start_time": "2022-06-15T19:43:06.658Z"
   },
   {
    "duration": 10,
    "start_time": "2022-06-15T19:43:08.591Z"
   },
   {
    "duration": 13,
    "start_time": "2022-06-15T19:43:17.810Z"
   },
   {
    "duration": 26,
    "start_time": "2022-06-15T19:43:19.653Z"
   },
   {
    "duration": 16,
    "start_time": "2022-06-15T19:43:20.642Z"
   },
   {
    "duration": 82367,
    "start_time": "2022-06-15T19:43:22.659Z"
   },
   {
    "duration": 21,
    "start_time": "2022-06-15T19:44:45.028Z"
   },
   {
    "duration": 46,
    "start_time": "2022-06-16T08:27:17.323Z"
   },
   {
    "duration": 1368,
    "start_time": "2022-06-16T08:27:20.855Z"
   },
   {
    "duration": 1026,
    "start_time": "2022-06-16T08:27:22.950Z"
   },
   {
    "duration": 42,
    "start_time": "2022-06-16T08:27:25.704Z"
   },
   {
    "duration": 51,
    "start_time": "2022-06-16T08:27:39.154Z"
   },
   {
    "duration": 25,
    "start_time": "2022-06-16T08:33:07.945Z"
   },
   {
    "duration": 36,
    "start_time": "2022-06-16T08:40:00.742Z"
   },
   {
    "duration": 23,
    "start_time": "2022-06-16T08:40:02.260Z"
   },
   {
    "duration": 18,
    "start_time": "2022-06-16T08:44:21.813Z"
   },
   {
    "duration": 16,
    "start_time": "2022-06-16T08:44:24.041Z"
   },
   {
    "duration": 95686,
    "start_time": "2022-06-16T08:44:40.963Z"
   },
   {
    "duration": 12,
    "start_time": "2022-06-16T12:54:34.317Z"
   },
   {
    "duration": 46,
    "start_time": "2022-06-16T12:54:52.200Z"
   },
   {
    "duration": 1461,
    "start_time": "2022-06-16T12:55:01.781Z"
   },
   {
    "duration": 914,
    "start_time": "2022-06-16T12:55:04.551Z"
   },
   {
    "duration": 37,
    "start_time": "2022-06-16T12:55:05.467Z"
   },
   {
    "duration": 39,
    "start_time": "2022-06-16T12:55:05.583Z"
   },
   {
    "duration": 13,
    "start_time": "2022-06-16T12:55:06.061Z"
   },
   {
    "duration": 29,
    "start_time": "2022-06-16T12:55:06.643Z"
   },
   {
    "duration": 10,
    "start_time": "2022-06-16T12:55:07.048Z"
   },
   {
    "duration": 14,
    "start_time": "2022-06-16T12:55:07.395Z"
   },
   {
    "duration": 29,
    "start_time": "2022-06-16T12:55:08.071Z"
   },
   {
    "duration": 15,
    "start_time": "2022-06-16T12:55:08.546Z"
   },
   {
    "duration": 87302,
    "start_time": "2022-06-16T12:55:09.513Z"
   },
   {
    "duration": 4,
    "start_time": "2022-06-16T12:56:36.818Z"
   },
   {
    "duration": 83,
    "start_time": "2022-06-16T12:56:36.824Z"
   },
   {
    "duration": 124,
    "start_time": "2022-06-16T12:57:40.069Z"
   },
   {
    "duration": 61,
    "start_time": "2022-06-16T12:57:48.653Z"
   },
   {
    "duration": 6,
    "start_time": "2022-06-16T13:03:27.286Z"
   },
   {
    "duration": 8,
    "start_time": "2022-06-16T13:04:28.996Z"
   },
   {
    "duration": 26,
    "start_time": "2022-06-16T14:03:50.867Z"
   },
   {
    "duration": 22,
    "start_time": "2022-06-16T14:03:52.558Z"
   },
   {
    "duration": 19,
    "start_time": "2022-06-16T14:04:26.452Z"
   },
   {
    "duration": 6,
    "start_time": "2022-06-16T14:04:27.607Z"
   },
   {
    "duration": 5,
    "start_time": "2022-06-16T14:04:28.151Z"
   },
   {
    "duration": 10,
    "start_time": "2022-06-16T14:04:31.895Z"
   },
   {
    "duration": 195,
    "start_time": "2022-06-16T14:06:13.473Z"
   },
   {
    "duration": 87,
    "start_time": "2022-06-16T14:06:21.415Z"
   },
   {
    "duration": 6,
    "start_time": "2022-06-16T14:06:36.197Z"
   },
   {
    "duration": 98,
    "start_time": "2022-06-16T14:06:40.117Z"
   },
   {
    "duration": 60,
    "start_time": "2022-06-16T14:08:50.097Z"
   },
   {
    "duration": 82,
    "start_time": "2022-06-16T14:08:55.563Z"
   },
   {
    "duration": 83,
    "start_time": "2022-06-16T14:08:58.317Z"
   },
   {
    "duration": 93,
    "start_time": "2022-06-16T14:17:21.744Z"
   },
   {
    "duration": 103,
    "start_time": "2022-06-16T14:17:22.808Z"
   },
   {
    "duration": 110,
    "start_time": "2022-06-16T14:17:25.844Z"
   },
   {
    "duration": 122,
    "start_time": "2022-06-16T14:17:27.352Z"
   },
   {
    "duration": 254,
    "start_time": "2022-06-16T14:17:29.608Z"
   },
   {
    "duration": 133,
    "start_time": "2022-06-16T14:18:55.852Z"
   },
   {
    "duration": 48,
    "start_time": "2022-06-16T14:22:46.369Z"
   },
   {
    "duration": 49,
    "start_time": "2022-06-16T14:22:50.976Z"
   },
   {
    "duration": 90,
    "start_time": "2022-06-16T14:23:33.351Z"
   },
   {
    "duration": 85,
    "start_time": "2022-06-16T14:24:04.796Z"
   },
   {
    "duration": 163,
    "start_time": "2022-06-16T14:24:26.161Z"
   },
   {
    "duration": 116,
    "start_time": "2022-06-16T14:25:11.407Z"
   },
   {
    "duration": 103,
    "start_time": "2022-06-16T14:25:12.067Z"
   },
   {
    "duration": 163,
    "start_time": "2022-06-16T14:25:12.961Z"
   },
   {
    "duration": 121,
    "start_time": "2022-06-16T14:25:13.655Z"
   },
   {
    "duration": 131,
    "start_time": "2022-06-16T14:25:15.456Z"
   },
   {
    "duration": 157,
    "start_time": "2022-06-16T14:33:04.256Z"
   },
   {
    "duration": 469,
    "start_time": "2022-06-16T14:52:55.640Z"
   },
   {
    "duration": 16,
    "start_time": "2022-06-16T17:39:48.483Z"
   },
   {
    "duration": 92460,
    "start_time": "2022-06-16T17:41:50.402Z"
   },
   {
    "duration": 4,
    "start_time": "2022-06-16T17:53:52.547Z"
   },
   {
    "duration": 458,
    "start_time": "2022-06-16T17:53:52.552Z"
   },
   {
    "duration": 32,
    "start_time": "2022-06-16T17:53:53.013Z"
   },
   {
    "duration": 36,
    "start_time": "2022-06-16T17:53:53.047Z"
   },
   {
    "duration": 10,
    "start_time": "2022-06-16T17:53:53.085Z"
   },
   {
    "duration": 26,
    "start_time": "2022-06-16T17:53:53.097Z"
   },
   {
    "duration": 10,
    "start_time": "2022-06-16T17:53:53.125Z"
   },
   {
    "duration": 45,
    "start_time": "2022-06-16T17:53:53.137Z"
   },
   {
    "duration": 30,
    "start_time": "2022-06-16T17:53:53.184Z"
   },
   {
    "duration": 15,
    "start_time": "2022-06-16T17:53:53.217Z"
   },
   {
    "duration": 3,
    "start_time": "2022-06-16T17:57:27.380Z"
   },
   {
    "duration": 450,
    "start_time": "2022-06-16T17:57:27.387Z"
   },
   {
    "duration": 40,
    "start_time": "2022-06-16T17:57:27.838Z"
   },
   {
    "duration": 31,
    "start_time": "2022-06-16T17:57:27.879Z"
   },
   {
    "duration": 11,
    "start_time": "2022-06-16T17:57:27.912Z"
   },
   {
    "duration": 53,
    "start_time": "2022-06-16T17:57:27.924Z"
   },
   {
    "duration": 9,
    "start_time": "2022-06-16T17:57:27.979Z"
   },
   {
    "duration": 12,
    "start_time": "2022-06-16T17:57:27.990Z"
   },
   {
    "duration": 27,
    "start_time": "2022-06-16T17:57:28.003Z"
   },
   {
    "duration": 14,
    "start_time": "2022-06-16T17:57:28.032Z"
   },
   {
    "duration": 1204,
    "start_time": "2022-06-16T18:00:51.077Z"
   },
   {
    "duration": 459,
    "start_time": "2022-06-16T18:00:52.283Z"
   },
   {
    "duration": 37,
    "start_time": "2022-06-16T18:00:52.744Z"
   },
   {
    "duration": 38,
    "start_time": "2022-06-16T18:00:52.783Z"
   },
   {
    "duration": 11,
    "start_time": "2022-06-16T18:00:52.823Z"
   },
   {
    "duration": 46,
    "start_time": "2022-06-16T18:00:52.836Z"
   },
   {
    "duration": 12,
    "start_time": "2022-06-16T18:00:52.884Z"
   },
   {
    "duration": 16,
    "start_time": "2022-06-16T18:00:52.898Z"
   },
   {
    "duration": 102,
    "start_time": "2022-06-16T18:02:28.701Z"
   },
   {
    "duration": 4,
    "start_time": "2022-06-16T18:02:40.652Z"
   },
   {
    "duration": 462,
    "start_time": "2022-06-16T18:02:40.658Z"
   },
   {
    "duration": 29,
    "start_time": "2022-06-16T18:02:41.122Z"
   },
   {
    "duration": 41,
    "start_time": "2022-06-16T18:02:41.152Z"
   },
   {
    "duration": 11,
    "start_time": "2022-06-16T18:02:41.195Z"
   },
   {
    "duration": 25,
    "start_time": "2022-06-16T18:02:41.207Z"
   },
   {
    "duration": 42,
    "start_time": "2022-06-16T18:02:41.233Z"
   },
   {
    "duration": 47,
    "start_time": "2022-06-16T18:02:44.675Z"
   },
   {
    "duration": 12,
    "start_time": "2022-06-16T18:02:56.586Z"
   },
   {
    "duration": 17,
    "start_time": "2022-06-16T18:03:38.937Z"
   },
   {
    "duration": 4,
    "start_time": "2022-06-16T18:03:44.693Z"
   },
   {
    "duration": 508,
    "start_time": "2022-06-16T18:03:44.699Z"
   },
   {
    "duration": 46,
    "start_time": "2022-06-16T18:03:45.209Z"
   },
   {
    "duration": 44,
    "start_time": "2022-06-16T18:03:45.257Z"
   },
   {
    "duration": 10,
    "start_time": "2022-06-16T18:03:45.303Z"
   },
   {
    "duration": 26,
    "start_time": "2022-06-16T18:03:45.315Z"
   },
   {
    "duration": 36,
    "start_time": "2022-06-16T18:03:45.342Z"
   },
   {
    "duration": 13,
    "start_time": "2022-06-16T18:03:47.617Z"
   },
   {
    "duration": 20,
    "start_time": "2022-06-16T18:04:02.180Z"
   },
   {
    "duration": 25,
    "start_time": "2022-06-16T18:04:08.533Z"
   },
   {
    "duration": 23,
    "start_time": "2022-06-16T18:07:34.589Z"
   },
   {
    "duration": 9,
    "start_time": "2022-06-16T18:07:40.683Z"
   },
   {
    "duration": 21,
    "start_time": "2022-06-16T18:07:57.095Z"
   },
   {
    "duration": 60,
    "start_time": "2022-06-16T18:10:16.247Z"
   },
   {
    "duration": 34,
    "start_time": "2022-06-16T18:10:40.356Z"
   },
   {
    "duration": 19,
    "start_time": "2022-06-16T18:10:42.058Z"
   },
   {
    "duration": 53,
    "start_time": "2022-06-16T18:15:26.008Z"
   },
   {
    "duration": 77,
    "start_time": "2022-06-16T18:19:01.442Z"
   },
   {
    "duration": 110,
    "start_time": "2022-06-16T18:19:44.076Z"
   },
   {
    "duration": 138,
    "start_time": "2022-06-16T18:21:24.744Z"
   },
   {
    "duration": 125,
    "start_time": "2022-06-16T18:21:31.035Z"
   },
   {
    "duration": 130,
    "start_time": "2022-06-16T18:21:49.984Z"
   },
   {
    "duration": 98,
    "start_time": "2022-06-16T18:22:14.238Z"
   },
   {
    "duration": 111,
    "start_time": "2022-06-16T18:24:16.641Z"
   },
   {
    "duration": 4,
    "start_time": "2022-06-16T18:28:07.604Z"
   },
   {
    "duration": 479,
    "start_time": "2022-06-16T18:28:07.609Z"
   },
   {
    "duration": 31,
    "start_time": "2022-06-16T18:28:08.090Z"
   },
   {
    "duration": 34,
    "start_time": "2022-06-16T18:28:08.123Z"
   },
   {
    "duration": 20,
    "start_time": "2022-06-16T18:28:08.167Z"
   },
   {
    "duration": 28,
    "start_time": "2022-06-16T18:28:08.189Z"
   },
   {
    "duration": 11,
    "start_time": "2022-06-16T18:28:08.219Z"
   },
   {
    "duration": 52,
    "start_time": "2022-06-16T18:28:08.232Z"
   },
   {
    "duration": 26,
    "start_time": "2022-06-16T18:28:08.286Z"
   },
   {
    "duration": 125,
    "start_time": "2022-06-16T18:28:08.364Z"
   },
   {
    "duration": 22,
    "start_time": "2022-06-16T18:28:08.491Z"
   },
   {
    "duration": 26,
    "start_time": "2022-06-16T18:28:08.514Z"
   },
   {
    "duration": 44,
    "start_time": "2022-06-16T18:28:08.542Z"
   },
   {
    "duration": 21,
    "start_time": "2022-06-16T18:28:08.589Z"
   },
   {
    "duration": 7,
    "start_time": "2022-06-16T18:28:08.612Z"
   },
   {
    "duration": 8,
    "start_time": "2022-06-16T18:28:08.620Z"
   },
   {
    "duration": 10,
    "start_time": "2022-06-16T18:28:08.629Z"
   },
   {
    "duration": 95,
    "start_time": "2022-06-16T18:29:12.930Z"
   },
   {
    "duration": 74,
    "start_time": "2022-06-16T19:04:46.082Z"
   },
   {
    "duration": 96,
    "start_time": "2022-06-16T19:13:13.662Z"
   },
   {
    "duration": 96,
    "start_time": "2022-06-16T19:13:25.583Z"
   },
   {
    "duration": 84,
    "start_time": "2022-06-16T19:13:53.937Z"
   },
   {
    "duration": 98,
    "start_time": "2022-06-16T19:14:21.056Z"
   },
   {
    "duration": 98,
    "start_time": "2022-06-16T19:18:17.790Z"
   },
   {
    "duration": 5,
    "start_time": "2022-06-17T08:01:23.281Z"
   },
   {
    "duration": 4,
    "start_time": "2022-06-17T08:02:11.195Z"
   },
   {
    "duration": 63,
    "start_time": "2022-06-17T08:14:46.539Z"
   },
   {
    "duration": 3,
    "start_time": "2022-06-17T08:15:20.240Z"
   },
   {
    "duration": 458,
    "start_time": "2022-06-17T08:15:20.245Z"
   },
   {
    "duration": 32,
    "start_time": "2022-06-17T08:15:20.705Z"
   },
   {
    "duration": 35,
    "start_time": "2022-06-17T08:15:20.738Z"
   },
   {
    "duration": 10,
    "start_time": "2022-06-17T08:15:20.775Z"
   },
   {
    "duration": 27,
    "start_time": "2022-06-17T08:15:20.787Z"
   },
   {
    "duration": 10,
    "start_time": "2022-06-17T08:15:20.815Z"
   },
   {
    "duration": 40,
    "start_time": "2022-06-17T08:15:20.827Z"
   },
   {
    "duration": 30,
    "start_time": "2022-06-17T08:15:20.869Z"
   },
   {
    "duration": 129,
    "start_time": "2022-06-17T08:15:20.901Z"
   },
   {
    "duration": 35,
    "start_time": "2022-06-17T08:15:21.032Z"
   },
   {
    "duration": 24,
    "start_time": "2022-06-17T08:15:21.069Z"
   },
   {
    "duration": 17,
    "start_time": "2022-06-17T08:15:21.095Z"
   },
   {
    "duration": 23,
    "start_time": "2022-06-17T08:15:24.628Z"
   },
   {
    "duration": 92,
    "start_time": "2022-06-17T08:15:39.486Z"
   },
   {
    "duration": 29,
    "start_time": "2022-06-17T08:16:14.868Z"
   },
   {
    "duration": 23,
    "start_time": "2022-06-17T08:16:21.525Z"
   },
   {
    "duration": 25,
    "start_time": "2022-06-17T08:16:35.727Z"
   },
   {
    "duration": 34,
    "start_time": "2022-06-17T08:16:54.336Z"
   },
   {
    "duration": 34,
    "start_time": "2022-06-17T08:17:10.151Z"
   },
   {
    "duration": 14,
    "start_time": "2022-06-17T08:17:27.323Z"
   },
   {
    "duration": 11,
    "start_time": "2022-06-17T08:18:36.094Z"
   },
   {
    "duration": 528,
    "start_time": "2022-06-17T08:19:07.940Z"
   },
   {
    "duration": 1142,
    "start_time": "2022-06-17T08:20:02.654Z"
   },
   {
    "duration": 364,
    "start_time": "2022-06-17T08:20:40.832Z"
   },
   {
    "duration": 389,
    "start_time": "2022-06-17T08:21:11.902Z"
   },
   {
    "duration": 8,
    "start_time": "2022-06-17T08:22:01.902Z"
   },
   {
    "duration": 6,
    "start_time": "2022-06-17T08:22:39.318Z"
   },
   {
    "duration": 7,
    "start_time": "2022-06-17T08:22:51.057Z"
   },
   {
    "duration": 371,
    "start_time": "2022-06-17T08:23:20.973Z"
   },
   {
    "duration": 610,
    "start_time": "2022-06-17T08:24:26.194Z"
   },
   {
    "duration": 36,
    "start_time": "2022-06-17T08:25:30.548Z"
   },
   {
    "duration": 14,
    "start_time": "2022-06-17T08:26:47.270Z"
   },
   {
    "duration": 17,
    "start_time": "2022-06-17T08:26:56.626Z"
   },
   {
    "duration": 17,
    "start_time": "2022-06-17T08:27:36.613Z"
   },
   {
    "duration": 17,
    "start_time": "2022-06-17T08:27:45.597Z"
   },
   {
    "duration": 17,
    "start_time": "2022-06-17T08:27:51.510Z"
   },
   {
    "duration": 22,
    "start_time": "2022-06-17T08:28:16.326Z"
   },
   {
    "duration": 24,
    "start_time": "2022-06-17T08:28:21.578Z"
   },
   {
    "duration": 17,
    "start_time": "2022-06-17T08:28:26.617Z"
   },
   {
    "duration": 17,
    "start_time": "2022-06-17T08:28:34.819Z"
   },
   {
    "duration": 16,
    "start_time": "2022-06-17T08:28:39.780Z"
   },
   {
    "duration": 18,
    "start_time": "2022-06-17T08:28:44.885Z"
   },
   {
    "duration": 22,
    "start_time": "2022-06-17T08:28:58.548Z"
   },
   {
    "duration": 17,
    "start_time": "2022-06-17T08:29:05.682Z"
   },
   {
    "duration": 16,
    "start_time": "2022-06-17T08:29:12.811Z"
   },
   {
    "duration": 18,
    "start_time": "2022-06-17T08:29:17.744Z"
   },
   {
    "duration": 90,
    "start_time": "2022-06-17T08:36:00.649Z"
   },
   {
    "duration": 90,
    "start_time": "2022-06-17T08:36:15.186Z"
   },
   {
    "duration": 102,
    "start_time": "2022-06-17T08:39:16.465Z"
   },
   {
    "duration": 84,
    "start_time": "2022-06-17T08:39:43.717Z"
   },
   {
    "duration": 14,
    "start_time": "2022-06-17T08:40:21.020Z"
   },
   {
    "duration": 13,
    "start_time": "2022-06-17T08:40:45.590Z"
   },
   {
    "duration": 14,
    "start_time": "2022-06-17T08:42:00.627Z"
   },
   {
    "duration": 13,
    "start_time": "2022-06-17T08:43:24.503Z"
   },
   {
    "duration": 18,
    "start_time": "2022-06-17T08:46:39.925Z"
   },
   {
    "duration": 20,
    "start_time": "2022-06-17T08:46:45.389Z"
   },
   {
    "duration": 17,
    "start_time": "2022-06-17T08:46:52.394Z"
   },
   {
    "duration": 14,
    "start_time": "2022-06-17T08:50:08.201Z"
   },
   {
    "duration": 2,
    "start_time": "2022-06-17T08:50:38.458Z"
   },
   {
    "duration": 457,
    "start_time": "2022-06-17T08:50:38.462Z"
   },
   {
    "duration": 31,
    "start_time": "2022-06-17T08:50:38.920Z"
   },
   {
    "duration": 37,
    "start_time": "2022-06-17T08:50:38.952Z"
   },
   {
    "duration": 12,
    "start_time": "2022-06-17T08:50:38.992Z"
   },
   {
    "duration": 39,
    "start_time": "2022-06-17T08:50:39.006Z"
   },
   {
    "duration": 16,
    "start_time": "2022-06-17T08:50:39.065Z"
   },
   {
    "duration": 31,
    "start_time": "2022-06-17T08:50:39.084Z"
   },
   {
    "duration": 45,
    "start_time": "2022-06-17T08:50:39.118Z"
   },
   {
    "duration": 121,
    "start_time": "2022-06-17T08:50:39.165Z"
   },
   {
    "duration": 30,
    "start_time": "2022-06-17T08:50:39.288Z"
   },
   {
    "duration": 57,
    "start_time": "2022-06-17T08:50:39.320Z"
   },
   {
    "duration": 16,
    "start_time": "2022-06-17T08:50:39.379Z"
   },
   {
    "duration": 28,
    "start_time": "2022-06-17T08:50:39.397Z"
   },
   {
    "duration": 21,
    "start_time": "2022-06-17T08:50:39.427Z"
   },
   {
    "duration": 6,
    "start_time": "2022-06-17T08:50:39.450Z"
   },
   {
    "duration": 7,
    "start_time": "2022-06-17T08:50:39.458Z"
   },
   {
    "duration": 16,
    "start_time": "2022-06-17T08:50:39.474Z"
   },
   {
    "duration": 187,
    "start_time": "2022-06-17T08:50:39.491Z"
   },
   {
    "duration": 21,
    "start_time": "2022-06-17T08:51:35.479Z"
   },
   {
    "duration": 6,
    "start_time": "2022-06-17T09:03:52.122Z"
   },
   {
    "duration": 15,
    "start_time": "2022-06-17T09:04:04.210Z"
   },
   {
    "duration": 12,
    "start_time": "2022-06-17T09:04:22.041Z"
   },
   {
    "duration": 3,
    "start_time": "2022-06-17T09:05:50.794Z"
   },
   {
    "duration": 441,
    "start_time": "2022-06-17T09:05:50.798Z"
   },
   {
    "duration": 17,
    "start_time": "2022-06-17T09:05:51.240Z"
   },
   {
    "duration": 14,
    "start_time": "2022-06-17T09:05:51.259Z"
   },
   {
    "duration": 36,
    "start_time": "2022-06-17T09:05:51.275Z"
   },
   {
    "duration": 37,
    "start_time": "2022-06-17T09:05:51.313Z"
   },
   {
    "duration": 11,
    "start_time": "2022-06-17T09:05:51.364Z"
   },
   {
    "duration": 29,
    "start_time": "2022-06-17T09:05:51.376Z"
   },
   {
    "duration": 10,
    "start_time": "2022-06-17T09:05:51.408Z"
   },
   {
    "duration": 11,
    "start_time": "2022-06-17T09:05:51.420Z"
   },
   {
    "duration": 55,
    "start_time": "2022-06-17T09:05:51.433Z"
   },
   {
    "duration": 115,
    "start_time": "2022-06-17T09:05:51.489Z"
   },
   {
    "duration": 23,
    "start_time": "2022-06-17T09:05:51.606Z"
   },
   {
    "duration": 45,
    "start_time": "2022-06-17T09:05:51.630Z"
   },
   {
    "duration": 18,
    "start_time": "2022-06-17T09:05:51.676Z"
   },
   {
    "duration": 8,
    "start_time": "2022-06-17T09:05:51.696Z"
   },
   {
    "duration": 6,
    "start_time": "2022-06-17T09:05:51.706Z"
   },
   {
    "duration": 9,
    "start_time": "2022-06-17T09:05:51.714Z"
   },
   {
    "duration": 203,
    "start_time": "2022-06-17T09:05:51.724Z"
   },
   {
    "duration": 82,
    "start_time": "2022-06-17T09:05:51.929Z"
   },
   {
    "duration": 31,
    "start_time": "2022-06-17T09:07:41.875Z"
   },
   {
    "duration": 86,
    "start_time": "2022-06-17T09:09:37.177Z"
   },
   {
    "duration": 17,
    "start_time": "2022-06-17T09:10:51.071Z"
   },
   {
    "duration": 18,
    "start_time": "2022-06-17T09:12:08.424Z"
   },
   {
    "duration": 18,
    "start_time": "2022-06-17T09:16:38.421Z"
   },
   {
    "duration": 5,
    "start_time": "2022-06-17T09:18:37.825Z"
   },
   {
    "duration": 13,
    "start_time": "2022-06-17T09:19:48.881Z"
   },
   {
    "duration": 17,
    "start_time": "2022-06-17T09:20:19.443Z"
   },
   {
    "duration": 13,
    "start_time": "2022-06-17T09:23:48.804Z"
   },
   {
    "duration": 9,
    "start_time": "2022-06-17T09:24:47.603Z"
   },
   {
    "duration": 6,
    "start_time": "2022-06-17T09:24:53.918Z"
   },
   {
    "duration": 10,
    "start_time": "2022-06-17T09:25:19.945Z"
   },
   {
    "duration": 27,
    "start_time": "2022-06-17T09:25:35.205Z"
   },
   {
    "duration": 10,
    "start_time": "2022-06-17T09:25:54.962Z"
   },
   {
    "duration": 41,
    "start_time": "2022-06-17T09:26:24.212Z"
   },
   {
    "duration": 13,
    "start_time": "2022-06-17T09:27:21.476Z"
   },
   {
    "duration": 4,
    "start_time": "2022-06-17T09:28:27.441Z"
   },
   {
    "duration": 65,
    "start_time": "2022-06-17T09:28:34.398Z"
   },
   {
    "duration": 19,
    "start_time": "2022-06-17T09:29:03.663Z"
   },
   {
    "duration": 13,
    "start_time": "2022-06-17T09:29:20.587Z"
   },
   {
    "duration": 50,
    "start_time": "2022-06-17T09:29:44.302Z"
   },
   {
    "duration": 18,
    "start_time": "2022-06-17T09:34:38.632Z"
   },
   {
    "duration": 91,
    "start_time": "2022-06-17T09:35:59.817Z"
   },
   {
    "duration": 15,
    "start_time": "2022-06-17T09:36:10.739Z"
   },
   {
    "duration": 17,
    "start_time": "2022-06-17T09:37:12.364Z"
   },
   {
    "duration": 17,
    "start_time": "2022-06-17T09:38:39.571Z"
   },
   {
    "duration": 28,
    "start_time": "2022-06-17T09:38:48.093Z"
   },
   {
    "duration": 63,
    "start_time": "2022-06-17T09:41:10.450Z"
   },
   {
    "duration": 68,
    "start_time": "2022-06-17T09:41:23.856Z"
   },
   {
    "duration": 11,
    "start_time": "2022-06-17T09:41:41.421Z"
   },
   {
    "duration": 22,
    "start_time": "2022-06-17T09:44:32.367Z"
   },
   {
    "duration": 23,
    "start_time": "2022-06-17T09:44:56.055Z"
   },
   {
    "duration": 56,
    "start_time": "2022-06-17T09:45:34.656Z"
   },
   {
    "duration": 21,
    "start_time": "2022-06-17T09:45:38.594Z"
   },
   {
    "duration": 11,
    "start_time": "2022-06-17T09:45:59.531Z"
   },
   {
    "duration": 26,
    "start_time": "2022-06-17T09:46:16.282Z"
   },
   {
    "duration": 22,
    "start_time": "2022-06-17T10:06:49.028Z"
   },
   {
    "duration": 17,
    "start_time": "2022-06-17T10:06:56.120Z"
   },
   {
    "duration": 23,
    "start_time": "2022-06-17T10:08:52.593Z"
   },
   {
    "duration": 25,
    "start_time": "2022-06-17T10:09:37.719Z"
   },
   {
    "duration": 11,
    "start_time": "2022-06-17T10:11:52.085Z"
   },
   {
    "duration": 11,
    "start_time": "2022-06-17T10:12:26.909Z"
   },
   {
    "duration": 18,
    "start_time": "2022-06-17T10:12:37.655Z"
   },
   {
    "duration": 30,
    "start_time": "2022-06-17T10:16:49.482Z"
   },
   {
    "duration": 31,
    "start_time": "2022-06-17T10:17:12.286Z"
   },
   {
    "duration": 41,
    "start_time": "2022-06-17T10:17:43.639Z"
   },
   {
    "duration": 3,
    "start_time": "2022-06-17T10:17:56.977Z"
   },
   {
    "duration": 502,
    "start_time": "2022-06-17T10:17:56.982Z"
   },
   {
    "duration": 19,
    "start_time": "2022-06-17T10:17:57.487Z"
   },
   {
    "duration": 19,
    "start_time": "2022-06-17T10:17:57.507Z"
   },
   {
    "duration": 40,
    "start_time": "2022-06-17T10:17:57.528Z"
   },
   {
    "duration": 37,
    "start_time": "2022-06-17T10:17:57.574Z"
   },
   {
    "duration": 12,
    "start_time": "2022-06-17T10:17:57.612Z"
   },
   {
    "duration": 58,
    "start_time": "2022-06-17T10:17:57.626Z"
   },
   {
    "duration": 11,
    "start_time": "2022-06-17T10:17:57.686Z"
   },
   {
    "duration": 14,
    "start_time": "2022-06-17T10:17:57.698Z"
   },
   {
    "duration": 29,
    "start_time": "2022-06-17T10:17:57.713Z"
   },
   {
    "duration": 136,
    "start_time": "2022-06-17T10:17:57.744Z"
   },
   {
    "duration": 26,
    "start_time": "2022-06-17T10:17:57.882Z"
   },
   {
    "duration": 26,
    "start_time": "2022-06-17T10:17:57.911Z"
   },
   {
    "duration": 47,
    "start_time": "2022-06-17T10:17:57.939Z"
   },
   {
    "duration": 7,
    "start_time": "2022-06-17T10:17:57.989Z"
   },
   {
    "duration": 6,
    "start_time": "2022-06-17T10:17:57.998Z"
   },
   {
    "duration": 15,
    "start_time": "2022-06-17T10:17:58.006Z"
   },
   {
    "duration": 220,
    "start_time": "2022-06-17T10:17:58.023Z"
   },
   {
    "duration": 87,
    "start_time": "2022-06-17T10:17:58.245Z"
   },
   {
    "duration": 5,
    "start_time": "2022-06-17T10:17:58.334Z"
   },
   {
    "duration": 6,
    "start_time": "2022-06-17T10:18:00.242Z"
   },
   {
    "duration": 36,
    "start_time": "2022-06-17T10:18:00.844Z"
   },
   {
    "duration": 17,
    "start_time": "2022-06-17T10:18:09.027Z"
   },
   {
    "duration": 53,
    "start_time": "2022-06-17T10:18:17.016Z"
   },
   {
    "duration": 30,
    "start_time": "2022-06-17T10:18:47.677Z"
   },
   {
    "duration": 34,
    "start_time": "2022-06-17T10:19:02.003Z"
   },
   {
    "duration": 20,
    "start_time": "2022-06-17T10:19:30.291Z"
   },
   {
    "duration": 24,
    "start_time": "2022-06-17T10:19:43.554Z"
   },
   {
    "duration": 36,
    "start_time": "2022-06-17T10:20:10.746Z"
   },
   {
    "duration": 31,
    "start_time": "2022-06-17T10:20:20.316Z"
   },
   {
    "duration": 31,
    "start_time": "2022-06-17T10:20:39.651Z"
   },
   {
    "duration": 32,
    "start_time": "2022-06-17T10:20:49.191Z"
   },
   {
    "duration": 4,
    "start_time": "2022-06-17T10:20:58.723Z"
   },
   {
    "duration": 599,
    "start_time": "2022-06-17T10:20:58.731Z"
   },
   {
    "duration": 22,
    "start_time": "2022-06-17T10:20:59.332Z"
   },
   {
    "duration": 19,
    "start_time": "2022-06-17T10:20:59.355Z"
   },
   {
    "duration": 55,
    "start_time": "2022-06-17T10:20:59.379Z"
   },
   {
    "duration": 45,
    "start_time": "2022-06-17T10:20:59.435Z"
   },
   {
    "duration": 14,
    "start_time": "2022-06-17T10:20:59.481Z"
   },
   {
    "duration": 32,
    "start_time": "2022-06-17T10:20:59.497Z"
   },
   {
    "duration": 11,
    "start_time": "2022-06-17T10:20:59.530Z"
   },
   {
    "duration": 41,
    "start_time": "2022-06-17T10:20:59.542Z"
   },
   {
    "duration": 29,
    "start_time": "2022-06-17T10:20:59.585Z"
   },
   {
    "duration": 118,
    "start_time": "2022-06-17T10:20:59.615Z"
   },
   {
    "duration": 41,
    "start_time": "2022-06-17T10:20:59.736Z"
   },
   {
    "duration": 26,
    "start_time": "2022-06-17T10:20:59.779Z"
   },
   {
    "duration": 18,
    "start_time": "2022-06-17T10:20:59.807Z"
   },
   {
    "duration": 8,
    "start_time": "2022-06-17T10:20:59.827Z"
   },
   {
    "duration": 28,
    "start_time": "2022-06-17T10:20:59.837Z"
   },
   {
    "duration": 28,
    "start_time": "2022-06-17T10:20:59.868Z"
   },
   {
    "duration": 219,
    "start_time": "2022-06-17T10:20:59.898Z"
   },
   {
    "duration": 85,
    "start_time": "2022-06-17T10:21:00.119Z"
   },
   {
    "duration": 6,
    "start_time": "2022-06-17T10:21:00.206Z"
   },
   {
    "duration": 5,
    "start_time": "2022-06-17T10:21:14.050Z"
   },
   {
    "duration": 29,
    "start_time": "2022-06-17T10:21:14.612Z"
   },
   {
    "duration": 30,
    "start_time": "2022-06-17T10:22:19.277Z"
   },
   {
    "duration": 32,
    "start_time": "2022-06-17T10:22:42.750Z"
   },
   {
    "duration": 21,
    "start_time": "2022-06-17T10:22:51.024Z"
   },
   {
    "duration": 61,
    "start_time": "2022-06-17T10:23:12.093Z"
   },
   {
    "duration": 57,
    "start_time": "2022-06-17T10:23:15.836Z"
   },
   {
    "duration": 20,
    "start_time": "2022-06-17T10:23:49.895Z"
   },
   {
    "duration": 20,
    "start_time": "2022-06-17T10:44:50.009Z"
   },
   {
    "duration": 3,
    "start_time": "2022-06-17T10:44:58.439Z"
   },
   {
    "duration": 511,
    "start_time": "2022-06-17T10:44:58.444Z"
   },
   {
    "duration": 28,
    "start_time": "2022-06-17T10:44:58.958Z"
   },
   {
    "duration": 26,
    "start_time": "2022-06-17T10:44:58.992Z"
   },
   {
    "duration": 53,
    "start_time": "2022-06-17T10:44:59.020Z"
   },
   {
    "duration": 47,
    "start_time": "2022-06-17T10:44:59.075Z"
   },
   {
    "duration": 12,
    "start_time": "2022-06-17T10:44:59.124Z"
   },
   {
    "duration": 96,
    "start_time": "2022-06-17T10:44:59.138Z"
   },
   {
    "duration": 17,
    "start_time": "2022-06-17T10:44:59.240Z"
   },
   {
    "duration": 33,
    "start_time": "2022-06-17T10:44:59.259Z"
   },
   {
    "duration": 27,
    "start_time": "2022-06-17T10:44:59.293Z"
   },
   {
    "duration": 112,
    "start_time": "2022-06-17T10:44:59.321Z"
   },
   {
    "duration": 47,
    "start_time": "2022-06-17T10:44:59.434Z"
   },
   {
    "duration": 25,
    "start_time": "2022-06-17T10:44:59.482Z"
   },
   {
    "duration": 18,
    "start_time": "2022-06-17T10:44:59.509Z"
   },
   {
    "duration": 6,
    "start_time": "2022-06-17T10:44:59.529Z"
   },
   {
    "duration": 34,
    "start_time": "2022-06-17T10:44:59.537Z"
   },
   {
    "duration": 12,
    "start_time": "2022-06-17T10:44:59.576Z"
   },
   {
    "duration": 279,
    "start_time": "2022-06-17T10:44:59.590Z"
   },
   {
    "duration": 77,
    "start_time": "2022-06-17T10:44:59.870Z"
   },
   {
    "duration": 30,
    "start_time": "2022-06-17T10:44:59.949Z"
   },
   {
    "duration": 32,
    "start_time": "2022-06-17T10:44:59.982Z"
   },
   {
    "duration": 93,
    "start_time": "2022-06-17T10:45:00.015Z"
   },
   {
    "duration": 13,
    "start_time": "2022-06-17T10:45:00.111Z"
   },
   {
    "duration": 102,
    "start_time": "2022-06-17T10:45:00.126Z"
   },
   {
    "duration": 11,
    "start_time": "2022-06-17T10:45:00.230Z"
   },
   {
    "duration": 55,
    "start_time": "2022-06-17T10:45:00.243Z"
   },
   {
    "duration": 18,
    "start_time": "2022-06-17T10:45:00.300Z"
   },
   {
    "duration": 22,
    "start_time": "2022-06-17T10:45:15.675Z"
   },
   {
    "duration": 13,
    "start_time": "2022-06-17T10:45:22.516Z"
   },
   {
    "duration": 18,
    "start_time": "2022-06-17T10:48:24.713Z"
   },
   {
    "duration": 10,
    "start_time": "2022-06-17T10:48:28.810Z"
   },
   {
    "duration": 13,
    "start_time": "2022-06-17T10:48:37.650Z"
   },
   {
    "duration": 14,
    "start_time": "2022-06-17T10:48:51.245Z"
   },
   {
    "duration": 23,
    "start_time": "2022-06-17T10:49:29.699Z"
   },
   {
    "duration": 26,
    "start_time": "2022-06-17T10:49:33.354Z"
   },
   {
    "duration": 14,
    "start_time": "2022-06-17T10:50:02.121Z"
   },
   {
    "duration": 21,
    "start_time": "2022-06-17T10:50:26.924Z"
   },
   {
    "duration": 26,
    "start_time": "2022-06-17T10:51:00.053Z"
   },
   {
    "duration": 27,
    "start_time": "2022-06-17T10:51:14.954Z"
   },
   {
    "duration": 4697,
    "start_time": "2022-06-17T11:01:12.157Z"
   },
   {
    "duration": 243,
    "start_time": "2022-06-17T11:02:12.086Z"
   },
   {
    "duration": 4314,
    "start_time": "2022-06-17T11:02:39.003Z"
   },
   {
    "duration": 4391,
    "start_time": "2022-06-17T11:03:17.364Z"
   },
   {
    "duration": 66,
    "start_time": "2022-06-17T11:03:42.418Z"
   },
   {
    "duration": 4356,
    "start_time": "2022-06-17T11:05:42.166Z"
   },
   {
    "duration": 19,
    "start_time": "2022-06-17T11:06:18.599Z"
   },
   {
    "duration": 4422,
    "start_time": "2022-06-17T11:06:30.583Z"
   },
   {
    "duration": 4793,
    "start_time": "2022-06-17T11:07:05.909Z"
   },
   {
    "duration": 4214,
    "start_time": "2022-06-17T11:08:02.930Z"
   },
   {
    "duration": 1283,
    "start_time": "2022-06-17T11:09:19.432Z"
   },
   {
    "duration": 1840,
    "start_time": "2022-06-17T11:09:47.409Z"
   },
   {
    "duration": 21,
    "start_time": "2022-06-17T11:10:30.060Z"
   },
   {
    "duration": 2336,
    "start_time": "2022-06-17T11:10:48.586Z"
   },
   {
    "duration": 2127,
    "start_time": "2022-06-17T11:11:03.459Z"
   },
   {
    "duration": 4290,
    "start_time": "2022-06-17T11:11:34.323Z"
   },
   {
    "duration": 1419,
    "start_time": "2022-06-17T11:13:20.632Z"
   },
   {
    "duration": 1455,
    "start_time": "2022-06-17T11:13:39.074Z"
   },
   {
    "duration": 2138,
    "start_time": "2022-06-17T11:14:45.672Z"
   },
   {
    "duration": 2352,
    "start_time": "2022-06-17T11:15:26.323Z"
   },
   {
    "duration": 2399,
    "start_time": "2022-06-17T11:15:53.413Z"
   },
   {
    "duration": 4493,
    "start_time": "2022-06-17T11:16:33.566Z"
   },
   {
    "duration": 4486,
    "start_time": "2022-06-17T11:17:01.629Z"
   },
   {
    "duration": 4516,
    "start_time": "2022-06-17T11:17:54.978Z"
   },
   {
    "duration": 1713,
    "start_time": "2022-06-17T11:18:28.673Z"
   },
   {
    "duration": 4726,
    "start_time": "2022-06-17T11:18:40.397Z"
   },
   {
    "duration": 3893,
    "start_time": "2022-06-17T11:19:40.866Z"
   },
   {
    "duration": 4066,
    "start_time": "2022-06-17T11:19:57.420Z"
   },
   {
    "duration": 4159,
    "start_time": "2022-06-17T11:20:31.089Z"
   },
   {
    "duration": 4855,
    "start_time": "2022-06-17T11:20:49.082Z"
   },
   {
    "duration": 5623,
    "start_time": "2022-06-17T11:21:56.782Z"
   },
   {
    "duration": 3999,
    "start_time": "2022-06-17T11:23:24.512Z"
   },
   {
    "duration": 4482,
    "start_time": "2022-06-17T11:24:05.772Z"
   },
   {
    "duration": 5027,
    "start_time": "2022-06-17T11:24:37.488Z"
   },
   {
    "duration": 4801,
    "start_time": "2022-06-17T11:24:50.316Z"
   },
   {
    "duration": 4957,
    "start_time": "2022-06-17T11:25:37.756Z"
   },
   {
    "duration": 5326,
    "start_time": "2022-06-17T11:25:52.006Z"
   },
   {
    "duration": 4187,
    "start_time": "2022-06-17T11:26:40.129Z"
   },
   {
    "duration": 4235,
    "start_time": "2022-06-17T11:26:53.781Z"
   },
   {
    "duration": 149,
    "start_time": "2022-06-17T11:27:32.057Z"
   },
   {
    "duration": 18,
    "start_time": "2022-06-17T11:27:43.779Z"
   },
   {
    "duration": 17,
    "start_time": "2022-06-17T11:27:50.416Z"
   },
   {
    "duration": 22,
    "start_time": "2022-06-17T11:27:57.538Z"
   },
   {
    "duration": 18,
    "start_time": "2022-06-17T11:28:12.479Z"
   },
   {
    "duration": 20,
    "start_time": "2022-06-17T11:28:22.039Z"
   },
   {
    "duration": 20,
    "start_time": "2022-06-17T11:28:29.599Z"
   },
   {
    "duration": 18,
    "start_time": "2022-06-17T11:28:34.339Z"
   },
   {
    "duration": 4949,
    "start_time": "2022-06-17T11:29:35.962Z"
   },
   {
    "duration": 4772,
    "start_time": "2022-06-17T11:30:46.630Z"
   },
   {
    "duration": 5245,
    "start_time": "2022-06-17T11:31:04.498Z"
   },
   {
    "duration": 4589,
    "start_time": "2022-06-17T11:31:43.487Z"
   },
   {
    "duration": 4939,
    "start_time": "2022-06-17T11:34:51.779Z"
   },
   {
    "duration": 4842,
    "start_time": "2022-06-17T11:35:25.641Z"
   },
   {
    "duration": 4532,
    "start_time": "2022-06-17T11:36:11.627Z"
   },
   {
    "duration": 4641,
    "start_time": "2022-06-17T11:37:37.580Z"
   },
   {
    "duration": 10,
    "start_time": "2022-06-17T11:37:57.749Z"
   },
   {
    "duration": 4,
    "start_time": "2022-06-17T11:38:06.104Z"
   },
   {
    "duration": 538,
    "start_time": "2022-06-17T11:38:06.110Z"
   },
   {
    "duration": 27,
    "start_time": "2022-06-17T11:38:06.651Z"
   },
   {
    "duration": 23,
    "start_time": "2022-06-17T11:38:06.680Z"
   },
   {
    "duration": 73,
    "start_time": "2022-06-17T11:38:06.707Z"
   },
   {
    "duration": 52,
    "start_time": "2022-06-17T11:38:06.783Z"
   },
   {
    "duration": 12,
    "start_time": "2022-06-17T11:38:06.838Z"
   },
   {
    "duration": 45,
    "start_time": "2022-06-17T11:38:06.852Z"
   },
   {
    "duration": 11,
    "start_time": "2022-06-17T11:38:06.899Z"
   },
   {
    "duration": 16,
    "start_time": "2022-06-17T11:38:06.911Z"
   },
   {
    "duration": 69,
    "start_time": "2022-06-17T11:38:06.929Z"
   },
   {
    "duration": 130,
    "start_time": "2022-06-17T11:38:07.000Z"
   },
   {
    "duration": 40,
    "start_time": "2022-06-17T11:38:07.133Z"
   },
   {
    "duration": 45,
    "start_time": "2022-06-17T11:38:07.176Z"
   },
   {
    "duration": 46,
    "start_time": "2022-06-17T11:38:07.223Z"
   },
   {
    "duration": 16,
    "start_time": "2022-06-17T11:38:07.272Z"
   },
   {
    "duration": 17,
    "start_time": "2022-06-17T11:38:07.292Z"
   },
   {
    "duration": 16,
    "start_time": "2022-06-17T11:38:07.311Z"
   },
   {
    "duration": 313,
    "start_time": "2022-06-17T11:38:07.331Z"
   },
   {
    "duration": 85,
    "start_time": "2022-06-17T11:38:07.646Z"
   },
   {
    "duration": 6,
    "start_time": "2022-06-17T11:38:07.733Z"
   },
   {
    "duration": 40,
    "start_time": "2022-06-17T11:38:07.741Z"
   },
   {
    "duration": 24,
    "start_time": "2022-06-17T11:38:07.783Z"
   },
   {
    "duration": 0,
    "start_time": "2022-06-17T11:38:07.809Z"
   },
   {
    "duration": 0,
    "start_time": "2022-06-17T11:38:07.811Z"
   },
   {
    "duration": 0,
    "start_time": "2022-06-17T11:38:07.812Z"
   },
   {
    "duration": 0,
    "start_time": "2022-06-17T11:38:07.814Z"
   },
   {
    "duration": 3,
    "start_time": "2022-06-17T11:38:24.760Z"
   },
   {
    "duration": 473,
    "start_time": "2022-06-17T11:38:24.766Z"
   },
   {
    "duration": 18,
    "start_time": "2022-06-17T11:38:25.241Z"
   },
   {
    "duration": 31,
    "start_time": "2022-06-17T11:38:25.261Z"
   },
   {
    "duration": 44,
    "start_time": "2022-06-17T11:38:25.295Z"
   },
   {
    "duration": 41,
    "start_time": "2022-06-17T11:38:25.341Z"
   },
   {
    "duration": 12,
    "start_time": "2022-06-17T11:38:25.384Z"
   },
   {
    "duration": 29,
    "start_time": "2022-06-17T11:38:25.397Z"
   },
   {
    "duration": 11,
    "start_time": "2022-06-17T11:38:25.427Z"
   },
   {
    "duration": 33,
    "start_time": "2022-06-17T11:38:25.439Z"
   },
   {
    "duration": 56,
    "start_time": "2022-06-17T11:38:25.476Z"
   },
   {
    "duration": 108,
    "start_time": "2022-06-17T11:38:25.534Z"
   },
   {
    "duration": 35,
    "start_time": "2022-06-17T11:38:25.644Z"
   },
   {
    "duration": 25,
    "start_time": "2022-06-17T11:38:25.682Z"
   },
   {
    "duration": 16,
    "start_time": "2022-06-17T11:38:25.709Z"
   },
   {
    "duration": 7,
    "start_time": "2022-06-17T11:38:25.727Z"
   },
   {
    "duration": 30,
    "start_time": "2022-06-17T11:38:25.736Z"
   },
   {
    "duration": 8,
    "start_time": "2022-06-17T11:38:25.781Z"
   },
   {
    "duration": 202,
    "start_time": "2022-06-17T11:38:25.790Z"
   },
   {
    "duration": 86,
    "start_time": "2022-06-17T11:38:25.995Z"
   },
   {
    "duration": 7,
    "start_time": "2022-06-17T11:38:26.083Z"
   },
   {
    "duration": 35,
    "start_time": "2022-06-17T11:38:26.092Z"
   },
   {
    "duration": 23,
    "start_time": "2022-06-17T11:38:26.130Z"
   },
   {
    "duration": 0,
    "start_time": "2022-06-17T11:38:26.155Z"
   },
   {
    "duration": 0,
    "start_time": "2022-06-17T11:38:26.156Z"
   },
   {
    "duration": 0,
    "start_time": "2022-06-17T11:38:26.158Z"
   },
   {
    "duration": 0,
    "start_time": "2022-06-17T11:38:26.174Z"
   },
   {
    "duration": 0,
    "start_time": "2022-06-17T11:38:26.174Z"
   },
   {
    "duration": 192,
    "start_time": "2022-06-17T11:38:29.161Z"
   },
   {
    "duration": 1170,
    "start_time": "2022-06-17T11:38:48.590Z"
   },
   {
    "duration": 481,
    "start_time": "2022-06-17T11:38:49.763Z"
   },
   {
    "duration": 28,
    "start_time": "2022-06-17T11:38:50.245Z"
   },
   {
    "duration": 21,
    "start_time": "2022-06-17T11:38:50.274Z"
   },
   {
    "duration": 38,
    "start_time": "2022-06-17T11:38:50.298Z"
   },
   {
    "duration": 51,
    "start_time": "2022-06-17T11:38:50.338Z"
   },
   {
    "duration": 12,
    "start_time": "2022-06-17T11:38:50.391Z"
   },
   {
    "duration": 36,
    "start_time": "2022-06-17T11:38:50.404Z"
   },
   {
    "duration": 39,
    "start_time": "2022-06-17T11:38:50.443Z"
   },
   {
    "duration": 15,
    "start_time": "2022-06-17T11:38:50.483Z"
   },
   {
    "duration": 36,
    "start_time": "2022-06-17T11:38:50.499Z"
   },
   {
    "duration": 147,
    "start_time": "2022-06-17T11:38:50.536Z"
   },
   {
    "duration": 30,
    "start_time": "2022-06-17T11:38:50.686Z"
   },
   {
    "duration": 48,
    "start_time": "2022-06-17T11:38:50.719Z"
   },
   {
    "duration": 31,
    "start_time": "2022-06-17T11:38:50.768Z"
   },
   {
    "duration": 6,
    "start_time": "2022-06-17T11:38:50.801Z"
   },
   {
    "duration": 7,
    "start_time": "2022-06-17T11:38:50.809Z"
   },
   {
    "duration": 15,
    "start_time": "2022-06-17T11:38:50.817Z"
   },
   {
    "duration": 266,
    "start_time": "2022-06-17T11:38:50.834Z"
   },
   {
    "duration": 89,
    "start_time": "2022-06-17T11:38:51.102Z"
   },
   {
    "duration": 10,
    "start_time": "2022-06-17T11:38:51.202Z"
   },
   {
    "duration": 22,
    "start_time": "2022-06-17T11:38:51.213Z"
   },
   {
    "duration": 6,
    "start_time": "2022-06-17T11:38:51.237Z"
   },
   {
    "duration": 0,
    "start_time": "2022-06-17T11:38:51.245Z"
   },
   {
    "duration": 0,
    "start_time": "2022-06-17T11:38:51.246Z"
   },
   {
    "duration": 0,
    "start_time": "2022-06-17T11:38:51.270Z"
   },
   {
    "duration": 0,
    "start_time": "2022-06-17T11:38:51.271Z"
   },
   {
    "duration": 0,
    "start_time": "2022-06-17T11:38:51.271Z"
   },
   {
    "duration": 0,
    "start_time": "2022-06-17T11:38:51.272Z"
   },
   {
    "duration": 84,
    "start_time": "2022-06-17T11:39:16.146Z"
   },
   {
    "duration": 80,
    "start_time": "2022-06-17T11:39:19.935Z"
   },
   {
    "duration": 14,
    "start_time": "2022-06-17T11:39:20.463Z"
   },
   {
    "duration": 27,
    "start_time": "2022-06-17T11:39:22.330Z"
   },
   {
    "duration": 23,
    "start_time": "2022-06-17T11:39:24.102Z"
   },
   {
    "duration": 5353,
    "start_time": "2022-06-17T11:39:35.332Z"
   },
   {
    "duration": 5618,
    "start_time": "2022-06-17T11:40:17.767Z"
   },
   {
    "duration": 5,
    "start_time": "2022-06-17T11:41:04.487Z"
   },
   {
    "duration": 16,
    "start_time": "2022-06-17T11:41:09.128Z"
   },
   {
    "duration": 5436,
    "start_time": "2022-06-17T11:41:19.564Z"
   },
   {
    "duration": 4937,
    "start_time": "2022-06-17T11:41:29.982Z"
   },
   {
    "duration": 5388,
    "start_time": "2022-06-17T11:41:44.542Z"
   },
   {
    "duration": 1131,
    "start_time": "2022-06-17T11:42:23.603Z"
   },
   {
    "duration": 525,
    "start_time": "2022-06-17T11:42:25.623Z"
   },
   {
    "duration": 24,
    "start_time": "2022-06-17T11:42:28.638Z"
   },
   {
    "duration": 21,
    "start_time": "2022-06-17T11:42:29.888Z"
   },
   {
    "duration": 32,
    "start_time": "2022-06-17T11:42:31.721Z"
   },
   {
    "duration": 40,
    "start_time": "2022-06-17T11:42:33.304Z"
   },
   {
    "duration": 13,
    "start_time": "2022-06-17T11:42:35.084Z"
   },
   {
    "duration": 42,
    "start_time": "2022-06-17T11:42:37.655Z"
   },
   {
    "duration": 20,
    "start_time": "2022-06-17T11:42:39.038Z"
   },
   {
    "duration": 17,
    "start_time": "2022-06-17T11:42:40.316Z"
   },
   {
    "duration": 45,
    "start_time": "2022-06-17T11:42:42.835Z"
   },
   {
    "duration": 115,
    "start_time": "2022-06-17T11:42:44.125Z"
   },
   {
    "duration": 39,
    "start_time": "2022-06-17T11:42:47.685Z"
   },
   {
    "duration": 37,
    "start_time": "2022-06-17T11:42:49.263Z"
   },
   {
    "duration": 25,
    "start_time": "2022-06-17T11:42:50.619Z"
   },
   {
    "duration": 8,
    "start_time": "2022-06-17T11:42:51.930Z"
   },
   {
    "duration": 5,
    "start_time": "2022-06-17T11:42:55.110Z"
   },
   {
    "duration": 9,
    "start_time": "2022-06-17T11:42:56.799Z"
   },
   {
    "duration": 290,
    "start_time": "2022-06-17T11:43:01.851Z"
   },
   {
    "duration": 84,
    "start_time": "2022-06-17T11:43:04.429Z"
   },
   {
    "duration": 6,
    "start_time": "2022-06-17T11:43:10.600Z"
   },
   {
    "duration": 23,
    "start_time": "2022-06-17T11:43:11.791Z"
   },
   {
    "duration": 86,
    "start_time": "2022-06-17T11:43:23.597Z"
   },
   {
    "duration": 57,
    "start_time": "2022-06-17T11:43:33.947Z"
   },
   {
    "duration": 78,
    "start_time": "2022-06-17T11:43:47.785Z"
   },
   {
    "duration": 24,
    "start_time": "2022-06-17T11:44:38.272Z"
   },
   {
    "duration": 18,
    "start_time": "2022-06-17T11:45:01.525Z"
   },
   {
    "duration": 33,
    "start_time": "2022-06-17T11:46:18.928Z"
   },
   {
    "duration": 105,
    "start_time": "2022-06-17T11:47:35.656Z"
   },
   {
    "duration": 11,
    "start_time": "2022-06-17T11:47:45.304Z"
   },
   {
    "duration": 20,
    "start_time": "2022-06-17T11:48:28.506Z"
   },
   {
    "duration": 21,
    "start_time": "2022-06-17T11:49:08.117Z"
   },
   {
    "duration": 12,
    "start_time": "2022-06-17T11:49:32.644Z"
   },
   {
    "duration": 5132,
    "start_time": "2022-06-17T11:49:37.884Z"
   },
   {
    "duration": 16,
    "start_time": "2022-06-17T11:50:26.493Z"
   },
   {
    "duration": 5296,
    "start_time": "2022-06-17T11:50:37.044Z"
   },
   {
    "duration": 5081,
    "start_time": "2022-06-17T11:50:54.519Z"
   },
   {
    "duration": 21,
    "start_time": "2022-06-17T11:51:23.702Z"
   },
   {
    "duration": 27,
    "start_time": "2022-06-17T11:51:34.389Z"
   },
   {
    "duration": 22,
    "start_time": "2022-06-17T11:51:42.736Z"
   },
   {
    "duration": 27,
    "start_time": "2022-06-17T11:52:54.143Z"
   },
   {
    "duration": 5488,
    "start_time": "2022-06-17T11:53:34.717Z"
   },
   {
    "duration": 63,
    "start_time": "2022-06-17T11:57:10.490Z"
   },
   {
    "duration": 1381,
    "start_time": "2022-06-17T11:57:19.255Z"
   },
   {
    "duration": 586,
    "start_time": "2022-06-17T11:57:20.638Z"
   },
   {
    "duration": 22,
    "start_time": "2022-06-17T11:57:21.225Z"
   },
   {
    "duration": 20,
    "start_time": "2022-06-17T11:57:21.249Z"
   },
   {
    "duration": 72,
    "start_time": "2022-06-17T11:57:21.274Z"
   },
   {
    "duration": 70,
    "start_time": "2022-06-17T11:57:21.349Z"
   },
   {
    "duration": 13,
    "start_time": "2022-06-17T11:57:21.421Z"
   },
   {
    "duration": 48,
    "start_time": "2022-06-17T11:57:21.435Z"
   },
   {
    "duration": 29,
    "start_time": "2022-06-17T11:57:21.484Z"
   },
   {
    "duration": 18,
    "start_time": "2022-06-17T11:57:21.515Z"
   },
   {
    "duration": 57,
    "start_time": "2022-06-17T11:57:21.536Z"
   },
   {
    "duration": 141,
    "start_time": "2022-06-17T11:57:21.595Z"
   },
   {
    "duration": 34,
    "start_time": "2022-06-17T11:57:21.738Z"
   },
   {
    "duration": 41,
    "start_time": "2022-06-17T11:57:21.776Z"
   },
   {
    "duration": 18,
    "start_time": "2022-06-17T11:57:21.819Z"
   },
   {
    "duration": 35,
    "start_time": "2022-06-17T11:57:21.839Z"
   },
   {
    "duration": 32,
    "start_time": "2022-06-17T11:57:21.882Z"
   },
   {
    "duration": 12,
    "start_time": "2022-06-17T11:57:21.917Z"
   },
   {
    "duration": 292,
    "start_time": "2022-06-17T11:57:21.930Z"
   },
   {
    "duration": 96,
    "start_time": "2022-06-17T11:57:22.224Z"
   },
   {
    "duration": 5,
    "start_time": "2022-06-17T11:57:22.322Z"
   },
   {
    "duration": 43,
    "start_time": "2022-06-17T11:57:22.329Z"
   },
   {
    "duration": 106,
    "start_time": "2022-06-17T11:57:22.374Z"
   },
   {
    "duration": 108,
    "start_time": "2022-06-17T11:57:22.482Z"
   },
   {
    "duration": 27,
    "start_time": "2022-06-17T11:57:22.592Z"
   },
   {
    "duration": 40,
    "start_time": "2022-06-17T11:57:22.622Z"
   },
   {
    "duration": 31,
    "start_time": "2022-06-17T11:57:22.671Z"
   },
   {
    "duration": 22,
    "start_time": "2022-06-17T11:57:26.302Z"
   },
   {
    "duration": 1062,
    "start_time": "2022-06-17T11:57:28.483Z"
   },
   {
    "duration": 5254,
    "start_time": "2022-06-17T11:58:05.483Z"
   },
   {
    "duration": 1216,
    "start_time": "2022-06-18T13:53:16.181Z"
   },
   {
    "duration": 600,
    "start_time": "2022-06-18T13:53:18.808Z"
   },
   {
    "duration": 6,
    "start_time": "2022-06-18T13:53:53.453Z"
   },
   {
    "duration": 24,
    "start_time": "2022-06-18T13:54:15.936Z"
   },
   {
    "duration": 17,
    "start_time": "2022-06-18T13:54:16.994Z"
   },
   {
    "duration": 42,
    "start_time": "2022-06-18T13:54:37.954Z"
   },
   {
    "duration": 29,
    "start_time": "2022-06-18T13:54:42.564Z"
   },
   {
    "duration": 44,
    "start_time": "2022-06-18T13:54:43.325Z"
   },
   {
    "duration": 12,
    "start_time": "2022-06-18T13:54:44.624Z"
   },
   {
    "duration": 25,
    "start_time": "2022-06-18T13:54:57.775Z"
   },
   {
    "duration": 13,
    "start_time": "2022-06-18T13:54:58.837Z"
   },
   {
    "duration": 14,
    "start_time": "2022-06-18T13:55:01.915Z"
   },
   {
    "duration": 28,
    "start_time": "2022-06-18T13:55:04.556Z"
   },
   {
    "duration": 112,
    "start_time": "2022-06-18T13:55:05.433Z"
   },
   {
    "duration": 32,
    "start_time": "2022-06-18T13:56:02.969Z"
   },
   {
    "duration": 21,
    "start_time": "2022-06-18T13:56:03.728Z"
   },
   {
    "duration": 47,
    "start_time": "2022-06-18T13:56:04.899Z"
   },
   {
    "duration": 18,
    "start_time": "2022-06-18T13:56:06.482Z"
   },
   {
    "duration": 5,
    "start_time": "2022-06-18T13:56:07.458Z"
   },
   {
    "duration": 3,
    "start_time": "2022-06-18T13:56:07.858Z"
   },
   {
    "duration": 8,
    "start_time": "2022-06-18T13:56:08.698Z"
   },
   {
    "duration": 247,
    "start_time": "2022-06-18T13:56:12.226Z"
   },
   {
    "duration": 87,
    "start_time": "2022-06-18T13:56:16.473Z"
   },
   {
    "duration": 5,
    "start_time": "2022-06-18T13:57:43.526Z"
   },
   {
    "duration": 22,
    "start_time": "2022-06-18T13:57:45.523Z"
   },
   {
    "duration": 121,
    "start_time": "2022-06-18T13:57:49.263Z"
   },
   {
    "duration": 22,
    "start_time": "2022-06-18T13:59:24.019Z"
   },
   {
    "duration": 18,
    "start_time": "2022-06-18T13:59:31.260Z"
   },
   {
    "duration": 245,
    "start_time": "2022-06-18T13:59:33.923Z"
   },
   {
    "duration": 208,
    "start_time": "2022-06-18T13:59:34.364Z"
   },
   {
    "duration": 172,
    "start_time": "2022-06-18T13:59:34.941Z"
   },
   {
    "duration": 108,
    "start_time": "2022-06-18T13:59:36.799Z"
   },
   {
    "duration": 257,
    "start_time": "2022-06-18T13:59:37.929Z"
   },
   {
    "duration": 7,
    "start_time": "2022-06-18T13:59:39.227Z"
   },
   {
    "duration": 9,
    "start_time": "2022-06-18T13:59:49.877Z"
   },
   {
    "duration": 21,
    "start_time": "2022-06-18T13:59:52.803Z"
   },
   {
    "duration": 130,
    "start_time": "2022-06-18T13:59:53.805Z"
   },
   {
    "duration": 16,
    "start_time": "2022-06-18T14:00:18.067Z"
   },
   {
    "duration": 9,
    "start_time": "2022-06-18T14:00:39.756Z"
   },
   {
    "duration": 4,
    "start_time": "2022-06-18T15:08:27.949Z"
   },
   {
    "duration": 506,
    "start_time": "2022-06-18T15:08:29.625Z"
   },
   {
    "duration": 16,
    "start_time": "2022-06-18T15:08:31.624Z"
   },
   {
    "duration": 14,
    "start_time": "2022-06-18T15:08:45.334Z"
   },
   {
    "duration": 37,
    "start_time": "2022-06-18T15:08:47.515Z"
   },
   {
    "duration": 31,
    "start_time": "2022-06-18T15:08:49.113Z"
   },
   {
    "duration": 13,
    "start_time": "2022-06-18T15:08:52.050Z"
   },
   {
    "duration": 29,
    "start_time": "2022-06-18T15:08:54.015Z"
   },
   {
    "duration": 9,
    "start_time": "2022-06-18T15:08:56.452Z"
   },
   {
    "duration": 15,
    "start_time": "2022-06-18T15:08:56.875Z"
   },
   {
    "duration": 25,
    "start_time": "2022-06-18T15:08:58.107Z"
   },
   {
    "duration": 100,
    "start_time": "2022-06-18T15:09:19.755Z"
   },
   {
    "duration": 35,
    "start_time": "2022-06-18T15:09:23.122Z"
   },
   {
    "duration": 21,
    "start_time": "2022-06-18T15:09:24.581Z"
   },
   {
    "duration": 46,
    "start_time": "2022-06-18T15:09:26.445Z"
   },
   {
    "duration": 18,
    "start_time": "2022-06-18T15:09:27.554Z"
   },
   {
    "duration": 6,
    "start_time": "2022-06-18T15:09:28.701Z"
   },
   {
    "duration": 3,
    "start_time": "2022-06-18T15:09:29.560Z"
   },
   {
    "duration": 7,
    "start_time": "2022-06-18T15:09:30.973Z"
   },
   {
    "duration": 200,
    "start_time": "2022-06-18T15:09:34.213Z"
   },
   {
    "duration": 71,
    "start_time": "2022-06-18T15:09:36.900Z"
   },
   {
    "duration": 5,
    "start_time": "2022-06-18T15:09:40.223Z"
   },
   {
    "duration": 21,
    "start_time": "2022-06-18T15:09:44.958Z"
   },
   {
    "duration": 115,
    "start_time": "2022-06-18T15:09:46.417Z"
   },
   {
    "duration": 22,
    "start_time": "2022-06-18T15:10:04.235Z"
   },
   {
    "duration": 119,
    "start_time": "2022-06-18T15:13:49.788Z"
   },
   {
    "duration": 12,
    "start_time": "2022-06-18T15:14:00.247Z"
   },
   {
    "duration": 6,
    "start_time": "2022-06-18T15:17:46.553Z"
   },
   {
    "duration": 16,
    "start_time": "2022-06-18T15:17:59.479Z"
   },
   {
    "duration": 23,
    "start_time": "2022-06-18T15:18:34.920Z"
   },
   {
    "duration": 23,
    "start_time": "2022-06-18T15:18:44.847Z"
   },
   {
    "duration": 23,
    "start_time": "2022-06-18T15:18:50.273Z"
   },
   {
    "duration": 22,
    "start_time": "2022-06-18T15:18:54.889Z"
   },
   {
    "duration": 23,
    "start_time": "2022-06-18T15:20:09.426Z"
   },
   {
    "duration": 24,
    "start_time": "2022-06-18T15:20:19.773Z"
   },
   {
    "duration": 22,
    "start_time": "2022-06-18T15:20:29.247Z"
   },
   {
    "duration": 25,
    "start_time": "2022-06-18T15:20:36.071Z"
   },
   {
    "duration": 24,
    "start_time": "2022-06-18T15:20:36.484Z"
   },
   {
    "duration": 18,
    "start_time": "2022-06-18T15:20:46.810Z"
   },
   {
    "duration": 8,
    "start_time": "2022-06-18T15:20:51.187Z"
   },
   {
    "duration": 4,
    "start_time": "2022-06-18T15:21:01.305Z"
   },
   {
    "duration": 4,
    "start_time": "2022-06-18T15:22:36.679Z"
   },
   {
    "duration": 34,
    "start_time": "2022-06-18T15:22:58.374Z"
   },
   {
    "duration": 22,
    "start_time": "2022-06-18T15:23:09.131Z"
   },
   {
    "duration": 4,
    "start_time": "2022-06-18T15:23:24.504Z"
   },
   {
    "duration": 16,
    "start_time": "2022-06-18T15:23:36.441Z"
   },
   {
    "duration": 173,
    "start_time": "2022-06-18T15:23:38.543Z"
   },
   {
    "duration": 152,
    "start_time": "2022-06-18T15:23:38.777Z"
   },
   {
    "duration": 243,
    "start_time": "2022-06-18T15:23:39.005Z"
   },
   {
    "duration": 65,
    "start_time": "2022-06-18T15:23:40.442Z"
   },
   {
    "duration": 217,
    "start_time": "2022-06-18T15:23:41.955Z"
   },
   {
    "duration": 6,
    "start_time": "2022-06-18T15:23:43.278Z"
   },
   {
    "duration": 9,
    "start_time": "2022-06-18T15:23:44.371Z"
   },
   {
    "duration": 19,
    "start_time": "2022-06-18T15:23:45.239Z"
   },
   {
    "duration": 133,
    "start_time": "2022-06-18T15:23:47.553Z"
   },
   {
    "duration": 7,
    "start_time": "2022-06-18T15:24:25.182Z"
   },
   {
    "duration": 15,
    "start_time": "2022-06-18T15:34:51.986Z"
   },
   {
    "duration": 164,
    "start_time": "2022-06-18T15:34:53.053Z"
   },
   {
    "duration": 161,
    "start_time": "2022-06-18T15:34:53.592Z"
   },
   {
    "duration": 152,
    "start_time": "2022-06-18T15:34:53.839Z"
   },
   {
    "duration": 8,
    "start_time": "2022-06-18T15:35:15.871Z"
   },
   {
    "duration": 9,
    "start_time": "2022-06-18T15:35:19.378Z"
   },
   {
    "duration": 13,
    "start_time": "2022-06-18T15:35:26.733Z"
   },
   {
    "duration": 9,
    "start_time": "2022-06-18T15:36:20.346Z"
   },
   {
    "duration": 1147,
    "start_time": "2022-06-18T15:39:40.203Z"
   },
   {
    "duration": 425,
    "start_time": "2022-06-18T15:39:41.354Z"
   },
   {
    "duration": 23,
    "start_time": "2022-06-18T15:39:41.920Z"
   },
   {
    "duration": 15,
    "start_time": "2022-06-18T15:39:42.358Z"
   },
   {
    "duration": 28,
    "start_time": "2022-06-18T15:39:43.198Z"
   },
   {
    "duration": 35,
    "start_time": "2022-06-18T15:39:43.558Z"
   },
   {
    "duration": 12,
    "start_time": "2022-06-18T15:39:44.075Z"
   },
   {
    "duration": 26,
    "start_time": "2022-06-18T15:39:44.877Z"
   },
   {
    "duration": 10,
    "start_time": "2022-06-18T15:39:45.255Z"
   },
   {
    "duration": 13,
    "start_time": "2022-06-18T15:39:45.642Z"
   },
   {
    "duration": 29,
    "start_time": "2022-06-18T15:39:46.454Z"
   },
   {
    "duration": 112,
    "start_time": "2022-06-18T15:39:46.873Z"
   },
   {
    "duration": 24,
    "start_time": "2022-06-18T15:39:47.851Z"
   },
   {
    "duration": 21,
    "start_time": "2022-06-18T15:39:48.250Z"
   },
   {
    "duration": 45,
    "start_time": "2022-06-18T15:39:48.635Z"
   },
   {
    "duration": 19,
    "start_time": "2022-06-18T15:39:49.014Z"
   },
   {
    "duration": 6,
    "start_time": "2022-06-18T15:39:49.403Z"
   },
   {
    "duration": 4,
    "start_time": "2022-06-18T15:39:49.574Z"
   },
   {
    "duration": 8,
    "start_time": "2022-06-18T15:39:49.965Z"
   },
   {
    "duration": 204,
    "start_time": "2022-06-18T15:39:51.010Z"
   },
   {
    "duration": 70,
    "start_time": "2022-06-18T15:39:51.878Z"
   },
   {
    "duration": 6,
    "start_time": "2022-06-18T15:39:52.918Z"
   },
   {
    "duration": 21,
    "start_time": "2022-06-18T15:39:53.154Z"
   },
   {
    "duration": 108,
    "start_time": "2022-06-18T15:39:53.547Z"
   },
   {
    "duration": 21,
    "start_time": "2022-06-18T15:39:53.978Z"
   },
   {
    "duration": 15,
    "start_time": "2022-06-18T15:39:54.638Z"
   },
   {
    "duration": 169,
    "start_time": "2022-06-18T15:39:55.019Z"
   },
   {
    "duration": 158,
    "start_time": "2022-06-18T15:39:55.215Z"
   },
   {
    "duration": 153,
    "start_time": "2022-06-18T15:39:55.426Z"
   },
   {
    "duration": 65,
    "start_time": "2022-06-18T15:39:56.050Z"
   },
   {
    "duration": 8,
    "start_time": "2022-06-18T15:39:56.278Z"
   },
   {
    "duration": 231,
    "start_time": "2022-06-18T15:40:01.906Z"
   },
   {
    "duration": 7,
    "start_time": "2022-06-18T15:40:03.480Z"
   },
   {
    "duration": 9,
    "start_time": "2022-06-18T15:40:07.859Z"
   },
   {
    "duration": 5,
    "start_time": "2022-06-18T15:40:09.912Z"
   },
   {
    "duration": 6,
    "start_time": "2022-06-18T15:40:15.855Z"
   },
   {
    "duration": 8,
    "start_time": "2022-06-18T15:45:31.567Z"
   },
   {
    "duration": 11,
    "start_time": "2022-06-18T15:46:45.054Z"
   },
   {
    "duration": 8,
    "start_time": "2022-06-18T15:47:35.585Z"
   },
   {
    "duration": 20,
    "start_time": "2022-06-18T15:47:41.740Z"
   },
   {
    "duration": 14,
    "start_time": "2022-06-18T15:47:56.792Z"
   },
   {
    "duration": 15,
    "start_time": "2022-06-18T15:47:57.702Z"
   },
   {
    "duration": 8,
    "start_time": "2022-06-18T15:48:14.215Z"
   },
   {
    "duration": 11,
    "start_time": "2022-06-18T15:48:45.014Z"
   },
   {
    "duration": 11,
    "start_time": "2022-06-18T15:49:41.111Z"
   },
   {
    "duration": 22,
    "start_time": "2022-06-18T15:50:34.839Z"
   },
   {
    "duration": 4,
    "start_time": "2022-06-18T15:50:43.892Z"
   },
   {
    "duration": 76,
    "start_time": "2022-06-18T15:50:46.660Z"
   },
   {
    "duration": 96,
    "start_time": "2022-06-18T15:51:07.569Z"
   },
   {
    "duration": 7,
    "start_time": "2022-06-18T15:51:11.588Z"
   },
   {
    "duration": 1136,
    "start_time": "2022-06-18T15:51:26.455Z"
   },
   {
    "duration": 402,
    "start_time": "2022-06-18T15:51:27.593Z"
   },
   {
    "duration": 21,
    "start_time": "2022-06-18T15:51:27.997Z"
   },
   {
    "duration": 14,
    "start_time": "2022-06-18T15:51:28.020Z"
   },
   {
    "duration": 30,
    "start_time": "2022-06-18T15:51:28.716Z"
   },
   {
    "duration": 33,
    "start_time": "2022-06-18T15:51:29.006Z"
   },
   {
    "duration": 13,
    "start_time": "2022-06-18T15:51:29.537Z"
   },
   {
    "duration": 26,
    "start_time": "2022-06-18T15:51:30.236Z"
   },
   {
    "duration": 10,
    "start_time": "2022-06-18T15:51:30.613Z"
   },
   {
    "duration": 16,
    "start_time": "2022-06-18T15:51:30.953Z"
   },
   {
    "duration": 28,
    "start_time": "2022-06-18T15:51:31.687Z"
   },
   {
    "duration": 116,
    "start_time": "2022-06-18T15:51:32.036Z"
   },
   {
    "duration": 22,
    "start_time": "2022-06-18T15:51:32.923Z"
   },
   {
    "duration": 20,
    "start_time": "2022-06-18T15:51:33.293Z"
   },
   {
    "duration": 47,
    "start_time": "2022-06-18T15:51:33.623Z"
   },
   {
    "duration": 17,
    "start_time": "2022-06-18T15:51:33.993Z"
   },
   {
    "duration": 6,
    "start_time": "2022-06-18T15:51:34.372Z"
   },
   {
    "duration": 3,
    "start_time": "2022-06-18T15:51:34.557Z"
   },
   {
    "duration": 9,
    "start_time": "2022-06-18T15:51:34.947Z"
   },
   {
    "duration": 227,
    "start_time": "2022-06-18T15:51:35.931Z"
   },
   {
    "duration": 90,
    "start_time": "2022-06-18T15:51:36.797Z"
   },
   {
    "duration": 5,
    "start_time": "2022-06-18T15:51:38.508Z"
   },
   {
    "duration": 21,
    "start_time": "2022-06-18T15:51:38.994Z"
   },
   {
    "duration": 116,
    "start_time": "2022-06-18T15:51:39.849Z"
   },
   {
    "duration": 22,
    "start_time": "2022-06-18T15:51:41.160Z"
   },
   {
    "duration": 16,
    "start_time": "2022-06-18T15:51:42.383Z"
   },
   {
    "duration": 183,
    "start_time": "2022-06-18T15:51:43.151Z"
   },
   {
    "duration": 171,
    "start_time": "2022-06-18T15:51:43.409Z"
   },
   {
    "duration": 154,
    "start_time": "2022-06-18T15:51:55.062Z"
   },
   {
    "duration": 76,
    "start_time": "2022-06-18T15:52:01.560Z"
   },
   {
    "duration": 9,
    "start_time": "2022-06-18T15:52:04.915Z"
   },
   {
    "duration": 231,
    "start_time": "2022-06-18T15:52:44.643Z"
   },
   {
    "duration": 7,
    "start_time": "2022-06-18T15:52:47.494Z"
   },
   {
    "duration": 9,
    "start_time": "2022-06-18T15:52:59.558Z"
   },
   {
    "duration": 23,
    "start_time": "2022-06-18T15:53:01.937Z"
   },
   {
    "duration": 134,
    "start_time": "2022-06-18T15:53:08.669Z"
   },
   {
    "duration": 6,
    "start_time": "2022-06-18T15:53:09.351Z"
   },
   {
    "duration": 23,
    "start_time": "2022-06-18T15:53:25.863Z"
   },
   {
    "duration": 18,
    "start_time": "2022-06-18T15:58:16.683Z"
   },
   {
    "duration": 6,
    "start_time": "2022-06-18T15:58:30.093Z"
   },
   {
    "duration": 62,
    "start_time": "2022-06-18T16:03:43.843Z"
   },
   {
    "duration": 213,
    "start_time": "2022-06-18T16:03:48.163Z"
   },
   {
    "duration": 7,
    "start_time": "2022-06-18T16:03:48.726Z"
   },
   {
    "duration": 9,
    "start_time": "2022-06-18T16:03:49.401Z"
   },
   {
    "duration": 21,
    "start_time": "2022-06-18T16:03:49.689Z"
   },
   {
    "duration": 7,
    "start_time": "2022-06-18T16:04:21.608Z"
   },
   {
    "duration": 281,
    "start_time": "2022-06-18T16:05:19.150Z"
   },
   {
    "duration": 7,
    "start_time": "2022-06-18T16:05:19.585Z"
   },
   {
    "duration": 9,
    "start_time": "2022-06-18T16:05:20.250Z"
   },
   {
    "duration": 19,
    "start_time": "2022-06-18T16:05:20.619Z"
   },
   {
    "duration": 115,
    "start_time": "2022-06-18T16:05:21.725Z"
   },
   {
    "duration": 8,
    "start_time": "2022-06-18T16:05:22.529Z"
   },
   {
    "duration": 686,
    "start_time": "2022-06-18T16:05:45.790Z"
   },
   {
    "duration": 12,
    "start_time": "2022-06-18T16:05:47.511Z"
   },
   {
    "duration": 576,
    "start_time": "2022-06-18T16:06:09.232Z"
   },
   {
    "duration": 501,
    "start_time": "2022-06-18T16:06:10.679Z"
   },
   {
    "duration": 220,
    "start_time": "2022-06-18T16:06:42.859Z"
   },
   {
    "duration": 6,
    "start_time": "2022-06-18T16:06:43.301Z"
   },
   {
    "duration": 6,
    "start_time": "2022-06-18T16:07:43.479Z"
   },
   {
    "duration": 25,
    "start_time": "2022-06-18T16:07:50.903Z"
   },
   {
    "duration": 1257,
    "start_time": "2022-06-18T17:00:37.060Z"
   },
   {
    "duration": 1299,
    "start_time": "2022-06-18T17:00:38.319Z"
   },
   {
    "duration": 19,
    "start_time": "2022-06-18T17:00:39.620Z"
   },
   {
    "duration": 19,
    "start_time": "2022-06-18T17:00:39.640Z"
   },
   {
    "duration": 36,
    "start_time": "2022-06-18T17:00:39.661Z"
   },
   {
    "duration": 33,
    "start_time": "2022-06-18T17:00:39.699Z"
   },
   {
    "duration": 11,
    "start_time": "2022-06-18T17:00:39.733Z"
   },
   {
    "duration": 36,
    "start_time": "2022-06-18T17:00:39.746Z"
   },
   {
    "duration": 9,
    "start_time": "2022-06-18T17:00:39.784Z"
   },
   {
    "duration": 11,
    "start_time": "2022-06-18T17:00:39.795Z"
   },
   {
    "duration": 51,
    "start_time": "2022-06-18T17:00:39.808Z"
   },
   {
    "duration": 100,
    "start_time": "2022-06-18T17:00:39.861Z"
   },
   {
    "duration": 21,
    "start_time": "2022-06-18T17:00:39.962Z"
   },
   {
    "duration": 19,
    "start_time": "2022-06-18T17:00:39.985Z"
   },
   {
    "duration": 62,
    "start_time": "2022-06-18T17:00:40.005Z"
   },
   {
    "duration": 15,
    "start_time": "2022-06-18T17:00:40.069Z"
   },
   {
    "duration": 14,
    "start_time": "2022-06-18T17:00:40.086Z"
   },
   {
    "duration": 7,
    "start_time": "2022-06-18T17:00:40.102Z"
   },
   {
    "duration": 11,
    "start_time": "2022-06-18T17:00:40.110Z"
   },
   {
    "duration": 182,
    "start_time": "2022-06-18T17:00:40.123Z"
   },
   {
    "duration": 72,
    "start_time": "2022-06-18T17:00:40.307Z"
   },
   {
    "duration": 5,
    "start_time": "2022-06-18T17:00:40.381Z"
   },
   {
    "duration": 22,
    "start_time": "2022-06-18T17:00:40.388Z"
   },
   {
    "duration": 117,
    "start_time": "2022-06-18T17:00:40.412Z"
   },
   {
    "duration": 21,
    "start_time": "2022-06-18T17:00:43.542Z"
   },
   {
    "duration": 4,
    "start_time": "2022-06-18T17:00:52.540Z"
   },
   {
    "duration": 421,
    "start_time": "2022-06-18T17:00:52.546Z"
   },
   {
    "duration": 16,
    "start_time": "2022-06-18T17:00:52.968Z"
   },
   {
    "duration": 22,
    "start_time": "2022-06-18T17:00:52.986Z"
   },
   {
    "duration": 41,
    "start_time": "2022-06-18T17:00:53.010Z"
   },
   {
    "duration": 37,
    "start_time": "2022-06-18T17:00:53.053Z"
   },
   {
    "duration": 11,
    "start_time": "2022-06-18T17:00:53.092Z"
   },
   {
    "duration": 26,
    "start_time": "2022-06-18T17:00:53.104Z"
   },
   {
    "duration": 34,
    "start_time": "2022-06-18T17:00:53.131Z"
   },
   {
    "duration": 14,
    "start_time": "2022-06-18T17:00:53.167Z"
   },
   {
    "duration": 33,
    "start_time": "2022-06-18T17:00:53.183Z"
   },
   {
    "duration": 110,
    "start_time": "2022-06-18T17:00:53.218Z"
   },
   {
    "duration": 33,
    "start_time": "2022-06-18T17:00:53.330Z"
   },
   {
    "duration": 18,
    "start_time": "2022-06-18T17:00:53.365Z"
   },
   {
    "duration": 48,
    "start_time": "2022-06-18T17:00:53.385Z"
   },
   {
    "duration": 35,
    "start_time": "2022-06-18T17:00:53.435Z"
   },
   {
    "duration": 6,
    "start_time": "2022-06-18T17:00:53.471Z"
   },
   {
    "duration": 8,
    "start_time": "2022-06-18T17:00:53.478Z"
   },
   {
    "duration": 10,
    "start_time": "2022-06-18T17:00:53.487Z"
   },
   {
    "duration": 217,
    "start_time": "2022-06-18T17:00:53.498Z"
   },
   {
    "duration": 75,
    "start_time": "2022-06-18T17:00:53.716Z"
   },
   {
    "duration": 5,
    "start_time": "2022-06-18T17:00:53.793Z"
   },
   {
    "duration": 19,
    "start_time": "2022-06-18T17:00:53.800Z"
   },
   {
    "duration": 119,
    "start_time": "2022-06-18T17:00:53.821Z"
   },
   {
    "duration": 20,
    "start_time": "2022-06-18T17:01:09.120Z"
   },
   {
    "duration": 94,
    "start_time": "2022-06-18T17:05:43.996Z"
   },
   {
    "duration": 3,
    "start_time": "2022-06-18T17:05:48.112Z"
   },
   {
    "duration": 417,
    "start_time": "2022-06-18T17:05:48.117Z"
   },
   {
    "duration": 13,
    "start_time": "2022-06-18T17:05:48.536Z"
   },
   {
    "duration": 15,
    "start_time": "2022-06-18T17:05:48.551Z"
   },
   {
    "duration": 34,
    "start_time": "2022-06-18T17:05:48.567Z"
   },
   {
    "duration": 29,
    "start_time": "2022-06-18T17:05:48.603Z"
   },
   {
    "duration": 10,
    "start_time": "2022-06-18T17:05:48.634Z"
   },
   {
    "duration": 24,
    "start_time": "2022-06-18T17:05:48.659Z"
   },
   {
    "duration": 8,
    "start_time": "2022-06-18T17:05:48.685Z"
   },
   {
    "duration": 10,
    "start_time": "2022-06-18T17:05:48.695Z"
   },
   {
    "duration": 24,
    "start_time": "2022-06-18T17:05:48.707Z"
   },
   {
    "duration": 90,
    "start_time": "2022-06-18T17:05:48.759Z"
   },
   {
    "duration": 22,
    "start_time": "2022-06-18T17:05:48.859Z"
   },
   {
    "duration": 18,
    "start_time": "2022-06-18T17:05:48.883Z"
   },
   {
    "duration": 62,
    "start_time": "2022-06-18T17:05:48.903Z"
   },
   {
    "duration": 17,
    "start_time": "2022-06-18T17:05:48.967Z"
   },
   {
    "duration": 8,
    "start_time": "2022-06-18T17:05:48.986Z"
   },
   {
    "duration": 7,
    "start_time": "2022-06-18T17:05:48.995Z"
   },
   {
    "duration": 10,
    "start_time": "2022-06-18T17:05:49.004Z"
   },
   {
    "duration": 217,
    "start_time": "2022-06-18T17:05:49.015Z"
   },
   {
    "duration": 69,
    "start_time": "2022-06-18T17:05:49.233Z"
   },
   {
    "duration": 5,
    "start_time": "2022-06-18T17:05:49.303Z"
   },
   {
    "duration": 18,
    "start_time": "2022-06-18T17:05:49.309Z"
   },
   {
    "duration": 122,
    "start_time": "2022-06-18T17:05:49.330Z"
   },
   {
    "duration": 20,
    "start_time": "2022-06-18T17:05:49.458Z"
   },
   {
    "duration": 17,
    "start_time": "2022-06-18T17:05:49.480Z"
   },
   {
    "duration": 216,
    "start_time": "2022-06-18T17:05:49.499Z"
   },
   {
    "duration": 143,
    "start_time": "2022-06-18T17:05:49.716Z"
   },
   {
    "duration": 154,
    "start_time": "2022-06-18T17:05:49.860Z"
   },
   {
    "duration": 65,
    "start_time": "2022-06-18T17:05:50.016Z"
   },
   {
    "duration": 3,
    "start_time": "2022-06-18T17:07:13.002Z"
   },
   {
    "duration": 428,
    "start_time": "2022-06-18T17:07:13.007Z"
   },
   {
    "duration": 14,
    "start_time": "2022-06-18T17:07:13.437Z"
   },
   {
    "duration": 12,
    "start_time": "2022-06-18T17:07:13.453Z"
   },
   {
    "duration": 37,
    "start_time": "2022-06-18T17:07:13.466Z"
   },
   {
    "duration": 31,
    "start_time": "2022-06-18T17:07:13.505Z"
   },
   {
    "duration": 26,
    "start_time": "2022-06-18T17:07:13.538Z"
   },
   {
    "duration": 24,
    "start_time": "2022-06-18T17:07:13.565Z"
   },
   {
    "duration": 8,
    "start_time": "2022-06-18T17:07:13.591Z"
   },
   {
    "duration": 10,
    "start_time": "2022-06-18T17:07:13.600Z"
   },
   {
    "duration": 50,
    "start_time": "2022-06-18T17:07:13.612Z"
   },
   {
    "duration": 99,
    "start_time": "2022-06-18T17:07:13.663Z"
   },
   {
    "duration": 22,
    "start_time": "2022-06-18T17:07:13.764Z"
   },
   {
    "duration": 18,
    "start_time": "2022-06-18T17:07:13.787Z"
   },
   {
    "duration": 60,
    "start_time": "2022-06-18T17:07:13.807Z"
   },
   {
    "duration": 16,
    "start_time": "2022-06-18T17:07:13.868Z"
   },
   {
    "duration": 7,
    "start_time": "2022-06-18T17:07:13.886Z"
   },
   {
    "duration": 5,
    "start_time": "2022-06-18T17:07:13.895Z"
   },
   {
    "duration": 11,
    "start_time": "2022-06-18T17:07:13.901Z"
   },
   {
    "duration": 196,
    "start_time": "2022-06-18T17:07:13.914Z"
   },
   {
    "duration": 67,
    "start_time": "2022-06-18T17:07:14.112Z"
   },
   {
    "duration": 4,
    "start_time": "2022-06-18T17:07:14.181Z"
   },
   {
    "duration": 21,
    "start_time": "2022-06-18T17:07:14.187Z"
   },
   {
    "duration": 120,
    "start_time": "2022-06-18T17:07:14.210Z"
   },
   {
    "duration": 29,
    "start_time": "2022-06-18T17:07:14.331Z"
   },
   {
    "duration": 13,
    "start_time": "2022-06-18T17:07:14.362Z"
   },
   {
    "duration": 167,
    "start_time": "2022-06-18T17:07:14.376Z"
   },
   {
    "duration": 148,
    "start_time": "2022-06-18T17:07:14.545Z"
   },
   {
    "duration": 158,
    "start_time": "2022-06-18T17:07:14.694Z"
   },
   {
    "duration": 60,
    "start_time": "2022-06-18T17:07:14.858Z"
   },
   {
    "duration": 284,
    "start_time": "2022-06-18T17:07:14.920Z"
   },
   {
    "duration": 6,
    "start_time": "2022-06-18T17:07:15.206Z"
   },
   {
    "duration": 11,
    "start_time": "2022-06-18T17:07:15.213Z"
   },
   {
    "duration": 34,
    "start_time": "2022-06-18T17:07:15.225Z"
   },
   {
    "duration": 109,
    "start_time": "2022-06-18T17:07:15.261Z"
   },
   {
    "duration": 561,
    "start_time": "2022-06-18T17:07:15.372Z"
   },
   {
    "duration": 12,
    "start_time": "2022-06-18T17:07:15.935Z"
   },
   {
    "duration": 486,
    "start_time": "2022-06-18T17:07:15.948Z"
   },
   {
    "duration": 478,
    "start_time": "2022-06-18T17:07:16.435Z"
   },
   {
    "duration": 189,
    "start_time": "2022-06-18T17:07:16.915Z"
   },
   {
    "duration": 5,
    "start_time": "2022-06-18T17:07:17.106Z"
   },
   {
    "duration": 13,
    "start_time": "2022-06-18T17:07:17.113Z"
   },
   {
    "duration": 0,
    "start_time": "2022-06-18T17:07:17.127Z"
   },
   {
    "duration": 4,
    "start_time": "2022-06-18T17:11:59.308Z"
   },
   {
    "duration": 408,
    "start_time": "2022-06-18T17:11:59.314Z"
   },
   {
    "duration": 15,
    "start_time": "2022-06-18T17:11:59.724Z"
   },
   {
    "duration": 14,
    "start_time": "2022-06-18T17:11:59.741Z"
   },
   {
    "duration": 40,
    "start_time": "2022-06-18T17:11:59.757Z"
   },
   {
    "duration": 52,
    "start_time": "2022-06-18T17:11:59.799Z"
   },
   {
    "duration": 17,
    "start_time": "2022-06-18T17:11:59.853Z"
   },
   {
    "duration": 41,
    "start_time": "2022-06-18T17:11:59.872Z"
   },
   {
    "duration": 9,
    "start_time": "2022-06-18T17:11:59.915Z"
   },
   {
    "duration": 36,
    "start_time": "2022-06-18T17:11:59.926Z"
   },
   {
    "duration": 23,
    "start_time": "2022-06-18T17:11:59.964Z"
   },
   {
    "duration": 109,
    "start_time": "2022-06-18T17:11:59.989Z"
   },
   {
    "duration": 21,
    "start_time": "2022-06-18T17:12:00.100Z"
   },
   {
    "duration": 36,
    "start_time": "2022-06-18T17:12:00.123Z"
   },
   {
    "duration": 49,
    "start_time": "2022-06-18T17:12:00.160Z"
   },
   {
    "duration": 32,
    "start_time": "2022-06-18T17:12:00.211Z"
   },
   {
    "duration": 16,
    "start_time": "2022-06-18T17:12:00.245Z"
   },
   {
    "duration": 6,
    "start_time": "2022-06-18T17:12:00.263Z"
   },
   {
    "duration": 11,
    "start_time": "2022-06-18T17:12:00.271Z"
   },
   {
    "duration": 209,
    "start_time": "2022-06-18T17:12:00.283Z"
   },
   {
    "duration": 80,
    "start_time": "2022-06-18T17:12:00.494Z"
   },
   {
    "duration": 5,
    "start_time": "2022-06-18T17:12:00.576Z"
   },
   {
    "duration": 25,
    "start_time": "2022-06-18T17:12:00.583Z"
   },
   {
    "duration": 137,
    "start_time": "2022-06-18T17:12:00.611Z"
   },
   {
    "duration": 31,
    "start_time": "2022-06-18T17:12:00.750Z"
   },
   {
    "duration": 18,
    "start_time": "2022-06-18T17:12:00.783Z"
   },
   {
    "duration": 198,
    "start_time": "2022-06-18T17:12:00.803Z"
   },
   {
    "duration": 184,
    "start_time": "2022-06-18T17:12:01.003Z"
   },
   {
    "duration": 169,
    "start_time": "2022-06-18T17:12:01.190Z"
   },
   {
    "duration": 63,
    "start_time": "2022-06-18T17:12:01.361Z"
   },
   {
    "duration": 249,
    "start_time": "2022-06-18T17:12:01.425Z"
   },
   {
    "duration": 7,
    "start_time": "2022-06-18T17:12:01.676Z"
   },
   {
    "duration": 12,
    "start_time": "2022-06-18T17:12:01.685Z"
   },
   {
    "duration": 19,
    "start_time": "2022-06-18T17:12:01.699Z"
   },
   {
    "duration": 160,
    "start_time": "2022-06-18T17:12:01.719Z"
   },
   {
    "duration": 700,
    "start_time": "2022-06-18T17:12:01.882Z"
   },
   {
    "duration": 13,
    "start_time": "2022-06-18T17:12:02.591Z"
   },
   {
    "duration": 570,
    "start_time": "2022-06-18T17:12:02.606Z"
   },
   {
    "duration": 405,
    "start_time": "2022-06-18T17:12:03.178Z"
   },
   {
    "duration": 288,
    "start_time": "2022-06-18T17:12:03.585Z"
   },
   {
    "duration": 6,
    "start_time": "2022-06-18T17:12:03.874Z"
   },
   {
    "duration": 16,
    "start_time": "2022-06-18T17:12:03.882Z"
   },
   {
    "duration": 0,
    "start_time": "2022-06-18T17:12:03.900Z"
   },
   {
    "duration": 8,
    "start_time": "2022-06-18T17:13:06.482Z"
   },
   {
    "duration": 1312,
    "start_time": "2022-06-19T12:52:20.663Z"
   },
   {
    "duration": 1413,
    "start_time": "2022-06-19T12:52:23.327Z"
   },
   {
    "duration": 20,
    "start_time": "2022-06-19T12:52:25.892Z"
   },
   {
    "duration": 17,
    "start_time": "2022-06-19T12:52:26.682Z"
   },
   {
    "duration": 32,
    "start_time": "2022-06-19T12:52:34.018Z"
   },
   {
    "duration": 38,
    "start_time": "2022-06-19T12:52:35.179Z"
   },
   {
    "duration": 12,
    "start_time": "2022-06-19T12:52:35.918Z"
   },
   {
    "duration": 28,
    "start_time": "2022-06-19T12:52:36.919Z"
   },
   {
    "duration": 13,
    "start_time": "2022-06-19T12:52:37.399Z"
   },
   {
    "duration": 13,
    "start_time": "2022-06-19T12:52:37.874Z"
   },
   {
    "duration": 43,
    "start_time": "2022-06-19T12:52:38.750Z"
   },
   {
    "duration": 111,
    "start_time": "2022-06-19T12:52:39.206Z"
   },
   {
    "duration": 36,
    "start_time": "2022-06-19T12:52:45.749Z"
   },
   {
    "duration": 20,
    "start_time": "2022-06-19T12:52:46.597Z"
   },
   {
    "duration": 57,
    "start_time": "2022-06-19T12:52:47.277Z"
   },
   {
    "duration": 18,
    "start_time": "2022-06-19T12:52:47.908Z"
   },
   {
    "duration": 6,
    "start_time": "2022-06-19T12:52:48.908Z"
   },
   {
    "duration": 3,
    "start_time": "2022-06-19T12:52:49.123Z"
   },
   {
    "duration": 8,
    "start_time": "2022-06-19T12:52:49.951Z"
   },
   {
    "duration": 232,
    "start_time": "2022-06-19T12:52:52.562Z"
   },
   {
    "duration": 96,
    "start_time": "2022-06-19T12:52:54.142Z"
   },
   {
    "duration": 5,
    "start_time": "2022-06-19T12:52:55.084Z"
   },
   {
    "duration": 22,
    "start_time": "2022-06-19T12:52:55.275Z"
   },
   {
    "duration": 115,
    "start_time": "2022-06-19T12:52:55.689Z"
   },
   {
    "duration": 25,
    "start_time": "2022-06-19T12:52:56.442Z"
   },
   {
    "duration": 20,
    "start_time": "2022-06-19T12:52:57.950Z"
   },
   {
    "duration": 184,
    "start_time": "2022-06-19T12:53:41.576Z"
   },
   {
    "duration": 156,
    "start_time": "2022-06-19T12:53:42.309Z"
   },
   {
    "duration": 26,
    "start_time": "2022-06-19T12:54:12.886Z"
   },
   {
    "duration": 24,
    "start_time": "2022-06-19T13:01:03.463Z"
   },
   {
    "duration": 166,
    "start_time": "2022-06-19T13:01:32.191Z"
   },
   {
    "duration": 91,
    "start_time": "2022-06-19T13:06:09.898Z"
   },
   {
    "duration": 19,
    "start_time": "2022-06-19T13:06:18.853Z"
   },
   {
    "duration": 15,
    "start_time": "2022-06-19T13:07:13.321Z"
   },
   {
    "duration": 183,
    "start_time": "2022-06-19T13:07:13.869Z"
   },
   {
    "duration": 177,
    "start_time": "2022-06-19T13:07:14.059Z"
   },
   {
    "duration": 145,
    "start_time": "2022-06-19T13:07:14.241Z"
   },
   {
    "duration": 71,
    "start_time": "2022-06-19T13:07:15.004Z"
   },
   {
    "duration": 22,
    "start_time": "2022-06-19T13:07:40.785Z"
   },
   {
    "duration": 12,
    "start_time": "2022-06-19T13:07:44.665Z"
   },
   {
    "duration": 208,
    "start_time": "2022-06-19T13:08:20.257Z"
   },
   {
    "duration": 7,
    "start_time": "2022-06-19T13:08:20.467Z"
   },
   {
    "duration": 9,
    "start_time": "2022-06-19T13:08:20.581Z"
   },
   {
    "duration": 18,
    "start_time": "2022-06-19T13:08:21.973Z"
   },
   {
    "duration": 119,
    "start_time": "2022-06-19T13:08:23.160Z"
   },
   {
    "duration": 21,
    "start_time": "2022-06-19T13:08:34.209Z"
   },
   {
    "duration": 18,
    "start_time": "2022-06-19T13:08:53.716Z"
   },
   {
    "duration": 7,
    "start_time": "2022-06-19T13:08:57.968Z"
   },
   {
    "duration": 1136,
    "start_time": "2022-06-19T13:43:27.199Z"
   },
   {
    "duration": 430,
    "start_time": "2022-06-19T13:43:29.684Z"
   },
   {
    "duration": 19,
    "start_time": "2022-06-19T13:43:31.118Z"
   },
   {
    "duration": 15,
    "start_time": "2022-06-19T13:43:31.740Z"
   },
   {
    "duration": 29,
    "start_time": "2022-06-19T13:43:47.696Z"
   },
   {
    "duration": 41,
    "start_time": "2022-06-19T13:43:49.005Z"
   },
   {
    "duration": 12,
    "start_time": "2022-06-19T13:43:50.012Z"
   },
   {
    "duration": 28,
    "start_time": "2022-06-19T13:43:51.013Z"
   },
   {
    "duration": 18,
    "start_time": "2022-06-19T13:43:51.608Z"
   },
   {
    "duration": 15,
    "start_time": "2022-06-19T13:43:52.564Z"
   },
   {
    "duration": 41,
    "start_time": "2022-06-19T13:43:54.092Z"
   },
   {
    "duration": 101,
    "start_time": "2022-06-19T13:43:54.844Z"
   },
   {
    "duration": 37,
    "start_time": "2022-06-19T13:43:57.658Z"
   },
   {
    "duration": 32,
    "start_time": "2022-06-19T13:43:58.468Z"
   },
   {
    "duration": 61,
    "start_time": "2022-06-19T13:43:59.352Z"
   },
   {
    "duration": 20,
    "start_time": "2022-06-19T13:44:00.269Z"
   },
   {
    "duration": 7,
    "start_time": "2022-06-19T13:44:02.388Z"
   },
   {
    "duration": 4,
    "start_time": "2022-06-19T13:44:02.672Z"
   },
   {
    "duration": 8,
    "start_time": "2022-06-19T13:44:03.452Z"
   },
   {
    "duration": 198,
    "start_time": "2022-06-19T13:44:04.408Z"
   },
   {
    "duration": 68,
    "start_time": "2022-06-19T13:44:05.099Z"
   },
   {
    "duration": 5,
    "start_time": "2022-06-19T13:44:05.860Z"
   },
   {
    "duration": 20,
    "start_time": "2022-06-19T13:44:05.920Z"
   },
   {
    "duration": 113,
    "start_time": "2022-06-19T13:44:06.084Z"
   },
   {
    "duration": 21,
    "start_time": "2022-06-19T13:44:06.268Z"
   },
   {
    "duration": 16,
    "start_time": "2022-06-19T13:44:06.580Z"
   },
   {
    "duration": 169,
    "start_time": "2022-06-19T13:44:06.764Z"
   },
   {
    "duration": 156,
    "start_time": "2022-06-19T13:44:24.072Z"
   },
   {
    "duration": 164,
    "start_time": "2022-06-19T13:44:24.652Z"
   },
   {
    "duration": 65,
    "start_time": "2022-06-19T13:44:25.874Z"
   },
   {
    "duration": 225,
    "start_time": "2022-06-19T13:44:28.476Z"
   },
   {
    "duration": 7,
    "start_time": "2022-06-19T13:44:29.592Z"
   },
   {
    "duration": 10,
    "start_time": "2022-06-19T13:44:30.553Z"
   },
   {
    "duration": 20,
    "start_time": "2022-06-19T13:44:31.508Z"
   },
   {
    "duration": 5,
    "start_time": "2022-06-19T13:44:49.888Z"
   },
   {
    "duration": 39,
    "start_time": "2022-06-19T13:46:31.090Z"
   },
   {
    "duration": 6,
    "start_time": "2022-06-19T13:46:38.909Z"
   },
   {
    "duration": 6,
    "start_time": "2022-06-19T13:46:42.271Z"
   },
   {
    "duration": 9,
    "start_time": "2022-06-19T13:46:48.916Z"
   },
   {
    "duration": 12,
    "start_time": "2022-06-19T13:47:05.279Z"
   },
   {
    "duration": 14,
    "start_time": "2022-06-19T13:47:57.207Z"
   },
   {
    "duration": 11,
    "start_time": "2022-06-19T13:48:41.484Z"
   },
   {
    "duration": 21,
    "start_time": "2022-06-19T13:50:00.001Z"
   },
   {
    "duration": 6,
    "start_time": "2022-06-19T13:51:13.398Z"
   },
   {
    "duration": 5,
    "start_time": "2022-06-19T13:53:12.996Z"
   },
   {
    "duration": 5,
    "start_time": "2022-06-19T13:54:25.171Z"
   },
   {
    "duration": 5,
    "start_time": "2022-06-19T13:54:56.179Z"
   },
   {
    "duration": 4,
    "start_time": "2022-06-19T13:55:09.271Z"
   },
   {
    "duration": 6,
    "start_time": "2022-06-19T13:55:16.091Z"
   },
   {
    "duration": 82,
    "start_time": "2022-06-19T13:58:30.255Z"
   },
   {
    "duration": 14,
    "start_time": "2022-06-19T13:58:54.674Z"
   },
   {
    "duration": 8,
    "start_time": "2022-06-19T13:59:46.944Z"
   },
   {
    "duration": 11,
    "start_time": "2022-06-19T14:00:01.077Z"
   },
   {
    "duration": 14,
    "start_time": "2022-06-19T14:00:06.396Z"
   },
   {
    "duration": 9,
    "start_time": "2022-06-19T14:00:19.752Z"
   },
   {
    "duration": 1064,
    "start_time": "2022-06-19T14:07:16.320Z"
   },
   {
    "duration": 437,
    "start_time": "2022-06-19T14:07:17.386Z"
   },
   {
    "duration": 20,
    "start_time": "2022-06-19T14:07:17.943Z"
   },
   {
    "duration": 18,
    "start_time": "2022-06-19T14:07:18.349Z"
   },
   {
    "duration": 39,
    "start_time": "2022-06-19T14:07:19.277Z"
   },
   {
    "duration": 36,
    "start_time": "2022-06-19T14:07:19.658Z"
   },
   {
    "duration": 13,
    "start_time": "2022-06-19T14:07:20.351Z"
   },
   {
    "duration": 27,
    "start_time": "2022-06-19T14:07:21.216Z"
   },
   {
    "duration": 11,
    "start_time": "2022-06-19T14:07:21.656Z"
   },
   {
    "duration": 13,
    "start_time": "2022-06-19T14:07:22.115Z"
   },
   {
    "duration": 37,
    "start_time": "2022-06-19T14:07:22.912Z"
   },
   {
    "duration": 96,
    "start_time": "2022-06-19T14:07:23.308Z"
   },
   {
    "duration": 35,
    "start_time": "2022-06-19T14:07:24.448Z"
   },
   {
    "duration": 31,
    "start_time": "2022-06-19T14:07:24.808Z"
   },
   {
    "duration": 51,
    "start_time": "2022-06-19T14:07:25.221Z"
   },
   {
    "duration": 18,
    "start_time": "2022-06-19T14:07:25.717Z"
   },
   {
    "duration": 5,
    "start_time": "2022-06-19T14:07:26.110Z"
   },
   {
    "duration": 4,
    "start_time": "2022-06-19T14:07:26.314Z"
   },
   {
    "duration": 8,
    "start_time": "2022-06-19T14:07:26.719Z"
   },
   {
    "duration": 186,
    "start_time": "2022-06-19T14:07:27.722Z"
   },
   {
    "duration": 72,
    "start_time": "2022-06-19T14:07:29.081Z"
   },
   {
    "duration": 6,
    "start_time": "2022-06-19T14:07:30.059Z"
   },
   {
    "duration": 20,
    "start_time": "2022-06-19T14:07:30.236Z"
   },
   {
    "duration": 116,
    "start_time": "2022-06-19T14:07:30.690Z"
   },
   {
    "duration": 27,
    "start_time": "2022-06-19T14:07:31.135Z"
   },
   {
    "duration": 7,
    "start_time": "2022-06-19T14:07:52.150Z"
   },
   {
    "duration": 4,
    "start_time": "2022-06-19T14:08:04.347Z"
   },
   {
    "duration": 3,
    "start_time": "2022-06-19T14:08:18.251Z"
   },
   {
    "duration": 15,
    "start_time": "2022-06-19T14:08:43.998Z"
   },
   {
    "duration": 185,
    "start_time": "2022-06-19T14:08:51.167Z"
   },
   {
    "duration": 147,
    "start_time": "2022-06-19T14:08:52.040Z"
   },
   {
    "duration": 150,
    "start_time": "2022-06-19T14:08:52.756Z"
   },
   {
    "duration": 62,
    "start_time": "2022-06-19T14:09:05.559Z"
   },
   {
    "duration": 239,
    "start_time": "2022-06-19T14:09:37.306Z"
   },
   {
    "duration": 7,
    "start_time": "2022-06-19T14:09:40.946Z"
   },
   {
    "duration": 11,
    "start_time": "2022-06-19T14:10:27.496Z"
   },
   {
    "duration": 21,
    "start_time": "2022-06-19T14:10:29.357Z"
   },
   {
    "duration": 104,
    "start_time": "2022-06-19T14:10:32.287Z"
   },
   {
    "duration": 7,
    "start_time": "2022-06-19T14:10:33.584Z"
   },
   {
    "duration": 15,
    "start_time": "2022-06-19T14:12:58.702Z"
   },
   {
    "duration": 22,
    "start_time": "2022-06-19T14:13:17.860Z"
   },
   {
    "duration": 1072,
    "start_time": "2022-06-19T14:13:31.824Z"
   },
   {
    "duration": 466,
    "start_time": "2022-06-19T14:13:32.897Z"
   },
   {
    "duration": 20,
    "start_time": "2022-06-19T14:13:33.500Z"
   },
   {
    "duration": 14,
    "start_time": "2022-06-19T14:13:33.947Z"
   },
   {
    "duration": 29,
    "start_time": "2022-06-19T14:13:35.101Z"
   },
   {
    "duration": 35,
    "start_time": "2022-06-19T14:13:35.503Z"
   },
   {
    "duration": 14,
    "start_time": "2022-06-19T14:13:36.114Z"
   },
   {
    "duration": 38,
    "start_time": "2022-06-19T14:13:36.954Z"
   },
   {
    "duration": 18,
    "start_time": "2022-06-19T14:13:37.359Z"
   },
   {
    "duration": 13,
    "start_time": "2022-06-19T14:13:37.751Z"
   },
   {
    "duration": 27,
    "start_time": "2022-06-19T14:13:38.505Z"
   },
   {
    "duration": 100,
    "start_time": "2022-06-19T14:13:39.383Z"
   },
   {
    "duration": 22,
    "start_time": "2022-06-19T14:13:41.368Z"
   },
   {
    "duration": 21,
    "start_time": "2022-06-19T14:13:42.087Z"
   },
   {
    "duration": 43,
    "start_time": "2022-06-19T14:13:42.505Z"
   },
   {
    "duration": 23,
    "start_time": "2022-06-19T14:13:43.154Z"
   },
   {
    "duration": 6,
    "start_time": "2022-06-19T14:13:43.398Z"
   },
   {
    "duration": 10,
    "start_time": "2022-06-19T14:13:44.066Z"
   },
   {
    "duration": 8,
    "start_time": "2022-06-19T14:13:45.803Z"
   },
   {
    "duration": 232,
    "start_time": "2022-06-19T14:14:06.795Z"
   },
   {
    "duration": 83,
    "start_time": "2022-06-19T14:14:09.221Z"
   },
   {
    "duration": 5,
    "start_time": "2022-06-19T14:14:10.995Z"
   },
   {
    "duration": 19,
    "start_time": "2022-06-19T14:14:11.383Z"
   },
   {
    "duration": 125,
    "start_time": "2022-06-19T14:14:37.097Z"
   },
   {
    "duration": 22,
    "start_time": "2022-06-19T14:14:55.895Z"
   },
   {
    "duration": 15,
    "start_time": "2022-06-19T14:15:18.702Z"
   },
   {
    "duration": 207,
    "start_time": "2022-06-19T14:15:24.318Z"
   },
   {
    "duration": 159,
    "start_time": "2022-06-19T14:15:24.527Z"
   },
   {
    "duration": 178,
    "start_time": "2022-06-19T14:15:24.689Z"
   },
   {
    "duration": 74,
    "start_time": "2022-06-19T14:15:26.446Z"
   },
   {
    "duration": 6,
    "start_time": "2022-06-19T14:15:43.949Z"
   },
   {
    "duration": 7,
    "start_time": "2022-06-19T14:16:20.257Z"
   },
   {
    "duration": 5,
    "start_time": "2022-06-19T14:16:43.420Z"
   },
   {
    "duration": 238,
    "start_time": "2022-06-19T14:16:54.425Z"
   },
   {
    "duration": 7,
    "start_time": "2022-06-19T14:16:55.145Z"
   },
   {
    "duration": 10,
    "start_time": "2022-06-19T14:16:55.889Z"
   },
   {
    "duration": 32,
    "start_time": "2022-06-19T14:17:06.200Z"
   },
   {
    "duration": 180,
    "start_time": "2022-06-19T14:17:07.149Z"
   },
   {
    "duration": 10,
    "start_time": "2022-06-19T14:17:07.780Z"
   },
   {
    "duration": 878,
    "start_time": "2022-06-19T14:23:14.204Z"
   },
   {
    "duration": 28,
    "start_time": "2022-06-19T14:23:15.084Z"
   },
   {
    "duration": 731,
    "start_time": "2022-06-19T14:23:15.264Z"
   },
   {
    "duration": 450,
    "start_time": "2022-06-19T14:23:15.997Z"
   },
   {
    "duration": 319,
    "start_time": "2022-06-19T14:23:18.192Z"
   },
   {
    "duration": 8,
    "start_time": "2022-06-19T14:23:18.513Z"
   },
   {
    "duration": 10,
    "start_time": "2022-06-19T14:23:19.540Z"
   }
  ],
  "celltoolbar": "Необработанный формат ячейки",
  "kernelspec": {
   "display_name": "Python 3 (ipykernel)",
   "language": "python",
   "name": "python3"
  },
  "language_info": {
   "codemirror_mode": {
    "name": "ipython",
    "version": 3
   },
   "file_extension": ".py",
   "mimetype": "text/x-python",
   "name": "python",
   "nbconvert_exporter": "python",
   "pygments_lexer": "ipython3",
   "version": "3.9.7"
  },
  "toc": {
   "base_numbering": 1,
   "nav_menu": {},
   "number_sections": true,
   "sideBar": true,
   "skip_h1_title": true,
   "title_cell": "Table of Contents",
   "title_sidebar": "Contents",
   "toc_cell": false,
   "toc_position": {},
   "toc_section_display": true,
   "toc_window_display": false
  }
 },
 "nbformat": 4,
 "nbformat_minor": 5
}
