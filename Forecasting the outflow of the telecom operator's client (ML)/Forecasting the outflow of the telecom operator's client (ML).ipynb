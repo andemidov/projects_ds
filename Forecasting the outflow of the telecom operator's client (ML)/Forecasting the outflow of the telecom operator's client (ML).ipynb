{
 "cells": [
  {
   "cell_type": "markdown",
   "id": "a262a8d1",
   "metadata": {},
   "source": [
    "# Прогнозирование оттока клиента оператора связи\n",
    "\n",
    "**Описание целей и задачи проекта**\n",
    "\n",
    "Заказчик оператор связи «Ниединогоразрыва.ком» хочет научиться прогнозировать отток клиентов. Необходимо создать классифицирующую модель, предсказывающую вероятнотность того, что клиент планирует уйти или остаться. \n",
    "\n",
    "\n",
    "**Описание данных**\n",
    "\n",
    "В распоряжении информация о договорах актуальных на 1 февраля 2020. Данные представлены в 4 таблицах:\n",
    "\n",
    "Таблица **contract** — информация о договоре:\n",
    " - customerID код клиента\n",
    " - BeginDate дата, кода клиент начал пользоваться услугами компании\n",
    " - EndDate дата, кода клиент закончил пользоваться услугами компании \n",
    " - Type период оплаты\n",
    " - PaperlessBilling возможность получения электронного чека\n",
    " - PaymentMethod способ оплаты\n",
    " - MonthlyCharges стоимость услуг за месяц\n",
    " - TotalCharges общая выручка за все услуги с клиента\n",
    "\n",
    "\n",
    "Таблица **personal** — персональные данные клиента:\n",
    " - customerID код клиента\n",
    " - gender пол\n",
    " - SeniorCitizen пожилой человек (возраст 65+)\n",
    " - Partner семейное положение (в браке)\n",
    " - Dependents количество детей\n",
    "\n",
    "Таблица **internet** — информация об интернет-услугах:\n",
    " - customerID код клиента\n",
    " - InternetService тип подключения интернета\n",
    " - OnlineSecurity подключение блокировки небезопасных сайтов\n",
    " - OnlineBackup подключение облачного хранилища\n",
    " - DeviceProtection подключение интернет-безопасности\n",
    " - TechSupport подключение к выделенной линии технической поддержки\n",
    " - StreamingTV подключение к стриминговому телевидинию\n",
    " - StreamingMovies поключение к каталогу фильмов\n",
    " \n",
    "Таблица **phone** — информация об услугах телефонии:\n",
    " - customerID код клиента\n",
    " - MultipleLines подключение телефонного аппарата к нескольким линиям одновременно\n",
    "\n",
    "**План работы**\n",
    "\n",
    " - изучение и предобработка данных\n",
    "     - загрузка и ознакомление\n",
    "     - приведение к общему \"питоновскому стилю\"\n",
    "     - работа с пропусками и дубликатами\n",
    "     - приведение к нужным типам данных\n",
    "     - определение целевой переменной\n",
    " -  работа с признаками\n",
    "     - исключение ненужных признаков\n",
    "     - формирование новых признаков\n",
    "     - анализ дисбаланса целевого класса\n",
    "     - объединение таблиц в одну и работа с новыми пропусками\n",
    "     - проверка корреляции признаков и корреляции с целевым признаком\n",
    " - разбивка данных обучающую и тестовую выборки\n",
    " - обучить минимум две модели на разных алгоритмах\n",
    "     - подготовка признаков для каждой модели\n",
    "     - подборгиперпараметров на кросвалидации\n",
    " - AUC-ROC мера на тестовой выборке должна быть не ниже 0.85, так же необходимо посчитать F1 и accuracu\n",
    " - тест лучшей модели и проверка на адекватность\n",
    " - анализ важности признаков выбранной модели\n",
    " - выводы по исследованию"
   ]
  },
  {
   "cell_type": "markdown",
   "id": "d591c07d",
   "metadata": {},
   "source": [
    "## Ознакомление с информацией\n",
    "\n",
    "Начнем с блока импорта библиотек и далее поочередно загрузим и ознкомимся со всеми таблицами."
   ]
  },
  {
   "cell_type": "code",
   "execution_count": 1,
   "id": "fa0fb7fc",
   "metadata": {},
   "outputs": [
    {
     "name": "stderr",
     "output_type": "stream",
     "text": [
      "/Users/refresh/opt/anaconda3/lib/python3.9/site-packages/scipy/__init__.py:146: UserWarning: A NumPy version >=1.16.5 and <1.23.0 is required for this version of SciPy (detected version 1.23.5\n",
      "  warnings.warn(f\"A NumPy version >={np_minversion} and <{np_maxversion}\"\n"
     ]
    }
   ],
   "source": [
    "# импортируем нужные библиотеки\n",
    "import os\n",
    "import time\n",
    "import warnings\n",
    "import numpy as np\n",
    "import pandas as pd\n",
    "import seaborn as sns\n",
    "import phik\n",
    "from phik.report import plot_correlation_matrix\n",
    "import matplotlib.pyplot as plt\n",
    "\n",
    "# для моделей\n",
    "from sklearn.model_selection import train_test_split\n",
    "from lightgbm import LGBMClassifier\n",
    "from catboost import CatBoostClassifier\n",
    "from sklearn.model_selection import GridSearchCV\n",
    "from sklearn.pipeline import Pipeline, FeatureUnion\n",
    "from sklearn.preprocessing import FunctionTransformer\n",
    "from sklearn.preprocessing import StandardScaler\n",
    "from sklearn.preprocessing import OrdinalEncoder\n",
    "from sklearn.preprocessing import OneHotEncoder\n",
    "from sklearn.linear_model import LogisticRegression\n",
    "from sklearn.metrics import accuracy_score, f1_score, roc_auc_score, roc_curve"
   ]
  },
  {
   "cell_type": "markdown",
   "id": "5507d6f7",
   "metadata": {},
   "source": [
    "### Информация о договоре\n",
    "\n",
    "Згарузка и ознакомление."
   ]
  },
  {
   "cell_type": "code",
   "execution_count": 2,
   "id": "8640d167",
   "metadata": {},
   "outputs": [
    {
     "name": "stdout",
     "output_type": "stream",
     "text": [
      "<class 'pandas.core.frame.DataFrame'>\n",
      "RangeIndex: 7043 entries, 0 to 7042\n",
      "Data columns (total 8 columns):\n",
      " #   Column            Non-Null Count  Dtype  \n",
      "---  ------            --------------  -----  \n",
      " 0   customerID        7043 non-null   object \n",
      " 1   BeginDate         7043 non-null   object \n",
      " 2   EndDate           7043 non-null   object \n",
      " 3   Type              7043 non-null   object \n",
      " 4   PaperlessBilling  7043 non-null   object \n",
      " 5   PaymentMethod     7043 non-null   object \n",
      " 6   MonthlyCharges    7043 non-null   float64\n",
      " 7   TotalCharges      7043 non-null   object \n",
      "dtypes: float64(1), object(7)\n",
      "memory usage: 440.3+ KB\n"
     ]
    }
   ],
   "source": [
    "# пути к файлу\n",
    "pth1 = '/datasets/final_provider/contract.csv'\n",
    "pth2 = '/Users/refresh/Downloads/final_provider/contract.csv'\n",
    "# открытие файла\n",
    "if os.path.exists(pth1):\n",
    "    contract = pd.read_csv(pth1)\n",
    "elif os.path.exists(pth2):\n",
    "    contract = pd.read_csv(pth2)\n",
    "else:\n",
    "    print('Что-то пошло не так')\n",
    "    \n",
    "# информация о таблице\n",
    "contract.info()"
   ]
  },
  {
   "cell_type": "code",
   "execution_count": 3,
   "id": "27b48b2b",
   "metadata": {},
   "outputs": [
    {
     "data": {
      "text/html": [
       "<div>\n",
       "<style scoped>\n",
       "    .dataframe tbody tr th:only-of-type {\n",
       "        vertical-align: middle;\n",
       "    }\n",
       "\n",
       "    .dataframe tbody tr th {\n",
       "        vertical-align: top;\n",
       "    }\n",
       "\n",
       "    .dataframe thead th {\n",
       "        text-align: right;\n",
       "    }\n",
       "</style>\n",
       "<table border=\"1\" class=\"dataframe\">\n",
       "  <thead>\n",
       "    <tr style=\"text-align: right;\">\n",
       "      <th></th>\n",
       "      <th>customerID</th>\n",
       "      <th>BeginDate</th>\n",
       "      <th>EndDate</th>\n",
       "      <th>Type</th>\n",
       "      <th>PaperlessBilling</th>\n",
       "      <th>PaymentMethod</th>\n",
       "      <th>MonthlyCharges</th>\n",
       "      <th>TotalCharges</th>\n",
       "    </tr>\n",
       "  </thead>\n",
       "  <tbody>\n",
       "    <tr>\n",
       "      <th>5481</th>\n",
       "      <td>8473-VUVJN</td>\n",
       "      <td>2019-09-01</td>\n",
       "      <td>2019-10-01 00:00:00</td>\n",
       "      <td>Month-to-month</td>\n",
       "      <td>Yes</td>\n",
       "      <td>Electronic check</td>\n",
       "      <td>73.65</td>\n",
       "      <td>73.65</td>\n",
       "    </tr>\n",
       "    <tr>\n",
       "      <th>4032</th>\n",
       "      <td>4098-NAUKP</td>\n",
       "      <td>2014-06-01</td>\n",
       "      <td>No</td>\n",
       "      <td>Month-to-month</td>\n",
       "      <td>Yes</td>\n",
       "      <td>Electronic check</td>\n",
       "      <td>84.65</td>\n",
       "      <td>5683.6</td>\n",
       "    </tr>\n",
       "    <tr>\n",
       "      <th>3799</th>\n",
       "      <td>2930-UOTMB</td>\n",
       "      <td>2017-03-01</td>\n",
       "      <td>2019-10-01 00:00:00</td>\n",
       "      <td>Month-to-month</td>\n",
       "      <td>No</td>\n",
       "      <td>Credit card (automatic)</td>\n",
       "      <td>65.25</td>\n",
       "      <td>1994.3</td>\n",
       "    </tr>\n",
       "  </tbody>\n",
       "</table>\n",
       "</div>"
      ],
      "text/plain": [
       "      customerID   BeginDate              EndDate            Type  \\\n",
       "5481  8473-VUVJN  2019-09-01  2019-10-01 00:00:00  Month-to-month   \n",
       "4032  4098-NAUKP  2014-06-01                   No  Month-to-month   \n",
       "3799  2930-UOTMB  2017-03-01  2019-10-01 00:00:00  Month-to-month   \n",
       "\n",
       "     PaperlessBilling            PaymentMethod  MonthlyCharges TotalCharges  \n",
       "5481              Yes         Electronic check           73.65        73.65  \n",
       "4032              Yes         Electronic check           84.65       5683.6  \n",
       "3799               No  Credit card (automatic)           65.25       1994.3  "
      ]
     },
     "execution_count": 3,
     "metadata": {},
     "output_type": "execute_result"
    }
   ],
   "source": [
    "# вывод 3х случайных строчек\n",
    "contract.sample(3)"
   ]
  },
  {
   "cell_type": "code",
   "execution_count": 4,
   "id": "2fa4210a",
   "metadata": {},
   "outputs": [
    {
     "data": {
      "text/html": [
       "<div>\n",
       "<style scoped>\n",
       "    .dataframe tbody tr th:only-of-type {\n",
       "        vertical-align: middle;\n",
       "    }\n",
       "\n",
       "    .dataframe tbody tr th {\n",
       "        vertical-align: top;\n",
       "    }\n",
       "\n",
       "    .dataframe thead th {\n",
       "        text-align: right;\n",
       "    }\n",
       "</style>\n",
       "<table border=\"1\" class=\"dataframe\">\n",
       "  <thead>\n",
       "    <tr style=\"text-align: right;\">\n",
       "      <th></th>\n",
       "      <th>customerID</th>\n",
       "      <th>BeginDate</th>\n",
       "      <th>EndDate</th>\n",
       "      <th>Type</th>\n",
       "      <th>PaperlessBilling</th>\n",
       "      <th>PaymentMethod</th>\n",
       "      <th>MonthlyCharges</th>\n",
       "      <th>TotalCharges</th>\n",
       "    </tr>\n",
       "  </thead>\n",
       "  <tbody>\n",
       "    <tr>\n",
       "      <th>count</th>\n",
       "      <td>7043</td>\n",
       "      <td>7043</td>\n",
       "      <td>7043</td>\n",
       "      <td>7043</td>\n",
       "      <td>7043</td>\n",
       "      <td>7043</td>\n",
       "      <td>7043.000000</td>\n",
       "      <td>7043</td>\n",
       "    </tr>\n",
       "    <tr>\n",
       "      <th>unique</th>\n",
       "      <td>7043</td>\n",
       "      <td>77</td>\n",
       "      <td>5</td>\n",
       "      <td>3</td>\n",
       "      <td>2</td>\n",
       "      <td>4</td>\n",
       "      <td>NaN</td>\n",
       "      <td>6531</td>\n",
       "    </tr>\n",
       "    <tr>\n",
       "      <th>top</th>\n",
       "      <td>7590-VHVEG</td>\n",
       "      <td>2014-02-01</td>\n",
       "      <td>No</td>\n",
       "      <td>Month-to-month</td>\n",
       "      <td>Yes</td>\n",
       "      <td>Electronic check</td>\n",
       "      <td>NaN</td>\n",
       "      <td></td>\n",
       "    </tr>\n",
       "    <tr>\n",
       "      <th>freq</th>\n",
       "      <td>1</td>\n",
       "      <td>366</td>\n",
       "      <td>5174</td>\n",
       "      <td>3875</td>\n",
       "      <td>4171</td>\n",
       "      <td>2365</td>\n",
       "      <td>NaN</td>\n",
       "      <td>11</td>\n",
       "    </tr>\n",
       "    <tr>\n",
       "      <th>mean</th>\n",
       "      <td>NaN</td>\n",
       "      <td>NaN</td>\n",
       "      <td>NaN</td>\n",
       "      <td>NaN</td>\n",
       "      <td>NaN</td>\n",
       "      <td>NaN</td>\n",
       "      <td>64.761692</td>\n",
       "      <td>NaN</td>\n",
       "    </tr>\n",
       "    <tr>\n",
       "      <th>std</th>\n",
       "      <td>NaN</td>\n",
       "      <td>NaN</td>\n",
       "      <td>NaN</td>\n",
       "      <td>NaN</td>\n",
       "      <td>NaN</td>\n",
       "      <td>NaN</td>\n",
       "      <td>30.090047</td>\n",
       "      <td>NaN</td>\n",
       "    </tr>\n",
       "    <tr>\n",
       "      <th>min</th>\n",
       "      <td>NaN</td>\n",
       "      <td>NaN</td>\n",
       "      <td>NaN</td>\n",
       "      <td>NaN</td>\n",
       "      <td>NaN</td>\n",
       "      <td>NaN</td>\n",
       "      <td>18.250000</td>\n",
       "      <td>NaN</td>\n",
       "    </tr>\n",
       "    <tr>\n",
       "      <th>25%</th>\n",
       "      <td>NaN</td>\n",
       "      <td>NaN</td>\n",
       "      <td>NaN</td>\n",
       "      <td>NaN</td>\n",
       "      <td>NaN</td>\n",
       "      <td>NaN</td>\n",
       "      <td>35.500000</td>\n",
       "      <td>NaN</td>\n",
       "    </tr>\n",
       "    <tr>\n",
       "      <th>50%</th>\n",
       "      <td>NaN</td>\n",
       "      <td>NaN</td>\n",
       "      <td>NaN</td>\n",
       "      <td>NaN</td>\n",
       "      <td>NaN</td>\n",
       "      <td>NaN</td>\n",
       "      <td>70.350000</td>\n",
       "      <td>NaN</td>\n",
       "    </tr>\n",
       "    <tr>\n",
       "      <th>75%</th>\n",
       "      <td>NaN</td>\n",
       "      <td>NaN</td>\n",
       "      <td>NaN</td>\n",
       "      <td>NaN</td>\n",
       "      <td>NaN</td>\n",
       "      <td>NaN</td>\n",
       "      <td>89.850000</td>\n",
       "      <td>NaN</td>\n",
       "    </tr>\n",
       "    <tr>\n",
       "      <th>max</th>\n",
       "      <td>NaN</td>\n",
       "      <td>NaN</td>\n",
       "      <td>NaN</td>\n",
       "      <td>NaN</td>\n",
       "      <td>NaN</td>\n",
       "      <td>NaN</td>\n",
       "      <td>118.750000</td>\n",
       "      <td>NaN</td>\n",
       "    </tr>\n",
       "  </tbody>\n",
       "</table>\n",
       "</div>"
      ],
      "text/plain": [
       "        customerID   BeginDate EndDate            Type PaperlessBilling  \\\n",
       "count         7043        7043    7043            7043             7043   \n",
       "unique        7043          77       5               3                2   \n",
       "top     7590-VHVEG  2014-02-01      No  Month-to-month              Yes   \n",
       "freq             1         366    5174            3875             4171   \n",
       "mean           NaN         NaN     NaN             NaN              NaN   \n",
       "std            NaN         NaN     NaN             NaN              NaN   \n",
       "min            NaN         NaN     NaN             NaN              NaN   \n",
       "25%            NaN         NaN     NaN             NaN              NaN   \n",
       "50%            NaN         NaN     NaN             NaN              NaN   \n",
       "75%            NaN         NaN     NaN             NaN              NaN   \n",
       "max            NaN         NaN     NaN             NaN              NaN   \n",
       "\n",
       "           PaymentMethod  MonthlyCharges TotalCharges  \n",
       "count               7043     7043.000000         7043  \n",
       "unique                 4             NaN         6531  \n",
       "top     Electronic check             NaN               \n",
       "freq                2365             NaN           11  \n",
       "mean                 NaN       64.761692          NaN  \n",
       "std                  NaN       30.090047          NaN  \n",
       "min                  NaN       18.250000          NaN  \n",
       "25%                  NaN       35.500000          NaN  \n",
       "50%                  NaN       70.350000          NaN  \n",
       "75%                  NaN       89.850000          NaN  \n",
       "max                  NaN      118.750000          NaN  "
      ]
     },
     "execution_count": 4,
     "metadata": {},
     "output_type": "execute_result"
    }
   ],
   "source": [
    "# описание данных по столбцам\n",
    "contract.describe(include='all')"
   ]
  },
  {
   "cell_type": "markdown",
   "id": "474065a2",
   "metadata": {},
   "source": [
    "Видно, что данные имеют разный вид, приведём всё к \"змеиному регистру\". И проверим на явные дубликаты."
   ]
  },
  {
   "cell_type": "code",
   "execution_count": 5,
   "id": "e8e42626",
   "metadata": {},
   "outputs": [
    {
     "data": {
      "text/html": [
       "<div>\n",
       "<style scoped>\n",
       "    .dataframe tbody tr th:only-of-type {\n",
       "        vertical-align: middle;\n",
       "    }\n",
       "\n",
       "    .dataframe tbody tr th {\n",
       "        vertical-align: top;\n",
       "    }\n",
       "\n",
       "    .dataframe thead th {\n",
       "        text-align: right;\n",
       "    }\n",
       "</style>\n",
       "<table border=\"1\" class=\"dataframe\">\n",
       "  <thead>\n",
       "    <tr style=\"text-align: right;\">\n",
       "      <th></th>\n",
       "      <th>customer_id</th>\n",
       "      <th>begin_date</th>\n",
       "      <th>end_date</th>\n",
       "      <th>type</th>\n",
       "      <th>paperless_billing</th>\n",
       "      <th>payment_method</th>\n",
       "      <th>monthly_charges</th>\n",
       "      <th>total_charges</th>\n",
       "    </tr>\n",
       "  </thead>\n",
       "  <tbody>\n",
       "    <tr>\n",
       "      <th>3034</th>\n",
       "      <td>7120-rfmvs</td>\n",
       "      <td>2019-12-01</td>\n",
       "      <td>2020-01-01 00:00:00</td>\n",
       "      <td>month-to-month</td>\n",
       "      <td>no</td>\n",
       "      <td>electronic check</td>\n",
       "      <td>84.5</td>\n",
       "      <td>84.5</td>\n",
       "    </tr>\n",
       "    <tr>\n",
       "      <th>1944</th>\n",
       "      <td>0420-bwtpw</td>\n",
       "      <td>2019-02-01</td>\n",
       "      <td>2019-10-01 00:00:00</td>\n",
       "      <td>month-to-month</td>\n",
       "      <td>no</td>\n",
       "      <td>mailed check</td>\n",
       "      <td>25.5</td>\n",
       "      <td>215.2</td>\n",
       "    </tr>\n",
       "    <tr>\n",
       "      <th>3803</th>\n",
       "      <td>2533-qvmsk</td>\n",
       "      <td>2014-10-01</td>\n",
       "      <td>2019-11-01 00:00:00</td>\n",
       "      <td>two year</td>\n",
       "      <td>yes</td>\n",
       "      <td>electronic check</td>\n",
       "      <td>94.1</td>\n",
       "      <td>5638.3</td>\n",
       "    </tr>\n",
       "  </tbody>\n",
       "</table>\n",
       "</div>"
      ],
      "text/plain": [
       "     customer_id  begin_date             end_date            type  \\\n",
       "3034  7120-rfmvs  2019-12-01  2020-01-01 00:00:00  month-to-month   \n",
       "1944  0420-bwtpw  2019-02-01  2019-10-01 00:00:00  month-to-month   \n",
       "3803  2533-qvmsk  2014-10-01  2019-11-01 00:00:00        two year   \n",
       "\n",
       "     paperless_billing    payment_method  monthly_charges total_charges  \n",
       "3034                no  electronic check             84.5          84.5  \n",
       "1944                no      mailed check             25.5         215.2  \n",
       "3803               yes  electronic check             94.1        5638.3  "
      ]
     },
     "metadata": {},
     "output_type": "display_data"
    },
    {
     "name": "stdout",
     "output_type": "stream",
     "text": [
      "Дубликатов в таблице contract 0\n"
     ]
    }
   ],
   "source": [
    "# переименование столбцов\n",
    "contract = contract.rename(columns = {'customerID' : 'customer_id',\n",
    "                                      'BeginDate' : 'begin_date',\n",
    "                                      'EndDate' : 'end_date',\n",
    "                                      'Type' : 'type',\n",
    "                                      'PaperlessBilling' : 'paperless_billing',\n",
    "                                      'PaymentMethod' : 'payment_method',\n",
    "                                      'MonthlyCharges' : 'monthly_charges',\n",
    "                                      'TotalCharges' : 'total_charges'})\n",
    "# понижаем регистр\n",
    "dict_to_low = ['customer_id', 'end_date', 'type', 'paperless_billing', 'payment_method']\n",
    "contract[dict_to_low] = contract[dict_to_low].apply(lambda x: x.astype(str).str.lower())\n",
    "display(contract.sample(3))\n",
    "# проверка на дубликаты\n",
    "print('Дубликатов в таблице contract', contract.duplicated().sum())"
   ]
  },
  {
   "cell_type": "markdown",
   "id": "a5b2918d",
   "metadata": {},
   "source": [
    "Из первичного анализа видно, что у некоторых столбцов типы данных не соответствуют.\n",
    "\n",
    "В таблице есть признак, который указывает на то, остался клиент в компании или нет - это и есть целнвой признак, который мы будем предсказывать. Создадим новый столбец \"target\", в котором 0 - это активный клиент, 1 - это ушедший клиент. Полсе посмотрим баланс классов с помощью круговой диаграммы."
   ]
  },
  {
   "cell_type": "code",
   "execution_count": 6,
   "id": "37309988",
   "metadata": {},
   "outputs": [
    {
     "data": {
      "text/html": [
       "<div>\n",
       "<style scoped>\n",
       "    .dataframe tbody tr th:only-of-type {\n",
       "        vertical-align: middle;\n",
       "    }\n",
       "\n",
       "    .dataframe tbody tr th {\n",
       "        vertical-align: top;\n",
       "    }\n",
       "\n",
       "    .dataframe thead th {\n",
       "        text-align: right;\n",
       "    }\n",
       "</style>\n",
       "<table border=\"1\" class=\"dataframe\">\n",
       "  <thead>\n",
       "    <tr style=\"text-align: right;\">\n",
       "      <th></th>\n",
       "      <th>customer_id</th>\n",
       "      <th>begin_date</th>\n",
       "      <th>end_date</th>\n",
       "      <th>type</th>\n",
       "      <th>paperless_billing</th>\n",
       "      <th>payment_method</th>\n",
       "      <th>monthly_charges</th>\n",
       "      <th>total_charges</th>\n",
       "      <th>target</th>\n",
       "    </tr>\n",
       "  </thead>\n",
       "  <tbody>\n",
       "    <tr>\n",
       "      <th>6332</th>\n",
       "      <td>4378-mypgo</td>\n",
       "      <td>2014-06-01</td>\n",
       "      <td>no</td>\n",
       "      <td>two year</td>\n",
       "      <td>yes</td>\n",
       "      <td>bank transfer (automatic)</td>\n",
       "      <td>105.25</td>\n",
       "      <td>7173.15</td>\n",
       "      <td>0</td>\n",
       "    </tr>\n",
       "    <tr>\n",
       "      <th>1676</th>\n",
       "      <td>0793-tweln</td>\n",
       "      <td>2019-10-01</td>\n",
       "      <td>no</td>\n",
       "      <td>month-to-month</td>\n",
       "      <td>yes</td>\n",
       "      <td>electronic check</td>\n",
       "      <td>80.15</td>\n",
       "      <td>319.85</td>\n",
       "      <td>0</td>\n",
       "    </tr>\n",
       "    <tr>\n",
       "      <th>5952</th>\n",
       "      <td>4430-yhxgg</td>\n",
       "      <td>2019-10-01</td>\n",
       "      <td>no</td>\n",
       "      <td>month-to-month</td>\n",
       "      <td>yes</td>\n",
       "      <td>mailed check</td>\n",
       "      <td>25.45</td>\n",
       "      <td>84.2</td>\n",
       "      <td>0</td>\n",
       "    </tr>\n",
       "  </tbody>\n",
       "</table>\n",
       "</div>"
      ],
      "text/plain": [
       "     customer_id  begin_date end_date            type paperless_billing  \\\n",
       "6332  4378-mypgo  2014-06-01       no        two year               yes   \n",
       "1676  0793-tweln  2019-10-01       no  month-to-month               yes   \n",
       "5952  4430-yhxgg  2019-10-01       no  month-to-month               yes   \n",
       "\n",
       "                 payment_method  monthly_charges total_charges  target  \n",
       "6332  bank transfer (automatic)           105.25       7173.15       0  \n",
       "1676           electronic check            80.15        319.85       0  \n",
       "5952               mailed check            25.45          84.2       0  "
      ]
     },
     "metadata": {},
     "output_type": "display_data"
    },
    {
     "data": {
      "image/png": "[encoded data removed]",
      "text/plain": [
       "<Figure size 432x288 with 1 Axes>"
      ]
     },
     "metadata": {},
     "output_type": "display_data"
    }
   ],
   "source": [
    "# функция для выделения целевого признака\n",
    "def to_target(target):\n",
    "    if target == 'no':\n",
    "        target = 0\n",
    "    else:\n",
    "        target = 1\n",
    "    return target\n",
    "\n",
    "# применение функции к таблице с данными\n",
    "contract['target'] = contract['end_date'].apply(to_target)\n",
    "display(contract.sample(3))\n",
    "# построение диаграммы-пирога\n",
    "data_pie = [len(contract) - contract['target'].sum(), contract['target'].sum()]\n",
    "labels = ['Действующие клиенты', 'Бывшие клиенты']\n",
    "plt.figure(2) \n",
    "plt.pie(data_pie, labels=labels, shadow=True, radius=2, explode=[0.1, 0.1], autopct='%.0f%%')\n",
    "plt.show()"
   ]
  },
  {
   "cell_type": "markdown",
   "id": "00e344c0",
   "metadata": {},
   "source": [
    "Наглядно виден **дисбаланс** целевого класса: 73% / 27%.\n",
    "\n",
    "Поскольку дата заключения и дата завершения контракта сами по себе являются просто днями и не представляют ценности для модели, в дальнейщем при формировании признаком посчитавем на их количество дней, которые клиенты были активны. Дествующим клиентам присвоим дату окончания сотрудничества '2020-02-01'."
   ]
  },
  {
   "cell_type": "code",
   "execution_count": 7,
   "id": "72dcb1ef",
   "metadata": {},
   "outputs": [
    {
     "data": {
      "text/html": [
       "<div>\n",
       "<style scoped>\n",
       "    .dataframe tbody tr th:only-of-type {\n",
       "        vertical-align: middle;\n",
       "    }\n",
       "\n",
       "    .dataframe tbody tr th {\n",
       "        vertical-align: top;\n",
       "    }\n",
       "\n",
       "    .dataframe thead th {\n",
       "        text-align: right;\n",
       "    }\n",
       "</style>\n",
       "<table border=\"1\" class=\"dataframe\">\n",
       "  <thead>\n",
       "    <tr style=\"text-align: right;\">\n",
       "      <th></th>\n",
       "      <th>customer_id</th>\n",
       "      <th>begin_date</th>\n",
       "      <th>end_date</th>\n",
       "      <th>type</th>\n",
       "      <th>paperless_billing</th>\n",
       "      <th>payment_method</th>\n",
       "      <th>monthly_charges</th>\n",
       "      <th>total_charges</th>\n",
       "      <th>target</th>\n",
       "    </tr>\n",
       "  </thead>\n",
       "  <tbody>\n",
       "    <tr>\n",
       "      <th>3203</th>\n",
       "      <td>5879-hmffh</td>\n",
       "      <td>2014-02-01</td>\n",
       "      <td>2020-02-01</td>\n",
       "      <td>two year</td>\n",
       "      <td>no</td>\n",
       "      <td>bank transfer (automatic)</td>\n",
       "      <td>88.05</td>\n",
       "      <td>6520.8</td>\n",
       "      <td>0</td>\n",
       "    </tr>\n",
       "    <tr>\n",
       "      <th>6834</th>\n",
       "      <td>3635-jbpsg</td>\n",
       "      <td>2018-11-01</td>\n",
       "      <td>2020-02-01</td>\n",
       "      <td>two year</td>\n",
       "      <td>yes</td>\n",
       "      <td>mailed check</td>\n",
       "      <td>38.80</td>\n",
       "      <td>603</td>\n",
       "      <td>0</td>\n",
       "    </tr>\n",
       "    <tr>\n",
       "      <th>4533</th>\n",
       "      <td>5360-ljcnj</td>\n",
       "      <td>2014-03-01</td>\n",
       "      <td>2020-02-01</td>\n",
       "      <td>two year</td>\n",
       "      <td>yes</td>\n",
       "      <td>bank transfer (automatic)</td>\n",
       "      <td>105.15</td>\n",
       "      <td>7555</td>\n",
       "      <td>0</td>\n",
       "    </tr>\n",
       "  </tbody>\n",
       "</table>\n",
       "</div>"
      ],
      "text/plain": [
       "     customer_id begin_date   end_date      type paperless_billing  \\\n",
       "3203  5879-hmffh 2014-02-01 2020-02-01  two year                no   \n",
       "6834  3635-jbpsg 2018-11-01 2020-02-01  two year               yes   \n",
       "4533  5360-ljcnj 2014-03-01 2020-02-01  two year               yes   \n",
       "\n",
       "                 payment_method  monthly_charges total_charges  target  \n",
       "3203  bank transfer (automatic)            88.05        6520.8       0  \n",
       "6834               mailed check            38.80           603       0  \n",
       "4533  bank transfer (automatic)           105.15          7555       0  "
      ]
     },
     "execution_count": 7,
     "metadata": {},
     "output_type": "execute_result"
    }
   ],
   "source": [
    "# меняем тип на дату\n",
    "contract['begin_date'] =  pd.to_datetime(contract['begin_date'], format='%Y-%m-%d')\n",
    "# всем актуальными пользователям присваиваем дату, когда данные выгружены\n",
    "contract.loc[contract['end_date'] == 'no', 'end_date'] = '2020-02-01'\n",
    "contract['end_date'] =  pd.to_datetime(contract['end_date'], format='%Y-%m-%d')\n",
    "\n",
    "contract.sample(3)"
   ]
  },
  {
   "cell_type": "markdown",
   "id": "4add1ef3",
   "metadata": {},
   "source": [
    "Проверим столбцы 'type', 'paperless_billing', 'payment_method'"
   ]
  },
  {
   "cell_type": "code",
   "execution_count": 8,
   "id": "3f3aedf8",
   "metadata": {},
   "outputs": [
    {
     "data": {
      "text/plain": [
       "month-to-month    3875\n",
       "two year          1695\n",
       "one year          1473\n",
       "Name: type, dtype: int64"
      ]
     },
     "execution_count": 8,
     "metadata": {},
     "output_type": "execute_result"
    }
   ],
   "source": [
    "# смотрим частоту значений\n",
    "contract['type'].value_counts()"
   ]
  },
  {
   "cell_type": "code",
   "execution_count": 9,
   "id": "d42a3e80",
   "metadata": {},
   "outputs": [
    {
     "data": {
      "text/plain": [
       "yes    4171\n",
       "no     2872\n",
       "Name: paperless_billing, dtype: int64"
      ]
     },
     "execution_count": 9,
     "metadata": {},
     "output_type": "execute_result"
    }
   ],
   "source": [
    "contract['paperless_billing'].value_counts()"
   ]
  },
  {
   "cell_type": "code",
   "execution_count": 10,
   "id": "5a9d84a6",
   "metadata": {},
   "outputs": [
    {
     "data": {
      "text/plain": [
       "electronic check             2365\n",
       "mailed check                 1612\n",
       "bank transfer (automatic)    1544\n",
       "credit card (automatic)      1522\n",
       "Name: payment_method, dtype: int64"
      ]
     },
     "execution_count": 10,
     "metadata": {},
     "output_type": "execute_result"
    }
   ],
   "source": [
    "contract['payment_method'].value_counts()"
   ]
  },
  {
   "cell_type": "markdown",
   "id": "c0cc0a2f",
   "metadata": {},
   "source": [
    "В вышеперчисленных столбцах данные выглядят нормально.\n",
    "\n",
    "Необходимо поменяем тип 'total_charges' на float. Т к изначально присвоен тип 'object', то вероятнее всего есть не только числовые значения, посмотрим:"
   ]
  },
  {
   "cell_type": "code",
   "execution_count": 11,
   "id": "e542f50a",
   "metadata": {},
   "outputs": [
    {
     "data": {
      "text/plain": [
       "          11\n",
       "20.2      11\n",
       "19.75      9\n",
       "20.05      8\n",
       "19.9       8\n",
       "          ..\n",
       "6849.4     1\n",
       "692.35     1\n",
       "130.15     1\n",
       "3211.9     1\n",
       "6844.5     1\n",
       "Name: total_charges, Length: 6531, dtype: int64"
      ]
     },
     "execution_count": 11,
     "metadata": {},
     "output_type": "execute_result"
    }
   ],
   "source": [
    "contract['total_charges'].value_counts()"
   ]
  },
  {
   "cell_type": "markdown",
   "id": "11d76fad",
   "metadata": {},
   "source": [
    "Видно, что есть пустые значения. Посмотрим на них ближе."
   ]
  },
  {
   "cell_type": "code",
   "execution_count": 12,
   "id": "8883dc08",
   "metadata": {},
   "outputs": [
    {
     "data": {
      "text/html": [
       "<div>\n",
       "<style scoped>\n",
       "    .dataframe tbody tr th:only-of-type {\n",
       "        vertical-align: middle;\n",
       "    }\n",
       "\n",
       "    .dataframe tbody tr th {\n",
       "        vertical-align: top;\n",
       "    }\n",
       "\n",
       "    .dataframe thead th {\n",
       "        text-align: right;\n",
       "    }\n",
       "</style>\n",
       "<table border=\"1\" class=\"dataframe\">\n",
       "  <thead>\n",
       "    <tr style=\"text-align: right;\">\n",
       "      <th></th>\n",
       "      <th>customer_id</th>\n",
       "      <th>begin_date</th>\n",
       "      <th>end_date</th>\n",
       "      <th>type</th>\n",
       "      <th>paperless_billing</th>\n",
       "      <th>payment_method</th>\n",
       "      <th>monthly_charges</th>\n",
       "      <th>total_charges</th>\n",
       "      <th>target</th>\n",
       "    </tr>\n",
       "  </thead>\n",
       "  <tbody>\n",
       "    <tr>\n",
       "      <th>488</th>\n",
       "      <td>4472-lvygi</td>\n",
       "      <td>2020-02-01</td>\n",
       "      <td>2020-02-01</td>\n",
       "      <td>two year</td>\n",
       "      <td>yes</td>\n",
       "      <td>bank transfer (automatic)</td>\n",
       "      <td>52.55</td>\n",
       "      <td></td>\n",
       "      <td>0</td>\n",
       "    </tr>\n",
       "    <tr>\n",
       "      <th>753</th>\n",
       "      <td>3115-czmzd</td>\n",
       "      <td>2020-02-01</td>\n",
       "      <td>2020-02-01</td>\n",
       "      <td>two year</td>\n",
       "      <td>no</td>\n",
       "      <td>mailed check</td>\n",
       "      <td>20.25</td>\n",
       "      <td></td>\n",
       "      <td>0</td>\n",
       "    </tr>\n",
       "    <tr>\n",
       "      <th>936</th>\n",
       "      <td>5709-lvoeq</td>\n",
       "      <td>2020-02-01</td>\n",
       "      <td>2020-02-01</td>\n",
       "      <td>two year</td>\n",
       "      <td>no</td>\n",
       "      <td>mailed check</td>\n",
       "      <td>80.85</td>\n",
       "      <td></td>\n",
       "      <td>0</td>\n",
       "    </tr>\n",
       "  </tbody>\n",
       "</table>\n",
       "</div>"
      ],
      "text/plain": [
       "    customer_id begin_date   end_date      type paperless_billing  \\\n",
       "488  4472-lvygi 2020-02-01 2020-02-01  two year               yes   \n",
       "753  3115-czmzd 2020-02-01 2020-02-01  two year                no   \n",
       "936  5709-lvoeq 2020-02-01 2020-02-01  two year                no   \n",
       "\n",
       "                payment_method  monthly_charges total_charges  target  \n",
       "488  bank transfer (automatic)            52.55                     0  \n",
       "753               mailed check            20.25                     0  \n",
       "936               mailed check            80.85                     0  "
      ]
     },
     "metadata": {},
     "output_type": "display_data"
    },
    {
     "name": "stdout",
     "output_type": "stream",
     "text": [
      "Количество клиентов с пропуском в общей выручке 11\n"
     ]
    }
   ],
   "source": [
    "# смотрим данные с пропусками в 'total_charges'\n",
    "display(contract[contract['total_charges'] == ' '].head(3))\n",
    "print('Количество клиентов с пропуском в общей выручке', len(contract[contract['total_charges'] == ' ']))"
   ]
  },
  {
   "cell_type": "markdown",
   "id": "127d2b56",
   "metadata": {},
   "source": [
    "Дата заключения конракта с компанией '2020-02-01', такие пропуски образовались в следствии того, что клиенты еще не успели ничего оплатить. Удалим эти 11 записей, т к никакой информации эти клиенты привнести еще не успели. "
   ]
  },
  {
   "cell_type": "code",
   "execution_count": 13,
   "id": "40a00cb3",
   "metadata": {},
   "outputs": [
    {
     "name": "stdout",
     "output_type": "stream",
     "text": [
      "До удаления размер = 7043\n",
      "После удаления размер = 7032\n"
     ]
    }
   ],
   "source": [
    "# удаляем данные с пропусками\n",
    "print('До удаления размер =', len(contract))\n",
    "contract = contract[contract['total_charges'] != ' ']\n",
    "print('После удаления размер =', len(contract))"
   ]
  },
  {
   "cell_type": "markdown",
   "id": "b8590563",
   "metadata": {},
   "source": [
    "### Персональные данные клиента\n",
    "\n",
    "Згарузка и ознакомление."
   ]
  },
  {
   "cell_type": "code",
   "execution_count": 14,
   "id": "e5ef0b7d",
   "metadata": {},
   "outputs": [
    {
     "name": "stdout",
     "output_type": "stream",
     "text": [
      "<class 'pandas.core.frame.DataFrame'>\n",
      "RangeIndex: 7043 entries, 0 to 7042\n",
      "Data columns (total 5 columns):\n",
      " #   Column         Non-Null Count  Dtype \n",
      "---  ------         --------------  ----- \n",
      " 0   customerID     7043 non-null   object\n",
      " 1   gender         7043 non-null   object\n",
      " 2   SeniorCitizen  7043 non-null   int64 \n",
      " 3   Partner        7043 non-null   object\n",
      " 4   Dependents     7043 non-null   object\n",
      "dtypes: int64(1), object(4)\n",
      "memory usage: 275.2+ KB\n"
     ]
    }
   ],
   "source": [
    "pth3 = '/datasets/final_provider/personal.csv'\n",
    "pth4 = '/Users/refresh/Downloads/final_provider/personal.csv'\n",
    "if os.path.exists(pth3):\n",
    "    personal = pd.read_csv(pth3)\n",
    "elif os.path.exists(pth4):\n",
    "    personal = pd.read_csv(pth4)\n",
    "else:\n",
    "    print('Что-то пошло не так')\n",
    "personal.info()"
   ]
  },
  {
   "cell_type": "code",
   "execution_count": 15,
   "id": "3b19c118",
   "metadata": {},
   "outputs": [
    {
     "data": {
      "text/html": [
       "<div>\n",
       "<style scoped>\n",
       "    .dataframe tbody tr th:only-of-type {\n",
       "        vertical-align: middle;\n",
       "    }\n",
       "\n",
       "    .dataframe tbody tr th {\n",
       "        vertical-align: top;\n",
       "    }\n",
       "\n",
       "    .dataframe thead th {\n",
       "        text-align: right;\n",
       "    }\n",
       "</style>\n",
       "<table border=\"1\" class=\"dataframe\">\n",
       "  <thead>\n",
       "    <tr style=\"text-align: right;\">\n",
       "      <th></th>\n",
       "      <th>customerID</th>\n",
       "      <th>gender</th>\n",
       "      <th>SeniorCitizen</th>\n",
       "      <th>Partner</th>\n",
       "      <th>Dependents</th>\n",
       "    </tr>\n",
       "  </thead>\n",
       "  <tbody>\n",
       "    <tr>\n",
       "      <th>5263</th>\n",
       "      <td>9591-YVTEB</td>\n",
       "      <td>Male</td>\n",
       "      <td>1</td>\n",
       "      <td>No</td>\n",
       "      <td>No</td>\n",
       "    </tr>\n",
       "    <tr>\n",
       "      <th>6148</th>\n",
       "      <td>8990-YOZLV</td>\n",
       "      <td>Female</td>\n",
       "      <td>0</td>\n",
       "      <td>No</td>\n",
       "      <td>No</td>\n",
       "    </tr>\n",
       "    <tr>\n",
       "      <th>5124</th>\n",
       "      <td>7267-FRMJW</td>\n",
       "      <td>Female</td>\n",
       "      <td>0</td>\n",
       "      <td>Yes</td>\n",
       "      <td>Yes</td>\n",
       "    </tr>\n",
       "  </tbody>\n",
       "</table>\n",
       "</div>"
      ],
      "text/plain": [
       "      customerID  gender  SeniorCitizen Partner Dependents\n",
       "5263  9591-YVTEB    Male              1      No         No\n",
       "6148  8990-YOZLV  Female              0      No         No\n",
       "5124  7267-FRMJW  Female              0     Yes        Yes"
      ]
     },
     "execution_count": 15,
     "metadata": {},
     "output_type": "execute_result"
    }
   ],
   "source": [
    "personal.sample(3)"
   ]
  },
  {
   "cell_type": "markdown",
   "id": "4b80dcf4",
   "metadata": {},
   "source": [
    "Видно, что данные имеют разный вид, приведем всё к \"змеиному регистру\". И проверим на явные дубликаты."
   ]
  },
  {
   "cell_type": "code",
   "execution_count": 16,
   "id": "365cba5e",
   "metadata": {},
   "outputs": [
    {
     "data": {
      "text/html": [
       "<div>\n",
       "<style scoped>\n",
       "    .dataframe tbody tr th:only-of-type {\n",
       "        vertical-align: middle;\n",
       "    }\n",
       "\n",
       "    .dataframe tbody tr th {\n",
       "        vertical-align: top;\n",
       "    }\n",
       "\n",
       "    .dataframe thead th {\n",
       "        text-align: right;\n",
       "    }\n",
       "</style>\n",
       "<table border=\"1\" class=\"dataframe\">\n",
       "  <thead>\n",
       "    <tr style=\"text-align: right;\">\n",
       "      <th></th>\n",
       "      <th>customer_id</th>\n",
       "      <th>gender</th>\n",
       "      <th>senior_citizen</th>\n",
       "      <th>partner</th>\n",
       "      <th>dependents</th>\n",
       "    </tr>\n",
       "  </thead>\n",
       "  <tbody>\n",
       "    <tr>\n",
       "      <th>1217</th>\n",
       "      <td>0784-gtuuk</td>\n",
       "      <td>male</td>\n",
       "      <td>0</td>\n",
       "      <td>yes</td>\n",
       "      <td>no</td>\n",
       "    </tr>\n",
       "    <tr>\n",
       "      <th>3106</th>\n",
       "      <td>2817-lvcpp</td>\n",
       "      <td>female</td>\n",
       "      <td>0</td>\n",
       "      <td>no</td>\n",
       "      <td>no</td>\n",
       "    </tr>\n",
       "    <tr>\n",
       "      <th>5304</th>\n",
       "      <td>6078-vesfr</td>\n",
       "      <td>male</td>\n",
       "      <td>1</td>\n",
       "      <td>yes</td>\n",
       "      <td>no</td>\n",
       "    </tr>\n",
       "  </tbody>\n",
       "</table>\n",
       "</div>"
      ],
      "text/plain": [
       "     customer_id  gender  senior_citizen partner dependents\n",
       "1217  0784-gtuuk    male               0     yes         no\n",
       "3106  2817-lvcpp  female               0      no         no\n",
       "5304  6078-vesfr    male               1     yes         no"
      ]
     },
     "metadata": {},
     "output_type": "display_data"
    },
    {
     "name": "stdout",
     "output_type": "stream",
     "text": [
      "Дубликатов в таблице personal 0\n"
     ]
    }
   ],
   "source": [
    "personal = personal.rename(columns = {'customerID' : 'customer_id',\n",
    "                                      'SeniorCitizen' : 'senior_citizen',\n",
    "                                      'Partner' : 'partner',\n",
    "                                      'Dependents' : 'dependents'})\n",
    "dict_to_low = ['customer_id', 'gender', 'partner', 'dependents']\n",
    "personal[dict_to_low] = personal[dict_to_low].apply(lambda x: x.astype(str).str.lower())\n",
    "display(personal.sample(3))\n",
    "print('Дубликатов в таблице personal', personal.duplicated().sum())"
   ]
  },
  {
   "cell_type": "markdown",
   "id": "b1c349dc",
   "metadata": {},
   "source": [
    "Смотрим частоту значений в 'gender', 'senior_citizen', 'partner' и 'dependents'"
   ]
  },
  {
   "cell_type": "code",
   "execution_count": 17,
   "id": "eac0fd56",
   "metadata": {},
   "outputs": [
    {
     "data": {
      "text/plain": [
       "male      3555\n",
       "female    3488\n",
       "Name: gender, dtype: int64"
      ]
     },
     "execution_count": 17,
     "metadata": {},
     "output_type": "execute_result"
    }
   ],
   "source": [
    "personal['gender'].value_counts()"
   ]
  },
  {
   "cell_type": "code",
   "execution_count": 18,
   "id": "3e99bab9",
   "metadata": {},
   "outputs": [
    {
     "data": {
      "text/plain": [
       "0    5901\n",
       "1    1142\n",
       "Name: senior_citizen, dtype: int64"
      ]
     },
     "execution_count": 18,
     "metadata": {},
     "output_type": "execute_result"
    }
   ],
   "source": [
    "personal['senior_citizen'].value_counts()"
   ]
  },
  {
   "cell_type": "code",
   "execution_count": 19,
   "id": "14a130c0",
   "metadata": {},
   "outputs": [
    {
     "data": {
      "text/plain": [
       "no     3641\n",
       "yes    3402\n",
       "Name: partner, dtype: int64"
      ]
     },
     "execution_count": 19,
     "metadata": {},
     "output_type": "execute_result"
    }
   ],
   "source": [
    "personal['partner'].value_counts()"
   ]
  },
  {
   "cell_type": "code",
   "execution_count": 20,
   "id": "0be3e45e",
   "metadata": {},
   "outputs": [
    {
     "data": {
      "text/plain": [
       "no     4933\n",
       "yes    2110\n",
       "Name: dependents, dtype: int64"
      ]
     },
     "execution_count": 20,
     "metadata": {},
     "output_type": "execute_result"
    }
   ],
   "source": [
    "personal['dependents'].value_counts()"
   ]
  },
  {
   "cell_type": "markdown",
   "id": "a44f5f53",
   "metadata": {},
   "source": [
    "Данные выглядят нормально."
   ]
  },
  {
   "cell_type": "markdown",
   "id": "b3c9526a",
   "metadata": {},
   "source": [
    "### Информация об интернет-услугах\n",
    "\n",
    "Згарузка и ознакомление."
   ]
  },
  {
   "cell_type": "code",
   "execution_count": 21,
   "id": "818fbb82",
   "metadata": {},
   "outputs": [
    {
     "name": "stdout",
     "output_type": "stream",
     "text": [
      "<class 'pandas.core.frame.DataFrame'>\n",
      "RangeIndex: 5517 entries, 0 to 5516\n",
      "Data columns (total 8 columns):\n",
      " #   Column            Non-Null Count  Dtype \n",
      "---  ------            --------------  ----- \n",
      " 0   customerID        5517 non-null   object\n",
      " 1   InternetService   5517 non-null   object\n",
      " 2   OnlineSecurity    5517 non-null   object\n",
      " 3   OnlineBackup      5517 non-null   object\n",
      " 4   DeviceProtection  5517 non-null   object\n",
      " 5   TechSupport       5517 non-null   object\n",
      " 6   StreamingTV       5517 non-null   object\n",
      " 7   StreamingMovies   5517 non-null   object\n",
      "dtypes: object(8)\n",
      "memory usage: 344.9+ KB\n"
     ]
    }
   ],
   "source": [
    "pth5 = '/datasets/final_provider/internet.csv'\n",
    "pth6 = '/Users/refresh/Downloads/final_provider/internet.csv'\n",
    "if os.path.exists(pth5):\n",
    "    internet = pd.read_csv(pth5)\n",
    "elif os.path.exists(pth6):\n",
    "    internet = pd.read_csv(pth6)\n",
    "else:\n",
    "    print('Что-то пошло не так')\n",
    "internet.info()"
   ]
  },
  {
   "cell_type": "code",
   "execution_count": 22,
   "id": "368d04b2",
   "metadata": {},
   "outputs": [
    {
     "data": {
      "text/html": [
       "<div>\n",
       "<style scoped>\n",
       "    .dataframe tbody tr th:only-of-type {\n",
       "        vertical-align: middle;\n",
       "    }\n",
       "\n",
       "    .dataframe tbody tr th {\n",
       "        vertical-align: top;\n",
       "    }\n",
       "\n",
       "    .dataframe thead th {\n",
       "        text-align: right;\n",
       "    }\n",
       "</style>\n",
       "<table border=\"1\" class=\"dataframe\">\n",
       "  <thead>\n",
       "    <tr style=\"text-align: right;\">\n",
       "      <th></th>\n",
       "      <th>customerID</th>\n",
       "      <th>InternetService</th>\n",
       "      <th>OnlineSecurity</th>\n",
       "      <th>OnlineBackup</th>\n",
       "      <th>DeviceProtection</th>\n",
       "      <th>TechSupport</th>\n",
       "      <th>StreamingTV</th>\n",
       "      <th>StreamingMovies</th>\n",
       "    </tr>\n",
       "  </thead>\n",
       "  <tbody>\n",
       "    <tr>\n",
       "      <th>1880</th>\n",
       "      <td>3787-TRIAL</td>\n",
       "      <td>DSL</td>\n",
       "      <td>No</td>\n",
       "      <td>No</td>\n",
       "      <td>No</td>\n",
       "      <td>No</td>\n",
       "      <td>No</td>\n",
       "      <td>No</td>\n",
       "    </tr>\n",
       "    <tr>\n",
       "      <th>3928</th>\n",
       "      <td>9758-MFWGD</td>\n",
       "      <td>DSL</td>\n",
       "      <td>No</td>\n",
       "      <td>Yes</td>\n",
       "      <td>No</td>\n",
       "      <td>No</td>\n",
       "      <td>No</td>\n",
       "      <td>No</td>\n",
       "    </tr>\n",
       "    <tr>\n",
       "      <th>2093</th>\n",
       "      <td>8348-HFYIV</td>\n",
       "      <td>DSL</td>\n",
       "      <td>No</td>\n",
       "      <td>No</td>\n",
       "      <td>Yes</td>\n",
       "      <td>No</td>\n",
       "      <td>Yes</td>\n",
       "      <td>Yes</td>\n",
       "    </tr>\n",
       "    <tr>\n",
       "      <th>1647</th>\n",
       "      <td>3933-DQPWX</td>\n",
       "      <td>DSL</td>\n",
       "      <td>No</td>\n",
       "      <td>Yes</td>\n",
       "      <td>Yes</td>\n",
       "      <td>Yes</td>\n",
       "      <td>No</td>\n",
       "      <td>No</td>\n",
       "    </tr>\n",
       "    <tr>\n",
       "      <th>1237</th>\n",
       "      <td>1157-BQCUW</td>\n",
       "      <td>Fiber optic</td>\n",
       "      <td>No</td>\n",
       "      <td>No</td>\n",
       "      <td>No</td>\n",
       "      <td>No</td>\n",
       "      <td>No</td>\n",
       "      <td>No</td>\n",
       "    </tr>\n",
       "  </tbody>\n",
       "</table>\n",
       "</div>"
      ],
      "text/plain": [
       "      customerID InternetService OnlineSecurity OnlineBackup DeviceProtection  \\\n",
       "1880  3787-TRIAL             DSL             No           No               No   \n",
       "3928  9758-MFWGD             DSL             No          Yes               No   \n",
       "2093  8348-HFYIV             DSL             No           No              Yes   \n",
       "1647  3933-DQPWX             DSL             No          Yes              Yes   \n",
       "1237  1157-BQCUW     Fiber optic             No           No               No   \n",
       "\n",
       "     TechSupport StreamingTV StreamingMovies  \n",
       "1880          No          No              No  \n",
       "3928          No          No              No  \n",
       "2093          No         Yes             Yes  \n",
       "1647         Yes          No              No  \n",
       "1237          No          No              No  "
      ]
     },
     "execution_count": 22,
     "metadata": {},
     "output_type": "execute_result"
    }
   ],
   "source": [
    "internet.sample(5)"
   ]
  },
  {
   "cell_type": "code",
   "execution_count": 23,
   "id": "7df036f6",
   "metadata": {},
   "outputs": [
    {
     "data": {
      "text/html": [
       "<div>\n",
       "<style scoped>\n",
       "    .dataframe tbody tr th:only-of-type {\n",
       "        vertical-align: middle;\n",
       "    }\n",
       "\n",
       "    .dataframe tbody tr th {\n",
       "        vertical-align: top;\n",
       "    }\n",
       "\n",
       "    .dataframe thead th {\n",
       "        text-align: right;\n",
       "    }\n",
       "</style>\n",
       "<table border=\"1\" class=\"dataframe\">\n",
       "  <thead>\n",
       "    <tr style=\"text-align: right;\">\n",
       "      <th></th>\n",
       "      <th>customerID</th>\n",
       "      <th>InternetService</th>\n",
       "      <th>OnlineSecurity</th>\n",
       "      <th>OnlineBackup</th>\n",
       "      <th>DeviceProtection</th>\n",
       "      <th>TechSupport</th>\n",
       "      <th>StreamingTV</th>\n",
       "      <th>StreamingMovies</th>\n",
       "    </tr>\n",
       "  </thead>\n",
       "  <tbody>\n",
       "    <tr>\n",
       "      <th>count</th>\n",
       "      <td>5517</td>\n",
       "      <td>5517</td>\n",
       "      <td>5517</td>\n",
       "      <td>5517</td>\n",
       "      <td>5517</td>\n",
       "      <td>5517</td>\n",
       "      <td>5517</td>\n",
       "      <td>5517</td>\n",
       "    </tr>\n",
       "    <tr>\n",
       "      <th>unique</th>\n",
       "      <td>5517</td>\n",
       "      <td>2</td>\n",
       "      <td>2</td>\n",
       "      <td>2</td>\n",
       "      <td>2</td>\n",
       "      <td>2</td>\n",
       "      <td>2</td>\n",
       "      <td>2</td>\n",
       "    </tr>\n",
       "    <tr>\n",
       "      <th>top</th>\n",
       "      <td>7590-VHVEG</td>\n",
       "      <td>Fiber optic</td>\n",
       "      <td>No</td>\n",
       "      <td>No</td>\n",
       "      <td>No</td>\n",
       "      <td>No</td>\n",
       "      <td>No</td>\n",
       "      <td>No</td>\n",
       "    </tr>\n",
       "    <tr>\n",
       "      <th>freq</th>\n",
       "      <td>1</td>\n",
       "      <td>3096</td>\n",
       "      <td>3498</td>\n",
       "      <td>3088</td>\n",
       "      <td>3095</td>\n",
       "      <td>3473</td>\n",
       "      <td>2810</td>\n",
       "      <td>2785</td>\n",
       "    </tr>\n",
       "  </tbody>\n",
       "</table>\n",
       "</div>"
      ],
      "text/plain": [
       "        customerID InternetService OnlineSecurity OnlineBackup  \\\n",
       "count         5517            5517           5517         5517   \n",
       "unique        5517               2              2            2   \n",
       "top     7590-VHVEG     Fiber optic             No           No   \n",
       "freq             1            3096           3498         3088   \n",
       "\n",
       "       DeviceProtection TechSupport StreamingTV StreamingMovies  \n",
       "count              5517        5517        5517            5517  \n",
       "unique                2           2           2               2  \n",
       "top                  No          No          No              No  \n",
       "freq               3095        3473        2810            2785  "
      ]
     },
     "execution_count": 23,
     "metadata": {},
     "output_type": "execute_result"
    }
   ],
   "source": [
    "internet.describe(include='all')"
   ]
  },
  {
   "cell_type": "markdown",
   "id": "08569c0b",
   "metadata": {},
   "source": [
    "Видно, что данные имеют разный вид, приведём всё к \"змеиному регистру\". И проверим на явные дубликаты."
   ]
  },
  {
   "cell_type": "code",
   "execution_count": 24,
   "id": "766db214",
   "metadata": {},
   "outputs": [
    {
     "data": {
      "text/html": [
       "<div>\n",
       "<style scoped>\n",
       "    .dataframe tbody tr th:only-of-type {\n",
       "        vertical-align: middle;\n",
       "    }\n",
       "\n",
       "    .dataframe tbody tr th {\n",
       "        vertical-align: top;\n",
       "    }\n",
       "\n",
       "    .dataframe thead th {\n",
       "        text-align: right;\n",
       "    }\n",
       "</style>\n",
       "<table border=\"1\" class=\"dataframe\">\n",
       "  <thead>\n",
       "    <tr style=\"text-align: right;\">\n",
       "      <th></th>\n",
       "      <th>customer_id</th>\n",
       "      <th>internet_service</th>\n",
       "      <th>online_security</th>\n",
       "      <th>online_backup</th>\n",
       "      <th>device_protection</th>\n",
       "      <th>tech_support</th>\n",
       "      <th>streaming_tv</th>\n",
       "      <th>streaming_movies</th>\n",
       "    </tr>\n",
       "  </thead>\n",
       "  <tbody>\n",
       "    <tr>\n",
       "      <th>1523</th>\n",
       "      <td>7442-ygzfk</td>\n",
       "      <td>dsl</td>\n",
       "      <td>no</td>\n",
       "      <td>no</td>\n",
       "      <td>no</td>\n",
       "      <td>no</td>\n",
       "      <td>no</td>\n",
       "      <td>no</td>\n",
       "    </tr>\n",
       "    <tr>\n",
       "      <th>3267</th>\n",
       "      <td>7858-gtzsp</td>\n",
       "      <td>fiber optic</td>\n",
       "      <td>no</td>\n",
       "      <td>no</td>\n",
       "      <td>no</td>\n",
       "      <td>no</td>\n",
       "      <td>no</td>\n",
       "      <td>yes</td>\n",
       "    </tr>\n",
       "    <tr>\n",
       "      <th>1595</th>\n",
       "      <td>8272-onjlv</td>\n",
       "      <td>fiber optic</td>\n",
       "      <td>no</td>\n",
       "      <td>no</td>\n",
       "      <td>yes</td>\n",
       "      <td>no</td>\n",
       "      <td>yes</td>\n",
       "      <td>yes</td>\n",
       "    </tr>\n",
       "  </tbody>\n",
       "</table>\n",
       "</div>"
      ],
      "text/plain": [
       "     customer_id internet_service online_security online_backup  \\\n",
       "1523  7442-ygzfk              dsl              no            no   \n",
       "3267  7858-gtzsp      fiber optic              no            no   \n",
       "1595  8272-onjlv      fiber optic              no            no   \n",
       "\n",
       "     device_protection tech_support streaming_tv streaming_movies  \n",
       "1523                no           no           no               no  \n",
       "3267                no           no           no              yes  \n",
       "1595               yes           no          yes              yes  "
      ]
     },
     "metadata": {},
     "output_type": "display_data"
    },
    {
     "name": "stdout",
     "output_type": "stream",
     "text": [
      "Дубликатов в таблице internet 0\n"
     ]
    }
   ],
   "source": [
    "internet = internet.rename(columns = {'customerID' : 'customer_id',\n",
    "                                      'InternetService' : 'internet_service',\n",
    "                                      'OnlineSecurity' : 'online_security',\n",
    "                                      'OnlineBackup' : 'online_backup',\n",
    "                                      'DeviceProtection' : 'device_protection',\n",
    "                                      'TechSupport' : 'tech_support',\n",
    "                                      'StreamingTV' : 'streaming_tv',\n",
    "                                      'StreamingMovies' : 'streaming_movies'})\n",
    "internet = internet.apply(lambda x: x.astype(str).str.lower())\n",
    "display(internet.sample(3))\n",
    "print('Дубликатов в таблице internet', internet.duplicated().sum())"
   ]
  },
  {
   "cell_type": "markdown",
   "id": "ced2b84d",
   "metadata": {},
   "source": [
    "Данные выглядят хорошо."
   ]
  },
  {
   "cell_type": "markdown",
   "id": "4f400225",
   "metadata": {},
   "source": [
    "### Информация об услугах телефонии\n",
    "\n",
    "Згарузка и ознакомление."
   ]
  },
  {
   "cell_type": "code",
   "execution_count": 25,
   "id": "c7a2cfec",
   "metadata": {},
   "outputs": [
    {
     "name": "stdout",
     "output_type": "stream",
     "text": [
      "<class 'pandas.core.frame.DataFrame'>\n",
      "RangeIndex: 6361 entries, 0 to 6360\n",
      "Data columns (total 2 columns):\n",
      " #   Column         Non-Null Count  Dtype \n",
      "---  ------         --------------  ----- \n",
      " 0   customerID     6361 non-null   object\n",
      " 1   MultipleLines  6361 non-null   object\n",
      "dtypes: object(2)\n",
      "memory usage: 99.5+ KB\n"
     ]
    }
   ],
   "source": [
    "pth7 = '/datasets/final_provider/phone.csv'\n",
    "pth8 = '/Users/refresh/Downloads/final_provider/phone.csv'\n",
    "if os.path.exists(pth7):\n",
    "    phone = pd.read_csv(pth7)\n",
    "elif os.path.exists(pth8):\n",
    "    phone = pd.read_csv(pth8)\n",
    "else:\n",
    "    print('Что-то пошло не так')\n",
    "phone.info()"
   ]
  },
  {
   "cell_type": "code",
   "execution_count": 26,
   "id": "9b12e70e",
   "metadata": {},
   "outputs": [
    {
     "data": {
      "text/html": [
       "<div>\n",
       "<style scoped>\n",
       "    .dataframe tbody tr th:only-of-type {\n",
       "        vertical-align: middle;\n",
       "    }\n",
       "\n",
       "    .dataframe tbody tr th {\n",
       "        vertical-align: top;\n",
       "    }\n",
       "\n",
       "    .dataframe thead th {\n",
       "        text-align: right;\n",
       "    }\n",
       "</style>\n",
       "<table border=\"1\" class=\"dataframe\">\n",
       "  <thead>\n",
       "    <tr style=\"text-align: right;\">\n",
       "      <th></th>\n",
       "      <th>customerID</th>\n",
       "      <th>MultipleLines</th>\n",
       "    </tr>\n",
       "  </thead>\n",
       "  <tbody>\n",
       "    <tr>\n",
       "      <th>1791</th>\n",
       "      <td>7967-HYCDE</td>\n",
       "      <td>No</td>\n",
       "    </tr>\n",
       "    <tr>\n",
       "      <th>5577</th>\n",
       "      <td>8901-UPRHR</td>\n",
       "      <td>Yes</td>\n",
       "    </tr>\n",
       "    <tr>\n",
       "      <th>4427</th>\n",
       "      <td>5825-XJOCM</td>\n",
       "      <td>Yes</td>\n",
       "    </tr>\n",
       "    <tr>\n",
       "      <th>6255</th>\n",
       "      <td>5136-GFPMB</td>\n",
       "      <td>Yes</td>\n",
       "    </tr>\n",
       "    <tr>\n",
       "      <th>410</th>\n",
       "      <td>4719-UMSIY</td>\n",
       "      <td>No</td>\n",
       "    </tr>\n",
       "  </tbody>\n",
       "</table>\n",
       "</div>"
      ],
      "text/plain": [
       "      customerID MultipleLines\n",
       "1791  7967-HYCDE            No\n",
       "5577  8901-UPRHR           Yes\n",
       "4427  5825-XJOCM           Yes\n",
       "6255  5136-GFPMB           Yes\n",
       "410   4719-UMSIY            No"
      ]
     },
     "execution_count": 26,
     "metadata": {},
     "output_type": "execute_result"
    }
   ],
   "source": [
    "phone.sample(5)"
   ]
  },
  {
   "cell_type": "markdown",
   "id": "216f8a1e",
   "metadata": {},
   "source": [
    "Видно, что данные имеют разный вид, приведём всё к \"змеиному регистру\". И проверим на явные дубликаты."
   ]
  },
  {
   "cell_type": "code",
   "execution_count": 27,
   "id": "c57a82d0",
   "metadata": {},
   "outputs": [
    {
     "data": {
      "text/html": [
       "<div>\n",
       "<style scoped>\n",
       "    .dataframe tbody tr th:only-of-type {\n",
       "        vertical-align: middle;\n",
       "    }\n",
       "\n",
       "    .dataframe tbody tr th {\n",
       "        vertical-align: top;\n",
       "    }\n",
       "\n",
       "    .dataframe thead th {\n",
       "        text-align: right;\n",
       "    }\n",
       "</style>\n",
       "<table border=\"1\" class=\"dataframe\">\n",
       "  <thead>\n",
       "    <tr style=\"text-align: right;\">\n",
       "      <th></th>\n",
       "      <th>customer_id</th>\n",
       "      <th>multiple_lines</th>\n",
       "    </tr>\n",
       "  </thead>\n",
       "  <tbody>\n",
       "    <tr>\n",
       "      <th>1975</th>\n",
       "      <td>6635-cpnun</td>\n",
       "      <td>yes</td>\n",
       "    </tr>\n",
       "    <tr>\n",
       "      <th>5019</th>\n",
       "      <td>9279-cjeoj</td>\n",
       "      <td>yes</td>\n",
       "    </tr>\n",
       "    <tr>\n",
       "      <th>2444</th>\n",
       "      <td>1855-cfulu</td>\n",
       "      <td>no</td>\n",
       "    </tr>\n",
       "  </tbody>\n",
       "</table>\n",
       "</div>"
      ],
      "text/plain": [
       "     customer_id multiple_lines\n",
       "1975  6635-cpnun            yes\n",
       "5019  9279-cjeoj            yes\n",
       "2444  1855-cfulu             no"
      ]
     },
     "metadata": {},
     "output_type": "display_data"
    },
    {
     "name": "stdout",
     "output_type": "stream",
     "text": [
      "Дубликатов в таблице phone 0\n"
     ]
    }
   ],
   "source": [
    "phone = phone.rename(columns = {'customerID' : 'customer_id',\n",
    "                                'MultipleLines' : 'multiple_lines'})\n",
    "phone = phone.apply(lambda x: x.astype(str).str.lower())\n",
    "display(phone.sample(3))\n",
    "print('Дубликатов в таблице phone', phone.duplicated().sum())"
   ]
  },
  {
   "cell_type": "markdown",
   "id": "85ea4212",
   "metadata": {},
   "source": [
    "Проверим значения 'multiple_lines'"
   ]
  },
  {
   "cell_type": "code",
   "execution_count": 28,
   "id": "6364efc6",
   "metadata": {},
   "outputs": [
    {
     "data": {
      "text/plain": [
       "no     3390\n",
       "yes    2971\n",
       "Name: multiple_lines, dtype: int64"
      ]
     },
     "execution_count": 28,
     "metadata": {},
     "output_type": "execute_result"
    }
   ],
   "source": [
    "phone['multiple_lines'].value_counts()"
   ]
  },
  {
   "cell_type": "markdown",
   "id": "326cf08f",
   "metadata": {},
   "source": [
    "Данные в норме.\n",
    "\n",
    "### Вывод\n",
    "\n",
    "Данные загружены, проведено ознакомление. Присутствовало незначительное количество пропусков, которые я убрал. Привёл все данные к единому стилю, чтобы отчет был более читаемым и с данными было удобнее работать. Проверил на дубликаты. Типы данных привёл к соответсвующим информации. В таблицах разное количество данных, это можно объяснить тем, что не все клиенты пользуются всеми услугами.\n",
    "Выделил целевой признак - покинул клиент компанию или нет. В цлевом признаке есть дисбаланс 73% / 27% (ушедших клиентов меньше).\n",
    "\n",
    "Все готово к дальнейшему исследованию."
   ]
  },
  {
   "cell_type": "markdown",
   "id": "a060d511",
   "metadata": {},
   "source": [
    "## Соединение таблиц и создание признаков\n",
    "\n",
    "Для начала создадим новый признак, который является важной метрикой в бизнесе - количество дней, которые клиент был активным."
   ]
  },
  {
   "cell_type": "code",
   "execution_count": 29,
   "id": "c39235ad",
   "metadata": {},
   "outputs": [],
   "source": [
    "# функция для рассчета количества дней, которые пользователь был активным\n",
    "def to_day(row):\n",
    "    date_0 = row['end_date']\n",
    "    date_1 = row['begin_date']\n",
    "    return (date_0 - date_1).days\n",
    "# расчет активных дней\n",
    "contract['avg_month'] = contract.apply(to_day, axis=1)"
   ]
  },
  {
   "cell_type": "markdown",
   "id": "e570be64",
   "metadata": {},
   "source": [
    "Чтобы сделать признаки удобными для модели соединим их в одну таблицу по полю \"customer_id\"."
   ]
  },
  {
   "cell_type": "code",
   "execution_count": 30,
   "id": "1cf7cdec",
   "metadata": {},
   "outputs": [],
   "source": [
    "all_info = contract.merge(personal, on='customer_id', how='left')\n",
    "all_info = all_info.merge(internet, on='customer_id', how='left')\n",
    "all_info = all_info.merge(phone, on='customer_id', how='left')"
   ]
  },
  {
   "cell_type": "code",
   "execution_count": 31,
   "id": "083c7d2c",
   "metadata": {},
   "outputs": [
    {
     "name": "stdout",
     "output_type": "stream",
     "text": [
      "<class 'pandas.core.frame.DataFrame'>\n",
      "Int64Index: 7032 entries, 0 to 7031\n",
      "Data columns (total 22 columns):\n",
      " #   Column             Non-Null Count  Dtype         \n",
      "---  ------             --------------  -----         \n",
      " 0   customer_id        7032 non-null   object        \n",
      " 1   begin_date         7032 non-null   datetime64[ns]\n",
      " 2   end_date           7032 non-null   datetime64[ns]\n",
      " 3   type               7032 non-null   object        \n",
      " 4   paperless_billing  7032 non-null   object        \n",
      " 5   payment_method     7032 non-null   object        \n",
      " 6   monthly_charges    7032 non-null   float64       \n",
      " 7   total_charges      7032 non-null   object        \n",
      " 8   target             7032 non-null   int64         \n",
      " 9   avg_month          7032 non-null   int64         \n",
      " 10  gender             7032 non-null   object        \n",
      " 11  senior_citizen     7032 non-null   int64         \n",
      " 12  partner            7032 non-null   object        \n",
      " 13  dependents         7032 non-null   object        \n",
      " 14  internet_service   5512 non-null   object        \n",
      " 15  online_security    5512 non-null   object        \n",
      " 16  online_backup      5512 non-null   object        \n",
      " 17  device_protection  5512 non-null   object        \n",
      " 18  tech_support       5512 non-null   object        \n",
      " 19  streaming_tv       5512 non-null   object        \n",
      " 20  streaming_movies   5512 non-null   object        \n",
      " 21  multiple_lines     6352 non-null   object        \n",
      "dtypes: datetime64[ns](2), float64(1), int64(3), object(16)\n",
      "memory usage: 1.2+ MB\n"
     ]
    }
   ],
   "source": [
    "all_info.info()"
   ]
  },
  {
   "cell_type": "markdown",
   "id": "9017a945",
   "metadata": {},
   "source": [
    "В таблице появились пропуски - это, пердположительно происходит потому, что некоторые клиенты пользуются не всеми услугами. Заполним пропуски значением \"no\", по аналогии с другими категориальными данными."
   ]
  },
  {
   "cell_type": "code",
   "execution_count": 32,
   "id": "77effbba",
   "metadata": {},
   "outputs": [],
   "source": [
    "# заполняем прорпуски\n",
    "all_info = all_info.fillna('no')\n",
    "all_info['total_charges'] = all_info['total_charges'].astype('float64')"
   ]
  },
  {
   "cell_type": "code",
   "execution_count": 33,
   "id": "f9519b4f",
   "metadata": {},
   "outputs": [
    {
     "data": {
      "text/html": [
       "<div>\n",
       "<style scoped>\n",
       "    .dataframe tbody tr th:only-of-type {\n",
       "        vertical-align: middle;\n",
       "    }\n",
       "\n",
       "    .dataframe tbody tr th {\n",
       "        vertical-align: top;\n",
       "    }\n",
       "\n",
       "    .dataframe thead th {\n",
       "        text-align: right;\n",
       "    }\n",
       "</style>\n",
       "<table border=\"1\" class=\"dataframe\">\n",
       "  <thead>\n",
       "    <tr style=\"text-align: right;\">\n",
       "      <th></th>\n",
       "      <th>customer_id</th>\n",
       "      <th>begin_date</th>\n",
       "      <th>end_date</th>\n",
       "      <th>type</th>\n",
       "      <th>paperless_billing</th>\n",
       "      <th>payment_method</th>\n",
       "      <th>monthly_charges</th>\n",
       "      <th>total_charges</th>\n",
       "      <th>target</th>\n",
       "      <th>avg_month</th>\n",
       "      <th>...</th>\n",
       "      <th>partner</th>\n",
       "      <th>dependents</th>\n",
       "      <th>internet_service</th>\n",
       "      <th>online_security</th>\n",
       "      <th>online_backup</th>\n",
       "      <th>device_protection</th>\n",
       "      <th>tech_support</th>\n",
       "      <th>streaming_tv</th>\n",
       "      <th>streaming_movies</th>\n",
       "      <th>multiple_lines</th>\n",
       "    </tr>\n",
       "  </thead>\n",
       "  <tbody>\n",
       "    <tr>\n",
       "      <th>3158</th>\n",
       "      <td>9281-ofdmf</td>\n",
       "      <td>2016-11-01</td>\n",
       "      <td>2020-02-01</td>\n",
       "      <td>month-to-month</td>\n",
       "      <td>no</td>\n",
       "      <td>electronic check</td>\n",
       "      <td>90.70</td>\n",
       "      <td>3413.25</td>\n",
       "      <td>0</td>\n",
       "      <td>1187</td>\n",
       "      <td>...</td>\n",
       "      <td>no</td>\n",
       "      <td>no</td>\n",
       "      <td>fiber optic</td>\n",
       "      <td>no</td>\n",
       "      <td>yes</td>\n",
       "      <td>no</td>\n",
       "      <td>no</td>\n",
       "      <td>no</td>\n",
       "      <td>yes</td>\n",
       "      <td>yes</td>\n",
       "    </tr>\n",
       "    <tr>\n",
       "      <th>2231</th>\n",
       "      <td>3420-zdbma</td>\n",
       "      <td>2019-09-01</td>\n",
       "      <td>2020-02-01</td>\n",
       "      <td>month-to-month</td>\n",
       "      <td>yes</td>\n",
       "      <td>mailed check</td>\n",
       "      <td>71.45</td>\n",
       "      <td>371.60</td>\n",
       "      <td>0</td>\n",
       "      <td>153</td>\n",
       "      <td>...</td>\n",
       "      <td>no</td>\n",
       "      <td>no</td>\n",
       "      <td>fiber optic</td>\n",
       "      <td>no</td>\n",
       "      <td>no</td>\n",
       "      <td>no</td>\n",
       "      <td>no</td>\n",
       "      <td>no</td>\n",
       "      <td>no</td>\n",
       "      <td>no</td>\n",
       "    </tr>\n",
       "    <tr>\n",
       "      <th>3777</th>\n",
       "      <td>1469-lbjqj</td>\n",
       "      <td>2014-08-01</td>\n",
       "      <td>2020-02-01</td>\n",
       "      <td>month-to-month</td>\n",
       "      <td>yes</td>\n",
       "      <td>electronic check</td>\n",
       "      <td>105.20</td>\n",
       "      <td>6936.85</td>\n",
       "      <td>0</td>\n",
       "      <td>2010</td>\n",
       "      <td>...</td>\n",
       "      <td>yes</td>\n",
       "      <td>no</td>\n",
       "      <td>fiber optic</td>\n",
       "      <td>no</td>\n",
       "      <td>yes</td>\n",
       "      <td>yes</td>\n",
       "      <td>no</td>\n",
       "      <td>yes</td>\n",
       "      <td>yes</td>\n",
       "      <td>yes</td>\n",
       "    </tr>\n",
       "  </tbody>\n",
       "</table>\n",
       "<p>3 rows × 22 columns</p>\n",
       "</div>"
      ],
      "text/plain": [
       "     customer_id begin_date   end_date            type paperless_billing  \\\n",
       "3158  9281-ofdmf 2016-11-01 2020-02-01  month-to-month                no   \n",
       "2231  3420-zdbma 2019-09-01 2020-02-01  month-to-month               yes   \n",
       "3777  1469-lbjqj 2014-08-01 2020-02-01  month-to-month               yes   \n",
       "\n",
       "        payment_method  monthly_charges  total_charges  target  avg_month  \\\n",
       "3158  electronic check            90.70        3413.25       0       1187   \n",
       "2231      mailed check            71.45         371.60       0        153   \n",
       "3777  electronic check           105.20        6936.85       0       2010   \n",
       "\n",
       "      ... partner  dependents internet_service online_security online_backup  \\\n",
       "3158  ...      no          no      fiber optic              no           yes   \n",
       "2231  ...      no          no      fiber optic              no            no   \n",
       "3777  ...     yes          no      fiber optic              no           yes   \n",
       "\n",
       "     device_protection tech_support streaming_tv streaming_movies  \\\n",
       "3158                no           no           no              yes   \n",
       "2231                no           no           no               no   \n",
       "3777               yes           no          yes              yes   \n",
       "\n",
       "     multiple_lines  \n",
       "3158            yes  \n",
       "2231             no  \n",
       "3777            yes  \n",
       "\n",
       "[3 rows x 22 columns]"
      ]
     },
     "execution_count": 33,
     "metadata": {},
     "output_type": "execute_result"
    }
   ],
   "source": [
    "all_info.sample(3)"
   ]
  },
  {
   "cell_type": "markdown",
   "id": "5fe8fd73",
   "metadata": {},
   "source": [
    "Далее проверим все признаки на мультколлинеарность и корреляцию с целевым признаком. Для удобсва выведем хитмэп:"
   ]
  },
  {
   "cell_type": "code",
   "execution_count": 34,
   "id": "2bab02ad",
   "metadata": {},
   "outputs": [
    {
     "name": "stdout",
     "output_type": "stream",
     "text": [
      "interval columns not set, guessing: ['monthly_charges', 'total_charges', 'target', 'avg_month', 'senior_citizen']\n"
     ]
    },
    {
     "name": "stderr",
     "output_type": "stream",
     "text": [
      "/Users/refresh/opt/anaconda3/lib/python3.9/site-packages/scipy/__init__.py:146: UserWarning: A NumPy version >=1.16.5 and <1.23.0 is required for this version of SciPy (detected version 1.23.5\n",
      "  warnings.warn(f\"A NumPy version >={np_minversion} and <{np_maxversion}\"\n",
      "/Users/refresh/opt/anaconda3/lib/python3.9/site-packages/scipy/__init__.py:146: UserWarning: A NumPy version >=1.16.5 and <1.23.0 is required for this version of SciPy (detected version 1.23.5\n",
      "  warnings.warn(f\"A NumPy version >={np_minversion} and <{np_maxversion}\"\n",
      "/Users/refresh/opt/anaconda3/lib/python3.9/site-packages/scipy/__init__.py:146: UserWarning: A NumPy version >=1.16.5 and <1.23.0 is required for this version of SciPy (detected version 1.23.5\n",
      "  warnings.warn(f\"A NumPy version >={np_minversion} and <{np_maxversion}\"\n",
      "/Users/refresh/opt/anaconda3/lib/python3.9/site-packages/scipy/__init__.py:146: UserWarning: A NumPy version >=1.16.5 and <1.23.0 is required for this version of SciPy (detected version 1.23.5\n",
      "  warnings.warn(f\"A NumPy version >={np_minversion} and <{np_maxversion}\"\n",
      "/Users/refresh/opt/anaconda3/lib/python3.9/site-packages/scipy/__init__.py:146: UserWarning: A NumPy version >=1.16.5 and <1.23.0 is required for this version of SciPy (detected version 1.23.5\n",
      "  warnings.warn(f\"A NumPy version >={np_minversion} and <{np_maxversion}\"\n",
      "/Users/refresh/opt/anaconda3/lib/python3.9/site-packages/scipy/__init__.py:146: UserWarning: A NumPy version >=1.16.5 and <1.23.0 is required for this version of SciPy (detected version 1.23.5\n",
      "  warnings.warn(f\"A NumPy version >={np_minversion} and <{np_maxversion}\"\n",
      "/Users/refresh/opt/anaconda3/lib/python3.9/site-packages/scipy/__init__.py:146: UserWarning: A NumPy version >=1.16.5 and <1.23.0 is required for this version of SciPy (detected version 1.23.5\n",
      "  warnings.warn(f\"A NumPy version >={np_minversion} and <{np_maxversion}\"\n",
      "/Users/refresh/opt/anaconda3/lib/python3.9/site-packages/scipy/__init__.py:146: UserWarning: A NumPy version >=1.16.5 and <1.23.0 is required for this version of SciPy (detected version 1.23.5\n",
      "  warnings.warn(f\"A NumPy version >={np_minversion} and <{np_maxversion}\"\n"
     ]
    }
   ],
   "source": [
    "# отключаем предупреждения\n",
    "warnings.filterwarnings('ignore')\n",
    "# удалим даты и id клиента\n",
    "all_info_corr = all_info.drop(['customer_id', 'begin_date', 'end_date'], axis=1)\n",
    "phik_overview = all_info_corr.phik_matrix()"
   ]
  },
  {
   "cell_type": "code",
   "execution_count": 35,
   "id": "1c4e386c",
   "metadata": {
    "scrolled": false
   },
   "outputs": [
    {
     "data": {
      "image/png": "[encoded data removed]",
      "text/plain": [
       "<Figure size 1440x1440 with 2 Axes>"
      ]
     },
     "metadata": {
      "needs_background": "light"
     },
     "output_type": "display_data"
    }
   ],
   "source": [
    "plot_correlation_matrix(phik_overview.values, \n",
    "                        x_labels=phik_overview.columns, \n",
    "                        y_labels=phik_overview.index, \n",
    "                        vmin=0, vmax=1, color_map=\"Greens\", \n",
    "                        title='Корреляция', \n",
    "                        fontsize_factor=1.5, \n",
    "                        figsize=(20, 20))\n",
    "plt.tight_layout()"
   ]
  },
  {
   "cell_type": "markdown",
   "id": "ded4d849",
   "metadata": {},
   "source": [
    "Наблюдается высокая корреляция у признака 'количество активных дней в компании' и признаков связанных с телевидением, кино и нитернетом, что логично, раз люди платят за них, то они и отображаются в данных.\n",
    "\n",
    "Так же высокая корреляция у признака 'общая выручка', здесь аналогичные с прошлым признаком причны.\n",
    "\n",
    "Высокая корреляция с целевым признаком ни у одного признака не наблюдается."
   ]
  },
  {
   "cell_type": "markdown",
   "id": "51525b9f",
   "metadata": {},
   "source": [
    "Разделяем данные на признаки и целевой признак. Считаю, что id клиента и даты начала и конца сотрудничества не информативны для модели - удалим их."
   ]
  },
  {
   "cell_type": "code",
   "execution_count": 36,
   "id": "30265457",
   "metadata": {},
   "outputs": [],
   "source": [
    "# формируем признаки и целевой признак\n",
    "X = all_info.drop(['customer_id', 'begin_date', 'end_date', 'target'], axis=1)\n",
    "y = all_info['target']"
   ]
  },
  {
   "cell_type": "markdown",
   "id": "8ed5eb74",
   "metadata": {},
   "source": [
    "Делим сформированные данные на обучающую и тестовую выборки в соотношении 3/1. Т к есть дисбаланс - старифицируем, чтобы оба класса присутсвовали и в обучении и в тесте."
   ]
  },
  {
   "cell_type": "code",
   "execution_count": 37,
   "id": "021783e4",
   "metadata": {},
   "outputs": [
    {
     "data": {
      "text/plain": [
       "((5274, 18), (1758, 18), (5274,), (1758,))"
      ]
     },
     "execution_count": 37,
     "metadata": {},
     "output_type": "execute_result"
    }
   ],
   "source": [
    "# разбивает на трэйн и тест\n",
    "X_train, X_test, y_train, y_test = train_test_split(X, y, \n",
    "                                                    test_size=0.25, \n",
    "                                                    random_state=281122,\n",
    "                                                    stratify=y)\n",
    "X_train.shape, X_test.shape, y_train.shape, y_test.shape"
   ]
  },
  {
   "cell_type": "markdown",
   "id": "6c0cfecd",
   "metadata": {},
   "source": [
    "### Вывод\n",
    "\n",
    "Создал новый признак, который является важной метрикой в бизнесе - количество дней, которые клиент был активным.\n",
    "Объединил данные одну таблицу по полю \"customer_id\". Появились пропуски - это, пердположительно происходит потому, что некоторые клиенты пользуются не всеми услугами. Заполнил пропуски значением \"no\", по аналогии с другими категориальными данными.\n",
    "\n",
    "Проверим все признаки на мультколлинеарность и корреляцию с целевым признаком.\n",
    "Наблюдается высокая корреляция у признака 'ежемесячные траты' и признаков связанных с телевидением, кино и нитернетом, что логично, раз люди платят за них, то они и отображаются в данных. Так же высокая корреляция у признака 'общая выручка', здесь аналогичные с прошлым признаком причны. Высокая корреляция с целевым признаком ни у одного признака не наблюдается.\n",
    "\n",
    "Разделил данные на признаки и целевой признак. Удалил не информативны для модели данные.\n",
    "\n",
    "Разделил данные на обучающую и тестовую выборки в соотношении 3/1, дисбаланс учтён."
   ]
  },
  {
   "cell_type": "markdown",
   "id": "6a473dff",
   "metadata": {},
   "source": [
    "## Обучение моделей\n",
    "\n",
    "### LGBMClassifier\n",
    "\n",
    "Для моделей с грдиентным бустингом закодируем данные. Для этого выделим типы признаков:\n",
    "\n",
    "    - категориальные, их кодируем с помощью OrdinalEncoder,\n",
    "    - чистовые, их с помощью StandardScaler."
   ]
  },
  {
   "cell_type": "code",
   "execution_count": 38,
   "id": "bfe46cc8",
   "metadata": {
    "scrolled": true
   },
   "outputs": [],
   "source": [
    "X_train_boost= X_train.copy()\n",
    "X_test_boost = X_test.copy()\n",
    "# кодируем признаки для гордиентного бустинга\n",
    "cat_features = ['type', 'paperless_billing', 'payment_method', 'gender', 'senior_citizen', 'partner', 'dependents',\n",
    "                'internet_service', 'online_security', 'online_backup', 'device_protection', 'tech_support',\n",
    "                'online_security', 'streaming_tv', 'streaming_movies', 'multiple_lines']\n",
    "num_features = ['monthly_charges', 'total_charges', 'avg_month']\n",
    "\n",
    "# порядковое кодирование\n",
    "encoder = OrdinalEncoder()\n",
    "encoder.fit(X_train[cat_features])\n",
    "X_train_boost[cat_features] = encoder.transform(X_train[cat_features])\n",
    "X_test_boost[cat_features] = encoder.transform(X_test[cat_features])\n",
    "\n",
    "# создадим объект этой структуры StandardScaler\n",
    "scaler = StandardScaler()\n",
    "# обучаем\n",
    "scaler.fit(X_train[num_features])\n",
    "# преобразуем выборки\n",
    "X_train_boost[num_features] = scaler.transform(X_train[num_features])\n",
    "X_test_boost[num_features] = scaler.transform(X_test[num_features])"
   ]
  },
  {
   "cell_type": "markdown",
   "id": "a7049839",
   "metadata": {},
   "source": [
    "Запускаем перебор паматретров на GridSearchCV."
   ]
  },
  {
   "cell_type": "code",
   "execution_count": 39,
   "id": "d4fee6c7",
   "metadata": {},
   "outputs": [],
   "source": [
    "# запускаем отсчёт времени\n",
    "start = time.time()\n",
    "\n",
    "# сохдаём модель и запускаем grid_search\n",
    "model_LGBM = LGBMClassifier(random_state=281122)\n",
    "grid = {'n_estimators': [50, 100, 200],\n",
    "        'max_depth': [4, 8, 12],\n",
    "        'learning_rate': [0.05, 0.1]}\n",
    "grid_LGBM = GridSearchCV(model_LGBM, grid, n_jobs=-1, scoring='roc_auc')\n",
    "grid_LGBM.fit(X_train_boost, y_train)\n",
    "# фиксируем время\n",
    "stop = time.time()"
   ]
  },
  {
   "cell_type": "code",
   "execution_count": 40,
   "id": "c0f99b98",
   "metadata": {},
   "outputs": [
    {
     "name": "stdout",
     "output_type": "stream",
     "text": [
      "LGBMClassifier для подбора параметров требует 0.21 минут\n",
      "Лучшие параметры модели {'learning_rate': 0.1, 'max_depth': 8, 'n_estimators': 200}\n",
      "roc_auc 0.8891807531784657\n"
     ]
    }
   ],
   "source": [
    "print('LGBMClassifier для подбора параметров требует', round((stop - start)/60, 2), 'минут')\n",
    "print(f'Лучшие параметры модели {grid_LGBM.best_params_}')\n",
    "print('roc_auc', abs(grid_LGBM.best_score_))"
   ]
  },
  {
   "cell_type": "markdown",
   "id": "cf30fe23",
   "metadata": {},
   "source": [
    "### CatBoostClassifier\n",
    "\n",
    "Признаки используем в том же виде, что и для прошлой модели. И так же запускаем GridSearchCV."
   ]
  },
  {
   "cell_type": "code",
   "execution_count": 41,
   "id": "2951184b",
   "metadata": {},
   "outputs": [],
   "source": [
    "# запускаем отсчёт времени\n",
    "start = time.time()\n",
    "\n",
    "# сохдаём модель и запускаем grid_search\n",
    "model_cat = CatBoostClassifier(random_state=281122, verbose=False)\n",
    "\n",
    "grid_cat = GridSearchCV(model_cat, grid, n_jobs=-1, scoring='roc_auc')\n",
    "grid_cat.fit(X_train_boost, y_train)\n",
    "# фиксируем время\n",
    "stop = time.time()"
   ]
  },
  {
   "cell_type": "code",
   "execution_count": 42,
   "id": "e3489996",
   "metadata": {},
   "outputs": [
    {
     "name": "stdout",
     "output_type": "stream",
     "text": [
      "CatBoostClassifier для подбора параметров требует 2.93 минут\n",
      "Лучшие параметры модели {'learning_rate': 0.1, 'max_depth': 4, 'n_estimators': 200}\n",
      "roc_auc 0.8934336325226875\n"
     ]
    }
   ],
   "source": [
    "print('CatBoostClassifier для подбора параметров требует', round((stop - start)/60, 2), 'минут')\n",
    "print(f'Лучшие параметры модели {grid_cat.best_params_}')\n",
    "print('roc_auc', abs(grid_cat.best_score_))"
   ]
  },
  {
   "cell_type": "markdown",
   "id": "767e052f",
   "metadata": {},
   "source": [
    "### LogisticRegression\n",
    "\n",
    "Для линейной модели закодируем немного по-другому:\n",
    "\n",
    "    - категориальные, их кодируем с помощью OneHotEncoder,\n",
    "    - чистовые, их с помощью StandardScaler."
   ]
  },
  {
   "cell_type": "code",
   "execution_count": 43,
   "id": "8d5038d7",
   "metadata": {},
   "outputs": [],
   "source": [
    "X_train_log = X_train.copy()\n",
    "X_test_log = X_test.copy()\n",
    "\n",
    "# кодируем категориальные столбцы OHE\n",
    "\n",
    "enc = OneHotEncoder(drop = 'first')\n",
    "enc.fit(X_train[cat_features])\n",
    "X_train_ohe = enc.transform(X_train[cat_features])\n",
    "X_test_ohe = enc.transform(X_test[cat_features])\n",
    "\n",
    "X_train_ohe = pd.concat([X_train[num_features], pd.DataFrame(X_train_ohe.toarray(), index=X_train.index)], axis=1)\n",
    "X_test_ohe = pd.concat([X_test[num_features], pd.DataFrame(X_test_ohe.toarray(), index=X_test.index)], axis=1)"
   ]
  },
  {
   "cell_type": "markdown",
   "id": "a7c02ff4",
   "metadata": {},
   "source": [
    "Запускаем GridSearchCV."
   ]
  },
  {
   "cell_type": "code",
   "execution_count": 44,
   "id": "d9bc51e6",
   "metadata": {},
   "outputs": [],
   "source": [
    "# запускаем отсчёт времени\n",
    "start = time.time()\n",
    "\n",
    "# сохдаём модель и запускаем grid_search\n",
    "model_log = LogisticRegression(random_state=281122)\n",
    "grid_log = [{'solver': ['newton-cg', 'lbfgs', 'liblinear', 'sag', 'saga'],\n",
    "             'penalty':['none', 'elasticnet', 'l1', 'l2'],\n",
    "             'C':[0.001, 0.01, 0.1, 1, 10, 100]}]\n",
    "grid_log = GridSearchCV(model_log, grid_log, scoring = 'roc_auc')\n",
    "grid_log.fit(X_train_ohe, y_train)\n",
    "# фиксируем время\n",
    "stop = time.time()"
   ]
  },
  {
   "cell_type": "code",
   "execution_count": 45,
   "id": "29fbcbed",
   "metadata": {},
   "outputs": [
    {
     "name": "stdout",
     "output_type": "stream",
     "text": [
      "LogisticRegression для подбора параметров требует 1.97 минут\n",
      "Лучшие параметры модели {'C': 100, 'penalty': 'l1', 'solver': 'liblinear'}\n",
      "roc_auc 0.8419335467615421\n"
     ]
    }
   ],
   "source": [
    "print('LogisticRegression для подбора параметров требует', round((stop - start)/60, 2), 'минут')\n",
    "print(f'Лучшие параметры модели {grid_log.best_params_}')\n",
    "print('roc_auc', abs(grid_log.best_score_))"
   ]
  },
  {
   "cell_type": "markdown",
   "id": "9daa82c1",
   "metadata": {},
   "source": [
    "###  Вывод\n",
    "\n",
    "Признаки подготовлены соответсвенно используемым моделям, результаты следующие:\n",
    "\n",
    "- LGBMClassifier для подбора параметров требует 2.13 минут\n",
    "  Лучшие параметры модели {'learning_rate': 0.1, 'max_depth': 8, 'n_estimators': 200}\n",
    "  roc_auc 0.88\n",
    "  \n",
    "  \n",
    "- CatBoostClassifier для подбора параметров требует 1.63 минут\n",
    "  Лучшие параметры модели {'learning_rate': 0.1, 'max_depth': 4, 'n_estimators': 200}\n",
    "  roc_auc 0.89\n",
    "  \n",
    "  \n",
    "- LogisticRegression для подбора параметров требует 0.21 минут\n",
    "  Лучшие параметры модели {'C': 10, 'penalty': 'l1', 'solver': 'liblinear'}\n",
    "  roc_auc 0.84"
   ]
  },
  {
   "cell_type": "markdown",
   "id": "73af53b8",
   "metadata": {},
   "source": [
    "## Проверка лучшей модели на тесте\n",
    "\n",
    "Тк лучшую метрику показал CatBoostClassifier, проверим её на тесте. Посчитаем дополнительно метрики F1 и Accuracy.\n",
    "\n",
    "В дополнение выясним какие признаки получили наибольшую значимость."
   ]
  },
  {
   "cell_type": "code",
   "execution_count": 51,
   "id": "ebe7ba70",
   "metadata": {},
   "outputs": [
    {
     "name": "stdout",
     "output_type": "stream",
     "text": [
      "roc_auc_score 0.9084138750068419\n",
      "f1_score 0.7009803921568628\n",
      "accuracy_score 0.8612059158134243\n"
     ]
    },
    {
     "data": {
      "text/html": [
       "<div>\n",
       "<style scoped>\n",
       "    .dataframe tbody tr th:only-of-type {\n",
       "        vertical-align: middle;\n",
       "    }\n",
       "\n",
       "    .dataframe tbody tr th {\n",
       "        vertical-align: top;\n",
       "    }\n",
       "\n",
       "    .dataframe thead th {\n",
       "        text-align: right;\n",
       "    }\n",
       "</style>\n",
       "<table border=\"1\" class=\"dataframe\">\n",
       "  <thead>\n",
       "    <tr style=\"text-align: right;\">\n",
       "      <th></th>\n",
       "      <th>feature_importance</th>\n",
       "      <th>feature_names</th>\n",
       "    </tr>\n",
       "  </thead>\n",
       "  <tbody>\n",
       "    <tr>\n",
       "      <th>5</th>\n",
       "      <td>53.624379</td>\n",
       "      <td>avg_month</td>\n",
       "    </tr>\n",
       "    <tr>\n",
       "      <th>0</th>\n",
       "      <td>12.511752</td>\n",
       "      <td>type</td>\n",
       "    </tr>\n",
       "    <tr>\n",
       "      <th>3</th>\n",
       "      <td>11.135244</td>\n",
       "      <td>monthly_charges</td>\n",
       "    </tr>\n",
       "    <tr>\n",
       "      <th>4</th>\n",
       "      <td>6.305516</td>\n",
       "      <td>total_charges</td>\n",
       "    </tr>\n",
       "    <tr>\n",
       "      <th>10</th>\n",
       "      <td>6.132100</td>\n",
       "      <td>internet_service</td>\n",
       "    </tr>\n",
       "    <tr>\n",
       "      <th>2</th>\n",
       "      <td>2.722596</td>\n",
       "      <td>payment_method</td>\n",
       "    </tr>\n",
       "    <tr>\n",
       "      <th>1</th>\n",
       "      <td>1.230185</td>\n",
       "      <td>paperless_billing</td>\n",
       "    </tr>\n",
       "    <tr>\n",
       "      <th>11</th>\n",
       "      <td>1.085225</td>\n",
       "      <td>online_security</td>\n",
       "    </tr>\n",
       "    <tr>\n",
       "      <th>17</th>\n",
       "      <td>0.900936</td>\n",
       "      <td>multiple_lines</td>\n",
       "    </tr>\n",
       "    <tr>\n",
       "      <th>15</th>\n",
       "      <td>0.846756</td>\n",
       "      <td>streaming_tv</td>\n",
       "    </tr>\n",
       "    <tr>\n",
       "      <th>16</th>\n",
       "      <td>0.842524</td>\n",
       "      <td>streaming_movies</td>\n",
       "    </tr>\n",
       "    <tr>\n",
       "      <th>14</th>\n",
       "      <td>0.774541</td>\n",
       "      <td>tech_support</td>\n",
       "    </tr>\n",
       "    <tr>\n",
       "      <th>7</th>\n",
       "      <td>0.575814</td>\n",
       "      <td>senior_citizen</td>\n",
       "    </tr>\n",
       "    <tr>\n",
       "      <th>6</th>\n",
       "      <td>0.503120</td>\n",
       "      <td>gender</td>\n",
       "    </tr>\n",
       "    <tr>\n",
       "      <th>9</th>\n",
       "      <td>0.347662</td>\n",
       "      <td>dependents</td>\n",
       "    </tr>\n",
       "    <tr>\n",
       "      <th>13</th>\n",
       "      <td>0.242625</td>\n",
       "      <td>device_protection</td>\n",
       "    </tr>\n",
       "    <tr>\n",
       "      <th>12</th>\n",
       "      <td>0.194298</td>\n",
       "      <td>online_backup</td>\n",
       "    </tr>\n",
       "    <tr>\n",
       "      <th>8</th>\n",
       "      <td>0.024727</td>\n",
       "      <td>partner</td>\n",
       "    </tr>\n",
       "  </tbody>\n",
       "</table>\n",
       "</div>"
      ],
      "text/plain": [
       "    feature_importance      feature_names\n",
       "5            53.624379          avg_month\n",
       "0            12.511752               type\n",
       "3            11.135244    monthly_charges\n",
       "4             6.305516      total_charges\n",
       "10            6.132100   internet_service\n",
       "2             2.722596     payment_method\n",
       "1             1.230185  paperless_billing\n",
       "11            1.085225    online_security\n",
       "17            0.900936     multiple_lines\n",
       "15            0.846756       streaming_tv\n",
       "16            0.842524   streaming_movies\n",
       "14            0.774541       tech_support\n",
       "7             0.575814     senior_citizen\n",
       "6             0.503120             gender\n",
       "9             0.347662         dependents\n",
       "13            0.242625  device_protection\n",
       "12            0.194298      online_backup\n",
       "8             0.024727            partner"
      ]
     },
     "execution_count": 51,
     "metadata": {},
     "output_type": "execute_result"
    }
   ],
   "source": [
    "# создоём модель, обучаем и предсказываем\n",
    "model = CatBoostClassifier(random_state=281122, verbose=False, learning_rate=0.1, max_depth=4, n_estimators=200)\n",
    "model.fit(X_train_boost, y_train)\n",
    "predict = model.predict(X_test_boost)\n",
    "predict_probs = model.predict_proba(X_test_boost)\n",
    "# сохраняем вероятности только для положительного исхода\n",
    "predict_probs = predict_probs[:, 1]\n",
    "# рассчитываем метрики\n",
    "print('roc_auc_score', roc_auc_score(y_test, predict_probs))\n",
    "print('f1_score', f1_score(y_test, predict))\n",
    "print('accuracy_score', accuracy_score(y_test, predict))\n",
    "# выводим признаки\n",
    "pd.DataFrame({'feature_importance': model.get_feature_importance(), \n",
    "              'feature_names': X_train.columns}).sort_values(by=['feature_importance'], ascending=False)\n"
   ]
  },
  {
   "cell_type": "markdown",
   "id": "b730a1be",
   "metadata": {},
   "source": [
    "Строим ROC-кривую."
   ]
  },
  {
   "cell_type": "code",
   "execution_count": 52,
   "id": "8fbba3c7",
   "metadata": {},
   "outputs": [
    {
     "data": {
      "image/png": "[encoded data removed]",
      "text/plain": [
       "<Figure size 504x504 with 1 Axes>"
      ]
     },
     "metadata": {},
     "output_type": "display_data"
    }
   ],
   "source": [
    "# строим ROC-кривую\n",
    "fpr, tpr, thresholds = roc_curve(y_test, predict_probs)\n",
    "sns.set_theme(style='darkgrid')\n",
    "plt.figure(figsize=(7, 7))\n",
    "plt.plot(fpr, tpr, linestyle='-');\n",
    "\n",
    "# ROC-кривая случайной модели (выглядит как прямая)\n",
    "plt.plot([0, 1], [0, 1], linestyle='--');\n",
    "plt.ylim([0, 1])\n",
    "plt.xlim([0, 1])\n",
    "plt.xlabel(\"False Positive Rate\")\n",
    "plt.ylabel(\"True Positive Rate\")\n",
    "plt.title(\"ROC-кривая\")\n",
    "plt.show();"
   ]
  },
  {
   "cell_type": "markdown",
   "id": "cdbb204c",
   "metadata": {},
   "source": [
    "Видно, что модель отлично справилась с тестом и выглядит намного эффективнее случайной модели. Опишем результаты в финальном выводе."
   ]
  },
  {
   "cell_type": "markdown",
   "id": "0867c439",
   "metadata": {},
   "source": [
    "## Вывод по исследованию\n",
    "\n",
    "Исследование проведено в четыре этапа:\n",
    "\n",
    "1.\tДанные загружены, проведено ознакомление. Привёл все данные к единому стилю, чтобы отчет был более читаемым и с данными было удобнее работать. Проверил на дубликаты. При приведении типов данных к соответствующим информации выяснилось, что вместо пропусков присутствуют пробелы, которые соответсвуют новым клиентам, тк они не несут в себе информации – я их удалил. В таблицах разное количество данных, это можно объяснить тем, что не все клиенты пользуются всеми услугами. Выделил целевой признак - покинул клиент компанию или нет. В целевом признаке есть дисбаланс 73% / 27% (ушедших клиентов меньше).\n",
    "\n",
    "\n",
    "2.\tВ начале я предполагал запустить модели на все той информации, которая была изначально и посмотреть на метрики, но в процессе понял, что даты не несут важной информации, а сколько клиенты был дней в компании – это важная информация. Поэтому я создал новый признак – количество дней, которые клиент был активным. В дальнейшем, если бы метрики не доходили до заданного значения, я предполагал создать еще признаки, например, классификацию клиентов на группы по платежам, среднемесячная выручка с каждого клиента. Объединил данные в одну таблицу по полю \"customer_id\". Появились пропуски - это, предположительно происходит потому, что некоторые клиенты пользуются не всеми услугами. Заполнил пропуски значением \"no\", по аналогии с другими категориальными данными. Проверил все признаки на мультколлинеарность и корреляцию с целевым признаком, никаких неожиданных аномалий не выяснил. Наблюдается высокая корреляция у признака 'кол-во дней, которые клиент был актиным' и признаков, связанных с телевидением, кино и интернетом, что логично, раз люди платят за них, то они и отображаются в данных. Так же высокая корреляция у признака 'общая выручка', здесь аналогичные с прошлым признаком причины. Высокая корреляция с целевым признаком ни у одного признака не наблюдается. Разделил данные на признаки и целевой признак. Удалил не информативны для модели данные. Разделил данные на обучающую и тестовую выборки в соотношении 3/1, дисбаланс учтён.\n",
    "\n",
    "\n",
    "3.\tВ начале я планировал попробовать модели основанные на градиентном бустинге, т к они хорошо справляются с табличными данными, и использовать одну простую модель, для сравнения. Нейронные сети к данной задаче я бы пробовал, если метрика не могла бы дойти до заданной, на мой взгляд, они слишком «нагруженные» для этой задачи. В ходе подготовки признаков возникла проблема с линейной моделью: техника кодирования get_dummies могла привести к тому, что тренировочная и тестовая выборки могут не совпадать по выходным столбцам и требуется дополнительная проверка. Решением послужило кодирование с помощью OneHotEncoder. В результате бустинг, как и предполагалось, показала хорошие метрики и потребность в других моделях отпала:\n",
    "\n",
    "\n",
    " •\tLGBMClassifier для подбора параметров требует 2.13 минут. Лучшие параметры модели {'learning_rate': 0.1, 'max_depth': 8, 'n_estimators': 200} roc_auc 0.88\n",
    " \n",
    " •\tCatBoostClassifier для подбора параметров требует 1.63 минут. Лучшие параметры модели {'learning_rate': 0.1, 'max_depth': 4, 'n_estimators': 200} roc_auc 0.89\n",
    " \n",
    " •\tLogisticRegression для подбора параметров требует 0.21 минут. Лучшие параметры модели {'C': 10, 'penalty': 'l1', 'solver': 'liblinear'} roc_auc 0.84\n",
    " \n",
    " \n",
    "4.\tЛучшая модель CatBoostClassifier на тесте показала следующие результаты по метрикам:\n",
    "\n",
    " •\troc_auc_score 0.90\n",
    " \n",
    " •\tf1_score 0.70\n",
    " \n",
    " •\taccuracy_score 0.86\n",
    "\n",
    "Построенная модель предсказывает уход клиента с вероятностью 86%. Модель заметно отличается от случайной модели в лучшую сторону, а главная метрика даже немного увеличилась AUC-ROC = 0.9. Соотношение точности и полноты 70%.\n",
    "Самым важным признаком получился созданный признак \"количество дней, которое клиент был активным\", что логично: чем больше клиент в компании, тем он лояльнее. Далее идёт признак \"тип оплаты\" - если клиент оплачивает сразу год, он не думает в ближайшее время уходить. Далее следую признаки, связанные со стоимостью услуг за месяц, и общая выручка за все услуги с клиента. Всё это указывает на то, что показатели, связанные с продолжительностью сотрудничества и деньгами, говорят о лояльности клиентов.\n",
    "Возможно предложить клиентам промокоды на оплату за год, полгода или оплату допуслуг, тк если клиент начинает платить больше - вероятность его ухода снижается."
   ]
  }
 ],
 "metadata": {
  "ExecuteTimeLog": [
   {
    "duration": 1417,
    "start_time": "2022-12-05T12:26:33.201Z"
   },
   {
    "duration": 343,
    "start_time": "2022-12-05T12:26:51.917Z"
   },
   {
    "duration": 106,
    "start_time": "2022-12-05T12:26:57.864Z"
   },
   {
    "duration": 18,
    "start_time": "2022-12-05T12:26:59.158Z"
   },
   {
    "duration": 47,
    "start_time": "2022-12-05T12:26:59.490Z"
   },
   {
    "duration": 37,
    "start_time": "2022-12-05T12:27:00.596Z"
   },
   {
    "duration": 121,
    "start_time": "2022-12-05T12:27:02.320Z"
   },
   {
    "duration": 20,
    "start_time": "2022-12-05T12:27:04.401Z"
   },
   {
    "duration": 7,
    "start_time": "2022-12-05T12:27:14.590Z"
   },
   {
    "duration": 7,
    "start_time": "2022-12-05T12:27:14.986Z"
   },
   {
    "duration": 6,
    "start_time": "2022-12-05T12:27:15.543Z"
   },
   {
    "duration": 10,
    "start_time": "2022-12-05T12:27:22.764Z"
   },
   {
    "duration": 15,
    "start_time": "2022-12-05T12:27:22.829Z"
   },
   {
    "duration": 24,
    "start_time": "2022-12-05T12:27:22.846Z"
   },
   {
    "duration": 139,
    "start_time": "2022-12-05T12:27:22.920Z"
   },
   {
    "duration": 9,
    "start_time": "2022-12-05T12:27:23.737Z"
   },
   {
    "duration": 45,
    "start_time": "2022-12-05T12:27:23.747Z"
   },
   {
    "duration": 6,
    "start_time": "2022-12-05T12:27:23.794Z"
   },
   {
    "duration": 17,
    "start_time": "2022-12-05T12:27:23.801Z"
   },
   {
    "duration": 37,
    "start_time": "2022-12-05T12:27:23.820Z"
   },
   {
    "duration": 16,
    "start_time": "2022-12-05T12:27:23.859Z"
   },
   {
    "duration": 82,
    "start_time": "2022-12-05T12:27:23.876Z"
   },
   {
    "duration": 12,
    "start_time": "2022-12-05T12:27:23.959Z"
   },
   {
    "duration": 44,
    "start_time": "2022-12-05T12:27:23.972Z"
   },
   {
    "duration": 34,
    "start_time": "2022-12-05T12:27:25.296Z"
   },
   {
    "duration": 110,
    "start_time": "2022-12-05T12:27:28.002Z"
   },
   {
    "duration": 7,
    "start_time": "2022-12-05T12:27:28.656Z"
   },
   {
    "duration": 17,
    "start_time": "2022-12-05T12:27:30.238Z"
   },
   {
    "duration": 6,
    "start_time": "2022-12-05T12:27:30.668Z"
   },
   {
    "duration": 170,
    "start_time": "2022-12-05T12:27:35.712Z"
   },
   {
    "duration": 33,
    "start_time": "2022-12-05T12:27:37.358Z"
   },
   {
    "duration": 18,
    "start_time": "2022-12-05T12:27:40.784Z"
   },
   {
    "duration": 19,
    "start_time": "2022-12-05T12:27:43.837Z"
   },
   {
    "duration": 23,
    "start_time": "2022-12-05T12:27:44.344Z"
   },
   {
    "duration": 6,
    "start_time": "2022-12-05T12:27:53.989Z"
   },
   {
    "duration": 14,
    "start_time": "2022-12-05T12:27:54.852Z"
   },
   {
    "duration": 133,
    "start_time": "2022-12-05T12:27:57.203Z"
   },
   {
    "duration": 127830,
    "start_time": "2022-12-05T12:28:11.152Z"
   },
   {
    "duration": 6,
    "start_time": "2022-12-05T12:30:18.985Z"
   },
   {
    "duration": 26,
    "start_time": "2022-12-05T12:48:33.484Z"
   },
   {
    "duration": 16,
    "start_time": "2022-12-05T12:49:37.342Z"
   },
   {
    "duration": 28,
    "start_time": "2022-12-05T12:49:51.374Z"
   },
   {
    "duration": 4,
    "start_time": "2022-12-05T12:50:10.630Z"
   },
   {
    "duration": 33,
    "start_time": "2022-12-05T12:50:33.303Z"
   },
   {
    "duration": 32,
    "start_time": "2022-12-05T12:51:08.196Z"
   },
   {
    "duration": 32,
    "start_time": "2022-12-05T12:51:14.528Z"
   },
   {
    "duration": 16,
    "start_time": "2022-12-05T12:51:52.590Z"
   },
   {
    "duration": 14,
    "start_time": "2022-12-05T12:53:35.309Z"
   },
   {
    "duration": 42,
    "start_time": "2022-12-05T12:53:53.186Z"
   },
   {
    "duration": 35,
    "start_time": "2022-12-05T12:55:07.377Z"
   },
   {
    "duration": 32,
    "start_time": "2022-12-05T12:55:14.893Z"
   },
   {
    "duration": 182,
    "start_time": "2022-12-07T15:19:36.810Z"
   },
   {
    "duration": 114,
    "start_time": "2022-12-07T18:43:30.705Z"
   },
   {
    "duration": 1304,
    "start_time": "2022-12-09T09:26:08.525Z"
   }
  ],
  "kernelspec": {
   "display_name": "Python 3 (ipykernel)",
   "language": "python",
   "name": "python3"
  },
  "language_info": {
   "codemirror_mode": {
    "name": "ipython",
    "version": 3
   },
   "file_extension": ".py",
   "mimetype": "text/x-python",
   "name": "python",
   "nbconvert_exporter": "python",
   "pygments_lexer": "ipython3",
   "version": "3.9.7"
  },
  "toc": {
   "base_numbering": 1,
   "nav_menu": {},
   "number_sections": true,
   "sideBar": true,
   "skip_h1_title": true,
   "title_cell": "Table of Contents",
   "title_sidebar": "Contents",
   "toc_cell": false,
   "toc_position": {},
   "toc_section_display": true,
   "toc_window_display": true
  }
 },
 "nbformat": 4,
 "nbformat_minor": 5
}
