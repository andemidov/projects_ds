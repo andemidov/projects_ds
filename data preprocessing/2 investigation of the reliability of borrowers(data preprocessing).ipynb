{
 "cells": [
  {
   "cell_type": "markdown",
   "id": "e1542892",
   "metadata": {},
   "source": [
    "# Исследование надежности заемщиков."
   ]
  },
  {
   "cell_type": "markdown",
   "id": "72e2e839",
   "metadata": {},
   "source": [
    "Банк-заказчик хочет улучшить модель кредитного скоринга в кредитном отделе - специальной системы, которая оценивает способность потенциального заёмщика вернуть кредит банку.\n",
    "\n",
    "**Цель исследования**\n",
    "Проверить влияет ли семейное положение и количество детей клиента на факт погашения кредита в срок.\n",
    "\n",
    "**Ход исследования**\n",
    "Данные от банка — статистика о платёжеспособности клиентов получаем из файла `data.csv`. О качестве данных ничего не известно. Поэтому перед исслеванием сделаем обзор данных на ошибки и, при их наличии, поищем возможность исправить самые критичные.\n",
    " \n",
    "Таким образом, исследование пройдёт в три этапа:\n",
    " 1. Обзор данных.\n",
    " 2. Предобработка данных.\n",
    " 3. влияет ли семейное положение и количество детей клиента на факт погашения кредита в срок."
   ]
  },
  {
   "cell_type": "markdown",
   "id": "ff6e640c",
   "metadata": {},
   "source": [
    "### Шаг 1. Обзор данных\n",
    "\n",
    "Составим представление о даных, которые мы получили."
   ]
  },
  {
   "cell_type": "code",
   "execution_count": 1,
   "id": "656ffdeb",
   "metadata": {
    "scrolled": false
   },
   "outputs": [
    {
     "name": "stdout",
     "output_type": "stream",
     "text": [
      "<class 'pandas.core.frame.DataFrame'>\n",
      "RangeIndex: 21525 entries, 0 to 21524\n",
      "Data columns (total 12 columns):\n",
      " #   Column            Non-Null Count  Dtype  \n",
      "---  ------            --------------  -----  \n",
      " 0   children          21525 non-null  int64  \n",
      " 1   days_employed     19351 non-null  float64\n",
      " 2   dob_years         21525 non-null  int64  \n",
      " 3   education         21525 non-null  object \n",
      " 4   education_id      21525 non-null  int64  \n",
      " 5   family_status     21525 non-null  object \n",
      " 6   family_status_id  21525 non-null  int64  \n",
      " 7   gender            21525 non-null  object \n",
      " 8   income_type       21525 non-null  object \n",
      " 9   debt              21525 non-null  int64  \n",
      " 10  total_income      19351 non-null  float64\n",
      " 11  purpose           21525 non-null  object \n",
      "dtypes: float64(2), int64(5), object(5)\n",
      "memory usage: 2.0+ MB\n"
     ]
    }
   ],
   "source": [
    "#импортируем библиотеку pandas, даём ей сокращённое наименование pd\n",
    "import pandas as pd\n",
    "\n",
    "#читаем присланную таблицу и сохраняем в переменную data\n",
    "data = pd.read_csv('/datasets/data.csv')\n",
    "\n",
    "#выведем информацию о таблице\n",
    "data.info()"
   ]
  },
  {
   "cell_type": "markdown",
   "id": "4a3c20a3",
   "metadata": {},
   "source": [
    "В таблице 21525 строк и двенадцать столбцов.\n",
    "В названиях столбцов нет нарушений. Количество значий в столбцах различается - сушествуют пропуски.\n",
    "Типы данных int64, float64 и object. \n",
    "\n",
    "Описание данных:\n",
    "- children — количество детей в семье\n",
    "- days_employed — общий трудовой стаж в днях\n",
    "- dob_years — возраст клиента в годах\n",
    "- education — уровень образования клиента\n",
    "- education_id — идентификатор уровня образования\n",
    "- family_status — семейное положение\n",
    "- family_status_id — идентификатор семейного положения\n",
    "- gender — пол клиента\n",
    "- income_type — тип занятости\n",
    "- debt — имел ли задолженность по возврату кредитов\n",
    "- total_income — ежемесячный доход\n",
    "- purpose — цель получения кредита"
   ]
  },
  {
   "cell_type": "code",
   "execution_count": 2,
   "id": "8c78a2a8",
   "metadata": {},
   "outputs": [
    {
     "data": {
      "text/html": [
       "<div>\n",
       "<style scoped>\n",
       "    .dataframe tbody tr th:only-of-type {\n",
       "        vertical-align: middle;\n",
       "    }\n",
       "\n",
       "    .dataframe tbody tr th {\n",
       "        vertical-align: top;\n",
       "    }\n",
       "\n",
       "    .dataframe thead th {\n",
       "        text-align: right;\n",
       "    }\n",
       "</style>\n",
       "<table border=\"1\" class=\"dataframe\">\n",
       "  <thead>\n",
       "    <tr style=\"text-align: right;\">\n",
       "      <th></th>\n",
       "      <th>children</th>\n",
       "      <th>days_employed</th>\n",
       "      <th>dob_years</th>\n",
       "      <th>education</th>\n",
       "      <th>education_id</th>\n",
       "      <th>family_status</th>\n",
       "      <th>family_status_id</th>\n",
       "      <th>gender</th>\n",
       "      <th>income_type</th>\n",
       "      <th>debt</th>\n",
       "      <th>total_income</th>\n",
       "      <th>purpose</th>\n",
       "    </tr>\n",
       "  </thead>\n",
       "  <tbody>\n",
       "    <tr>\n",
       "      <th>0</th>\n",
       "      <td>1</td>\n",
       "      <td>-8437.673028</td>\n",
       "      <td>42</td>\n",
       "      <td>высшее</td>\n",
       "      <td>0</td>\n",
       "      <td>женат / замужем</td>\n",
       "      <td>0</td>\n",
       "      <td>F</td>\n",
       "      <td>сотрудник</td>\n",
       "      <td>0</td>\n",
       "      <td>253875.639453</td>\n",
       "      <td>покупка жилья</td>\n",
       "    </tr>\n",
       "    <tr>\n",
       "      <th>1</th>\n",
       "      <td>1</td>\n",
       "      <td>-4024.803754</td>\n",
       "      <td>36</td>\n",
       "      <td>среднее</td>\n",
       "      <td>1</td>\n",
       "      <td>женат / замужем</td>\n",
       "      <td>0</td>\n",
       "      <td>F</td>\n",
       "      <td>сотрудник</td>\n",
       "      <td>0</td>\n",
       "      <td>112080.014102</td>\n",
       "      <td>приобретение автомобиля</td>\n",
       "    </tr>\n",
       "    <tr>\n",
       "      <th>2</th>\n",
       "      <td>0</td>\n",
       "      <td>-5623.422610</td>\n",
       "      <td>33</td>\n",
       "      <td>Среднее</td>\n",
       "      <td>1</td>\n",
       "      <td>женат / замужем</td>\n",
       "      <td>0</td>\n",
       "      <td>M</td>\n",
       "      <td>сотрудник</td>\n",
       "      <td>0</td>\n",
       "      <td>145885.952297</td>\n",
       "      <td>покупка жилья</td>\n",
       "    </tr>\n",
       "    <tr>\n",
       "      <th>3</th>\n",
       "      <td>3</td>\n",
       "      <td>-4124.747207</td>\n",
       "      <td>32</td>\n",
       "      <td>среднее</td>\n",
       "      <td>1</td>\n",
       "      <td>женат / замужем</td>\n",
       "      <td>0</td>\n",
       "      <td>M</td>\n",
       "      <td>сотрудник</td>\n",
       "      <td>0</td>\n",
       "      <td>267628.550329</td>\n",
       "      <td>дополнительное образование</td>\n",
       "    </tr>\n",
       "    <tr>\n",
       "      <th>4</th>\n",
       "      <td>0</td>\n",
       "      <td>340266.072047</td>\n",
       "      <td>53</td>\n",
       "      <td>среднее</td>\n",
       "      <td>1</td>\n",
       "      <td>гражданский брак</td>\n",
       "      <td>1</td>\n",
       "      <td>F</td>\n",
       "      <td>пенсионер</td>\n",
       "      <td>0</td>\n",
       "      <td>158616.077870</td>\n",
       "      <td>сыграть свадьбу</td>\n",
       "    </tr>\n",
       "    <tr>\n",
       "      <th>5</th>\n",
       "      <td>0</td>\n",
       "      <td>-926.185831</td>\n",
       "      <td>27</td>\n",
       "      <td>высшее</td>\n",
       "      <td>0</td>\n",
       "      <td>гражданский брак</td>\n",
       "      <td>1</td>\n",
       "      <td>M</td>\n",
       "      <td>компаньон</td>\n",
       "      <td>0</td>\n",
       "      <td>255763.565419</td>\n",
       "      <td>покупка жилья</td>\n",
       "    </tr>\n",
       "    <tr>\n",
       "      <th>6</th>\n",
       "      <td>0</td>\n",
       "      <td>-2879.202052</td>\n",
       "      <td>43</td>\n",
       "      <td>высшее</td>\n",
       "      <td>0</td>\n",
       "      <td>женат / замужем</td>\n",
       "      <td>0</td>\n",
       "      <td>F</td>\n",
       "      <td>компаньон</td>\n",
       "      <td>0</td>\n",
       "      <td>240525.971920</td>\n",
       "      <td>операции с жильем</td>\n",
       "    </tr>\n",
       "    <tr>\n",
       "      <th>7</th>\n",
       "      <td>0</td>\n",
       "      <td>-152.779569</td>\n",
       "      <td>50</td>\n",
       "      <td>СРЕДНЕЕ</td>\n",
       "      <td>1</td>\n",
       "      <td>женат / замужем</td>\n",
       "      <td>0</td>\n",
       "      <td>M</td>\n",
       "      <td>сотрудник</td>\n",
       "      <td>0</td>\n",
       "      <td>135823.934197</td>\n",
       "      <td>образование</td>\n",
       "    </tr>\n",
       "    <tr>\n",
       "      <th>8</th>\n",
       "      <td>2</td>\n",
       "      <td>-6929.865299</td>\n",
       "      <td>35</td>\n",
       "      <td>ВЫСШЕЕ</td>\n",
       "      <td>0</td>\n",
       "      <td>гражданский брак</td>\n",
       "      <td>1</td>\n",
       "      <td>F</td>\n",
       "      <td>сотрудник</td>\n",
       "      <td>0</td>\n",
       "      <td>95856.832424</td>\n",
       "      <td>на проведение свадьбы</td>\n",
       "    </tr>\n",
       "    <tr>\n",
       "      <th>9</th>\n",
       "      <td>0</td>\n",
       "      <td>-2188.756445</td>\n",
       "      <td>41</td>\n",
       "      <td>среднее</td>\n",
       "      <td>1</td>\n",
       "      <td>женат / замужем</td>\n",
       "      <td>0</td>\n",
       "      <td>M</td>\n",
       "      <td>сотрудник</td>\n",
       "      <td>0</td>\n",
       "      <td>144425.938277</td>\n",
       "      <td>покупка жилья для семьи</td>\n",
       "    </tr>\n",
       "  </tbody>\n",
       "</table>\n",
       "</div>"
      ],
      "text/plain": [
       "   children  days_employed  dob_years education  education_id  \\\n",
       "0         1   -8437.673028         42    высшее             0   \n",
       "1         1   -4024.803754         36   среднее             1   \n",
       "2         0   -5623.422610         33   Среднее             1   \n",
       "3         3   -4124.747207         32   среднее             1   \n",
       "4         0  340266.072047         53   среднее             1   \n",
       "5         0    -926.185831         27    высшее             0   \n",
       "6         0   -2879.202052         43    высшее             0   \n",
       "7         0    -152.779569         50   СРЕДНЕЕ             1   \n",
       "8         2   -6929.865299         35    ВЫСШЕЕ             0   \n",
       "9         0   -2188.756445         41   среднее             1   \n",
       "\n",
       "      family_status  family_status_id gender income_type  debt   total_income  \\\n",
       "0   женат / замужем                 0      F   сотрудник     0  253875.639453   \n",
       "1   женат / замужем                 0      F   сотрудник     0  112080.014102   \n",
       "2   женат / замужем                 0      M   сотрудник     0  145885.952297   \n",
       "3   женат / замужем                 0      M   сотрудник     0  267628.550329   \n",
       "4  гражданский брак                 1      F   пенсионер     0  158616.077870   \n",
       "5  гражданский брак                 1      M   компаньон     0  255763.565419   \n",
       "6   женат / замужем                 0      F   компаньон     0  240525.971920   \n",
       "7   женат / замужем                 0      M   сотрудник     0  135823.934197   \n",
       "8  гражданский брак                 1      F   сотрудник     0   95856.832424   \n",
       "9   женат / замужем                 0      M   сотрудник     0  144425.938277   \n",
       "\n",
       "                      purpose  \n",
       "0               покупка жилья  \n",
       "1     приобретение автомобиля  \n",
       "2               покупка жилья  \n",
       "3  дополнительное образование  \n",
       "4             сыграть свадьбу  \n",
       "5               покупка жилья  \n",
       "6           операции с жильем  \n",
       "7                 образование  \n",
       "8       на проведение свадьбы  \n",
       "9     покупка жилья для семьи  "
      ]
     },
     "execution_count": 2,
     "metadata": {},
     "output_type": "execute_result"
    }
   ],
   "source": [
    "#выводим первые 10 строк для ознакомления\n",
    "data.head(10)"
   ]
  },
  {
   "cell_type": "markdown",
   "id": "0d00199d",
   "metadata": {},
   "source": [
    "#### Выводы"
   ]
  },
  {
   "cell_type": "markdown",
   "id": "ab8e3410",
   "metadata": {},
   "source": [
    "В столбцах встречаются:\n",
    "- пропущенные значения, \n",
    "- отрицательные значения там, где их, предположительно, быть не должно,\n",
    "- испльзуются строчные буквы,\n",
    "- неудобный формат данных некоторых столбцов,\n",
    "- не во всех столбцах понятная информация,\n",
    "- есть дубликаты."
   ]
  },
  {
   "cell_type": "markdown",
   "id": "7479be6f",
   "metadata": {},
   "source": [
    "### Шаг 2.1 Заполнение пропусков"
   ]
  },
  {
   "cell_type": "markdown",
   "id": "70cee33a",
   "metadata": {},
   "source": [
    "Проверим в каких столбцах есть пропуски."
   ]
  },
  {
   "cell_type": "code",
   "execution_count": 3,
   "id": "9a3285f4",
   "metadata": {},
   "outputs": [
    {
     "data": {
      "text/plain": [
       "children               0\n",
       "days_employed       2174\n",
       "dob_years              0\n",
       "education              0\n",
       "education_id           0\n",
       "family_status          0\n",
       "family_status_id       0\n",
       "gender                 0\n",
       "income_type            0\n",
       "debt                   0\n",
       "total_income        2174\n",
       "purpose                0\n",
       "dtype: int64"
      ]
     },
     "execution_count": 3,
     "metadata": {},
     "output_type": "execute_result"
    }
   ],
   "source": [
    "#подсчёт пропущеных значений\n",
    "data.isna().sum()"
   ]
  },
  {
   "cell_type": "markdown",
   "id": "326f8256",
   "metadata": {},
   "source": [
    "Количество пропусков в столбцах 'days_employed' и 'total_income' одинаково. Их по 2174 - это примерно 10%. Проверим что это за пропуски:"
   ]
  },
  {
   "cell_type": "code",
   "execution_count": 4,
   "id": "7f4f7c09",
   "metadata": {},
   "outputs": [
    {
     "data": {
      "text/html": [
       "<div>\n",
       "<style scoped>\n",
       "    .dataframe tbody tr th:only-of-type {\n",
       "        vertical-align: middle;\n",
       "    }\n",
       "\n",
       "    .dataframe tbody tr th {\n",
       "        vertical-align: top;\n",
       "    }\n",
       "\n",
       "    .dataframe thead th {\n",
       "        text-align: right;\n",
       "    }\n",
       "</style>\n",
       "<table border=\"1\" class=\"dataframe\">\n",
       "  <thead>\n",
       "    <tr style=\"text-align: right;\">\n",
       "      <th></th>\n",
       "      <th>children</th>\n",
       "      <th>days_employed</th>\n",
       "      <th>dob_years</th>\n",
       "      <th>education</th>\n",
       "      <th>education_id</th>\n",
       "      <th>family_status</th>\n",
       "      <th>family_status_id</th>\n",
       "      <th>gender</th>\n",
       "      <th>income_type</th>\n",
       "      <th>debt</th>\n",
       "      <th>total_income</th>\n",
       "      <th>purpose</th>\n",
       "    </tr>\n",
       "  </thead>\n",
       "  <tbody>\n",
       "    <tr>\n",
       "      <th>12</th>\n",
       "      <td>0</td>\n",
       "      <td>NaN</td>\n",
       "      <td>65</td>\n",
       "      <td>среднее</td>\n",
       "      <td>1</td>\n",
       "      <td>гражданский брак</td>\n",
       "      <td>1</td>\n",
       "      <td>M</td>\n",
       "      <td>пенсионер</td>\n",
       "      <td>0</td>\n",
       "      <td>NaN</td>\n",
       "      <td>сыграть свадьбу</td>\n",
       "    </tr>\n",
       "    <tr>\n",
       "      <th>26</th>\n",
       "      <td>0</td>\n",
       "      <td>NaN</td>\n",
       "      <td>41</td>\n",
       "      <td>среднее</td>\n",
       "      <td>1</td>\n",
       "      <td>женат / замужем</td>\n",
       "      <td>0</td>\n",
       "      <td>M</td>\n",
       "      <td>госслужащий</td>\n",
       "      <td>0</td>\n",
       "      <td>NaN</td>\n",
       "      <td>образование</td>\n",
       "    </tr>\n",
       "    <tr>\n",
       "      <th>29</th>\n",
       "      <td>0</td>\n",
       "      <td>NaN</td>\n",
       "      <td>63</td>\n",
       "      <td>среднее</td>\n",
       "      <td>1</td>\n",
       "      <td>Не женат / не замужем</td>\n",
       "      <td>4</td>\n",
       "      <td>F</td>\n",
       "      <td>пенсионер</td>\n",
       "      <td>0</td>\n",
       "      <td>NaN</td>\n",
       "      <td>строительство жилой недвижимости</td>\n",
       "    </tr>\n",
       "    <tr>\n",
       "      <th>41</th>\n",
       "      <td>0</td>\n",
       "      <td>NaN</td>\n",
       "      <td>50</td>\n",
       "      <td>среднее</td>\n",
       "      <td>1</td>\n",
       "      <td>женат / замужем</td>\n",
       "      <td>0</td>\n",
       "      <td>F</td>\n",
       "      <td>госслужащий</td>\n",
       "      <td>0</td>\n",
       "      <td>NaN</td>\n",
       "      <td>сделка с подержанным автомобилем</td>\n",
       "    </tr>\n",
       "    <tr>\n",
       "      <th>55</th>\n",
       "      <td>0</td>\n",
       "      <td>NaN</td>\n",
       "      <td>54</td>\n",
       "      <td>среднее</td>\n",
       "      <td>1</td>\n",
       "      <td>гражданский брак</td>\n",
       "      <td>1</td>\n",
       "      <td>F</td>\n",
       "      <td>пенсионер</td>\n",
       "      <td>1</td>\n",
       "      <td>NaN</td>\n",
       "      <td>сыграть свадьбу</td>\n",
       "    </tr>\n",
       "  </tbody>\n",
       "</table>\n",
       "</div>"
      ],
      "text/plain": [
       "    children  days_employed  dob_years education  education_id  \\\n",
       "12         0            NaN         65   среднее             1   \n",
       "26         0            NaN         41   среднее             1   \n",
       "29         0            NaN         63   среднее             1   \n",
       "41         0            NaN         50   среднее             1   \n",
       "55         0            NaN         54   среднее             1   \n",
       "\n",
       "            family_status  family_status_id gender  income_type  debt  \\\n",
       "12       гражданский брак                 1      M    пенсионер     0   \n",
       "26        женат / замужем                 0      M  госслужащий     0   \n",
       "29  Не женат / не замужем                 4      F    пенсионер     0   \n",
       "41        женат / замужем                 0      F  госслужащий     0   \n",
       "55       гражданский брак                 1      F    пенсионер     1   \n",
       "\n",
       "    total_income                           purpose  \n",
       "12           NaN                   сыграть свадьбу  \n",
       "26           NaN                       образование  \n",
       "29           NaN  строительство жилой недвижимости  \n",
       "41           NaN  сделка с подержанным автомобилем  \n",
       "55           NaN                   сыграть свадьбу  "
      ]
     },
     "execution_count": 4,
     "metadata": {},
     "output_type": "execute_result"
    }
   ],
   "source": [
    "#выведем на экран первые пять строк с пропущенными значениями в столбце 'days_employed'\n",
    "data[data['days_employed'].isna()].head(5)"
   ]
  },
  {
   "cell_type": "code",
   "execution_count": 5,
   "id": "9099a979",
   "metadata": {},
   "outputs": [
    {
     "data": {
      "text/html": [
       "<div>\n",
       "<style scoped>\n",
       "    .dataframe tbody tr th:only-of-type {\n",
       "        vertical-align: middle;\n",
       "    }\n",
       "\n",
       "    .dataframe tbody tr th {\n",
       "        vertical-align: top;\n",
       "    }\n",
       "\n",
       "    .dataframe thead th {\n",
       "        text-align: right;\n",
       "    }\n",
       "</style>\n",
       "<table border=\"1\" class=\"dataframe\">\n",
       "  <thead>\n",
       "    <tr style=\"text-align: right;\">\n",
       "      <th></th>\n",
       "      <th>children</th>\n",
       "      <th>days_employed</th>\n",
       "      <th>dob_years</th>\n",
       "      <th>education</th>\n",
       "      <th>education_id</th>\n",
       "      <th>family_status</th>\n",
       "      <th>family_status_id</th>\n",
       "      <th>gender</th>\n",
       "      <th>income_type</th>\n",
       "      <th>debt</th>\n",
       "      <th>total_income</th>\n",
       "      <th>purpose</th>\n",
       "    </tr>\n",
       "  </thead>\n",
       "  <tbody>\n",
       "    <tr>\n",
       "      <th>12</th>\n",
       "      <td>0</td>\n",
       "      <td>NaN</td>\n",
       "      <td>65</td>\n",
       "      <td>среднее</td>\n",
       "      <td>1</td>\n",
       "      <td>гражданский брак</td>\n",
       "      <td>1</td>\n",
       "      <td>M</td>\n",
       "      <td>пенсионер</td>\n",
       "      <td>0</td>\n",
       "      <td>NaN</td>\n",
       "      <td>сыграть свадьбу</td>\n",
       "    </tr>\n",
       "    <tr>\n",
       "      <th>26</th>\n",
       "      <td>0</td>\n",
       "      <td>NaN</td>\n",
       "      <td>41</td>\n",
       "      <td>среднее</td>\n",
       "      <td>1</td>\n",
       "      <td>женат / замужем</td>\n",
       "      <td>0</td>\n",
       "      <td>M</td>\n",
       "      <td>госслужащий</td>\n",
       "      <td>0</td>\n",
       "      <td>NaN</td>\n",
       "      <td>образование</td>\n",
       "    </tr>\n",
       "    <tr>\n",
       "      <th>29</th>\n",
       "      <td>0</td>\n",
       "      <td>NaN</td>\n",
       "      <td>63</td>\n",
       "      <td>среднее</td>\n",
       "      <td>1</td>\n",
       "      <td>Не женат / не замужем</td>\n",
       "      <td>4</td>\n",
       "      <td>F</td>\n",
       "      <td>пенсионер</td>\n",
       "      <td>0</td>\n",
       "      <td>NaN</td>\n",
       "      <td>строительство жилой недвижимости</td>\n",
       "    </tr>\n",
       "    <tr>\n",
       "      <th>41</th>\n",
       "      <td>0</td>\n",
       "      <td>NaN</td>\n",
       "      <td>50</td>\n",
       "      <td>среднее</td>\n",
       "      <td>1</td>\n",
       "      <td>женат / замужем</td>\n",
       "      <td>0</td>\n",
       "      <td>F</td>\n",
       "      <td>госслужащий</td>\n",
       "      <td>0</td>\n",
       "      <td>NaN</td>\n",
       "      <td>сделка с подержанным автомобилем</td>\n",
       "    </tr>\n",
       "    <tr>\n",
       "      <th>55</th>\n",
       "      <td>0</td>\n",
       "      <td>NaN</td>\n",
       "      <td>54</td>\n",
       "      <td>среднее</td>\n",
       "      <td>1</td>\n",
       "      <td>гражданский брак</td>\n",
       "      <td>1</td>\n",
       "      <td>F</td>\n",
       "      <td>пенсионер</td>\n",
       "      <td>1</td>\n",
       "      <td>NaN</td>\n",
       "      <td>сыграть свадьбу</td>\n",
       "    </tr>\n",
       "  </tbody>\n",
       "</table>\n",
       "</div>"
      ],
      "text/plain": [
       "    children  days_employed  dob_years education  education_id  \\\n",
       "12         0            NaN         65   среднее             1   \n",
       "26         0            NaN         41   среднее             1   \n",
       "29         0            NaN         63   среднее             1   \n",
       "41         0            NaN         50   среднее             1   \n",
       "55         0            NaN         54   среднее             1   \n",
       "\n",
       "            family_status  family_status_id gender  income_type  debt  \\\n",
       "12       гражданский брак                 1      M    пенсионер     0   \n",
       "26        женат / замужем                 0      M  госслужащий     0   \n",
       "29  Не женат / не замужем                 4      F    пенсионер     0   \n",
       "41        женат / замужем                 0      F  госслужащий     0   \n",
       "55       гражданский брак                 1      F    пенсионер     1   \n",
       "\n",
       "    total_income                           purpose  \n",
       "12           NaN                   сыграть свадьбу  \n",
       "26           NaN                       образование  \n",
       "29           NaN  строительство жилой недвижимости  \n",
       "41           NaN  сделка с подержанным автомобилем  \n",
       "55           NaN                   сыграть свадьбу  "
      ]
     },
     "execution_count": 5,
     "metadata": {},
     "output_type": "execute_result"
    }
   ],
   "source": [
    "#выведем на экран первые пять строк с пропущенными значениями в столбце 'total_income'\n",
    "data[data['total_income'].isna()].head(5)"
   ]
  },
  {
   "cell_type": "code",
   "execution_count": 6,
   "id": "433a2b78",
   "metadata": {},
   "outputs": [
    {
     "name": "stdout",
     "output_type": "stream",
     "text": [
      "количество строк с двумя пропусками: 2174\n"
     ]
    }
   ],
   "source": [
    "#проверим сколько строк имеют сразу два пропуска одновременно\n",
    "shape_nan = data[(data['days_employed'].isna()) & (data['total_income'].isna())].shape[0]\n",
    "print(f'количество строк с двумя пропусками: {shape_nan}')"
   ]
  },
  {
   "cell_type": "markdown",
   "id": "eddaae90",
   "metadata": {},
   "source": [
    "Пропуски имеют тип NaN и они в одних и тех же строках. *Возможной причиной* того, что данные об отработанных днях и зарплате не заполняютя одновременно, потому, что человек сейчас является безработным.\n",
    "\n",
    "Просмотрим самые большие и самые малые значения столбца 'total_income':"
   ]
  },
  {
   "cell_type": "code",
   "execution_count": 7,
   "id": "c9c9deec",
   "metadata": {},
   "outputs": [
    {
     "data": {
      "text/plain": [
       "count    1.935100e+04\n",
       "mean     1.674223e+05\n",
       "std      1.029716e+05\n",
       "min      2.066726e+04\n",
       "25%      1.030532e+05\n",
       "50%      1.450179e+05\n",
       "75%      2.034351e+05\n",
       "max      2.265604e+06\n",
       "Name: total_income, dtype: float64"
      ]
     },
     "execution_count": 7,
     "metadata": {},
     "output_type": "execute_result"
    }
   ],
   "source": [
    "# исследуем распределение значений в столбце 'total_income' с помощью метода describe()\n",
    "data['total_income'].describe()"
   ]
  },
  {
   "cell_type": "markdown",
   "id": "6687d898",
   "metadata": {},
   "source": [
    "Разница между значениями весьма большая, поэтому заполним пропуски медианным значением, оно больше подходит, если есть большие количественные различия в данных."
   ]
  },
  {
   "cell_type": "code",
   "execution_count": 8,
   "id": "a9709ce1",
   "metadata": {},
   "outputs": [
    {
     "name": "stdout",
     "output_type": "stream",
     "text": [
      "количество пропусков в столбце total_income : 0\n"
     ]
    }
   ],
   "source": [
    "#вычисляем медианное значение\n",
    "median_income = data['total_income'].median()\n",
    "#заполняем пропуски медианным значением\n",
    "data['total_income'] = data['total_income'].fillna(median_income)\n",
    "#проверяем пропущенные значения\n",
    "total_income_na = data['total_income'].isna().sum()\n",
    "print(f'количество пропусков в столбце total_income : {total_income_na}')"
   ]
  },
  {
   "cell_type": "markdown",
   "id": "252b4eda",
   "metadata": {},
   "source": [
    "Пропущенные занчения 'total_income' устранены, переходим к самим данным."
   ]
  },
  {
   "cell_type": "code",
   "execution_count": 10,
   "id": "2e8b5df2",
   "metadata": {},
   "outputs": [
    {
     "data": {
      "text/plain": [
       "income_type\n",
       "безработный        131339.751676\n",
       "в декрете           53829.130729\n",
       "госслужащий        168290.760408\n",
       "компаньон          196683.153073\n",
       "пенсионер          137972.581061\n",
       "предприниматель    322090.541240\n",
       "сотрудник          159754.181986\n",
       "студент             98201.625314\n",
       "Name: total_income, dtype: float64"
      ]
     },
     "execution_count": 10,
     "metadata": {},
     "output_type": "execute_result"
    }
   ],
   "source": [
    "# найдем медианы по income_type\n",
    "income_mean = data.groupby('income_type')['total_income'].mean()\n",
    "income_mean"
   ]
  },
  {
   "cell_type": "markdown",
   "id": "a687639f",
   "metadata": {},
   "source": [
    "### Шаг 2.2 Проверка данных на аномалии и исправления."
   ]
  },
  {
   "cell_type": "markdown",
   "id": "89873ffc",
   "metadata": {},
   "source": [
    "#### Обзор стобцов\n"
   ]
  },
  {
   "cell_type": "code",
   "execution_count": 11,
   "id": "ed287c4f",
   "metadata": {
    "scrolled": true
   },
   "outputs": [
    {
     "data": {
      "text/plain": [
       "children\n",
       "-1        47\n",
       " 0     14149\n",
       " 1      4818\n",
       " 2      2055\n",
       " 3       330\n",
       " 4        41\n",
       " 5         9\n",
       " 20       76\n",
       "Name: children, dtype: int64"
      ]
     },
     "execution_count": 11,
     "metadata": {},
     "output_type": "execute_result"
    }
   ],
   "source": [
    "#определим какие значения есть в 'children' и как часто они встречаются\n",
    "data.groupby('children')['children'].count()"
   ]
  },
  {
   "cell_type": "markdown",
   "id": "9c349d23",
   "metadata": {},
   "source": [
    "В столбце 'children' есть значение '-1' встечется 47 раз, значение '20' 76 раз. \n",
    "Такие ошибки могут возникать в процессе записи или выгрузки данных. В сумме эти данные составляют меньше 1%. \n",
    "Можем удалить строки с этими значениями, на анализ это не должно иметь сильного влияния."
   ]
  },
  {
   "cell_type": "code",
   "execution_count": 12,
   "id": "0f3156d3",
   "metadata": {},
   "outputs": [
    {
     "data": {
      "text/plain": [
       "children\n",
       "0    14149\n",
       "1     4818\n",
       "2     2055\n",
       "3      330\n",
       "4       41\n",
       "5        9\n",
       "Name: children, dtype: int64"
      ]
     },
     "execution_count": 12,
     "metadata": {},
     "output_type": "execute_result"
    }
   ],
   "source": [
    "#оставляем в таблице все строки, кроме тех, что содержат в столбце 'children' значения '-1' и '20'\n",
    "data = data.loc[(data['children'] != -1) & (data['children'] != 20)]\n",
    "#проверяем результат удаления '-1' и '20'\n",
    "data.groupby('children')['children'].count()"
   ]
  },
  {
   "cell_type": "markdown",
   "id": "e71cd52d",
   "metadata": {},
   "source": [
    "Столбец 'children' теперь не содержит странных показателей.\n",
    "\n",
    "Идем далее - изучим данные в 'days_employed'"
   ]
  },
  {
   "cell_type": "code",
   "execution_count": 13,
   "id": "b1a90487",
   "metadata": {},
   "outputs": [
    {
     "data": {
      "text/plain": [
       "0         -8437.673028\n",
       "1         -4024.803754\n",
       "2         -5623.422610\n",
       "3         -4124.747207\n",
       "4        340266.072047\n",
       "             ...      \n",
       "21520     -4529.316663\n",
       "21521    343937.404131\n",
       "21522     -2113.346888\n",
       "21523     -3112.481705\n",
       "21524     -1984.507589\n",
       "Name: days_employed, Length: 21402, dtype: float64"
      ]
     },
     "execution_count": 13,
     "metadata": {},
     "output_type": "execute_result"
    }
   ],
   "source": [
    "#определим какие значения есть в 'days_employed'\n",
    "data['days_employed']"
   ]
  },
  {
   "cell_type": "markdown",
   "id": "d3787220",
   "metadata": {},
   "source": [
    "В столбце отработанных дней есть отрицательные значения, пропуски и не понятный вид отображения данных.\n",
    "Скорее всего отрицательные значения появились в связи с ошибкой при записи данных (хорошо бы узнать об этом у разработчиков), возьмём модуль по всему столбцу и попробуем сгупировать с другими категориями."
   ]
  },
  {
   "cell_type": "code",
   "execution_count": 14,
   "id": "545e06ee",
   "metadata": {},
   "outputs": [
    {
     "name": "stdout",
     "output_type": "stream",
     "text": [
      "Количество отрицательных значений: 0\n"
     ]
    }
   ],
   "source": [
    "# используем функцию abs(), чтобы избавится от отрицательных значений\n",
    "data['days_employed'] = abs(data['days_employed'])\n",
    "# проверяем количество отрицательных знчений\n",
    "negative = data[data['days_employed'] < 0]['days_employed'].count()\n",
    "print(f'Количество отрицательных значений: {negative}')"
   ]
  },
  {
   "cell_type": "markdown",
   "id": "3ad9fc3c",
   "metadata": {},
   "source": [
    "Чтобы сделать анализ заполним пропуски медианным значением, оно подойдет лучше, чем среднеарифметическое, т к данные количественно сильно различаются."
   ]
  },
  {
   "cell_type": "code",
   "execution_count": 15,
   "id": "9e3e3e02",
   "metadata": {},
   "outputs": [
    {
     "name": "stdout",
     "output_type": "stream",
     "text": [
      "количество пропусков в столбце days_employed : 0\n"
     ]
    }
   ],
   "source": [
    "#вычисляем медианное значение\n",
    "median_days_employed = data['days_employed'].median()\n",
    "#заполняем пропуски медианным значением\n",
    "data['days_employed'] = data['days_employed'].fillna(median_days_employed)\n",
    "#проверяем пропущенные значения\n",
    "total_days_na = data['days_employed'].isna().sum()\n",
    "print(f'количество пропусков в столбце days_employed : {total_days_na}')"
   ]
  },
  {
   "cell_type": "markdown",
   "id": "193ec4ae",
   "metadata": {},
   "source": [
    "Сгрупируем данные по отработанным дням и доходу, для более детального изучения данных"
   ]
  },
  {
   "cell_type": "code",
   "execution_count": 16,
   "id": "de8e2efa",
   "metadata": {},
   "outputs": [
    {
     "data": {
      "text/html": [
       "<div>\n",
       "<style scoped>\n",
       "    .dataframe tbody tr th:only-of-type {\n",
       "        vertical-align: middle;\n",
       "    }\n",
       "\n",
       "    .dataframe tbody tr th {\n",
       "        vertical-align: top;\n",
       "    }\n",
       "\n",
       "    .dataframe thead th {\n",
       "        text-align: right;\n",
       "    }\n",
       "</style>\n",
       "<table border=\"1\" class=\"dataframe\">\n",
       "  <thead>\n",
       "    <tr style=\"text-align: right;\">\n",
       "      <th></th>\n",
       "      <th>days_employed</th>\n",
       "      <th>income_type</th>\n",
       "    </tr>\n",
       "    <tr>\n",
       "      <th>income_type</th>\n",
       "      <th></th>\n",
       "      <th></th>\n",
       "    </tr>\n",
       "  </thead>\n",
       "  <tbody>\n",
       "    <tr>\n",
       "      <th>безработный</th>\n",
       "      <td>7.328273e+05</td>\n",
       "      <td>2</td>\n",
       "    </tr>\n",
       "    <tr>\n",
       "      <th>в декрете</th>\n",
       "      <td>3.296760e+03</td>\n",
       "      <td>1</td>\n",
       "    </tr>\n",
       "    <tr>\n",
       "      <th>госслужащий</th>\n",
       "      <td>4.768926e+06</td>\n",
       "      <td>1453</td>\n",
       "    </tr>\n",
       "    <tr>\n",
       "      <th>компаньон</th>\n",
       "      <td>1.074448e+07</td>\n",
       "      <td>5054</td>\n",
       "    </tr>\n",
       "    <tr>\n",
       "      <th>пенсионер</th>\n",
       "      <td>1.252571e+09</td>\n",
       "      <td>3839</td>\n",
       "    </tr>\n",
       "    <tr>\n",
       "      <th>предприниматель</th>\n",
       "      <td>2.716100e+03</td>\n",
       "      <td>2</td>\n",
       "    </tr>\n",
       "    <tr>\n",
       "      <th>сотрудник</th>\n",
       "      <td>2.553500e+07</td>\n",
       "      <td>11050</td>\n",
       "    </tr>\n",
       "    <tr>\n",
       "      <th>студент</th>\n",
       "      <td>5.787516e+02</td>\n",
       "      <td>1</td>\n",
       "    </tr>\n",
       "  </tbody>\n",
       "</table>\n",
       "</div>"
      ],
      "text/plain": [
       "                 days_employed  income_type\n",
       "income_type                                \n",
       "безработный       7.328273e+05            2\n",
       "в декрете         3.296760e+03            1\n",
       "госслужащий       4.768926e+06         1453\n",
       "компаньон         1.074448e+07         5054\n",
       "пенсионер         1.252571e+09         3839\n",
       "предприниматель   2.716100e+03            2\n",
       "сотрудник         2.553500e+07        11050\n",
       "студент           5.787516e+02            1"
      ]
     },
     "execution_count": 16,
     "metadata": {},
     "output_type": "execute_result"
    }
   ],
   "source": [
    "# воспользуемся методом groupby по нескольким столбцам и применим к ним разные функции методом agg()\n",
    "import warnings\n",
    "warnings.filterwarnings('ignore')\n",
    "\n",
    "data.groupby('income_type')['days_employed', 'income_type'].agg({'days_employed': 'sum',\n",
    "                                                                 'income_type': 'count',})"
   ]
  },
  {
   "cell_type": "markdown",
   "id": "8937ccf2",
   "metadata": {},
   "source": [
    "Выходит, что 3839 пенсионеров отработали 1252571000 дней, что равно примерно 900 лет каждый. Безработные отработали больше 1000 лет.\n",
    "Т к данные показывают высокую степень нереалистичности, чситаю их не пригодными для анализа."
   ]
  },
  {
   "cell_type": "markdown",
   "id": "31b5da03",
   "metadata": {},
   "source": [
    "Переходим к столбцу возрастов клиентов:"
   ]
  },
  {
   "cell_type": "code",
   "execution_count": 17,
   "id": "dcc5b77b",
   "metadata": {},
   "outputs": [
    {
     "name": "stdout",
     "output_type": "stream",
     "text": [
      "[ 0 19 20 21 22 23 24 25 26 27 28 29 30 31 32 33 34 35 36 37 38 39 40 41\n",
      " 42 43 44 45 46 47 48 49 50 51 52 53 54 55 56 57 58 59 60 61 62 63 64 65\n",
      " 66 67 68 69 70 71 72 73 74 75]\n"
     ]
    }
   ],
   "source": [
    "#импортируем библиотеку numpy и отсортируем уникальные значения для удобства\n",
    "import numpy as np\n",
    "print(np.sort(data['dob_years'].unique()))"
   ]
  },
  {
   "cell_type": "code",
   "execution_count": 18,
   "id": "09517de8",
   "metadata": {},
   "outputs": [
    {
     "name": "stdout",
     "output_type": "stream",
     "text": [
      "ноль встречается: 100 раз\n"
     ]
    }
   ],
   "source": [
    "#подсчет нулевых значений\n",
    "null_age = data.loc[data.loc[:,'dob_years'] == 0]['dob_years'].count()\n",
    "print(f'ноль встречается: {null_age} раз')"
   ]
  },
  {
   "cell_type": "markdown",
   "id": "674c02ea",
   "metadata": {},
   "source": [
    "Столбец с возрастом содержит 100 раз нулевое значение. Поскольку с 19 до 75 возраст изменяется на '+1', заполним нулевые значения средним арифметическим."
   ]
  },
  {
   "cell_type": "code",
   "execution_count": 19,
   "id": "f613e5b6",
   "metadata": {},
   "outputs": [
    {
     "name": "stdout",
     "output_type": "stream",
     "text": [
      "[19.         20.         21.         22.         23.         24.\n",
      " 25.         26.         27.         28.         29.         30.\n",
      " 31.         32.         33.         34.         35.         36.\n",
      " 37.         38.         39.         40.         41.         42.\n",
      " 43.         43.30020559 44.         45.         46.         47.\n",
      " 48.         49.         50.         51.         52.         53.\n",
      " 54.         55.         56.         57.         58.         59.\n",
      " 60.         61.         62.         63.         64.         65.\n",
      " 66.         67.         68.         69.         70.         71.\n",
      " 72.         73.         74.         75.        ]\n"
     ]
    }
   ],
   "source": [
    "# вычислим медиану\n",
    "mean_dob_years = data['dob_years'].mean()\n",
    "# заполним медианой нулевые значения через умную индексацию loc\n",
    "data.loc[data[ 'dob_years'] == 0, 'dob_years'] = mean_dob_years\n",
    "print(np.sort(data['dob_years'].unique()))"
   ]
  },
  {
   "cell_type": "markdown",
   "id": "115568ea",
   "metadata": {},
   "source": [
    "Данные по возрасту исправили. Тип данных на целочисленный изменим позже в разделе 'Изменение типов данных'.\n",
    "\n",
    "Далее столбец 'education':"
   ]
  },
  {
   "cell_type": "code",
   "execution_count": 20,
   "id": "5bd25f86",
   "metadata": {},
   "outputs": [
    {
     "data": {
      "text/plain": [
       "array(['высшее', 'среднее', 'Среднее', 'СРЕДНЕЕ', 'ВЫСШЕЕ',\n",
       "       'неоконченное высшее', 'начальное', 'Высшее',\n",
       "       'НЕОКОНЧЕННОЕ ВЫСШЕЕ', 'Неоконченное высшее', 'НАЧАЛЬНОЕ',\n",
       "       'Начальное', 'Ученая степень', 'УЧЕНАЯ СТЕПЕНЬ', 'ученая степень'],\n",
       "      dtype=object)"
      ]
     },
     "metadata": {},
     "output_type": "display_data"
    },
    {
     "data": {
      "text/plain": [
       "array([0, 1, 2, 3, 4])"
      ]
     },
     "execution_count": 20,
     "metadata": {},
     "output_type": "execute_result"
    }
   ],
   "source": [
    "#вывод уникальных значений столбца 'education'\n",
    "display(data['education'].unique())\n",
    "#вывод уникальных значений столбца 'education_id'\n",
    "data['education_id'].unique()"
   ]
  },
  {
   "cell_type": "markdown",
   "id": "331f1140",
   "metadata": {},
   "source": [
    "Столбец 'education' соделжит дубликаты и используются заглавные буквы. В результате удаления дубликатов в столбце 'education' дложно остаться пять категорий."
   ]
  },
  {
   "cell_type": "code",
   "execution_count": 21,
   "id": "7f0520bd",
   "metadata": {},
   "outputs": [
    {
     "data": {
      "text/plain": [
       "array(['женат / замужем', 'гражданский брак', 'вдовец / вдова',\n",
       "       'в разводе', 'Не женат / не замужем'], dtype=object)"
      ]
     },
     "metadata": {},
     "output_type": "display_data"
    },
    {
     "data": {
      "text/plain": [
       "array([0, 1, 2, 3, 4])"
      ]
     },
     "execution_count": 21,
     "metadata": {},
     "output_type": "execute_result"
    }
   ],
   "source": [
    "#вывод уникальных значений столбца 'family_status'\n",
    "display(data['family_status'].unique())\n",
    "#вывод уникальных значений столбца 'family_status_id'\n",
    "data['family_status_id'].unique()"
   ]
  },
  {
   "cell_type": "markdown",
   "id": "3523f6d5",
   "metadata": {},
   "source": [
    "В значениях столбца 'family_status' пять категорий. Необходимо убрать заглавную букву в категории 'Не женат / не замужем', для приведения к общему стилю."
   ]
  },
  {
   "cell_type": "code",
   "execution_count": 22,
   "id": "01056b38",
   "metadata": {},
   "outputs": [
    {
     "data": {
      "text/plain": [
       "array(['F', 'M', 'XNA'], dtype=object)"
      ]
     },
     "metadata": {},
     "output_type": "display_data"
    }
   ],
   "source": [
    "#вывод уникальных значений столбца 'gender'\n",
    "display(data['gender'].unique())"
   ]
  },
  {
   "cell_type": "markdown",
   "id": "afbfef71",
   "metadata": {},
   "source": [
    "В столбце 'gender' есть одна неизветная категория. Всего одно значение, заменим его на категорию F(F или M не имеет значения). Для анализа это несущественно."
   ]
  },
  {
   "cell_type": "code",
   "execution_count": 23,
   "id": "4362a77b",
   "metadata": {},
   "outputs": [
    {
     "data": {
      "text/plain": [
       "array(['F', 'M'], dtype=object)"
      ]
     },
     "execution_count": 23,
     "metadata": {},
     "output_type": "execute_result"
    }
   ],
   "source": [
    "#заменим строку со значением 'XNA' и проверим\n",
    "data.loc[data['gender'] == 'XNA',['gender']] = 'F'\n",
    "data['gender'].unique()"
   ]
  },
  {
   "cell_type": "code",
   "execution_count": 24,
   "id": "2388545c",
   "metadata": {},
   "outputs": [
    {
     "data": {
      "text/plain": [
       "array(['сотрудник', 'пенсионер', 'компаньон', 'госслужащий',\n",
       "       'безработный', 'предприниматель', 'студент', 'в декрете'],\n",
       "      dtype=object)"
      ]
     },
     "execution_count": 24,
     "metadata": {},
     "output_type": "execute_result"
    }
   ],
   "source": [
    "#вывод уникальных значений столбца 'income_type'\n",
    "data['income_type'].unique()"
   ]
  },
  {
   "cell_type": "markdown",
   "id": "b5bcecb3",
   "metadata": {},
   "source": [
    "С типом занятости все хорошо."
   ]
  },
  {
   "cell_type": "code",
   "execution_count": 25,
   "id": "1b82167d",
   "metadata": {},
   "outputs": [
    {
     "data": {
      "text/plain": [
       "array([0, 1])"
      ]
     },
     "execution_count": 25,
     "metadata": {},
     "output_type": "execute_result"
    }
   ],
   "source": [
    "#вывод уникальных значений столбца 'debt'\n",
    "data['debt'].unique()"
   ]
  },
  {
   "cell_type": "markdown",
   "id": "1ddb43c4",
   "metadata": {},
   "source": [
    "Не понятно при каком значении была заложенность."
   ]
  },
  {
   "cell_type": "code",
   "execution_count": 26,
   "id": "07d7f38e",
   "metadata": {},
   "outputs": [
    {
     "data": {
      "text/plain": [
       "14585    2.066726e+04\n",
       "13006    2.120528e+04\n",
       "16174    2.136765e+04\n",
       "1598     2.169510e+04\n",
       "14276    2.189561e+04\n",
       "             ...     \n",
       "17178    1.711309e+06\n",
       "20809    1.715018e+06\n",
       "9169     1.726276e+06\n",
       "19606    2.200852e+06\n",
       "12412    2.265604e+06\n",
       "Name: total_income, Length: 21402, dtype: float64"
      ]
     },
     "metadata": {},
     "output_type": "display_data"
    }
   ],
   "source": [
    "#вывод отсортированно столбца 'total_income' для проверки значений\n",
    "display(data['total_income'].sort_values())"
   ]
  },
  {
   "cell_type": "markdown",
   "id": "a57a2420",
   "metadata": {},
   "source": [
    "В столбце 'total_income' плохочитаемый формат. Необходимо поменять на целочисленный."
   ]
  },
  {
   "cell_type": "code",
   "execution_count": 27,
   "id": "ba8b2f25",
   "metadata": {},
   "outputs": [
    {
     "data": {
      "text/plain": [
       "array(['автомобили', 'автомобиль', 'высшее образование',\n",
       "       'дополнительное образование', 'жилье',\n",
       "       'заняться высшим образованием', 'заняться образованием',\n",
       "       'на покупку автомобиля', 'на покупку подержанного автомобиля',\n",
       "       'на покупку своего автомобиля', 'на проведение свадьбы',\n",
       "       'недвижимость', 'образование', 'операции с жильем',\n",
       "       'операции с коммерческой недвижимостью',\n",
       "       'операции с недвижимостью', 'операции со своей недвижимостью',\n",
       "       'покупка жилой недвижимости', 'покупка жилья',\n",
       "       'покупка жилья для сдачи', 'покупка жилья для семьи',\n",
       "       'покупка коммерческой недвижимости', 'покупка недвижимости',\n",
       "       'покупка своего жилья', 'получение высшего образования',\n",
       "       'получение дополнительного образования', 'получение образования',\n",
       "       'приобретение автомобиля', 'профильное образование',\n",
       "       'ремонт жилью', 'свадьба', 'свой автомобиль',\n",
       "       'сделка с автомобилем', 'сделка с подержанным автомобилем',\n",
       "       'строительство жилой недвижимости', 'строительство недвижимости',\n",
       "       'строительство собственной недвижимости', 'сыграть свадьбу'],\n",
       "      dtype=object)"
      ]
     },
     "execution_count": 27,
     "metadata": {},
     "output_type": "execute_result"
    }
   ],
   "source": [
    "#вывод уникальных значений столбца 'purpose'\n",
    "np.sort(data['purpose'].unique())"
   ]
  },
  {
   "cell_type": "markdown",
   "id": "77cb4263",
   "metadata": {},
   "source": [
    "В 'purpose' много категорий, на первый взгляд - это могут быть дубликаты, но считаю, что это подкатегории. Регистр нижний, все данные читаемы."
   ]
  },
  {
   "cell_type": "markdown",
   "id": "e6b590c8",
   "metadata": {},
   "source": [
    "### Шаг 2.3. Изменение типов данных."
   ]
  },
  {
   "cell_type": "code",
   "execution_count": 28,
   "id": "500310a2",
   "metadata": {},
   "outputs": [
    {
     "data": {
      "text/plain": [
       "children             int64\n",
       "days_employed        int64\n",
       "dob_years            int64\n",
       "education           object\n",
       "education_id         int64\n",
       "family_status       object\n",
       "family_status_id     int64\n",
       "gender              object\n",
       "income_type         object\n",
       "debt                 int64\n",
       "total_income         int64\n",
       "purpose             object\n",
       "dtype: object"
      ]
     },
     "execution_count": 28,
     "metadata": {},
     "output_type": "execute_result"
    }
   ],
   "source": [
    "#меняем типы данных столбцов 'total_income', 'dob_years', 'days_employed' на целочисленный\n",
    "data['total_income'] = data['total_income'].astype('int64')\n",
    "data['dob_years'] = data['dob_years'].astype('int64')\n",
    "data['days_employed'] = data['days_employed'].astype('int64')\n",
    "#проверяем\n",
    "data.dtypes"
   ]
  },
  {
   "cell_type": "markdown",
   "id": "dadbc7d5",
   "metadata": {},
   "source": [
    "Все данные читаемы, переходим к дубликатам."
   ]
  },
  {
   "cell_type": "markdown",
   "id": "19403b5a",
   "metadata": {},
   "source": [
    "### Шаг 2.4. Удаление дубликатов."
   ]
  },
  {
   "cell_type": "markdown",
   "id": "dc746dc3",
   "metadata": {},
   "source": [
    "Для поиска явных дубликатов - одинаковых строк используем метод duplicated() и drop_duplicates(). Они просты в использовании. Так же, чтобы индексы в таблице не сбивались используем сброс индексов - это параметр drop=True.\n",
    "Неявные дубликаты встречались в с столбцах 'education' и 'purpose'. Они возникли на стадии заполнения данных клиентами, строчные буквы, схожие по смыслу категории займа, всё это мешает сделать анализ и нормально читать данные.\n",
    "В 'education' применим метод str.lower(), он приведет к нижнему регистру все значения и дубликаты исчезнут."
   ]
  },
  {
   "cell_type": "markdown",
   "id": "11c9c107",
   "metadata": {},
   "source": [
    "#### Неявные дубликаты:"
   ]
  },
  {
   "cell_type": "code",
   "execution_count": 29,
   "id": "d2e1450d",
   "metadata": {},
   "outputs": [
    {
     "data": {
      "text/plain": [
       "array(['высшее', 'среднее', 'неоконченное высшее', 'начальное',\n",
       "       'ученая степень'], dtype=object)"
      ]
     },
     "execution_count": 29,
     "metadata": {},
     "output_type": "execute_result"
    }
   ],
   "source": [
    "#иправим регистр на нижний в столбце 'education' методом str.lower() и проверим.\n",
    "data['education'] = data['education'].str.lower()\n",
    "data['education'].unique()"
   ]
  },
  {
   "cell_type": "markdown",
   "id": "59ce07dc",
   "metadata": {},
   "source": [
    "Как и должно было получится - 5 категорий."
   ]
  },
  {
   "cell_type": "code",
   "execution_count": 30,
   "id": "7647c387",
   "metadata": {},
   "outputs": [
    {
     "data": {
      "text/plain": [
       "array(['женат / замужем', 'гражданский брак', 'вдовец / вдова',\n",
       "       'в разводе', 'не женат / не замужем'], dtype=object)"
      ]
     },
     "execution_count": 30,
     "metadata": {},
     "output_type": "execute_result"
    }
   ],
   "source": [
    "#исправим регистр на нижний в столбце 'family_status' методом str.lower() и проверим.\n",
    "data['family_status'] = data['family_status'].str.lower()\n",
    "data['family_status'].unique()"
   ]
  },
  {
   "cell_type": "markdown",
   "id": "da71772b",
   "metadata": {},
   "source": [
    "С 'family_status' тоже разобрались."
   ]
  },
  {
   "cell_type": "markdown",
   "id": "1fb1a42b",
   "metadata": {},
   "source": [
    "В столбце 'purpose' много категорий. Анализируя их получилось условно четыре основных целевых категории кредита: автомобиль, недвижимость, свадьба, образование. Далее в проекте сделаем основные категории и подкатегории используя это."
   ]
  },
  {
   "cell_type": "markdown",
   "id": "13a5f1ac",
   "metadata": {},
   "source": [
    "#### Явные дубликаты"
   ]
  },
  {
   "cell_type": "code",
   "execution_count": 31,
   "id": "a1496f2e",
   "metadata": {},
   "outputs": [
    {
     "data": {
      "text/plain": [
       "71"
      ]
     },
     "execution_count": 31,
     "metadata": {},
     "output_type": "execute_result"
    }
   ],
   "source": [
    "#найдем явные дубликаты методом duplicated()\n",
    "data.duplicated().sum()"
   ]
  },
  {
   "cell_type": "code",
   "execution_count": 32,
   "id": "930b7d34",
   "metadata": {},
   "outputs": [
    {
     "data": {
      "text/plain": [
       "0"
      ]
     },
     "execution_count": 32,
     "metadata": {},
     "output_type": "execute_result"
    }
   ],
   "source": [
    "#удалим явные дубликаты, обновим индексы и проверим.\n",
    "data = data.drop_duplicates().reset_index(drop=True)\n",
    "data.duplicated().sum()"
   ]
  },
  {
   "cell_type": "markdown",
   "id": "f47cb2d7",
   "metadata": {},
   "source": [
    "### Шаг 2.5. Формирование дополнительных датафреймов словарей, декомпозиция исходного датафрейма."
   ]
  },
  {
   "cell_type": "code",
   "execution_count": 33,
   "id": "3661eb66",
   "metadata": {},
   "outputs": [
    {
     "data": {
      "text/html": [
       "<div>\n",
       "<style scoped>\n",
       "    .dataframe tbody tr th:only-of-type {\n",
       "        vertical-align: middle;\n",
       "    }\n",
       "\n",
       "    .dataframe tbody tr th {\n",
       "        vertical-align: top;\n",
       "    }\n",
       "\n",
       "    .dataframe thead th {\n",
       "        text-align: right;\n",
       "    }\n",
       "</style>\n",
       "<table border=\"1\" class=\"dataframe\">\n",
       "  <thead>\n",
       "    <tr style=\"text-align: right;\">\n",
       "      <th></th>\n",
       "      <th>education_id</th>\n",
       "      <th>education</th>\n",
       "    </tr>\n",
       "  </thead>\n",
       "  <tbody>\n",
       "    <tr>\n",
       "      <th>0</th>\n",
       "      <td>0</td>\n",
       "      <td>высшее</td>\n",
       "    </tr>\n",
       "    <tr>\n",
       "      <th>1</th>\n",
       "      <td>1</td>\n",
       "      <td>среднее</td>\n",
       "    </tr>\n",
       "    <tr>\n",
       "      <th>2</th>\n",
       "      <td>2</td>\n",
       "      <td>неоконченное высшее</td>\n",
       "    </tr>\n",
       "    <tr>\n",
       "      <th>3</th>\n",
       "      <td>3</td>\n",
       "      <td>начальное</td>\n",
       "    </tr>\n",
       "    <tr>\n",
       "      <th>4</th>\n",
       "      <td>4</td>\n",
       "      <td>ученая степень</td>\n",
       "    </tr>\n",
       "  </tbody>\n",
       "</table>\n",
       "</div>"
      ],
      "text/plain": [
       "   education_id            education\n",
       "0             0               высшее\n",
       "1             1              среднее\n",
       "2             2  неоконченное высшее\n",
       "3             3            начальное\n",
       "4             4       ученая степень"
      ]
     },
     "metadata": {},
     "output_type": "display_data"
    },
    {
     "data": {
      "text/html": [
       "<div>\n",
       "<style scoped>\n",
       "    .dataframe tbody tr th:only-of-type {\n",
       "        vertical-align: middle;\n",
       "    }\n",
       "\n",
       "    .dataframe tbody tr th {\n",
       "        vertical-align: top;\n",
       "    }\n",
       "\n",
       "    .dataframe thead th {\n",
       "        text-align: right;\n",
       "    }\n",
       "</style>\n",
       "<table border=\"1\" class=\"dataframe\">\n",
       "  <thead>\n",
       "    <tr style=\"text-align: right;\">\n",
       "      <th></th>\n",
       "      <th>family_status_id</th>\n",
       "      <th>family_status</th>\n",
       "    </tr>\n",
       "  </thead>\n",
       "  <tbody>\n",
       "    <tr>\n",
       "      <th>0</th>\n",
       "      <td>0</td>\n",
       "      <td>женат / замужем</td>\n",
       "    </tr>\n",
       "    <tr>\n",
       "      <th>1</th>\n",
       "      <td>1</td>\n",
       "      <td>гражданский брак</td>\n",
       "    </tr>\n",
       "    <tr>\n",
       "      <th>2</th>\n",
       "      <td>2</td>\n",
       "      <td>вдовец / вдова</td>\n",
       "    </tr>\n",
       "    <tr>\n",
       "      <th>3</th>\n",
       "      <td>3</td>\n",
       "      <td>в разводе</td>\n",
       "    </tr>\n",
       "    <tr>\n",
       "      <th>4</th>\n",
       "      <td>4</td>\n",
       "      <td>не женат / не замужем</td>\n",
       "    </tr>\n",
       "  </tbody>\n",
       "</table>\n",
       "</div>"
      ],
      "text/plain": [
       "   family_status_id          family_status\n",
       "0                 0        женат / замужем\n",
       "1                 1       гражданский брак\n",
       "2                 2         вдовец / вдова\n",
       "3                 3              в разводе\n",
       "4                 4  не женат / не замужем"
      ]
     },
     "execution_count": 33,
     "metadata": {},
     "output_type": "execute_result"
    }
   ],
   "source": [
    "#создаём словари 'образования' и 'семейного статуса'\n",
    "education_catalog = data[['education_id','education']]\n",
    "education_catalog = education_catalog.drop_duplicates().reset_index(drop=True)\n",
    "display(education_catalog)\n",
    "\n",
    "family_status = data [['family_status_id','family_status']]\n",
    "family_status = family_status.drop_duplicates().reset_index(drop=True)\n",
    "family_status"
   ]
  },
  {
   "cell_type": "code",
   "execution_count": 34,
   "id": "8eae0942",
   "metadata": {},
   "outputs": [
    {
     "data": {
      "text/html": [
       "<div>\n",
       "<style scoped>\n",
       "    .dataframe tbody tr th:only-of-type {\n",
       "        vertical-align: middle;\n",
       "    }\n",
       "\n",
       "    .dataframe tbody tr th {\n",
       "        vertical-align: top;\n",
       "    }\n",
       "\n",
       "    .dataframe thead th {\n",
       "        text-align: right;\n",
       "    }\n",
       "</style>\n",
       "<table border=\"1\" class=\"dataframe\">\n",
       "  <thead>\n",
       "    <tr style=\"text-align: right;\">\n",
       "      <th></th>\n",
       "      <th>children</th>\n",
       "      <th>days_employed</th>\n",
       "      <th>dob_years</th>\n",
       "      <th>education_id</th>\n",
       "      <th>family_status_id</th>\n",
       "      <th>gender</th>\n",
       "      <th>income_type</th>\n",
       "      <th>debt</th>\n",
       "      <th>total_income</th>\n",
       "      <th>purpose</th>\n",
       "    </tr>\n",
       "  </thead>\n",
       "  <tbody>\n",
       "    <tr>\n",
       "      <th>0</th>\n",
       "      <td>1</td>\n",
       "      <td>8437</td>\n",
       "      <td>42</td>\n",
       "      <td>0</td>\n",
       "      <td>0</td>\n",
       "      <td>F</td>\n",
       "      <td>сотрудник</td>\n",
       "      <td>0</td>\n",
       "      <td>253875</td>\n",
       "      <td>покупка жилья</td>\n",
       "    </tr>\n",
       "    <tr>\n",
       "      <th>1</th>\n",
       "      <td>1</td>\n",
       "      <td>4024</td>\n",
       "      <td>36</td>\n",
       "      <td>1</td>\n",
       "      <td>0</td>\n",
       "      <td>F</td>\n",
       "      <td>сотрудник</td>\n",
       "      <td>0</td>\n",
       "      <td>112080</td>\n",
       "      <td>приобретение автомобиля</td>\n",
       "    </tr>\n",
       "    <tr>\n",
       "      <th>2</th>\n",
       "      <td>0</td>\n",
       "      <td>5623</td>\n",
       "      <td>33</td>\n",
       "      <td>1</td>\n",
       "      <td>0</td>\n",
       "      <td>M</td>\n",
       "      <td>сотрудник</td>\n",
       "      <td>0</td>\n",
       "      <td>145885</td>\n",
       "      <td>покупка жилья</td>\n",
       "    </tr>\n",
       "    <tr>\n",
       "      <th>3</th>\n",
       "      <td>3</td>\n",
       "      <td>4124</td>\n",
       "      <td>32</td>\n",
       "      <td>1</td>\n",
       "      <td>0</td>\n",
       "      <td>M</td>\n",
       "      <td>сотрудник</td>\n",
       "      <td>0</td>\n",
       "      <td>267628</td>\n",
       "      <td>дополнительное образование</td>\n",
       "    </tr>\n",
       "    <tr>\n",
       "      <th>4</th>\n",
       "      <td>0</td>\n",
       "      <td>340266</td>\n",
       "      <td>53</td>\n",
       "      <td>1</td>\n",
       "      <td>1</td>\n",
       "      <td>F</td>\n",
       "      <td>пенсионер</td>\n",
       "      <td>0</td>\n",
       "      <td>158616</td>\n",
       "      <td>сыграть свадьбу</td>\n",
       "    </tr>\n",
       "  </tbody>\n",
       "</table>\n",
       "</div>"
      ],
      "text/plain": [
       "   children  days_employed  dob_years  education_id  family_status_id gender  \\\n",
       "0         1           8437         42             0                 0      F   \n",
       "1         1           4024         36             1                 0      F   \n",
       "2         0           5623         33             1                 0      M   \n",
       "3         3           4124         32             1                 0      M   \n",
       "4         0         340266         53             1                 1      F   \n",
       "\n",
       "  income_type  debt  total_income                     purpose  \n",
       "0   сотрудник     0        253875               покупка жилья  \n",
       "1   сотрудник     0        112080     приобретение автомобиля  \n",
       "2   сотрудник     0        145885               покупка жилья  \n",
       "3   сотрудник     0        267628  дополнительное образование  \n",
       "4   пенсионер     0        158616             сыграть свадьбу  "
      ]
     },
     "execution_count": 34,
     "metadata": {},
     "output_type": "execute_result"
    }
   ],
   "source": [
    "#удаляем столбцы 'education', 'family_status' из исходной таблицы, в ней остаются 'education_id', 'family_status_id'\n",
    "data = data.drop(['education', 'family_status'], axis=1)\n",
    "data.head(5)"
   ]
  },
  {
   "cell_type": "markdown",
   "id": "1c7c8d37",
   "metadata": {},
   "source": [
    "### Шаг 2.6. Категоризация дохода."
   ]
  },
  {
   "cell_type": "markdown",
   "id": "ca0ccf9b",
   "metadata": {},
   "source": [
    "Отсортируем килентов по категориям 'A' 'B' 'C' 'D' 'E' в зависмости от дохода, так легче будет категоризировать заёмщиков."
   ]
  },
  {
   "cell_type": "code",
   "execution_count": 35,
   "id": "ec5af295",
   "metadata": {},
   "outputs": [
    {
     "data": {
      "text/html": [
       "<div>\n",
       "<style scoped>\n",
       "    .dataframe tbody tr th:only-of-type {\n",
       "        vertical-align: middle;\n",
       "    }\n",
       "\n",
       "    .dataframe tbody tr th {\n",
       "        vertical-align: top;\n",
       "    }\n",
       "\n",
       "    .dataframe thead th {\n",
       "        text-align: right;\n",
       "    }\n",
       "</style>\n",
       "<table border=\"1\" class=\"dataframe\">\n",
       "  <thead>\n",
       "    <tr style=\"text-align: right;\">\n",
       "      <th></th>\n",
       "      <th>children</th>\n",
       "      <th>days_employed</th>\n",
       "      <th>dob_years</th>\n",
       "      <th>education_id</th>\n",
       "      <th>family_status_id</th>\n",
       "      <th>gender</th>\n",
       "      <th>income_type</th>\n",
       "      <th>debt</th>\n",
       "      <th>total_income</th>\n",
       "      <th>purpose</th>\n",
       "      <th>total_income_category</th>\n",
       "    </tr>\n",
       "  </thead>\n",
       "  <tbody>\n",
       "    <tr>\n",
       "      <th>0</th>\n",
       "      <td>1</td>\n",
       "      <td>8437</td>\n",
       "      <td>42</td>\n",
       "      <td>0</td>\n",
       "      <td>0</td>\n",
       "      <td>F</td>\n",
       "      <td>сотрудник</td>\n",
       "      <td>0</td>\n",
       "      <td>253875</td>\n",
       "      <td>покупка жилья</td>\n",
       "      <td>B</td>\n",
       "    </tr>\n",
       "    <tr>\n",
       "      <th>1</th>\n",
       "      <td>1</td>\n",
       "      <td>4024</td>\n",
       "      <td>36</td>\n",
       "      <td>1</td>\n",
       "      <td>0</td>\n",
       "      <td>F</td>\n",
       "      <td>сотрудник</td>\n",
       "      <td>0</td>\n",
       "      <td>112080</td>\n",
       "      <td>приобретение автомобиля</td>\n",
       "      <td>C</td>\n",
       "    </tr>\n",
       "    <tr>\n",
       "      <th>2</th>\n",
       "      <td>0</td>\n",
       "      <td>5623</td>\n",
       "      <td>33</td>\n",
       "      <td>1</td>\n",
       "      <td>0</td>\n",
       "      <td>M</td>\n",
       "      <td>сотрудник</td>\n",
       "      <td>0</td>\n",
       "      <td>145885</td>\n",
       "      <td>покупка жилья</td>\n",
       "      <td>C</td>\n",
       "    </tr>\n",
       "    <tr>\n",
       "      <th>3</th>\n",
       "      <td>3</td>\n",
       "      <td>4124</td>\n",
       "      <td>32</td>\n",
       "      <td>1</td>\n",
       "      <td>0</td>\n",
       "      <td>M</td>\n",
       "      <td>сотрудник</td>\n",
       "      <td>0</td>\n",
       "      <td>267628</td>\n",
       "      <td>дополнительное образование</td>\n",
       "      <td>B</td>\n",
       "    </tr>\n",
       "    <tr>\n",
       "      <th>4</th>\n",
       "      <td>0</td>\n",
       "      <td>340266</td>\n",
       "      <td>53</td>\n",
       "      <td>1</td>\n",
       "      <td>1</td>\n",
       "      <td>F</td>\n",
       "      <td>пенсионер</td>\n",
       "      <td>0</td>\n",
       "      <td>158616</td>\n",
       "      <td>сыграть свадьбу</td>\n",
       "      <td>C</td>\n",
       "    </tr>\n",
       "  </tbody>\n",
       "</table>\n",
       "</div>"
      ],
      "text/plain": [
       "   children  days_employed  dob_years  education_id  family_status_id gender  \\\n",
       "0         1           8437         42             0                 0      F   \n",
       "1         1           4024         36             1                 0      F   \n",
       "2         0           5623         33             1                 0      M   \n",
       "3         3           4124         32             1                 0      M   \n",
       "4         0         340266         53             1                 1      F   \n",
       "\n",
       "  income_type  debt  total_income                     purpose  \\\n",
       "0   сотрудник     0        253875               покупка жилья   \n",
       "1   сотрудник     0        112080     приобретение автомобиля   \n",
       "2   сотрудник     0        145885               покупка жилья   \n",
       "3   сотрудник     0        267628  дополнительное образование   \n",
       "4   пенсионер     0        158616             сыграть свадьбу   \n",
       "\n",
       "  total_income_category  \n",
       "0                     B  \n",
       "1                     C  \n",
       "2                     C  \n",
       "3                     B  \n",
       "4                     C  "
      ]
     },
     "execution_count": 35,
     "metadata": {},
     "output_type": "execute_result"
    }
   ],
   "source": [
    "# создаем функцию, которая на вход получет доход заёмщика и по его величине возвращает категорию\n",
    "def income_category (income):\n",
    "    if 0 <= income <= 30000:\n",
    "        return 'E'\n",
    "    elif 30001 <= income <= 50000:\n",
    "        return 'D'\n",
    "    elif 50001 <= income <= 200000:\n",
    "        return 'C'\n",
    "    elif 200001 <= income <= 1000000:\n",
    "        return 'B'\n",
    "    else: \n",
    "        return 'A'\n",
    "# применим метод apply() для столбца 'total_income' и запишем результат в новый столбец 'total_income_category'\n",
    "# выведем первые 5 строк таблицы для проверки\n",
    "data['total_income_category'] = data['total_income'].apply(income_category)\n",
    "data.head(5)"
   ]
  },
  {
   "cell_type": "markdown",
   "id": "e6858881",
   "metadata": {},
   "source": [
    "### Шаг 2.7. Категоризация целей кредита."
   ]
  },
  {
   "cell_type": "markdown",
   "id": "87a1f212",
   "metadata": {},
   "source": [
    "В столбце 'purpose', как раньше предположили, находятся подкатегории. Присвоим им более общие категории, чтобы данные можно было легче изучать. Категории: 'операции с автомобилем', 'получение образования', 'проведение свадьбы', 'операции с недвижимостью'."
   ]
  },
  {
   "cell_type": "code",
   "execution_count": 36,
   "id": "a012e350",
   "metadata": {},
   "outputs": [
    {
     "data": {
      "text/html": [
       "<div>\n",
       "<style scoped>\n",
       "    .dataframe tbody tr th:only-of-type {\n",
       "        vertical-align: middle;\n",
       "    }\n",
       "\n",
       "    .dataframe tbody tr th {\n",
       "        vertical-align: top;\n",
       "    }\n",
       "\n",
       "    .dataframe thead th {\n",
       "        text-align: right;\n",
       "    }\n",
       "</style>\n",
       "<table border=\"1\" class=\"dataframe\">\n",
       "  <thead>\n",
       "    <tr style=\"text-align: right;\">\n",
       "      <th></th>\n",
       "      <th>children</th>\n",
       "      <th>days_employed</th>\n",
       "      <th>dob_years</th>\n",
       "      <th>education_id</th>\n",
       "      <th>family_status_id</th>\n",
       "      <th>gender</th>\n",
       "      <th>income_type</th>\n",
       "      <th>debt</th>\n",
       "      <th>total_income</th>\n",
       "      <th>purpose</th>\n",
       "      <th>total_income_category</th>\n",
       "      <th>purpose_category</th>\n",
       "    </tr>\n",
       "  </thead>\n",
       "  <tbody>\n",
       "    <tr>\n",
       "      <th>0</th>\n",
       "      <td>1</td>\n",
       "      <td>8437</td>\n",
       "      <td>42</td>\n",
       "      <td>0</td>\n",
       "      <td>0</td>\n",
       "      <td>F</td>\n",
       "      <td>сотрудник</td>\n",
       "      <td>0</td>\n",
       "      <td>253875</td>\n",
       "      <td>покупка жилья</td>\n",
       "      <td>B</td>\n",
       "      <td>операции с недвижимостью</td>\n",
       "    </tr>\n",
       "    <tr>\n",
       "      <th>1</th>\n",
       "      <td>1</td>\n",
       "      <td>4024</td>\n",
       "      <td>36</td>\n",
       "      <td>1</td>\n",
       "      <td>0</td>\n",
       "      <td>F</td>\n",
       "      <td>сотрудник</td>\n",
       "      <td>0</td>\n",
       "      <td>112080</td>\n",
       "      <td>приобретение автомобиля</td>\n",
       "      <td>C</td>\n",
       "      <td>операции с автомобилем</td>\n",
       "    </tr>\n",
       "    <tr>\n",
       "      <th>2</th>\n",
       "      <td>0</td>\n",
       "      <td>5623</td>\n",
       "      <td>33</td>\n",
       "      <td>1</td>\n",
       "      <td>0</td>\n",
       "      <td>M</td>\n",
       "      <td>сотрудник</td>\n",
       "      <td>0</td>\n",
       "      <td>145885</td>\n",
       "      <td>покупка жилья</td>\n",
       "      <td>C</td>\n",
       "      <td>операции с недвижимостью</td>\n",
       "    </tr>\n",
       "    <tr>\n",
       "      <th>3</th>\n",
       "      <td>3</td>\n",
       "      <td>4124</td>\n",
       "      <td>32</td>\n",
       "      <td>1</td>\n",
       "      <td>0</td>\n",
       "      <td>M</td>\n",
       "      <td>сотрудник</td>\n",
       "      <td>0</td>\n",
       "      <td>267628</td>\n",
       "      <td>дополнительное образование</td>\n",
       "      <td>B</td>\n",
       "      <td>получение образования</td>\n",
       "    </tr>\n",
       "    <tr>\n",
       "      <th>4</th>\n",
       "      <td>0</td>\n",
       "      <td>340266</td>\n",
       "      <td>53</td>\n",
       "      <td>1</td>\n",
       "      <td>1</td>\n",
       "      <td>F</td>\n",
       "      <td>пенсионер</td>\n",
       "      <td>0</td>\n",
       "      <td>158616</td>\n",
       "      <td>сыграть свадьбу</td>\n",
       "      <td>C</td>\n",
       "      <td>проведение свадьбы</td>\n",
       "    </tr>\n",
       "  </tbody>\n",
       "</table>\n",
       "</div>"
      ],
      "text/plain": [
       "   children  days_employed  dob_years  education_id  family_status_id gender  \\\n",
       "0         1           8437         42             0                 0      F   \n",
       "1         1           4024         36             1                 0      F   \n",
       "2         0           5623         33             1                 0      M   \n",
       "3         3           4124         32             1                 0      M   \n",
       "4         0         340266         53             1                 1      F   \n",
       "\n",
       "  income_type  debt  total_income                     purpose  \\\n",
       "0   сотрудник     0        253875               покупка жилья   \n",
       "1   сотрудник     0        112080     приобретение автомобиля   \n",
       "2   сотрудник     0        145885               покупка жилья   \n",
       "3   сотрудник     0        267628  дополнительное образование   \n",
       "4   пенсионер     0        158616             сыграть свадьбу   \n",
       "\n",
       "  total_income_category          purpose_category  \n",
       "0                     B  операции с недвижимостью  \n",
       "1                     C    операции с автомобилем  \n",
       "2                     C  операции с недвижимостью  \n",
       "3                     B     получение образования  \n",
       "4                     C        проведение свадьбы  "
      ]
     },
     "execution_count": 36,
     "metadata": {},
     "output_type": "execute_result"
    }
   ],
   "source": [
    "# создаём спики подкатегорий, сортируя их вручную по смыслу\n",
    "subcategory_auto = ['автомобили',\n",
    "                    'автомобиль',\n",
    "                    'на покупку автомобиля',\n",
    "                    'на покупку подержанного автомобиля',\n",
    "                    'на покупку своего автомобиля',\n",
    "                    'приобретение автомобиля',\n",
    "                    'свой автомобиль',\n",
    "                    'сделка с автомобилем',\n",
    "                    'сделка с подержанным автомобилем'\n",
    "                    ]\n",
    "subcategory_education = ['высшее образование',\n",
    "                         'дополнительное образование',\n",
    "                         'заняться высшим образованием',\n",
    "                         'заняться образованием',\n",
    "                         'образование',\n",
    "                         'получение высшего образования',\n",
    "                         'получение дополнительного образования',\n",
    "                         'получение образования',\n",
    "                         'профильное образование'\n",
    "                         ]\n",
    "    \n",
    "subcategory_wedding = ['на проведение свадьбы',\n",
    "                       'свадьба',\n",
    "                       'сыграть свадьбу'\n",
    "                       ]\n",
    "subcategory_estate = ['недвижимость',\n",
    "                      'операции с жильем',\n",
    "                      'операции с коммерческой недвижимостью',\n",
    "                      'операции с недвижимостью',\n",
    "                      'операции со своей недвижимостью',\n",
    "                      'покупка жилой недвижимости',\n",
    "                      'покупка жилья',\n",
    "                      'покупка жилья для сдачи',\n",
    "                      'покупка жилья для семьи',\n",
    "                      'покупка коммерческой недвижимости',\n",
    "                      'покупка недвижимости','покупка своего жилья',\n",
    "                      'строительство жилой недвижимости',\n",
    "                      'строительство недвижимости',\n",
    "                      'строительство собственной недвижимости',\n",
    "                      'жилье',\n",
    "                      'ремонт жилью'\n",
    "                      ]\n",
    "\n",
    "# создадим функцию, которая будет получать на вход строку из таблицы, брать из нее занчение 'purpose',\n",
    "# далее в цикле проходит по каждому списку подкатегорий и, если видит совпадение, возвращает название категории\n",
    "def function_subcategory(row):\n",
    "    subcategory = row['purpose']\n",
    "    for inedex_auto in subcategory_auto:\n",
    "        if subcategory == inedex_auto:\n",
    "            return 'операции с автомобилем'\n",
    "    for inedex_education in subcategory_education:\n",
    "        if subcategory == inedex_education:\n",
    "            return 'получение образования'\n",
    "    for inedex_wedding in subcategory_wedding:\n",
    "        if subcategory == inedex_wedding:\n",
    "            return 'проведение свадьбы'\n",
    "    for inedex_estate in subcategory_estate:\n",
    "        if subcategory == inedex_estate:\n",
    "            return 'операции с недвижимостью'\n",
    "\n",
    "# создаём новый столбец 'purpose_category' и заполняем его методом apply() для строки,\n",
    "# т к функция принимает в качестве аргумента строку нужно указать параметр axis = 1\n",
    "data['purpose_category'] = data.apply(function_subcategory, axis=1)\n",
    "# выведем первые 5 строк таблицы для проверки\n",
    "data.head(5)"
   ]
  },
  {
   "cell_type": "markdown",
   "id": "c21fd3df",
   "metadata": {},
   "source": [
    "### Ответы на вопросы."
   ]
  },
  {
   "cell_type": "markdown",
   "id": "a8b1b0de",
   "metadata": {},
   "source": [
    "##### Вопрос 1: Есть ли зависимость между количеством детей и возвратом кредита в срок?"
   ]
  },
  {
   "cell_type": "markdown",
   "id": "f4ccf4c0",
   "metadata": {},
   "source": [
    "Для этого сгрупируем данные по детям и возвратам кредита. "
   ]
  },
  {
   "cell_type": "code",
   "execution_count": 37,
   "id": "3ed3bcbc",
   "metadata": {},
   "outputs": [
    {
     "data": {
      "text/html": [
       "<div>\n",
       "<style scoped>\n",
       "    .dataframe tbody tr th:only-of-type {\n",
       "        vertical-align: middle;\n",
       "    }\n",
       "\n",
       "    .dataframe tbody tr th {\n",
       "        vertical-align: top;\n",
       "    }\n",
       "\n",
       "    .dataframe thead th {\n",
       "        text-align: right;\n",
       "    }\n",
       "</style>\n",
       "<table border=\"1\" class=\"dataframe\">\n",
       "  <thead>\n",
       "    <tr style=\"text-align: right;\">\n",
       "      <th></th>\n",
       "      <th>count</th>\n",
       "      <th>sum</th>\n",
       "      <th>mean</th>\n",
       "    </tr>\n",
       "    <tr>\n",
       "      <th>children</th>\n",
       "      <th></th>\n",
       "      <th></th>\n",
       "      <th></th>\n",
       "    </tr>\n",
       "  </thead>\n",
       "  <tbody>\n",
       "    <tr>\n",
       "      <th>0</th>\n",
       "      <td>14091</td>\n",
       "      <td>1063</td>\n",
       "      <td>0.075438</td>\n",
       "    </tr>\n",
       "    <tr>\n",
       "      <th>1</th>\n",
       "      <td>4808</td>\n",
       "      <td>444</td>\n",
       "      <td>0.092346</td>\n",
       "    </tr>\n",
       "    <tr>\n",
       "      <th>2</th>\n",
       "      <td>2052</td>\n",
       "      <td>194</td>\n",
       "      <td>0.094542</td>\n",
       "    </tr>\n",
       "    <tr>\n",
       "      <th>3</th>\n",
       "      <td>330</td>\n",
       "      <td>27</td>\n",
       "      <td>0.081818</td>\n",
       "    </tr>\n",
       "    <tr>\n",
       "      <th>4</th>\n",
       "      <td>41</td>\n",
       "      <td>4</td>\n",
       "      <td>0.097561</td>\n",
       "    </tr>\n",
       "    <tr>\n",
       "      <th>5</th>\n",
       "      <td>9</td>\n",
       "      <td>0</td>\n",
       "      <td>0.000000</td>\n",
       "    </tr>\n",
       "  </tbody>\n",
       "</table>\n",
       "</div>"
      ],
      "text/plain": [
       "          count   sum      mean\n",
       "children                       \n",
       "0         14091  1063  0.075438\n",
       "1          4808   444  0.092346\n",
       "2          2052   194  0.094542\n",
       "3           330    27  0.081818\n",
       "4            41     4  0.097561\n",
       "5             9     0  0.000000"
      ]
     },
     "execution_count": 37,
     "metadata": {},
     "output_type": "execute_result"
    }
   ],
   "source": [
    "# сгруппируем данные по количеству детей, сумме должников и доле должников\n",
    "children_debt = data.groupby('children')['debt'].agg(['count', 'sum', 'mean'])\n",
    "children_debt"
   ]
  },
  {
   "cell_type": "markdown",
   "id": "2f304084",
   "metadata": {},
   "source": [
    "Выведем данные более наглядно:"
   ]
  },
  {
   "cell_type": "code",
   "execution_count": 38,
   "id": "88b8d2ab",
   "metadata": {},
   "outputs": [
    {
     "data": {
      "text/plain": [
       "<AxesSubplot:ylabel='mean'>"
      ]
     },
     "execution_count": 38,
     "metadata": {},
     "output_type": "execute_result"
    },
    {
     "data": {
      "image/png": "[encoded data removed]",
      "text/plain": [
       "<Figure size 432x288 with 1 Axes>"
      ]
     },
     "metadata": {
      "needs_background": "light"
     },
     "output_type": "display_data"
    }
   ],
   "source": [
    "import seaborn as sb\n",
    "# график зависимости наличия детей и наличия задолженности\n",
    "sb.barplot(x=[0,1,2,3,4,5], y=children_debt['mean'])"
   ]
  },
  {
   "cell_type": "markdown",
   "id": "1100b6f8",
   "metadata": {},
   "source": [
    "##### Вывод 1:  \n",
    "Из данных видно, что процент должников ниже у людей без детей, этой категории заёмщиков давать кредиты менее рискованно и они занимают долю 66% от общего числа! Исключение составляют клиенты с пятью детьми, у них долгов нет, но из общего количества их всего девять, этого количества мало для выводов. Семьи с одним и двумя детьми имеют самые высокие показатели задолженности."
   ]
  },
  {
   "cell_type": "markdown",
   "id": "c6684868",
   "metadata": {},
   "source": [
    "##### Вопрос 2: Есть ли зависимость между семейным положением и возвратом кредита в срок?"
   ]
  },
  {
   "cell_type": "code",
   "execution_count": 39,
   "id": "f972abd8",
   "metadata": {},
   "outputs": [
    {
     "data": {
      "text/html": [
       "<div>\n",
       "<style scoped>\n",
       "    .dataframe tbody tr th:only-of-type {\n",
       "        vertical-align: middle;\n",
       "    }\n",
       "\n",
       "    .dataframe tbody tr th {\n",
       "        vertical-align: top;\n",
       "    }\n",
       "\n",
       "    .dataframe thead th {\n",
       "        text-align: right;\n",
       "    }\n",
       "</style>\n",
       "<table border=\"1\" class=\"dataframe\">\n",
       "  <thead>\n",
       "    <tr style=\"text-align: right;\">\n",
       "      <th></th>\n",
       "      <th>family_status</th>\n",
       "      <th>count</th>\n",
       "      <th>sum</th>\n",
       "      <th>mean</th>\n",
       "    </tr>\n",
       "    <tr>\n",
       "      <th>family_status_id</th>\n",
       "      <th></th>\n",
       "      <th></th>\n",
       "      <th></th>\n",
       "      <th></th>\n",
       "    </tr>\n",
       "  </thead>\n",
       "  <tbody>\n",
       "    <tr>\n",
       "      <th>0</th>\n",
       "      <td>женат / замужем</td>\n",
       "      <td>12261</td>\n",
       "      <td>927</td>\n",
       "      <td>0.075606</td>\n",
       "    </tr>\n",
       "    <tr>\n",
       "      <th>1</th>\n",
       "      <td>гражданский брак</td>\n",
       "      <td>4134</td>\n",
       "      <td>385</td>\n",
       "      <td>0.093130</td>\n",
       "    </tr>\n",
       "    <tr>\n",
       "      <th>2</th>\n",
       "      <td>вдовец / вдова</td>\n",
       "      <td>951</td>\n",
       "      <td>63</td>\n",
       "      <td>0.066246</td>\n",
       "    </tr>\n",
       "    <tr>\n",
       "      <th>3</th>\n",
       "      <td>в разводе</td>\n",
       "      <td>1189</td>\n",
       "      <td>84</td>\n",
       "      <td>0.070648</td>\n",
       "    </tr>\n",
       "    <tr>\n",
       "      <th>4</th>\n",
       "      <td>не женат / не замужем</td>\n",
       "      <td>2796</td>\n",
       "      <td>273</td>\n",
       "      <td>0.097639</td>\n",
       "    </tr>\n",
       "  </tbody>\n",
       "</table>\n",
       "</div>"
      ],
      "text/plain": [
       "                          family_status  count  sum      mean\n",
       "family_status_id                                             \n",
       "0                       женат / замужем  12261  927  0.075606\n",
       "1                      гражданский брак   4134  385  0.093130\n",
       "2                        вдовец / вдова    951   63  0.066246\n",
       "3                             в разводе   1189   84  0.070648\n",
       "4                 не женат / не замужем   2796  273  0.097639"
      ]
     },
     "execution_count": 39,
     "metadata": {},
     "output_type": "execute_result"
    }
   ],
   "source": [
    "# сгруппируем данные по семейному положению, сумме должников и доле должников\n",
    "familu_debt = data.groupby('family_status_id')['debt'].agg(['count', 'sum', 'mean'])\n",
    "familu_debt = family_status.merge(familu_debt, on='family_status_id', how='left')\n",
    "familu_debt.set_index('family_status_id')"
   ]
  },
  {
   "cell_type": "code",
   "execution_count": 1,
   "id": "a1cc5c8f",
   "metadata": {},
   "outputs": [
    {
     "ename": "NameError",
     "evalue": "name 'sb' is not defined",
     "output_type": "error",
     "traceback": [
      "\u001b[0;31m---------------------------------------------------------------------------\u001b[0m",
      "\u001b[0;31mNameError\u001b[0m                                 Traceback (most recent call last)",
      "\u001b[0;32m/tmp/ipykernel_52/3056727915.py\u001b[0m in \u001b[0;36m<module>\u001b[0;34m\u001b[0m\n\u001b[1;32m      1\u001b[0m \u001b[0;31m# график зависимости семейного положениея и возврата кредита в срок\u001b[0m\u001b[0;34m\u001b[0m\u001b[0;34m\u001b[0m\u001b[0m\n\u001b[0;32m----> 2\u001b[0;31m \u001b[0msb\u001b[0m\u001b[0;34m.\u001b[0m\u001b[0mbarplot\u001b[0m\u001b[0;34m(\u001b[0m\u001b[0mx\u001b[0m\u001b[0;34m=\u001b[0m\u001b[0mfamilu_debt\u001b[0m\u001b[0;34m[\u001b[0m\u001b[0;34m'mean'\u001b[0m\u001b[0;34m]\u001b[0m\u001b[0;34m,\u001b[0m \u001b[0my\u001b[0m\u001b[0;34m=\u001b[0m\u001b[0mfamilu_debt\u001b[0m\u001b[0;34m[\u001b[0m\u001b[0;34m'family_status'\u001b[0m\u001b[0;34m]\u001b[0m\u001b[0;34m)\u001b[0m\u001b[0;34m\u001b[0m\u001b[0;34m\u001b[0m\u001b[0m\n\u001b[0m",
      "\u001b[0;31mNameError\u001b[0m: name 'sb' is not defined"
     ]
    }
   ],
   "source": [
    "# график зависимости семейного положениея и возврата кредита в срок\n",
    "sb.barplot(x=familu_debt['mean'], y=familu_debt['family_status'])"
   ]
  },
  {
   "cell_type": "markdown",
   "id": "a8bc25d1",
   "metadata": {},
   "source": [
    "##### Вывод 2:  \n",
    "***Заёмщики не состоящие в браке имеют самый высокий показатель задолженности, как и люди в гражданском браке. Основная категория заёмщиков, а их больше половины, - это люди в браке, их показатель 7,5%, не самы низкий показатель, но и отличается менее, чем на оди процент от самых низкорискованных (вдовцы - 6,6%)***"
   ]
  },
  {
   "cell_type": "markdown",
   "id": "40503a67",
   "metadata": {},
   "source": [
    "##### Вопрос 3: Есть ли зависимость между уровнем дохода и возвратом кредита в срок?"
   ]
  },
  {
   "cell_type": "code",
   "execution_count": 41,
   "id": "2ef9a2c9",
   "metadata": {},
   "outputs": [
    {
     "data": {
      "text/html": [
       "<div>\n",
       "<style scoped>\n",
       "    .dataframe tbody tr th:only-of-type {\n",
       "        vertical-align: middle;\n",
       "    }\n",
       "\n",
       "    .dataframe tbody tr th {\n",
       "        vertical-align: top;\n",
       "    }\n",
       "\n",
       "    .dataframe thead th {\n",
       "        text-align: right;\n",
       "    }\n",
       "</style>\n",
       "<table border=\"1\" class=\"dataframe\">\n",
       "  <thead>\n",
       "    <tr style=\"text-align: right;\">\n",
       "      <th></th>\n",
       "      <th>count</th>\n",
       "      <th>sum</th>\n",
       "      <th>mean</th>\n",
       "    </tr>\n",
       "    <tr>\n",
       "      <th>total_income_category</th>\n",
       "      <th></th>\n",
       "      <th></th>\n",
       "      <th></th>\n",
       "    </tr>\n",
       "  </thead>\n",
       "  <tbody>\n",
       "    <tr>\n",
       "      <th>A</th>\n",
       "      <td>25</td>\n",
       "      <td>2</td>\n",
       "      <td>0.080000</td>\n",
       "    </tr>\n",
       "    <tr>\n",
       "      <th>B</th>\n",
       "      <td>5013</td>\n",
       "      <td>354</td>\n",
       "      <td>0.070616</td>\n",
       "    </tr>\n",
       "    <tr>\n",
       "      <th>C</th>\n",
       "      <td>15922</td>\n",
       "      <td>1353</td>\n",
       "      <td>0.084977</td>\n",
       "    </tr>\n",
       "    <tr>\n",
       "      <th>D</th>\n",
       "      <td>349</td>\n",
       "      <td>21</td>\n",
       "      <td>0.060172</td>\n",
       "    </tr>\n",
       "    <tr>\n",
       "      <th>E</th>\n",
       "      <td>22</td>\n",
       "      <td>2</td>\n",
       "      <td>0.090909</td>\n",
       "    </tr>\n",
       "  </tbody>\n",
       "</table>\n",
       "</div>"
      ],
      "text/plain": [
       "                       count   sum      mean\n",
       "total_income_category                       \n",
       "A                         25     2  0.080000\n",
       "B                       5013   354  0.070616\n",
       "C                      15922  1353  0.084977\n",
       "D                        349    21  0.060172\n",
       "E                         22     2  0.090909"
      ]
     },
     "execution_count": 41,
     "metadata": {},
     "output_type": "execute_result"
    }
   ],
   "source": [
    "# сгруппируем данные по категории дохода, сумме должников и доле должников\n",
    "income_debt = data.groupby('total_income_category')['debt'].agg(['count', 'sum', 'mean'])\n",
    "income_debt"
   ]
  },
  {
   "cell_type": "code",
   "execution_count": 42,
   "id": "4a8777ca",
   "metadata": {},
   "outputs": [
    {
     "data": {
      "image/png": "[encoded data removed]",
      "text/plain": [
       "<Figure size 432x288 with 1 Axes>"
      ]
     },
     "metadata": {
      "needs_background": "light"
     },
     "output_type": "display_data"
    }
   ],
   "source": [
    "# график зависимости дохода и возврата кредита в срок\n",
    "sb.barplot(x=['A', 'B', 'C', 'D', 'E'], y=income_debt['mean']);"
   ]
  },
  {
   "cell_type": "markdown",
   "id": "c6b0f68d",
   "metadata": {},
   "source": [
    "##### Вывод 3:  \n",
    "***Заёмщики категории D (30001–50000) самые надёжные, но их очень мало.  Люди из категории С(50001–200000) берут больше всего кредитов и процент невозвратов 8,4% - почти самый высокий.***"
   ]
  },
  {
   "cell_type": "markdown",
   "id": "aa73a076",
   "metadata": {},
   "source": [
    "##### Вопрос 4: Как разные цели кредита влияют на его возврат в срок?"
   ]
  },
  {
   "cell_type": "code",
   "execution_count": 43,
   "id": "14f498d4",
   "metadata": {},
   "outputs": [
    {
     "data": {
      "text/html": [
       "<div>\n",
       "<style scoped>\n",
       "    .dataframe tbody tr th:only-of-type {\n",
       "        vertical-align: middle;\n",
       "    }\n",
       "\n",
       "    .dataframe tbody tr th {\n",
       "        vertical-align: top;\n",
       "    }\n",
       "\n",
       "    .dataframe thead th {\n",
       "        text-align: right;\n",
       "    }\n",
       "</style>\n",
       "<table border=\"1\" class=\"dataframe\">\n",
       "  <thead>\n",
       "    <tr style=\"text-align: right;\">\n",
       "      <th></th>\n",
       "      <th>count</th>\n",
       "      <th>sum</th>\n",
       "      <th>mean</th>\n",
       "    </tr>\n",
       "    <tr>\n",
       "      <th>purpose_category</th>\n",
       "      <th></th>\n",
       "      <th></th>\n",
       "      <th></th>\n",
       "    </tr>\n",
       "  </thead>\n",
       "  <tbody>\n",
       "    <tr>\n",
       "      <th>операции с автомобилем</th>\n",
       "      <td>4279</td>\n",
       "      <td>400</td>\n",
       "      <td>0.093480</td>\n",
       "    </tr>\n",
       "    <tr>\n",
       "      <th>получение образования</th>\n",
       "      <td>3988</td>\n",
       "      <td>369</td>\n",
       "      <td>0.092528</td>\n",
       "    </tr>\n",
       "    <tr>\n",
       "      <th>проведение свадьбы</th>\n",
       "      <td>2313</td>\n",
       "      <td>183</td>\n",
       "      <td>0.079118</td>\n",
       "    </tr>\n",
       "    <tr>\n",
       "      <th>операции с недвижимостью</th>\n",
       "      <td>10751</td>\n",
       "      <td>780</td>\n",
       "      <td>0.072551</td>\n",
       "    </tr>\n",
       "  </tbody>\n",
       "</table>\n",
       "</div>"
      ],
      "text/plain": [
       "                          count  sum      mean\n",
       "purpose_category                              \n",
       "операции с автомобилем     4279  400  0.093480\n",
       "получение образования      3988  369  0.092528\n",
       "проведение свадьбы         2313  183  0.079118\n",
       "операции с недвижимостью  10751  780  0.072551"
      ]
     },
     "execution_count": 43,
     "metadata": {},
     "output_type": "execute_result"
    }
   ],
   "source": [
    "# сгруппируем данные по категории цели, сумме должников и доле должников\n",
    "purpose_debt_category = data.groupby(['purpose_category'])['debt'].agg(['count', 'sum', 'mean']).sort_values('mean', ascending=False)\n",
    "purpose_debt_category"
   ]
  },
  {
   "cell_type": "code",
   "execution_count": 44,
   "id": "3e12505e",
   "metadata": {},
   "outputs": [
    {
     "data": {
      "image/png": "[encoded data removed]",
      "text/plain": [
       "<Figure size 432x288 with 1 Axes>"
      ]
     },
     "metadata": {
      "needs_background": "light"
     },
     "output_type": "display_data"
    }
   ],
   "source": [
    "#график\n",
    "sb.barplot(x=purpose_debt_category['mean'], y=['операции с автомобилем', 'получение образования', 'проведение свадьбы', 'операции с недвижимостью']);"
   ]
  },
  {
   "cell_type": "markdown",
   "id": "8c8d2be2",
   "metadata": {},
   "source": [
    "Посмотрим должников по целям"
   ]
  },
  {
   "cell_type": "code",
   "execution_count": 45,
   "id": "ad287368",
   "metadata": {},
   "outputs": [
    {
     "data": {
      "text/html": [
       "<div>\n",
       "<style scoped>\n",
       "    .dataframe tbody tr th:only-of-type {\n",
       "        vertical-align: middle;\n",
       "    }\n",
       "\n",
       "    .dataframe tbody tr th {\n",
       "        vertical-align: top;\n",
       "    }\n",
       "\n",
       "    .dataframe thead th {\n",
       "        text-align: right;\n",
       "    }\n",
       "</style>\n",
       "<table border=\"1\" class=\"dataframe\">\n",
       "  <thead>\n",
       "    <tr style=\"text-align: right;\">\n",
       "      <th></th>\n",
       "      <th></th>\n",
       "      <th>count</th>\n",
       "      <th>sum</th>\n",
       "      <th>mean</th>\n",
       "    </tr>\n",
       "    <tr>\n",
       "      <th>purpose_category</th>\n",
       "      <th>purpose</th>\n",
       "      <th></th>\n",
       "      <th></th>\n",
       "      <th></th>\n",
       "    </tr>\n",
       "  </thead>\n",
       "  <tbody>\n",
       "    <tr>\n",
       "      <th>получение образования</th>\n",
       "      <th>получение дополнительного образования</th>\n",
       "      <td>444</td>\n",
       "      <td>51</td>\n",
       "      <td>0.114865</td>\n",
       "    </tr>\n",
       "    <tr>\n",
       "      <th>операции с автомобилем</th>\n",
       "      <th>сделка с автомобилем</th>\n",
       "      <td>455</td>\n",
       "      <td>50</td>\n",
       "      <td>0.109890</td>\n",
       "    </tr>\n",
       "    <tr>\n",
       "      <th>получение образования</th>\n",
       "      <th>получение высшего образования</th>\n",
       "      <td>425</td>\n",
       "      <td>46</td>\n",
       "      <td>0.108235</td>\n",
       "    </tr>\n",
       "    <tr>\n",
       "      <th>операции с автомобилем</th>\n",
       "      <th>сделка с подержанным автомобилем</th>\n",
       "      <td>481</td>\n",
       "      <td>51</td>\n",
       "      <td>0.106029</td>\n",
       "    </tr>\n",
       "    <tr>\n",
       "      <th>получение образования</th>\n",
       "      <th>профильное образование</th>\n",
       "      <td>432</td>\n",
       "      <td>44</td>\n",
       "      <td>0.101852</td>\n",
       "    </tr>\n",
       "    <tr>\n",
       "      <th>операции с автомобилем</th>\n",
       "      <th>свой автомобиль</th>\n",
       "      <td>473</td>\n",
       "      <td>47</td>\n",
       "      <td>0.099366</td>\n",
       "    </tr>\n",
       "    <tr>\n",
       "      <th>получение образования</th>\n",
       "      <th>заняться образованием</th>\n",
       "      <td>408</td>\n",
       "      <td>39</td>\n",
       "      <td>0.095588</td>\n",
       "    </tr>\n",
       "    <tr>\n",
       "      <th rowspan=\"4\" valign=\"top\">операции с автомобилем</th>\n",
       "      <th>на покупку автомобиля</th>\n",
       "      <td>469</td>\n",
       "      <td>44</td>\n",
       "      <td>0.093817</td>\n",
       "    </tr>\n",
       "    <tr>\n",
       "      <th>автомобили</th>\n",
       "      <td>476</td>\n",
       "      <td>44</td>\n",
       "      <td>0.092437</td>\n",
       "    </tr>\n",
       "    <tr>\n",
       "      <th>приобретение автомобиля</th>\n",
       "      <td>459</td>\n",
       "      <td>42</td>\n",
       "      <td>0.091503</td>\n",
       "    </tr>\n",
       "    <tr>\n",
       "      <th>на покупку своего автомобиля</th>\n",
       "      <td>504</td>\n",
       "      <td>46</td>\n",
       "      <td>0.091270</td>\n",
       "    </tr>\n",
       "    <tr>\n",
       "      <th>получение образования</th>\n",
       "      <th>высшее образование</th>\n",
       "      <td>446</td>\n",
       "      <td>40</td>\n",
       "      <td>0.089686</td>\n",
       "    </tr>\n",
       "    <tr>\n",
       "      <th>операции с недвижимостью</th>\n",
       "      <th>строительство недвижимости</th>\n",
       "      <td>619</td>\n",
       "      <td>54</td>\n",
       "      <td>0.087237</td>\n",
       "    </tr>\n",
       "    <tr>\n",
       "      <th rowspan=\"2\" valign=\"top\">получение образования</th>\n",
       "      <th>заняться высшим образованием</th>\n",
       "      <td>496</td>\n",
       "      <td>43</td>\n",
       "      <td>0.086694</td>\n",
       "    </tr>\n",
       "    <tr>\n",
       "      <th>дополнительное образование</th>\n",
       "      <td>455</td>\n",
       "      <td>38</td>\n",
       "      <td>0.083516</td>\n",
       "    </tr>\n",
       "    <tr>\n",
       "      <th>операции с автомобилем</th>\n",
       "      <th>автомобиль</th>\n",
       "      <td>491</td>\n",
       "      <td>41</td>\n",
       "      <td>0.083503</td>\n",
       "    </tr>\n",
       "    <tr>\n",
       "      <th>операции с недвижимостью</th>\n",
       "      <th>операции с недвижимостью</th>\n",
       "      <td>672</td>\n",
       "      <td>55</td>\n",
       "      <td>0.081845</td>\n",
       "    </tr>\n",
       "    <tr>\n",
       "      <th>получение образования</th>\n",
       "      <th>получение образования</th>\n",
       "      <td>440</td>\n",
       "      <td>36</td>\n",
       "      <td>0.081818</td>\n",
       "    </tr>\n",
       "    <tr>\n",
       "      <th>проведение свадьбы</th>\n",
       "      <th>свадьба</th>\n",
       "      <td>790</td>\n",
       "      <td>64</td>\n",
       "      <td>0.081013</td>\n",
       "    </tr>\n",
       "    <tr>\n",
       "      <th rowspan=\"3\" valign=\"top\">операции с недвижимостью</th>\n",
       "      <th>операции с коммерческой недвижимостью</th>\n",
       "      <td>645</td>\n",
       "      <td>52</td>\n",
       "      <td>0.080620</td>\n",
       "    </tr>\n",
       "    <tr>\n",
       "      <th>операции со своей недвижимостью</th>\n",
       "      <td>623</td>\n",
       "      <td>50</td>\n",
       "      <td>0.080257</td>\n",
       "    </tr>\n",
       "    <tr>\n",
       "      <th>покупка жилья для сдачи</th>\n",
       "      <td>649</td>\n",
       "      <td>52</td>\n",
       "      <td>0.080123</td>\n",
       "    </tr>\n",
       "    <tr>\n",
       "      <th>проведение свадьбы</th>\n",
       "      <th>на проведение свадьбы</th>\n",
       "      <td>763</td>\n",
       "      <td>61</td>\n",
       "      <td>0.079948</td>\n",
       "    </tr>\n",
       "    <tr>\n",
       "      <th>операции с недвижимостью</th>\n",
       "      <th>строительство жилой недвижимости</th>\n",
       "      <td>620</td>\n",
       "      <td>48</td>\n",
       "      <td>0.077419</td>\n",
       "    </tr>\n",
       "    <tr>\n",
       "      <th>проведение свадьбы</th>\n",
       "      <th>сыграть свадьбу</th>\n",
       "      <td>760</td>\n",
       "      <td>58</td>\n",
       "      <td>0.076316</td>\n",
       "    </tr>\n",
       "    <tr>\n",
       "      <th>операции с недвижимостью</th>\n",
       "      <th>покупка жилья</th>\n",
       "      <td>640</td>\n",
       "      <td>48</td>\n",
       "      <td>0.075000</td>\n",
       "    </tr>\n",
       "    <tr>\n",
       "      <th>операции с автомобилем</th>\n",
       "      <th>на покупку подержанного автомобиля</th>\n",
       "      <td>471</td>\n",
       "      <td>35</td>\n",
       "      <td>0.074310</td>\n",
       "    </tr>\n",
       "    <tr>\n",
       "      <th>операции с недвижимостью</th>\n",
       "      <th>операции с жильем</th>\n",
       "      <td>647</td>\n",
       "      <td>48</td>\n",
       "      <td>0.074189</td>\n",
       "    </tr>\n",
       "    <tr>\n",
       "      <th>получение образования</th>\n",
       "      <th>образование</th>\n",
       "      <td>442</td>\n",
       "      <td>32</td>\n",
       "      <td>0.072398</td>\n",
       "    </tr>\n",
       "    <tr>\n",
       "      <th rowspan=\"9\" valign=\"top\">операции с недвижимостью</th>\n",
       "      <th>жилье</th>\n",
       "      <td>641</td>\n",
       "      <td>46</td>\n",
       "      <td>0.071763</td>\n",
       "    </tr>\n",
       "    <tr>\n",
       "      <th>покупка жилья для семьи</th>\n",
       "      <td>637</td>\n",
       "      <td>45</td>\n",
       "      <td>0.070644</td>\n",
       "    </tr>\n",
       "    <tr>\n",
       "      <th>покупка коммерческой недвижимости</th>\n",
       "      <td>658</td>\n",
       "      <td>46</td>\n",
       "      <td>0.069909</td>\n",
       "    </tr>\n",
       "    <tr>\n",
       "      <th>покупка недвижимости</th>\n",
       "      <td>616</td>\n",
       "      <td>43</td>\n",
       "      <td>0.069805</td>\n",
       "    </tr>\n",
       "    <tr>\n",
       "      <th>покупка жилой недвижимости</th>\n",
       "      <td>602</td>\n",
       "      <td>41</td>\n",
       "      <td>0.068106</td>\n",
       "    </tr>\n",
       "    <tr>\n",
       "      <th>недвижимость</th>\n",
       "      <td>631</td>\n",
       "      <td>42</td>\n",
       "      <td>0.066561</td>\n",
       "    </tr>\n",
       "    <tr>\n",
       "      <th>строительство собственной недвижимости</th>\n",
       "      <td>628</td>\n",
       "      <td>41</td>\n",
       "      <td>0.065287</td>\n",
       "    </tr>\n",
       "    <tr>\n",
       "      <th>ремонт жилью</th>\n",
       "      <td>604</td>\n",
       "      <td>35</td>\n",
       "      <td>0.057947</td>\n",
       "    </tr>\n",
       "    <tr>\n",
       "      <th>покупка своего жилья</th>\n",
       "      <td>619</td>\n",
       "      <td>34</td>\n",
       "      <td>0.054927</td>\n",
       "    </tr>\n",
       "  </tbody>\n",
       "</table>\n",
       "</div>"
      ],
      "text/plain": [
       "                                                                 count  sum  \\\n",
       "purpose_category         purpose                                              \n",
       "получение образования    получение дополнительного образования     444   51   \n",
       "операции с автомобилем   сделка с автомобилем                      455   50   \n",
       "получение образования    получение высшего образования             425   46   \n",
       "операции с автомобилем   сделка с подержанным автомобилем          481   51   \n",
       "получение образования    профильное образование                    432   44   \n",
       "операции с автомобилем   свой автомобиль                           473   47   \n",
       "получение образования    заняться образованием                     408   39   \n",
       "операции с автомобилем   на покупку автомобиля                     469   44   \n",
       "                         автомобили                                476   44   \n",
       "                         приобретение автомобиля                   459   42   \n",
       "                         на покупку своего автомобиля              504   46   \n",
       "получение образования    высшее образование                        446   40   \n",
       "операции с недвижимостью строительство недвижимости                619   54   \n",
       "получение образования    заняться высшим образованием              496   43   \n",
       "                         дополнительное образование                455   38   \n",
       "операции с автомобилем   автомобиль                                491   41   \n",
       "операции с недвижимостью операции с недвижимостью                  672   55   \n",
       "получение образования    получение образования                     440   36   \n",
       "проведение свадьбы       свадьба                                   790   64   \n",
       "операции с недвижимостью операции с коммерческой недвижимостью     645   52   \n",
       "                         операции со своей недвижимостью           623   50   \n",
       "                         покупка жилья для сдачи                   649   52   \n",
       "проведение свадьбы       на проведение свадьбы                     763   61   \n",
       "операции с недвижимостью строительство жилой недвижимости          620   48   \n",
       "проведение свадьбы       сыграть свадьбу                           760   58   \n",
       "операции с недвижимостью покупка жилья                             640   48   \n",
       "операции с автомобилем   на покупку подержанного автомобиля        471   35   \n",
       "операции с недвижимостью операции с жильем                         647   48   \n",
       "получение образования    образование                               442   32   \n",
       "операции с недвижимостью жилье                                     641   46   \n",
       "                         покупка жилья для семьи                   637   45   \n",
       "                         покупка коммерческой недвижимости         658   46   \n",
       "                         покупка недвижимости                      616   43   \n",
       "                         покупка жилой недвижимости                602   41   \n",
       "                         недвижимость                              631   42   \n",
       "                         строительство собственной недвижимости    628   41   \n",
       "                         ремонт жилью                              604   35   \n",
       "                         покупка своего жилья                      619   34   \n",
       "\n",
       "                                                                     mean  \n",
       "purpose_category         purpose                                           \n",
       "получение образования    получение дополнительного образования   0.114865  \n",
       "операции с автомобилем   сделка с автомобилем                    0.109890  \n",
       "получение образования    получение высшего образования           0.108235  \n",
       "операции с автомобилем   сделка с подержанным автомобилем        0.106029  \n",
       "получение образования    профильное образование                  0.101852  \n",
       "операции с автомобилем   свой автомобиль                         0.099366  \n",
       "получение образования    заняться образованием                   0.095588  \n",
       "операции с автомобилем   на покупку автомобиля                   0.093817  \n",
       "                         автомобили                              0.092437  \n",
       "                         приобретение автомобиля                 0.091503  \n",
       "                         на покупку своего автомобиля            0.091270  \n",
       "получение образования    высшее образование                      0.089686  \n",
       "операции с недвижимостью строительство недвижимости              0.087237  \n",
       "получение образования    заняться высшим образованием            0.086694  \n",
       "                         дополнительное образование              0.083516  \n",
       "операции с автомобилем   автомобиль                              0.083503  \n",
       "операции с недвижимостью операции с недвижимостью                0.081845  \n",
       "получение образования    получение образования                   0.081818  \n",
       "проведение свадьбы       свадьба                                 0.081013  \n",
       "операции с недвижимостью операции с коммерческой недвижимостью   0.080620  \n",
       "                         операции со своей недвижимостью         0.080257  \n",
       "                         покупка жилья для сдачи                 0.080123  \n",
       "проведение свадьбы       на проведение свадьбы                   0.079948  \n",
       "операции с недвижимостью строительство жилой недвижимости        0.077419  \n",
       "проведение свадьбы       сыграть свадьбу                         0.076316  \n",
       "операции с недвижимостью покупка жилья                           0.075000  \n",
       "операции с автомобилем   на покупку подержанного автомобиля      0.074310  \n",
       "операции с недвижимостью операции с жильем                       0.074189  \n",
       "получение образования    образование                             0.072398  \n",
       "операции с недвижимостью жилье                                   0.071763  \n",
       "                         покупка жилья для семьи                 0.070644  \n",
       "                         покупка коммерческой недвижимости       0.069909  \n",
       "                         покупка недвижимости                    0.069805  \n",
       "                         покупка жилой недвижимости              0.068106  \n",
       "                         недвижимость                            0.066561  \n",
       "                         строительство собственной недвижимости  0.065287  \n",
       "                         ремонт жилью                            0.057947  \n",
       "                         покупка своего жилья                    0.054927  "
      ]
     },
     "execution_count": 45,
     "metadata": {},
     "output_type": "execute_result"
    }
   ],
   "source": [
    "# сгруппируем данные по категории цели, цели, сумме должников и доле должников\n",
    "data.groupby(['purpose_category','purpose'])['debt'].agg(['count', 'sum', 'mean']).sort_values('mean', ascending=False)"
   ]
  },
  {
   "cell_type": "markdown",
   "id": "30cd24e0",
   "metadata": {},
   "source": [
    "##### Вывод 4: \n",
    "Больше должников берут кредит на автомобиль и образование. Если смотреть более детально, то \"получение дополнительного образования\" и \"сделка с автомобилем\". Самая надёжная категория - кредит на недвижимость, эта категирия является еще и самой большой (больше 10000)."
   ]
  },
  {
   "cell_type": "markdown",
   "id": "73c6f1ad",
   "metadata": {},
   "source": [
    "## Общий вывод:"
   ]
  },
  {
   "cell_type": "markdown",
   "id": "b370fb7b",
   "metadata": {},
   "source": [
    "***Я провел исследование влияет ли семейное положение и количество детей клиента на факт погашения кредита в срок.***\n",
    "\n",
    "***В данных присутсвует много ошибок, таких как \"отработанные дни\" (разработчикам стоит обратить внимание). Категориальные данные надо строже упорядочить, возможно ввести списки для выбора категории, исключив самостоятельный ввод.***\n",
    "***Можно ввсети дополительные категории к доходу и целям. Также я бы ввёл более детальное заполнение для неработающих людей, данные просто остаются пустыми.***\n",
    "\n",
    "***Пропуски и ошибки удалось обработать. Методы обработки можно усовершенствовать: пропущенный возраст можно заполнять исходя из гендерности, а доход исходя из категории заёмщика.***\n",
    "\n",
    "***Результаты:***\n",
    "\n",
    "***- Процент должников ниже у людей без детей, этой категории заёмщиков давать кредиты менее рискованно и они занимают долю 66% от общего числа! Семьи с одним и двумя детьми имеют самые высокие показатели задолженности.***\n",
    "\n",
    "***- Заёмщики не состоящие в браке имеют самый высокий показатель задолженности, как и люди в гражданском браке. Основная категория заёмщиков, а их больше половины, - это люди в браке, их показатель 7,5%, не самы низкий показатель, но и отличается менее, чем на оди процент от самых низкорискованных (вдовцы - 6,6%).***\n",
    "\n",
    "***Так же выяснил, что заёмщики категории D (30001–50000) самые надёжные, но их очень мало.  Люди из категории С(50001–200000) берут больше всего кредитов и процент невозвратов 8,4% - почти самый высокий! И кредиты на недвижимость самые популярные и самые надёжные.***\n",
    "\n",
    "***В целом надёжнее всего давать кредиты на недвижимость людям без детей, сотоящим в браке.***"
   ]
  }
 ],
 "metadata": {
  "ExecuteTimeLog": [
   {
    "duration": 640,
    "start_time": "2022-05-08T16:04:30.927Z"
   },
   {
    "duration": 75,
    "start_time": "2022-05-08T16:04:54.238Z"
   },
   {
    "duration": 114,
    "start_time": "2022-05-08T16:06:07.138Z"
   },
   {
    "duration": 103,
    "start_time": "2022-05-08T17:23:46.569Z"
   },
   {
    "duration": 66,
    "start_time": "2022-05-09T11:20:19.689Z"
   },
   {
    "duration": 633,
    "start_time": "2022-05-09T11:20:21.120Z"
   },
   {
    "duration": 24,
    "start_time": "2022-05-09T11:20:32.560Z"
   },
   {
    "duration": 20,
    "start_time": "2022-05-09T11:45:14.007Z"
   },
   {
    "duration": 10,
    "start_time": "2022-05-09T11:45:22.642Z"
   },
   {
    "duration": 5,
    "start_time": "2022-05-09T11:47:37.060Z"
   },
   {
    "duration": 19,
    "start_time": "2022-05-09T11:49:15.180Z"
   },
   {
    "duration": 10,
    "start_time": "2022-05-09T11:49:25.346Z"
   },
   {
    "duration": 20,
    "start_time": "2022-05-09T11:52:05.046Z"
   },
   {
    "duration": 5,
    "start_time": "2022-05-09T11:52:42.422Z"
   },
   {
    "duration": 20,
    "start_time": "2022-05-09T11:54:07.063Z"
   },
   {
    "duration": 11,
    "start_time": "2022-05-09T11:54:20.339Z"
   },
   {
    "duration": 21,
    "start_time": "2022-05-09T11:56:37.485Z"
   },
   {
    "duration": 14,
    "start_time": "2022-05-09T11:56:55.713Z"
   },
   {
    "duration": 14,
    "start_time": "2022-05-09T11:57:02.353Z"
   },
   {
    "duration": 14,
    "start_time": "2022-05-09T11:57:41.907Z"
   },
   {
    "duration": 35,
    "start_time": "2022-05-09T12:00:44.193Z"
   },
   {
    "duration": 15,
    "start_time": "2022-05-09T12:00:53.206Z"
   },
   {
    "duration": 10,
    "start_time": "2022-05-09T12:01:08.625Z"
   },
   {
    "duration": 9,
    "start_time": "2022-05-09T12:04:09.569Z"
   },
   {
    "duration": 14,
    "start_time": "2022-05-09T12:04:49.865Z"
   },
   {
    "duration": 12,
    "start_time": "2022-05-09T12:05:02.310Z"
   },
   {
    "duration": 26,
    "start_time": "2022-05-09T12:05:55.584Z"
   },
   {
    "duration": 21,
    "start_time": "2022-05-09T12:06:06.250Z"
   },
   {
    "duration": 12,
    "start_time": "2022-05-09T12:07:57.958Z"
   },
   {
    "duration": 6,
    "start_time": "2022-05-09T12:09:04.946Z"
   },
   {
    "duration": 12,
    "start_time": "2022-05-09T12:09:30.327Z"
   },
   {
    "duration": 8,
    "start_time": "2022-05-09T12:09:55.179Z"
   },
   {
    "duration": 5,
    "start_time": "2022-05-09T12:11:22.822Z"
   },
   {
    "duration": 4,
    "start_time": "2022-05-09T12:11:52.593Z"
   },
   {
    "duration": 14,
    "start_time": "2022-05-09T12:12:13.662Z"
   },
   {
    "duration": 4,
    "start_time": "2022-05-09T12:14:56.826Z"
   },
   {
    "duration": 13,
    "start_time": "2022-05-09T12:15:22.290Z"
   },
   {
    "duration": 8,
    "start_time": "2022-05-09T12:31:38.418Z"
   },
   {
    "duration": 9,
    "start_time": "2022-05-09T12:31:43.545Z"
   },
   {
    "duration": 3,
    "start_time": "2022-05-09T12:31:55.733Z"
   },
   {
    "duration": 11,
    "start_time": "2022-05-09T12:33:09.809Z"
   },
   {
    "duration": 7,
    "start_time": "2022-05-09T12:33:27.764Z"
   },
   {
    "duration": 6,
    "start_time": "2022-05-09T12:34:15.700Z"
   },
   {
    "duration": 22,
    "start_time": "2022-05-09T12:34:34.775Z"
   },
   {
    "duration": 10,
    "start_time": "2022-05-09T12:34:44.091Z"
   },
   {
    "duration": 9,
    "start_time": "2022-05-09T12:39:14.224Z"
   },
   {
    "duration": 22,
    "start_time": "2022-05-09T12:41:44.982Z"
   },
   {
    "duration": 21,
    "start_time": "2022-05-09T12:42:10.149Z"
   },
   {
    "duration": 15,
    "start_time": "2022-05-09T12:42:21.028Z"
   },
   {
    "duration": 10,
    "start_time": "2022-05-09T12:42:26.275Z"
   },
   {
    "duration": 75,
    "start_time": "2022-05-09T12:42:42.019Z"
   },
   {
    "duration": 9,
    "start_time": "2022-05-09T12:42:57.503Z"
   },
   {
    "duration": 15,
    "start_time": "2022-05-09T12:43:07.312Z"
   },
   {
    "duration": 20,
    "start_time": "2022-05-09T12:43:11.984Z"
   },
   {
    "duration": 135,
    "start_time": "2022-05-09T12:43:44.494Z"
   },
   {
    "duration": 20,
    "start_time": "2022-05-09T12:43:54.141Z"
   },
   {
    "duration": 12,
    "start_time": "2022-05-09T12:44:10.927Z"
   },
   {
    "duration": 9,
    "start_time": "2022-05-09T12:44:24.466Z"
   },
   {
    "duration": 9,
    "start_time": "2022-05-09T12:44:35.152Z"
   },
   {
    "duration": 5,
    "start_time": "2022-05-09T12:44:50.429Z"
   },
   {
    "duration": 19,
    "start_time": "2022-05-09T12:44:57.954Z"
   },
   {
    "duration": 10,
    "start_time": "2022-05-09T12:46:37.064Z"
   },
   {
    "duration": 10,
    "start_time": "2022-05-09T12:46:43.412Z"
   },
   {
    "duration": 10,
    "start_time": "2022-05-09T12:46:55.515Z"
   },
   {
    "duration": 6,
    "start_time": "2022-05-09T12:47:03.010Z"
   },
   {
    "duration": 214,
    "start_time": "2022-05-11T10:44:54.983Z"
   },
   {
    "duration": 64,
    "start_time": "2022-05-11T10:46:56.994Z"
   },
   {
    "duration": 11,
    "start_time": "2022-05-11T10:46:59.848Z"
   },
   {
    "duration": 612,
    "start_time": "2022-05-11T10:47:04.395Z"
   },
   {
    "duration": 213,
    "start_time": "2022-05-11T10:47:05.010Z"
   },
   {
    "duration": 0,
    "start_time": "2022-05-11T10:47:05.226Z"
   },
   {
    "duration": 0,
    "start_time": "2022-05-11T10:47:05.228Z"
   },
   {
    "duration": 0,
    "start_time": "2022-05-11T10:47:05.230Z"
   },
   {
    "duration": 0,
    "start_time": "2022-05-11T10:47:05.232Z"
   },
   {
    "duration": 0,
    "start_time": "2022-05-11T10:47:05.233Z"
   },
   {
    "duration": 88,
    "start_time": "2022-05-11T10:47:15.040Z"
   },
   {
    "duration": 228,
    "start_time": "2022-05-11T10:47:15.131Z"
   },
   {
    "duration": 0,
    "start_time": "2022-05-11T10:47:15.361Z"
   },
   {
    "duration": 0,
    "start_time": "2022-05-11T10:47:15.363Z"
   },
   {
    "duration": 0,
    "start_time": "2022-05-11T10:47:15.364Z"
   },
   {
    "duration": 0,
    "start_time": "2022-05-11T10:47:15.366Z"
   },
   {
    "duration": 0,
    "start_time": "2022-05-11T10:47:15.368Z"
   },
   {
    "duration": 28,
    "start_time": "2022-05-11T10:47:35.591Z"
   },
   {
    "duration": 19,
    "start_time": "2022-05-11T10:48:15.997Z"
   },
   {
    "duration": 13,
    "start_time": "2022-05-11T10:48:49.579Z"
   },
   {
    "duration": 21,
    "start_time": "2022-05-11T10:51:01.435Z"
   },
   {
    "duration": 22,
    "start_time": "2022-05-11T10:51:02.230Z"
   },
   {
    "duration": 20,
    "start_time": "2022-05-11T10:51:10.269Z"
   },
   {
    "duration": 8,
    "start_time": "2022-05-11T10:51:14.618Z"
   },
   {
    "duration": 5,
    "start_time": "2022-05-11T10:56:56.685Z"
   },
   {
    "duration": 45,
    "start_time": "2022-05-11T10:57:00.762Z"
   },
   {
    "duration": 12,
    "start_time": "2022-05-11T10:57:04.466Z"
   },
   {
    "duration": 13,
    "start_time": "2022-05-11T10:57:29.091Z"
   },
   {
    "duration": 13,
    "start_time": "2022-05-11T10:57:33.066Z"
   },
   {
    "duration": 13,
    "start_time": "2022-05-11T10:58:00.145Z"
   },
   {
    "duration": 12,
    "start_time": "2022-05-11T10:58:04.475Z"
   },
   {
    "duration": 88,
    "start_time": "2022-05-11T10:58:10.510Z"
   },
   {
    "duration": 20,
    "start_time": "2022-05-11T10:58:10.601Z"
   },
   {
    "duration": 17,
    "start_time": "2022-05-11T10:58:10.623Z"
   },
   {
    "duration": 51,
    "start_time": "2022-05-11T10:58:10.643Z"
   },
   {
    "duration": 19,
    "start_time": "2022-05-11T10:58:10.698Z"
   },
   {
    "duration": 9,
    "start_time": "2022-05-11T10:58:10.719Z"
   },
   {
    "duration": 5,
    "start_time": "2022-05-11T10:58:10.730Z"
   },
   {
    "duration": 5,
    "start_time": "2022-05-11T10:58:23.975Z"
   },
   {
    "duration": 9,
    "start_time": "2022-05-11T10:58:29.748Z"
   },
   {
    "duration": 6,
    "start_time": "2022-05-11T10:58:42.563Z"
   },
   {
    "duration": 18,
    "start_time": "2022-05-11T10:59:17.510Z"
   },
   {
    "duration": 4,
    "start_time": "2022-05-11T10:59:27.605Z"
   },
   {
    "duration": 5,
    "start_time": "2022-05-11T10:59:36.447Z"
   },
   {
    "duration": 9,
    "start_time": "2022-05-11T10:59:54.753Z"
   },
   {
    "duration": 7,
    "start_time": "2022-05-11T11:00:14.992Z"
   },
   {
    "duration": 5,
    "start_time": "2022-05-11T11:00:53.141Z"
   },
   {
    "duration": 9,
    "start_time": "2022-05-11T11:01:10.823Z"
   },
   {
    "duration": 35,
    "start_time": "2022-05-11T11:02:48.141Z"
   },
   {
    "duration": 11,
    "start_time": "2022-05-11T11:03:13.715Z"
   },
   {
    "duration": 31,
    "start_time": "2022-05-11T11:03:16.054Z"
   },
   {
    "duration": 33,
    "start_time": "2022-05-11T11:03:28.236Z"
   },
   {
    "duration": 89,
    "start_time": "2022-05-11T11:03:55.029Z"
   },
   {
    "duration": 19,
    "start_time": "2022-05-11T11:03:55.120Z"
   },
   {
    "duration": 19,
    "start_time": "2022-05-11T11:03:55.142Z"
   },
   {
    "duration": 39,
    "start_time": "2022-05-11T11:03:55.164Z"
   },
   {
    "duration": 18,
    "start_time": "2022-05-11T11:03:55.206Z"
   },
   {
    "duration": 14,
    "start_time": "2022-05-11T11:03:55.226Z"
   },
   {
    "duration": 204,
    "start_time": "2022-05-11T11:04:28.595Z"
   },
   {
    "duration": 27,
    "start_time": "2022-05-11T11:04:34.555Z"
   },
   {
    "duration": 26,
    "start_time": "2022-05-11T11:05:00.320Z"
   },
   {
    "duration": 9,
    "start_time": "2022-05-11T11:07:06.380Z"
   },
   {
    "duration": 7,
    "start_time": "2022-05-11T11:07:17.323Z"
   },
   {
    "duration": 13,
    "start_time": "2022-05-11T11:07:42.853Z"
   },
   {
    "duration": 13,
    "start_time": "2022-05-11T11:07:50.257Z"
   },
   {
    "duration": 11,
    "start_time": "2022-05-11T11:07:58.706Z"
   },
   {
    "duration": 17,
    "start_time": "2022-05-11T11:08:11.521Z"
   },
   {
    "duration": 9,
    "start_time": "2022-05-11T11:08:23.189Z"
   },
   {
    "duration": 9,
    "start_time": "2022-05-11T11:08:42.029Z"
   },
   {
    "duration": 5,
    "start_time": "2022-05-11T11:09:20.363Z"
   },
   {
    "duration": 13,
    "start_time": "2022-05-11T11:09:28.909Z"
   },
   {
    "duration": 9,
    "start_time": "2022-05-11T11:09:30.445Z"
   },
   {
    "duration": 5,
    "start_time": "2022-05-11T11:09:31.682Z"
   },
   {
    "duration": 101,
    "start_time": "2022-05-11T11:09:36.795Z"
   },
   {
    "duration": 19,
    "start_time": "2022-05-11T11:09:41.406Z"
   },
   {
    "duration": 15,
    "start_time": "2022-05-11T11:09:47.720Z"
   },
   {
    "duration": 19,
    "start_time": "2022-05-11T11:09:57.168Z"
   },
   {
    "duration": 21,
    "start_time": "2022-05-11T11:10:03.719Z"
   },
   {
    "duration": 9,
    "start_time": "2022-05-11T11:10:08.062Z"
   },
   {
    "duration": 9,
    "start_time": "2022-05-11T11:11:02.783Z"
   },
   {
    "duration": 6,
    "start_time": "2022-05-11T11:11:05.122Z"
   },
   {
    "duration": 30,
    "start_time": "2022-05-11T11:11:19.027Z"
   },
   {
    "duration": 16,
    "start_time": "2022-05-11T11:11:26.286Z"
   },
   {
    "duration": 14,
    "start_time": "2022-05-11T11:13:05.971Z"
   },
   {
    "duration": 222,
    "start_time": "2022-05-11T11:18:17.912Z"
   },
   {
    "duration": 1165,
    "start_time": "2022-05-11T11:18:31.680Z"
   },
   {
    "duration": 6,
    "start_time": "2022-05-11T11:19:08.120Z"
   },
   {
    "duration": 5,
    "start_time": "2022-05-11T11:19:30.867Z"
   },
   {
    "duration": 10,
    "start_time": "2022-05-11T11:19:48.629Z"
   },
   {
    "duration": 10,
    "start_time": "2022-05-11T11:21:12.756Z"
   },
   {
    "duration": 10,
    "start_time": "2022-05-11T11:21:51.214Z"
   },
   {
    "duration": 9,
    "start_time": "2022-05-11T11:22:41.014Z"
   },
   {
    "duration": 6,
    "start_time": "2022-05-11T11:24:01.560Z"
   },
   {
    "duration": 6,
    "start_time": "2022-05-11T11:24:35.350Z"
   },
   {
    "duration": 195,
    "start_time": "2022-05-11T11:24:53.718Z"
   },
   {
    "duration": 8,
    "start_time": "2022-05-11T11:24:58.691Z"
   },
   {
    "duration": 9,
    "start_time": "2022-05-11T11:26:18.881Z"
   },
   {
    "duration": 8,
    "start_time": "2022-05-11T11:27:03.178Z"
   },
   {
    "duration": 8,
    "start_time": "2022-05-11T11:27:39.459Z"
   },
   {
    "duration": 6,
    "start_time": "2022-05-11T11:28:24.839Z"
   },
   {
    "duration": 6,
    "start_time": "2022-05-11T11:28:47.763Z"
   },
   {
    "duration": 11,
    "start_time": "2022-05-11T11:29:39.846Z"
   },
   {
    "duration": 9,
    "start_time": "2022-05-11T11:30:18.365Z"
   },
   {
    "duration": 13,
    "start_time": "2022-05-11T11:30:45.969Z"
   },
   {
    "duration": 11,
    "start_time": "2022-05-11T11:31:05.726Z"
   },
   {
    "duration": 8,
    "start_time": "2022-05-11T11:32:44.241Z"
   },
   {
    "duration": 89,
    "start_time": "2022-05-11T11:36:51.611Z"
   },
   {
    "duration": 19,
    "start_time": "2022-05-11T11:36:55.356Z"
   },
   {
    "duration": 8,
    "start_time": "2022-05-11T11:36:57.865Z"
   },
   {
    "duration": 9,
    "start_time": "2022-05-11T11:41:39.490Z"
   },
   {
    "duration": 8,
    "start_time": "2022-05-11T11:41:54.485Z"
   },
   {
    "duration": 8,
    "start_time": "2022-05-11T11:42:02.452Z"
   },
   {
    "duration": 6,
    "start_time": "2022-05-11T11:43:24.005Z"
   },
   {
    "duration": 6,
    "start_time": "2022-05-11T11:43:32.666Z"
   },
   {
    "duration": 10,
    "start_time": "2022-05-11T11:44:28.215Z"
   },
   {
    "duration": 7,
    "start_time": "2022-05-11T11:44:36.742Z"
   },
   {
    "duration": 6,
    "start_time": "2022-05-11T11:44:44.716Z"
   },
   {
    "duration": 10,
    "start_time": "2022-05-11T11:45:08.996Z"
   },
   {
    "duration": 11,
    "start_time": "2022-05-11T11:45:15.078Z"
   },
   {
    "duration": 25,
    "start_time": "2022-05-11T11:46:12.799Z"
   },
   {
    "duration": 8,
    "start_time": "2022-05-11T11:46:23.756Z"
   },
   {
    "duration": 21,
    "start_time": "2022-05-11T11:46:44.792Z"
   },
   {
    "duration": 8,
    "start_time": "2022-05-11T11:46:58.163Z"
   },
   {
    "duration": 20,
    "start_time": "2022-05-11T11:47:08.995Z"
   },
   {
    "duration": 6,
    "start_time": "2022-05-11T11:47:14.614Z"
   },
   {
    "duration": 25,
    "start_time": "2022-05-11T11:47:52.292Z"
   },
   {
    "duration": 8,
    "start_time": "2022-05-11T11:48:05.298Z"
   },
   {
    "duration": 10,
    "start_time": "2022-05-11T11:48:18.102Z"
   },
   {
    "duration": 9,
    "start_time": "2022-05-11T11:48:29.893Z"
   },
   {
    "duration": 20,
    "start_time": "2022-05-11T11:48:57.926Z"
   },
   {
    "duration": 10,
    "start_time": "2022-05-11T11:49:04.925Z"
   },
   {
    "duration": 8,
    "start_time": "2022-05-11T11:49:12.150Z"
   },
   {
    "duration": 25,
    "start_time": "2022-05-11T11:49:19.308Z"
   },
   {
    "duration": 19,
    "start_time": "2022-05-11T11:49:24.990Z"
   },
   {
    "duration": 15,
    "start_time": "2022-05-11T11:49:38.133Z"
   },
   {
    "duration": 9,
    "start_time": "2022-05-11T11:49:50.575Z"
   },
   {
    "duration": 9,
    "start_time": "2022-05-11T11:50:09.784Z"
   },
   {
    "duration": 9,
    "start_time": "2022-05-11T11:51:22.876Z"
   },
   {
    "duration": 10,
    "start_time": "2022-05-11T11:52:24.844Z"
   },
   {
    "duration": 13,
    "start_time": "2022-05-11T11:53:45.802Z"
   },
   {
    "duration": 289,
    "start_time": "2022-05-11T11:55:37.030Z"
   },
   {
    "duration": 9,
    "start_time": "2022-05-11T11:55:58.192Z"
   },
   {
    "duration": 92,
    "start_time": "2022-05-11T11:56:08.611Z"
   },
   {
    "duration": 19,
    "start_time": "2022-05-11T11:56:10.209Z"
   },
   {
    "duration": 8,
    "start_time": "2022-05-11T11:56:12.243Z"
   },
   {
    "duration": 10,
    "start_time": "2022-05-11T11:56:14.289Z"
   },
   {
    "duration": 9,
    "start_time": "2022-05-11T11:56:15.573Z"
   },
   {
    "duration": 7,
    "start_time": "2022-05-11T11:56:59.567Z"
   },
   {
    "duration": 8,
    "start_time": "2022-05-11T11:57:10.806Z"
   },
   {
    "duration": 8,
    "start_time": "2022-05-11T11:57:35.102Z"
   },
   {
    "duration": 8,
    "start_time": "2022-05-11T11:57:50.160Z"
   },
   {
    "duration": 255,
    "start_time": "2022-05-11T11:58:33.311Z"
   },
   {
    "duration": 6,
    "start_time": "2022-05-11T11:58:33.925Z"
   },
   {
    "duration": 7,
    "start_time": "2022-05-11T11:58:42.602Z"
   },
   {
    "duration": 7,
    "start_time": "2022-05-11T11:59:48.646Z"
   },
   {
    "duration": 7,
    "start_time": "2022-05-11T11:59:56.425Z"
   },
   {
    "duration": 9,
    "start_time": "2022-05-11T12:00:11.978Z"
   },
   {
    "duration": 14,
    "start_time": "2022-05-11T12:00:44.214Z"
   },
   {
    "duration": 13,
    "start_time": "2022-05-11T12:01:05.493Z"
   },
   {
    "duration": 11,
    "start_time": "2022-05-11T12:01:15.906Z"
   },
   {
    "duration": 7,
    "start_time": "2022-05-11T12:01:22.750Z"
   },
   {
    "duration": 6,
    "start_time": "2022-05-11T12:01:44.826Z"
   },
   {
    "duration": 7,
    "start_time": "2022-05-11T12:02:32.463Z"
   },
   {
    "duration": 23,
    "start_time": "2022-05-11T12:03:19.778Z"
   },
   {
    "duration": 104,
    "start_time": "2022-05-11T12:03:48.129Z"
   },
   {
    "duration": 15,
    "start_time": "2022-05-11T12:04:05.614Z"
   },
   {
    "duration": 7,
    "start_time": "2022-05-11T12:04:10.695Z"
   },
   {
    "duration": 11,
    "start_time": "2022-05-11T12:04:19.334Z"
   },
   {
    "duration": 7,
    "start_time": "2022-05-11T12:04:32.886Z"
   },
   {
    "duration": 11,
    "start_time": "2022-05-11T12:04:57.805Z"
   },
   {
    "duration": 13,
    "start_time": "2022-05-11T12:05:40.744Z"
   },
   {
    "duration": 25,
    "start_time": "2022-05-11T12:05:53.235Z"
   },
   {
    "duration": 7,
    "start_time": "2022-05-11T12:06:16.967Z"
   },
   {
    "duration": 13,
    "start_time": "2022-05-11T12:08:07.426Z"
   },
   {
    "duration": 10,
    "start_time": "2022-05-11T12:08:16.131Z"
   },
   {
    "duration": 11,
    "start_time": "2022-05-11T12:08:33.882Z"
   },
   {
    "duration": 10,
    "start_time": "2022-05-11T12:09:01.531Z"
   },
   {
    "duration": 12,
    "start_time": "2022-05-11T12:09:27.787Z"
   },
   {
    "duration": 15,
    "start_time": "2022-05-11T12:09:37.244Z"
   },
   {
    "duration": 12,
    "start_time": "2022-05-11T12:09:46.693Z"
   },
   {
    "duration": 197,
    "start_time": "2022-05-11T12:11:28.246Z"
   },
   {
    "duration": 203,
    "start_time": "2022-05-11T12:11:41.278Z"
   },
   {
    "duration": 206,
    "start_time": "2022-05-11T12:12:02.238Z"
   },
   {
    "duration": 15,
    "start_time": "2022-05-11T12:12:30.275Z"
   },
   {
    "duration": 26,
    "start_time": "2022-05-11T12:12:47.700Z"
   },
   {
    "duration": 12,
    "start_time": "2022-05-11T12:13:35.958Z"
   },
   {
    "duration": 13,
    "start_time": "2022-05-11T12:13:55.080Z"
   },
   {
    "duration": 87,
    "start_time": "2022-05-11T12:14:08.230Z"
   },
   {
    "duration": 13,
    "start_time": "2022-05-11T12:14:13.583Z"
   },
   {
    "duration": 10,
    "start_time": "2022-05-11T12:14:49.217Z"
   },
   {
    "duration": 383,
    "start_time": "2022-05-11T12:15:33.648Z"
   },
   {
    "duration": 208,
    "start_time": "2022-05-11T12:15:47.143Z"
   },
   {
    "duration": 259,
    "start_time": "2022-05-11T12:15:58.769Z"
   },
   {
    "duration": 239,
    "start_time": "2022-05-11T12:16:18.035Z"
   },
   {
    "duration": 620,
    "start_time": "2022-05-11T12:16:26.707Z"
   },
   {
    "duration": 6,
    "start_time": "2022-05-11T12:16:34.538Z"
   },
   {
    "duration": 6,
    "start_time": "2022-05-11T12:16:48.013Z"
   },
   {
    "duration": 9,
    "start_time": "2022-05-11T12:17:15.228Z"
   },
   {
    "duration": 265,
    "start_time": "2022-05-11T12:17:32.006Z"
   },
   {
    "duration": 9,
    "start_time": "2022-05-11T12:17:41.337Z"
   },
   {
    "duration": 8,
    "start_time": "2022-05-11T12:19:19.799Z"
   },
   {
    "duration": 8,
    "start_time": "2022-05-11T12:19:56.599Z"
   },
   {
    "duration": 6,
    "start_time": "2022-05-11T12:19:58.762Z"
   },
   {
    "duration": 8,
    "start_time": "2022-05-11T12:22:16.842Z"
   },
   {
    "duration": 3,
    "start_time": "2022-05-11T12:22:42.808Z"
   },
   {
    "duration": 8,
    "start_time": "2022-05-11T12:22:47.043Z"
   },
   {
    "duration": 6,
    "start_time": "2022-05-11T12:22:55.545Z"
   },
   {
    "duration": 7,
    "start_time": "2022-05-11T12:23:06.735Z"
   },
   {
    "duration": 6,
    "start_time": "2022-05-11T12:24:24.194Z"
   },
   {
    "duration": 8,
    "start_time": "2022-05-11T12:24:42.833Z"
   },
   {
    "duration": 11,
    "start_time": "2022-05-11T12:25:02.185Z"
   },
   {
    "duration": 8,
    "start_time": "2022-05-11T12:27:38.607Z"
   },
   {
    "duration": 8,
    "start_time": "2022-05-11T12:28:13.755Z"
   },
   {
    "duration": 261,
    "start_time": "2022-05-11T12:28:45.030Z"
   },
   {
    "duration": 22,
    "start_time": "2022-05-11T12:28:54.612Z"
   },
   {
    "duration": 15,
    "start_time": "2022-05-11T12:29:11.916Z"
   },
   {
    "duration": 12,
    "start_time": "2022-05-11T12:29:30.302Z"
   },
   {
    "duration": 13,
    "start_time": "2022-05-11T12:29:40.240Z"
   },
   {
    "duration": 24,
    "start_time": "2022-05-11T12:29:46.614Z"
   },
   {
    "duration": 23,
    "start_time": "2022-05-11T12:30:08.401Z"
   },
   {
    "duration": 255,
    "start_time": "2022-05-11T12:31:14.644Z"
   },
   {
    "duration": 233,
    "start_time": "2022-05-11T12:31:21.376Z"
   },
   {
    "duration": 6,
    "start_time": "2022-05-11T12:32:54.325Z"
   },
   {
    "duration": 10,
    "start_time": "2022-05-11T12:33:08.900Z"
   },
   {
    "duration": 6,
    "start_time": "2022-05-11T12:33:21.628Z"
   },
   {
    "duration": 10,
    "start_time": "2022-05-11T12:33:27.261Z"
   },
   {
    "duration": 8,
    "start_time": "2022-05-11T12:35:05.503Z"
   },
   {
    "duration": 8,
    "start_time": "2022-05-11T12:35:11.460Z"
   },
   {
    "duration": 7,
    "start_time": "2022-05-11T12:35:20.913Z"
   },
   {
    "duration": 11,
    "start_time": "2022-05-11T12:39:00.519Z"
   },
   {
    "duration": 14,
    "start_time": "2022-05-11T12:40:23.602Z"
   },
   {
    "duration": 18,
    "start_time": "2022-05-11T12:40:48.143Z"
   },
   {
    "duration": 50,
    "start_time": "2022-05-11T12:40:53.595Z"
   },
   {
    "duration": 14,
    "start_time": "2022-05-11T12:41:10.137Z"
   },
   {
    "duration": 10,
    "start_time": "2022-05-11T12:41:23.335Z"
   },
   {
    "duration": 3249,
    "start_time": "2022-05-11T12:43:09.555Z"
   },
   {
    "duration": 3593,
    "start_time": "2022-05-11T12:43:33.357Z"
   },
   {
    "duration": 5,
    "start_time": "2022-05-11T12:43:46.939Z"
   },
   {
    "duration": 5,
    "start_time": "2022-05-11T12:44:07.932Z"
   },
   {
    "duration": 6,
    "start_time": "2022-05-11T12:44:35.149Z"
   },
   {
    "duration": 7,
    "start_time": "2022-05-11T12:44:46.677Z"
   },
   {
    "duration": 17,
    "start_time": "2022-05-11T12:44:51.388Z"
   },
   {
    "duration": 7,
    "start_time": "2022-05-11T12:45:05.114Z"
   },
   {
    "duration": 7,
    "start_time": "2022-05-11T12:45:14.516Z"
   },
   {
    "duration": 9,
    "start_time": "2022-05-11T12:45:20.058Z"
   },
   {
    "duration": 12,
    "start_time": "2022-05-11T12:45:45.115Z"
   },
   {
    "duration": 14,
    "start_time": "2022-05-11T12:45:53.866Z"
   },
   {
    "duration": 8,
    "start_time": "2022-05-11T12:47:32.959Z"
   },
   {
    "duration": 6,
    "start_time": "2022-05-11T13:09:29.028Z"
   },
   {
    "duration": 6,
    "start_time": "2022-05-11T13:09:48.922Z"
   },
   {
    "duration": 8,
    "start_time": "2022-05-11T13:11:15.060Z"
   },
   {
    "duration": 9,
    "start_time": "2022-05-11T13:11:35.919Z"
   },
   {
    "duration": 25,
    "start_time": "2022-05-11T13:12:20.090Z"
   },
   {
    "duration": 8,
    "start_time": "2022-05-11T13:12:32.032Z"
   },
   {
    "duration": 18,
    "start_time": "2022-05-11T13:13:51.920Z"
   },
   {
    "duration": 7,
    "start_time": "2022-05-11T13:15:00.984Z"
   },
   {
    "duration": 5,
    "start_time": "2022-05-11T13:15:55.475Z"
   },
   {
    "duration": 8,
    "start_time": "2022-05-11T13:16:36.488Z"
   },
   {
    "duration": 7,
    "start_time": "2022-05-11T13:19:57.007Z"
   },
   {
    "duration": 15,
    "start_time": "2022-05-11T13:20:41.814Z"
   },
   {
    "duration": 15,
    "start_time": "2022-05-11T13:20:48.522Z"
   },
   {
    "duration": 17,
    "start_time": "2022-05-11T13:20:53.260Z"
   },
   {
    "duration": 12,
    "start_time": "2022-05-11T13:56:26.305Z"
   },
   {
    "duration": 14,
    "start_time": "2022-05-11T13:56:31.943Z"
   },
   {
    "duration": 16,
    "start_time": "2022-05-11T13:56:49.746Z"
   },
   {
    "duration": 15,
    "start_time": "2022-05-11T13:56:55.042Z"
   },
   {
    "duration": 10,
    "start_time": "2022-05-11T13:57:43.537Z"
   },
   {
    "duration": 17,
    "start_time": "2022-05-11T13:57:45.677Z"
   },
   {
    "duration": 94,
    "start_time": "2022-05-11T13:57:53.889Z"
   },
   {
    "duration": 25,
    "start_time": "2022-05-11T13:57:53.986Z"
   },
   {
    "duration": 9,
    "start_time": "2022-05-11T13:57:54.014Z"
   },
   {
    "duration": 10,
    "start_time": "2022-05-11T13:57:54.025Z"
   },
   {
    "duration": 6,
    "start_time": "2022-05-11T13:57:54.038Z"
   },
   {
    "duration": 52,
    "start_time": "2022-05-11T13:57:54.046Z"
   },
   {
    "duration": 17,
    "start_time": "2022-05-11T13:57:54.101Z"
   },
   {
    "duration": 7,
    "start_time": "2022-05-11T13:57:54.120Z"
   },
   {
    "duration": 21,
    "start_time": "2022-05-11T13:57:54.129Z"
   },
   {
    "duration": 42,
    "start_time": "2022-05-11T13:57:54.152Z"
   },
   {
    "duration": 5,
    "start_time": "2022-05-11T13:57:54.196Z"
   },
   {
    "duration": 16,
    "start_time": "2022-05-11T13:57:54.203Z"
   },
   {
    "duration": 8,
    "start_time": "2022-05-11T13:57:54.220Z"
   },
   {
    "duration": 13,
    "start_time": "2022-05-11T13:58:00.012Z"
   },
   {
    "duration": 11,
    "start_time": "2022-05-11T13:58:51.053Z"
   },
   {
    "duration": 17,
    "start_time": "2022-05-11T13:59:06.628Z"
   },
   {
    "duration": 19,
    "start_time": "2022-05-11T13:59:20.356Z"
   },
   {
    "duration": 16,
    "start_time": "2022-05-11T13:59:57.545Z"
   },
   {
    "duration": 17,
    "start_time": "2022-05-11T14:00:34.084Z"
   },
   {
    "duration": 12,
    "start_time": "2022-05-11T14:00:38.447Z"
   },
   {
    "duration": 12,
    "start_time": "2022-05-11T14:00:39.480Z"
   },
   {
    "duration": 12,
    "start_time": "2022-05-11T14:00:40.092Z"
   },
   {
    "duration": 8,
    "start_time": "2022-05-11T14:00:40.691Z"
   },
   {
    "duration": 17,
    "start_time": "2022-05-11T14:00:42.555Z"
   },
   {
    "duration": 91,
    "start_time": "2022-05-11T14:00:48.915Z"
   },
   {
    "duration": 20,
    "start_time": "2022-05-11T14:00:49.008Z"
   },
   {
    "duration": 11,
    "start_time": "2022-05-11T14:00:49.030Z"
   },
   {
    "duration": 10,
    "start_time": "2022-05-11T14:00:49.043Z"
   },
   {
    "duration": 38,
    "start_time": "2022-05-11T14:00:49.056Z"
   },
   {
    "duration": 13,
    "start_time": "2022-05-11T14:00:49.096Z"
   },
   {
    "duration": 13,
    "start_time": "2022-05-11T14:00:49.111Z"
   },
   {
    "duration": 6,
    "start_time": "2022-05-11T14:00:49.126Z"
   },
   {
    "duration": 59,
    "start_time": "2022-05-11T14:00:49.134Z"
   },
   {
    "duration": 7,
    "start_time": "2022-05-11T14:00:49.196Z"
   },
   {
    "duration": 8,
    "start_time": "2022-05-11T14:00:49.206Z"
   },
   {
    "duration": 18,
    "start_time": "2022-05-11T14:00:49.216Z"
   },
   {
    "duration": 7,
    "start_time": "2022-05-11T14:00:49.237Z"
   },
   {
    "duration": 58,
    "start_time": "2022-05-11T14:00:49.247Z"
   },
   {
    "duration": 20,
    "start_time": "2022-05-11T14:00:49.308Z"
   },
   {
    "duration": 20,
    "start_time": "2022-05-11T14:00:49.330Z"
   },
   {
    "duration": 7,
    "start_time": "2022-05-11T14:00:49.352Z"
   },
   {
    "duration": 14,
    "start_time": "2022-05-11T14:00:49.392Z"
   },
   {
    "duration": 13,
    "start_time": "2022-05-11T14:00:57.735Z"
   },
   {
    "duration": 88,
    "start_time": "2022-05-11T14:01:07.603Z"
   },
   {
    "duration": 19,
    "start_time": "2022-05-11T14:01:07.694Z"
   },
   {
    "duration": 12,
    "start_time": "2022-05-11T14:01:07.715Z"
   },
   {
    "duration": 11,
    "start_time": "2022-05-11T14:01:07.729Z"
   },
   {
    "duration": 7,
    "start_time": "2022-05-11T14:01:07.743Z"
   },
   {
    "duration": 45,
    "start_time": "2022-05-11T14:01:07.754Z"
   },
   {
    "duration": 12,
    "start_time": "2022-05-11T14:01:07.802Z"
   },
   {
    "duration": 8,
    "start_time": "2022-05-11T14:01:07.816Z"
   },
   {
    "duration": 68,
    "start_time": "2022-05-11T14:01:07.826Z"
   },
   {
    "duration": 11,
    "start_time": "2022-05-11T14:01:07.896Z"
   },
   {
    "duration": 6,
    "start_time": "2022-05-11T14:01:07.909Z"
   },
   {
    "duration": 15,
    "start_time": "2022-05-11T14:01:07.917Z"
   },
   {
    "duration": 8,
    "start_time": "2022-05-11T14:01:07.934Z"
   },
   {
    "duration": 20,
    "start_time": "2022-05-11T14:01:11.521Z"
   },
   {
    "duration": 19,
    "start_time": "2022-05-11T14:01:14.248Z"
   },
   {
    "duration": 8,
    "start_time": "2022-05-11T14:01:17.078Z"
   },
   {
    "duration": 15,
    "start_time": "2022-05-11T14:03:12.366Z"
   },
   {
    "duration": 19,
    "start_time": "2022-05-11T14:08:53.519Z"
   },
   {
    "duration": 16,
    "start_time": "2022-05-11T14:09:17.251Z"
   },
   {
    "duration": 15,
    "start_time": "2022-05-11T14:09:31.975Z"
   },
   {
    "duration": 23,
    "start_time": "2022-05-11T14:09:57.816Z"
   },
   {
    "duration": 25,
    "start_time": "2022-05-11T14:10:22.413Z"
   },
   {
    "duration": 104,
    "start_time": "2022-05-11T14:11:54.302Z"
   },
   {
    "duration": 30,
    "start_time": "2022-05-11T14:11:54.409Z"
   },
   {
    "duration": 15,
    "start_time": "2022-05-11T14:11:54.442Z"
   },
   {
    "duration": 36,
    "start_time": "2022-05-11T14:11:54.460Z"
   },
   {
    "duration": 7,
    "start_time": "2022-05-11T14:11:54.500Z"
   },
   {
    "duration": 16,
    "start_time": "2022-05-11T14:11:54.509Z"
   },
   {
    "duration": 13,
    "start_time": "2022-05-11T14:11:54.529Z"
   },
   {
    "duration": 50,
    "start_time": "2022-05-11T14:11:54.545Z"
   },
   {
    "duration": 28,
    "start_time": "2022-05-11T14:11:54.598Z"
   },
   {
    "duration": 18,
    "start_time": "2022-05-11T14:11:54.629Z"
   },
   {
    "duration": 7,
    "start_time": "2022-05-11T14:11:54.650Z"
   },
   {
    "duration": 19,
    "start_time": "2022-05-11T14:11:54.694Z"
   },
   {
    "duration": 8,
    "start_time": "2022-05-11T14:11:54.715Z"
   },
   {
    "duration": 14,
    "start_time": "2022-05-11T14:11:54.727Z"
   },
   {
    "duration": 60,
    "start_time": "2022-05-11T14:11:54.743Z"
   },
   {
    "duration": 29,
    "start_time": "2022-05-11T14:11:54.805Z"
   },
   {
    "duration": 8,
    "start_time": "2022-05-11T14:11:54.836Z"
   },
   {
    "duration": 19,
    "start_time": "2022-05-11T14:11:54.847Z"
   },
   {
    "duration": 18,
    "start_time": "2022-05-11T14:15:37.283Z"
   },
   {
    "duration": 8,
    "start_time": "2022-05-11T14:15:42.472Z"
   },
   {
    "duration": 96,
    "start_time": "2022-05-11T14:17:10.910Z"
   },
   {
    "duration": 19,
    "start_time": "2022-05-11T14:17:11.009Z"
   },
   {
    "duration": 13,
    "start_time": "2022-05-11T14:17:11.030Z"
   },
   {
    "duration": 15,
    "start_time": "2022-05-11T14:17:11.046Z"
   },
   {
    "duration": 8,
    "start_time": "2022-05-11T14:17:11.093Z"
   },
   {
    "duration": 20,
    "start_time": "2022-05-11T14:17:11.104Z"
   },
   {
    "duration": 13,
    "start_time": "2022-05-11T14:17:11.128Z"
   },
   {
    "duration": 8,
    "start_time": "2022-05-11T14:17:11.144Z"
   },
   {
    "duration": 20,
    "start_time": "2022-05-11T14:17:11.194Z"
   },
   {
    "duration": 19,
    "start_time": "2022-05-11T14:17:11.218Z"
   },
   {
    "duration": 10,
    "start_time": "2022-05-11T14:17:11.239Z"
   },
   {
    "duration": 44,
    "start_time": "2022-05-11T14:17:11.252Z"
   },
   {
    "duration": 10,
    "start_time": "2022-05-11T14:17:11.299Z"
   },
   {
    "duration": 18,
    "start_time": "2022-05-11T14:17:11.314Z"
   },
   {
    "duration": 21,
    "start_time": "2022-05-11T14:17:11.335Z"
   },
   {
    "duration": 29,
    "start_time": "2022-05-11T14:17:11.393Z"
   },
   {
    "duration": 19,
    "start_time": "2022-05-11T14:17:13.815Z"
   },
   {
    "duration": 9,
    "start_time": "2022-05-11T14:17:15.154Z"
   },
   {
    "duration": 17,
    "start_time": "2022-05-11T14:17:18.864Z"
   },
   {
    "duration": 49,
    "start_time": "2022-05-11T14:28:26.062Z"
   },
   {
    "duration": 42,
    "start_time": "2022-05-11T14:28:46.241Z"
   },
   {
    "duration": 10,
    "start_time": "2022-05-11T14:29:05.527Z"
   },
   {
    "duration": 10,
    "start_time": "2022-05-11T14:29:48.235Z"
   },
   {
    "duration": 132,
    "start_time": "2022-05-11T14:30:00.075Z"
   },
   {
    "duration": 20,
    "start_time": "2022-05-11T14:30:00.210Z"
   },
   {
    "duration": 17,
    "start_time": "2022-05-11T14:30:00.233Z"
   },
   {
    "duration": 52,
    "start_time": "2022-05-11T14:30:00.254Z"
   },
   {
    "duration": 18,
    "start_time": "2022-05-11T14:30:00.309Z"
   },
   {
    "duration": 9,
    "start_time": "2022-05-11T14:30:00.330Z"
   },
   {
    "duration": 53,
    "start_time": "2022-05-11T14:30:00.342Z"
   },
   {
    "duration": 9,
    "start_time": "2022-05-11T14:30:04.194Z"
   },
   {
    "duration": 11,
    "start_time": "2022-05-11T14:30:05.973Z"
   },
   {
    "duration": 15,
    "start_time": "2022-05-11T14:30:26.989Z"
   },
   {
    "duration": 21,
    "start_time": "2022-05-11T14:30:28.519Z"
   },
   {
    "duration": 12,
    "start_time": "2022-05-11T14:30:29.249Z"
   },
   {
    "duration": 8,
    "start_time": "2022-05-11T14:30:29.775Z"
   },
   {
    "duration": 16,
    "start_time": "2022-05-11T14:30:30.825Z"
   },
   {
    "duration": 9,
    "start_time": "2022-05-11T14:30:32.442Z"
   },
   {
    "duration": 10,
    "start_time": "2022-05-11T14:30:35.185Z"
   },
   {
    "duration": 18,
    "start_time": "2022-05-11T14:32:05.901Z"
   },
   {
    "duration": 6,
    "start_time": "2022-05-11T14:33:28.273Z"
   },
   {
    "duration": 6,
    "start_time": "2022-05-11T14:33:57.788Z"
   },
   {
    "duration": 11,
    "start_time": "2022-05-11T14:34:38.376Z"
   },
   {
    "duration": 424,
    "start_time": "2022-05-11T14:35:50.238Z"
   },
   {
    "duration": 11,
    "start_time": "2022-05-11T14:36:04.003Z"
   },
   {
    "duration": 10,
    "start_time": "2022-05-11T14:36:26.852Z"
   },
   {
    "duration": 7,
    "start_time": "2022-05-11T14:36:35.825Z"
   },
   {
    "duration": 216,
    "start_time": "2022-05-11T14:36:57.246Z"
   },
   {
    "duration": 254,
    "start_time": "2022-05-11T14:37:12.773Z"
   },
   {
    "duration": 8,
    "start_time": "2022-05-11T14:38:07.842Z"
   },
   {
    "duration": 8,
    "start_time": "2022-05-11T14:38:54.534Z"
   },
   {
    "duration": 9,
    "start_time": "2022-05-11T14:39:11.131Z"
   },
   {
    "duration": 7,
    "start_time": "2022-05-11T14:39:18.131Z"
   },
   {
    "duration": 8,
    "start_time": "2022-05-11T14:40:59.890Z"
   },
   {
    "duration": 8,
    "start_time": "2022-05-11T14:43:28.214Z"
   },
   {
    "duration": 7,
    "start_time": "2022-05-11T14:43:34.692Z"
   },
   {
    "duration": 8,
    "start_time": "2022-05-11T14:43:35.776Z"
   },
   {
    "duration": 7,
    "start_time": "2022-05-11T14:43:52.942Z"
   },
   {
    "duration": 18,
    "start_time": "2022-05-11T15:01:15.239Z"
   },
   {
    "duration": 17,
    "start_time": "2022-05-11T15:03:40.221Z"
   },
   {
    "duration": 38,
    "start_time": "2022-05-11T15:04:21.080Z"
   },
   {
    "duration": 38,
    "start_time": "2022-05-11T15:05:13.900Z"
   },
   {
    "duration": 11,
    "start_time": "2022-05-11T15:05:50.725Z"
   },
   {
    "duration": 38,
    "start_time": "2022-05-11T15:08:14.136Z"
   },
   {
    "duration": 28,
    "start_time": "2022-05-11T15:08:30.340Z"
   },
   {
    "duration": 32,
    "start_time": "2022-05-11T15:08:39.123Z"
   },
   {
    "duration": 38,
    "start_time": "2022-05-11T15:08:46.258Z"
   },
   {
    "duration": 39,
    "start_time": "2022-05-11T15:09:22.788Z"
   },
   {
    "duration": 28,
    "start_time": "2022-05-11T15:09:44.529Z"
   },
   {
    "duration": 33,
    "start_time": "2022-05-11T15:14:35.784Z"
   },
   {
    "duration": 83,
    "start_time": "2022-05-11T15:14:47.452Z"
   },
   {
    "duration": 43,
    "start_time": "2022-05-11T15:16:38.688Z"
   },
   {
    "duration": 18,
    "start_time": "2022-05-11T15:16:39.456Z"
   },
   {
    "duration": 11,
    "start_time": "2022-05-11T15:18:16.709Z"
   },
   {
    "duration": 89,
    "start_time": "2022-05-11T15:18:21.025Z"
   },
   {
    "duration": 19,
    "start_time": "2022-05-11T15:18:22.548Z"
   },
   {
    "duration": 13,
    "start_time": "2022-05-11T15:18:28.049Z"
   },
   {
    "duration": 21,
    "start_time": "2022-05-11T15:18:34.376Z"
   },
   {
    "duration": 18,
    "start_time": "2022-05-11T15:18:37.187Z"
   },
   {
    "duration": 8,
    "start_time": "2022-05-11T15:18:38.819Z"
   },
   {
    "duration": 18,
    "start_time": "2022-05-11T15:20:27.122Z"
   },
   {
    "duration": 13,
    "start_time": "2022-05-11T15:31:19.271Z"
   },
   {
    "duration": 13,
    "start_time": "2022-05-11T15:32:37.608Z"
   },
   {
    "duration": 13,
    "start_time": "2022-05-11T15:33:55.860Z"
   },
   {
    "duration": 10,
    "start_time": "2022-05-11T15:34:26.078Z"
   },
   {
    "duration": 124,
    "start_time": "2022-05-11T15:38:44.551Z"
   },
   {
    "duration": 22,
    "start_time": "2022-05-11T15:38:44.678Z"
   },
   {
    "duration": 18,
    "start_time": "2022-05-11T15:38:44.703Z"
   },
   {
    "duration": 24,
    "start_time": "2022-05-11T15:38:44.724Z"
   },
   {
    "duration": 48,
    "start_time": "2022-05-11T15:38:44.752Z"
   },
   {
    "duration": 10,
    "start_time": "2022-05-11T15:38:44.802Z"
   },
   {
    "duration": 27,
    "start_time": "2022-05-11T15:38:44.814Z"
   },
   {
    "duration": 0,
    "start_time": "2022-05-11T15:38:44.843Z"
   },
   {
    "duration": 0,
    "start_time": "2022-05-11T15:38:44.845Z"
   },
   {
    "duration": 0,
    "start_time": "2022-05-11T15:38:44.847Z"
   },
   {
    "duration": 8,
    "start_time": "2022-05-11T15:39:16.514Z"
   },
   {
    "duration": 11,
    "start_time": "2022-05-11T15:39:50.144Z"
   },
   {
    "duration": 16,
    "start_time": "2022-05-11T15:39:56.316Z"
   },
   {
    "duration": 10,
    "start_time": "2022-05-11T15:40:35.381Z"
   },
   {
    "duration": 58,
    "start_time": "2022-05-11T15:40:40.610Z"
   },
   {
    "duration": 25,
    "start_time": "2022-05-11T15:51:49.169Z"
   },
   {
    "duration": 30,
    "start_time": "2022-05-11T15:52:06.707Z"
   },
   {
    "duration": 34,
    "start_time": "2022-05-11T15:52:10.681Z"
   },
   {
    "duration": 31,
    "start_time": "2022-05-11T15:52:28.546Z"
   },
   {
    "duration": 41,
    "start_time": "2022-05-11T15:52:33.122Z"
   },
   {
    "duration": 24,
    "start_time": "2022-05-11T15:53:02.198Z"
   },
   {
    "duration": 142,
    "start_time": "2022-05-11T15:53:06.634Z"
   },
   {
    "duration": 27,
    "start_time": "2022-05-11T15:53:06.780Z"
   },
   {
    "duration": 19,
    "start_time": "2022-05-11T15:53:06.809Z"
   },
   {
    "duration": 28,
    "start_time": "2022-05-11T15:53:06.831Z"
   },
   {
    "duration": 30,
    "start_time": "2022-05-11T15:53:06.896Z"
   },
   {
    "duration": 9,
    "start_time": "2022-05-11T15:53:06.929Z"
   },
   {
    "duration": 59,
    "start_time": "2022-05-11T15:53:06.940Z"
   },
   {
    "duration": 0,
    "start_time": "2022-05-11T15:53:07.003Z"
   },
   {
    "duration": 0,
    "start_time": "2022-05-11T15:53:07.005Z"
   },
   {
    "duration": 0,
    "start_time": "2022-05-11T15:53:07.007Z"
   },
   {
    "duration": 0,
    "start_time": "2022-05-11T15:53:07.009Z"
   },
   {
    "duration": 0,
    "start_time": "2022-05-11T15:53:07.011Z"
   },
   {
    "duration": 13,
    "start_time": "2022-05-11T15:53:11.655Z"
   },
   {
    "duration": 10,
    "start_time": "2022-05-11T15:53:14.764Z"
   },
   {
    "duration": 7,
    "start_time": "2022-05-11T15:53:29.671Z"
   },
   {
    "duration": 6,
    "start_time": "2022-05-11T15:55:35.530Z"
   },
   {
    "duration": 8,
    "start_time": "2022-05-11T15:55:44.592Z"
   },
   {
    "duration": 6,
    "start_time": "2022-05-11T15:59:33.205Z"
   },
   {
    "duration": 17,
    "start_time": "2022-05-11T15:59:39.899Z"
   },
   {
    "duration": 4,
    "start_time": "2022-05-11T16:02:04.313Z"
   },
   {
    "duration": 10,
    "start_time": "2022-05-11T16:03:18.956Z"
   },
   {
    "duration": 7,
    "start_time": "2022-05-11T16:03:27.560Z"
   },
   {
    "duration": 6,
    "start_time": "2022-05-11T16:03:31.419Z"
   },
   {
    "duration": 7,
    "start_time": "2022-05-11T16:03:47.416Z"
   },
   {
    "duration": 132,
    "start_time": "2022-05-11T16:03:54.988Z"
   },
   {
    "duration": 27,
    "start_time": "2022-05-11T16:03:55.123Z"
   },
   {
    "duration": 13,
    "start_time": "2022-05-11T16:03:55.153Z"
   },
   {
    "duration": 45,
    "start_time": "2022-05-11T16:03:55.169Z"
   },
   {
    "duration": 25,
    "start_time": "2022-05-11T16:03:55.218Z"
   },
   {
    "duration": 10,
    "start_time": "2022-05-11T16:03:55.245Z"
   },
   {
    "duration": 56,
    "start_time": "2022-05-11T16:03:55.257Z"
   },
   {
    "duration": 0,
    "start_time": "2022-05-11T16:03:55.316Z"
   },
   {
    "duration": 0,
    "start_time": "2022-05-11T16:03:55.318Z"
   },
   {
    "duration": 0,
    "start_time": "2022-05-11T16:03:55.320Z"
   },
   {
    "duration": 0,
    "start_time": "2022-05-11T16:03:55.322Z"
   },
   {
    "duration": 0,
    "start_time": "2022-05-11T16:03:55.324Z"
   },
   {
    "duration": 0,
    "start_time": "2022-05-11T16:03:55.325Z"
   },
   {
    "duration": 8,
    "start_time": "2022-05-11T16:05:00.600Z"
   },
   {
    "duration": 7,
    "start_time": "2022-05-11T16:05:35.299Z"
   },
   {
    "duration": 6,
    "start_time": "2022-05-11T16:05:44.557Z"
   },
   {
    "duration": 7,
    "start_time": "2022-05-11T16:05:49.205Z"
   },
   {
    "duration": 10,
    "start_time": "2022-05-11T16:05:54.461Z"
   },
   {
    "duration": 19,
    "start_time": "2022-05-11T16:06:27.766Z"
   },
   {
    "duration": 88,
    "start_time": "2022-05-11T16:06:32.897Z"
   },
   {
    "duration": 18,
    "start_time": "2022-05-11T16:06:34.474Z"
   },
   {
    "duration": 13,
    "start_time": "2022-05-11T16:06:38.897Z"
   },
   {
    "duration": 18,
    "start_time": "2022-05-11T16:06:40.445Z"
   },
   {
    "duration": 19,
    "start_time": "2022-05-11T16:06:41.148Z"
   },
   {
    "duration": 8,
    "start_time": "2022-05-11T16:06:41.821Z"
   },
   {
    "duration": 17,
    "start_time": "2022-05-11T16:07:17.720Z"
   },
   {
    "duration": 7,
    "start_time": "2022-05-11T16:07:29.644Z"
   },
   {
    "duration": 6,
    "start_time": "2022-05-11T16:07:32.127Z"
   },
   {
    "duration": 233,
    "start_time": "2022-05-11T16:08:18.405Z"
   },
   {
    "duration": 190,
    "start_time": "2022-05-11T16:08:22.728Z"
   },
   {
    "duration": 218,
    "start_time": "2022-05-11T16:08:44.332Z"
   },
   {
    "duration": 18,
    "start_time": "2022-05-11T16:09:25.497Z"
   },
   {
    "duration": 46,
    "start_time": "2022-05-11T16:09:30.414Z"
   },
   {
    "duration": 19,
    "start_time": "2022-05-11T16:09:49.878Z"
   },
   {
    "duration": 104,
    "start_time": "2022-05-11T16:10:29.827Z"
   },
   {
    "duration": 19,
    "start_time": "2022-05-11T16:10:29.934Z"
   },
   {
    "duration": 15,
    "start_time": "2022-05-11T16:10:29.955Z"
   },
   {
    "duration": 19,
    "start_time": "2022-05-11T16:10:29.992Z"
   },
   {
    "duration": 22,
    "start_time": "2022-05-11T16:10:30.014Z"
   },
   {
    "duration": 9,
    "start_time": "2022-05-11T16:10:30.038Z"
   },
   {
    "duration": 84,
    "start_time": "2022-05-11T16:10:30.049Z"
   },
   {
    "duration": 19,
    "start_time": "2022-05-11T16:10:30.136Z"
   },
   {
    "duration": 37,
    "start_time": "2022-05-11T16:10:30.157Z"
   },
   {
    "duration": 14,
    "start_time": "2022-05-11T16:10:30.197Z"
   },
   {
    "duration": 15,
    "start_time": "2022-05-11T16:10:30.214Z"
   },
   {
    "duration": 7,
    "start_time": "2022-05-11T16:10:30.233Z"
   },
   {
    "duration": 54,
    "start_time": "2022-05-11T16:10:30.243Z"
   },
   {
    "duration": 12,
    "start_time": "2022-05-11T16:10:35.131Z"
   },
   {
    "duration": 10,
    "start_time": "2022-05-11T16:11:07.301Z"
   },
   {
    "duration": 46,
    "start_time": "2022-05-11T16:12:08.367Z"
   },
   {
    "duration": 92,
    "start_time": "2022-05-11T16:13:50.702Z"
   },
   {
    "duration": 18,
    "start_time": "2022-05-11T16:13:50.797Z"
   },
   {
    "duration": 15,
    "start_time": "2022-05-11T16:13:50.817Z"
   },
   {
    "duration": 18,
    "start_time": "2022-05-11T16:13:50.834Z"
   },
   {
    "duration": 51,
    "start_time": "2022-05-11T16:13:50.855Z"
   },
   {
    "duration": 11,
    "start_time": "2022-05-11T16:13:50.909Z"
   },
   {
    "duration": 75,
    "start_time": "2022-05-11T16:13:50.922Z"
   },
   {
    "duration": 17,
    "start_time": "2022-05-11T16:13:51.000Z"
   },
   {
    "duration": 7,
    "start_time": "2022-05-11T16:13:51.019Z"
   },
   {
    "duration": 15,
    "start_time": "2022-05-11T16:13:51.028Z"
   },
   {
    "duration": 10,
    "start_time": "2022-05-11T16:13:51.045Z"
   },
   {
    "duration": 6,
    "start_time": "2022-05-11T16:13:51.092Z"
   },
   {
    "duration": 12,
    "start_time": "2022-05-11T16:13:51.100Z"
   },
   {
    "duration": 10,
    "start_time": "2022-05-11T16:13:51.116Z"
   },
   {
    "duration": 9,
    "start_time": "2022-05-11T16:13:51.129Z"
   },
   {
    "duration": 53,
    "start_time": "2022-05-11T16:13:51.140Z"
   },
   {
    "duration": 7,
    "start_time": "2022-05-11T16:13:51.195Z"
   },
   {
    "duration": 21,
    "start_time": "2022-05-11T16:13:51.205Z"
   },
   {
    "duration": 6,
    "start_time": "2022-05-11T16:13:51.228Z"
   },
   {
    "duration": 9,
    "start_time": "2022-05-11T16:13:51.236Z"
   },
   {
    "duration": 16,
    "start_time": "2022-05-11T16:13:55.141Z"
   },
   {
    "duration": 11,
    "start_time": "2022-05-11T16:14:06.922Z"
   },
   {
    "duration": 5,
    "start_time": "2022-05-11T16:15:09.280Z"
   },
   {
    "duration": 10,
    "start_time": "2022-05-11T16:15:27.803Z"
   },
   {
    "duration": 66,
    "start_time": "2022-05-11T16:16:12.741Z"
   },
   {
    "duration": 8,
    "start_time": "2022-05-11T16:17:57.050Z"
   },
   {
    "duration": 97,
    "start_time": "2022-05-11T16:18:04.911Z"
   },
   {
    "duration": 20,
    "start_time": "2022-05-11T16:18:05.011Z"
   },
   {
    "duration": 18,
    "start_time": "2022-05-11T16:18:05.033Z"
   },
   {
    "duration": 54,
    "start_time": "2022-05-11T16:18:05.055Z"
   },
   {
    "duration": 21,
    "start_time": "2022-05-11T16:18:05.114Z"
   },
   {
    "duration": 9,
    "start_time": "2022-05-11T16:18:09.122Z"
   },
   {
    "duration": 46,
    "start_time": "2022-05-11T16:18:11.917Z"
   },
   {
    "duration": 18,
    "start_time": "2022-05-11T16:18:14.010Z"
   },
   {
    "duration": 16,
    "start_time": "2022-05-11T16:19:37.476Z"
   },
   {
    "duration": 92,
    "start_time": "2022-05-11T16:19:43.736Z"
   },
   {
    "duration": 20,
    "start_time": "2022-05-11T16:19:43.832Z"
   },
   {
    "duration": 17,
    "start_time": "2022-05-11T16:19:43.854Z"
   },
   {
    "duration": 38,
    "start_time": "2022-05-11T16:19:43.873Z"
   },
   {
    "duration": 20,
    "start_time": "2022-05-11T16:19:43.914Z"
   },
   {
    "duration": 16,
    "start_time": "2022-05-11T16:19:43.936Z"
   },
   {
    "duration": 69,
    "start_time": "2022-05-11T16:19:43.955Z"
   },
   {
    "duration": 16,
    "start_time": "2022-05-11T16:19:46.427Z"
   },
   {
    "duration": 15,
    "start_time": "2022-05-11T16:20:27.672Z"
   },
   {
    "duration": 94,
    "start_time": "2022-05-11T16:21:56.754Z"
   },
   {
    "duration": 42,
    "start_time": "2022-05-11T16:21:56.851Z"
   },
   {
    "duration": 20,
    "start_time": "2022-05-11T16:21:56.895Z"
   },
   {
    "duration": 24,
    "start_time": "2022-05-11T16:21:56.918Z"
   },
   {
    "duration": 59,
    "start_time": "2022-05-11T16:21:56.947Z"
   },
   {
    "duration": 9,
    "start_time": "2022-05-11T16:21:57.010Z"
   },
   {
    "duration": 89,
    "start_time": "2022-05-11T16:21:57.022Z"
   },
   {
    "duration": 19,
    "start_time": "2022-05-11T16:21:57.114Z"
   },
   {
    "duration": 11,
    "start_time": "2022-05-11T16:21:57.135Z"
   },
   {
    "duration": 52,
    "start_time": "2022-05-11T16:21:57.148Z"
   },
   {
    "duration": 11,
    "start_time": "2022-05-11T16:21:57.203Z"
   },
   {
    "duration": 8,
    "start_time": "2022-05-11T16:21:57.217Z"
   },
   {
    "duration": 12,
    "start_time": "2022-05-11T16:21:57.228Z"
   },
   {
    "duration": 52,
    "start_time": "2022-05-11T16:21:57.245Z"
   },
   {
    "duration": 20,
    "start_time": "2022-05-11T16:21:57.299Z"
   },
   {
    "duration": 9,
    "start_time": "2022-05-11T16:21:57.321Z"
   },
   {
    "duration": 6,
    "start_time": "2022-05-11T16:21:57.333Z"
   },
   {
    "duration": 59,
    "start_time": "2022-05-11T16:21:57.341Z"
   },
   {
    "duration": 8,
    "start_time": "2022-05-11T16:21:57.403Z"
   },
   {
    "duration": 6,
    "start_time": "2022-05-11T16:21:57.415Z"
   },
   {
    "duration": 11,
    "start_time": "2022-05-11T16:21:57.423Z"
   },
   {
    "duration": 9,
    "start_time": "2022-05-11T16:21:57.436Z"
   },
   {
    "duration": 31,
    "start_time": "2022-05-11T16:22:20.760Z"
   },
   {
    "duration": 12,
    "start_time": "2022-05-11T16:23:03.355Z"
   },
   {
    "duration": 10,
    "start_time": "2022-05-11T16:23:43.392Z"
   },
   {
    "duration": 9,
    "start_time": "2022-05-11T16:24:23.073Z"
   },
   {
    "duration": 196,
    "start_time": "2022-05-11T16:25:07.452Z"
   },
   {
    "duration": 19,
    "start_time": "2022-05-11T16:25:14.045Z"
   },
   {
    "duration": 263,
    "start_time": "2022-05-11T16:25:27.763Z"
   },
   {
    "duration": 272,
    "start_time": "2022-05-11T16:25:33.145Z"
   },
   {
    "duration": 87,
    "start_time": "2022-05-11T16:25:43.190Z"
   },
   {
    "duration": 18,
    "start_time": "2022-05-11T16:25:43.279Z"
   },
   {
    "duration": 15,
    "start_time": "2022-05-11T16:25:43.299Z"
   },
   {
    "duration": 18,
    "start_time": "2022-05-11T16:25:43.317Z"
   },
   {
    "duration": 17,
    "start_time": "2022-05-11T16:25:43.338Z"
   },
   {
    "duration": 40,
    "start_time": "2022-05-11T16:25:43.357Z"
   },
   {
    "duration": 46,
    "start_time": "2022-05-11T16:25:43.399Z"
   },
   {
    "duration": 49,
    "start_time": "2022-05-11T16:25:43.448Z"
   },
   {
    "duration": 10,
    "start_time": "2022-05-11T16:25:43.500Z"
   },
   {
    "duration": 14,
    "start_time": "2022-05-11T16:25:43.512Z"
   },
   {
    "duration": 9,
    "start_time": "2022-05-11T16:25:43.529Z"
   },
   {
    "duration": 7,
    "start_time": "2022-05-11T16:25:43.541Z"
   },
   {
    "duration": 8,
    "start_time": "2022-05-11T16:25:43.593Z"
   },
   {
    "duration": 13,
    "start_time": "2022-05-11T16:25:43.606Z"
   },
   {
    "duration": 12,
    "start_time": "2022-05-11T16:25:43.622Z"
   },
   {
    "duration": 62,
    "start_time": "2022-05-11T16:25:43.636Z"
   },
   {
    "duration": 7,
    "start_time": "2022-05-11T16:25:43.701Z"
   },
   {
    "duration": 23,
    "start_time": "2022-05-11T16:25:43.711Z"
   },
   {
    "duration": 246,
    "start_time": "2022-05-11T16:25:45.715Z"
   },
   {
    "duration": 12,
    "start_time": "2022-05-11T16:25:54.267Z"
   },
   {
    "duration": 7,
    "start_time": "2022-05-11T16:26:29.263Z"
   },
   {
    "duration": 9,
    "start_time": "2022-05-11T16:27:43.662Z"
   },
   {
    "duration": 89,
    "start_time": "2022-05-11T16:27:51.913Z"
   },
   {
    "duration": 19,
    "start_time": "2022-05-11T16:27:52.005Z"
   },
   {
    "duration": 17,
    "start_time": "2022-05-11T16:27:52.026Z"
   },
   {
    "duration": 19,
    "start_time": "2022-05-11T16:27:52.045Z"
   },
   {
    "duration": 18,
    "start_time": "2022-05-11T16:27:52.092Z"
   },
   {
    "duration": 21,
    "start_time": "2022-05-11T16:27:52.112Z"
   },
   {
    "duration": 65,
    "start_time": "2022-05-11T16:27:52.135Z"
   },
   {
    "duration": 15,
    "start_time": "2022-05-11T16:27:52.202Z"
   },
   {
    "duration": 8,
    "start_time": "2022-05-11T16:27:52.219Z"
   },
   {
    "duration": 12,
    "start_time": "2022-05-11T16:27:52.229Z"
   },
   {
    "duration": 50,
    "start_time": "2022-05-11T16:27:52.243Z"
   },
   {
    "duration": 7,
    "start_time": "2022-05-11T16:27:52.295Z"
   },
   {
    "duration": 10,
    "start_time": "2022-05-11T16:27:52.304Z"
   },
   {
    "duration": 11,
    "start_time": "2022-05-11T16:27:52.318Z"
   },
   {
    "duration": 9,
    "start_time": "2022-05-11T16:27:52.331Z"
   },
   {
    "duration": 55,
    "start_time": "2022-05-11T16:27:52.342Z"
   },
   {
    "duration": 7,
    "start_time": "2022-05-11T16:27:52.399Z"
   },
   {
    "duration": 21,
    "start_time": "2022-05-11T16:27:52.408Z"
   },
   {
    "duration": 7,
    "start_time": "2022-05-11T16:27:52.431Z"
   },
   {
    "duration": 6,
    "start_time": "2022-05-11T16:27:52.440Z"
   },
   {
    "duration": 51,
    "start_time": "2022-05-11T16:27:52.448Z"
   },
   {
    "duration": 7,
    "start_time": "2022-05-11T16:27:52.501Z"
   },
   {
    "duration": 9,
    "start_time": "2022-05-11T16:27:52.511Z"
   },
   {
    "duration": 9,
    "start_time": "2022-05-11T16:27:56.206Z"
   },
   {
    "duration": 10,
    "start_time": "2022-05-11T16:28:20.973Z"
   },
   {
    "duration": 5,
    "start_time": "2022-05-11T16:28:30.686Z"
   },
   {
    "duration": 32,
    "start_time": "2022-05-11T16:28:45.676Z"
   },
   {
    "duration": 30,
    "start_time": "2022-05-11T16:29:46.464Z"
   },
   {
    "duration": 12,
    "start_time": "2022-05-11T16:29:59.784Z"
   },
   {
    "duration": 91,
    "start_time": "2022-05-11T16:30:07.973Z"
   },
   {
    "duration": 26,
    "start_time": "2022-05-11T16:30:08.067Z"
   },
   {
    "duration": 13,
    "start_time": "2022-05-11T16:30:08.096Z"
   },
   {
    "duration": 21,
    "start_time": "2022-05-11T16:30:08.112Z"
   },
   {
    "duration": 20,
    "start_time": "2022-05-11T16:30:08.136Z"
   },
   {
    "duration": 40,
    "start_time": "2022-05-11T16:30:08.158Z"
   },
   {
    "duration": 47,
    "start_time": "2022-05-11T16:30:08.201Z"
   },
   {
    "duration": 45,
    "start_time": "2022-05-11T16:30:08.250Z"
   },
   {
    "duration": 8,
    "start_time": "2022-05-11T16:30:08.298Z"
   },
   {
    "duration": 19,
    "start_time": "2022-05-11T16:30:08.308Z"
   },
   {
    "duration": 18,
    "start_time": "2022-05-11T16:30:10.666Z"
   },
   {
    "duration": 11,
    "start_time": "2022-05-11T16:30:10.688Z"
   },
   {
    "duration": 7,
    "start_time": "2022-05-11T16:30:10.702Z"
   },
   {
    "duration": 8,
    "start_time": "2022-05-11T16:30:10.712Z"
   },
   {
    "duration": 16,
    "start_time": "2022-05-11T16:30:10.724Z"
   },
   {
    "duration": 26,
    "start_time": "2022-05-11T16:30:10.743Z"
   },
   {
    "duration": 11,
    "start_time": "2022-05-11T16:30:10.794Z"
   },
   {
    "duration": 11,
    "start_time": "2022-05-11T16:30:10.807Z"
   },
   {
    "duration": 39,
    "start_time": "2022-05-11T16:30:10.820Z"
   },
   {
    "duration": 31,
    "start_time": "2022-05-11T16:30:10.862Z"
   },
   {
    "duration": 7,
    "start_time": "2022-05-11T16:30:10.895Z"
   },
   {
    "duration": 20,
    "start_time": "2022-05-11T16:30:10.905Z"
   },
   {
    "duration": 12,
    "start_time": "2022-05-11T16:30:10.928Z"
   },
   {
    "duration": 71,
    "start_time": "2022-05-11T16:30:10.945Z"
   },
   {
    "duration": 44,
    "start_time": "2022-05-11T16:33:23.243Z"
   },
   {
    "duration": 17,
    "start_time": "2022-05-11T16:33:57.694Z"
   },
   {
    "duration": 15,
    "start_time": "2022-05-11T16:34:27.521Z"
   },
   {
    "duration": 10,
    "start_time": "2022-05-11T16:34:35.917Z"
   },
   {
    "duration": 7,
    "start_time": "2022-05-11T16:34:54.411Z"
   },
   {
    "duration": 6,
    "start_time": "2022-05-11T16:35:15.686Z"
   },
   {
    "duration": 6,
    "start_time": "2022-05-11T16:35:24.523Z"
   },
   {
    "duration": 94,
    "start_time": "2022-05-11T16:35:28.925Z"
   },
   {
    "duration": 26,
    "start_time": "2022-05-11T16:35:29.023Z"
   },
   {
    "duration": 26,
    "start_time": "2022-05-11T16:35:29.052Z"
   },
   {
    "duration": 28,
    "start_time": "2022-05-11T16:35:29.080Z"
   },
   {
    "duration": 21,
    "start_time": "2022-05-11T16:35:29.112Z"
   },
   {
    "duration": 10,
    "start_time": "2022-05-11T16:35:29.136Z"
   },
   {
    "duration": 87,
    "start_time": "2022-05-11T16:35:29.148Z"
   },
   {
    "duration": 60,
    "start_time": "2022-05-11T16:35:29.237Z"
   },
   {
    "duration": 17,
    "start_time": "2022-05-11T16:35:29.299Z"
   },
   {
    "duration": 7,
    "start_time": "2022-05-11T16:35:29.319Z"
   },
   {
    "duration": 14,
    "start_time": "2022-05-11T16:35:29.328Z"
   },
   {
    "duration": 20,
    "start_time": "2022-05-11T16:35:29.344Z"
   },
   {
    "duration": 6,
    "start_time": "2022-05-11T16:35:33.295Z"
   },
   {
    "duration": 9,
    "start_time": "2022-05-11T16:35:34.175Z"
   },
   {
    "duration": 12,
    "start_time": "2022-05-11T16:35:42.980Z"
   },
   {
    "duration": 12,
    "start_time": "2022-05-11T16:36:05.846Z"
   },
   {
    "duration": 4,
    "start_time": "2022-05-11T16:36:35.174Z"
   },
   {
    "duration": 18,
    "start_time": "2022-05-11T16:36:46.580Z"
   },
   {
    "duration": 18,
    "start_time": "2022-05-11T16:36:54.404Z"
   },
   {
    "duration": 453,
    "start_time": "2022-05-11T16:37:04.760Z"
   },
   {
    "duration": 20,
    "start_time": "2022-05-11T16:37:05.216Z"
   },
   {
    "duration": 24,
    "start_time": "2022-05-11T16:37:05.239Z"
   },
   {
    "duration": 45,
    "start_time": "2022-05-11T16:37:05.265Z"
   },
   {
    "duration": 22,
    "start_time": "2022-05-11T16:37:05.313Z"
   },
   {
    "duration": 7,
    "start_time": "2022-05-11T16:37:05.338Z"
   },
   {
    "duration": 82,
    "start_time": "2022-05-11T16:37:05.347Z"
   },
   {
    "duration": 64,
    "start_time": "2022-05-11T16:37:05.431Z"
   },
   {
    "duration": 19,
    "start_time": "2022-05-11T16:37:05.498Z"
   },
   {
    "duration": 11,
    "start_time": "2022-05-11T16:37:05.520Z"
   },
   {
    "duration": 19,
    "start_time": "2022-05-11T16:37:05.534Z"
   },
   {
    "duration": 9,
    "start_time": "2022-05-11T16:37:05.594Z"
   },
   {
    "duration": 9,
    "start_time": "2022-05-11T16:37:05.606Z"
   },
   {
    "duration": 7,
    "start_time": "2022-05-11T16:37:05.621Z"
   },
   {
    "duration": 12,
    "start_time": "2022-05-11T16:37:05.631Z"
   },
   {
    "duration": 55,
    "start_time": "2022-05-11T16:37:05.646Z"
   },
   {
    "duration": 11,
    "start_time": "2022-05-11T16:37:05.704Z"
   },
   {
    "duration": 7,
    "start_time": "2022-05-11T16:37:05.719Z"
   },
   {
    "duration": 70,
    "start_time": "2022-05-11T16:37:05.729Z"
   },
   {
    "duration": 8,
    "start_time": "2022-05-11T16:37:05.801Z"
   },
   {
    "duration": 12,
    "start_time": "2022-05-11T16:37:05.811Z"
   },
   {
    "duration": 21,
    "start_time": "2022-05-11T16:37:05.826Z"
   },
   {
    "duration": 44,
    "start_time": "2022-05-11T16:37:05.850Z"
   },
   {
    "duration": 20,
    "start_time": "2022-05-11T16:37:05.897Z"
   },
   {
    "duration": 27,
    "start_time": "2022-05-11T16:37:07.669Z"
   },
   {
    "duration": 25,
    "start_time": "2022-05-11T16:37:09.513Z"
   },
   {
    "duration": 18,
    "start_time": "2022-05-11T16:38:28.963Z"
   },
   {
    "duration": 100,
    "start_time": "2022-05-11T16:38:30.072Z"
   },
   {
    "duration": 29,
    "start_time": "2022-05-11T16:38:30.176Z"
   },
   {
    "duration": 25,
    "start_time": "2022-05-11T16:38:30.207Z"
   },
   {
    "duration": 23,
    "start_time": "2022-05-11T16:38:30.234Z"
   },
   {
    "duration": 51,
    "start_time": "2022-05-11T16:38:30.260Z"
   },
   {
    "duration": 14,
    "start_time": "2022-05-11T16:38:30.314Z"
   },
   {
    "duration": 78,
    "start_time": "2022-05-11T16:38:30.332Z"
   },
   {
    "duration": 49,
    "start_time": "2022-05-11T16:38:30.412Z"
   },
   {
    "duration": 40,
    "start_time": "2022-05-11T16:38:30.463Z"
   },
   {
    "duration": 10,
    "start_time": "2022-05-11T16:38:30.506Z"
   },
   {
    "duration": 32,
    "start_time": "2022-05-11T16:38:30.519Z"
   },
   {
    "duration": 38,
    "start_time": "2022-05-11T16:38:30.555Z"
   },
   {
    "duration": 6,
    "start_time": "2022-05-11T16:38:30.596Z"
   },
   {
    "duration": 13,
    "start_time": "2022-05-11T16:38:30.605Z"
   },
   {
    "duration": 19,
    "start_time": "2022-05-11T16:38:30.620Z"
   },
   {
    "duration": 21,
    "start_time": "2022-05-11T16:38:30.642Z"
   },
   {
    "duration": 15,
    "start_time": "2022-05-11T16:38:30.694Z"
   },
   {
    "duration": 14,
    "start_time": "2022-05-11T16:38:30.713Z"
   },
   {
    "duration": 33,
    "start_time": "2022-05-11T16:38:30.730Z"
   },
   {
    "duration": 33,
    "start_time": "2022-05-11T16:38:30.766Z"
   },
   {
    "duration": 25,
    "start_time": "2022-05-11T16:38:30.801Z"
   },
   {
    "duration": 32,
    "start_time": "2022-05-11T16:38:30.829Z"
   },
   {
    "duration": 27,
    "start_time": "2022-05-11T16:38:30.863Z"
   },
   {
    "duration": 19,
    "start_time": "2022-05-11T16:42:06.612Z"
   },
   {
    "duration": 31,
    "start_time": "2022-05-11T17:06:53.730Z"
   },
   {
    "duration": 28,
    "start_time": "2022-05-11T17:07:05.124Z"
   },
   {
    "duration": 21,
    "start_time": "2022-05-11T17:07:12.023Z"
   },
   {
    "duration": 432,
    "start_time": "2022-05-11T17:07:18.323Z"
   },
   {
    "duration": 21,
    "start_time": "2022-05-11T17:07:18.758Z"
   },
   {
    "duration": 19,
    "start_time": "2022-05-11T17:07:18.782Z"
   },
   {
    "duration": 19,
    "start_time": "2022-05-11T17:07:18.804Z"
   },
   {
    "duration": 21,
    "start_time": "2022-05-11T17:07:18.826Z"
   },
   {
    "duration": 8,
    "start_time": "2022-05-11T17:07:18.849Z"
   },
   {
    "duration": 48,
    "start_time": "2022-05-11T17:07:18.892Z"
   },
   {
    "duration": 71,
    "start_time": "2022-05-11T17:07:18.943Z"
   },
   {
    "duration": 21,
    "start_time": "2022-05-11T17:07:19.017Z"
   },
   {
    "duration": 8,
    "start_time": "2022-05-11T17:07:19.040Z"
   },
   {
    "duration": 47,
    "start_time": "2022-05-11T17:07:19.050Z"
   },
   {
    "duration": 8,
    "start_time": "2022-05-11T17:07:19.100Z"
   },
   {
    "duration": 24,
    "start_time": "2022-05-11T17:07:19.111Z"
   },
   {
    "duration": 29,
    "start_time": "2022-05-11T17:07:19.140Z"
   },
   {
    "duration": 21,
    "start_time": "2022-05-11T17:07:19.171Z"
   },
   {
    "duration": 17,
    "start_time": "2022-05-11T17:07:19.195Z"
   },
   {
    "duration": 13,
    "start_time": "2022-05-11T17:07:19.215Z"
   },
   {
    "duration": 7,
    "start_time": "2022-05-11T17:07:19.230Z"
   },
   {
    "duration": 58,
    "start_time": "2022-05-11T17:07:19.239Z"
   },
   {
    "duration": 8,
    "start_time": "2022-05-11T17:07:19.299Z"
   },
   {
    "duration": 10,
    "start_time": "2022-05-11T17:07:19.309Z"
   },
   {
    "duration": 13,
    "start_time": "2022-05-11T17:07:19.321Z"
   },
   {
    "duration": 10,
    "start_time": "2022-05-11T17:07:19.337Z"
   },
   {
    "duration": 29,
    "start_time": "2022-05-11T17:07:22.116Z"
   },
   {
    "duration": 29,
    "start_time": "2022-05-11T17:07:28.777Z"
   },
   {
    "duration": 101,
    "start_time": "2022-05-11T17:07:35.246Z"
   },
   {
    "duration": 20,
    "start_time": "2022-05-11T17:07:35.351Z"
   },
   {
    "duration": 40,
    "start_time": "2022-05-11T17:07:35.374Z"
   },
   {
    "duration": 18,
    "start_time": "2022-05-11T17:07:35.418Z"
   },
   {
    "duration": 19,
    "start_time": "2022-05-11T17:07:35.438Z"
   },
   {
    "duration": 9,
    "start_time": "2022-05-11T17:07:35.492Z"
   },
   {
    "duration": 55,
    "start_time": "2022-05-11T17:07:35.504Z"
   },
   {
    "duration": 70,
    "start_time": "2022-05-11T17:07:35.562Z"
   },
   {
    "duration": 17,
    "start_time": "2022-05-11T17:07:35.634Z"
   },
   {
    "duration": 43,
    "start_time": "2022-05-11T17:07:35.655Z"
   },
   {
    "duration": 15,
    "start_time": "2022-05-11T17:07:35.700Z"
   },
   {
    "duration": 8,
    "start_time": "2022-05-11T17:07:35.718Z"
   },
   {
    "duration": 8,
    "start_time": "2022-05-11T17:07:35.729Z"
   },
   {
    "duration": 8,
    "start_time": "2022-05-11T17:07:35.740Z"
   },
   {
    "duration": 57,
    "start_time": "2022-05-11T17:07:35.750Z"
   },
   {
    "duration": 22,
    "start_time": "2022-05-11T17:07:35.810Z"
   },
   {
    "duration": 18,
    "start_time": "2022-05-11T17:07:35.835Z"
   },
   {
    "duration": 8,
    "start_time": "2022-05-11T17:07:35.855Z"
   },
   {
    "duration": 51,
    "start_time": "2022-05-11T17:07:35.865Z"
   },
   {
    "duration": 8,
    "start_time": "2022-05-11T17:07:35.918Z"
   },
   {
    "duration": 10,
    "start_time": "2022-05-11T17:07:35.929Z"
   },
   {
    "duration": 14,
    "start_time": "2022-05-11T17:07:35.941Z"
   },
   {
    "duration": 35,
    "start_time": "2022-05-11T17:07:35.957Z"
   },
   {
    "duration": 19,
    "start_time": "2022-05-11T17:07:45.265Z"
   },
   {
    "duration": 31,
    "start_time": "2022-05-11T17:08:10.699Z"
   },
   {
    "duration": 37,
    "start_time": "2022-05-11T17:08:19.885Z"
   },
   {
    "duration": 27,
    "start_time": "2022-05-11T17:08:44.397Z"
   },
   {
    "duration": 33,
    "start_time": "2022-05-11T17:08:50.171Z"
   },
   {
    "duration": 36,
    "start_time": "2022-05-11T17:08:57.979Z"
   },
   {
    "duration": 51,
    "start_time": "2022-05-11T17:09:42.312Z"
   },
   {
    "duration": 55,
    "start_time": "2022-05-11T17:09:49.951Z"
   },
   {
    "duration": 55,
    "start_time": "2022-05-11T17:09:55.357Z"
   },
   {
    "duration": 401,
    "start_time": "2022-05-11T17:10:06.793Z"
   },
   {
    "duration": 20,
    "start_time": "2022-05-11T17:10:07.198Z"
   },
   {
    "duration": 16,
    "start_time": "2022-05-11T17:10:07.220Z"
   },
   {
    "duration": 20,
    "start_time": "2022-05-11T17:10:07.239Z"
   },
   {
    "duration": 49,
    "start_time": "2022-05-11T17:10:07.263Z"
   },
   {
    "duration": 9,
    "start_time": "2022-05-11T17:10:07.315Z"
   },
   {
    "duration": 79,
    "start_time": "2022-05-11T17:10:07.326Z"
   },
   {
    "duration": 45,
    "start_time": "2022-05-11T17:10:07.407Z"
   },
   {
    "duration": 48,
    "start_time": "2022-05-11T17:10:07.455Z"
   },
   {
    "duration": 12,
    "start_time": "2022-05-11T17:10:07.506Z"
   },
   {
    "duration": 18,
    "start_time": "2022-05-11T17:10:07.520Z"
   },
   {
    "duration": 8,
    "start_time": "2022-05-11T17:10:07.540Z"
   },
   {
    "duration": 45,
    "start_time": "2022-05-11T17:10:07.550Z"
   },
   {
    "duration": 11,
    "start_time": "2022-05-11T17:10:07.599Z"
   },
   {
    "duration": 32,
    "start_time": "2022-05-11T17:10:07.612Z"
   },
   {
    "duration": 27,
    "start_time": "2022-05-11T17:10:07.646Z"
   },
   {
    "duration": 29,
    "start_time": "2022-05-11T17:10:07.676Z"
   },
   {
    "duration": 14,
    "start_time": "2022-05-11T17:10:07.707Z"
   },
   {
    "duration": 22,
    "start_time": "2022-05-11T17:10:07.724Z"
   },
   {
    "duration": 7,
    "start_time": "2022-05-11T17:10:07.748Z"
   },
   {
    "duration": 37,
    "start_time": "2022-05-11T17:10:07.757Z"
   },
   {
    "duration": 13,
    "start_time": "2022-05-11T17:10:07.796Z"
   },
   {
    "duration": 9,
    "start_time": "2022-05-11T17:10:07.812Z"
   },
   {
    "duration": 24,
    "start_time": "2022-05-11T17:10:07.824Z"
   },
   {
    "duration": 68,
    "start_time": "2022-05-11T17:10:07.851Z"
   },
   {
    "duration": 50,
    "start_time": "2022-05-11T17:10:54.188Z"
   },
   {
    "duration": 54,
    "start_time": "2022-05-11T17:11:45.375Z"
   },
   {
    "duration": 9,
    "start_time": "2022-05-11T17:13:43.874Z"
   },
   {
    "duration": 10,
    "start_time": "2022-05-11T17:14:09.942Z"
   },
   {
    "duration": 135,
    "start_time": "2022-05-11T17:14:15.658Z"
   },
   {
    "duration": 19,
    "start_time": "2022-05-11T17:14:15.796Z"
   },
   {
    "duration": 18,
    "start_time": "2022-05-11T17:14:15.817Z"
   },
   {
    "duration": 19,
    "start_time": "2022-05-11T17:14:15.838Z"
   },
   {
    "duration": 50,
    "start_time": "2022-05-11T17:14:15.861Z"
   },
   {
    "duration": 8,
    "start_time": "2022-05-11T17:14:15.913Z"
   },
   {
    "duration": 83,
    "start_time": "2022-05-11T17:14:15.924Z"
   },
   {
    "duration": 48,
    "start_time": "2022-05-11T17:14:16.010Z"
   },
   {
    "duration": 42,
    "start_time": "2022-05-11T17:14:16.060Z"
   },
   {
    "duration": 7,
    "start_time": "2022-05-11T17:14:16.105Z"
   },
   {
    "duration": 14,
    "start_time": "2022-05-11T17:14:16.114Z"
   },
   {
    "duration": 7,
    "start_time": "2022-05-11T17:14:16.131Z"
   },
   {
    "duration": 58,
    "start_time": "2022-05-11T17:14:16.140Z"
   },
   {
    "duration": 7,
    "start_time": "2022-05-11T17:14:16.202Z"
   },
   {
    "duration": 12,
    "start_time": "2022-05-11T17:14:16.212Z"
   },
   {
    "duration": 10,
    "start_time": "2022-05-11T17:14:16.226Z"
   },
   {
    "duration": 63,
    "start_time": "2022-05-11T17:14:16.239Z"
   },
   {
    "duration": 7,
    "start_time": "2022-05-11T17:14:16.305Z"
   },
   {
    "duration": 11,
    "start_time": "2022-05-11T17:14:19.251Z"
   },
   {
    "duration": 30,
    "start_time": "2022-05-11T17:14:41.047Z"
   },
   {
    "duration": 28,
    "start_time": "2022-05-11T17:14:52.047Z"
   },
   {
    "duration": 30,
    "start_time": "2022-05-11T17:15:01.153Z"
   },
   {
    "duration": 7,
    "start_time": "2022-05-11T17:15:12.175Z"
   },
   {
    "duration": 6,
    "start_time": "2022-05-11T17:15:22.890Z"
   },
   {
    "duration": 103,
    "start_time": "2022-05-11T17:15:28.131Z"
   },
   {
    "duration": 20,
    "start_time": "2022-05-11T17:15:28.237Z"
   },
   {
    "duration": 17,
    "start_time": "2022-05-11T17:15:28.259Z"
   },
   {
    "duration": 21,
    "start_time": "2022-05-11T17:15:28.293Z"
   },
   {
    "duration": 34,
    "start_time": "2022-05-11T17:15:28.319Z"
   },
   {
    "duration": 7,
    "start_time": "2022-05-11T17:15:28.356Z"
   },
   {
    "duration": 53,
    "start_time": "2022-05-11T17:15:28.393Z"
   },
   {
    "duration": 71,
    "start_time": "2022-05-11T17:15:28.449Z"
   },
   {
    "duration": 17,
    "start_time": "2022-05-11T17:15:28.523Z"
   },
   {
    "duration": 9,
    "start_time": "2022-05-11T17:15:28.543Z"
   },
   {
    "duration": 48,
    "start_time": "2022-05-11T17:15:28.554Z"
   },
   {
    "duration": 10,
    "start_time": "2022-05-11T17:15:28.605Z"
   },
   {
    "duration": 17,
    "start_time": "2022-05-11T17:15:28.618Z"
   },
   {
    "duration": 27,
    "start_time": "2022-05-11T17:15:28.640Z"
   },
   {
    "duration": 25,
    "start_time": "2022-05-11T17:15:28.670Z"
   },
   {
    "duration": 18,
    "start_time": "2022-05-11T17:15:28.698Z"
   },
   {
    "duration": 17,
    "start_time": "2022-05-11T17:15:28.719Z"
   },
   {
    "duration": 7,
    "start_time": "2022-05-11T17:15:30.388Z"
   },
   {
    "duration": 35,
    "start_time": "2022-05-11T17:15:35.083Z"
   },
   {
    "duration": 9,
    "start_time": "2022-05-11T17:17:08.030Z"
   },
   {
    "duration": 99,
    "start_time": "2022-05-11T17:17:16.394Z"
   },
   {
    "duration": 19,
    "start_time": "2022-05-11T17:17:16.496Z"
   },
   {
    "duration": 17,
    "start_time": "2022-05-11T17:17:16.518Z"
   },
   {
    "duration": 57,
    "start_time": "2022-05-11T17:17:16.537Z"
   },
   {
    "duration": 25,
    "start_time": "2022-05-11T17:17:16.599Z"
   },
   {
    "duration": 9,
    "start_time": "2022-05-11T17:17:16.628Z"
   },
   {
    "duration": 94,
    "start_time": "2022-05-11T17:17:16.640Z"
   },
   {
    "duration": 88,
    "start_time": "2022-05-11T17:17:16.737Z"
   },
   {
    "duration": 27,
    "start_time": "2022-05-11T17:17:16.827Z"
   },
   {
    "duration": 40,
    "start_time": "2022-05-11T17:17:16.857Z"
   },
   {
    "duration": 15,
    "start_time": "2022-05-11T17:17:16.901Z"
   },
   {
    "duration": 15,
    "start_time": "2022-05-11T17:17:16.919Z"
   },
   {
    "duration": 12,
    "start_time": "2022-05-11T17:17:16.937Z"
   },
   {
    "duration": 41,
    "start_time": "2022-05-11T17:17:16.955Z"
   },
   {
    "duration": 13,
    "start_time": "2022-05-11T17:17:16.999Z"
   },
   {
    "duration": 12,
    "start_time": "2022-05-11T17:17:17.015Z"
   },
   {
    "duration": 13,
    "start_time": "2022-05-11T17:17:17.030Z"
   },
   {
    "duration": 10,
    "start_time": "2022-05-11T17:17:22.534Z"
   },
   {
    "duration": 18,
    "start_time": "2022-05-11T17:17:31.344Z"
   },
   {
    "duration": 13,
    "start_time": "2022-05-11T17:20:34.038Z"
   },
   {
    "duration": 129,
    "start_time": "2022-05-11T17:20:53.842Z"
   },
   {
    "duration": 29,
    "start_time": "2022-05-11T17:20:53.975Z"
   },
   {
    "duration": 21,
    "start_time": "2022-05-11T17:20:54.008Z"
   },
   {
    "duration": 22,
    "start_time": "2022-05-11T17:20:54.032Z"
   },
   {
    "duration": 52,
    "start_time": "2022-05-11T17:20:54.058Z"
   },
   {
    "duration": 11,
    "start_time": "2022-05-11T17:20:54.114Z"
   },
   {
    "duration": 101,
    "start_time": "2022-05-11T17:20:54.127Z"
   },
   {
    "duration": 65,
    "start_time": "2022-05-11T17:20:54.231Z"
   },
   {
    "duration": 27,
    "start_time": "2022-05-11T17:20:54.299Z"
   },
   {
    "duration": 8,
    "start_time": "2022-05-11T17:20:54.328Z"
   },
   {
    "duration": 18,
    "start_time": "2022-05-11T17:20:54.339Z"
   },
   {
    "duration": 7,
    "start_time": "2022-05-11T17:20:54.394Z"
   },
   {
    "duration": 12,
    "start_time": "2022-05-11T17:20:54.403Z"
   },
   {
    "duration": 9,
    "start_time": "2022-05-11T17:20:54.421Z"
   },
   {
    "duration": 17,
    "start_time": "2022-05-11T17:20:54.433Z"
   },
   {
    "duration": 49,
    "start_time": "2022-05-11T17:20:54.453Z"
   },
   {
    "duration": 13,
    "start_time": "2022-05-11T17:20:54.505Z"
   },
   {
    "duration": 7,
    "start_time": "2022-05-11T17:20:56.690Z"
   },
   {
    "duration": 13,
    "start_time": "2022-05-11T17:20:58.129Z"
   },
   {
    "duration": 7,
    "start_time": "2022-05-11T17:21:20.965Z"
   },
   {
    "duration": 23,
    "start_time": "2022-05-11T17:22:21.311Z"
   },
   {
    "duration": 28,
    "start_time": "2022-05-11T17:22:23.762Z"
   },
   {
    "duration": 54,
    "start_time": "2022-05-11T17:22:24.309Z"
   },
   {
    "duration": 10,
    "start_time": "2022-05-11T17:38:15.541Z"
   },
   {
    "duration": 6,
    "start_time": "2022-05-11T17:38:26.927Z"
   },
   {
    "duration": 99,
    "start_time": "2022-05-11T17:38:40.034Z"
   },
   {
    "duration": 19,
    "start_time": "2022-05-11T17:38:40.135Z"
   },
   {
    "duration": 23,
    "start_time": "2022-05-11T17:38:40.158Z"
   },
   {
    "duration": 31,
    "start_time": "2022-05-11T17:38:40.196Z"
   },
   {
    "duration": 28,
    "start_time": "2022-05-11T17:38:40.231Z"
   },
   {
    "duration": 33,
    "start_time": "2022-05-11T17:38:40.262Z"
   },
   {
    "duration": 49,
    "start_time": "2022-05-11T17:38:40.299Z"
   },
   {
    "duration": 80,
    "start_time": "2022-05-11T17:38:40.350Z"
   },
   {
    "duration": 18,
    "start_time": "2022-05-11T17:38:40.432Z"
   },
   {
    "duration": 7,
    "start_time": "2022-05-11T17:38:40.454Z"
   },
   {
    "duration": 49,
    "start_time": "2022-05-11T17:38:40.463Z"
   },
   {
    "duration": 8,
    "start_time": "2022-05-11T17:38:40.515Z"
   },
   {
    "duration": 7,
    "start_time": "2022-05-11T17:38:40.525Z"
   },
   {
    "duration": 7,
    "start_time": "2022-05-11T17:38:40.535Z"
   },
   {
    "duration": 54,
    "start_time": "2022-05-11T17:38:40.545Z"
   },
   {
    "duration": 13,
    "start_time": "2022-05-11T17:38:40.602Z"
   },
   {
    "duration": 11,
    "start_time": "2022-05-11T17:38:40.617Z"
   },
   {
    "duration": 14,
    "start_time": "2022-05-11T17:38:40.630Z"
   },
   {
    "duration": 17,
    "start_time": "2022-05-11T17:38:40.646Z"
   },
   {
    "duration": 11,
    "start_time": "2022-05-11T17:38:40.694Z"
   },
   {
    "duration": 18,
    "start_time": "2022-05-11T17:38:40.707Z"
   },
   {
    "duration": 17,
    "start_time": "2022-05-11T17:38:40.728Z"
   },
   {
    "duration": 9,
    "start_time": "2022-05-11T17:38:40.747Z"
   },
   {
    "duration": 51,
    "start_time": "2022-05-11T17:38:40.758Z"
   },
   {
    "duration": 27,
    "start_time": "2022-05-11T17:38:40.812Z"
   },
   {
    "duration": 82,
    "start_time": "2022-05-11T17:38:40.841Z"
   },
   {
    "duration": 43,
    "start_time": "2022-05-11T17:50:04.535Z"
   },
   {
    "duration": 47,
    "start_time": "2022-05-11T17:50:19.795Z"
   },
   {
    "duration": 40,
    "start_time": "2022-05-11T17:50:37.309Z"
   },
   {
    "duration": 24,
    "start_time": "2022-05-11T17:50:53.831Z"
   },
   {
    "duration": 31,
    "start_time": "2022-05-11T17:51:19.825Z"
   },
   {
    "duration": 37,
    "start_time": "2022-05-11T17:51:43.910Z"
   },
   {
    "duration": 36,
    "start_time": "2022-05-11T17:52:19.681Z"
   },
   {
    "duration": 49,
    "start_time": "2022-05-11T17:52:58.352Z"
   },
   {
    "duration": 49,
    "start_time": "2022-05-11T17:52:58.975Z"
   },
   {
    "duration": 19,
    "start_time": "2022-05-11T17:54:14.007Z"
   },
   {
    "duration": 17,
    "start_time": "2022-05-11T17:54:56.297Z"
   },
   {
    "duration": 37,
    "start_time": "2022-05-11T17:55:25.879Z"
   },
   {
    "duration": 44,
    "start_time": "2022-05-11T17:55:50.310Z"
   },
   {
    "duration": 51,
    "start_time": "2022-05-11T18:11:12.643Z"
   },
   {
    "duration": 494,
    "start_time": "2022-05-11T18:11:19.081Z"
   },
   {
    "duration": 20,
    "start_time": "2022-05-11T18:11:19.577Z"
   },
   {
    "duration": 27,
    "start_time": "2022-05-11T18:11:19.599Z"
   },
   {
    "duration": 14,
    "start_time": "2022-05-11T18:11:19.628Z"
   },
   {
    "duration": 14,
    "start_time": "2022-05-11T18:11:19.644Z"
   },
   {
    "duration": 7,
    "start_time": "2022-05-11T18:11:19.660Z"
   },
   {
    "duration": 67,
    "start_time": "2022-05-11T18:11:19.668Z"
   },
   {
    "duration": 32,
    "start_time": "2022-05-11T18:11:19.736Z"
   },
   {
    "duration": 14,
    "start_time": "2022-05-11T18:11:19.770Z"
   },
   {
    "duration": 13,
    "start_time": "2022-05-11T18:11:19.786Z"
   },
   {
    "duration": 31,
    "start_time": "2022-05-11T18:11:19.801Z"
   },
   {
    "duration": 5,
    "start_time": "2022-05-11T18:11:19.834Z"
   },
   {
    "duration": 6,
    "start_time": "2022-05-11T18:11:19.841Z"
   },
   {
    "duration": 5,
    "start_time": "2022-05-11T18:11:19.850Z"
   },
   {
    "duration": 12,
    "start_time": "2022-05-11T18:11:19.857Z"
   },
   {
    "duration": 10,
    "start_time": "2022-05-11T18:11:19.871Z"
   },
   {
    "duration": 43,
    "start_time": "2022-05-11T18:11:19.883Z"
   },
   {
    "duration": 136,
    "start_time": "2022-05-11T18:11:19.927Z"
   },
   {
    "duration": 16,
    "start_time": "2022-05-11T18:11:20.064Z"
   },
   {
    "duration": 9,
    "start_time": "2022-05-11T18:11:20.082Z"
   },
   {
    "duration": 9,
    "start_time": "2022-05-11T18:11:20.092Z"
   },
   {
    "duration": 20,
    "start_time": "2022-05-11T18:11:20.103Z"
   },
   {
    "duration": 16,
    "start_time": "2022-05-11T18:11:20.124Z"
   },
   {
    "duration": 20,
    "start_time": "2022-05-11T18:11:20.142Z"
   },
   {
    "duration": 19,
    "start_time": "2022-05-11T18:11:20.164Z"
   },
   {
    "duration": 43,
    "start_time": "2022-05-11T18:11:20.184Z"
   },
   {
    "duration": 12,
    "start_time": "2022-05-11T18:11:23.005Z"
   },
   {
    "duration": 13,
    "start_time": "2022-05-11T18:11:25.986Z"
   },
   {
    "duration": 16,
    "start_time": "2022-05-11T18:11:31.142Z"
   },
   {
    "duration": 17,
    "start_time": "2022-05-11T18:12:01.896Z"
   },
   {
    "duration": 6,
    "start_time": "2022-05-11T18:17:06.144Z"
   },
   {
    "duration": 75,
    "start_time": "2022-05-11T18:17:11.184Z"
   },
   {
    "duration": 14,
    "start_time": "2022-05-11T18:17:11.261Z"
   },
   {
    "duration": 12,
    "start_time": "2022-05-11T18:17:11.278Z"
   },
   {
    "duration": 42,
    "start_time": "2022-05-11T18:17:11.292Z"
   },
   {
    "duration": 13,
    "start_time": "2022-05-11T18:17:11.338Z"
   },
   {
    "duration": 7,
    "start_time": "2022-05-11T18:17:11.353Z"
   },
   {
    "duration": 28,
    "start_time": "2022-05-11T18:17:11.362Z"
   },
   {
    "duration": 32,
    "start_time": "2022-05-11T18:17:11.423Z"
   },
   {
    "duration": 15,
    "start_time": "2022-05-11T18:17:11.458Z"
   },
   {
    "duration": 7,
    "start_time": "2022-05-11T18:17:11.475Z"
   },
   {
    "duration": 48,
    "start_time": "2022-05-11T18:17:11.484Z"
   },
   {
    "duration": 6,
    "start_time": "2022-05-11T18:17:11.535Z"
   },
   {
    "duration": 6,
    "start_time": "2022-05-11T18:17:11.543Z"
   },
   {
    "duration": 5,
    "start_time": "2022-05-11T18:17:11.553Z"
   },
   {
    "duration": 8,
    "start_time": "2022-05-11T18:17:11.560Z"
   },
   {
    "duration": 54,
    "start_time": "2022-05-11T18:17:11.570Z"
   },
   {
    "duration": 9,
    "start_time": "2022-05-11T18:17:11.626Z"
   },
   {
    "duration": 5,
    "start_time": "2022-05-11T18:17:11.638Z"
   },
   {
    "duration": 15,
    "start_time": "2022-05-11T18:17:11.645Z"
   },
   {
    "duration": 5,
    "start_time": "2022-05-11T18:17:11.662Z"
   },
   {
    "duration": 7,
    "start_time": "2022-05-11T18:17:11.669Z"
   },
   {
    "duration": 47,
    "start_time": "2022-05-11T18:17:11.677Z"
   },
   {
    "duration": 7,
    "start_time": "2022-05-11T18:17:11.726Z"
   },
   {
    "duration": 15,
    "start_time": "2022-05-11T18:17:11.735Z"
   },
   {
    "duration": 20,
    "start_time": "2022-05-11T18:17:11.752Z"
   },
   {
    "duration": 6,
    "start_time": "2022-05-11T18:17:15.279Z"
   },
   {
    "duration": 16,
    "start_time": "2022-05-11T18:17:24.822Z"
   },
   {
    "duration": 21,
    "start_time": "2022-05-11T18:18:30.784Z"
   },
   {
    "duration": 198,
    "start_time": "2022-05-11T18:19:06.656Z"
   },
   {
    "duration": 4,
    "start_time": "2022-05-11T18:19:59.346Z"
   },
   {
    "duration": 19,
    "start_time": "2022-05-11T18:20:18.552Z"
   },
   {
    "duration": 19,
    "start_time": "2022-05-11T18:20:45.708Z"
   },
   {
    "duration": 18,
    "start_time": "2022-05-11T18:20:54.031Z"
   },
   {
    "duration": 3,
    "start_time": "2022-05-11T18:32:34.824Z"
   },
   {
    "duration": 72,
    "start_time": "2022-05-11T18:33:24.719Z"
   },
   {
    "duration": 14,
    "start_time": "2022-05-11T18:33:24.793Z"
   },
   {
    "duration": 23,
    "start_time": "2022-05-11T18:33:24.809Z"
   },
   {
    "duration": 13,
    "start_time": "2022-05-11T18:33:24.836Z"
   },
   {
    "duration": 16,
    "start_time": "2022-05-11T18:33:24.851Z"
   },
   {
    "duration": 7,
    "start_time": "2022-05-11T18:33:24.868Z"
   },
   {
    "duration": 69,
    "start_time": "2022-05-11T18:33:24.877Z"
   },
   {
    "duration": 31,
    "start_time": "2022-05-11T18:33:24.948Z"
   },
   {
    "duration": 14,
    "start_time": "2022-05-11T18:33:24.981Z"
   },
   {
    "duration": 7,
    "start_time": "2022-05-11T18:33:25.022Z"
   },
   {
    "duration": 12,
    "start_time": "2022-05-11T18:33:25.030Z"
   },
   {
    "duration": 6,
    "start_time": "2022-05-11T18:33:25.044Z"
   },
   {
    "duration": 5,
    "start_time": "2022-05-11T18:33:25.052Z"
   },
   {
    "duration": 5,
    "start_time": "2022-05-11T18:33:25.059Z"
   },
   {
    "duration": 9,
    "start_time": "2022-05-11T18:33:25.066Z"
   },
   {
    "duration": 50,
    "start_time": "2022-05-11T18:33:25.076Z"
   },
   {
    "duration": 8,
    "start_time": "2022-05-11T18:33:25.128Z"
   },
   {
    "duration": 9,
    "start_time": "2022-05-11T18:33:25.138Z"
   },
   {
    "duration": 17,
    "start_time": "2022-05-11T18:33:25.148Z"
   },
   {
    "duration": 9,
    "start_time": "2022-05-11T18:33:25.167Z"
   },
   {
    "duration": 9,
    "start_time": "2022-05-11T18:33:25.178Z"
   },
   {
    "duration": 40,
    "start_time": "2022-05-11T18:33:25.190Z"
   },
   {
    "duration": 7,
    "start_time": "2022-05-11T18:33:25.232Z"
   },
   {
    "duration": 21,
    "start_time": "2022-05-11T18:33:25.241Z"
   },
   {
    "duration": 21,
    "start_time": "2022-05-11T18:33:25.264Z"
   },
   {
    "duration": 66,
    "start_time": "2022-05-11T18:33:25.288Z"
   },
   {
    "duration": 24,
    "start_time": "2022-05-11T18:33:25.356Z"
   },
   {
    "duration": 38,
    "start_time": "2022-05-11T18:33:25.384Z"
   },
   {
    "duration": 22,
    "start_time": "2022-05-12T07:33:45.033Z"
   },
   {
    "duration": 24,
    "start_time": "2022-05-12T07:35:13.918Z"
   },
   {
    "duration": 191,
    "start_time": "2022-05-12T07:43:20.627Z"
   },
   {
    "duration": 32,
    "start_time": "2022-05-12T07:53:13.490Z"
   },
   {
    "duration": 36,
    "start_time": "2022-05-12T07:53:32.071Z"
   },
   {
    "duration": 89,
    "start_time": "2022-05-12T07:54:01.698Z"
   },
   {
    "duration": 34,
    "start_time": "2022-05-12T07:54:01.789Z"
   },
   {
    "duration": 13,
    "start_time": "2022-05-12T07:54:01.825Z"
   },
   {
    "duration": 15,
    "start_time": "2022-05-12T07:54:01.841Z"
   },
   {
    "duration": 15,
    "start_time": "2022-05-12T07:54:01.858Z"
   },
   {
    "duration": 48,
    "start_time": "2022-05-12T07:54:01.875Z"
   },
   {
    "duration": 48,
    "start_time": "2022-05-12T07:54:01.925Z"
   },
   {
    "duration": 52,
    "start_time": "2022-05-12T07:54:01.975Z"
   },
   {
    "duration": 15,
    "start_time": "2022-05-12T07:54:02.029Z"
   },
   {
    "duration": 7,
    "start_time": "2022-05-12T07:54:02.048Z"
   },
   {
    "duration": 18,
    "start_time": "2022-05-12T07:54:02.057Z"
   },
   {
    "duration": 6,
    "start_time": "2022-05-12T07:54:02.077Z"
   },
   {
    "duration": 52,
    "start_time": "2022-05-12T07:54:02.086Z"
   },
   {
    "duration": 18,
    "start_time": "2022-05-12T07:54:02.140Z"
   },
   {
    "duration": 10,
    "start_time": "2022-05-12T07:54:02.161Z"
   },
   {
    "duration": 12,
    "start_time": "2022-05-12T07:54:02.172Z"
   },
   {
    "duration": 8,
    "start_time": "2022-05-12T07:54:02.186Z"
   },
   {
    "duration": 28,
    "start_time": "2022-05-12T07:54:02.196Z"
   },
   {
    "duration": 9,
    "start_time": "2022-05-12T07:54:02.226Z"
   },
   {
    "duration": 13,
    "start_time": "2022-05-12T07:54:02.237Z"
   },
   {
    "duration": 14,
    "start_time": "2022-05-12T07:54:02.253Z"
   },
   {
    "duration": 17,
    "start_time": "2022-05-12T07:54:02.269Z"
   },
   {
    "duration": 13,
    "start_time": "2022-05-12T07:54:02.287Z"
   },
   {
    "duration": 31,
    "start_time": "2022-05-12T07:54:02.302Z"
   },
   {
    "duration": 20,
    "start_time": "2022-05-12T07:54:02.335Z"
   },
   {
    "duration": 33,
    "start_time": "2022-05-12T07:54:02.356Z"
   },
   {
    "duration": 35,
    "start_time": "2022-05-12T07:54:02.391Z"
   },
   {
    "duration": 29,
    "start_time": "2022-05-12T07:54:02.430Z"
   },
   {
    "duration": 9,
    "start_time": "2022-05-12T07:54:10.068Z"
   },
   {
    "duration": 23,
    "start_time": "2022-05-12T07:55:49.213Z"
   },
   {
    "duration": 38,
    "start_time": "2022-05-12T08:00:25.435Z"
   },
   {
    "duration": 84,
    "start_time": "2022-05-12T08:00:32.512Z"
   },
   {
    "duration": 13,
    "start_time": "2022-05-12T08:00:32.599Z"
   },
   {
    "duration": 23,
    "start_time": "2022-05-12T08:00:32.614Z"
   },
   {
    "duration": 15,
    "start_time": "2022-05-12T08:00:32.639Z"
   },
   {
    "duration": 24,
    "start_time": "2022-05-12T08:00:32.656Z"
   },
   {
    "duration": 6,
    "start_time": "2022-05-12T08:00:32.682Z"
   },
   {
    "duration": 58,
    "start_time": "2022-05-12T08:00:32.690Z"
   },
   {
    "duration": 32,
    "start_time": "2022-05-12T08:00:32.750Z"
   },
   {
    "duration": 43,
    "start_time": "2022-05-12T08:00:32.784Z"
   },
   {
    "duration": 7,
    "start_time": "2022-05-12T08:00:32.829Z"
   },
   {
    "duration": 13,
    "start_time": "2022-05-12T08:00:32.839Z"
   },
   {
    "duration": 7,
    "start_time": "2022-05-12T08:00:32.854Z"
   },
   {
    "duration": 7,
    "start_time": "2022-05-12T08:00:32.864Z"
   },
   {
    "duration": 5,
    "start_time": "2022-05-12T08:00:32.874Z"
   },
   {
    "duration": 7,
    "start_time": "2022-05-12T08:00:32.923Z"
   },
   {
    "duration": 9,
    "start_time": "2022-05-12T08:00:32.932Z"
   },
   {
    "duration": 9,
    "start_time": "2022-05-12T08:00:32.943Z"
   },
   {
    "duration": 5,
    "start_time": "2022-05-12T08:00:32.954Z"
   },
   {
    "duration": 15,
    "start_time": "2022-05-12T08:00:32.961Z"
   },
   {
    "duration": 46,
    "start_time": "2022-05-12T08:00:32.978Z"
   },
   {
    "duration": 5,
    "start_time": "2022-05-12T08:00:33.026Z"
   },
   {
    "duration": 10,
    "start_time": "2022-05-12T08:00:33.033Z"
   },
   {
    "duration": 6,
    "start_time": "2022-05-12T08:00:33.045Z"
   },
   {
    "duration": 16,
    "start_time": "2022-05-12T08:00:33.053Z"
   },
   {
    "duration": 57,
    "start_time": "2022-05-12T08:00:33.071Z"
   },
   {
    "duration": 34,
    "start_time": "2022-05-12T08:00:33.130Z"
   },
   {
    "duration": 15,
    "start_time": "2022-05-12T08:00:33.166Z"
   },
   {
    "duration": 42,
    "start_time": "2022-05-12T08:00:33.183Z"
   },
   {
    "duration": 22,
    "start_time": "2022-05-12T08:00:37.681Z"
   },
   {
    "duration": 23,
    "start_time": "2022-05-12T08:06:03.020Z"
   },
   {
    "duration": 0,
    "start_time": "2022-05-12T08:07:14.620Z"
   },
   {
    "duration": 21,
    "start_time": "2022-05-12T08:08:12.933Z"
   },
   {
    "duration": 18,
    "start_time": "2022-05-12T08:08:31.034Z"
   },
   {
    "duration": 15,
    "start_time": "2022-05-12T08:09:16.934Z"
   },
   {
    "duration": 104,
    "start_time": "2022-05-12T08:09:34.696Z"
   },
   {
    "duration": 14,
    "start_time": "2022-05-12T08:09:34.802Z"
   },
   {
    "duration": 25,
    "start_time": "2022-05-12T08:09:34.830Z"
   },
   {
    "duration": 19,
    "start_time": "2022-05-12T08:09:34.857Z"
   },
   {
    "duration": 17,
    "start_time": "2022-05-12T08:09:34.880Z"
   },
   {
    "duration": 35,
    "start_time": "2022-05-12T08:09:34.899Z"
   },
   {
    "duration": 37,
    "start_time": "2022-05-12T08:09:34.942Z"
   },
   {
    "duration": 32,
    "start_time": "2022-05-12T08:09:34.980Z"
   },
   {
    "duration": 32,
    "start_time": "2022-05-12T08:09:35.024Z"
   },
   {
    "duration": 9,
    "start_time": "2022-05-12T08:09:35.058Z"
   },
   {
    "duration": 22,
    "start_time": "2022-05-12T08:09:35.069Z"
   },
   {
    "duration": 18,
    "start_time": "2022-05-12T08:09:35.093Z"
   },
   {
    "duration": 26,
    "start_time": "2022-05-12T08:09:35.114Z"
   },
   {
    "duration": 21,
    "start_time": "2022-05-12T08:09:35.144Z"
   },
   {
    "duration": 18,
    "start_time": "2022-05-12T08:09:35.167Z"
   },
   {
    "duration": 18,
    "start_time": "2022-05-12T08:09:35.187Z"
   },
   {
    "duration": 29,
    "start_time": "2022-05-12T08:09:35.206Z"
   },
   {
    "duration": 10,
    "start_time": "2022-05-12T08:09:35.241Z"
   },
   {
    "duration": 18,
    "start_time": "2022-05-12T08:09:35.253Z"
   },
   {
    "duration": 10,
    "start_time": "2022-05-12T08:09:35.272Z"
   },
   {
    "duration": 17,
    "start_time": "2022-05-12T08:09:35.284Z"
   },
   {
    "duration": 10,
    "start_time": "2022-05-12T08:09:35.303Z"
   },
   {
    "duration": 17,
    "start_time": "2022-05-12T08:09:35.315Z"
   },
   {
    "duration": 29,
    "start_time": "2022-05-12T08:09:35.333Z"
   },
   {
    "duration": 39,
    "start_time": "2022-05-12T08:09:35.364Z"
   },
   {
    "duration": 59,
    "start_time": "2022-05-12T08:09:35.404Z"
   },
   {
    "duration": 15,
    "start_time": "2022-05-12T08:09:35.465Z"
   },
   {
    "duration": 36,
    "start_time": "2022-05-12T08:09:35.482Z"
   },
   {
    "duration": 39,
    "start_time": "2022-05-12T08:09:46.120Z"
   },
   {
    "duration": 36,
    "start_time": "2022-05-12T08:10:05.735Z"
   },
   {
    "duration": 11,
    "start_time": "2022-05-12T08:17:18.553Z"
   },
   {
    "duration": 103,
    "start_time": "2022-05-12T08:17:31.414Z"
   },
   {
    "duration": 20,
    "start_time": "2022-05-12T08:17:31.523Z"
   },
   {
    "duration": 16,
    "start_time": "2022-05-12T08:17:31.545Z"
   },
   {
    "duration": 14,
    "start_time": "2022-05-12T08:17:31.563Z"
   },
   {
    "duration": 53,
    "start_time": "2022-05-12T08:17:31.580Z"
   },
   {
    "duration": 15,
    "start_time": "2022-05-12T08:17:31.637Z"
   },
   {
    "duration": 30,
    "start_time": "2022-05-12T08:17:31.657Z"
   },
   {
    "duration": 66,
    "start_time": "2022-05-12T08:17:31.689Z"
   },
   {
    "duration": 15,
    "start_time": "2022-05-12T08:17:31.757Z"
   },
   {
    "duration": 8,
    "start_time": "2022-05-12T08:17:31.775Z"
   },
   {
    "duration": 44,
    "start_time": "2022-05-12T08:17:31.785Z"
   },
   {
    "duration": 14,
    "start_time": "2022-05-12T08:17:31.835Z"
   },
   {
    "duration": 7,
    "start_time": "2022-05-12T08:17:31.851Z"
   },
   {
    "duration": 6,
    "start_time": "2022-05-12T08:17:31.862Z"
   },
   {
    "duration": 11,
    "start_time": "2022-05-12T08:17:31.871Z"
   },
   {
    "duration": 9,
    "start_time": "2022-05-12T08:17:31.884Z"
   },
   {
    "duration": 14,
    "start_time": "2022-05-12T08:17:31.926Z"
   },
   {
    "duration": 6,
    "start_time": "2022-05-12T08:17:31.946Z"
   },
   {
    "duration": 14,
    "start_time": "2022-05-12T08:17:31.954Z"
   },
   {
    "duration": 9,
    "start_time": "2022-05-12T08:17:31.969Z"
   },
   {
    "duration": 5,
    "start_time": "2022-05-12T08:17:31.980Z"
   },
   {
    "duration": 43,
    "start_time": "2022-05-12T08:17:31.987Z"
   },
   {
    "duration": 11,
    "start_time": "2022-05-12T08:17:32.032Z"
   },
   {
    "duration": 22,
    "start_time": "2022-05-12T08:17:32.045Z"
   },
   {
    "duration": 23,
    "start_time": "2022-05-12T08:17:32.069Z"
   },
   {
    "duration": 117,
    "start_time": "2022-05-12T08:17:32.094Z"
   },
   {
    "duration": 28,
    "start_time": "2022-05-12T08:17:32.212Z"
   },
   {
    "duration": 27,
    "start_time": "2022-05-12T08:17:32.242Z"
   },
   {
    "duration": 5,
    "start_time": "2022-05-12T08:17:35.148Z"
   },
   {
    "duration": 4,
    "start_time": "2022-05-12T08:17:50.444Z"
   },
   {
    "duration": 16,
    "start_time": "2022-05-12T08:17:53.181Z"
   },
   {
    "duration": 11,
    "start_time": "2022-05-12T08:18:19.064Z"
   },
   {
    "duration": 9,
    "start_time": "2022-05-12T08:18:39.646Z"
   },
   {
    "duration": 3,
    "start_time": "2022-05-12T08:18:54.301Z"
   },
   {
    "duration": 6,
    "start_time": "2022-05-12T08:18:55.553Z"
   },
   {
    "duration": 13,
    "start_time": "2022-05-12T08:19:02.768Z"
   },
   {
    "duration": 117,
    "start_time": "2022-05-12T08:21:58.748Z"
   },
   {
    "duration": 14,
    "start_time": "2022-05-12T08:21:58.868Z"
   },
   {
    "duration": 21,
    "start_time": "2022-05-12T08:21:58.884Z"
   },
   {
    "duration": 37,
    "start_time": "2022-05-12T08:21:58.907Z"
   },
   {
    "duration": 17,
    "start_time": "2022-05-12T08:21:58.947Z"
   },
   {
    "duration": 10,
    "start_time": "2022-05-12T08:21:58.966Z"
   },
   {
    "duration": 69,
    "start_time": "2022-05-12T08:21:58.979Z"
   },
   {
    "duration": 34,
    "start_time": "2022-05-12T08:21:59.051Z"
   },
   {
    "duration": 49,
    "start_time": "2022-05-12T08:21:59.087Z"
   },
   {
    "duration": 8,
    "start_time": "2022-05-12T08:21:59.139Z"
   },
   {
    "duration": 16,
    "start_time": "2022-05-12T08:21:59.153Z"
   },
   {
    "duration": 8,
    "start_time": "2022-05-12T08:21:59.171Z"
   },
   {
    "duration": 45,
    "start_time": "2022-05-12T08:21:59.181Z"
   },
   {
    "duration": 9,
    "start_time": "2022-05-12T08:21:59.232Z"
   },
   {
    "duration": 9,
    "start_time": "2022-05-12T08:21:59.244Z"
   },
   {
    "duration": 17,
    "start_time": "2022-05-12T08:21:59.255Z"
   },
   {
    "duration": 11,
    "start_time": "2022-05-12T08:21:59.275Z"
   },
   {
    "duration": 45,
    "start_time": "2022-05-12T08:21:59.288Z"
   },
   {
    "duration": 14,
    "start_time": "2022-05-12T08:21:59.335Z"
   },
   {
    "duration": 7,
    "start_time": "2022-05-12T08:21:59.351Z"
   },
   {
    "duration": 6,
    "start_time": "2022-05-12T08:21:59.361Z"
   },
   {
    "duration": 9,
    "start_time": "2022-05-12T08:21:59.369Z"
   },
   {
    "duration": 51,
    "start_time": "2022-05-12T08:21:59.381Z"
   },
   {
    "duration": 20,
    "start_time": "2022-05-12T08:21:59.435Z"
   },
   {
    "duration": 27,
    "start_time": "2022-05-12T08:21:59.457Z"
   },
   {
    "duration": 73,
    "start_time": "2022-05-12T08:21:59.487Z"
   },
   {
    "duration": 18,
    "start_time": "2022-05-12T08:21:59.562Z"
   },
   {
    "duration": 48,
    "start_time": "2022-05-12T08:21:59.582Z"
   },
   {
    "duration": 4,
    "start_time": "2022-05-12T08:22:01.770Z"
   },
   {
    "duration": 19,
    "start_time": "2022-05-12T08:22:02.538Z"
   },
   {
    "duration": 97,
    "start_time": "2022-05-12T08:22:18.649Z"
   },
   {
    "duration": 290,
    "start_time": "2022-05-12T08:38:56.248Z"
   },
   {
    "duration": 338,
    "start_time": "2022-05-12T08:39:24.186Z"
   },
   {
    "duration": 79,
    "start_time": "2022-05-12T08:39:38.635Z"
   },
   {
    "duration": 26,
    "start_time": "2022-05-12T08:39:38.716Z"
   },
   {
    "duration": 15,
    "start_time": "2022-05-12T08:39:38.744Z"
   },
   {
    "duration": 18,
    "start_time": "2022-05-12T08:39:38.761Z"
   },
   {
    "duration": 16,
    "start_time": "2022-05-12T08:39:38.782Z"
   },
   {
    "duration": 35,
    "start_time": "2022-05-12T08:39:38.800Z"
   },
   {
    "duration": 32,
    "start_time": "2022-05-12T08:39:38.838Z"
   },
   {
    "duration": 32,
    "start_time": "2022-05-12T08:39:38.872Z"
   },
   {
    "duration": 23,
    "start_time": "2022-05-12T08:39:38.923Z"
   },
   {
    "duration": 10,
    "start_time": "2022-05-12T08:39:38.949Z"
   },
   {
    "duration": 10,
    "start_time": "2022-05-12T08:39:38.962Z"
   },
   {
    "duration": 6,
    "start_time": "2022-05-12T08:39:38.974Z"
   },
   {
    "duration": 4,
    "start_time": "2022-05-12T08:39:38.983Z"
   },
   {
    "duration": 7,
    "start_time": "2022-05-12T08:39:39.028Z"
   },
   {
    "duration": 12,
    "start_time": "2022-05-12T08:39:39.036Z"
   },
   {
    "duration": 10,
    "start_time": "2022-05-12T08:39:39.052Z"
   },
   {
    "duration": 8,
    "start_time": "2022-05-12T08:39:39.063Z"
   },
   {
    "duration": 5,
    "start_time": "2022-05-12T08:39:39.073Z"
   },
   {
    "duration": 11,
    "start_time": "2022-05-12T08:39:39.080Z"
   },
   {
    "duration": 7,
    "start_time": "2022-05-12T08:39:39.123Z"
   },
   {
    "duration": 10,
    "start_time": "2022-05-12T08:39:39.132Z"
   },
   {
    "duration": 10,
    "start_time": "2022-05-12T08:39:39.144Z"
   },
   {
    "duration": 10,
    "start_time": "2022-05-12T08:39:39.156Z"
   },
   {
    "duration": 20,
    "start_time": "2022-05-12T08:39:39.168Z"
   },
   {
    "duration": 56,
    "start_time": "2022-05-12T08:39:39.190Z"
   },
   {
    "duration": 51,
    "start_time": "2022-05-12T08:39:39.250Z"
   },
   {
    "duration": 46,
    "start_time": "2022-05-12T08:39:39.302Z"
   },
   {
    "duration": 21,
    "start_time": "2022-05-12T08:39:39.350Z"
   },
   {
    "duration": 4,
    "start_time": "2022-05-12T08:39:41.766Z"
   },
   {
    "duration": 405,
    "start_time": "2022-05-12T08:39:42.460Z"
   },
   {
    "duration": 75,
    "start_time": "2022-05-12T08:40:31.776Z"
   },
   {
    "duration": 16,
    "start_time": "2022-05-12T08:40:45.530Z"
   },
   {
    "duration": 11,
    "start_time": "2022-05-12T08:40:56.174Z"
   },
   {
    "duration": 23,
    "start_time": "2022-05-12T08:42:40.039Z"
   },
   {
    "duration": 22,
    "start_time": "2022-05-12T08:42:52.926Z"
   },
   {
    "duration": 26,
    "start_time": "2022-05-12T08:43:38.817Z"
   },
   {
    "duration": 19,
    "start_time": "2022-05-12T08:44:15.485Z"
   },
   {
    "duration": 20,
    "start_time": "2022-05-12T08:44:36.456Z"
   },
   {
    "duration": 34,
    "start_time": "2022-05-12T08:44:49.916Z"
   },
   {
    "duration": 11,
    "start_time": "2022-05-12T08:45:12.551Z"
   },
   {
    "duration": 7,
    "start_time": "2022-05-12T08:45:51.496Z"
   },
   {
    "duration": 4,
    "start_time": "2022-05-12T08:48:23.275Z"
   },
   {
    "duration": 7,
    "start_time": "2022-05-12T08:48:44.649Z"
   },
   {
    "duration": 10,
    "start_time": "2022-05-12T08:51:50.341Z"
   },
   {
    "duration": 6,
    "start_time": "2022-05-12T08:51:51.115Z"
   },
   {
    "duration": 6,
    "start_time": "2022-05-12T08:51:56.473Z"
   },
   {
    "duration": 11,
    "start_time": "2022-05-12T08:52:29.253Z"
   },
   {
    "duration": 9,
    "start_time": "2022-05-12T08:52:39.525Z"
   },
   {
    "duration": 8,
    "start_time": "2022-05-12T08:52:49.833Z"
   },
   {
    "duration": 9,
    "start_time": "2022-05-12T09:06:22.737Z"
   },
   {
    "duration": 4,
    "start_time": "2022-05-12T09:06:28.258Z"
   },
   {
    "duration": 8,
    "start_time": "2022-05-12T09:06:38.717Z"
   },
   {
    "duration": 11,
    "start_time": "2022-05-12T09:08:32.356Z"
   },
   {
    "duration": 8,
    "start_time": "2022-05-12T09:08:41.704Z"
   },
   {
    "duration": 7,
    "start_time": "2022-05-12T09:09:00.397Z"
   },
   {
    "duration": 8,
    "start_time": "2022-05-12T09:09:36.359Z"
   },
   {
    "duration": 10,
    "start_time": "2022-05-12T09:11:52.146Z"
   },
   {
    "duration": 16,
    "start_time": "2022-05-12T09:13:50.162Z"
   },
   {
    "duration": 15,
    "start_time": "2022-05-12T09:14:21.318Z"
   },
   {
    "duration": 8,
    "start_time": "2022-05-12T09:14:36.776Z"
   },
   {
    "duration": 8,
    "start_time": "2022-05-12T09:14:43.269Z"
   },
   {
    "duration": 107,
    "start_time": "2022-05-12T09:15:45.534Z"
   },
   {
    "duration": 29,
    "start_time": "2022-05-12T09:15:45.644Z"
   },
   {
    "duration": 15,
    "start_time": "2022-05-12T09:15:45.676Z"
   },
   {
    "duration": 39,
    "start_time": "2022-05-12T09:15:45.693Z"
   },
   {
    "duration": 18,
    "start_time": "2022-05-12T09:15:45.735Z"
   },
   {
    "duration": 11,
    "start_time": "2022-05-12T09:15:45.756Z"
   },
   {
    "duration": 23,
    "start_time": "2022-05-12T09:15:45.771Z"
   },
   {
    "duration": 53,
    "start_time": "2022-05-12T09:15:45.797Z"
   },
   {
    "duration": 24,
    "start_time": "2022-05-12T09:15:45.859Z"
   },
   {
    "duration": 8,
    "start_time": "2022-05-12T09:15:45.885Z"
   },
   {
    "duration": 14,
    "start_time": "2022-05-12T09:15:45.896Z"
   },
   {
    "duration": 11,
    "start_time": "2022-05-12T09:15:45.927Z"
   },
   {
    "duration": 19,
    "start_time": "2022-05-12T09:15:53.115Z"
   },
   {
    "duration": 14,
    "start_time": "2022-05-12T09:16:29.923Z"
   },
   {
    "duration": 50,
    "start_time": "2022-05-12T09:16:43.056Z"
   },
   {
    "duration": 9,
    "start_time": "2022-05-12T09:17:11.500Z"
   },
   {
    "duration": 14,
    "start_time": "2022-05-12T09:17:17.426Z"
   },
   {
    "duration": 16,
    "start_time": "2022-05-12T09:17:26.961Z"
   },
   {
    "duration": 10,
    "start_time": "2022-05-12T09:18:24.981Z"
   },
   {
    "duration": 4006,
    "start_time": "2022-05-12T09:20:49.402Z"
   },
   {
    "duration": 3958,
    "start_time": "2022-05-12T09:20:56.987Z"
   },
   {
    "duration": 12,
    "start_time": "2022-05-12T09:21:16.167Z"
   },
   {
    "duration": 13,
    "start_time": "2022-05-12T09:21:22.132Z"
   },
   {
    "duration": 8,
    "start_time": "2022-05-12T09:22:29.916Z"
   },
   {
    "duration": 12,
    "start_time": "2022-05-12T09:22:30.597Z"
   },
   {
    "duration": 68,
    "start_time": "2022-05-12T09:26:30.694Z"
   },
   {
    "duration": 13,
    "start_time": "2022-05-12T09:26:45.921Z"
   },
   {
    "duration": 11,
    "start_time": "2022-05-12T09:28:03.286Z"
   },
   {
    "duration": 10,
    "start_time": "2022-05-12T09:28:23.117Z"
   },
   {
    "duration": 18,
    "start_time": "2022-05-12T09:56:26.663Z"
   },
   {
    "duration": 88,
    "start_time": "2022-05-12T09:56:32.123Z"
   },
   {
    "duration": 25,
    "start_time": "2022-05-12T09:56:32.214Z"
   },
   {
    "duration": 21,
    "start_time": "2022-05-12T09:56:32.241Z"
   },
   {
    "duration": 19,
    "start_time": "2022-05-12T09:56:32.264Z"
   },
   {
    "duration": 13,
    "start_time": "2022-05-12T09:56:32.285Z"
   },
   {
    "duration": 37,
    "start_time": "2022-05-12T09:56:32.300Z"
   },
   {
    "duration": 24,
    "start_time": "2022-05-12T09:56:32.344Z"
   },
   {
    "duration": 16,
    "start_time": "2022-05-12T09:56:32.370Z"
   },
   {
    "duration": 13,
    "start_time": "2022-05-12T09:56:36.062Z"
   },
   {
    "duration": 6,
    "start_time": "2022-05-12T09:56:49.609Z"
   },
   {
    "duration": 21,
    "start_time": "2022-05-12T09:56:50.660Z"
   },
   {
    "duration": 12,
    "start_time": "2022-05-12T09:56:51.863Z"
   },
   {
    "duration": 18,
    "start_time": "2022-05-12T09:57:21.315Z"
   },
   {
    "duration": 7,
    "start_time": "2022-05-12T09:57:23.191Z"
   },
   {
    "duration": 9,
    "start_time": "2022-05-12T09:57:24.154Z"
   },
   {
    "duration": 8,
    "start_time": "2022-05-12T09:57:25.068Z"
   },
   {
    "duration": 8,
    "start_time": "2022-05-12T09:57:26.192Z"
   },
   {
    "duration": 13,
    "start_time": "2022-05-12T09:57:26.746Z"
   },
   {
    "duration": 13,
    "start_time": "2022-05-12T09:57:27.304Z"
   },
   {
    "duration": 92,
    "start_time": "2022-05-12T09:59:24.628Z"
   },
   {
    "duration": 35,
    "start_time": "2022-05-12T09:59:24.722Z"
   },
   {
    "duration": 16,
    "start_time": "2022-05-12T09:59:24.759Z"
   },
   {
    "duration": 15,
    "start_time": "2022-05-12T09:59:24.778Z"
   },
   {
    "duration": 27,
    "start_time": "2022-05-12T09:59:24.796Z"
   },
   {
    "duration": 8,
    "start_time": "2022-05-12T09:59:24.825Z"
   },
   {
    "duration": 32,
    "start_time": "2022-05-12T09:59:24.835Z"
   },
   {
    "duration": 18,
    "start_time": "2022-05-12T09:59:24.869Z"
   },
   {
    "duration": 40,
    "start_time": "2022-05-12T09:59:24.889Z"
   },
   {
    "duration": 7,
    "start_time": "2022-05-12T09:59:24.931Z"
   },
   {
    "duration": 14,
    "start_time": "2022-05-12T09:59:24.940Z"
   },
   {
    "duration": 14,
    "start_time": "2022-05-12T09:59:24.958Z"
   },
   {
    "duration": 6,
    "start_time": "2022-05-12T09:59:24.974Z"
   },
   {
    "duration": 11,
    "start_time": "2022-05-12T09:59:24.985Z"
   },
   {
    "duration": 22,
    "start_time": "2022-05-12T09:59:25.022Z"
   },
   {
    "duration": 6,
    "start_time": "2022-05-12T09:59:25.046Z"
   },
   {
    "duration": 10,
    "start_time": "2022-05-12T09:59:25.054Z"
   },
   {
    "duration": 8,
    "start_time": "2022-05-12T09:59:25.066Z"
   },
   {
    "duration": 9,
    "start_time": "2022-05-12T09:59:25.076Z"
   },
   {
    "duration": 10,
    "start_time": "2022-05-12T09:59:25.087Z"
   },
   {
    "duration": 15,
    "start_time": "2022-05-12T09:59:25.128Z"
   },
   {
    "duration": 16,
    "start_time": "2022-05-12T09:59:25.145Z"
   },
   {
    "duration": 6,
    "start_time": "2022-05-12T09:59:25.163Z"
   },
   {
    "duration": 11,
    "start_time": "2022-05-12T09:59:25.170Z"
   },
   {
    "duration": 12,
    "start_time": "2022-05-12T09:59:25.183Z"
   },
   {
    "duration": 7,
    "start_time": "2022-05-12T09:59:25.197Z"
   },
   {
    "duration": 35,
    "start_time": "2022-05-12T09:59:25.206Z"
   },
   {
    "duration": 28,
    "start_time": "2022-05-12T09:59:25.242Z"
   },
   {
    "duration": 65,
    "start_time": "2022-05-12T09:59:25.272Z"
   },
   {
    "duration": 27,
    "start_time": "2022-05-12T09:59:25.339Z"
   },
   {
    "duration": 32,
    "start_time": "2022-05-12T09:59:25.368Z"
   },
   {
    "duration": 4,
    "start_time": "2022-05-12T09:59:25.402Z"
   },
   {
    "duration": 336,
    "start_time": "2022-05-12T09:59:25.422Z"
   },
   {
    "duration": 21,
    "start_time": "2022-05-12T10:13:53.003Z"
   },
   {
    "duration": 17,
    "start_time": "2022-05-12T10:23:00.170Z"
   },
   {
    "duration": 89,
    "start_time": "2022-05-12T10:23:03.806Z"
   },
   {
    "duration": 14,
    "start_time": "2022-05-12T10:23:03.897Z"
   },
   {
    "duration": 19,
    "start_time": "2022-05-12T10:23:03.912Z"
   },
   {
    "duration": 15,
    "start_time": "2022-05-12T10:23:03.935Z"
   },
   {
    "duration": 14,
    "start_time": "2022-05-12T10:23:03.953Z"
   },
   {
    "duration": 6,
    "start_time": "2022-05-12T10:23:03.969Z"
   },
   {
    "duration": 66,
    "start_time": "2022-05-12T10:23:03.977Z"
   },
   {
    "duration": 22,
    "start_time": "2022-05-12T10:23:04.048Z"
   },
   {
    "duration": 24,
    "start_time": "2022-05-12T10:23:04.072Z"
   },
   {
    "duration": 34,
    "start_time": "2022-05-12T10:23:04.098Z"
   },
   {
    "duration": 13,
    "start_time": "2022-05-12T10:23:04.134Z"
   },
   {
    "duration": 6,
    "start_time": "2022-05-12T10:23:04.149Z"
   },
   {
    "duration": 8,
    "start_time": "2022-05-12T10:23:04.157Z"
   },
   {
    "duration": 11,
    "start_time": "2022-05-12T10:23:04.168Z"
   },
   {
    "duration": 52,
    "start_time": "2022-05-12T10:23:04.180Z"
   },
   {
    "duration": 5,
    "start_time": "2022-05-12T10:23:04.240Z"
   },
   {
    "duration": 12,
    "start_time": "2022-05-12T10:23:04.247Z"
   },
   {
    "duration": 8,
    "start_time": "2022-05-12T10:23:04.261Z"
   },
   {
    "duration": 10,
    "start_time": "2022-05-12T10:23:04.271Z"
   },
   {
    "duration": 12,
    "start_time": "2022-05-12T10:23:04.283Z"
   },
   {
    "duration": 34,
    "start_time": "2022-05-12T10:23:04.297Z"
   },
   {
    "duration": 16,
    "start_time": "2022-05-12T10:23:04.332Z"
   },
   {
    "duration": 8,
    "start_time": "2022-05-12T10:23:04.350Z"
   },
   {
    "duration": 6,
    "start_time": "2022-05-12T10:23:04.360Z"
   },
   {
    "duration": 15,
    "start_time": "2022-05-12T10:23:04.368Z"
   },
   {
    "duration": 41,
    "start_time": "2022-05-12T10:23:04.385Z"
   },
   {
    "duration": 18,
    "start_time": "2022-05-12T10:23:04.429Z"
   },
   {
    "duration": 28,
    "start_time": "2022-05-12T10:23:04.450Z"
   },
   {
    "duration": 65,
    "start_time": "2022-05-12T10:23:04.480Z"
   },
   {
    "duration": 18,
    "start_time": "2022-05-12T10:23:04.547Z"
   },
   {
    "duration": 24,
    "start_time": "2022-05-12T10:23:04.567Z"
   },
   {
    "duration": 14,
    "start_time": "2022-05-12T10:23:04.594Z"
   },
   {
    "duration": 506,
    "start_time": "2022-05-12T10:23:04.610Z"
   },
   {
    "duration": 3903,
    "start_time": "2022-05-12T10:26:45.953Z"
   },
   {
    "duration": 3897,
    "start_time": "2022-05-12T10:26:59.375Z"
   },
   {
    "duration": 3436,
    "start_time": "2022-05-12T10:27:08.685Z"
   },
   {
    "duration": 8,
    "start_time": "2022-05-12T10:27:27.588Z"
   },
   {
    "duration": 5,
    "start_time": "2022-05-12T10:27:49.456Z"
   },
   {
    "duration": 5,
    "start_time": "2022-05-12T10:27:59.293Z"
   },
   {
    "duration": 17,
    "start_time": "2022-05-12T10:28:04.141Z"
   },
   {
    "duration": 11,
    "start_time": "2022-05-12T10:28:13.608Z"
   },
   {
    "duration": 12,
    "start_time": "2022-05-12T10:28:19.380Z"
   },
   {
    "duration": 12,
    "start_time": "2022-05-12T10:29:55.362Z"
   },
   {
    "duration": 6,
    "start_time": "2022-05-12T10:30:36.314Z"
   },
   {
    "duration": 16,
    "start_time": "2022-05-12T10:32:29.126Z"
   },
   {
    "duration": 13,
    "start_time": "2022-05-12T10:32:51.382Z"
   },
   {
    "duration": 15,
    "start_time": "2022-05-12T10:32:59.068Z"
   },
   {
    "duration": 11,
    "start_time": "2022-05-12T10:33:14.573Z"
   },
   {
    "duration": 27,
    "start_time": "2022-05-12T10:33:36.936Z"
   },
   {
    "duration": 16,
    "start_time": "2022-05-12T10:33:47.403Z"
   },
   {
    "duration": 30,
    "start_time": "2022-05-12T10:33:57.924Z"
   },
   {
    "duration": 18,
    "start_time": "2022-05-12T10:34:06.825Z"
   },
   {
    "duration": 27,
    "start_time": "2022-05-12T10:35:51.818Z"
   },
   {
    "duration": 21,
    "start_time": "2022-05-12T10:36:17.369Z"
   },
   {
    "duration": 38,
    "start_time": "2022-05-12T10:36:43.929Z"
   },
   {
    "duration": 20,
    "start_time": "2022-05-12T10:42:30.570Z"
   },
   {
    "duration": 12,
    "start_time": "2022-05-12T10:42:39.825Z"
   },
   {
    "duration": 13,
    "start_time": "2022-05-12T10:42:46.852Z"
   },
   {
    "duration": 12,
    "start_time": "2022-05-12T10:43:22.206Z"
   },
   {
    "duration": 77,
    "start_time": "2022-05-12T10:43:28.038Z"
   },
   {
    "duration": 16,
    "start_time": "2022-05-12T10:43:28.117Z"
   },
   {
    "duration": 26,
    "start_time": "2022-05-12T10:43:28.135Z"
   },
   {
    "duration": 15,
    "start_time": "2022-05-12T10:43:28.163Z"
   },
   {
    "duration": 14,
    "start_time": "2022-05-12T10:43:28.669Z"
   },
   {
    "duration": 9,
    "start_time": "2022-05-12T10:43:28.686Z"
   },
   {
    "duration": 17,
    "start_time": "2022-05-12T10:43:28.696Z"
   },
   {
    "duration": 27,
    "start_time": "2022-05-12T10:43:28.715Z"
   },
   {
    "duration": 20,
    "start_time": "2022-05-12T10:43:28.744Z"
   },
   {
    "duration": 6,
    "start_time": "2022-05-12T10:43:28.766Z"
   },
   {
    "duration": 9,
    "start_time": "2022-05-12T10:43:28.773Z"
   },
   {
    "duration": 5,
    "start_time": "2022-05-12T10:43:28.784Z"
   },
   {
    "duration": 43,
    "start_time": "2022-05-12T10:43:28.791Z"
   },
   {
    "duration": 15,
    "start_time": "2022-05-12T10:43:28.836Z"
   },
   {
    "duration": 11,
    "start_time": "2022-05-12T10:43:28.854Z"
   },
   {
    "duration": 4,
    "start_time": "2022-05-12T10:43:28.867Z"
   },
   {
    "duration": 6,
    "start_time": "2022-05-12T10:43:29.595Z"
   },
   {
    "duration": 7,
    "start_time": "2022-05-12T10:43:29.604Z"
   },
   {
    "duration": 7,
    "start_time": "2022-05-12T10:43:29.613Z"
   },
   {
    "duration": 29,
    "start_time": "2022-05-12T10:43:29.622Z"
   },
   {
    "duration": 5,
    "start_time": "2022-05-12T10:43:29.653Z"
   },
   {
    "duration": 9,
    "start_time": "2022-05-12T10:43:29.660Z"
   },
   {
    "duration": 5,
    "start_time": "2022-05-12T10:43:29.671Z"
   },
   {
    "duration": 5,
    "start_time": "2022-05-12T10:43:29.678Z"
   },
   {
    "duration": 11,
    "start_time": "2022-05-12T10:43:29.684Z"
   },
   {
    "duration": 13,
    "start_time": "2022-05-12T10:43:29.731Z"
   },
   {
    "duration": 16,
    "start_time": "2022-05-12T10:43:29.749Z"
   },
   {
    "duration": 20,
    "start_time": "2022-05-12T10:43:29.767Z"
   },
   {
    "duration": 72,
    "start_time": "2022-05-12T10:43:29.789Z"
   },
   {
    "duration": 16,
    "start_time": "2022-05-12T10:43:29.865Z"
   },
   {
    "duration": 18,
    "start_time": "2022-05-12T10:43:29.883Z"
   },
   {
    "duration": 3,
    "start_time": "2022-05-12T10:43:29.903Z"
   },
   {
    "duration": 294,
    "start_time": "2022-05-12T10:43:29.925Z"
   },
   {
    "duration": 25,
    "start_time": "2022-05-12T10:43:30.302Z"
   },
   {
    "duration": 30,
    "start_time": "2022-05-12T10:43:31.423Z"
   },
   {
    "duration": 12,
    "start_time": "2022-05-12T10:46:09.471Z"
   },
   {
    "duration": 21,
    "start_time": "2022-05-12T10:46:14.623Z"
   },
   {
    "duration": 110,
    "start_time": "2022-05-12T10:46:18.715Z"
   },
   {
    "duration": 18,
    "start_time": "2022-05-12T10:46:18.827Z"
   },
   {
    "duration": 22,
    "start_time": "2022-05-12T10:46:18.847Z"
   },
   {
    "duration": 14,
    "start_time": "2022-05-12T10:46:18.870Z"
   },
   {
    "duration": 45,
    "start_time": "2022-05-12T10:46:18.888Z"
   },
   {
    "duration": 10,
    "start_time": "2022-05-12T10:46:18.935Z"
   },
   {
    "duration": 21,
    "start_time": "2022-05-12T10:46:18.947Z"
   },
   {
    "duration": 19,
    "start_time": "2022-05-12T10:46:18.970Z"
   },
   {
    "duration": 48,
    "start_time": "2022-05-12T10:46:18.991Z"
   },
   {
    "duration": 9,
    "start_time": "2022-05-12T10:46:19.043Z"
   },
   {
    "duration": 14,
    "start_time": "2022-05-12T10:46:19.054Z"
   },
   {
    "duration": 8,
    "start_time": "2022-05-12T10:46:19.070Z"
   },
   {
    "duration": 23,
    "start_time": "2022-05-12T10:46:19.080Z"
   },
   {
    "duration": 34,
    "start_time": "2022-05-12T10:46:19.107Z"
   },
   {
    "duration": 16,
    "start_time": "2022-05-12T10:46:19.142Z"
   },
   {
    "duration": 6,
    "start_time": "2022-05-12T10:46:19.160Z"
   },
   {
    "duration": 9,
    "start_time": "2022-05-12T10:46:19.168Z"
   },
   {
    "duration": 9,
    "start_time": "2022-05-12T10:46:19.179Z"
   },
   {
    "duration": 45,
    "start_time": "2022-05-12T10:46:19.190Z"
   },
   {
    "duration": 14,
    "start_time": "2022-05-12T10:46:19.239Z"
   },
   {
    "duration": 7,
    "start_time": "2022-05-12T10:46:19.257Z"
   },
   {
    "duration": 11,
    "start_time": "2022-05-12T10:46:19.266Z"
   },
   {
    "duration": 9,
    "start_time": "2022-05-12T10:46:19.279Z"
   },
   {
    "duration": 17,
    "start_time": "2022-05-12T10:46:19.328Z"
   },
   {
    "duration": 10,
    "start_time": "2022-05-12T10:46:19.353Z"
   },
   {
    "duration": 6,
    "start_time": "2022-05-12T10:46:19.365Z"
   },
   {
    "duration": 15,
    "start_time": "2022-05-12T10:46:19.373Z"
   },
   {
    "duration": 35,
    "start_time": "2022-05-12T10:46:19.390Z"
   },
   {
    "duration": 42,
    "start_time": "2022-05-12T10:46:19.437Z"
   },
   {
    "duration": 18,
    "start_time": "2022-05-12T10:46:19.481Z"
   },
   {
    "duration": 57,
    "start_time": "2022-05-12T10:46:19.501Z"
   },
   {
    "duration": 4,
    "start_time": "2022-05-12T10:46:19.559Z"
   },
   {
    "duration": 301,
    "start_time": "2022-05-12T10:46:19.565Z"
   },
   {
    "duration": 25,
    "start_time": "2022-05-12T10:46:19.868Z"
   },
   {
    "duration": 40,
    "start_time": "2022-05-12T10:46:19.895Z"
   },
   {
    "duration": 17,
    "start_time": "2022-05-12T10:46:21.840Z"
   },
   {
    "duration": 13,
    "start_time": "2022-05-12T10:46:39.587Z"
   },
   {
    "duration": 13,
    "start_time": "2022-05-12T10:46:41.904Z"
   },
   {
    "duration": 17,
    "start_time": "2022-05-12T10:46:43.019Z"
   },
   {
    "duration": 12,
    "start_time": "2022-05-12T10:47:42.301Z"
   },
   {
    "duration": 13,
    "start_time": "2022-05-12T10:48:03.861Z"
   },
   {
    "duration": 16,
    "start_time": "2022-05-12T10:48:11.110Z"
   },
   {
    "duration": 91,
    "start_time": "2022-05-12T10:48:29.268Z"
   },
   {
    "duration": 13,
    "start_time": "2022-05-12T10:48:29.361Z"
   },
   {
    "duration": 11,
    "start_time": "2022-05-12T10:48:29.376Z"
   },
   {
    "duration": 54,
    "start_time": "2022-05-12T10:48:29.389Z"
   },
   {
    "duration": 21,
    "start_time": "2022-05-12T10:48:29.446Z"
   },
   {
    "duration": 7,
    "start_time": "2022-05-12T10:48:29.469Z"
   },
   {
    "duration": 23,
    "start_time": "2022-05-12T10:48:29.478Z"
   },
   {
    "duration": 34,
    "start_time": "2022-05-12T10:48:29.503Z"
   },
   {
    "duration": 21,
    "start_time": "2022-05-12T10:48:29.541Z"
   },
   {
    "duration": 7,
    "start_time": "2022-05-12T10:48:29.564Z"
   },
   {
    "duration": 9,
    "start_time": "2022-05-12T10:48:29.574Z"
   },
   {
    "duration": 9,
    "start_time": "2022-05-12T10:48:29.585Z"
   },
   {
    "duration": 38,
    "start_time": "2022-05-12T10:48:29.595Z"
   },
   {
    "duration": 22,
    "start_time": "2022-05-12T10:48:29.638Z"
   },
   {
    "duration": 9,
    "start_time": "2022-05-12T10:48:29.662Z"
   },
   {
    "duration": 8,
    "start_time": "2022-05-12T10:48:29.672Z"
   },
   {
    "duration": 12,
    "start_time": "2022-05-12T10:48:29.682Z"
   },
   {
    "duration": 7,
    "start_time": "2022-05-12T10:48:29.696Z"
   },
   {
    "duration": 27,
    "start_time": "2022-05-12T10:48:29.705Z"
   },
   {
    "duration": 15,
    "start_time": "2022-05-12T10:48:29.742Z"
   },
   {
    "duration": 7,
    "start_time": "2022-05-12T10:48:29.759Z"
   },
   {
    "duration": 15,
    "start_time": "2022-05-12T10:48:29.767Z"
   },
   {
    "duration": 11,
    "start_time": "2022-05-12T10:48:29.784Z"
   },
   {
    "duration": 32,
    "start_time": "2022-05-12T10:48:29.797Z"
   },
   {
    "duration": 19,
    "start_time": "2022-05-12T10:48:29.831Z"
   },
   {
    "duration": 8,
    "start_time": "2022-05-12T10:48:29.852Z"
   },
   {
    "duration": 15,
    "start_time": "2022-05-12T10:48:29.862Z"
   },
   {
    "duration": 45,
    "start_time": "2022-05-12T10:48:29.880Z"
   },
   {
    "duration": 51,
    "start_time": "2022-05-12T10:48:29.927Z"
   },
   {
    "duration": 16,
    "start_time": "2022-05-12T10:48:29.980Z"
   },
   {
    "duration": 44,
    "start_time": "2022-05-12T10:48:29.998Z"
   },
   {
    "duration": 3,
    "start_time": "2022-05-12T10:48:30.053Z"
   },
   {
    "duration": 304,
    "start_time": "2022-05-12T10:48:32.994Z"
   },
   {
    "duration": 23,
    "start_time": "2022-05-12T10:48:35.655Z"
   },
   {
    "duration": 16,
    "start_time": "2022-05-12T10:48:37.653Z"
   },
   {
    "duration": 16,
    "start_time": "2022-05-12T10:49:53.657Z"
   },
   {
    "duration": 86,
    "start_time": "2022-05-12T10:50:53.372Z"
   },
   {
    "duration": 20,
    "start_time": "2022-05-12T10:50:53.462Z"
   },
   {
    "duration": 12,
    "start_time": "2022-05-12T10:50:53.484Z"
   },
   {
    "duration": 52,
    "start_time": "2022-05-12T10:50:53.500Z"
   },
   {
    "duration": 15,
    "start_time": "2022-05-12T10:50:53.554Z"
   },
   {
    "duration": 11,
    "start_time": "2022-05-12T10:50:53.571Z"
   },
   {
    "duration": 59,
    "start_time": "2022-05-12T10:50:53.585Z"
   },
   {
    "duration": 25,
    "start_time": "2022-05-12T10:50:53.647Z"
   },
   {
    "duration": 17,
    "start_time": "2022-05-12T10:50:53.674Z"
   },
   {
    "duration": 17,
    "start_time": "2022-05-12T10:50:53.693Z"
   },
   {
    "duration": 19,
    "start_time": "2022-05-12T10:50:53.724Z"
   },
   {
    "duration": 13,
    "start_time": "2022-05-12T10:50:53.748Z"
   },
   {
    "duration": 9,
    "start_time": "2022-05-12T10:50:53.763Z"
   },
   {
    "duration": 26,
    "start_time": "2022-05-12T10:50:53.776Z"
   },
   {
    "duration": 20,
    "start_time": "2022-05-12T10:50:53.804Z"
   },
   {
    "duration": 7,
    "start_time": "2022-05-12T10:50:53.833Z"
   },
   {
    "duration": 17,
    "start_time": "2022-05-12T10:50:53.843Z"
   },
   {
    "duration": 41,
    "start_time": "2022-05-12T10:50:53.862Z"
   },
   {
    "duration": 24,
    "start_time": "2022-05-12T10:50:53.905Z"
   },
   {
    "duration": 12,
    "start_time": "2022-05-12T10:50:53.930Z"
   },
   {
    "duration": 13,
    "start_time": "2022-05-12T10:50:53.944Z"
   },
   {
    "duration": 13,
    "start_time": "2022-05-12T10:50:53.960Z"
   },
   {
    "duration": 24,
    "start_time": "2022-05-12T10:50:53.975Z"
   },
   {
    "duration": 29,
    "start_time": "2022-05-12T10:50:54.001Z"
   },
   {
    "duration": 38,
    "start_time": "2022-05-12T10:50:54.032Z"
   },
   {
    "duration": 20,
    "start_time": "2022-05-12T10:50:54.072Z"
   },
   {
    "duration": 25,
    "start_time": "2022-05-12T10:50:54.093Z"
   },
   {
    "duration": 27,
    "start_time": "2022-05-12T10:50:54.120Z"
   },
   {
    "duration": 37,
    "start_time": "2022-05-12T10:50:54.150Z"
   },
   {
    "duration": 16,
    "start_time": "2022-05-12T10:50:54.189Z"
   },
   {
    "duration": 41,
    "start_time": "2022-05-12T10:50:54.226Z"
   },
   {
    "duration": 9,
    "start_time": "2022-05-12T10:50:54.269Z"
   },
   {
    "duration": 306,
    "start_time": "2022-05-12T10:50:54.280Z"
   },
   {
    "duration": 33,
    "start_time": "2022-05-12T10:50:57.638Z"
   },
   {
    "duration": 13,
    "start_time": "2022-05-12T10:50:59.098Z"
   },
   {
    "duration": 4,
    "start_time": "2022-05-12T10:57:11.091Z"
   },
   {
    "duration": 20,
    "start_time": "2022-05-12T10:59:14.824Z"
   },
   {
    "duration": 27,
    "start_time": "2022-05-12T11:01:18.068Z"
   },
   {
    "duration": 20,
    "start_time": "2022-05-12T11:01:48.171Z"
   },
   {
    "duration": 70,
    "start_time": "2022-05-12T11:03:36.338Z"
   },
   {
    "duration": 17,
    "start_time": "2022-05-12T11:03:36.411Z"
   },
   {
    "duration": 17,
    "start_time": "2022-05-12T11:03:36.433Z"
   },
   {
    "duration": 12,
    "start_time": "2022-05-12T11:03:36.452Z"
   },
   {
    "duration": 14,
    "start_time": "2022-05-12T11:03:36.467Z"
   },
   {
    "duration": 6,
    "start_time": "2022-05-12T11:03:36.483Z"
   },
   {
    "duration": 52,
    "start_time": "2022-05-12T11:03:36.491Z"
   },
   {
    "duration": 17,
    "start_time": "2022-05-12T11:03:36.545Z"
   },
   {
    "duration": 15,
    "start_time": "2022-05-12T11:03:36.564Z"
   },
   {
    "duration": 8,
    "start_time": "2022-05-12T11:03:36.580Z"
   },
   {
    "duration": 51,
    "start_time": "2022-05-12T11:03:36.589Z"
   },
   {
    "duration": 7,
    "start_time": "2022-05-12T11:03:36.642Z"
   },
   {
    "duration": 8,
    "start_time": "2022-05-12T11:03:36.651Z"
   },
   {
    "duration": 9,
    "start_time": "2022-05-12T11:03:36.662Z"
   },
   {
    "duration": 9,
    "start_time": "2022-05-12T11:03:36.673Z"
   },
   {
    "duration": 5,
    "start_time": "2022-05-12T11:03:36.684Z"
   },
   {
    "duration": 37,
    "start_time": "2022-05-12T11:03:36.691Z"
   },
   {
    "duration": 13,
    "start_time": "2022-05-12T11:03:36.730Z"
   },
   {
    "duration": 7,
    "start_time": "2022-05-12T11:03:36.746Z"
   },
   {
    "duration": 14,
    "start_time": "2022-05-12T11:03:36.755Z"
   },
   {
    "duration": 6,
    "start_time": "2022-05-12T11:03:36.770Z"
   },
   {
    "duration": 13,
    "start_time": "2022-05-12T11:03:36.777Z"
   },
   {
    "duration": 38,
    "start_time": "2022-05-12T11:03:36.792Z"
   },
   {
    "duration": 17,
    "start_time": "2022-05-12T11:03:36.832Z"
   },
   {
    "duration": 11,
    "start_time": "2022-05-12T11:03:36.851Z"
   },
   {
    "duration": 6,
    "start_time": "2022-05-12T11:03:36.864Z"
   },
   {
    "duration": 14,
    "start_time": "2022-05-12T11:03:36.871Z"
   },
   {
    "duration": 42,
    "start_time": "2022-05-12T11:03:36.887Z"
   },
   {
    "duration": 39,
    "start_time": "2022-05-12T11:03:36.931Z"
   },
   {
    "duration": 15,
    "start_time": "2022-05-12T11:03:36.972Z"
   },
   {
    "duration": 37,
    "start_time": "2022-05-12T11:03:36.989Z"
   },
   {
    "duration": 3,
    "start_time": "2022-05-12T11:03:37.030Z"
   },
   {
    "duration": 3,
    "start_time": "2022-05-12T11:03:39.460Z"
   },
   {
    "duration": 428,
    "start_time": "2022-05-12T11:03:40.244Z"
   },
   {
    "duration": 32,
    "start_time": "2022-05-12T11:03:46.915Z"
   },
   {
    "duration": 13,
    "start_time": "2022-05-12T11:03:47.635Z"
   },
   {
    "duration": 20,
    "start_time": "2022-05-12T11:03:48.546Z"
   },
   {
    "duration": 81,
    "start_time": "2022-05-12T11:06:02.580Z"
   },
   {
    "duration": 13,
    "start_time": "2022-05-12T11:06:02.663Z"
   },
   {
    "duration": 20,
    "start_time": "2022-05-12T11:06:02.678Z"
   },
   {
    "duration": 34,
    "start_time": "2022-05-12T11:06:02.699Z"
   },
   {
    "duration": 15,
    "start_time": "2022-05-12T11:06:02.740Z"
   },
   {
    "duration": 6,
    "start_time": "2022-05-12T11:06:02.757Z"
   },
   {
    "duration": 23,
    "start_time": "2022-05-12T11:06:02.765Z"
   },
   {
    "duration": 41,
    "start_time": "2022-05-12T11:06:02.789Z"
   },
   {
    "duration": 17,
    "start_time": "2022-05-12T11:06:02.832Z"
   },
   {
    "duration": 6,
    "start_time": "2022-05-12T11:06:02.851Z"
   },
   {
    "duration": 11,
    "start_time": "2022-05-12T11:06:02.858Z"
   },
   {
    "duration": 6,
    "start_time": "2022-05-12T11:06:02.872Z"
   },
   {
    "duration": 48,
    "start_time": "2022-05-12T11:06:02.880Z"
   },
   {
    "duration": 13,
    "start_time": "2022-05-12T11:06:02.933Z"
   },
   {
    "duration": 9,
    "start_time": "2022-05-12T11:06:02.948Z"
   },
   {
    "duration": 4,
    "start_time": "2022-05-12T11:06:02.959Z"
   },
   {
    "duration": 11,
    "start_time": "2022-05-12T11:06:02.965Z"
   },
   {
    "duration": 10,
    "start_time": "2022-05-12T11:06:02.978Z"
   },
   {
    "duration": 47,
    "start_time": "2022-05-12T11:06:02.990Z"
   },
   {
    "duration": 11,
    "start_time": "2022-05-12T11:06:03.040Z"
   },
   {
    "duration": 6,
    "start_time": "2022-05-12T11:06:03.053Z"
   },
   {
    "duration": 17,
    "start_time": "2022-05-12T11:06:03.061Z"
   },
   {
    "duration": 19,
    "start_time": "2022-05-12T11:06:03.080Z"
   },
   {
    "duration": 33,
    "start_time": "2022-05-12T11:06:03.101Z"
   },
   {
    "duration": 16,
    "start_time": "2022-05-12T11:06:03.136Z"
   },
   {
    "duration": 13,
    "start_time": "2022-05-12T11:06:03.154Z"
   },
   {
    "duration": 15,
    "start_time": "2022-05-12T11:06:03.169Z"
   },
   {
    "duration": 19,
    "start_time": "2022-05-12T11:06:03.186Z"
   },
   {
    "duration": 44,
    "start_time": "2022-05-12T11:06:03.230Z"
   },
   {
    "duration": 16,
    "start_time": "2022-05-12T11:06:03.276Z"
   },
   {
    "duration": 33,
    "start_time": "2022-05-12T11:06:03.294Z"
   },
   {
    "duration": 3,
    "start_time": "2022-05-12T11:06:05.019Z"
   },
   {
    "duration": 24,
    "start_time": "2022-05-12T11:06:08.480Z"
   },
   {
    "duration": 13,
    "start_time": "2022-05-12T11:06:09.557Z"
   },
   {
    "duration": 25,
    "start_time": "2022-05-12T11:06:10.322Z"
   },
   {
    "duration": 4,
    "start_time": "2022-05-12T11:12:17.864Z"
   },
   {
    "duration": 27,
    "start_time": "2022-05-12T11:17:36.792Z"
   },
   {
    "duration": 23,
    "start_time": "2022-05-12T11:18:16.964Z"
   },
   {
    "duration": 27,
    "start_time": "2022-05-12T11:21:15.678Z"
   },
   {
    "duration": 106,
    "start_time": "2022-05-12T11:21:28.064Z"
   },
   {
    "duration": 16,
    "start_time": "2022-05-12T11:21:28.172Z"
   },
   {
    "duration": 26,
    "start_time": "2022-05-12T11:21:28.191Z"
   },
   {
    "duration": 35,
    "start_time": "2022-05-12T11:21:28.222Z"
   },
   {
    "duration": 19,
    "start_time": "2022-05-12T11:21:28.261Z"
   },
   {
    "duration": 7,
    "start_time": "2022-05-12T11:21:28.282Z"
   },
   {
    "duration": 33,
    "start_time": "2022-05-12T11:21:28.291Z"
   },
   {
    "duration": 31,
    "start_time": "2022-05-12T11:21:28.327Z"
   },
   {
    "duration": 22,
    "start_time": "2022-05-12T11:21:28.359Z"
   },
   {
    "duration": 7,
    "start_time": "2022-05-12T11:21:28.383Z"
   },
   {
    "duration": 39,
    "start_time": "2022-05-12T11:21:28.392Z"
   },
   {
    "duration": 11,
    "start_time": "2022-05-12T11:21:28.434Z"
   },
   {
    "duration": 8,
    "start_time": "2022-05-12T11:21:28.447Z"
   },
   {
    "duration": 11,
    "start_time": "2022-05-12T11:21:28.460Z"
   },
   {
    "duration": 10,
    "start_time": "2022-05-12T11:21:28.472Z"
   },
   {
    "duration": 4,
    "start_time": "2022-05-12T11:21:28.484Z"
   },
   {
    "duration": 10,
    "start_time": "2022-05-12T11:21:28.523Z"
   },
   {
    "duration": 9,
    "start_time": "2022-05-12T11:21:28.536Z"
   },
   {
    "duration": 19,
    "start_time": "2022-05-12T11:21:28.551Z"
   },
   {
    "duration": 8,
    "start_time": "2022-05-12T11:21:28.572Z"
   },
   {
    "duration": 6,
    "start_time": "2022-05-12T11:21:28.584Z"
   },
   {
    "duration": 46,
    "start_time": "2022-05-12T11:21:28.592Z"
   },
   {
    "duration": 11,
    "start_time": "2022-05-12T11:21:28.639Z"
   },
   {
    "duration": 8,
    "start_time": "2022-05-12T11:21:28.653Z"
   },
   {
    "duration": 13,
    "start_time": "2022-05-12T11:21:28.664Z"
   },
   {
    "duration": 10,
    "start_time": "2022-05-12T11:21:28.680Z"
   },
   {
    "duration": 50,
    "start_time": "2022-05-12T11:21:28.692Z"
   },
   {
    "duration": 29,
    "start_time": "2022-05-12T11:21:28.744Z"
   },
   {
    "duration": 77,
    "start_time": "2022-05-12T11:21:28.775Z"
   },
   {
    "duration": 16,
    "start_time": "2022-05-12T11:21:28.857Z"
   },
   {
    "duration": 27,
    "start_time": "2022-05-12T11:21:28.876Z"
   },
   {
    "duration": 42,
    "start_time": "2022-05-12T11:21:28.905Z"
   },
   {
    "duration": 17,
    "start_time": "2022-05-12T11:21:28.949Z"
   },
   {
    "duration": 15,
    "start_time": "2022-05-12T11:21:30.218Z"
   },
   {
    "duration": 30,
    "start_time": "2022-05-12T11:21:31.180Z"
   },
   {
    "duration": 16,
    "start_time": "2022-05-12T11:21:33.111Z"
   },
   {
    "duration": 79,
    "start_time": "2022-05-12T11:24:01.575Z"
   },
   {
    "duration": 13,
    "start_time": "2022-05-12T11:24:01.657Z"
   },
   {
    "duration": 13,
    "start_time": "2022-05-12T11:24:01.672Z"
   },
   {
    "duration": 38,
    "start_time": "2022-05-12T11:24:01.687Z"
   },
   {
    "duration": 17,
    "start_time": "2022-05-12T11:24:01.728Z"
   },
   {
    "duration": 7,
    "start_time": "2022-05-12T11:24:01.747Z"
   },
   {
    "duration": 40,
    "start_time": "2022-05-12T11:24:01.756Z"
   },
   {
    "duration": 26,
    "start_time": "2022-05-12T11:24:01.798Z"
   },
   {
    "duration": 22,
    "start_time": "2022-05-12T11:24:01.825Z"
   },
   {
    "duration": 6,
    "start_time": "2022-05-12T11:24:01.849Z"
   },
   {
    "duration": 23,
    "start_time": "2022-05-12T11:24:01.857Z"
   },
   {
    "duration": 7,
    "start_time": "2022-05-12T11:24:01.881Z"
   },
   {
    "duration": 9,
    "start_time": "2022-05-12T11:24:01.889Z"
   },
   {
    "duration": 15,
    "start_time": "2022-05-12T11:24:01.925Z"
   },
   {
    "duration": 9,
    "start_time": "2022-05-12T11:24:01.942Z"
   },
   {
    "duration": 4,
    "start_time": "2022-05-12T11:24:01.953Z"
   },
   {
    "duration": 11,
    "start_time": "2022-05-12T11:24:01.959Z"
   },
   {
    "duration": 9,
    "start_time": "2022-05-12T11:24:01.972Z"
   },
   {
    "duration": 45,
    "start_time": "2022-05-12T11:24:01.983Z"
   },
   {
    "duration": 8,
    "start_time": "2022-05-12T11:24:02.030Z"
   },
   {
    "duration": 20,
    "start_time": "2022-05-12T11:24:02.041Z"
   },
   {
    "duration": 14,
    "start_time": "2022-05-12T11:24:02.063Z"
   },
   {
    "duration": 16,
    "start_time": "2022-05-12T11:24:02.079Z"
   },
   {
    "duration": 29,
    "start_time": "2022-05-12T11:24:02.097Z"
   },
   {
    "duration": 10,
    "start_time": "2022-05-12T11:24:02.131Z"
   },
   {
    "duration": 18,
    "start_time": "2022-05-12T11:24:02.142Z"
   },
   {
    "duration": 19,
    "start_time": "2022-05-12T11:24:02.162Z"
   },
   {
    "duration": 24,
    "start_time": "2022-05-12T11:24:02.182Z"
   },
   {
    "duration": 50,
    "start_time": "2022-05-12T11:24:02.207Z"
   },
   {
    "duration": 16,
    "start_time": "2022-05-12T11:24:02.258Z"
   },
   {
    "duration": 18,
    "start_time": "2022-05-12T11:24:02.276Z"
   },
   {
    "duration": 24,
    "start_time": "2022-05-12T11:24:09.652Z"
   },
   {
    "duration": 13,
    "start_time": "2022-05-12T11:24:10.302Z"
   },
   {
    "duration": 26,
    "start_time": "2022-05-12T11:24:14.730Z"
   },
   {
    "duration": 16,
    "start_time": "2022-05-12T11:24:32.016Z"
   },
   {
    "duration": 19,
    "start_time": "2022-05-12T11:25:37.220Z"
   },
   {
    "duration": 196,
    "start_time": "2022-05-12T11:27:07.486Z"
   },
   {
    "duration": 82,
    "start_time": "2022-05-12T11:45:17.501Z"
   },
   {
    "duration": 38,
    "start_time": "2022-05-12T11:45:17.586Z"
   },
   {
    "duration": 17,
    "start_time": "2022-05-12T11:45:17.627Z"
   },
   {
    "duration": 20,
    "start_time": "2022-05-12T11:45:17.647Z"
   },
   {
    "duration": 51,
    "start_time": "2022-05-12T11:45:17.671Z"
   },
   {
    "duration": 10,
    "start_time": "2022-05-12T11:45:17.725Z"
   },
   {
    "duration": 23,
    "start_time": "2022-05-12T11:45:17.737Z"
   },
   {
    "duration": 18,
    "start_time": "2022-05-12T11:45:17.762Z"
   },
   {
    "duration": 49,
    "start_time": "2022-05-12T11:45:17.782Z"
   },
   {
    "duration": 7,
    "start_time": "2022-05-12T11:45:17.833Z"
   },
   {
    "duration": 13,
    "start_time": "2022-05-12T11:45:17.842Z"
   },
   {
    "duration": 12,
    "start_time": "2022-05-12T11:45:17.857Z"
   },
   {
    "duration": 15,
    "start_time": "2022-05-12T11:45:17.871Z"
   },
   {
    "duration": 40,
    "start_time": "2022-05-12T11:45:17.890Z"
   },
   {
    "duration": 11,
    "start_time": "2022-05-12T11:45:17.932Z"
   },
   {
    "duration": 8,
    "start_time": "2022-05-12T11:45:17.944Z"
   },
   {
    "duration": 14,
    "start_time": "2022-05-12T11:45:17.954Z"
   },
   {
    "duration": 7,
    "start_time": "2022-05-12T11:45:17.970Z"
   },
   {
    "duration": 47,
    "start_time": "2022-05-12T11:45:17.979Z"
   },
   {
    "duration": 8,
    "start_time": "2022-05-12T11:45:18.028Z"
   },
   {
    "duration": 8,
    "start_time": "2022-05-12T11:45:18.038Z"
   },
   {
    "duration": 10,
    "start_time": "2022-05-12T11:45:18.048Z"
   },
   {
    "duration": 12,
    "start_time": "2022-05-12T11:45:18.059Z"
   },
   {
    "duration": 51,
    "start_time": "2022-05-12T11:45:18.073Z"
   },
   {
    "duration": 12,
    "start_time": "2022-05-12T11:45:18.127Z"
   },
   {
    "duration": 9,
    "start_time": "2022-05-12T11:45:18.142Z"
   },
   {
    "duration": 27,
    "start_time": "2022-05-12T11:45:18.153Z"
   },
   {
    "duration": 53,
    "start_time": "2022-05-12T11:45:18.182Z"
   },
   {
    "duration": 55,
    "start_time": "2022-05-12T11:45:18.238Z"
   },
   {
    "duration": 36,
    "start_time": "2022-05-12T11:45:18.296Z"
   },
   {
    "duration": 29,
    "start_time": "2022-05-12T11:45:18.335Z"
   },
   {
    "duration": 59,
    "start_time": "2022-05-12T11:45:18.367Z"
   },
   {
    "duration": 18,
    "start_time": "2022-05-12T11:45:18.428Z"
   },
   {
    "duration": 21,
    "start_time": "2022-05-12T11:45:18.448Z"
   },
   {
    "duration": 794,
    "start_time": "2022-05-12T11:51:39.240Z"
   },
   {
    "duration": 18,
    "start_time": "2022-05-12T11:52:00.839Z"
   },
   {
    "duration": 14,
    "start_time": "2022-05-12T11:55:15.488Z"
   },
   {
    "duration": 84,
    "start_time": "2022-05-12T11:55:23.435Z"
   },
   {
    "duration": 13,
    "start_time": "2022-05-12T11:55:23.521Z"
   },
   {
    "duration": 11,
    "start_time": "2022-05-12T11:55:23.536Z"
   },
   {
    "duration": 14,
    "start_time": "2022-05-12T11:55:23.549Z"
   },
   {
    "duration": 13,
    "start_time": "2022-05-12T11:55:23.566Z"
   },
   {
    "duration": 8,
    "start_time": "2022-05-12T11:55:23.580Z"
   },
   {
    "duration": 47,
    "start_time": "2022-05-12T11:55:23.590Z"
   },
   {
    "duration": 16,
    "start_time": "2022-05-12T11:55:23.639Z"
   },
   {
    "duration": 15,
    "start_time": "2022-05-12T11:55:23.656Z"
   },
   {
    "duration": 6,
    "start_time": "2022-05-12T11:55:23.672Z"
   },
   {
    "duration": 49,
    "start_time": "2022-05-12T11:55:23.680Z"
   },
   {
    "duration": 6,
    "start_time": "2022-05-12T11:55:23.730Z"
   },
   {
    "duration": 7,
    "start_time": "2022-05-12T11:55:23.738Z"
   },
   {
    "duration": 10,
    "start_time": "2022-05-12T11:55:23.750Z"
   },
   {
    "duration": 10,
    "start_time": "2022-05-12T11:55:23.762Z"
   },
   {
    "duration": 5,
    "start_time": "2022-05-12T11:55:23.774Z"
   },
   {
    "duration": 8,
    "start_time": "2022-05-12T11:55:23.822Z"
   },
   {
    "duration": 8,
    "start_time": "2022-05-12T11:55:23.832Z"
   },
   {
    "duration": 9,
    "start_time": "2022-05-12T11:55:23.842Z"
   },
   {
    "duration": 12,
    "start_time": "2022-05-12T11:55:23.853Z"
   },
   {
    "duration": 9,
    "start_time": "2022-05-12T11:55:23.867Z"
   },
   {
    "duration": 49,
    "start_time": "2022-05-12T11:55:23.879Z"
   },
   {
    "duration": 7,
    "start_time": "2022-05-12T11:55:23.930Z"
   },
   {
    "duration": 8,
    "start_time": "2022-05-12T11:55:23.938Z"
   },
   {
    "duration": 13,
    "start_time": "2022-05-12T11:55:23.948Z"
   },
   {
    "duration": 9,
    "start_time": "2022-05-12T11:55:23.964Z"
   },
   {
    "duration": 49,
    "start_time": "2022-05-12T11:55:23.975Z"
   },
   {
    "duration": 20,
    "start_time": "2022-05-12T11:55:24.026Z"
   },
   {
    "duration": 36,
    "start_time": "2022-05-12T11:55:24.048Z"
   },
   {
    "duration": 40,
    "start_time": "2022-05-12T11:55:24.087Z"
   },
   {
    "duration": 17,
    "start_time": "2022-05-12T11:55:24.129Z"
   },
   {
    "duration": 23,
    "start_time": "2022-05-12T11:55:24.148Z"
   },
   {
    "duration": 10,
    "start_time": "2022-05-12T11:55:24.173Z"
   },
   {
    "duration": 49,
    "start_time": "2022-05-12T11:55:24.185Z"
   },
   {
    "duration": 14,
    "start_time": "2022-05-12T11:55:27.762Z"
   },
   {
    "duration": 71,
    "start_time": "2022-05-12T11:55:44.515Z"
   },
   {
    "duration": 13,
    "start_time": "2022-05-12T11:55:46.287Z"
   },
   {
    "duration": 10,
    "start_time": "2022-05-12T11:55:46.302Z"
   },
   {
    "duration": 12,
    "start_time": "2022-05-12T11:55:46.314Z"
   },
   {
    "duration": 14,
    "start_time": "2022-05-12T11:55:46.328Z"
   },
   {
    "duration": 6,
    "start_time": "2022-05-12T11:55:46.344Z"
   },
   {
    "duration": 17,
    "start_time": "2022-05-12T11:55:46.351Z"
   },
   {
    "duration": 17,
    "start_time": "2022-05-12T11:55:46.369Z"
   },
   {
    "duration": 44,
    "start_time": "2022-05-12T11:55:46.388Z"
   },
   {
    "duration": 7,
    "start_time": "2022-05-12T11:55:46.434Z"
   },
   {
    "duration": 16,
    "start_time": "2022-05-12T11:55:46.442Z"
   },
   {
    "duration": 12,
    "start_time": "2022-05-12T11:55:46.459Z"
   },
   {
    "duration": 13,
    "start_time": "2022-05-12T11:55:46.473Z"
   },
   {
    "duration": 12,
    "start_time": "2022-05-12T11:55:46.488Z"
   },
   {
    "duration": 25,
    "start_time": "2022-05-12T11:55:46.503Z"
   },
   {
    "duration": 4,
    "start_time": "2022-05-12T11:55:46.530Z"
   },
   {
    "duration": 10,
    "start_time": "2022-05-12T11:55:46.535Z"
   },
   {
    "duration": 10,
    "start_time": "2022-05-12T11:55:46.547Z"
   },
   {
    "duration": 10,
    "start_time": "2022-05-12T11:55:46.559Z"
   },
   {
    "duration": 13,
    "start_time": "2022-05-12T11:55:46.571Z"
   },
   {
    "duration": 6,
    "start_time": "2022-05-12T11:55:46.586Z"
   },
   {
    "duration": 10,
    "start_time": "2022-05-12T11:55:46.623Z"
   },
   {
    "duration": 5,
    "start_time": "2022-05-12T11:55:46.635Z"
   },
   {
    "duration": 7,
    "start_time": "2022-05-12T11:55:46.642Z"
   },
   {
    "duration": 12,
    "start_time": "2022-05-12T11:55:46.651Z"
   },
   {
    "duration": 8,
    "start_time": "2022-05-12T11:55:46.665Z"
   },
   {
    "duration": 14,
    "start_time": "2022-05-12T11:55:46.675Z"
   },
   {
    "duration": 17,
    "start_time": "2022-05-12T11:55:46.722Z"
   },
   {
    "duration": 34,
    "start_time": "2022-05-12T11:55:46.741Z"
   },
   {
    "duration": 16,
    "start_time": "2022-05-12T11:55:46.777Z"
   },
   {
    "duration": 41,
    "start_time": "2022-05-12T11:55:46.794Z"
   },
   {
    "duration": 21,
    "start_time": "2022-05-12T11:55:46.837Z"
   },
   {
    "duration": 25,
    "start_time": "2022-05-12T11:55:46.874Z"
   },
   {
    "duration": 22,
    "start_time": "2022-05-12T11:55:47.594Z"
   },
   {
    "duration": 14,
    "start_time": "2022-05-12T11:55:49.183Z"
   },
   {
    "duration": 8,
    "start_time": "2022-05-12T11:56:09.253Z"
   },
   {
    "duration": 808,
    "start_time": "2022-05-12T11:57:35.864Z"
   },
   {
    "duration": 808,
    "start_time": "2022-05-12T12:06:58.343Z"
   },
   {
    "duration": 68,
    "start_time": "2022-05-12T12:07:03.849Z"
   },
   {
    "duration": 13,
    "start_time": "2022-05-12T12:07:03.919Z"
   },
   {
    "duration": 21,
    "start_time": "2022-05-12T12:07:03.934Z"
   },
   {
    "duration": 13,
    "start_time": "2022-05-12T12:07:03.956Z"
   },
   {
    "duration": 15,
    "start_time": "2022-05-12T12:07:03.972Z"
   },
   {
    "duration": 7,
    "start_time": "2022-05-12T12:07:03.989Z"
   },
   {
    "duration": 38,
    "start_time": "2022-05-12T12:07:03.998Z"
   },
   {
    "duration": 15,
    "start_time": "2022-05-12T12:07:04.038Z"
   },
   {
    "duration": 14,
    "start_time": "2022-05-12T12:07:04.055Z"
   },
   {
    "duration": 5,
    "start_time": "2022-05-12T12:07:04.071Z"
   },
   {
    "duration": 50,
    "start_time": "2022-05-12T12:07:04.078Z"
   },
   {
    "duration": 6,
    "start_time": "2022-05-12T12:07:04.130Z"
   },
   {
    "duration": 9,
    "start_time": "2022-05-12T12:07:04.138Z"
   },
   {
    "duration": 12,
    "start_time": "2022-05-12T12:07:04.150Z"
   },
   {
    "duration": 8,
    "start_time": "2022-05-12T12:07:04.164Z"
   },
   {
    "duration": 9,
    "start_time": "2022-05-12T12:07:04.174Z"
   },
   {
    "duration": 12,
    "start_time": "2022-05-12T12:07:04.185Z"
   },
   {
    "duration": 7,
    "start_time": "2022-05-12T12:07:04.223Z"
   },
   {
    "duration": 8,
    "start_time": "2022-05-12T12:07:04.233Z"
   },
   {
    "duration": 14,
    "start_time": "2022-05-12T12:07:04.244Z"
   },
   {
    "duration": 6,
    "start_time": "2022-05-12T12:07:04.260Z"
   },
   {
    "duration": 10,
    "start_time": "2022-05-12T12:07:04.269Z"
   },
   {
    "duration": 42,
    "start_time": "2022-05-12T12:07:04.282Z"
   },
   {
    "duration": 5,
    "start_time": "2022-05-12T12:07:04.325Z"
   },
   {
    "duration": 10,
    "start_time": "2022-05-12T12:07:04.332Z"
   },
   {
    "duration": 6,
    "start_time": "2022-05-12T12:07:04.344Z"
   },
   {
    "duration": 29,
    "start_time": "2022-05-12T12:07:04.352Z"
   },
   {
    "duration": 41,
    "start_time": "2022-05-12T12:07:04.383Z"
   },
   {
    "duration": 39,
    "start_time": "2022-05-12T12:07:04.426Z"
   },
   {
    "duration": 15,
    "start_time": "2022-05-12T12:07:04.467Z"
   },
   {
    "duration": 39,
    "start_time": "2022-05-12T12:07:04.484Z"
   },
   {
    "duration": 24,
    "start_time": "2022-05-12T12:07:04.525Z"
   },
   {
    "duration": 11,
    "start_time": "2022-05-12T12:07:04.551Z"
   },
   {
    "duration": 21,
    "start_time": "2022-05-12T12:07:04.564Z"
   },
   {
    "duration": 19,
    "start_time": "2022-05-12T12:07:06.960Z"
   },
   {
    "duration": 807,
    "start_time": "2022-05-12T12:07:07.795Z"
   },
   {
    "duration": 790,
    "start_time": "2022-05-12T12:08:16.380Z"
   },
   {
    "duration": 16,
    "start_time": "2022-05-12T12:19:46.705Z"
   },
   {
    "duration": 11,
    "start_time": "2022-05-12T12:23:30.510Z"
   },
   {
    "duration": 3202,
    "start_time": "2022-05-12T12:24:18.941Z"
   },
   {
    "duration": 75,
    "start_time": "2022-05-12T12:24:32.301Z"
   },
   {
    "duration": 23,
    "start_time": "2022-05-12T12:24:32.378Z"
   },
   {
    "duration": 38,
    "start_time": "2022-05-12T12:24:32.402Z"
   },
   {
    "duration": 17,
    "start_time": "2022-05-12T12:24:32.441Z"
   },
   {
    "duration": 17,
    "start_time": "2022-05-12T12:24:32.461Z"
   },
   {
    "duration": 8,
    "start_time": "2022-05-12T12:24:32.480Z"
   },
   {
    "duration": 45,
    "start_time": "2022-05-12T12:24:32.489Z"
   },
   {
    "duration": 19,
    "start_time": "2022-05-12T12:24:32.535Z"
   },
   {
    "duration": 14,
    "start_time": "2022-05-12T12:24:32.556Z"
   },
   {
    "duration": 6,
    "start_time": "2022-05-12T12:24:32.572Z"
   },
   {
    "duration": 46,
    "start_time": "2022-05-12T12:24:32.579Z"
   },
   {
    "duration": 5,
    "start_time": "2022-05-12T12:24:32.627Z"
   },
   {
    "duration": 14,
    "start_time": "2022-05-12T12:24:32.634Z"
   },
   {
    "duration": 10,
    "start_time": "2022-05-12T12:24:32.652Z"
   },
   {
    "duration": 9,
    "start_time": "2022-05-12T12:24:32.664Z"
   },
   {
    "duration": 4,
    "start_time": "2022-05-12T12:24:32.675Z"
   },
   {
    "duration": 42,
    "start_time": "2022-05-12T12:24:32.681Z"
   },
   {
    "duration": 8,
    "start_time": "2022-05-12T12:24:32.725Z"
   },
   {
    "duration": 9,
    "start_time": "2022-05-12T12:24:32.735Z"
   },
   {
    "duration": 12,
    "start_time": "2022-05-12T12:24:32.745Z"
   },
   {
    "duration": 7,
    "start_time": "2022-05-12T12:24:32.759Z"
   },
   {
    "duration": 11,
    "start_time": "2022-05-12T12:24:32.768Z"
   },
   {
    "duration": 6,
    "start_time": "2022-05-12T12:24:32.780Z"
   },
   {
    "duration": 5,
    "start_time": "2022-05-12T12:24:32.824Z"
   },
   {
    "duration": 11,
    "start_time": "2022-05-12T12:24:32.831Z"
   },
   {
    "duration": 8,
    "start_time": "2022-05-12T12:24:32.844Z"
   },
   {
    "duration": 16,
    "start_time": "2022-05-12T12:24:32.853Z"
   },
   {
    "duration": 18,
    "start_time": "2022-05-12T12:24:32.871Z"
   },
   {
    "duration": 65,
    "start_time": "2022-05-12T12:24:32.890Z"
   },
   {
    "duration": 15,
    "start_time": "2022-05-12T12:24:32.957Z"
   },
   {
    "duration": 21,
    "start_time": "2022-05-12T12:24:32.974Z"
   },
   {
    "duration": 55,
    "start_time": "2022-05-12T12:24:32.996Z"
   },
   {
    "duration": 16,
    "start_time": "2022-05-12T12:24:33.053Z"
   },
   {
    "duration": 19,
    "start_time": "2022-05-12T12:24:33.071Z"
   },
   {
    "duration": 3490,
    "start_time": "2022-05-12T12:24:33.092Z"
   },
   {
    "duration": 3371,
    "start_time": "2022-05-12T12:24:39.334Z"
   },
   {
    "duration": 15297,
    "start_time": "2022-05-12T12:35:01.999Z"
   },
   {
    "duration": 80,
    "start_time": "2022-05-12T12:35:27.769Z"
   },
   {
    "duration": 14,
    "start_time": "2022-05-12T12:35:27.851Z"
   },
   {
    "duration": 12,
    "start_time": "2022-05-12T12:35:27.866Z"
   },
   {
    "duration": 43,
    "start_time": "2022-05-12T12:35:27.880Z"
   },
   {
    "duration": 25,
    "start_time": "2022-05-12T12:35:27.926Z"
   },
   {
    "duration": 8,
    "start_time": "2022-05-12T12:35:27.955Z"
   },
   {
    "duration": 25,
    "start_time": "2022-05-12T12:35:27.965Z"
   },
   {
    "duration": 51,
    "start_time": "2022-05-12T12:35:27.992Z"
   },
   {
    "duration": 16,
    "start_time": "2022-05-12T12:35:28.046Z"
   },
   {
    "duration": 7,
    "start_time": "2022-05-12T12:35:28.064Z"
   },
   {
    "duration": 10,
    "start_time": "2022-05-12T12:35:28.073Z"
   },
   {
    "duration": 39,
    "start_time": "2022-05-12T12:35:28.085Z"
   },
   {
    "duration": 8,
    "start_time": "2022-05-12T12:35:28.128Z"
   },
   {
    "duration": 10,
    "start_time": "2022-05-12T12:35:28.142Z"
   },
   {
    "duration": 9,
    "start_time": "2022-05-12T12:35:28.153Z"
   },
   {
    "duration": 9,
    "start_time": "2022-05-12T12:35:28.164Z"
   },
   {
    "duration": 12,
    "start_time": "2022-05-12T12:35:28.174Z"
   },
   {
    "duration": 10,
    "start_time": "2022-05-12T12:35:28.187Z"
   },
   {
    "duration": 34,
    "start_time": "2022-05-12T12:35:28.199Z"
   },
   {
    "duration": 14,
    "start_time": "2022-05-12T12:35:28.239Z"
   },
   {
    "duration": 5,
    "start_time": "2022-05-12T12:35:28.255Z"
   },
   {
    "duration": 11,
    "start_time": "2022-05-12T12:35:28.262Z"
   },
   {
    "duration": 7,
    "start_time": "2022-05-12T12:35:28.274Z"
   },
   {
    "duration": 7,
    "start_time": "2022-05-12T12:35:28.283Z"
   },
   {
    "duration": 40,
    "start_time": "2022-05-12T12:35:28.292Z"
   },
   {
    "duration": 12,
    "start_time": "2022-05-12T12:35:28.334Z"
   },
   {
    "duration": 17,
    "start_time": "2022-05-12T12:35:28.348Z"
   },
   {
    "duration": 20,
    "start_time": "2022-05-12T12:35:28.367Z"
   },
   {
    "duration": 63,
    "start_time": "2022-05-12T12:35:28.389Z"
   },
   {
    "duration": 17,
    "start_time": "2022-05-12T12:35:28.454Z"
   },
   {
    "duration": 19,
    "start_time": "2022-05-12T12:35:28.473Z"
   },
   {
    "duration": 59,
    "start_time": "2022-05-12T12:35:28.494Z"
   },
   {
    "duration": 14,
    "start_time": "2022-05-12T12:35:28.555Z"
   },
   {
    "duration": 17,
    "start_time": "2022-05-12T12:35:30.854Z"
   },
   {
    "duration": 24,
    "start_time": "2022-05-12T12:35:31.902Z"
   },
   {
    "duration": 12403,
    "start_time": "2022-05-12T12:35:33.304Z"
   },
   {
    "duration": 13,
    "start_time": "2022-05-12T12:36:27.039Z"
   },
   {
    "duration": 256,
    "start_time": "2022-05-12T12:36:39.568Z"
   },
   {
    "duration": 215,
    "start_time": "2022-05-12T12:36:51.580Z"
   },
   {
    "duration": 678,
    "start_time": "2022-05-13T08:04:53.349Z"
   },
   {
    "duration": 29,
    "start_time": "2022-05-13T08:04:54.029Z"
   },
   {
    "duration": 81,
    "start_time": "2022-05-13T08:04:54.061Z"
   },
   {
    "duration": 114,
    "start_time": "2022-05-13T08:04:54.145Z"
   },
   {
    "duration": 53,
    "start_time": "2022-05-13T08:04:54.262Z"
   },
   {
    "duration": 14,
    "start_time": "2022-05-13T08:04:54.318Z"
   },
   {
    "duration": 94,
    "start_time": "2022-05-13T08:04:54.334Z"
   },
   {
    "duration": 46,
    "start_time": "2022-05-13T08:04:54.430Z"
   },
   {
    "duration": 92,
    "start_time": "2022-05-13T08:04:54.478Z"
   },
   {
    "duration": 81,
    "start_time": "2022-05-13T08:04:54.573Z"
   },
   {
    "duration": 73,
    "start_time": "2022-05-13T08:04:54.656Z"
   },
   {
    "duration": 16,
    "start_time": "2022-05-13T08:04:54.731Z"
   },
   {
    "duration": 92,
    "start_time": "2022-05-13T08:04:54.751Z"
   },
   {
    "duration": 91,
    "start_time": "2022-05-13T08:04:54.844Z"
   },
   {
    "duration": 121,
    "start_time": "2022-05-13T08:04:54.937Z"
   },
   {
    "duration": 95,
    "start_time": "2022-05-13T08:04:55.063Z"
   },
   {
    "duration": 155,
    "start_time": "2022-05-13T08:04:55.160Z"
   },
   {
    "duration": 111,
    "start_time": "2022-05-13T08:04:55.317Z"
   },
   {
    "duration": 104,
    "start_time": "2022-05-13T08:04:55.430Z"
   },
   {
    "duration": 81,
    "start_time": "2022-05-13T08:04:55.537Z"
   },
   {
    "duration": 58,
    "start_time": "2022-05-13T08:04:55.620Z"
   },
   {
    "duration": 162,
    "start_time": "2022-05-13T08:04:55.680Z"
   },
   {
    "duration": 159,
    "start_time": "2022-05-13T08:04:55.844Z"
   },
   {
    "duration": 70,
    "start_time": "2022-05-13T08:04:56.006Z"
   },
   {
    "duration": 123,
    "start_time": "2022-05-13T08:04:56.079Z"
   },
   {
    "duration": 47,
    "start_time": "2022-05-13T08:04:56.205Z"
   },
   {
    "duration": 97,
    "start_time": "2022-05-13T08:04:56.254Z"
   },
   {
    "duration": 95,
    "start_time": "2022-05-13T08:04:56.355Z"
   },
   {
    "duration": 115,
    "start_time": "2022-05-13T08:04:56.455Z"
   },
   {
    "duration": 38,
    "start_time": "2022-05-13T08:04:56.575Z"
   },
   {
    "duration": 55,
    "start_time": "2022-05-13T08:04:56.618Z"
   },
   {
    "duration": 155,
    "start_time": "2022-05-13T08:04:56.682Z"
   },
   {
    "duration": 34,
    "start_time": "2022-05-13T08:04:56.839Z"
   },
   {
    "duration": 69,
    "start_time": "2022-05-13T08:04:56.875Z"
   },
   {
    "duration": 475,
    "start_time": "2022-05-13T08:04:56.945Z"
   },
   {
    "duration": 35,
    "start_time": "2022-05-13T08:11:22.663Z"
   },
   {
    "duration": 31,
    "start_time": "2022-05-13T08:16:06.158Z"
   },
   {
    "duration": 209,
    "start_time": "2022-05-13T08:17:28.194Z"
   },
   {
    "duration": 243,
    "start_time": "2022-05-13T08:20:24.399Z"
   },
   {
    "duration": 122,
    "start_time": "2022-05-13T08:30:13.665Z"
   },
   {
    "duration": 16,
    "start_time": "2022-05-13T08:30:13.789Z"
   },
   {
    "duration": 15,
    "start_time": "2022-05-13T08:30:13.807Z"
   },
   {
    "duration": 15,
    "start_time": "2022-05-13T08:30:13.824Z"
   },
   {
    "duration": 55,
    "start_time": "2022-05-13T08:30:13.848Z"
   },
   {
    "duration": 7,
    "start_time": "2022-05-13T08:30:13.905Z"
   },
   {
    "duration": 25,
    "start_time": "2022-05-13T08:30:13.914Z"
   },
   {
    "duration": 73,
    "start_time": "2022-05-13T08:30:13.941Z"
   },
   {
    "duration": 16,
    "start_time": "2022-05-13T08:30:14.015Z"
   },
   {
    "duration": 6,
    "start_time": "2022-05-13T08:30:14.034Z"
   },
   {
    "duration": 67,
    "start_time": "2022-05-13T08:30:14.047Z"
   },
   {
    "duration": 21,
    "start_time": "2022-05-13T08:30:14.117Z"
   },
   {
    "duration": 75,
    "start_time": "2022-05-13T08:30:14.141Z"
   },
   {
    "duration": 32,
    "start_time": "2022-05-13T08:30:14.221Z"
   },
   {
    "duration": 46,
    "start_time": "2022-05-13T08:30:14.255Z"
   },
   {
    "duration": 21,
    "start_time": "2022-05-13T08:30:14.303Z"
   },
   {
    "duration": 30,
    "start_time": "2022-05-13T08:30:14.326Z"
   },
   {
    "duration": 54,
    "start_time": "2022-05-13T08:30:14.358Z"
   },
   {
    "duration": 27,
    "start_time": "2022-05-13T08:30:14.415Z"
   },
   {
    "duration": 71,
    "start_time": "2022-05-13T08:30:14.450Z"
   },
   {
    "duration": 28,
    "start_time": "2022-05-13T08:30:14.523Z"
   },
   {
    "duration": 71,
    "start_time": "2022-05-13T08:30:14.553Z"
   },
   {
    "duration": 75,
    "start_time": "2022-05-13T08:30:14.626Z"
   },
   {
    "duration": 24,
    "start_time": "2022-05-13T08:30:14.703Z"
   },
   {
    "duration": 24,
    "start_time": "2022-05-13T08:30:14.729Z"
   },
   {
    "duration": 59,
    "start_time": "2022-05-13T08:30:14.755Z"
   },
   {
    "duration": 25,
    "start_time": "2022-05-13T08:30:14.816Z"
   },
   {
    "duration": 60,
    "start_time": "2022-05-13T08:30:14.856Z"
   },
   {
    "duration": 46,
    "start_time": "2022-05-13T08:30:14.918Z"
   },
   {
    "duration": 27,
    "start_time": "2022-05-13T08:30:14.966Z"
   },
   {
    "duration": 54,
    "start_time": "2022-05-13T08:30:14.995Z"
   },
   {
    "duration": 68,
    "start_time": "2022-05-13T08:30:15.051Z"
   },
   {
    "duration": 13,
    "start_time": "2022-05-13T08:30:15.121Z"
   },
   {
    "duration": 63,
    "start_time": "2022-05-13T08:30:15.136Z"
   },
   {
    "duration": 262,
    "start_time": "2022-05-13T08:30:21.330Z"
   },
   {
    "duration": 105,
    "start_time": "2022-05-13T08:40:53.676Z"
   },
   {
    "duration": 22,
    "start_time": "2022-05-13T08:40:53.784Z"
   },
   {
    "duration": 38,
    "start_time": "2022-05-13T08:40:53.816Z"
   },
   {
    "duration": 99,
    "start_time": "2022-05-13T08:40:53.858Z"
   },
   {
    "duration": 79,
    "start_time": "2022-05-13T08:40:53.962Z"
   },
   {
    "duration": 96,
    "start_time": "2022-05-13T08:40:54.054Z"
   },
   {
    "duration": 77,
    "start_time": "2022-05-13T08:40:54.152Z"
   },
   {
    "duration": 87,
    "start_time": "2022-05-13T08:40:54.231Z"
   },
   {
    "duration": 45,
    "start_time": "2022-05-13T08:40:54.320Z"
   },
   {
    "duration": 49,
    "start_time": "2022-05-13T08:40:54.366Z"
   },
   {
    "duration": 31,
    "start_time": "2022-05-13T08:40:54.427Z"
   },
   {
    "duration": 69,
    "start_time": "2022-05-13T08:40:54.462Z"
   },
   {
    "duration": 93,
    "start_time": "2022-05-13T08:40:54.532Z"
   },
   {
    "duration": 52,
    "start_time": "2022-05-13T08:40:54.628Z"
   },
   {
    "duration": 58,
    "start_time": "2022-05-13T08:40:54.682Z"
   },
   {
    "duration": 66,
    "start_time": "2022-05-13T08:40:54.742Z"
   },
   {
    "duration": 34,
    "start_time": "2022-05-13T08:40:54.810Z"
   },
   {
    "duration": 63,
    "start_time": "2022-05-13T08:40:54.845Z"
   },
   {
    "duration": 47,
    "start_time": "2022-05-13T08:40:54.910Z"
   },
   {
    "duration": 65,
    "start_time": "2022-05-13T08:40:54.958Z"
   },
   {
    "duration": 102,
    "start_time": "2022-05-13T08:40:55.025Z"
   },
   {
    "duration": 107,
    "start_time": "2022-05-13T08:40:55.129Z"
   },
   {
    "duration": 54,
    "start_time": "2022-05-13T08:40:55.238Z"
   },
   {
    "duration": 42,
    "start_time": "2022-05-13T08:40:55.294Z"
   },
   {
    "duration": 82,
    "start_time": "2022-05-13T08:40:55.338Z"
   },
   {
    "duration": 108,
    "start_time": "2022-05-13T08:40:55.421Z"
   },
   {
    "duration": 88,
    "start_time": "2022-05-13T08:40:55.531Z"
   },
   {
    "duration": 98,
    "start_time": "2022-05-13T08:40:55.621Z"
   },
   {
    "duration": 105,
    "start_time": "2022-05-13T08:40:55.721Z"
   },
   {
    "duration": 52,
    "start_time": "2022-05-13T08:40:55.828Z"
   },
   {
    "duration": 86,
    "start_time": "2022-05-13T08:40:55.882Z"
   },
   {
    "duration": 82,
    "start_time": "2022-05-13T08:40:55.971Z"
   },
   {
    "duration": 50,
    "start_time": "2022-05-13T08:40:56.055Z"
   },
   {
    "duration": 35,
    "start_time": "2022-05-13T08:40:56.107Z"
   },
   {
    "duration": 228,
    "start_time": "2022-05-13T08:41:35.780Z"
   },
   {
    "duration": 256,
    "start_time": "2022-05-13T08:50:40.964Z"
   },
   {
    "duration": 244,
    "start_time": "2022-05-13T08:50:54.292Z"
   },
   {
    "duration": 8,
    "start_time": "2022-05-13T08:58:43.125Z"
   },
   {
    "duration": 10,
    "start_time": "2022-05-13T08:59:14.138Z"
   },
   {
    "duration": 8,
    "start_time": "2022-05-13T09:00:11.747Z"
   },
   {
    "duration": 7,
    "start_time": "2022-05-13T09:00:22.124Z"
   },
   {
    "duration": 18,
    "start_time": "2022-05-13T09:00:40.461Z"
   },
   {
    "duration": 5,
    "start_time": "2022-05-13T09:01:10.070Z"
   },
   {
    "duration": 5,
    "start_time": "2022-05-13T09:01:18.634Z"
   },
   {
    "duration": 9,
    "start_time": "2022-05-13T09:01:33.652Z"
   },
   {
    "duration": 43,
    "start_time": "2022-05-13T09:02:56.829Z"
   },
   {
    "duration": 18,
    "start_time": "2022-05-13T09:03:04.670Z"
   },
   {
    "duration": 30,
    "start_time": "2022-05-13T09:03:16.992Z"
   },
   {
    "duration": 11,
    "start_time": "2022-05-13T09:07:06.620Z"
   },
   {
    "duration": 24,
    "start_time": "2022-05-13T09:11:21.332Z"
   },
   {
    "duration": 12,
    "start_time": "2022-05-13T09:11:35.156Z"
   },
   {
    "duration": 23,
    "start_time": "2022-05-13T09:11:52.892Z"
   },
   {
    "duration": 25,
    "start_time": "2022-05-13T09:12:01.068Z"
   },
   {
    "duration": 9,
    "start_time": "2022-05-13T09:13:03.324Z"
   },
   {
    "duration": 18,
    "start_time": "2022-05-13T09:13:59.468Z"
   },
   {
    "duration": 20,
    "start_time": "2022-05-13T09:14:13.584Z"
   },
   {
    "duration": 11,
    "start_time": "2022-05-13T09:14:25.436Z"
   },
   {
    "duration": 6,
    "start_time": "2022-05-13T09:14:34.612Z"
   },
   {
    "duration": 7,
    "start_time": "2022-05-13T09:14:44.784Z"
   },
   {
    "duration": 11,
    "start_time": "2022-05-13T09:14:52.207Z"
   },
   {
    "duration": 8,
    "start_time": "2022-05-13T09:15:09.692Z"
   },
   {
    "duration": 8,
    "start_time": "2022-05-13T09:15:30.187Z"
   },
   {
    "duration": 12,
    "start_time": "2022-05-13T09:18:05.431Z"
   },
   {
    "duration": 7,
    "start_time": "2022-05-13T09:18:31.419Z"
   },
   {
    "duration": 8,
    "start_time": "2022-05-13T09:18:42.772Z"
   },
   {
    "duration": 24,
    "start_time": "2022-05-13T09:18:57.973Z"
   },
   {
    "duration": 12,
    "start_time": "2022-05-13T09:19:31.740Z"
   },
   {
    "duration": 19,
    "start_time": "2022-05-13T09:19:38.423Z"
   },
   {
    "duration": 6,
    "start_time": "2022-05-13T09:20:44.120Z"
   },
   {
    "duration": 46,
    "start_time": "2022-05-13T09:20:49.247Z"
   },
   {
    "duration": 25,
    "start_time": "2022-05-13T09:21:49.783Z"
   },
   {
    "duration": 10,
    "start_time": "2022-05-13T09:22:13.011Z"
   },
   {
    "duration": 18,
    "start_time": "2022-05-13T09:22:29.294Z"
   },
   {
    "duration": 34,
    "start_time": "2022-05-13T09:23:18.652Z"
   },
   {
    "duration": 11,
    "start_time": "2022-05-13T09:24:23.752Z"
   },
   {
    "duration": 10,
    "start_time": "2022-05-13T09:24:54.980Z"
   },
   {
    "duration": 131,
    "start_time": "2022-05-13T09:25:24.480Z"
   },
   {
    "duration": 26,
    "start_time": "2022-05-13T09:26:52.654Z"
   },
   {
    "duration": 33,
    "start_time": "2022-05-13T09:27:43.063Z"
   },
   {
    "duration": 20,
    "start_time": "2022-05-13T09:28:39.934Z"
   },
   {
    "duration": 12,
    "start_time": "2022-05-13T09:29:57.578Z"
   },
   {
    "duration": 7,
    "start_time": "2022-05-13T09:30:02.814Z"
   },
   {
    "duration": 33,
    "start_time": "2022-05-13T09:30:32.030Z"
   },
   {
    "duration": 40,
    "start_time": "2022-05-13T09:38:41.877Z"
   },
   {
    "duration": 23,
    "start_time": "2022-05-13T09:40:15.110Z"
   },
   {
    "duration": 240,
    "start_time": "2022-05-13T09:46:36.113Z"
   },
   {
    "duration": 27,
    "start_time": "2022-05-13T09:47:04.612Z"
   },
   {
    "duration": 31,
    "start_time": "2022-05-13T09:47:14.739Z"
   },
   {
    "duration": 15,
    "start_time": "2022-05-13T09:47:48.513Z"
   },
   {
    "duration": 8,
    "start_time": "2022-05-13T09:59:15.617Z"
   },
   {
    "duration": 1356,
    "start_time": "2022-05-13T09:59:18.130Z"
   },
   {
    "duration": 48,
    "start_time": "2022-05-13T09:59:26.762Z"
   },
   {
    "duration": 46,
    "start_time": "2022-05-13T10:00:59.668Z"
   },
   {
    "duration": 222,
    "start_time": "2022-05-13T10:01:53.280Z"
   },
   {
    "duration": 206,
    "start_time": "2022-05-13T10:02:52.524Z"
   },
   {
    "duration": 170,
    "start_time": "2022-05-13T10:03:12.671Z"
   },
   {
    "duration": 283,
    "start_time": "2022-05-13T10:05:48.498Z"
   },
   {
    "duration": 29,
    "start_time": "2022-05-13T10:05:54.121Z"
   },
   {
    "duration": 25,
    "start_time": "2022-05-13T10:06:16.295Z"
   },
   {
    "duration": 165,
    "start_time": "2022-05-13T10:06:31.572Z"
   },
   {
    "duration": 16,
    "start_time": "2022-05-13T10:06:37.015Z"
   },
   {
    "duration": 228,
    "start_time": "2022-05-13T10:09:48.422Z"
   },
   {
    "duration": 168,
    "start_time": "2022-05-13T10:11:22.274Z"
   },
   {
    "duration": 177,
    "start_time": "2022-05-13T10:11:52.116Z"
   },
   {
    "duration": 33,
    "start_time": "2022-05-13T10:11:52.674Z"
   },
   {
    "duration": 266,
    "start_time": "2022-05-13T10:12:32.139Z"
   },
   {
    "duration": 13,
    "start_time": "2022-05-13T10:14:28.722Z"
   },
   {
    "duration": 8,
    "start_time": "2022-05-13T10:14:37.423Z"
   },
   {
    "duration": 8,
    "start_time": "2022-05-13T10:17:40.526Z"
   },
   {
    "duration": 5,
    "start_time": "2022-05-13T10:18:30.592Z"
   },
   {
    "duration": 16,
    "start_time": "2022-05-13T10:21:27.173Z"
   },
   {
    "duration": 9,
    "start_time": "2022-05-13T10:21:36.998Z"
   },
   {
    "duration": 142,
    "start_time": "2022-05-13T10:22:27.234Z"
   },
   {
    "duration": 14,
    "start_time": "2022-05-13T10:23:44.015Z"
   },
   {
    "duration": 15,
    "start_time": "2022-05-13T10:23:50.875Z"
   },
   {
    "duration": 11,
    "start_time": "2022-05-13T10:23:55.606Z"
   },
   {
    "duration": 15,
    "start_time": "2022-05-13T10:24:02.896Z"
   },
   {
    "duration": 7,
    "start_time": "2022-05-13T10:24:12.408Z"
   },
   {
    "duration": 8,
    "start_time": "2022-05-13T10:24:54.132Z"
   },
   {
    "duration": 146,
    "start_time": "2022-05-13T10:24:55.088Z"
   },
   {
    "duration": 20,
    "start_time": "2022-05-13T10:27:13.601Z"
   },
   {
    "duration": 16,
    "start_time": "2022-05-13T10:30:11.016Z"
   },
   {
    "duration": 136,
    "start_time": "2022-05-13T10:30:20.321Z"
   },
   {
    "duration": 22,
    "start_time": "2022-05-13T10:30:20.459Z"
   },
   {
    "duration": 53,
    "start_time": "2022-05-13T10:30:20.483Z"
   },
   {
    "duration": 34,
    "start_time": "2022-05-13T10:30:20.538Z"
   },
   {
    "duration": 61,
    "start_time": "2022-05-13T10:30:20.575Z"
   },
   {
    "duration": 14,
    "start_time": "2022-05-13T10:30:20.637Z"
   },
   {
    "duration": 50,
    "start_time": "2022-05-13T10:30:20.656Z"
   },
   {
    "duration": 33,
    "start_time": "2022-05-13T10:30:20.708Z"
   },
   {
    "duration": 38,
    "start_time": "2022-05-13T10:30:20.749Z"
   },
   {
    "duration": 43,
    "start_time": "2022-05-13T10:30:20.789Z"
   },
   {
    "duration": 12,
    "start_time": "2022-05-13T10:30:20.834Z"
   },
   {
    "duration": 44,
    "start_time": "2022-05-13T10:30:20.848Z"
   },
   {
    "duration": 32,
    "start_time": "2022-05-13T10:30:20.894Z"
   },
   {
    "duration": 17,
    "start_time": "2022-05-13T10:30:20.929Z"
   },
   {
    "duration": 61,
    "start_time": "2022-05-13T10:30:20.948Z"
   },
   {
    "duration": 17,
    "start_time": "2022-05-13T10:30:21.011Z"
   },
   {
    "duration": 20,
    "start_time": "2022-05-13T10:30:21.029Z"
   },
   {
    "duration": 39,
    "start_time": "2022-05-13T10:30:21.052Z"
   },
   {
    "duration": 39,
    "start_time": "2022-05-13T10:30:21.093Z"
   },
   {
    "duration": 21,
    "start_time": "2022-05-13T10:30:21.134Z"
   },
   {
    "duration": 53,
    "start_time": "2022-05-13T10:30:21.156Z"
   },
   {
    "duration": 24,
    "start_time": "2022-05-13T10:30:21.211Z"
   },
   {
    "duration": 83,
    "start_time": "2022-05-13T10:30:21.237Z"
   },
   {
    "duration": 5,
    "start_time": "2022-05-13T10:30:21.322Z"
   },
   {
    "duration": 10,
    "start_time": "2022-05-13T10:30:21.328Z"
   },
   {
    "duration": 81,
    "start_time": "2022-05-13T10:30:21.340Z"
   },
   {
    "duration": 13,
    "start_time": "2022-05-13T10:30:21.423Z"
   },
   {
    "duration": 47,
    "start_time": "2022-05-13T10:30:21.437Z"
   },
   {
    "duration": 105,
    "start_time": "2022-05-13T10:30:21.486Z"
   },
   {
    "duration": 31,
    "start_time": "2022-05-13T10:30:21.592Z"
   },
   {
    "duration": 37,
    "start_time": "2022-05-13T10:30:21.625Z"
   },
   {
    "duration": 73,
    "start_time": "2022-05-13T10:30:21.666Z"
   },
   {
    "duration": 26,
    "start_time": "2022-05-13T10:30:23.598Z"
   },
   {
    "duration": 15,
    "start_time": "2022-05-13T10:30:28.106Z"
   },
   {
    "duration": 23,
    "start_time": "2022-05-13T10:30:33.622Z"
   },
   {
    "duration": 288,
    "start_time": "2022-05-13T10:30:34.869Z"
   },
   {
    "duration": 11,
    "start_time": "2022-05-13T10:30:38.895Z"
   },
   {
    "duration": 171,
    "start_time": "2022-05-13T10:30:39.916Z"
   },
   {
    "duration": 28,
    "start_time": "2022-05-13T10:30:42.480Z"
   },
   {
    "duration": 29,
    "start_time": "2022-05-13T10:30:57.874Z"
   },
   {
    "duration": 296,
    "start_time": "2022-05-13T10:31:45.331Z"
   },
   {
    "duration": 144,
    "start_time": "2022-05-13T10:31:51.778Z"
   },
   {
    "duration": 14,
    "start_time": "2022-05-13T10:31:51.924Z"
   },
   {
    "duration": 77,
    "start_time": "2022-05-13T10:31:51.940Z"
   },
   {
    "duration": 38,
    "start_time": "2022-05-13T10:31:52.019Z"
   },
   {
    "duration": 34,
    "start_time": "2022-05-13T10:31:52.060Z"
   },
   {
    "duration": 36,
    "start_time": "2022-05-13T10:31:52.096Z"
   },
   {
    "duration": 107,
    "start_time": "2022-05-13T10:31:52.134Z"
   },
   {
    "duration": 49,
    "start_time": "2022-05-13T10:31:52.254Z"
   },
   {
    "duration": 90,
    "start_time": "2022-05-13T10:31:52.305Z"
   },
   {
    "duration": 21,
    "start_time": "2022-05-13T10:31:52.404Z"
   },
   {
    "duration": 12,
    "start_time": "2022-05-13T10:31:52.427Z"
   },
   {
    "duration": 28,
    "start_time": "2022-05-13T10:31:52.441Z"
   },
   {
    "duration": 61,
    "start_time": "2022-05-13T10:31:52.472Z"
   },
   {
    "duration": 91,
    "start_time": "2022-05-13T10:31:52.538Z"
   },
   {
    "duration": 10,
    "start_time": "2022-05-13T10:31:52.631Z"
   },
   {
    "duration": 80,
    "start_time": "2022-05-13T10:31:52.649Z"
   },
   {
    "duration": 24,
    "start_time": "2022-05-13T10:31:52.731Z"
   },
   {
    "duration": 65,
    "start_time": "2022-05-13T10:31:52.760Z"
   },
   {
    "duration": 19,
    "start_time": "2022-05-13T10:31:52.827Z"
   },
   {
    "duration": 78,
    "start_time": "2022-05-13T10:31:52.848Z"
   },
   {
    "duration": 58,
    "start_time": "2022-05-13T10:31:52.928Z"
   },
   {
    "duration": 49,
    "start_time": "2022-05-13T10:31:52.988Z"
   },
   {
    "duration": 84,
    "start_time": "2022-05-13T10:31:53.039Z"
   },
   {
    "duration": 18,
    "start_time": "2022-05-13T10:31:53.124Z"
   },
   {
    "duration": 97,
    "start_time": "2022-05-13T10:31:53.143Z"
   },
   {
    "duration": 83,
    "start_time": "2022-05-13T10:31:53.243Z"
   },
   {
    "duration": 108,
    "start_time": "2022-05-13T10:31:53.328Z"
   },
   {
    "duration": 72,
    "start_time": "2022-05-13T10:31:53.437Z"
   },
   {
    "duration": 75,
    "start_time": "2022-05-13T10:31:53.511Z"
   },
   {
    "duration": 32,
    "start_time": "2022-05-13T10:31:53.588Z"
   },
   {
    "duration": 139,
    "start_time": "2022-05-13T10:31:53.623Z"
   },
   {
    "duration": 93,
    "start_time": "2022-05-13T10:31:53.766Z"
   },
   {
    "duration": 29,
    "start_time": "2022-05-13T10:31:53.862Z"
   },
   {
    "duration": 71,
    "start_time": "2022-05-13T10:31:53.893Z"
   },
   {
    "duration": 341,
    "start_time": "2022-05-13T10:31:53.967Z"
   },
   {
    "duration": 119,
    "start_time": "2022-05-13T11:03:28.836Z"
   },
   {
    "duration": 21,
    "start_time": "2022-05-13T11:03:31.363Z"
   },
   {
    "duration": 21,
    "start_time": "2022-05-13T11:03:35.267Z"
   },
   {
    "duration": 12,
    "start_time": "2022-05-13T11:03:37.420Z"
   },
   {
    "duration": 13,
    "start_time": "2022-05-13T11:03:38.187Z"
   },
   {
    "duration": 8,
    "start_time": "2022-05-13T11:03:40.783Z"
   },
   {
    "duration": 25,
    "start_time": "2022-05-13T11:04:03.642Z"
   },
   {
    "duration": 26,
    "start_time": "2022-05-13T11:05:47.840Z"
   },
   {
    "duration": 6,
    "start_time": "2022-05-13T11:05:48.619Z"
   },
   {
    "duration": 38,
    "start_time": "2022-05-13T11:05:49.963Z"
   },
   {
    "duration": 3,
    "start_time": "2022-05-13T11:05:59.299Z"
   },
   {
    "duration": 24,
    "start_time": "2022-05-13T11:06:17.171Z"
   },
   {
    "duration": 6,
    "start_time": "2022-05-13T11:06:54.726Z"
   },
   {
    "duration": 15,
    "start_time": "2022-05-13T11:10:40.504Z"
   },
   {
    "duration": 8,
    "start_time": "2022-05-13T11:10:49.607Z"
   },
   {
    "duration": 7,
    "start_time": "2022-05-13T11:11:27.017Z"
   },
   {
    "duration": 26,
    "start_time": "2022-05-13T11:11:32.865Z"
   },
   {
    "duration": 13,
    "start_time": "2022-05-13T11:13:03.065Z"
   },
   {
    "duration": 29,
    "start_time": "2022-05-13T11:13:29.885Z"
   },
   {
    "duration": 98,
    "start_time": "2022-05-13T11:15:00.070Z"
   },
   {
    "duration": 21,
    "start_time": "2022-05-13T11:15:00.170Z"
   },
   {
    "duration": 41,
    "start_time": "2022-05-13T11:15:00.193Z"
   },
   {
    "duration": 67,
    "start_time": "2022-05-13T11:15:00.236Z"
   },
   {
    "duration": 25,
    "start_time": "2022-05-13T11:15:00.306Z"
   },
   {
    "duration": 30,
    "start_time": "2022-05-13T11:15:00.332Z"
   },
   {
    "duration": 66,
    "start_time": "2022-05-13T11:15:00.364Z"
   },
   {
    "duration": 3,
    "start_time": "2022-05-13T11:15:00.431Z"
   },
   {
    "duration": 69,
    "start_time": "2022-05-13T11:15:00.435Z"
   },
   {
    "duration": 11,
    "start_time": "2022-05-13T11:15:00.506Z"
   },
   {
    "duration": 17,
    "start_time": "2022-05-13T11:15:00.519Z"
   },
   {
    "duration": 65,
    "start_time": "2022-05-13T11:15:00.538Z"
   },
   {
    "duration": 7,
    "start_time": "2022-05-13T11:15:05.072Z"
   },
   {
    "duration": 9,
    "start_time": "2022-05-13T11:15:28.616Z"
   },
   {
    "duration": 13,
    "start_time": "2022-05-13T11:16:11.421Z"
   },
   {
    "duration": 10,
    "start_time": "2022-05-13T11:16:38.816Z"
   },
   {
    "duration": 30,
    "start_time": "2022-05-13T11:20:38.066Z"
   },
   {
    "duration": 16,
    "start_time": "2022-05-13T11:21:00.278Z"
   },
   {
    "duration": 18,
    "start_time": "2022-05-13T11:21:16.390Z"
   },
   {
    "duration": 9,
    "start_time": "2022-05-13T11:21:30.635Z"
   },
   {
    "duration": 15,
    "start_time": "2022-05-13T11:21:32.497Z"
   },
   {
    "duration": 7,
    "start_time": "2022-05-13T11:22:29.467Z"
   },
   {
    "duration": 17,
    "start_time": "2022-05-13T11:22:45.973Z"
   },
   {
    "duration": 11,
    "start_time": "2022-05-13T11:25:24.698Z"
   },
   {
    "duration": 22,
    "start_time": "2022-05-13T11:26:20.402Z"
   },
   {
    "duration": 21,
    "start_time": "2022-05-13T11:26:57.369Z"
   },
   {
    "duration": 32,
    "start_time": "2022-05-13T11:27:25.570Z"
   },
   {
    "duration": 16,
    "start_time": "2022-05-13T11:27:42.773Z"
   },
   {
    "duration": 10,
    "start_time": "2022-05-13T11:27:53.825Z"
   },
   {
    "duration": 20,
    "start_time": "2022-05-13T11:30:06.019Z"
   },
   {
    "duration": 10,
    "start_time": "2022-05-13T11:30:16.223Z"
   },
   {
    "duration": 28,
    "start_time": "2022-05-13T11:30:21.469Z"
   },
   {
    "duration": 25,
    "start_time": "2022-05-13T11:30:43.771Z"
   },
   {
    "duration": 11,
    "start_time": "2022-05-13T11:35:08.982Z"
   },
   {
    "duration": 283,
    "start_time": "2022-05-13T11:37:02.370Z"
   },
   {
    "duration": 284,
    "start_time": "2022-05-13T11:37:16.852Z"
   },
   {
    "duration": 244,
    "start_time": "2022-05-13T11:37:32.006Z"
   },
   {
    "duration": 290,
    "start_time": "2022-05-13T11:37:46.586Z"
   },
   {
    "duration": 228,
    "start_time": "2022-05-13T11:37:53.706Z"
   },
   {
    "duration": 12,
    "start_time": "2022-05-13T11:38:02.086Z"
   },
   {
    "duration": 12,
    "start_time": "2022-05-13T11:38:39.898Z"
   },
   {
    "duration": 443,
    "start_time": "2022-05-13T11:39:09.068Z"
   },
   {
    "duration": 23,
    "start_time": "2022-05-13T11:39:09.518Z"
   },
   {
    "duration": 109,
    "start_time": "2022-05-13T11:39:09.547Z"
   },
   {
    "duration": 106,
    "start_time": "2022-05-13T11:39:09.658Z"
   },
   {
    "duration": 118,
    "start_time": "2022-05-13T11:39:09.769Z"
   },
   {
    "duration": 82,
    "start_time": "2022-05-13T11:39:09.893Z"
   },
   {
    "duration": 112,
    "start_time": "2022-05-13T11:39:09.980Z"
   },
   {
    "duration": 40,
    "start_time": "2022-05-13T11:39:10.097Z"
   },
   {
    "duration": 90,
    "start_time": "2022-05-13T11:39:10.138Z"
   },
   {
    "duration": 74,
    "start_time": "2022-05-13T11:39:10.229Z"
   },
   {
    "duration": 69,
    "start_time": "2022-05-13T11:39:10.306Z"
   },
   {
    "duration": 99,
    "start_time": "2022-05-13T11:39:10.378Z"
   },
   {
    "duration": 8,
    "start_time": "2022-05-13T11:40:13.320Z"
   },
   {
    "duration": 12,
    "start_time": "2022-05-13T11:40:17.201Z"
   },
   {
    "duration": 25,
    "start_time": "2022-05-13T11:40:19.941Z"
   },
   {
    "duration": 116,
    "start_time": "2022-05-13T11:47:17.794Z"
   },
   {
    "duration": 18,
    "start_time": "2022-05-13T11:47:17.912Z"
   },
   {
    "duration": 20,
    "start_time": "2022-05-13T11:47:17.932Z"
   },
   {
    "duration": 63,
    "start_time": "2022-05-13T11:47:17.965Z"
   },
   {
    "duration": 16,
    "start_time": "2022-05-13T11:47:18.031Z"
   },
   {
    "duration": 73,
    "start_time": "2022-05-13T11:47:18.048Z"
   },
   {
    "duration": 18,
    "start_time": "2022-05-13T11:47:18.123Z"
   },
   {
    "duration": 9,
    "start_time": "2022-05-13T11:47:18.143Z"
   },
   {
    "duration": 69,
    "start_time": "2022-05-13T11:47:18.154Z"
   },
   {
    "duration": 11,
    "start_time": "2022-05-13T11:47:18.224Z"
   },
   {
    "duration": 5,
    "start_time": "2022-05-13T11:47:18.237Z"
   },
   {
    "duration": 72,
    "start_time": "2022-05-13T11:47:18.247Z"
   },
   {
    "duration": 6,
    "start_time": "2022-05-13T11:47:18.321Z"
   },
   {
    "duration": 7,
    "start_time": "2022-05-13T11:47:18.330Z"
   },
   {
    "duration": 14,
    "start_time": "2022-05-13T11:47:18.339Z"
   },
   {
    "duration": 13,
    "start_time": "2022-05-13T11:47:30.391Z"
   },
   {
    "duration": 5,
    "start_time": "2022-05-13T11:50:26.129Z"
   },
   {
    "duration": 113,
    "start_time": "2022-05-13T11:51:47.823Z"
   },
   {
    "duration": 22,
    "start_time": "2022-05-13T11:51:47.938Z"
   },
   {
    "duration": 61,
    "start_time": "2022-05-13T11:51:47.962Z"
   },
   {
    "duration": 13,
    "start_time": "2022-05-13T11:51:48.026Z"
   },
   {
    "duration": 24,
    "start_time": "2022-05-13T11:51:48.041Z"
   },
   {
    "duration": 36,
    "start_time": "2022-05-13T11:51:48.067Z"
   },
   {
    "duration": 23,
    "start_time": "2022-05-13T11:51:48.104Z"
   },
   {
    "duration": 6,
    "start_time": "2022-05-13T11:51:48.129Z"
   },
   {
    "duration": 44,
    "start_time": "2022-05-13T11:51:48.137Z"
   },
   {
    "duration": 28,
    "start_time": "2022-05-13T11:51:48.186Z"
   },
   {
    "duration": 6,
    "start_time": "2022-05-13T11:51:48.216Z"
   },
   {
    "duration": 7,
    "start_time": "2022-05-13T11:51:48.224Z"
   },
   {
    "duration": 7,
    "start_time": "2022-05-13T11:51:48.232Z"
   },
   {
    "duration": 26,
    "start_time": "2022-05-13T11:51:48.241Z"
   },
   {
    "duration": 40,
    "start_time": "2022-05-13T11:51:48.272Z"
   },
   {
    "duration": 4,
    "start_time": "2022-05-13T11:51:48.314Z"
   },
   {
    "duration": 8,
    "start_time": "2022-05-13T11:51:48.319Z"
   },
   {
    "duration": 10,
    "start_time": "2022-05-13T11:51:48.328Z"
   },
   {
    "duration": 33,
    "start_time": "2022-05-13T11:51:48.340Z"
   },
   {
    "duration": 11,
    "start_time": "2022-05-13T11:51:50.366Z"
   },
   {
    "duration": 8,
    "start_time": "2022-05-13T11:51:52.140Z"
   },
   {
    "duration": 5,
    "start_time": "2022-05-13T11:51:53.732Z"
   },
   {
    "duration": 9,
    "start_time": "2022-05-13T11:51:56.024Z"
   },
   {
    "duration": 8,
    "start_time": "2022-05-13T11:52:00.362Z"
   },
   {
    "duration": 5,
    "start_time": "2022-05-13T11:52:02.779Z"
   },
   {
    "duration": 14,
    "start_time": "2022-05-13T11:52:12.593Z"
   },
   {
    "duration": 7,
    "start_time": "2022-05-13T11:52:40.500Z"
   },
   {
    "duration": 255,
    "start_time": "2022-05-13T11:53:21.773Z"
   },
   {
    "duration": 222,
    "start_time": "2022-05-13T11:53:30.291Z"
   },
   {
    "duration": 19,
    "start_time": "2022-05-13T11:53:38.971Z"
   },
   {
    "duration": 16,
    "start_time": "2022-05-13T11:54:34.673Z"
   },
   {
    "duration": 3,
    "start_time": "2022-05-13T11:57:40.263Z"
   },
   {
    "duration": 18,
    "start_time": "2022-05-13T11:59:11.201Z"
   },
   {
    "duration": 44,
    "start_time": "2022-05-13T11:59:11.713Z"
   },
   {
    "duration": 15,
    "start_time": "2022-05-13T11:59:16.399Z"
   },
   {
    "duration": 17,
    "start_time": "2022-05-13T11:59:21.923Z"
   },
   {
    "duration": 29,
    "start_time": "2022-05-13T11:59:25.771Z"
   },
   {
    "duration": 11,
    "start_time": "2022-05-13T11:59:26.506Z"
   },
   {
    "duration": 18,
    "start_time": "2022-05-13T11:59:29.092Z"
   },
   {
    "duration": 192,
    "start_time": "2022-05-13T11:59:31.073Z"
   },
   {
    "duration": 8,
    "start_time": "2022-05-13T11:59:33.227Z"
   },
   {
    "duration": 121,
    "start_time": "2022-05-13T11:59:34.369Z"
   },
   {
    "duration": 20,
    "start_time": "2022-05-13T12:03:25.679Z"
   },
   {
    "duration": 557,
    "start_time": "2022-05-14T07:49:16.991Z"
   },
   {
    "duration": 24,
    "start_time": "2022-05-14T07:49:17.550Z"
   },
   {
    "duration": 13,
    "start_time": "2022-05-14T07:49:17.576Z"
   },
   {
    "duration": 36,
    "start_time": "2022-05-14T07:49:17.591Z"
   },
   {
    "duration": 17,
    "start_time": "2022-05-14T07:49:17.629Z"
   },
   {
    "duration": 9,
    "start_time": "2022-05-14T07:49:17.648Z"
   },
   {
    "duration": 27,
    "start_time": "2022-05-14T07:49:17.660Z"
   },
   {
    "duration": 35,
    "start_time": "2022-05-14T07:49:17.689Z"
   },
   {
    "duration": 12,
    "start_time": "2022-05-14T07:49:17.726Z"
   },
   {
    "duration": 20,
    "start_time": "2022-05-14T07:49:17.742Z"
   },
   {
    "duration": 13,
    "start_time": "2022-05-14T07:49:17.764Z"
   },
   {
    "duration": 19,
    "start_time": "2022-05-14T07:49:17.779Z"
   },
   {
    "duration": 10,
    "start_time": "2022-05-14T07:49:17.800Z"
   },
   {
    "duration": 18,
    "start_time": "2022-05-14T07:49:17.823Z"
   },
   {
    "duration": 25,
    "start_time": "2022-05-14T07:49:17.844Z"
   },
   {
    "duration": 8,
    "start_time": "2022-05-14T07:49:17.871Z"
   },
   {
    "duration": 23,
    "start_time": "2022-05-14T07:49:17.881Z"
   },
   {
    "duration": 17,
    "start_time": "2022-05-14T07:49:17.906Z"
   },
   {
    "duration": 21,
    "start_time": "2022-05-14T07:49:17.925Z"
   },
   {
    "duration": 9,
    "start_time": "2022-05-14T07:49:17.948Z"
   },
   {
    "duration": 10,
    "start_time": "2022-05-14T07:49:17.959Z"
   },
   {
    "duration": 12,
    "start_time": "2022-05-14T07:49:17.971Z"
   },
   {
    "duration": 18,
    "start_time": "2022-05-14T07:49:17.985Z"
   },
   {
    "duration": 19,
    "start_time": "2022-05-14T07:49:18.005Z"
   },
   {
    "duration": 14,
    "start_time": "2022-05-14T07:49:18.026Z"
   },
   {
    "duration": 10,
    "start_time": "2022-05-14T07:49:18.042Z"
   },
   {
    "duration": 22,
    "start_time": "2022-05-14T07:49:18.054Z"
   },
   {
    "duration": 42,
    "start_time": "2022-05-14T07:49:18.080Z"
   },
   {
    "duration": 36,
    "start_time": "2022-05-14T07:49:18.124Z"
   },
   {
    "duration": 16,
    "start_time": "2022-05-14T07:49:18.162Z"
   },
   {
    "duration": 42,
    "start_time": "2022-05-14T07:49:18.181Z"
   },
   {
    "duration": 23,
    "start_time": "2022-05-14T07:49:18.226Z"
   },
   {
    "duration": 12,
    "start_time": "2022-05-14T07:49:18.251Z"
   },
   {
    "duration": 23,
    "start_time": "2022-05-14T07:49:18.266Z"
   },
   {
    "duration": 179,
    "start_time": "2022-05-14T07:49:18.324Z"
   },
   {
    "duration": 22,
    "start_time": "2022-05-14T07:49:18.505Z"
   },
   {
    "duration": 1385,
    "start_time": "2022-05-14T07:49:18.529Z"
   },
   {
    "duration": 130,
    "start_time": "2022-05-14T07:54:21.343Z"
   },
   {
    "duration": 47,
    "start_time": "2022-05-14T07:55:35.786Z"
   },
   {
    "duration": 94,
    "start_time": "2022-05-14T07:55:51.492Z"
   },
   {
    "duration": 13,
    "start_time": "2022-05-14T07:55:51.588Z"
   },
   {
    "duration": 18,
    "start_time": "2022-05-14T07:55:51.623Z"
   },
   {
    "duration": 17,
    "start_time": "2022-05-14T07:55:51.643Z"
   },
   {
    "duration": 17,
    "start_time": "2022-05-14T07:55:51.662Z"
   },
   {
    "duration": 8,
    "start_time": "2022-05-14T07:55:51.681Z"
   },
   {
    "duration": 56,
    "start_time": "2022-05-14T07:55:51.691Z"
   },
   {
    "duration": 8,
    "start_time": "2022-05-14T07:55:51.748Z"
   },
   {
    "duration": 6,
    "start_time": "2022-05-14T07:55:51.758Z"
   },
   {
    "duration": 10,
    "start_time": "2022-05-14T07:55:51.766Z"
   },
   {
    "duration": 5,
    "start_time": "2022-05-14T07:55:51.778Z"
   },
   {
    "duration": 47,
    "start_time": "2022-05-14T07:55:51.785Z"
   },
   {
    "duration": 8,
    "start_time": "2022-05-14T07:55:51.835Z"
   },
   {
    "duration": 9,
    "start_time": "2022-05-14T07:55:51.847Z"
   },
   {
    "duration": 10,
    "start_time": "2022-05-14T07:55:51.858Z"
   },
   {
    "duration": 4,
    "start_time": "2022-05-14T07:55:51.870Z"
   },
   {
    "duration": 49,
    "start_time": "2022-05-14T07:55:51.876Z"
   },
   {
    "duration": 11,
    "start_time": "2022-05-14T07:55:51.927Z"
   },
   {
    "duration": 9,
    "start_time": "2022-05-14T07:55:51.940Z"
   },
   {
    "duration": 10,
    "start_time": "2022-05-14T07:55:51.951Z"
   },
   {
    "duration": 7,
    "start_time": "2022-05-14T07:55:51.963Z"
   },
   {
    "duration": 57,
    "start_time": "2022-05-14T07:55:51.972Z"
   },
   {
    "duration": 9,
    "start_time": "2022-05-14T07:55:52.031Z"
   },
   {
    "duration": 5,
    "start_time": "2022-05-14T07:55:52.043Z"
   },
   {
    "duration": 9,
    "start_time": "2022-05-14T07:55:52.050Z"
   },
   {
    "duration": 8,
    "start_time": "2022-05-14T07:55:52.061Z"
   },
   {
    "duration": 59,
    "start_time": "2022-05-14T07:55:52.071Z"
   },
   {
    "duration": 22,
    "start_time": "2022-05-14T07:55:52.132Z"
   },
   {
    "duration": 72,
    "start_time": "2022-05-14T07:55:52.156Z"
   },
   {
    "duration": 24,
    "start_time": "2022-05-14T07:55:52.230Z"
   },
   {
    "duration": 20,
    "start_time": "2022-05-14T07:55:52.255Z"
   },
   {
    "duration": 48,
    "start_time": "2022-05-14T07:55:52.276Z"
   },
   {
    "duration": 17,
    "start_time": "2022-05-14T07:55:52.326Z"
   },
   {
    "duration": 19,
    "start_time": "2022-05-14T07:55:52.345Z"
   },
   {
    "duration": 170,
    "start_time": "2022-05-14T07:55:56.734Z"
   },
   {
    "duration": 43,
    "start_time": "2022-05-14T08:00:12.750Z"
   },
   {
    "duration": 26,
    "start_time": "2022-05-14T08:00:40.082Z"
   },
   {
    "duration": 18,
    "start_time": "2022-05-14T08:05:20.128Z"
   },
   {
    "duration": 79,
    "start_time": "2022-05-14T08:06:01.205Z"
   },
   {
    "duration": 16,
    "start_time": "2022-05-14T08:08:27.202Z"
   },
   {
    "duration": 39,
    "start_time": "2022-05-14T08:08:36.031Z"
   },
   {
    "duration": 38,
    "start_time": "2022-05-14T08:08:58.232Z"
   },
   {
    "duration": 17,
    "start_time": "2022-05-14T08:09:30.645Z"
   },
   {
    "duration": 33,
    "start_time": "2022-05-14T08:09:47.077Z"
   },
   {
    "duration": 26,
    "start_time": "2022-05-14T08:10:10.302Z"
   },
   {
    "duration": 40,
    "start_time": "2022-05-14T08:10:45.486Z"
   },
   {
    "duration": 26,
    "start_time": "2022-05-14T08:14:05.016Z"
   },
   {
    "duration": 26,
    "start_time": "2022-05-14T08:14:21.331Z"
   },
   {
    "duration": 21,
    "start_time": "2022-05-14T08:15:25.427Z"
   },
   {
    "duration": 21,
    "start_time": "2022-05-14T08:15:48.148Z"
   },
   {
    "duration": 19,
    "start_time": "2022-05-14T08:16:00.823Z"
   },
   {
    "duration": 19,
    "start_time": "2022-05-14T08:16:57.405Z"
   },
   {
    "duration": 17,
    "start_time": "2022-05-14T08:17:14.057Z"
   },
   {
    "duration": 17,
    "start_time": "2022-05-14T08:17:59.699Z"
   },
   {
    "duration": 25,
    "start_time": "2022-05-14T08:18:19.621Z"
   },
   {
    "duration": 19,
    "start_time": "2022-05-14T08:19:25.771Z"
   },
   {
    "duration": 18,
    "start_time": "2022-05-14T08:20:26.486Z"
   },
   {
    "duration": 18,
    "start_time": "2022-05-14T08:20:39.099Z"
   },
   {
    "duration": 19,
    "start_time": "2022-05-14T08:23:22.891Z"
   },
   {
    "duration": 25,
    "start_time": "2022-05-14T08:23:33.824Z"
   },
   {
    "duration": 25,
    "start_time": "2022-05-14T08:23:39.126Z"
   },
   {
    "duration": 115,
    "start_time": "2022-05-14T08:24:02.495Z"
   },
   {
    "duration": 18,
    "start_time": "2022-05-14T08:28:53.501Z"
   },
   {
    "duration": 10,
    "start_time": "2022-05-14T08:32:58.912Z"
   },
   {
    "duration": 17,
    "start_time": "2022-05-14T08:39:24.886Z"
   },
   {
    "duration": 25,
    "start_time": "2022-05-14T08:40:03.218Z"
   },
   {
    "duration": 8,
    "start_time": "2022-05-14T08:40:24.732Z"
   },
   {
    "duration": 8,
    "start_time": "2022-05-14T08:42:34.760Z"
   },
   {
    "duration": 13,
    "start_time": "2022-05-14T08:42:41.251Z"
   },
   {
    "duration": 12,
    "start_time": "2022-05-14T08:42:56.012Z"
   },
   {
    "duration": 15,
    "start_time": "2022-05-14T08:43:21.770Z"
   },
   {
    "duration": 10,
    "start_time": "2022-05-14T08:43:43.466Z"
   },
   {
    "duration": 21,
    "start_time": "2022-05-14T08:44:09.167Z"
   },
   {
    "duration": 122,
    "start_time": "2022-05-14T08:45:10.927Z"
   },
   {
    "duration": 104,
    "start_time": "2022-05-14T08:46:08.039Z"
   },
   {
    "duration": 3620,
    "start_time": "2022-05-14T08:47:18.389Z"
   },
   {
    "duration": 17,
    "start_time": "2022-05-14T08:47:32.617Z"
   },
   {
    "duration": 17,
    "start_time": "2022-05-14T08:48:24.075Z"
   },
   {
    "duration": 105,
    "start_time": "2022-05-14T08:49:32.868Z"
   },
   {
    "duration": 100,
    "start_time": "2022-05-14T08:50:42.615Z"
   },
   {
    "duration": 104,
    "start_time": "2022-05-14T08:52:37.693Z"
   },
   {
    "duration": 214,
    "start_time": "2022-05-14T08:52:42.033Z"
   },
   {
    "duration": 124,
    "start_time": "2022-05-14T08:52:54.937Z"
   },
   {
    "duration": 129,
    "start_time": "2022-05-14T08:53:11.288Z"
   },
   {
    "duration": 117,
    "start_time": "2022-05-14T08:54:01.551Z"
   },
   {
    "duration": 115,
    "start_time": "2022-05-14T08:55:42.557Z"
   },
   {
    "duration": 120,
    "start_time": "2022-05-14T08:55:57.466Z"
   },
   {
    "duration": 22,
    "start_time": "2022-05-14T08:56:11.011Z"
   },
   {
    "duration": 124,
    "start_time": "2022-05-14T08:56:12.769Z"
   },
   {
    "duration": 3621,
    "start_time": "2022-05-14T08:59:28.322Z"
   },
   {
    "duration": 3450,
    "start_time": "2022-05-14T08:59:32.680Z"
   },
   {
    "duration": 3117,
    "start_time": "2022-05-14T08:59:39.797Z"
   },
   {
    "duration": 77,
    "start_time": "2022-05-14T08:59:46.333Z"
   },
   {
    "duration": 15,
    "start_time": "2022-05-14T08:59:46.412Z"
   },
   {
    "duration": 22,
    "start_time": "2022-05-14T08:59:46.430Z"
   },
   {
    "duration": 14,
    "start_time": "2022-05-14T08:59:46.454Z"
   },
   {
    "duration": 33,
    "start_time": "2022-05-14T08:59:46.471Z"
   },
   {
    "duration": 17,
    "start_time": "2022-05-14T08:59:46.506Z"
   },
   {
    "duration": 28,
    "start_time": "2022-05-14T08:59:46.526Z"
   },
   {
    "duration": 7,
    "start_time": "2022-05-14T08:59:46.555Z"
   },
   {
    "duration": 6,
    "start_time": "2022-05-14T08:59:46.564Z"
   },
   {
    "duration": 10,
    "start_time": "2022-05-14T08:59:46.571Z"
   },
   {
    "duration": 5,
    "start_time": "2022-05-14T08:59:46.583Z"
   },
   {
    "duration": 9,
    "start_time": "2022-05-14T08:59:46.624Z"
   },
   {
    "duration": 7,
    "start_time": "2022-05-14T08:59:46.636Z"
   },
   {
    "duration": 11,
    "start_time": "2022-05-14T08:59:46.647Z"
   },
   {
    "duration": 7,
    "start_time": "2022-05-14T08:59:46.660Z"
   },
   {
    "duration": 8,
    "start_time": "2022-05-14T08:59:46.669Z"
   },
   {
    "duration": 9,
    "start_time": "2022-05-14T08:59:46.678Z"
   },
   {
    "duration": 46,
    "start_time": "2022-05-14T08:59:46.689Z"
   },
   {
    "duration": 10,
    "start_time": "2022-05-14T08:59:46.737Z"
   },
   {
    "duration": 9,
    "start_time": "2022-05-14T08:59:46.749Z"
   },
   {
    "duration": 13,
    "start_time": "2022-05-14T09:00:07.245Z"
   },
   {
    "duration": 7,
    "start_time": "2022-05-14T09:00:57.654Z"
   },
   {
    "duration": 10,
    "start_time": "2022-05-14T09:01:59.227Z"
   },
   {
    "duration": 206,
    "start_time": "2022-05-14T09:02:26.366Z"
   },
   {
    "duration": 9,
    "start_time": "2022-05-14T09:02:32.218Z"
   },
   {
    "duration": 26,
    "start_time": "2022-05-14T09:03:43.509Z"
   },
   {
    "duration": 93,
    "start_time": "2022-05-14T09:04:37.843Z"
   },
   {
    "duration": 18,
    "start_time": "2022-05-14T09:04:37.939Z"
   },
   {
    "duration": 16,
    "start_time": "2022-05-14T09:04:37.959Z"
   },
   {
    "duration": 16,
    "start_time": "2022-05-14T09:04:37.977Z"
   },
   {
    "duration": 39,
    "start_time": "2022-05-14T09:04:37.995Z"
   },
   {
    "duration": 8,
    "start_time": "2022-05-14T09:04:38.036Z"
   },
   {
    "duration": 25,
    "start_time": "2022-05-14T09:04:38.045Z"
   },
   {
    "duration": 6,
    "start_time": "2022-05-14T09:04:38.072Z"
   },
   {
    "duration": 8,
    "start_time": "2022-05-14T09:04:38.080Z"
   },
   {
    "duration": 43,
    "start_time": "2022-05-14T09:04:38.090Z"
   },
   {
    "duration": 7,
    "start_time": "2022-05-14T09:04:38.135Z"
   },
   {
    "duration": 6,
    "start_time": "2022-05-14T09:04:38.144Z"
   },
   {
    "duration": 7,
    "start_time": "2022-05-14T09:04:38.152Z"
   },
   {
    "duration": 10,
    "start_time": "2022-05-14T09:04:38.163Z"
   },
   {
    "duration": 50,
    "start_time": "2022-05-14T09:04:38.175Z"
   },
   {
    "duration": 6,
    "start_time": "2022-05-14T09:04:38.227Z"
   },
   {
    "duration": 9,
    "start_time": "2022-05-14T09:04:38.235Z"
   },
   {
    "duration": 12,
    "start_time": "2022-05-14T09:04:38.246Z"
   },
   {
    "duration": 11,
    "start_time": "2022-05-14T09:04:38.260Z"
   },
   {
    "duration": 52,
    "start_time": "2022-05-14T09:04:38.273Z"
   },
   {
    "duration": 7,
    "start_time": "2022-05-14T09:04:38.327Z"
   },
   {
    "duration": 13,
    "start_time": "2022-05-14T09:04:38.336Z"
   },
   {
    "duration": 6,
    "start_time": "2022-05-14T09:04:38.350Z"
   },
   {
    "duration": 6,
    "start_time": "2022-05-14T09:04:38.358Z"
   },
   {
    "duration": 12,
    "start_time": "2022-05-14T09:04:38.366Z"
   },
   {
    "duration": 44,
    "start_time": "2022-05-14T09:04:38.380Z"
   },
   {
    "duration": 20,
    "start_time": "2022-05-14T09:04:38.426Z"
   },
   {
    "duration": 20,
    "start_time": "2022-05-14T09:04:38.448Z"
   },
   {
    "duration": 77,
    "start_time": "2022-05-14T09:04:38.469Z"
   },
   {
    "duration": 26,
    "start_time": "2022-05-14T09:04:38.548Z"
   },
   {
    "duration": 20,
    "start_time": "2022-05-14T09:04:38.576Z"
   },
   {
    "duration": 52,
    "start_time": "2022-05-14T09:04:38.599Z"
   },
   {
    "duration": 12,
    "start_time": "2022-05-14T09:04:38.653Z"
   },
   {
    "duration": 22,
    "start_time": "2022-05-14T09:04:38.667Z"
   },
   {
    "duration": 206,
    "start_time": "2022-05-14T09:04:38.691Z"
   },
   {
    "duration": 25,
    "start_time": "2022-05-14T09:04:38.899Z"
   },
   {
    "duration": 132,
    "start_time": "2022-05-14T09:04:38.926Z"
   },
   {
    "duration": 20,
    "start_time": "2022-05-14T09:04:39.059Z"
   },
   {
    "duration": 132,
    "start_time": "2022-05-14T09:04:39.081Z"
   },
   {
    "duration": 17,
    "start_time": "2022-05-14T09:04:44.346Z"
   },
   {
    "duration": 31,
    "start_time": "2022-05-14T09:04:58.180Z"
   },
   {
    "duration": 1678,
    "start_time": "2022-05-14T09:05:12.882Z"
   },
   {
    "duration": 21,
    "start_time": "2022-05-14T09:06:29.315Z"
   },
   {
    "duration": 22,
    "start_time": "2022-05-14T09:06:41.634Z"
   },
   {
    "duration": 23,
    "start_time": "2022-05-14T09:07:33.528Z"
   },
   {
    "duration": 22,
    "start_time": "2022-05-14T09:07:42.881Z"
   },
   {
    "duration": 21,
    "start_time": "2022-05-14T09:08:04.282Z"
   },
   {
    "duration": 24,
    "start_time": "2022-05-14T09:08:32.455Z"
   },
   {
    "duration": 3184,
    "start_time": "2022-05-14T09:08:44.696Z"
   },
   {
    "duration": 30,
    "start_time": "2022-05-14T09:09:45.991Z"
   },
   {
    "duration": 17,
    "start_time": "2022-05-14T09:10:52.977Z"
   },
   {
    "duration": 17,
    "start_time": "2022-05-14T09:11:34.984Z"
   },
   {
    "duration": 22,
    "start_time": "2022-05-14T09:11:46.064Z"
   },
   {
    "duration": 24,
    "start_time": "2022-05-14T09:12:28.316Z"
   },
   {
    "duration": 22,
    "start_time": "2022-05-14T09:12:42.211Z"
   },
   {
    "duration": 22,
    "start_time": "2022-05-14T09:13:21.504Z"
   },
   {
    "duration": 23,
    "start_time": "2022-05-14T09:13:28.597Z"
   },
   {
    "duration": 25,
    "start_time": "2022-05-14T09:14:20.462Z"
   },
   {
    "duration": 3306,
    "start_time": "2022-05-14T09:14:41.923Z"
   },
   {
    "duration": 23,
    "start_time": "2022-05-14T09:15:00.010Z"
   },
   {
    "duration": 22,
    "start_time": "2022-05-14T09:15:48.699Z"
   },
   {
    "duration": 126,
    "start_time": "2022-05-14T09:16:24.184Z"
   },
   {
    "duration": 24,
    "start_time": "2022-05-14T09:18:03.011Z"
   },
   {
    "duration": 132,
    "start_time": "2022-05-14T09:20:12.459Z"
   },
   {
    "duration": 23,
    "start_time": "2022-05-14T09:21:54.668Z"
   },
   {
    "duration": 23,
    "start_time": "2022-05-14T09:22:17.309Z"
   },
   {
    "duration": 24,
    "start_time": "2022-05-14T09:22:58.589Z"
   },
   {
    "duration": 223,
    "start_time": "2022-05-14T09:23:03.324Z"
   },
   {
    "duration": 19,
    "start_time": "2022-05-14T09:23:18.383Z"
   },
   {
    "duration": 130,
    "start_time": "2022-05-14T09:23:21.167Z"
   },
   {
    "duration": 18,
    "start_time": "2022-05-14T09:23:31.791Z"
   },
   {
    "duration": 24,
    "start_time": "2022-05-14T09:23:36.152Z"
   },
   {
    "duration": 128,
    "start_time": "2022-05-14T09:23:53.522Z"
   },
   {
    "duration": 19,
    "start_time": "2022-05-14T09:29:00.691Z"
   },
   {
    "duration": 15,
    "start_time": "2022-05-14T09:29:58.012Z"
   },
   {
    "duration": 14,
    "start_time": "2022-05-14T09:30:14.411Z"
   },
   {
    "duration": 17,
    "start_time": "2022-05-14T09:30:33.198Z"
   },
   {
    "duration": 15,
    "start_time": "2022-05-14T09:30:57.759Z"
   },
   {
    "duration": 21,
    "start_time": "2022-05-14T09:31:03.529Z"
   },
   {
    "duration": 25,
    "start_time": "2022-05-14T09:31:29.009Z"
   },
   {
    "duration": 20,
    "start_time": "2022-05-14T09:31:45.306Z"
   },
   {
    "duration": 21,
    "start_time": "2022-05-14T09:32:37.153Z"
   },
   {
    "duration": 116,
    "start_time": "2022-05-14T09:33:16.338Z"
   },
   {
    "duration": 188,
    "start_time": "2022-05-14T09:34:31.739Z"
   },
   {
    "duration": 20,
    "start_time": "2022-05-14T09:34:41.498Z"
   },
   {
    "duration": 22,
    "start_time": "2022-05-14T09:36:06.279Z"
   },
   {
    "duration": 21,
    "start_time": "2022-05-14T09:37:01.458Z"
   },
   {
    "duration": 23,
    "start_time": "2022-05-14T09:38:55.541Z"
   },
   {
    "duration": 4,
    "start_time": "2022-05-14T09:40:09.383Z"
   },
   {
    "duration": 4,
    "start_time": "2022-05-14T09:40:22.254Z"
   },
   {
    "duration": 24,
    "start_time": "2022-05-14T09:40:56.306Z"
   },
   {
    "duration": 21,
    "start_time": "2022-05-14T09:41:32.772Z"
   },
   {
    "duration": 129,
    "start_time": "2022-05-14T09:42:04.223Z"
   },
   {
    "duration": 3400,
    "start_time": "2022-05-14T09:42:36.588Z"
   },
   {
    "duration": 23,
    "start_time": "2022-05-14T09:43:29.433Z"
   },
   {
    "duration": 3318,
    "start_time": "2022-05-14T09:43:33.615Z"
   },
   {
    "duration": 17,
    "start_time": "2022-05-14T09:44:01.004Z"
   },
   {
    "duration": 1759,
    "start_time": "2022-05-14T09:44:40.569Z"
   },
   {
    "duration": 21,
    "start_time": "2022-05-14T09:44:49.751Z"
   },
   {
    "duration": 118,
    "start_time": "2022-05-14T09:45:00.067Z"
   },
   {
    "duration": 26,
    "start_time": "2022-05-14T09:53:12.370Z"
   },
   {
    "duration": 121,
    "start_time": "2022-05-14T09:53:14.584Z"
   },
   {
    "duration": 26,
    "start_time": "2022-05-14T09:53:16.643Z"
   },
   {
    "duration": 135,
    "start_time": "2022-05-14T09:53:17.286Z"
   },
   {
    "duration": 225,
    "start_time": "2022-05-14T09:55:58.482Z"
   },
   {
    "duration": 24,
    "start_time": "2022-05-14T09:56:04.243Z"
   },
   {
    "duration": 185,
    "start_time": "2022-05-14T09:56:11.239Z"
   },
   {
    "duration": 27,
    "start_time": "2022-05-14T09:56:15.879Z"
   },
   {
    "duration": 18,
    "start_time": "2022-05-14T09:57:09.470Z"
   },
   {
    "duration": 23,
    "start_time": "2022-05-14T09:57:45.314Z"
   },
   {
    "duration": 19,
    "start_time": "2022-05-14T09:58:04.145Z"
   },
   {
    "duration": 78,
    "start_time": "2022-05-14T09:58:18.033Z"
   },
   {
    "duration": 35,
    "start_time": "2022-05-14T09:58:54.298Z"
   },
   {
    "duration": 33,
    "start_time": "2022-05-14T09:59:14.990Z"
   },
   {
    "duration": 48,
    "start_time": "2022-05-14T09:59:55.037Z"
   },
   {
    "duration": 55,
    "start_time": "2022-05-14T10:00:24.967Z"
   },
   {
    "duration": 36,
    "start_time": "2022-05-14T10:01:01.154Z"
   },
   {
    "duration": 25,
    "start_time": "2022-05-14T10:02:06.236Z"
   },
   {
    "duration": 25,
    "start_time": "2022-05-14T10:02:23.038Z"
   },
   {
    "duration": 18,
    "start_time": "2022-05-14T10:02:50.774Z"
   },
   {
    "duration": 45,
    "start_time": "2022-05-14T10:03:06.974Z"
   },
   {
    "duration": 25,
    "start_time": "2022-05-14T10:04:20.471Z"
   },
   {
    "duration": 24,
    "start_time": "2022-05-14T10:04:44.337Z"
   },
   {
    "duration": 30,
    "start_time": "2022-05-14T10:04:50.058Z"
   },
   {
    "duration": 31,
    "start_time": "2022-05-14T10:07:23.641Z"
   },
   {
    "duration": 26,
    "start_time": "2022-05-14T10:07:42.937Z"
   },
   {
    "duration": 26,
    "start_time": "2022-05-14T10:08:08.465Z"
   },
   {
    "duration": 28,
    "start_time": "2022-05-14T10:08:27.706Z"
   },
   {
    "duration": 30,
    "start_time": "2022-05-14T10:08:34.669Z"
   },
   {
    "duration": 32,
    "start_time": "2022-05-14T10:09:08.351Z"
   },
   {
    "duration": 29,
    "start_time": "2022-05-14T10:09:24.103Z"
   },
   {
    "duration": 24,
    "start_time": "2022-05-14T10:09:38.580Z"
   },
   {
    "duration": 25,
    "start_time": "2022-05-14T10:09:47.199Z"
   },
   {
    "duration": 20,
    "start_time": "2022-05-14T10:10:02.002Z"
   },
   {
    "duration": 18,
    "start_time": "2022-05-14T10:10:32.469Z"
   },
   {
    "duration": 21,
    "start_time": "2022-05-14T10:11:01.716Z"
   },
   {
    "duration": 20,
    "start_time": "2022-05-14T10:11:20.126Z"
   },
   {
    "duration": 26,
    "start_time": "2022-05-14T10:12:40.273Z"
   },
   {
    "duration": 23,
    "start_time": "2022-05-14T10:12:56.907Z"
   },
   {
    "duration": 26,
    "start_time": "2022-05-14T10:13:25.568Z"
   },
   {
    "duration": 21,
    "start_time": "2022-05-14T10:13:36.641Z"
   },
   {
    "duration": 18,
    "start_time": "2022-05-14T10:13:53.175Z"
   },
   {
    "duration": 18,
    "start_time": "2022-05-14T10:13:59.336Z"
   },
   {
    "duration": 19,
    "start_time": "2022-05-14T10:15:25.259Z"
   },
   {
    "duration": 52,
    "start_time": "2022-05-14T10:15:37.871Z"
   },
   {
    "duration": 23,
    "start_time": "2022-05-14T10:15:57.771Z"
   },
   {
    "duration": 18,
    "start_time": "2022-05-14T10:16:06.931Z"
   },
   {
    "duration": 35,
    "start_time": "2022-05-14T10:16:40.980Z"
   },
   {
    "duration": 21,
    "start_time": "2022-05-14T10:16:53.467Z"
   },
   {
    "duration": 18,
    "start_time": "2022-05-14T10:17:46.659Z"
   },
   {
    "duration": 23,
    "start_time": "2022-05-14T10:19:10.904Z"
   },
   {
    "duration": 4872,
    "start_time": "2022-05-14T10:20:21.982Z"
   },
   {
    "duration": 168,
    "start_time": "2022-05-14T10:21:41.105Z"
   },
   {
    "duration": 122,
    "start_time": "2022-05-14T10:23:27.145Z"
   },
   {
    "duration": 654,
    "start_time": "2022-05-15T11:12:51.352Z"
   },
   {
    "duration": 33,
    "start_time": "2022-05-15T11:12:52.009Z"
   },
   {
    "duration": 18,
    "start_time": "2022-05-15T11:12:52.045Z"
   },
   {
    "duration": 45,
    "start_time": "2022-05-15T11:12:52.067Z"
   },
   {
    "duration": 22,
    "start_time": "2022-05-15T11:12:52.114Z"
   },
   {
    "duration": 8,
    "start_time": "2022-05-15T11:12:52.138Z"
   },
   {
    "duration": 67,
    "start_time": "2022-05-15T11:12:52.148Z"
   },
   {
    "duration": 9,
    "start_time": "2022-05-15T11:12:52.217Z"
   },
   {
    "duration": 9,
    "start_time": "2022-05-15T11:12:52.228Z"
   },
   {
    "duration": 58,
    "start_time": "2022-05-15T11:12:52.243Z"
   },
   {
    "duration": 9,
    "start_time": "2022-05-15T11:12:52.303Z"
   },
   {
    "duration": 11,
    "start_time": "2022-05-15T11:12:52.315Z"
   },
   {
    "duration": 10,
    "start_time": "2022-05-15T11:12:52.329Z"
   },
   {
    "duration": 56,
    "start_time": "2022-05-15T11:12:52.341Z"
   },
   {
    "duration": 12,
    "start_time": "2022-05-15T11:12:52.399Z"
   },
   {
    "duration": 6,
    "start_time": "2022-05-15T11:12:52.413Z"
   },
   {
    "duration": 12,
    "start_time": "2022-05-15T11:12:52.422Z"
   },
   {
    "duration": 15,
    "start_time": "2022-05-15T11:12:52.436Z"
   },
   {
    "duration": 16,
    "start_time": "2022-05-15T11:12:52.493Z"
   },
   {
    "duration": 15,
    "start_time": "2022-05-15T11:12:52.513Z"
   },
   {
    "duration": 10,
    "start_time": "2022-05-15T11:12:52.530Z"
   },
   {
    "duration": 58,
    "start_time": "2022-05-15T11:12:52.543Z"
   },
   {
    "duration": 10,
    "start_time": "2022-05-15T11:12:52.605Z"
   },
   {
    "duration": 7,
    "start_time": "2022-05-15T11:12:52.617Z"
   },
   {
    "duration": 13,
    "start_time": "2022-05-15T11:12:52.626Z"
   },
   {
    "duration": 52,
    "start_time": "2022-05-15T11:12:52.641Z"
   },
   {
    "duration": 23,
    "start_time": "2022-05-15T11:12:52.695Z"
   },
   {
    "duration": 27,
    "start_time": "2022-05-15T11:12:52.723Z"
   },
   {
    "duration": 87,
    "start_time": "2022-05-15T11:12:52.752Z"
   },
   {
    "duration": 21,
    "start_time": "2022-05-15T11:12:52.841Z"
   },
   {
    "duration": 47,
    "start_time": "2022-05-15T11:12:52.865Z"
   },
   {
    "duration": 30,
    "start_time": "2022-05-15T11:12:52.914Z"
   },
   {
    "duration": 48,
    "start_time": "2022-05-15T11:12:52.947Z"
   },
   {
    "duration": 52,
    "start_time": "2022-05-15T11:12:52.999Z"
   },
   {
    "duration": 318,
    "start_time": "2022-05-15T11:12:53.054Z"
   },
   {
    "duration": 5,
    "start_time": "2022-05-15T11:13:42.865Z"
   },
   {
    "duration": 6,
    "start_time": "2022-05-15T11:13:54.217Z"
   },
   {
    "duration": 5,
    "start_time": "2022-05-15T11:15:31.359Z"
   },
   {
    "duration": 6,
    "start_time": "2022-05-15T11:15:47.085Z"
   },
   {
    "duration": 152,
    "start_time": "2022-05-15T11:16:05.820Z"
   },
   {
    "duration": 35,
    "start_time": "2022-05-15T11:16:05.975Z"
   },
   {
    "duration": 18,
    "start_time": "2022-05-15T11:16:06.013Z"
   },
   {
    "duration": 21,
    "start_time": "2022-05-15T11:16:06.033Z"
   },
   {
    "duration": 21,
    "start_time": "2022-05-15T11:16:06.092Z"
   },
   {
    "duration": 9,
    "start_time": "2022-05-15T11:16:06.115Z"
   },
   {
    "duration": 68,
    "start_time": "2022-05-15T11:16:06.126Z"
   },
   {
    "duration": 9,
    "start_time": "2022-05-15T11:16:06.197Z"
   },
   {
    "duration": 11,
    "start_time": "2022-05-15T11:16:06.209Z"
   },
   {
    "duration": 21,
    "start_time": "2022-05-15T11:16:06.224Z"
   },
   {
    "duration": 7,
    "start_time": "2022-05-15T11:16:06.247Z"
   },
   {
    "duration": 9,
    "start_time": "2022-05-15T11:16:06.292Z"
   },
   {
    "duration": 15,
    "start_time": "2022-05-15T11:16:06.303Z"
   },
   {
    "duration": 13,
    "start_time": "2022-05-15T11:16:06.326Z"
   },
   {
    "duration": 55,
    "start_time": "2022-05-15T11:16:06.342Z"
   },
   {
    "duration": 7,
    "start_time": "2022-05-15T11:16:06.400Z"
   },
   {
    "duration": 19,
    "start_time": "2022-05-15T11:16:06.410Z"
   },
   {
    "duration": 12,
    "start_time": "2022-05-15T11:16:06.432Z"
   },
   {
    "duration": 52,
    "start_time": "2022-05-15T11:16:06.448Z"
   },
   {
    "duration": 12,
    "start_time": "2022-05-15T11:16:06.504Z"
   },
   {
    "duration": 8,
    "start_time": "2022-05-15T11:16:06.519Z"
   },
   {
    "duration": 62,
    "start_time": "2022-05-15T11:16:06.530Z"
   },
   {
    "duration": 9,
    "start_time": "2022-05-15T11:16:06.595Z"
   },
   {
    "duration": 14,
    "start_time": "2022-05-15T11:16:06.606Z"
   },
   {
    "duration": 19,
    "start_time": "2022-05-15T11:16:06.623Z"
   },
   {
    "duration": 49,
    "start_time": "2022-05-15T11:16:06.644Z"
   },
   {
    "duration": 32,
    "start_time": "2022-05-15T11:16:06.696Z"
   },
   {
    "duration": 32,
    "start_time": "2022-05-15T11:16:06.731Z"
   },
   {
    "duration": 72,
    "start_time": "2022-05-15T11:16:06.794Z"
   },
   {
    "duration": 56,
    "start_time": "2022-05-15T11:16:06.869Z"
   },
   {
    "duration": 44,
    "start_time": "2022-05-15T11:16:06.928Z"
   },
   {
    "duration": 31,
    "start_time": "2022-05-15T11:16:06.993Z"
   },
   {
    "duration": 17,
    "start_time": "2022-05-15T11:16:07.027Z"
   },
   {
    "duration": 63,
    "start_time": "2022-05-15T11:16:07.047Z"
   },
   {
    "duration": 297,
    "start_time": "2022-05-15T11:16:07.112Z"
   },
   {
    "duration": 6,
    "start_time": "2022-05-15T11:16:09.681Z"
   },
   {
    "duration": 10,
    "start_time": "2022-05-15T11:16:47.060Z"
   },
   {
    "duration": 182,
    "start_time": "2022-05-15T11:16:59.413Z"
   },
   {
    "duration": 24,
    "start_time": "2022-05-15T11:17:09.409Z"
   },
   {
    "duration": 34,
    "start_time": "2022-05-15T11:17:25.363Z"
   },
   {
    "duration": 11,
    "start_time": "2022-05-15T11:17:36.766Z"
   },
   {
    "duration": 47,
    "start_time": "2022-05-15T11:18:01.994Z"
   },
   {
    "duration": 9,
    "start_time": "2022-05-15T11:20:29.723Z"
   },
   {
    "duration": 9,
    "start_time": "2022-05-15T11:20:37.785Z"
   },
   {
    "duration": 17,
    "start_time": "2022-05-15T11:20:52.010Z"
   },
   {
    "duration": 9,
    "start_time": "2022-05-15T11:21:50.490Z"
   },
   {
    "duration": 14,
    "start_time": "2022-05-15T11:21:59.945Z"
   },
   {
    "duration": 13,
    "start_time": "2022-05-15T11:22:38.170Z"
   },
   {
    "duration": 18,
    "start_time": "2022-05-15T11:22:53.104Z"
   },
   {
    "duration": 15,
    "start_time": "2022-05-15T11:23:09.730Z"
   },
   {
    "duration": 107,
    "start_time": "2022-05-15T11:23:20.162Z"
   },
   {
    "duration": 22,
    "start_time": "2022-05-15T11:23:20.292Z"
   },
   {
    "duration": 25,
    "start_time": "2022-05-15T11:23:20.317Z"
   },
   {
    "duration": 21,
    "start_time": "2022-05-15T11:23:20.345Z"
   },
   {
    "duration": 32,
    "start_time": "2022-05-15T11:23:20.395Z"
   },
   {
    "duration": 11,
    "start_time": "2022-05-15T11:23:20.430Z"
   },
   {
    "duration": 76,
    "start_time": "2022-05-15T11:23:20.444Z"
   },
   {
    "duration": 11,
    "start_time": "2022-05-15T11:23:20.523Z"
   },
   {
    "duration": 34,
    "start_time": "2022-05-15T11:23:20.537Z"
   },
   {
    "duration": 16,
    "start_time": "2022-05-15T11:23:20.592Z"
   },
   {
    "duration": 13,
    "start_time": "2022-05-15T11:23:20.610Z"
   },
   {
    "duration": 18,
    "start_time": "2022-05-15T11:23:20.626Z"
   },
   {
    "duration": 21,
    "start_time": "2022-05-15T11:23:20.647Z"
   },
   {
    "duration": 14,
    "start_time": "2022-05-15T11:23:20.694Z"
   },
   {
    "duration": 13,
    "start_time": "2022-05-15T11:23:20.710Z"
   },
   {
    "duration": 15,
    "start_time": "2022-05-15T11:23:20.726Z"
   },
   {
    "duration": 13,
    "start_time": "2022-05-15T11:23:20.743Z"
   },
   {
    "duration": 10,
    "start_time": "2022-05-15T11:23:20.794Z"
   },
   {
    "duration": 13,
    "start_time": "2022-05-15T11:23:20.806Z"
   },
   {
    "duration": 13,
    "start_time": "2022-05-15T11:23:20.822Z"
   },
   {
    "duration": 9,
    "start_time": "2022-05-15T11:23:20.837Z"
   },
   {
    "duration": 15,
    "start_time": "2022-05-15T11:23:20.895Z"
   },
   {
    "duration": 11,
    "start_time": "2022-05-15T11:23:20.912Z"
   },
   {
    "duration": 7,
    "start_time": "2022-05-15T11:23:20.926Z"
   },
   {
    "duration": 58,
    "start_time": "2022-05-15T11:23:20.937Z"
   },
   {
    "duration": 9,
    "start_time": "2022-05-15T11:23:20.997Z"
   },
   {
    "duration": 20,
    "start_time": "2022-05-15T11:23:21.009Z"
   },
   {
    "duration": 60,
    "start_time": "2022-05-15T11:23:21.034Z"
   },
   {
    "duration": 50,
    "start_time": "2022-05-15T11:23:21.097Z"
   },
   {
    "duration": 43,
    "start_time": "2022-05-15T11:23:21.150Z"
   },
   {
    "duration": 24,
    "start_time": "2022-05-15T11:23:21.195Z"
   },
   {
    "duration": 31,
    "start_time": "2022-05-15T11:23:21.222Z"
   },
   {
    "duration": 46,
    "start_time": "2022-05-15T11:23:21.255Z"
   },
   {
    "duration": 44,
    "start_time": "2022-05-15T11:23:21.303Z"
   },
   {
    "duration": 298,
    "start_time": "2022-05-15T11:23:21.350Z"
   },
   {
    "duration": 15,
    "start_time": "2022-05-15T11:23:25.944Z"
   },
   {
    "duration": 30,
    "start_time": "2022-05-15T11:24:01.308Z"
   },
   {
    "duration": 22,
    "start_time": "2022-05-15T11:24:13.226Z"
   },
   {
    "duration": 479,
    "start_time": "2022-05-15T15:33:51.853Z"
   },
   {
    "duration": 18,
    "start_time": "2022-05-15T15:33:52.334Z"
   },
   {
    "duration": 22,
    "start_time": "2022-05-15T15:33:52.354Z"
   },
   {
    "duration": 19,
    "start_time": "2022-05-15T15:33:52.378Z"
   },
   {
    "duration": 15,
    "start_time": "2022-05-15T15:33:52.399Z"
   },
   {
    "duration": 23,
    "start_time": "2022-05-15T15:33:52.416Z"
   },
   {
    "duration": 23,
    "start_time": "2022-05-15T15:33:52.441Z"
   },
   {
    "duration": 8,
    "start_time": "2022-05-15T15:33:52.465Z"
   },
   {
    "duration": 14,
    "start_time": "2022-05-15T15:33:52.474Z"
   },
   {
    "duration": 14,
    "start_time": "2022-05-15T15:33:52.490Z"
   },
   {
    "duration": 11,
    "start_time": "2022-05-15T15:33:52.506Z"
   },
   {
    "duration": 15,
    "start_time": "2022-05-15T15:33:52.519Z"
   },
   {
    "duration": 17,
    "start_time": "2022-05-15T15:33:52.536Z"
   },
   {
    "duration": 16,
    "start_time": "2022-05-15T15:33:52.556Z"
   },
   {
    "duration": 9,
    "start_time": "2022-05-15T15:33:52.573Z"
   },
   {
    "duration": 4,
    "start_time": "2022-05-15T15:33:52.588Z"
   },
   {
    "duration": 12,
    "start_time": "2022-05-15T15:33:52.594Z"
   },
   {
    "duration": 9,
    "start_time": "2022-05-15T15:33:52.608Z"
   },
   {
    "duration": 7,
    "start_time": "2022-05-15T15:33:52.618Z"
   },
   {
    "duration": 8,
    "start_time": "2022-05-15T15:33:52.626Z"
   },
   {
    "duration": 4,
    "start_time": "2022-05-15T15:33:52.636Z"
   },
   {
    "duration": 9,
    "start_time": "2022-05-15T15:33:52.642Z"
   },
   {
    "duration": 36,
    "start_time": "2022-05-15T15:33:52.653Z"
   },
   {
    "duration": 5,
    "start_time": "2022-05-15T15:33:52.691Z"
   },
   {
    "duration": 10,
    "start_time": "2022-05-15T15:33:52.697Z"
   },
   {
    "duration": 5,
    "start_time": "2022-05-15T15:33:52.709Z"
   },
   {
    "duration": 13,
    "start_time": "2022-05-15T15:33:52.715Z"
   },
   {
    "duration": 17,
    "start_time": "2022-05-15T15:33:52.730Z"
   },
   {
    "duration": 64,
    "start_time": "2022-05-15T15:33:52.748Z"
   },
   {
    "duration": 14,
    "start_time": "2022-05-15T15:33:52.814Z"
   },
   {
    "duration": 17,
    "start_time": "2022-05-15T15:33:52.830Z"
   },
   {
    "duration": 50,
    "start_time": "2022-05-15T15:33:52.848Z"
   },
   {
    "duration": 11,
    "start_time": "2022-05-15T15:33:52.900Z"
   },
   {
    "duration": 18,
    "start_time": "2022-05-15T15:33:52.913Z"
   },
   {
    "duration": 166,
    "start_time": "2022-05-15T15:33:52.933Z"
   },
   {
    "duration": 21,
    "start_time": "2022-05-15T15:33:53.100Z"
   },
   {
    "duration": 1052,
    "start_time": "2022-05-15T15:33:53.123Z"
   },
   {
    "duration": 31,
    "start_time": "2022-05-15T15:33:54.177Z"
   },
   {
    "duration": 132,
    "start_time": "2022-05-15T15:33:54.210Z"
   },
   {
    "duration": 1355,
    "start_time": "2022-05-15T15:33:54.344Z"
   },
   {
    "duration": 20,
    "start_time": "2022-05-15T15:33:55.703Z"
   },
   {
    "duration": 127,
    "start_time": "2022-05-15T15:33:55.724Z"
   },
   {
    "duration": 20,
    "start_time": "2022-05-15T15:34:47.570Z"
   },
   {
    "duration": 105,
    "start_time": "2022-05-15T15:34:58.445Z"
   },
   {
    "duration": 23,
    "start_time": "2022-05-15T15:35:07.665Z"
   },
   {
    "duration": 18,
    "start_time": "2022-05-15T15:35:12.406Z"
   },
   {
    "duration": 20,
    "start_time": "2022-05-15T15:35:22.812Z"
   },
   {
    "duration": 22,
    "start_time": "2022-05-15T15:35:34.991Z"
   },
   {
    "duration": 520,
    "start_time": "2022-05-18T08:05:03.763Z"
   },
   {
    "duration": 22,
    "start_time": "2022-05-18T08:05:04.285Z"
   },
   {
    "duration": 10,
    "start_time": "2022-05-18T08:05:04.308Z"
   },
   {
    "duration": 22,
    "start_time": "2022-05-18T08:05:04.320Z"
   },
   {
    "duration": 32,
    "start_time": "2022-05-18T08:05:04.346Z"
   },
   {
    "duration": 14,
    "start_time": "2022-05-18T08:05:04.380Z"
   },
   {
    "duration": 26,
    "start_time": "2022-05-18T08:05:04.396Z"
   },
   {
    "duration": 7,
    "start_time": "2022-05-18T08:05:04.423Z"
   },
   {
    "duration": 23,
    "start_time": "2022-05-18T08:05:04.431Z"
   },
   {
    "duration": 16,
    "start_time": "2022-05-18T08:05:04.455Z"
   },
   {
    "duration": 10,
    "start_time": "2022-05-18T08:05:04.473Z"
   },
   {
    "duration": 15,
    "start_time": "2022-05-18T08:05:04.485Z"
   },
   {
    "duration": 10,
    "start_time": "2022-05-18T08:05:04.501Z"
   },
   {
    "duration": 35,
    "start_time": "2022-05-18T08:05:04.515Z"
   },
   {
    "duration": 16,
    "start_time": "2022-05-18T08:05:04.552Z"
   },
   {
    "duration": 12,
    "start_time": "2022-05-18T08:05:04.570Z"
   },
   {
    "duration": 22,
    "start_time": "2022-05-18T08:05:04.583Z"
   },
   {
    "duration": 14,
    "start_time": "2022-05-18T08:05:04.608Z"
   },
   {
    "duration": 9,
    "start_time": "2022-05-18T08:05:04.624Z"
   },
   {
    "duration": 6,
    "start_time": "2022-05-18T08:05:04.635Z"
   },
   {
    "duration": 28,
    "start_time": "2022-05-18T08:05:04.643Z"
   },
   {
    "duration": 6,
    "start_time": "2022-05-18T08:05:04.673Z"
   },
   {
    "duration": 6,
    "start_time": "2022-05-18T08:05:04.681Z"
   },
   {
    "duration": 10,
    "start_time": "2022-05-18T08:05:04.689Z"
   },
   {
    "duration": 10,
    "start_time": "2022-05-18T08:05:04.701Z"
   },
   {
    "duration": 14,
    "start_time": "2022-05-18T08:05:04.713Z"
   },
   {
    "duration": 50,
    "start_time": "2022-05-18T08:05:04.728Z"
   },
   {
    "duration": 35,
    "start_time": "2022-05-18T08:05:04.779Z"
   },
   {
    "duration": 15,
    "start_time": "2022-05-18T08:05:04.816Z"
   },
   {
    "duration": 45,
    "start_time": "2022-05-18T08:05:04.833Z"
   },
   {
    "duration": 21,
    "start_time": "2022-05-18T08:05:04.880Z"
   },
   {
    "duration": 10,
    "start_time": "2022-05-18T08:05:04.903Z"
   },
   {
    "duration": 26,
    "start_time": "2022-05-18T08:05:04.914Z"
   },
   {
    "duration": 184,
    "start_time": "2022-05-18T08:05:04.965Z"
   },
   {
    "duration": 28,
    "start_time": "2022-05-18T08:05:05.151Z"
   },
   {
    "duration": 867,
    "start_time": "2022-05-18T08:05:05.181Z"
   },
   {
    "duration": 96,
    "start_time": "2022-05-18T08:05:06.049Z"
   },
   {
    "duration": 156,
    "start_time": "2022-05-18T08:05:06.147Z"
   },
   {
    "duration": 23,
    "start_time": "2022-05-18T08:05:06.305Z"
   },
   {
    "duration": 156,
    "start_time": "2022-05-18T08:05:06.330Z"
   },
   {
    "duration": 24,
    "start_time": "2022-05-18T08:05:06.489Z"
   },
   {
    "duration": 158,
    "start_time": "2022-05-18T08:05:06.514Z"
   },
   {
    "duration": 15,
    "start_time": "2022-05-18T08:15:48.783Z"
   },
   {
    "duration": 586,
    "start_time": "2022-05-18T08:17:12.168Z"
   },
   {
    "duration": 23,
    "start_time": "2022-05-18T08:17:12.756Z"
   },
   {
    "duration": 11,
    "start_time": "2022-05-18T08:17:12.781Z"
   },
   {
    "duration": 18,
    "start_time": "2022-05-18T08:17:12.794Z"
   },
   {
    "duration": 15,
    "start_time": "2022-05-18T08:17:12.815Z"
   },
   {
    "duration": 40,
    "start_time": "2022-05-18T08:17:12.831Z"
   },
   {
    "duration": 29,
    "start_time": "2022-05-18T08:17:12.873Z"
   },
   {
    "duration": 6,
    "start_time": "2022-05-18T08:17:12.904Z"
   },
   {
    "duration": 12,
    "start_time": "2022-05-18T08:17:12.912Z"
   },
   {
    "duration": 17,
    "start_time": "2022-05-18T08:17:12.927Z"
   },
   {
    "duration": 22,
    "start_time": "2022-05-18T08:17:12.946Z"
   },
   {
    "duration": 9,
    "start_time": "2022-05-18T08:17:12.970Z"
   },
   {
    "duration": 21,
    "start_time": "2022-05-18T08:17:12.981Z"
   },
   {
    "duration": 23,
    "start_time": "2022-05-18T08:17:13.004Z"
   },
   {
    "duration": 4,
    "start_time": "2022-05-18T08:17:13.030Z"
   },
   {
    "duration": 12,
    "start_time": "2022-05-18T08:17:13.035Z"
   },
   {
    "duration": 7,
    "start_time": "2022-05-18T08:17:13.065Z"
   },
   {
    "duration": 12,
    "start_time": "2022-05-18T08:17:13.074Z"
   },
   {
    "duration": 22,
    "start_time": "2022-05-18T08:17:13.088Z"
   },
   {
    "duration": 5,
    "start_time": "2022-05-18T08:17:13.112Z"
   },
   {
    "duration": 13,
    "start_time": "2022-05-18T08:17:13.118Z"
   },
   {
    "duration": 6,
    "start_time": "2022-05-18T08:17:13.133Z"
   },
   {
    "duration": 5,
    "start_time": "2022-05-18T08:17:13.164Z"
   },
   {
    "duration": 13,
    "start_time": "2022-05-18T08:17:13.171Z"
   },
   {
    "duration": 6,
    "start_time": "2022-05-18T08:17:13.185Z"
   },
   {
    "duration": 21,
    "start_time": "2022-05-18T08:17:13.192Z"
   },
   {
    "duration": 19,
    "start_time": "2022-05-18T08:17:13.215Z"
   },
   {
    "duration": 56,
    "start_time": "2022-05-18T08:17:13.237Z"
   },
   {
    "duration": 21,
    "start_time": "2022-05-18T08:17:13.295Z"
   },
   {
    "duration": 20,
    "start_time": "2022-05-18T08:17:13.318Z"
   },
   {
    "duration": 44,
    "start_time": "2022-05-18T08:17:13.339Z"
   },
   {
    "duration": 11,
    "start_time": "2022-05-18T08:17:13.385Z"
   },
   {
    "duration": 27,
    "start_time": "2022-05-18T08:17:13.398Z"
   },
   {
    "duration": 217,
    "start_time": "2022-05-18T08:17:13.427Z"
   },
   {
    "duration": 36,
    "start_time": "2022-05-18T08:17:13.646Z"
   },
   {
    "duration": 965,
    "start_time": "2022-05-18T08:17:13.684Z"
   },
   {
    "duration": 108,
    "start_time": "2022-05-18T08:17:14.651Z"
   },
   {
    "duration": 158,
    "start_time": "2022-05-18T08:17:14.760Z"
   },
   {
    "duration": 21,
    "start_time": "2022-05-18T08:17:14.920Z"
   },
   {
    "duration": 149,
    "start_time": "2022-05-18T08:17:14.942Z"
   },
   {
    "duration": 25,
    "start_time": "2022-05-18T08:17:15.093Z"
   },
   {
    "duration": 154,
    "start_time": "2022-05-18T08:17:15.120Z"
   },
   {
    "duration": 100,
    "start_time": "2022-05-18T11:52:27.673Z"
   },
   {
    "duration": 12,
    "start_time": "2022-05-18T11:52:27.775Z"
   },
   {
    "duration": 12,
    "start_time": "2022-05-18T11:52:27.789Z"
   },
   {
    "duration": 23,
    "start_time": "2022-05-18T11:52:27.803Z"
   },
   {
    "duration": 11,
    "start_time": "2022-05-18T11:52:27.828Z"
   },
   {
    "duration": 5,
    "start_time": "2022-05-18T11:52:27.841Z"
   },
   {
    "duration": 26,
    "start_time": "2022-05-18T11:52:31.186Z"
   },
   {
    "duration": 55,
    "start_time": "2022-05-18T11:53:28.927Z"
   },
   {
    "duration": 29,
    "start_time": "2022-05-18T11:53:47.597Z"
   },
   {
    "duration": 96,
    "start_time": "2022-05-18T11:54:07.315Z"
   },
   {
    "duration": 13,
    "start_time": "2022-05-18T11:54:08.084Z"
   },
   {
    "duration": 15,
    "start_time": "2022-05-18T11:54:11.020Z"
   },
   {
    "duration": 15,
    "start_time": "2022-05-18T11:54:11.840Z"
   },
   {
    "duration": 18,
    "start_time": "2022-05-18T11:54:12.252Z"
   },
   {
    "duration": 6,
    "start_time": "2022-05-18T11:54:12.672Z"
   },
   {
    "duration": 19,
    "start_time": "2022-05-18T11:54:13.586Z"
   },
   {
    "duration": 70,
    "start_time": "2022-05-18T11:54:14.507Z"
   },
   {
    "duration": 24,
    "start_time": "2022-05-18T11:55:20.597Z"
   },
   {
    "duration": 73,
    "start_time": "2022-05-18T11:58:06.623Z"
   },
   {
    "duration": 13,
    "start_time": "2022-05-18T11:58:06.699Z"
   },
   {
    "duration": 62,
    "start_time": "2022-05-18T11:58:06.714Z"
   },
   {
    "duration": 23,
    "start_time": "2022-05-18T11:58:06.778Z"
   },
   {
    "duration": 26,
    "start_time": "2022-05-18T11:58:06.803Z"
   },
   {
    "duration": 15,
    "start_time": "2022-05-18T11:58:06.830Z"
   },
   {
    "duration": 46,
    "start_time": "2022-05-18T11:58:06.846Z"
   },
   {
    "duration": 24,
    "start_time": "2022-05-18T11:58:06.894Z"
   },
   {
    "duration": 23,
    "start_time": "2022-05-18T11:58:45.282Z"
   },
   {
    "duration": 7,
    "start_time": "2022-05-18T11:59:39.419Z"
   },
   {
    "duration": 24,
    "start_time": "2022-05-18T11:59:44.681Z"
   },
   {
    "duration": 29,
    "start_time": "2022-05-18T12:00:41.225Z"
   },
   {
    "duration": 74,
    "start_time": "2022-05-18T12:00:48.093Z"
   },
   {
    "duration": 15,
    "start_time": "2022-05-18T12:00:48.169Z"
   },
   {
    "duration": 20,
    "start_time": "2022-05-18T12:00:48.185Z"
   },
   {
    "duration": 38,
    "start_time": "2022-05-18T12:00:48.207Z"
   },
   {
    "duration": 18,
    "start_time": "2022-05-18T12:00:48.247Z"
   },
   {
    "duration": 9,
    "start_time": "2022-05-18T12:00:48.267Z"
   },
   {
    "duration": 21,
    "start_time": "2022-05-18T12:00:48.278Z"
   },
   {
    "duration": 5,
    "start_time": "2022-05-18T12:00:48.301Z"
   },
   {
    "duration": 11,
    "start_time": "2022-05-18T12:00:56.824Z"
   },
   {
    "duration": 9,
    "start_time": "2022-05-18T12:01:24.501Z"
   },
   {
    "duration": 13,
    "start_time": "2022-05-18T12:02:32.058Z"
   },
   {
    "duration": 6,
    "start_time": "2022-05-18T12:02:51.542Z"
   },
   {
    "duration": 7,
    "start_time": "2022-05-18T12:02:56.738Z"
   },
   {
    "duration": 14,
    "start_time": "2022-05-18T12:03:06.788Z"
   },
   {
    "duration": 11,
    "start_time": "2022-05-18T12:03:22.699Z"
   },
   {
    "duration": 17,
    "start_time": "2022-05-18T12:07:57.010Z"
   },
   {
    "duration": 12,
    "start_time": "2022-05-18T12:08:02.493Z"
   },
   {
    "duration": 73,
    "start_time": "2022-05-18T12:08:09.875Z"
   },
   {
    "duration": 23,
    "start_time": "2022-05-18T12:08:09.951Z"
   },
   {
    "duration": 22,
    "start_time": "2022-05-18T12:08:09.975Z"
   },
   {
    "duration": 27,
    "start_time": "2022-05-18T12:08:10.000Z"
   },
   {
    "duration": 18,
    "start_time": "2022-05-18T12:08:10.030Z"
   },
   {
    "duration": 32,
    "start_time": "2022-05-18T12:08:10.050Z"
   },
   {
    "duration": 31,
    "start_time": "2022-05-18T12:08:10.084Z"
   },
   {
    "duration": 6,
    "start_time": "2022-05-18T12:08:10.117Z"
   },
   {
    "duration": 49,
    "start_time": "2022-05-18T12:08:10.125Z"
   },
   {
    "duration": 57,
    "start_time": "2022-05-18T12:08:10.176Z"
   },
   {
    "duration": 0,
    "start_time": "2022-05-18T12:08:10.235Z"
   },
   {
    "duration": 0,
    "start_time": "2022-05-18T12:08:10.236Z"
   },
   {
    "duration": 0,
    "start_time": "2022-05-18T12:08:10.237Z"
   },
   {
    "duration": 0,
    "start_time": "2022-05-18T12:08:10.237Z"
   },
   {
    "duration": 0,
    "start_time": "2022-05-18T12:08:10.239Z"
   },
   {
    "duration": 0,
    "start_time": "2022-05-18T12:08:10.240Z"
   },
   {
    "duration": 12,
    "start_time": "2022-05-18T12:08:12.788Z"
   },
   {
    "duration": 23,
    "start_time": "2022-05-18T12:10:50.708Z"
   },
   {
    "duration": 16,
    "start_time": "2022-05-18T12:11:20.802Z"
   },
   {
    "duration": 70,
    "start_time": "2022-05-18T12:12:09.491Z"
   },
   {
    "duration": 17,
    "start_time": "2022-05-18T12:12:09.570Z"
   },
   {
    "duration": 57,
    "start_time": "2022-05-18T12:12:09.588Z"
   },
   {
    "duration": 49,
    "start_time": "2022-05-18T12:12:09.647Z"
   },
   {
    "duration": 19,
    "start_time": "2022-05-18T12:12:09.699Z"
   },
   {
    "duration": 14,
    "start_time": "2022-05-18T12:12:09.720Z"
   },
   {
    "duration": 44,
    "start_time": "2022-05-18T12:12:09.735Z"
   },
   {
    "duration": 17,
    "start_time": "2022-05-18T12:12:09.783Z"
   },
   {
    "duration": 39,
    "start_time": "2022-05-18T12:12:09.802Z"
   },
   {
    "duration": 64,
    "start_time": "2022-05-18T12:12:09.842Z"
   },
   {
    "duration": 0,
    "start_time": "2022-05-18T12:12:09.908Z"
   },
   {
    "duration": 0,
    "start_time": "2022-05-18T12:12:09.910Z"
   },
   {
    "duration": 0,
    "start_time": "2022-05-18T12:12:09.912Z"
   },
   {
    "duration": 0,
    "start_time": "2022-05-18T12:12:09.913Z"
   },
   {
    "duration": 0,
    "start_time": "2022-05-18T12:12:09.915Z"
   },
   {
    "duration": 0,
    "start_time": "2022-05-18T12:12:09.916Z"
   },
   {
    "duration": 0,
    "start_time": "2022-05-18T12:12:09.917Z"
   },
   {
    "duration": 0,
    "start_time": "2022-05-18T12:12:09.918Z"
   },
   {
    "duration": 0,
    "start_time": "2022-05-18T12:12:09.920Z"
   },
   {
    "duration": 24,
    "start_time": "2022-05-18T12:16:01.856Z"
   },
   {
    "duration": 14,
    "start_time": "2022-05-18T12:16:13.825Z"
   },
   {
    "duration": 68,
    "start_time": "2022-05-18T12:16:19.075Z"
   },
   {
    "duration": 12,
    "start_time": "2022-05-18T12:16:19.146Z"
   },
   {
    "duration": 23,
    "start_time": "2022-05-18T12:16:19.163Z"
   },
   {
    "duration": 17,
    "start_time": "2022-05-18T12:16:19.188Z"
   },
   {
    "duration": 12,
    "start_time": "2022-05-18T12:16:19.207Z"
   },
   {
    "duration": 14,
    "start_time": "2022-05-18T12:16:19.221Z"
   },
   {
    "duration": 36,
    "start_time": "2022-05-18T12:16:19.237Z"
   },
   {
    "duration": 7,
    "start_time": "2022-05-18T12:16:19.276Z"
   },
   {
    "duration": 11,
    "start_time": "2022-05-18T12:16:19.284Z"
   },
   {
    "duration": 30,
    "start_time": "2022-05-18T12:16:19.297Z"
   },
   {
    "duration": 0,
    "start_time": "2022-05-18T12:16:19.329Z"
   },
   {
    "duration": 0,
    "start_time": "2022-05-18T12:16:19.330Z"
   },
   {
    "duration": 0,
    "start_time": "2022-05-18T12:16:19.331Z"
   },
   {
    "duration": 0,
    "start_time": "2022-05-18T12:16:19.332Z"
   },
   {
    "duration": 0,
    "start_time": "2022-05-18T12:16:19.333Z"
   },
   {
    "duration": 0,
    "start_time": "2022-05-18T12:16:19.335Z"
   },
   {
    "duration": 0,
    "start_time": "2022-05-18T12:16:19.335Z"
   },
   {
    "duration": 0,
    "start_time": "2022-05-18T12:16:19.337Z"
   },
   {
    "duration": 0,
    "start_time": "2022-05-18T12:16:19.338Z"
   },
   {
    "duration": 0,
    "start_time": "2022-05-18T12:16:19.339Z"
   },
   {
    "duration": 0,
    "start_time": "2022-05-18T12:16:19.340Z"
   },
   {
    "duration": 0,
    "start_time": "2022-05-18T12:16:19.341Z"
   },
   {
    "duration": 0,
    "start_time": "2022-05-18T12:16:19.341Z"
   },
   {
    "duration": 0,
    "start_time": "2022-05-18T12:16:19.343Z"
   },
   {
    "duration": 0,
    "start_time": "2022-05-18T12:16:19.345Z"
   },
   {
    "duration": 0,
    "start_time": "2022-05-18T12:16:19.346Z"
   },
   {
    "duration": 0,
    "start_time": "2022-05-18T12:16:19.367Z"
   },
   {
    "duration": 14,
    "start_time": "2022-05-18T12:16:24.473Z"
   },
   {
    "duration": 16,
    "start_time": "2022-05-18T12:16:27.633Z"
   },
   {
    "duration": 17,
    "start_time": "2022-05-18T12:16:43.035Z"
   },
   {
    "duration": 17,
    "start_time": "2022-05-18T12:17:01.369Z"
   },
   {
    "duration": 76,
    "start_time": "2022-05-18T12:17:07.045Z"
   },
   {
    "duration": 20,
    "start_time": "2022-05-18T12:17:07.123Z"
   },
   {
    "duration": 39,
    "start_time": "2022-05-18T12:17:07.168Z"
   },
   {
    "duration": 31,
    "start_time": "2022-05-18T12:17:07.209Z"
   },
   {
    "duration": 26,
    "start_time": "2022-05-18T12:17:07.243Z"
   },
   {
    "duration": 21,
    "start_time": "2022-05-18T12:17:07.271Z"
   },
   {
    "duration": 31,
    "start_time": "2022-05-18T12:17:07.295Z"
   },
   {
    "duration": 30,
    "start_time": "2022-05-18T12:17:07.328Z"
   },
   {
    "duration": 53,
    "start_time": "2022-05-18T12:17:07.360Z"
   },
   {
    "duration": 48,
    "start_time": "2022-05-18T12:17:07.415Z"
   },
   {
    "duration": 0,
    "start_time": "2022-05-18T12:17:07.466Z"
   },
   {
    "duration": 0,
    "start_time": "2022-05-18T12:17:07.467Z"
   },
   {
    "duration": 0,
    "start_time": "2022-05-18T12:17:07.468Z"
   },
   {
    "duration": 0,
    "start_time": "2022-05-18T12:17:07.469Z"
   },
   {
    "duration": 0,
    "start_time": "2022-05-18T12:17:07.471Z"
   },
   {
    "duration": 0,
    "start_time": "2022-05-18T12:17:07.472Z"
   },
   {
    "duration": 0,
    "start_time": "2022-05-18T12:17:07.472Z"
   },
   {
    "duration": 0,
    "start_time": "2022-05-18T12:17:07.473Z"
   },
   {
    "duration": 0,
    "start_time": "2022-05-18T12:17:07.481Z"
   },
   {
    "duration": 0,
    "start_time": "2022-05-18T12:17:07.484Z"
   },
   {
    "duration": 0,
    "start_time": "2022-05-18T12:17:07.486Z"
   },
   {
    "duration": 0,
    "start_time": "2022-05-18T12:17:07.487Z"
   },
   {
    "duration": 0,
    "start_time": "2022-05-18T12:17:07.488Z"
   },
   {
    "duration": 0,
    "start_time": "2022-05-18T12:17:07.489Z"
   },
   {
    "duration": 0,
    "start_time": "2022-05-18T12:17:07.490Z"
   },
   {
    "duration": 0,
    "start_time": "2022-05-18T12:17:07.491Z"
   },
   {
    "duration": 0,
    "start_time": "2022-05-18T12:17:07.492Z"
   },
   {
    "duration": 14,
    "start_time": "2022-05-18T12:17:13.115Z"
   },
   {
    "duration": 6,
    "start_time": "2022-05-18T12:17:49.974Z"
   },
   {
    "duration": 13,
    "start_time": "2022-05-18T12:18:36.492Z"
   },
   {
    "duration": 9,
    "start_time": "2022-05-18T12:18:59.722Z"
   },
   {
    "duration": 8,
    "start_time": "2022-05-18T12:19:04.971Z"
   },
   {
    "duration": 7,
    "start_time": "2022-05-18T12:19:17.776Z"
   },
   {
    "duration": 82,
    "start_time": "2022-05-18T12:19:23.423Z"
   },
   {
    "duration": 18,
    "start_time": "2022-05-18T12:19:23.507Z"
   },
   {
    "duration": 17,
    "start_time": "2022-05-18T12:19:23.527Z"
   },
   {
    "duration": 17,
    "start_time": "2022-05-18T12:19:23.563Z"
   },
   {
    "duration": 15,
    "start_time": "2022-05-18T12:19:23.582Z"
   },
   {
    "duration": 7,
    "start_time": "2022-05-18T12:19:23.599Z"
   },
   {
    "duration": 25,
    "start_time": "2022-05-18T12:19:23.608Z"
   },
   {
    "duration": 29,
    "start_time": "2022-05-18T12:19:23.634Z"
   },
   {
    "duration": 15,
    "start_time": "2022-05-18T12:19:23.666Z"
   },
   {
    "duration": 38,
    "start_time": "2022-05-18T12:19:23.684Z"
   },
   {
    "duration": 0,
    "start_time": "2022-05-18T12:19:23.724Z"
   },
   {
    "duration": 0,
    "start_time": "2022-05-18T12:19:23.727Z"
   },
   {
    "duration": 0,
    "start_time": "2022-05-18T12:19:23.728Z"
   },
   {
    "duration": 0,
    "start_time": "2022-05-18T12:19:23.730Z"
   },
   {
    "duration": 0,
    "start_time": "2022-05-18T12:19:23.732Z"
   },
   {
    "duration": 0,
    "start_time": "2022-05-18T12:19:23.733Z"
   },
   {
    "duration": 0,
    "start_time": "2022-05-18T12:19:23.734Z"
   },
   {
    "duration": 0,
    "start_time": "2022-05-18T12:19:23.736Z"
   },
   {
    "duration": 0,
    "start_time": "2022-05-18T12:19:23.737Z"
   },
   {
    "duration": 0,
    "start_time": "2022-05-18T12:19:23.739Z"
   },
   {
    "duration": 0,
    "start_time": "2022-05-18T12:19:23.740Z"
   },
   {
    "duration": 0,
    "start_time": "2022-05-18T12:19:23.741Z"
   },
   {
    "duration": 0,
    "start_time": "2022-05-18T12:19:23.743Z"
   },
   {
    "duration": 0,
    "start_time": "2022-05-18T12:19:23.744Z"
   },
   {
    "duration": 0,
    "start_time": "2022-05-18T12:19:23.745Z"
   },
   {
    "duration": 0,
    "start_time": "2022-05-18T12:19:23.746Z"
   },
   {
    "duration": 0,
    "start_time": "2022-05-18T12:19:23.748Z"
   },
   {
    "duration": 0,
    "start_time": "2022-05-18T12:19:23.749Z"
   },
   {
    "duration": 14,
    "start_time": "2022-05-18T12:19:25.614Z"
   },
   {
    "duration": 79,
    "start_time": "2022-05-18T12:21:03.822Z"
   },
   {
    "duration": 13,
    "start_time": "2022-05-18T12:21:03.903Z"
   },
   {
    "duration": 32,
    "start_time": "2022-05-18T12:21:03.918Z"
   },
   {
    "duration": 24,
    "start_time": "2022-05-18T12:21:03.952Z"
   },
   {
    "duration": 31,
    "start_time": "2022-05-18T12:21:03.979Z"
   },
   {
    "duration": 8,
    "start_time": "2022-05-18T12:21:04.012Z"
   },
   {
    "duration": 26,
    "start_time": "2022-05-18T12:21:04.022Z"
   },
   {
    "duration": 17,
    "start_time": "2022-05-18T12:21:04.050Z"
   },
   {
    "duration": 13,
    "start_time": "2022-05-18T12:21:04.074Z"
   },
   {
    "duration": 49,
    "start_time": "2022-05-18T12:21:04.089Z"
   },
   {
    "duration": 0,
    "start_time": "2022-05-18T12:21:04.139Z"
   },
   {
    "duration": 0,
    "start_time": "2022-05-18T12:21:04.141Z"
   },
   {
    "duration": 0,
    "start_time": "2022-05-18T12:21:04.142Z"
   },
   {
    "duration": 0,
    "start_time": "2022-05-18T12:21:04.143Z"
   },
   {
    "duration": 0,
    "start_time": "2022-05-18T12:21:04.143Z"
   },
   {
    "duration": 0,
    "start_time": "2022-05-18T12:21:04.145Z"
   },
   {
    "duration": 0,
    "start_time": "2022-05-18T12:21:04.146Z"
   },
   {
    "duration": 0,
    "start_time": "2022-05-18T12:21:04.147Z"
   },
   {
    "duration": 0,
    "start_time": "2022-05-18T12:21:04.148Z"
   },
   {
    "duration": 0,
    "start_time": "2022-05-18T12:21:04.150Z"
   },
   {
    "duration": 0,
    "start_time": "2022-05-18T12:21:04.151Z"
   },
   {
    "duration": 0,
    "start_time": "2022-05-18T12:21:04.152Z"
   },
   {
    "duration": 0,
    "start_time": "2022-05-18T12:21:04.153Z"
   },
   {
    "duration": 0,
    "start_time": "2022-05-18T12:21:04.154Z"
   },
   {
    "duration": 0,
    "start_time": "2022-05-18T12:21:04.155Z"
   },
   {
    "duration": 0,
    "start_time": "2022-05-18T12:21:04.156Z"
   },
   {
    "duration": 0,
    "start_time": "2022-05-18T12:21:04.157Z"
   },
   {
    "duration": 22,
    "start_time": "2022-05-18T12:21:07.854Z"
   },
   {
    "duration": 7,
    "start_time": "2022-05-18T12:21:11.689Z"
   },
   {
    "duration": 35,
    "start_time": "2022-05-18T12:24:03.651Z"
   },
   {
    "duration": 10,
    "start_time": "2022-05-18T12:25:41.139Z"
   },
   {
    "duration": 6,
    "start_time": "2022-05-18T12:26:13.392Z"
   },
   {
    "duration": 11,
    "start_time": "2022-05-18T12:26:42.876Z"
   },
   {
    "duration": 77,
    "start_time": "2022-05-18T12:27:07.977Z"
   },
   {
    "duration": 23,
    "start_time": "2022-05-18T12:27:08.056Z"
   },
   {
    "duration": 26,
    "start_time": "2022-05-18T12:27:08.081Z"
   },
   {
    "duration": 26,
    "start_time": "2022-05-18T12:27:08.109Z"
   },
   {
    "duration": 13,
    "start_time": "2022-05-18T12:27:08.138Z"
   },
   {
    "duration": 32,
    "start_time": "2022-05-18T12:27:08.153Z"
   },
   {
    "duration": 15,
    "start_time": "2022-05-18T12:27:08.187Z"
   },
   {
    "duration": 7,
    "start_time": "2022-05-18T12:27:08.204Z"
   },
   {
    "duration": 14,
    "start_time": "2022-05-18T12:27:08.214Z"
   },
   {
    "duration": 8,
    "start_time": "2022-05-18T12:27:08.230Z"
   },
   {
    "duration": 719,
    "start_time": "2022-05-18T12:27:10.906Z"
   },
   {
    "duration": 10,
    "start_time": "2022-05-18T12:27:25.657Z"
   },
   {
    "duration": 6,
    "start_time": "2022-05-18T12:27:39.040Z"
   },
   {
    "duration": 6,
    "start_time": "2022-05-18T12:27:52.575Z"
   },
   {
    "duration": 14,
    "start_time": "2022-05-18T12:28:08.487Z"
   },
   {
    "duration": 4,
    "start_time": "2022-05-18T12:28:17.978Z"
   },
   {
    "duration": 6,
    "start_time": "2022-05-18T12:28:19.159Z"
   },
   {
    "duration": 7,
    "start_time": "2022-05-18T12:28:22.196Z"
   },
   {
    "duration": 9,
    "start_time": "2022-05-18T12:28:29.601Z"
   },
   {
    "duration": 10,
    "start_time": "2022-05-18T12:28:30.885Z"
   },
   {
    "duration": 5,
    "start_time": "2022-05-18T12:28:33.292Z"
   },
   {
    "duration": 9,
    "start_time": "2022-05-18T12:28:35.477Z"
   },
   {
    "duration": 5,
    "start_time": "2022-05-18T12:28:38.688Z"
   },
   {
    "duration": 5,
    "start_time": "2022-05-18T12:28:41.878Z"
   },
   {
    "duration": 8,
    "start_time": "2022-05-18T12:28:46.078Z"
   },
   {
    "duration": 6,
    "start_time": "2022-05-18T12:28:52.676Z"
   },
   {
    "duration": 14,
    "start_time": "2022-05-18T12:29:06.148Z"
   },
   {
    "duration": 11,
    "start_time": "2022-05-18T12:29:15.340Z"
   },
   {
    "duration": 53,
    "start_time": "2022-05-18T12:31:57.188Z"
   },
   {
    "duration": 47,
    "start_time": "2022-05-18T12:32:04.504Z"
   },
   {
    "duration": 9,
    "start_time": "2022-05-18T12:54:56.388Z"
   },
   {
    "duration": 9,
    "start_time": "2022-05-18T12:55:07.677Z"
   },
   {
    "duration": 24,
    "start_time": "2022-05-18T12:56:21.257Z"
   },
   {
    "duration": 8,
    "start_time": "2022-05-18T13:05:52.131Z"
   },
   {
    "duration": 8,
    "start_time": "2022-05-18T13:05:55.436Z"
   },
   {
    "duration": 7,
    "start_time": "2022-05-18T13:08:20.294Z"
   },
   {
    "duration": 9,
    "start_time": "2022-05-18T13:09:44.829Z"
   },
   {
    "duration": 99,
    "start_time": "2022-05-18T13:10:23.442Z"
   },
   {
    "duration": 12,
    "start_time": "2022-05-18T13:10:23.544Z"
   },
   {
    "duration": 33,
    "start_time": "2022-05-18T13:10:23.562Z"
   },
   {
    "duration": 15,
    "start_time": "2022-05-18T13:10:23.597Z"
   },
   {
    "duration": 24,
    "start_time": "2022-05-18T13:10:23.614Z"
   },
   {
    "duration": 13,
    "start_time": "2022-05-18T13:10:23.640Z"
   },
   {
    "duration": 33,
    "start_time": "2022-05-18T13:10:23.655Z"
   },
   {
    "duration": 7,
    "start_time": "2022-05-18T13:10:27.645Z"
   },
   {
    "duration": 11,
    "start_time": "2022-05-18T13:10:28.892Z"
   },
   {
    "duration": 180,
    "start_time": "2022-05-18T13:11:25.226Z"
   },
   {
    "duration": 1036,
    "start_time": "2022-05-18T13:11:37.276Z"
   },
   {
    "duration": 73,
    "start_time": "2022-05-18T13:17:51.405Z"
   },
   {
    "duration": 13,
    "start_time": "2022-05-18T13:17:51.479Z"
   },
   {
    "duration": 14,
    "start_time": "2022-05-18T13:17:51.493Z"
   },
   {
    "duration": 12,
    "start_time": "2022-05-18T13:17:51.508Z"
   },
   {
    "duration": 11,
    "start_time": "2022-05-18T13:17:51.522Z"
   },
   {
    "duration": 36,
    "start_time": "2022-05-18T13:17:51.535Z"
   },
   {
    "duration": 25,
    "start_time": "2022-05-18T13:17:51.573Z"
   },
   {
    "duration": 15,
    "start_time": "2022-05-18T13:17:51.599Z"
   },
   {
    "duration": 7,
    "start_time": "2022-05-18T13:17:54.810Z"
   },
   {
    "duration": 4547,
    "start_time": "2022-05-18T13:17:56.190Z"
   },
   {
    "duration": 7,
    "start_time": "2022-05-18T13:18:40.585Z"
   },
   {
    "duration": 5001,
    "start_time": "2022-05-18T13:19:22.576Z"
   },
   {
    "duration": 4407,
    "start_time": "2022-05-18T13:19:31.225Z"
   },
   {
    "duration": 12,
    "start_time": "2022-05-18T13:19:40.053Z"
   },
   {
    "duration": 8,
    "start_time": "2022-05-18T13:28:04.791Z"
   },
   {
    "duration": 8,
    "start_time": "2022-05-18T13:28:54.404Z"
   },
   {
    "duration": 81,
    "start_time": "2022-05-18T13:29:28.704Z"
   },
   {
    "duration": 12,
    "start_time": "2022-05-18T13:29:28.787Z"
   },
   {
    "duration": 14,
    "start_time": "2022-05-18T13:29:28.801Z"
   },
   {
    "duration": 14,
    "start_time": "2022-05-18T13:29:28.817Z"
   },
   {
    "duration": 39,
    "start_time": "2022-05-18T13:29:28.833Z"
   },
   {
    "duration": 6,
    "start_time": "2022-05-18T13:29:28.874Z"
   },
   {
    "duration": 11,
    "start_time": "2022-05-18T13:29:28.882Z"
   },
   {
    "duration": 7,
    "start_time": "2022-05-18T13:29:28.894Z"
   },
   {
    "duration": 9,
    "start_time": "2022-05-18T13:29:30.782Z"
   },
   {
    "duration": 789,
    "start_time": "2022-05-18T13:29:31.923Z"
   },
   {
    "duration": 79,
    "start_time": "2022-05-18T13:30:04.012Z"
   },
   {
    "duration": 31,
    "start_time": "2022-05-18T13:30:11.267Z"
   },
   {
    "duration": 48,
    "start_time": "2022-05-18T13:30:15.087Z"
   },
   {
    "duration": 27,
    "start_time": "2022-05-18T13:30:34.526Z"
   },
   {
    "duration": 40,
    "start_time": "2022-05-18T13:30:50.446Z"
   },
   {
    "duration": 41,
    "start_time": "2022-05-18T13:30:58.451Z"
   },
   {
    "duration": 43,
    "start_time": "2022-05-18T13:31:03.833Z"
   },
   {
    "duration": 26,
    "start_time": "2022-05-18T13:31:14.623Z"
   },
   {
    "duration": 7,
    "start_time": "2022-05-18T13:31:24.414Z"
   },
   {
    "duration": 6,
    "start_time": "2022-05-18T13:31:46.920Z"
   },
   {
    "duration": 6,
    "start_time": "2022-05-18T13:31:52.507Z"
   },
   {
    "duration": 9,
    "start_time": "2022-05-18T13:31:53.390Z"
   },
   {
    "duration": 6,
    "start_time": "2022-05-18T13:34:27.795Z"
   },
   {
    "duration": 5,
    "start_time": "2022-05-18T13:34:33.695Z"
   },
   {
    "duration": 8,
    "start_time": "2022-05-18T13:34:38.878Z"
   },
   {
    "duration": 9,
    "start_time": "2022-05-18T13:36:37.418Z"
   },
   {
    "duration": 7,
    "start_time": "2022-05-18T13:37:05.376Z"
   },
   {
    "duration": 10,
    "start_time": "2022-05-18T13:37:32.647Z"
   },
   {
    "duration": 101,
    "start_time": "2022-05-18T13:37:53.096Z"
   },
   {
    "duration": 16,
    "start_time": "2022-05-18T13:37:53.199Z"
   },
   {
    "duration": 17,
    "start_time": "2022-05-18T13:37:53.216Z"
   },
   {
    "duration": 45,
    "start_time": "2022-05-18T13:37:53.235Z"
   },
   {
    "duration": 17,
    "start_time": "2022-05-18T13:37:53.283Z"
   },
   {
    "duration": 7,
    "start_time": "2022-05-18T13:37:53.302Z"
   },
   {
    "duration": 13,
    "start_time": "2022-05-18T13:37:53.311Z"
   },
   {
    "duration": 6,
    "start_time": "2022-05-18T13:37:53.325Z"
   },
   {
    "duration": 13,
    "start_time": "2022-05-18T13:37:53.365Z"
   },
   {
    "duration": 19,
    "start_time": "2022-05-18T13:37:53.381Z"
   },
   {
    "duration": 16,
    "start_time": "2022-05-18T13:37:53.401Z"
   },
   {
    "duration": 11,
    "start_time": "2022-05-18T13:37:53.419Z"
   },
   {
    "duration": 10,
    "start_time": "2022-05-18T13:37:53.431Z"
   },
   {
    "duration": 7,
    "start_time": "2022-05-18T13:37:53.445Z"
   },
   {
    "duration": 21,
    "start_time": "2022-05-18T13:37:53.459Z"
   },
   {
    "duration": 10,
    "start_time": "2022-05-18T13:37:53.482Z"
   },
   {
    "duration": 9,
    "start_time": "2022-05-18T13:37:53.494Z"
   },
   {
    "duration": 14,
    "start_time": "2022-05-18T13:37:53.504Z"
   },
   {
    "duration": 8,
    "start_time": "2022-05-18T13:37:53.520Z"
   },
   {
    "duration": 7,
    "start_time": "2022-05-18T13:37:53.529Z"
   },
   {
    "duration": 29,
    "start_time": "2022-05-18T13:37:53.538Z"
   },
   {
    "duration": 10,
    "start_time": "2022-05-18T13:37:53.569Z"
   },
   {
    "duration": 7,
    "start_time": "2022-05-18T13:37:53.581Z"
   },
   {
    "duration": 7,
    "start_time": "2022-05-18T13:37:53.589Z"
   },
   {
    "duration": 17,
    "start_time": "2022-05-18T13:37:53.597Z"
   },
   {
    "duration": 5,
    "start_time": "2022-05-18T13:37:53.616Z"
   },
   {
    "duration": 15,
    "start_time": "2022-05-18T13:37:53.622Z"
   },
   {
    "duration": 34,
    "start_time": "2022-05-18T13:37:53.659Z"
   },
   {
    "duration": 32,
    "start_time": "2022-05-18T13:37:53.695Z"
   },
   {
    "duration": 15,
    "start_time": "2022-05-18T13:37:53.729Z"
   },
   {
    "duration": 42,
    "start_time": "2022-05-18T13:37:53.746Z"
   },
   {
    "duration": 6,
    "start_time": "2022-05-18T13:39:46.973Z"
   },
   {
    "duration": 5,
    "start_time": "2022-05-18T13:42:27.614Z"
   },
   {
    "duration": 72,
    "start_time": "2022-05-18T13:45:51.840Z"
   },
   {
    "duration": 13,
    "start_time": "2022-05-18T13:45:51.914Z"
   },
   {
    "duration": 11,
    "start_time": "2022-05-18T13:45:51.929Z"
   },
   {
    "duration": 26,
    "start_time": "2022-05-18T13:45:51.942Z"
   },
   {
    "duration": 18,
    "start_time": "2022-05-18T13:45:51.971Z"
   },
   {
    "duration": 5,
    "start_time": "2022-05-18T13:45:51.991Z"
   },
   {
    "duration": 18,
    "start_time": "2022-05-18T13:45:51.997Z"
   },
   {
    "duration": 6,
    "start_time": "2022-05-18T13:45:52.016Z"
   },
   {
    "duration": 35,
    "start_time": "2022-05-18T13:45:52.024Z"
   },
   {
    "duration": 6,
    "start_time": "2022-05-18T13:45:52.248Z"
   },
   {
    "duration": 12,
    "start_time": "2022-05-18T13:45:52.256Z"
   },
   {
    "duration": 5,
    "start_time": "2022-05-18T13:45:52.269Z"
   },
   {
    "duration": 7,
    "start_time": "2022-05-18T13:45:52.276Z"
   },
   {
    "duration": 8,
    "start_time": "2022-05-18T13:45:52.286Z"
   },
   {
    "duration": 15,
    "start_time": "2022-05-18T13:45:52.296Z"
   },
   {
    "duration": 4,
    "start_time": "2022-05-18T13:45:52.313Z"
   },
   {
    "duration": 7,
    "start_time": "2022-05-18T13:45:52.319Z"
   },
   {
    "duration": 32,
    "start_time": "2022-05-18T13:45:52.327Z"
   },
   {
    "duration": 7,
    "start_time": "2022-05-18T13:45:52.361Z"
   },
   {
    "duration": 9,
    "start_time": "2022-05-18T13:45:52.370Z"
   },
   {
    "duration": 5,
    "start_time": "2022-05-18T13:45:52.381Z"
   },
   {
    "duration": 9,
    "start_time": "2022-05-18T13:45:52.388Z"
   },
   {
    "duration": 5,
    "start_time": "2022-05-18T13:45:52.400Z"
   },
   {
    "duration": 5,
    "start_time": "2022-05-18T13:45:52.406Z"
   },
   {
    "duration": 49,
    "start_time": "2022-05-18T13:45:52.413Z"
   },
   {
    "duration": 6,
    "start_time": "2022-05-18T13:45:52.464Z"
   },
   {
    "duration": 11,
    "start_time": "2022-05-18T13:45:52.471Z"
   },
   {
    "duration": 14,
    "start_time": "2022-05-18T13:45:52.483Z"
   },
   {
    "duration": 21,
    "start_time": "2022-05-18T13:45:52.499Z"
   },
   {
    "duration": 21,
    "start_time": "2022-05-18T13:45:55.486Z"
   },
   {
    "duration": 52,
    "start_time": "2022-05-18T13:45:56.847Z"
   },
   {
    "duration": 20,
    "start_time": "2022-05-18T13:47:11.962Z"
   },
   {
    "duration": 11,
    "start_time": "2022-05-18T13:47:12.493Z"
   },
   {
    "duration": 18,
    "start_time": "2022-05-18T13:47:25.181Z"
   },
   {
    "duration": 155,
    "start_time": "2022-05-18T13:47:55.621Z"
   },
   {
    "duration": 73,
    "start_time": "2022-05-18T13:48:18.589Z"
   },
   {
    "duration": 13,
    "start_time": "2022-05-18T13:48:18.664Z"
   },
   {
    "duration": 13,
    "start_time": "2022-05-18T13:48:18.679Z"
   },
   {
    "duration": 13,
    "start_time": "2022-05-18T13:48:18.693Z"
   },
   {
    "duration": 13,
    "start_time": "2022-05-18T13:48:18.708Z"
   },
   {
    "duration": 5,
    "start_time": "2022-05-18T13:48:18.723Z"
   },
   {
    "duration": 39,
    "start_time": "2022-05-18T13:48:18.730Z"
   },
   {
    "duration": 8,
    "start_time": "2022-05-18T13:48:18.771Z"
   },
   {
    "duration": 20,
    "start_time": "2022-05-18T13:48:18.781Z"
   },
   {
    "duration": 16,
    "start_time": "2022-05-18T13:48:18.803Z"
   },
   {
    "duration": 9,
    "start_time": "2022-05-18T13:48:19.083Z"
   },
   {
    "duration": 5,
    "start_time": "2022-05-18T13:48:19.093Z"
   },
   {
    "duration": 7,
    "start_time": "2022-05-18T13:48:19.099Z"
   },
   {
    "duration": 6,
    "start_time": "2022-05-18T13:48:19.107Z"
   },
   {
    "duration": 14,
    "start_time": "2022-05-18T13:48:19.115Z"
   },
   {
    "duration": 10,
    "start_time": "2022-05-18T13:48:19.131Z"
   },
   {
    "duration": 9,
    "start_time": "2022-05-18T13:48:19.143Z"
   },
   {
    "duration": 26,
    "start_time": "2022-05-18T13:48:19.154Z"
   },
   {
    "duration": 8,
    "start_time": "2022-05-18T13:48:19.182Z"
   },
   {
    "duration": 12,
    "start_time": "2022-05-18T13:48:19.192Z"
   },
   {
    "duration": 10,
    "start_time": "2022-05-18T13:48:19.206Z"
   },
   {
    "duration": 16,
    "start_time": "2022-05-18T13:48:19.218Z"
   },
   {
    "duration": 16,
    "start_time": "2022-05-18T13:48:19.235Z"
   },
   {
    "duration": 22,
    "start_time": "2022-05-18T13:48:19.254Z"
   },
   {
    "duration": 24,
    "start_time": "2022-05-18T13:48:19.277Z"
   },
   {
    "duration": 14,
    "start_time": "2022-05-18T13:48:19.303Z"
   },
   {
    "duration": 14,
    "start_time": "2022-05-18T13:48:19.319Z"
   },
   {
    "duration": 22,
    "start_time": "2022-05-18T13:48:19.334Z"
   },
   {
    "duration": 20,
    "start_time": "2022-05-18T13:48:19.357Z"
   },
   {
    "duration": 18,
    "start_time": "2022-05-18T13:48:19.379Z"
   },
   {
    "duration": 36,
    "start_time": "2022-05-18T13:48:19.399Z"
   },
   {
    "duration": 39,
    "start_time": "2022-05-18T13:48:19.436Z"
   },
   {
    "duration": 12,
    "start_time": "2022-05-18T13:48:19.477Z"
   },
   {
    "duration": 20,
    "start_time": "2022-05-18T13:48:19.490Z"
   },
   {
    "duration": 180,
    "start_time": "2022-05-18T13:48:19.512Z"
   },
   {
    "duration": 22,
    "start_time": "2022-05-18T13:48:22.221Z"
   },
   {
    "duration": 1579,
    "start_time": "2022-05-18T13:48:31.190Z"
   },
   {
    "duration": 4,
    "start_time": "2022-05-18T13:55:29.129Z"
   },
   {
    "duration": 44,
    "start_time": "2022-05-18T13:55:44.490Z"
   },
   {
    "duration": 72,
    "start_time": "2022-05-18T13:56:16.703Z"
   },
   {
    "duration": 13,
    "start_time": "2022-05-18T13:56:37.532Z"
   },
   {
    "duration": 6,
    "start_time": "2022-05-18T13:58:35.815Z"
   },
   {
    "duration": 7,
    "start_time": "2022-05-18T13:58:40.414Z"
   },
   {
    "duration": 8,
    "start_time": "2022-05-18T13:58:52.540Z"
   },
   {
    "duration": 112,
    "start_time": "2022-05-18T13:59:09.118Z"
   },
   {
    "duration": 10,
    "start_time": "2022-05-18T13:59:26.221Z"
   },
   {
    "duration": 150,
    "start_time": "2022-05-18T14:00:07.720Z"
   },
   {
    "duration": 132,
    "start_time": "2022-05-18T14:00:20.070Z"
   },
   {
    "duration": 179,
    "start_time": "2022-05-18T14:00:29.924Z"
   },
   {
    "duration": 122,
    "start_time": "2022-05-18T14:01:01.675Z"
   },
   {
    "duration": 77,
    "start_time": "2022-05-18T14:01:46.395Z"
   },
   {
    "duration": 14,
    "start_time": "2022-05-18T14:01:46.473Z"
   },
   {
    "duration": 17,
    "start_time": "2022-05-18T14:01:46.488Z"
   },
   {
    "duration": 13,
    "start_time": "2022-05-18T14:01:46.507Z"
   },
   {
    "duration": 45,
    "start_time": "2022-05-18T14:01:46.522Z"
   },
   {
    "duration": 6,
    "start_time": "2022-05-18T14:01:46.568Z"
   },
   {
    "duration": 29,
    "start_time": "2022-05-18T14:01:46.576Z"
   },
   {
    "duration": 7,
    "start_time": "2022-05-18T14:01:46.607Z"
   },
   {
    "duration": 13,
    "start_time": "2022-05-18T14:01:46.616Z"
   },
   {
    "duration": 6,
    "start_time": "2022-05-18T14:01:46.631Z"
   },
   {
    "duration": 26,
    "start_time": "2022-05-18T14:01:46.639Z"
   },
   {
    "duration": 5,
    "start_time": "2022-05-18T14:01:46.667Z"
   },
   {
    "duration": 9,
    "start_time": "2022-05-18T14:01:46.674Z"
   },
   {
    "duration": 6,
    "start_time": "2022-05-18T14:01:46.687Z"
   },
   {
    "duration": 14,
    "start_time": "2022-05-18T14:01:46.695Z"
   },
   {
    "duration": 4,
    "start_time": "2022-05-18T14:01:46.711Z"
   },
   {
    "duration": 44,
    "start_time": "2022-05-18T14:01:46.717Z"
   },
   {
    "duration": 10,
    "start_time": "2022-05-18T14:01:46.763Z"
   },
   {
    "duration": 11,
    "start_time": "2022-05-18T14:01:46.775Z"
   },
   {
    "duration": 6,
    "start_time": "2022-05-18T14:01:46.788Z"
   },
   {
    "duration": 7,
    "start_time": "2022-05-18T14:01:46.795Z"
   },
   {
    "duration": 9,
    "start_time": "2022-05-18T14:01:46.803Z"
   },
   {
    "duration": 7,
    "start_time": "2022-05-18T14:01:46.814Z"
   },
   {
    "duration": 5,
    "start_time": "2022-05-18T14:01:46.822Z"
   },
   {
    "duration": 7,
    "start_time": "2022-05-18T14:01:46.859Z"
   },
   {
    "duration": 5,
    "start_time": "2022-05-18T14:01:46.868Z"
   },
   {
    "duration": 14,
    "start_time": "2022-05-18T14:01:46.874Z"
   },
   {
    "duration": 16,
    "start_time": "2022-05-18T14:01:46.890Z"
   },
   {
    "duration": 25,
    "start_time": "2022-05-18T14:01:46.907Z"
   },
   {
    "duration": 39,
    "start_time": "2022-05-18T14:01:46.934Z"
   },
   {
    "duration": 33,
    "start_time": "2022-05-18T14:01:46.975Z"
   },
   {
    "duration": 21,
    "start_time": "2022-05-18T14:01:47.009Z"
   },
   {
    "duration": 40,
    "start_time": "2022-05-18T14:01:47.031Z"
   },
   {
    "duration": 24,
    "start_time": "2022-05-18T14:01:47.072Z"
   },
   {
    "duration": 196,
    "start_time": "2022-05-18T14:01:47.097Z"
   },
   {
    "duration": 13,
    "start_time": "2022-05-18T14:01:47.295Z"
   },
   {
    "duration": 152,
    "start_time": "2022-05-18T14:01:47.310Z"
   },
   {
    "duration": 117,
    "start_time": "2022-05-18T14:05:18.470Z"
   },
   {
    "duration": 115,
    "start_time": "2022-05-18T14:09:39.287Z"
   },
   {
    "duration": 46,
    "start_time": "2022-05-18T14:09:59.471Z"
   },
   {
    "duration": 11,
    "start_time": "2022-05-18T14:10:10.938Z"
   },
   {
    "duration": 112,
    "start_time": "2022-05-18T14:10:18.630Z"
   },
   {
    "duration": 196,
    "start_time": "2022-05-18T14:12:56.313Z"
   },
   {
    "duration": 74,
    "start_time": "2022-05-18T14:15:33.337Z"
   },
   {
    "duration": 12,
    "start_time": "2022-05-18T14:15:33.413Z"
   },
   {
    "duration": 12,
    "start_time": "2022-05-18T14:15:33.427Z"
   },
   {
    "duration": 15,
    "start_time": "2022-05-18T14:15:33.460Z"
   },
   {
    "duration": 13,
    "start_time": "2022-05-18T14:15:33.478Z"
   },
   {
    "duration": 8,
    "start_time": "2022-05-18T14:15:33.493Z"
   },
   {
    "duration": 10,
    "start_time": "2022-05-18T14:15:33.503Z"
   },
   {
    "duration": 6,
    "start_time": "2022-05-18T14:15:33.515Z"
   },
   {
    "duration": 43,
    "start_time": "2022-05-18T14:15:33.522Z"
   },
   {
    "duration": 7,
    "start_time": "2022-05-18T14:15:33.566Z"
   },
   {
    "duration": 8,
    "start_time": "2022-05-18T14:15:33.575Z"
   },
   {
    "duration": 5,
    "start_time": "2022-05-18T14:15:33.584Z"
   },
   {
    "duration": 7,
    "start_time": "2022-05-18T14:15:33.591Z"
   },
   {
    "duration": 7,
    "start_time": "2022-05-18T14:15:33.600Z"
   },
   {
    "duration": 16,
    "start_time": "2022-05-18T14:15:33.608Z"
   },
   {
    "duration": 5,
    "start_time": "2022-05-18T14:15:33.659Z"
   },
   {
    "duration": 14,
    "start_time": "2022-05-18T14:15:33.665Z"
   },
   {
    "duration": 11,
    "start_time": "2022-05-18T14:15:33.681Z"
   },
   {
    "duration": 10,
    "start_time": "2022-05-18T14:15:33.694Z"
   },
   {
    "duration": 8,
    "start_time": "2022-05-18T14:15:33.705Z"
   },
   {
    "duration": 10,
    "start_time": "2022-05-18T14:15:33.714Z"
   },
   {
    "duration": 10,
    "start_time": "2022-05-18T14:15:33.725Z"
   },
   {
    "duration": 6,
    "start_time": "2022-05-18T14:15:33.758Z"
   },
   {
    "duration": 5,
    "start_time": "2022-05-18T14:15:33.766Z"
   },
   {
    "duration": 9,
    "start_time": "2022-05-18T14:15:33.773Z"
   },
   {
    "duration": 6,
    "start_time": "2022-05-18T14:15:33.783Z"
   },
   {
    "duration": 10,
    "start_time": "2022-05-18T14:15:33.791Z"
   },
   {
    "duration": 13,
    "start_time": "2022-05-18T14:15:33.802Z"
   },
   {
    "duration": 54,
    "start_time": "2022-05-18T14:15:33.816Z"
   },
   {
    "duration": 20,
    "start_time": "2022-05-18T14:15:33.872Z"
   },
   {
    "duration": 33,
    "start_time": "2022-05-18T14:15:33.894Z"
   },
   {
    "duration": 40,
    "start_time": "2022-05-18T14:15:33.928Z"
   },
   {
    "duration": 10,
    "start_time": "2022-05-18T14:15:33.970Z"
   },
   {
    "duration": 18,
    "start_time": "2022-05-18T14:15:33.982Z"
   },
   {
    "duration": 170,
    "start_time": "2022-05-18T14:15:34.001Z"
   },
   {
    "duration": 9,
    "start_time": "2022-05-18T14:15:34.173Z"
   },
   {
    "duration": 123,
    "start_time": "2022-05-18T14:15:34.184Z"
   },
   {
    "duration": 119,
    "start_time": "2022-05-18T14:15:35.623Z"
   },
   {
    "duration": 11,
    "start_time": "2022-05-18T14:16:38.576Z"
   },
   {
    "duration": 11,
    "start_time": "2022-05-18T14:17:24.887Z"
   },
   {
    "duration": 116,
    "start_time": "2022-05-18T14:17:29.162Z"
   },
   {
    "duration": 39,
    "start_time": "2022-05-18T14:19:12.864Z"
   },
   {
    "duration": 27,
    "start_time": "2022-05-18T14:21:24.259Z"
   },
   {
    "duration": 72,
    "start_time": "2022-05-18T14:21:58.220Z"
   },
   {
    "duration": 12,
    "start_time": "2022-05-18T14:21:58.293Z"
   },
   {
    "duration": 14,
    "start_time": "2022-05-18T14:21:58.307Z"
   },
   {
    "duration": 37,
    "start_time": "2022-05-18T14:21:58.323Z"
   },
   {
    "duration": 13,
    "start_time": "2022-05-18T14:21:58.361Z"
   },
   {
    "duration": 6,
    "start_time": "2022-05-18T14:21:58.375Z"
   },
   {
    "duration": 9,
    "start_time": "2022-05-18T14:21:58.383Z"
   },
   {
    "duration": 5,
    "start_time": "2022-05-18T14:21:58.393Z"
   },
   {
    "duration": 11,
    "start_time": "2022-05-18T14:21:58.399Z"
   },
   {
    "duration": 5,
    "start_time": "2022-05-18T14:21:58.413Z"
   },
   {
    "duration": 42,
    "start_time": "2022-05-18T14:21:58.419Z"
   },
   {
    "duration": 6,
    "start_time": "2022-05-18T14:21:58.463Z"
   },
   {
    "duration": 8,
    "start_time": "2022-05-18T14:21:58.471Z"
   },
   {
    "duration": 7,
    "start_time": "2022-05-18T14:21:58.481Z"
   },
   {
    "duration": 14,
    "start_time": "2022-05-18T14:21:58.489Z"
   },
   {
    "duration": 13,
    "start_time": "2022-05-18T14:21:58.504Z"
   },
   {
    "duration": 12,
    "start_time": "2022-05-18T14:21:58.519Z"
   },
   {
    "duration": 27,
    "start_time": "2022-05-18T14:21:58.532Z"
   },
   {
    "duration": 7,
    "start_time": "2022-05-18T14:21:58.560Z"
   },
   {
    "duration": 18,
    "start_time": "2022-05-18T14:21:58.568Z"
   },
   {
    "duration": 11,
    "start_time": "2022-05-18T14:21:58.587Z"
   },
   {
    "duration": 12,
    "start_time": "2022-05-18T14:21:58.600Z"
   },
   {
    "duration": 5,
    "start_time": "2022-05-18T14:21:58.613Z"
   },
   {
    "duration": 5,
    "start_time": "2022-05-18T14:21:58.620Z"
   },
   {
    "duration": 10,
    "start_time": "2022-05-18T14:21:58.626Z"
   },
   {
    "duration": 22,
    "start_time": "2022-05-18T14:21:58.638Z"
   },
   {
    "duration": 9,
    "start_time": "2022-05-18T14:21:58.662Z"
   },
   {
    "duration": 22,
    "start_time": "2022-05-18T14:21:58.674Z"
   },
   {
    "duration": 24,
    "start_time": "2022-05-18T14:21:58.698Z"
   },
   {
    "duration": 38,
    "start_time": "2022-05-18T14:21:58.724Z"
   },
   {
    "duration": 37,
    "start_time": "2022-05-18T14:21:58.764Z"
   },
   {
    "duration": 19,
    "start_time": "2022-05-18T14:21:58.803Z"
   },
   {
    "duration": 11,
    "start_time": "2022-05-18T14:21:58.823Z"
   },
   {
    "duration": 18,
    "start_time": "2022-05-18T14:21:58.859Z"
   },
   {
    "duration": 160,
    "start_time": "2022-05-18T14:21:58.879Z"
   },
   {
    "duration": 18,
    "start_time": "2022-05-18T14:21:59.041Z"
   },
   {
    "duration": 121,
    "start_time": "2022-05-18T14:21:59.061Z"
   },
   {
    "duration": 25,
    "start_time": "2022-05-18T14:22:02.676Z"
   },
   {
    "duration": 12,
    "start_time": "2022-05-18T14:24:21.931Z"
   },
   {
    "duration": 9,
    "start_time": "2022-05-18T14:26:13.337Z"
   },
   {
    "duration": 14,
    "start_time": "2022-05-18T14:26:19.148Z"
   },
   {
    "duration": 14,
    "start_time": "2022-05-18T14:27:09.088Z"
   },
   {
    "duration": 22,
    "start_time": "2022-05-18T14:28:00.020Z"
   },
   {
    "duration": 157,
    "start_time": "2022-05-18T14:28:37.565Z"
   },
   {
    "duration": 143,
    "start_time": "2022-05-18T14:29:12.651Z"
   },
   {
    "duration": 14,
    "start_time": "2022-05-18T15:32:59.333Z"
   },
   {
    "duration": 71,
    "start_time": "2022-05-18T15:33:57.908Z"
   },
   {
    "duration": 13,
    "start_time": "2022-05-18T15:33:57.981Z"
   },
   {
    "duration": 15,
    "start_time": "2022-05-18T15:33:57.996Z"
   },
   {
    "duration": 23,
    "start_time": "2022-05-18T15:33:58.013Z"
   },
   {
    "duration": 21,
    "start_time": "2022-05-18T15:33:58.039Z"
   },
   {
    "duration": 8,
    "start_time": "2022-05-18T15:33:58.062Z"
   },
   {
    "duration": 12,
    "start_time": "2022-05-18T15:33:58.072Z"
   },
   {
    "duration": 5,
    "start_time": "2022-05-18T15:33:58.086Z"
   },
   {
    "duration": 12,
    "start_time": "2022-05-18T15:33:58.092Z"
   },
   {
    "duration": 10,
    "start_time": "2022-05-18T15:33:58.106Z"
   },
   {
    "duration": 14,
    "start_time": "2022-05-18T15:33:58.118Z"
   },
   {
    "duration": 27,
    "start_time": "2022-05-18T15:33:58.133Z"
   },
   {
    "duration": 6,
    "start_time": "2022-05-18T15:33:58.161Z"
   },
   {
    "duration": 14,
    "start_time": "2022-05-18T15:33:58.169Z"
   },
   {
    "duration": 18,
    "start_time": "2022-05-18T15:33:58.185Z"
   },
   {
    "duration": 3,
    "start_time": "2022-05-18T15:33:58.205Z"
   },
   {
    "duration": 8,
    "start_time": "2022-05-18T15:33:58.210Z"
   },
   {
    "duration": 9,
    "start_time": "2022-05-18T15:33:58.219Z"
   },
   {
    "duration": 9,
    "start_time": "2022-05-18T15:33:58.230Z"
   },
   {
    "duration": 7,
    "start_time": "2022-05-18T15:33:58.259Z"
   },
   {
    "duration": 9,
    "start_time": "2022-05-18T15:33:58.268Z"
   },
   {
    "duration": 10,
    "start_time": "2022-05-18T15:33:58.278Z"
   },
   {
    "duration": 7,
    "start_time": "2022-05-18T15:33:58.290Z"
   },
   {
    "duration": 6,
    "start_time": "2022-05-18T15:33:58.298Z"
   },
   {
    "duration": 8,
    "start_time": "2022-05-18T15:33:58.307Z"
   },
   {
    "duration": 5,
    "start_time": "2022-05-18T15:33:58.316Z"
   },
   {
    "duration": 41,
    "start_time": "2022-05-18T15:33:58.323Z"
   },
   {
    "duration": 14,
    "start_time": "2022-05-18T15:33:58.366Z"
   },
   {
    "duration": 18,
    "start_time": "2022-05-18T15:33:58.381Z"
   },
   {
    "duration": 17,
    "start_time": "2022-05-18T15:33:58.401Z"
   },
   {
    "duration": 61,
    "start_time": "2022-05-18T15:33:58.420Z"
   },
   {
    "duration": 20,
    "start_time": "2022-05-18T15:33:58.482Z"
   },
   {
    "duration": 12,
    "start_time": "2022-05-18T15:33:58.503Z"
   },
   {
    "duration": 42,
    "start_time": "2022-05-18T15:33:58.516Z"
   },
   {
    "duration": 161,
    "start_time": "2022-05-18T15:33:58.560Z"
   },
   {
    "duration": 10,
    "start_time": "2022-05-18T15:33:58.722Z"
   },
   {
    "duration": 136,
    "start_time": "2022-05-18T15:33:58.734Z"
   },
   {
    "duration": 13,
    "start_time": "2022-05-18T15:33:58.872Z"
   },
   {
    "duration": 130,
    "start_time": "2022-05-18T15:33:58.887Z"
   },
   {
    "duration": 10,
    "start_time": "2022-05-18T15:43:51.249Z"
   },
   {
    "duration": 13,
    "start_time": "2022-05-18T15:43:59.676Z"
   },
   {
    "duration": 102,
    "start_time": "2022-05-18T15:45:52.284Z"
   },
   {
    "duration": 12,
    "start_time": "2022-05-18T15:47:03.895Z"
   },
   {
    "duration": 102,
    "start_time": "2022-05-18T15:47:04.513Z"
   },
   {
    "duration": 100,
    "start_time": "2022-05-18T15:47:27.873Z"
   },
   {
    "duration": 21,
    "start_time": "2022-05-18T15:52:23.956Z"
   },
   {
    "duration": 11,
    "start_time": "2022-05-18T15:53:41.384Z"
   },
   {
    "duration": 20,
    "start_time": "2022-05-18T15:53:56.234Z"
   },
   {
    "duration": 117,
    "start_time": "2022-05-18T15:54:15.949Z"
   },
   {
    "duration": 575,
    "start_time": "2022-05-18T15:54:59.379Z"
   },
   {
    "duration": 527,
    "start_time": "2022-05-18T15:55:20.264Z"
   },
   {
    "duration": 19,
    "start_time": "2022-05-18T16:00:43.203Z"
   },
   {
    "duration": 20,
    "start_time": "2022-05-18T16:02:10.106Z"
   },
   {
    "duration": 21,
    "start_time": "2022-05-18T16:02:21.491Z"
   },
   {
    "duration": 24,
    "start_time": "2022-05-18T16:02:47.168Z"
   },
   {
    "duration": 13,
    "start_time": "2022-05-18T16:03:07.449Z"
   },
   {
    "duration": 13,
    "start_time": "2022-05-18T16:03:25.388Z"
   },
   {
    "duration": 21,
    "start_time": "2022-05-18T16:04:31.926Z"
   },
   {
    "duration": 239,
    "start_time": "2022-05-18T16:05:14.746Z"
   },
   {
    "duration": 8,
    "start_time": "2022-05-18T16:05:37.783Z"
   },
   {
    "duration": 36,
    "start_time": "2022-05-18T16:06:02.455Z"
   },
   {
    "duration": 9,
    "start_time": "2022-05-18T16:06:09.935Z"
   },
   {
    "duration": 76,
    "start_time": "2022-05-18T16:06:18.782Z"
   },
   {
    "duration": 14,
    "start_time": "2022-05-18T16:06:18.860Z"
   },
   {
    "duration": 16,
    "start_time": "2022-05-18T16:06:18.875Z"
   },
   {
    "duration": 14,
    "start_time": "2022-05-18T16:06:18.893Z"
   },
   {
    "duration": 12,
    "start_time": "2022-05-18T16:06:18.909Z"
   },
   {
    "duration": 36,
    "start_time": "2022-05-18T16:06:18.923Z"
   },
   {
    "duration": 9,
    "start_time": "2022-05-18T16:06:18.960Z"
   },
   {
    "duration": 6,
    "start_time": "2022-05-18T16:06:18.971Z"
   },
   {
    "duration": 9,
    "start_time": "2022-05-18T16:06:18.979Z"
   },
   {
    "duration": 7,
    "start_time": "2022-05-18T16:06:18.990Z"
   },
   {
    "duration": 12,
    "start_time": "2022-05-18T16:06:18.999Z"
   },
   {
    "duration": 7,
    "start_time": "2022-05-18T16:06:19.012Z"
   },
   {
    "duration": 7,
    "start_time": "2022-05-18T16:06:19.059Z"
   },
   {
    "duration": 10,
    "start_time": "2022-05-18T16:06:19.070Z"
   },
   {
    "duration": 15,
    "start_time": "2022-05-18T16:06:19.081Z"
   },
   {
    "duration": 3,
    "start_time": "2022-05-18T16:06:19.098Z"
   },
   {
    "duration": 11,
    "start_time": "2022-05-18T16:06:19.103Z"
   },
   {
    "duration": 8,
    "start_time": "2022-05-18T16:06:19.116Z"
   },
   {
    "duration": 34,
    "start_time": "2022-05-18T16:06:19.126Z"
   },
   {
    "duration": 7,
    "start_time": "2022-05-18T16:06:19.161Z"
   },
   {
    "duration": 6,
    "start_time": "2022-05-18T16:06:19.169Z"
   },
   {
    "duration": 11,
    "start_time": "2022-05-18T16:06:19.176Z"
   },
   {
    "duration": 6,
    "start_time": "2022-05-18T16:06:19.188Z"
   },
   {
    "duration": 8,
    "start_time": "2022-05-18T16:06:19.196Z"
   },
   {
    "duration": 13,
    "start_time": "2022-05-18T16:06:19.205Z"
   },
   {
    "duration": 40,
    "start_time": "2022-05-18T16:06:19.220Z"
   },
   {
    "duration": 10,
    "start_time": "2022-05-18T16:06:19.261Z"
   },
   {
    "duration": 15,
    "start_time": "2022-05-18T16:06:19.273Z"
   },
   {
    "duration": 21,
    "start_time": "2022-05-18T16:06:19.290Z"
   },
   {
    "duration": 51,
    "start_time": "2022-05-18T16:06:19.313Z"
   },
   {
    "duration": 36,
    "start_time": "2022-05-18T16:06:19.365Z"
   },
   {
    "duration": 19,
    "start_time": "2022-05-18T16:06:19.403Z"
   },
   {
    "duration": 12,
    "start_time": "2022-05-18T16:06:19.424Z"
   },
   {
    "duration": 18,
    "start_time": "2022-05-18T16:06:19.458Z"
   },
   {
    "duration": 161,
    "start_time": "2022-05-18T16:06:19.478Z"
   },
   {
    "duration": 18,
    "start_time": "2022-05-18T16:06:19.641Z"
   },
   {
    "duration": 122,
    "start_time": "2022-05-18T16:06:19.661Z"
   },
   {
    "duration": 14,
    "start_time": "2022-05-18T16:06:19.784Z"
   },
   {
    "duration": 134,
    "start_time": "2022-05-18T16:06:19.800Z"
   },
   {
    "duration": 28,
    "start_time": "2022-05-18T16:06:19.935Z"
   },
   {
    "duration": 111,
    "start_time": "2022-05-18T16:06:19.966Z"
   },
   {
    "duration": 9,
    "start_time": "2022-05-18T16:06:23.034Z"
   },
   {
    "duration": 110,
    "start_time": "2022-05-18T16:06:24.317Z"
   },
   {
    "duration": 13,
    "start_time": "2022-05-18T16:06:36.425Z"
   },
   {
    "duration": 142,
    "start_time": "2022-05-18T16:07:17.110Z"
   },
   {
    "duration": 14,
    "start_time": "2022-05-18T16:08:14.813Z"
   },
   {
    "duration": 110,
    "start_time": "2022-05-18T16:08:19.003Z"
   },
   {
    "duration": 113,
    "start_time": "2022-05-18T16:08:36.436Z"
   },
   {
    "duration": 20,
    "start_time": "2022-05-18T16:08:48.987Z"
   },
   {
    "duration": 20,
    "start_time": "2022-05-18T16:09:38.482Z"
   },
   {
    "duration": 21,
    "start_time": "2022-05-18T16:09:44.646Z"
   },
   {
    "duration": 20,
    "start_time": "2022-05-18T16:10:14.011Z"
   },
   {
    "duration": 11,
    "start_time": "2022-05-18T16:17:45.913Z"
   },
   {
    "duration": 85,
    "start_time": "2022-05-18T16:18:28.696Z"
   },
   {
    "duration": 12,
    "start_time": "2022-05-18T16:18:28.783Z"
   },
   {
    "duration": 14,
    "start_time": "2022-05-18T16:18:28.796Z"
   },
   {
    "duration": 12,
    "start_time": "2022-05-18T16:18:28.812Z"
   },
   {
    "duration": 50,
    "start_time": "2022-05-18T16:18:28.826Z"
   },
   {
    "duration": 8,
    "start_time": "2022-05-18T16:18:28.877Z"
   },
   {
    "duration": 10,
    "start_time": "2022-05-18T16:18:28.887Z"
   },
   {
    "duration": 5,
    "start_time": "2022-05-18T16:18:28.899Z"
   },
   {
    "duration": 11,
    "start_time": "2022-05-18T16:18:28.905Z"
   },
   {
    "duration": 5,
    "start_time": "2022-05-18T16:18:28.917Z"
   },
   {
    "duration": 47,
    "start_time": "2022-05-18T16:18:28.923Z"
   },
   {
    "duration": 13,
    "start_time": "2022-05-18T16:18:28.972Z"
   },
   {
    "duration": 6,
    "start_time": "2022-05-18T16:18:28.987Z"
   },
   {
    "duration": 6,
    "start_time": "2022-05-18T16:18:28.996Z"
   },
   {
    "duration": 14,
    "start_time": "2022-05-18T16:18:29.004Z"
   },
   {
    "duration": 4,
    "start_time": "2022-05-18T16:18:29.019Z"
   },
   {
    "duration": 39,
    "start_time": "2022-05-18T16:18:29.025Z"
   },
   {
    "duration": 20,
    "start_time": "2022-05-18T16:18:29.066Z"
   },
   {
    "duration": 17,
    "start_time": "2022-05-18T16:18:29.088Z"
   },
   {
    "duration": 13,
    "start_time": "2022-05-18T16:18:29.107Z"
   },
   {
    "duration": 6,
    "start_time": "2022-05-18T16:18:29.122Z"
   },
   {
    "duration": 9,
    "start_time": "2022-05-18T16:18:29.130Z"
   },
   {
    "duration": 20,
    "start_time": "2022-05-18T16:18:29.141Z"
   },
   {
    "duration": 8,
    "start_time": "2022-05-18T16:18:29.163Z"
   },
   {
    "duration": 14,
    "start_time": "2022-05-18T16:18:29.174Z"
   },
   {
    "duration": 5,
    "start_time": "2022-05-18T16:18:29.190Z"
   },
   {
    "duration": 15,
    "start_time": "2022-05-18T16:18:29.197Z"
   },
   {
    "duration": 13,
    "start_time": "2022-05-18T16:18:29.214Z"
   },
   {
    "duration": 53,
    "start_time": "2022-05-18T16:18:29.229Z"
   },
   {
    "duration": 17,
    "start_time": "2022-05-18T16:18:29.284Z"
   },
   {
    "duration": 31,
    "start_time": "2022-05-18T16:18:29.303Z"
   },
   {
    "duration": 47,
    "start_time": "2022-05-18T16:18:29.336Z"
   },
   {
    "duration": 12,
    "start_time": "2022-05-18T16:18:29.385Z"
   },
   {
    "duration": 18,
    "start_time": "2022-05-18T16:18:29.399Z"
   },
   {
    "duration": 198,
    "start_time": "2022-05-18T16:18:29.419Z"
   },
   {
    "duration": 12,
    "start_time": "2022-05-18T16:18:29.619Z"
   },
   {
    "duration": 162,
    "start_time": "2022-05-18T16:18:29.633Z"
   },
   {
    "duration": 15,
    "start_time": "2022-05-18T16:18:29.797Z"
   },
   {
    "duration": 146,
    "start_time": "2022-05-18T16:18:29.813Z"
   },
   {
    "duration": 19,
    "start_time": "2022-05-18T16:18:29.961Z"
   },
   {
    "duration": 132,
    "start_time": "2022-05-18T16:18:29.983Z"
   },
   {
    "duration": 12,
    "start_time": "2022-05-18T16:18:30.116Z"
   },
   {
    "duration": 131,
    "start_time": "2022-05-18T16:18:30.130Z"
   },
   {
    "duration": 24,
    "start_time": "2022-05-18T16:18:30.263Z"
   },
   {
    "duration": 8,
    "start_time": "2022-05-18T16:52:34.190Z"
   },
   {
    "duration": 72,
    "start_time": "2022-05-18T17:09:28.204Z"
   },
   {
    "duration": 13,
    "start_time": "2022-05-18T17:09:28.278Z"
   },
   {
    "duration": 13,
    "start_time": "2022-05-18T17:09:28.292Z"
   },
   {
    "duration": 13,
    "start_time": "2022-05-18T17:09:28.307Z"
   },
   {
    "duration": 14,
    "start_time": "2022-05-18T17:09:28.322Z"
   },
   {
    "duration": 6,
    "start_time": "2022-05-18T17:09:28.337Z"
   },
   {
    "duration": 15,
    "start_time": "2022-05-18T17:09:28.344Z"
   },
   {
    "duration": 5,
    "start_time": "2022-05-18T17:09:28.361Z"
   },
   {
    "duration": 8,
    "start_time": "2022-05-18T17:09:28.368Z"
   },
   {
    "duration": 4,
    "start_time": "2022-05-18T17:09:28.378Z"
   },
   {
    "duration": 8,
    "start_time": "2022-05-18T17:09:28.384Z"
   },
   {
    "duration": 7,
    "start_time": "2022-05-18T17:09:28.394Z"
   },
   {
    "duration": 20,
    "start_time": "2022-05-18T17:09:28.402Z"
   },
   {
    "duration": 5,
    "start_time": "2022-05-18T17:09:28.425Z"
   },
   {
    "duration": 14,
    "start_time": "2022-05-18T17:09:28.431Z"
   },
   {
    "duration": 3,
    "start_time": "2022-05-18T17:09:28.446Z"
   },
   {
    "duration": 9,
    "start_time": "2022-05-18T17:09:28.451Z"
   },
   {
    "duration": 9,
    "start_time": "2022-05-18T17:09:28.462Z"
   },
   {
    "duration": 10,
    "start_time": "2022-05-18T17:09:28.473Z"
   },
   {
    "duration": 8,
    "start_time": "2022-05-18T17:09:28.485Z"
   },
   {
    "duration": 4,
    "start_time": "2022-05-18T17:09:28.495Z"
   },
   {
    "duration": 14,
    "start_time": "2022-05-18T17:09:28.500Z"
   },
   {
    "duration": 10,
    "start_time": "2022-05-18T17:09:28.515Z"
   },
   {
    "duration": 5,
    "start_time": "2022-05-18T17:09:28.526Z"
   },
   {
    "duration": 8,
    "start_time": "2022-05-18T17:09:28.533Z"
   },
   {
    "duration": 7,
    "start_time": "2022-05-18T17:09:28.543Z"
   },
   {
    "duration": 8,
    "start_time": "2022-05-18T17:09:28.552Z"
   },
   {
    "duration": 12,
    "start_time": "2022-05-18T17:09:28.562Z"
   },
   {
    "duration": 18,
    "start_time": "2022-05-18T17:09:28.576Z"
   },
   {
    "duration": 16,
    "start_time": "2022-05-18T17:09:28.595Z"
   },
   {
    "duration": 31,
    "start_time": "2022-05-18T17:09:28.613Z"
   },
   {
    "duration": 27,
    "start_time": "2022-05-18T17:09:28.646Z"
   },
   {
    "duration": 11,
    "start_time": "2022-05-18T17:09:28.674Z"
   },
   {
    "duration": 23,
    "start_time": "2022-05-18T17:09:28.686Z"
   },
   {
    "duration": 153,
    "start_time": "2022-05-18T17:09:28.711Z"
   },
   {
    "duration": 10,
    "start_time": "2022-05-18T17:09:28.866Z"
   },
   {
    "duration": 122,
    "start_time": "2022-05-18T17:09:28.878Z"
   },
   {
    "duration": 14,
    "start_time": "2022-05-18T17:09:29.001Z"
   },
   {
    "duration": 126,
    "start_time": "2022-05-18T17:09:29.017Z"
   },
   {
    "duration": 14,
    "start_time": "2022-05-18T17:09:29.145Z"
   },
   {
    "duration": 220,
    "start_time": "2022-05-18T17:09:29.163Z"
   },
   {
    "duration": 13,
    "start_time": "2022-05-18T17:09:29.384Z"
   },
   {
    "duration": 113,
    "start_time": "2022-05-18T17:09:29.399Z"
   },
   {
    "duration": 21,
    "start_time": "2022-05-18T17:09:29.513Z"
   },
   {
    "duration": 509,
    "start_time": "2022-05-19T06:57:42.925Z"
   },
   {
    "duration": 23,
    "start_time": "2022-05-19T06:57:43.436Z"
   },
   {
    "duration": 32,
    "start_time": "2022-05-19T06:57:43.461Z"
   },
   {
    "duration": 25,
    "start_time": "2022-05-19T06:57:43.497Z"
   },
   {
    "duration": 26,
    "start_time": "2022-05-19T06:57:43.526Z"
   },
   {
    "duration": 33,
    "start_time": "2022-05-19T06:57:43.555Z"
   },
   {
    "duration": 9,
    "start_time": "2022-05-19T06:57:43.590Z"
   },
   {
    "duration": 7,
    "start_time": "2022-05-19T06:57:43.600Z"
   },
   {
    "duration": 11,
    "start_time": "2022-05-19T06:57:43.609Z"
   },
   {
    "duration": 7,
    "start_time": "2022-05-19T06:57:43.622Z"
   },
   {
    "duration": 11,
    "start_time": "2022-05-19T06:57:43.631Z"
   },
   {
    "duration": 43,
    "start_time": "2022-05-19T06:57:43.644Z"
   },
   {
    "duration": 11,
    "start_time": "2022-05-19T06:57:43.690Z"
   },
   {
    "duration": 9,
    "start_time": "2022-05-19T06:57:43.704Z"
   },
   {
    "duration": 29,
    "start_time": "2022-05-19T06:57:43.716Z"
   },
   {
    "duration": 36,
    "start_time": "2022-05-19T06:57:43.748Z"
   },
   {
    "duration": 8,
    "start_time": "2022-05-19T06:57:43.787Z"
   },
   {
    "duration": 15,
    "start_time": "2022-05-19T06:57:43.797Z"
   },
   {
    "duration": 12,
    "start_time": "2022-05-19T06:57:43.816Z"
   },
   {
    "duration": 15,
    "start_time": "2022-05-19T06:57:43.829Z"
   },
   {
    "duration": 40,
    "start_time": "2022-05-19T06:57:43.846Z"
   },
   {
    "duration": 10,
    "start_time": "2022-05-19T06:57:43.889Z"
   },
   {
    "duration": 5,
    "start_time": "2022-05-19T06:57:43.901Z"
   },
   {
    "duration": 6,
    "start_time": "2022-05-19T06:57:43.908Z"
   },
   {
    "duration": 14,
    "start_time": "2022-05-19T06:57:43.916Z"
   },
   {
    "duration": 53,
    "start_time": "2022-05-19T06:57:43.932Z"
   },
   {
    "duration": 12,
    "start_time": "2022-05-19T06:57:43.987Z"
   },
   {
    "duration": 23,
    "start_time": "2022-05-19T06:57:44.004Z"
   },
   {
    "duration": 24,
    "start_time": "2022-05-19T06:57:44.029Z"
   },
   {
    "duration": 21,
    "start_time": "2022-05-19T06:57:44.084Z"
   },
   {
    "duration": 45,
    "start_time": "2022-05-19T06:57:44.107Z"
   },
   {
    "duration": 56,
    "start_time": "2022-05-19T06:57:44.156Z"
   },
   {
    "duration": 24,
    "start_time": "2022-05-19T06:57:44.214Z"
   },
   {
    "duration": 48,
    "start_time": "2022-05-19T06:57:44.240Z"
   },
   {
    "duration": 176,
    "start_time": "2022-05-19T06:57:44.291Z"
   },
   {
    "duration": 21,
    "start_time": "2022-05-19T06:57:44.469Z"
   },
   {
    "duration": 872,
    "start_time": "2022-05-19T06:57:44.491Z"
   },
   {
    "duration": 34,
    "start_time": "2022-05-19T06:57:45.365Z"
   },
   {
    "duration": 230,
    "start_time": "2022-05-19T06:57:45.402Z"
   },
   {
    "duration": 14,
    "start_time": "2022-05-19T06:57:45.634Z"
   },
   {
    "duration": 157,
    "start_time": "2022-05-19T06:57:45.649Z"
   },
   {
    "duration": 17,
    "start_time": "2022-05-19T06:57:45.808Z"
   },
   {
    "duration": 145,
    "start_time": "2022-05-19T06:57:45.826Z"
   },
   {
    "duration": 31,
    "start_time": "2022-05-19T06:57:45.974Z"
   },
   {
    "duration": 633,
    "start_time": "2022-05-19T07:00:41.262Z"
   },
   {
    "duration": 25,
    "start_time": "2022-05-19T07:00:41.898Z"
   },
   {
    "duration": 13,
    "start_time": "2022-05-19T07:00:41.925Z"
   },
   {
    "duration": 49,
    "start_time": "2022-05-19T07:00:41.942Z"
   },
   {
    "duration": 28,
    "start_time": "2022-05-19T07:00:41.994Z"
   },
   {
    "duration": 13,
    "start_time": "2022-05-19T07:00:42.024Z"
   },
   {
    "duration": 45,
    "start_time": "2022-05-19T07:00:42.040Z"
   },
   {
    "duration": 17,
    "start_time": "2022-05-19T07:00:42.088Z"
   },
   {
    "duration": 4,
    "start_time": "2022-05-19T07:00:42.107Z"
   },
   {
    "duration": 21,
    "start_time": "2022-05-19T07:00:42.115Z"
   },
   {
    "duration": 20,
    "start_time": "2022-05-19T07:00:42.138Z"
   },
   {
    "duration": 36,
    "start_time": "2022-05-19T07:00:42.161Z"
   },
   {
    "duration": 15,
    "start_time": "2022-05-19T07:00:42.200Z"
   },
   {
    "duration": 9,
    "start_time": "2022-05-19T07:00:42.218Z"
   },
   {
    "duration": 8,
    "start_time": "2022-05-19T07:00:42.230Z"
   },
   {
    "duration": 51,
    "start_time": "2022-05-19T07:00:42.241Z"
   },
   {
    "duration": 5,
    "start_time": "2022-05-19T07:00:42.294Z"
   },
   {
    "duration": 15,
    "start_time": "2022-05-19T07:00:42.301Z"
   },
   {
    "duration": 10,
    "start_time": "2022-05-19T07:00:42.319Z"
   },
   {
    "duration": 52,
    "start_time": "2022-05-19T07:00:42.332Z"
   },
   {
    "duration": 12,
    "start_time": "2022-05-19T07:00:42.387Z"
   },
   {
    "duration": 11,
    "start_time": "2022-05-19T07:00:42.402Z"
   },
   {
    "duration": 14,
    "start_time": "2022-05-19T07:00:42.416Z"
   },
   {
    "duration": 52,
    "start_time": "2022-05-19T07:00:42.432Z"
   },
   {
    "duration": 7,
    "start_time": "2022-05-19T07:00:42.487Z"
   },
   {
    "duration": 22,
    "start_time": "2022-05-19T07:00:42.496Z"
   },
   {
    "duration": 8,
    "start_time": "2022-05-19T07:00:42.520Z"
   },
   {
    "duration": 55,
    "start_time": "2022-05-19T07:00:42.538Z"
   },
   {
    "duration": 28,
    "start_time": "2022-05-19T07:00:42.596Z"
   },
   {
    "duration": 31,
    "start_time": "2022-05-19T07:00:42.630Z"
   },
   {
    "duration": 31,
    "start_time": "2022-05-19T07:00:42.685Z"
   },
   {
    "duration": 84,
    "start_time": "2022-05-19T07:00:42.718Z"
   },
   {
    "duration": 42,
    "start_time": "2022-05-19T07:00:42.804Z"
   },
   {
    "duration": 34,
    "start_time": "2022-05-19T07:00:42.849Z"
   },
   {
    "duration": 30,
    "start_time": "2022-05-19T07:00:42.891Z"
   },
   {
    "duration": 210,
    "start_time": "2022-05-19T07:00:42.924Z"
   },
   {
    "duration": 14,
    "start_time": "2022-05-19T07:00:43.137Z"
   },
   {
    "duration": 1088,
    "start_time": "2022-05-19T07:00:43.153Z"
   },
   {
    "duration": 18,
    "start_time": "2022-05-19T07:00:44.244Z"
   },
   {
    "duration": 244,
    "start_time": "2022-05-19T07:00:44.264Z"
   },
   {
    "duration": 17,
    "start_time": "2022-05-19T07:00:44.510Z"
   },
   {
    "duration": 156,
    "start_time": "2022-05-19T07:00:44.530Z"
   },
   {
    "duration": 16,
    "start_time": "2022-05-19T07:00:44.687Z"
   },
   {
    "duration": 151,
    "start_time": "2022-05-19T07:00:44.705Z"
   },
   {
    "duration": 43,
    "start_time": "2022-05-19T07:00:44.858Z"
   },
   {
    "duration": 63,
    "start_time": "2022-06-01T15:06:54.242Z"
   }
  ],
  "kernelspec": {
   "display_name": "Python 3 (ipykernel)",
   "language": "python",
   "name": "python3"
  },
  "language_info": {
   "codemirror_mode": {
    "name": "ipython",
    "version": 3
   },
   "file_extension": ".py",
   "mimetype": "text/x-python",
   "name": "python",
   "nbconvert_exporter": "python",
   "pygments_lexer": "ipython3",
   "version": "3.9.7"
  },
  "toc": {
   "base_numbering": 1,
   "nav_menu": {},
   "number_sections": true,
   "sideBar": true,
   "skip_h1_title": true,
   "title_cell": "Table of Contents",
   "title_sidebar": "Contents",
   "toc_cell": false,
   "toc_position": {},
   "toc_section_display": true,
   "toc_window_display": false
  }
 },
 "nbformat": 4,
 "nbformat_minor": 5
}
